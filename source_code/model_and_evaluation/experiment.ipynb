{
 "cells": [
  {
   "cell_type": "code",
   "execution_count": null,
   "id": "9d077721",
   "metadata": {},
   "outputs": [],
   "source": []
  },
  {
   "cell_type": "code",
   "execution_count": null,
   "id": "d526c660",
   "metadata": {},
   "outputs": [],
   "source": []
  },
  {
   "cell_type": "code",
   "execution_count": 50,
   "id": "4320538e",
   "metadata": {},
   "outputs": [
    {
     "name": "stdout",
     "output_type": "stream",
     "text": [
      "JJ\n",
      "NNS\n",
      "VBD\n",
      "('be',)\n",
      "RB\n",
      "JJ\n"
     ]
    }
   ],
   "source": [
    "from lemminflect import getLemma\n",
    "import spacy, os\n",
    "\n",
    "en_spacy = spacy.load(\"en_core_web_sm\")\n",
    "\n",
    "sent = \"new batteries were already dead\"\n",
    "\n",
    "for word in en_spacy(sent):\n",
    "    print(word.tag_)\n",
    "    if word.tag_ == \"VBD\" or word.tag_ == \"VBN\" or word.tag_ == \"MD\":\n",
    "        print(getLemma(word.text, upos=\"VERB\"))"
   ]
  },
  {
   "cell_type": "code",
   "execution_count": 47,
   "id": "eebfbbd9",
   "metadata": {},
   "outputs": [
    {
     "name": "stdout",
     "output_type": "stream",
     "text": [
      "DT\n",
      "NN\n",
      "NN\n",
      "NN\n",
      "VBD\n",
      "('have',)\n",
      "VBN\n",
      "('fall',)\n",
      "RP\n"
     ]
    }
   ],
   "source": [
    "from lemminflect import getLemma\n",
    "import spacy, os\n",
    "\n",
    "en_spacy = spacy.load(\"en_core_web_sm\")\n",
    "\n",
    "input_folder = \"\"\n",
    "output_folder = \"\"\n",
    "\n",
    "for file in os.listdir(input_folder):\n",
    "    with open(os.path.join(output_folder, file), \"w\") as out_f:\n",
    "        with open(os.path.join(input_folder, file), \"r\") as in_f:\n",
    "            for line in in_f:\n",
    "                word_list = []\n",
    "                try:\n",
    "                    for token in en_spacy(line.strip()):\n",
    "                        if token.tag_ == \"VBD\" or \\\n",
    "                            token.tag_ == \"VBN\" or \\\n",
    "                            token.tag_ == \"MD\":\n",
    "                            word_list.append(getLemma(word.text, upos=\"VERB\"))\n",
    "                        else:\n",
    "                            word_list.append(token.text)\n",
    "                except:\n",
    "                    continue\n",
    "            \n",
    "            out_f.write(\" \".join(word_list)+\"\\n\")"
   ]
  },
  {
   "cell_type": "code",
   "execution_count": null,
   "id": "1e756e92",
   "metadata": {},
   "outputs": [],
   "source": []
  },
  {
   "cell_type": "code",
   "execution_count": 46,
   "id": "480fe6ec",
   "metadata": {},
   "outputs": [],
   "source": []
  },
  {
   "cell_type": "code",
   "execution_count": 6,
   "id": "206b6a96",
   "metadata": {},
   "outputs": [],
   "source": []
  },
  {
   "cell_type": "code",
   "execution_count": 48,
   "id": "96a8ff54",
   "metadata": {},
   "outputs": [],
   "source": []
  },
  {
   "cell_type": "markdown",
   "id": "f1c3e07b",
   "metadata": {},
   "source": [
    "# Experiment with LemmInflect, converting word into base form."
   ]
  },
  {
   "cell_type": "code",
   "execution_count": 12,
   "id": "56321583",
   "metadata": {},
   "outputs": [
    {
     "data": {
      "text/html": [
       "<br/>Waiting for W&B process to finish, PID 3649... <strong style=\"color:green\">(success).</strong>"
      ],
      "text/plain": [
       "<IPython.core.display.HTML object>"
      ]
     },
     "metadata": {},
     "output_type": "display_data"
    },
    {
     "data": {
      "application/vnd.jupyter.widget-view+json": {
       "model_id": "fbc73ec3e3bf471ab4b94ab68ff1f617",
       "version_major": 2,
       "version_minor": 0
      },
      "text/plain": [
       "VBox(children=(Label(value=' 1.48MB of 1.48MB uploaded (0.00MB deduped)\\r'), FloatProgress(value=1.0, max=1.0)…"
      ]
     },
     "metadata": {},
     "output_type": "display_data"
    },
    {
     "data": {
      "text/html": [
       "<style>\n",
       "    table.wandb td:nth-child(1) { padding: 0 10px; text-align: right }\n",
       "    .wandb-row { display: flex; flex-direction: row; flex-wrap: wrap; width: 100% }\n",
       "    .wandb-col { display: flex; flex-direction: column; flex-basis: 100%; flex: 1; padding: 10px; }\n",
       "    </style>\n",
       "<div class=\"wandb-row\"><div class=\"wandb-col\">\n",
       "<h3>Run history:</h3><br/><table class=\"wandb\"><tr><td>eval/loss</td><td>█▂▃▃▁</td></tr><tr><td>eval/runtime</td><td>▄▁█▅▄</td></tr><tr><td>eval/samples_per_second</td><td>▅█▁▄▅</td></tr><tr><td>eval/steps_per_second</td><td>▅█▁▄▅</td></tr><tr><td>train/epoch</td><td>▁▁▃▃▅▅▆▆███</td></tr><tr><td>train/global_step</td><td>▁▁▃▃▅▅▆▆███</td></tr><tr><td>train/learning_rate</td><td>█▆▅▃▁</td></tr><tr><td>train/loss</td><td>█▁▁▁▁</td></tr><tr><td>train/total_flos</td><td>▁</td></tr><tr><td>train/train_loss</td><td>▁</td></tr><tr><td>train/train_runtime</td><td>▁</td></tr><tr><td>train/train_samples_per_second</td><td>▁</td></tr><tr><td>train/train_steps_per_second</td><td>▁</td></tr></table><br/></div><div class=\"wandb-col\">\n",
       "<h3>Run summary:</h3><br/><table class=\"wandb\"><tr><td>eval/loss</td><td>0.58832</td></tr><tr><td>eval/runtime</td><td>4.6999</td></tr><tr><td>eval/samples_per_second</td><td>185.96</td></tr><tr><td>eval/steps_per_second</td><td>5.958</td></tr><tr><td>train/epoch</td><td>5.0</td></tr><tr><td>train/global_step</td><td>2720</td></tr><tr><td>train/learning_rate</td><td>0.0</td></tr><tr><td>train/loss</td><td>0.1007</td></tr><tr><td>train/total_flos</td><td>7195816598630400.0</td></tr><tr><td>train/train_loss</td><td>0.23557</td></tr><tr><td>train/train_runtime</td><td>1228.3461</td></tr><tr><td>train/train_samples_per_second</td><td>70.86</td></tr><tr><td>train/train_steps_per_second</td><td>2.214</td></tr></table>\n",
       "</div></div>\n",
       "Synced 6 W&B file(s), 0 media file(s), 0 artifact file(s) and 1 other file(s)\n",
       "<br/>Synced <strong style=\"color:#cdcd00\">northern-river-23</strong>: <a href=\"https://wandb.ai/saurabhhssaurabh/Product-Comparison/runs/mw1gcfkr\" target=\"_blank\">https://wandb.ai/saurabhhssaurabh/Product-Comparison/runs/mw1gcfkr</a><br/>\n",
       "Find logs at: <code>./experiments/run8/wandb/wandb/run-20220125_202955-mw1gcfkr/logs</code><br/>\n"
      ],
      "text/plain": [
       "<IPython.core.display.HTML object>"
      ]
     },
     "metadata": {},
     "output_type": "display_data"
    }
   ],
   "source": [
    "wandb.finish()"
   ]
  },
  {
   "cell_type": "code",
   "execution_count": 11,
   "id": "7fa68801",
   "metadata": {},
   "outputs": [
    {
     "name": "stderr",
     "output_type": "stream",
     "text": [
      "/home/saurabh/venvs/general_env/lib/python3.6/site-packages/torch/nn/parallel/data_parallel.py:30: UserWarning: \n",
      "    There is an imbalance between your GPUs. You may want to exclude GPU 2 which\n",
      "    has less than 75% of the memory or cores of GPU 0. You can do so by setting\n",
      "    the device_ids argument to DataParallel, or by setting the CUDA_VISIBLE_DEVICES\n",
      "    environment variable.\n",
      "  warnings.warn(imbalance_warn.format(device_ids[min_pos], device_ids[max_pos]))\n",
      "***** Running training *****\n",
      "  Num examples = 174394\n",
      "  Num Epochs = 5\n",
      "  Instantaneous batch size per device = 8\n",
      "  Total train batch size (w. parallel, distributed & accumulation) = 32\n",
      "  Gradient Accumulation steps = 1\n",
      "  Total optimization steps = 27250\n",
      "Automatic Weights & Biases logging enabled, to disable set os.environ[\"WANDB_DISABLED\"] = \"true\"\n",
      "/home/saurabh/venvs/general_env/lib/python3.6/site-packages/torch/nn/parallel/_functions.py:68: UserWarning: Was asked to gather along dimension 0, but all input tensors were scalars; will instead unsqueeze and return a vector.\n",
      "  warnings.warn('Was asked to gather along dimension 0, but all '\n"
     ]
    },
    {
     "data": {
      "text/html": [
       "\n",
       "    <div>\n",
       "      \n",
       "      <progress value='27250' max='27250' style='width:300px; height:20px; vertical-align: middle;'></progress>\n",
       "      [27250/27250 10:05:23, Epoch 5/5]\n",
       "    </div>\n",
       "    <table border=\"1\" class=\"dataframe\">\n",
       "  <thead>\n",
       "    <tr style=\"text-align: left;\">\n",
       "      <th>Epoch</th>\n",
       "      <th>Training Loss</th>\n",
       "      <th>Validation Loss</th>\n",
       "    </tr>\n",
       "  </thead>\n",
       "  <tbody>\n",
       "    <tr>\n",
       "      <td>1</td>\n",
       "      <td>0.336300</td>\n",
       "      <td>0.113553</td>\n",
       "    </tr>\n",
       "    <tr>\n",
       "      <td>2</td>\n",
       "      <td>0.095500</td>\n",
       "      <td>0.114488</td>\n",
       "    </tr>\n",
       "    <tr>\n",
       "      <td>3</td>\n",
       "      <td>0.089900</td>\n",
       "      <td>0.113921</td>\n",
       "    </tr>\n",
       "    <tr>\n",
       "      <td>4</td>\n",
       "      <td>0.087000</td>\n",
       "      <td>0.116483</td>\n",
       "    </tr>\n",
       "    <tr>\n",
       "      <td>5</td>\n",
       "      <td>0.085000</td>\n",
       "      <td>0.112458</td>\n",
       "    </tr>\n",
       "  </tbody>\n",
       "</table><p>"
      ],
      "text/plain": [
       "<IPython.core.display.HTML object>"
      ]
     },
     "metadata": {},
     "output_type": "display_data"
    },
    {
     "name": "stderr",
     "output_type": "stream",
     "text": [
      "***** Running Evaluation *****\n",
      "  Num examples = 19725\n",
      "  Batch size = 32\n",
      "IOPub message rate exceeded.\n",
      "The notebook server will temporarily stop sending output\n",
      "to the client in order to avoid crashing it.\n",
      "To change this limit, set the config variable\n",
      "`--NotebookApp.iopub_msg_rate_limit`.\n",
      "\n",
      "Current values:\n",
      "NotebookApp.iopub_msg_rate_limit=1000.0 (msgs/sec)\n",
      "NotebookApp.rate_limit_window=3.0 (secs)\n",
      "\n",
      "/home/saurabh/venvs/general_env/lib/python3.6/site-packages/torch/nn/parallel/data_parallel.py:30: UserWarning: \n",
      "    There is an imbalance between your GPUs. You may want to exclude GPU 2 which\n",
      "    has less than 75% of the memory or cores of GPU 0. You can do so by setting\n",
      "    the device_ids argument to DataParallel, or by setting the CUDA_VISIBLE_DEVICES\n",
      "    environment variable.\n",
      "  warnings.warn(imbalance_warn.format(device_ids[min_pos], device_ids[max_pos]))\n",
      "***** Running Evaluation *****\n",
      "  Num examples = 19725\n",
      "  Batch size = 32\n",
      "Saving model checkpoint to /data3/saurabh/Product-Comparison/experiments/run9/output/checkpoint-16350\n",
      "Configuration saved in /data3/saurabh/Product-Comparison/experiments/run9/output/checkpoint-16350/config.json\n",
      "Model weights saved in /data3/saurabh/Product-Comparison/experiments/run9/output/checkpoint-16350/pytorch_model.bin\n",
      "tokenizer config file saved in /data3/saurabh/Product-Comparison/experiments/run9/output/checkpoint-16350/tokenizer_config.json\n",
      "Special tokens file saved in /data3/saurabh/Product-Comparison/experiments/run9/output/checkpoint-16350/special_tokens_map.json\n",
      "/home/saurabh/venvs/general_env/lib/python3.6/site-packages/torch/nn/parallel/_functions.py:68: UserWarning: Was asked to gather along dimension 0, but all input tensors were scalars; will instead unsqueeze and return a vector.\n",
      "  warnings.warn('Was asked to gather along dimension 0, but all '\n",
      "IOPub message rate exceeded.\n",
      "The notebook server will temporarily stop sending output\n",
      "to the client in order to avoid crashing it.\n",
      "To change this limit, set the config variable\n",
      "`--NotebookApp.iopub_msg_rate_limit`.\n",
      "\n",
      "Current values:\n",
      "NotebookApp.iopub_msg_rate_limit=1000.0 (msgs/sec)\n",
      "NotebookApp.rate_limit_window=3.0 (secs)\n",
      "\n",
      "/home/saurabh/venvs/general_env/lib/python3.6/site-packages/torch/nn/parallel/data_parallel.py:30: UserWarning: \n",
      "    There is an imbalance between your GPUs. You may want to exclude GPU 2 which\n",
      "    has less than 75% of the memory or cores of GPU 0. You can do so by setting\n",
      "    the device_ids argument to DataParallel, or by setting the CUDA_VISIBLE_DEVICES\n",
      "    environment variable.\n",
      "  warnings.warn(imbalance_warn.format(device_ids[min_pos], device_ids[max_pos]))\n",
      "***** Running Evaluation *****\n",
      "  Num examples = 19725\n",
      "  Batch size = 32\n",
      "Saving model checkpoint to /data3/saurabh/Product-Comparison/experiments/run9/output/checkpoint-27250\n",
      "Configuration saved in /data3/saurabh/Product-Comparison/experiments/run9/output/checkpoint-27250/config.json\n",
      "Model weights saved in /data3/saurabh/Product-Comparison/experiments/run9/output/checkpoint-27250/pytorch_model.bin\n",
      "tokenizer config file saved in /data3/saurabh/Product-Comparison/experiments/run9/output/checkpoint-27250/tokenizer_config.json\n",
      "Special tokens file saved in /data3/saurabh/Product-Comparison/experiments/run9/output/checkpoint-27250/special_tokens_map.json\n",
      "\n",
      "\n",
      "Training completed. Do not forget to share your model on huggingface.co/models =)\n",
      "\n",
      "\n"
     ]
    },
    {
     "data": {
      "text/plain": [
       "TrainOutput(global_step=27250, training_loss=0.1387366372204702, metrics={'train_runtime': 36338.0377, 'train_samples_per_second': 23.996, 'train_steps_per_second': 0.75, 'total_flos': 1.431311706316206e+17, 'train_loss': 0.1387366372204702, 'epoch': 5.0})"
      ]
     },
     "execution_count": 11,
     "metadata": {},
     "output_type": "execute_result"
    }
   ],
   "source": [
    "trainer.train()"
   ]
  },
  {
   "cell_type": "code",
   "execution_count": 10,
   "id": "c02901aa",
   "metadata": {},
   "outputs": [],
   "source": [
    "trainer = Seq2SeqTrainer(model = encoder_decoder_model,\n",
    "     tokenizer = tokenizer,\n",
    "    train_dataset = train_dataset,\n",
    "    args = training_args,\n",
    "    eval_dataset = val_dataset)"
   ]
  },
  {
   "cell_type": "code",
   "execution_count": 9,
   "id": "3a9a47b8",
   "metadata": {},
   "outputs": [
    {
     "name": "stdout",
     "output_type": "stream",
     "text": [
      "torch.cuda.device_count(): 4\n"
     ]
    }
   ],
   "source": [
    "training_args = Seq2SeqTrainingArguments(\n",
    "    output_dir = output_dir,\n",
    "    do_train = True,\n",
    "    do_eval = True,\n",
    "    evaluation_strategy = \"epoch\",\n",
    "    per_device_train_batch_size = 8,\n",
    "    per_device_eval_batch_size = 8,\n",
    "    num_train_epochs = 5,\n",
    "    logging_dir = log_dir,\n",
    "    logging_strategy = \"epoch\",\n",
    "    save_strategy = \"epoch\",\n",
    "    save_total_limit = 5,\n",
    "    run_name = run_name,\n",
    "    report_to = \"wandb\")"
   ]
  },
  {
   "cell_type": "code",
   "execution_count": 8,
   "id": "1c44c545",
   "metadata": {},
   "outputs": [],
   "source": [
    "train_dataset = ComparativeResponseDataset(train_input_encoding, train_output_encoding)\n",
    "val_dataset = ComparativeResponseDataset(val_input_encoding, val_output_encoding)"
   ]
  },
  {
   "cell_type": "code",
   "execution_count": 7,
   "id": "c47b2e1f",
   "metadata": {},
   "outputs": [
    {
     "name": "stdout",
     "output_type": "stream",
     "text": [
      "CPU times: user 2min 29s, sys: 1.16 s, total: 2min 30s\n",
      "Wall time: 2min 30s\n"
     ]
    }
   ],
   "source": [
    "%%time\n",
    "\n",
    "train_input, train_output = read_jsonl(train_file)\n",
    "val_input, val_output = read_jsonl(val_file)\n",
    "\n",
    "train_input_encoding = tokenizer(train_input, truncation=True, padding=True)\n",
    "train_output_encoding = tokenizer(train_output, truncation=True, padding=True)\n",
    "val_input_encoding = tokenizer(val_input, truncation=True, padding=True) \n",
    "val_output_encoding = tokenizer(val_output, truncation=True, padding=True)"
   ]
  },
  {
   "cell_type": "code",
   "execution_count": 6,
   "id": "8a5d5e96",
   "metadata": {},
   "outputs": [],
   "source": [
    "class ComparativeResponseDataset(torch.utils.data.Dataset):\n",
    "    \n",
    "    def __init__(self, input_encoding, output_encoding):\n",
    "        self.input_encoding = input_encoding\n",
    "        self.output_encoding = output_encoding\n",
    "        \n",
    "    def __getitem__(self, index):\n",
    "        item = {}\n",
    "        item[\"input_ids\"] = np.array(self.input_encoding.input_ids[index])\n",
    "        item[\"attention_mask\"] = np.array(self.input_encoding.attention_mask[index])\n",
    "        item[\"token_type_ids\"] = np.array(self.input_encoding.token_type_ids[index])\n",
    "        item[\"decoder_input_ids\"] = np.array(self.output_encoding.input_ids[index])\n",
    "        item[\"decoder_attention_mask\"] = np.array(self.output_encoding.attention_mask[index])\n",
    "        item[\"decoder_token_type_ids\"] = np.array(self.output_encoding.token_type_ids[index])\n",
    "        item[\"labels\"] = []\n",
    "        \n",
    "        for token in self.output_encoding.input_ids[index]:\n",
    "            if token == tokenizer.pad_token_id:\n",
    "                item[\"labels\"].append(-100)\n",
    "            else:\n",
    "                item[\"labels\"].append(token)\n",
    "\n",
    "        item[\"labels\"] = np.array(item[\"labels\"])\n",
    "                \n",
    "        return item\n",
    "    \n",
    "    def __len__(self):\n",
    "        return len(self.input_encoding.input_ids)"
   ]
  },
  {
   "cell_type": "code",
   "execution_count": 5,
   "id": "210b55d4",
   "metadata": {},
   "outputs": [],
   "source": [
    "def read_jsonl(file_name):\n",
    "        input_data = []\n",
    "        output_data = []\n",
    "\n",
    "        with open(file_name, \"r\") as in_f:\n",
    "            for line in in_f:\n",
    "                tmp_dict = json.loads(line)\n",
    "                input_data.append(tmp_dict[\"input\"])\n",
    "                output_data.append(tmp_dict[\"gt_output\"])\n",
    "\n",
    "        return input_data, output_data"
   ]
  },
  {
   "cell_type": "code",
   "execution_count": 4,
   "id": "ecb1e0be",
   "metadata": {},
   "outputs": [
    {
     "name": "stderr",
     "output_type": "stream",
     "text": [
      "Some weights of the model checkpoint at bert-base-uncased were not used when initializing BertModel: ['cls.predictions.decoder.weight', 'cls.predictions.transform.LayerNorm.bias', 'cls.predictions.transform.LayerNorm.weight', 'cls.predictions.transform.dense.weight', 'cls.seq_relationship.weight', 'cls.seq_relationship.bias', 'cls.predictions.bias', 'cls.predictions.transform.dense.bias']\n",
      "- This IS expected if you are initializing BertModel from the checkpoint of a model trained on another task or with another architecture (e.g. initializing a BertForSequenceClassification model from a BertForPreTraining model).\n",
      "- This IS NOT expected if you are initializing BertModel from the checkpoint of a model that you expect to be exactly identical (initializing a BertForSequenceClassification model from a BertForSequenceClassification model).\n",
      "Some weights of the model checkpoint at bert-base-uncased were not used when initializing BertLMHeadModel: ['cls.seq_relationship.weight', 'cls.seq_relationship.bias']\n",
      "- This IS expected if you are initializing BertLMHeadModel from the checkpoint of a model trained on another task or with another architecture (e.g. initializing a BertForSequenceClassification model from a BertForPreTraining model).\n",
      "- This IS NOT expected if you are initializing BertLMHeadModel from the checkpoint of a model that you expect to be exactly identical (initializing a BertForSequenceClassification model from a BertForSequenceClassification model).\n",
      "Some weights of BertLMHeadModel were not initialized from the model checkpoint at bert-base-uncased and are newly initialized: ['bert.encoder.layer.9.crossattention.self.value.bias', 'bert.encoder.layer.11.crossattention.output.dense.bias', 'bert.encoder.layer.7.crossattention.self.query.bias', 'bert.encoder.layer.3.crossattention.self.value.bias', 'bert.encoder.layer.9.crossattention.output.dense.bias', 'bert.encoder.layer.10.crossattention.output.LayerNorm.weight', 'bert.encoder.layer.4.crossattention.self.key.weight', 'bert.encoder.layer.4.crossattention.output.dense.bias', 'bert.encoder.layer.0.crossattention.self.key.weight', 'bert.encoder.layer.8.crossattention.self.value.weight', 'bert.encoder.layer.9.crossattention.self.key.weight', 'bert.encoder.layer.9.crossattention.output.LayerNorm.bias', 'bert.encoder.layer.3.crossattention.self.key.weight', 'bert.encoder.layer.2.crossattention.self.value.bias', 'bert.encoder.layer.5.crossattention.self.value.weight', 'bert.encoder.layer.4.crossattention.output.LayerNorm.bias', 'bert.encoder.layer.1.crossattention.self.query.weight', 'bert.encoder.layer.10.crossattention.self.value.weight', 'bert.encoder.layer.9.crossattention.output.LayerNorm.weight', 'bert.encoder.layer.2.crossattention.output.LayerNorm.bias', 'bert.encoder.layer.2.crossattention.self.query.bias', 'bert.encoder.layer.1.crossattention.output.LayerNorm.bias', 'bert.encoder.layer.6.crossattention.self.key.bias', 'bert.encoder.layer.3.crossattention.output.LayerNorm.weight', 'bert.encoder.layer.4.crossattention.self.key.bias', 'bert.encoder.layer.10.crossattention.self.key.bias', 'bert.encoder.layer.5.crossattention.self.value.bias', 'bert.encoder.layer.11.crossattention.output.dense.weight', 'bert.encoder.layer.8.crossattention.output.dense.bias', 'bert.encoder.layer.1.crossattention.self.value.bias', 'bert.encoder.layer.4.crossattention.output.dense.weight', 'bert.encoder.layer.11.crossattention.self.key.weight', 'bert.encoder.layer.11.crossattention.self.query.weight', 'bert.encoder.layer.11.crossattention.self.key.bias', 'bert.encoder.layer.0.crossattention.self.value.weight', 'bert.encoder.layer.10.crossattention.output.dense.bias', 'bert.encoder.layer.2.crossattention.self.value.weight', 'bert.encoder.layer.7.crossattention.self.value.weight', 'bert.encoder.layer.7.crossattention.self.key.bias', 'bert.encoder.layer.0.crossattention.self.value.bias', 'bert.encoder.layer.5.crossattention.output.dense.weight', 'bert.encoder.layer.3.crossattention.output.dense.bias', 'bert.encoder.layer.5.crossattention.output.LayerNorm.weight', 'bert.encoder.layer.11.crossattention.output.LayerNorm.weight', 'bert.encoder.layer.10.crossattention.self.key.weight', 'bert.encoder.layer.7.crossattention.output.LayerNorm.bias', 'bert.encoder.layer.3.crossattention.self.query.bias', 'bert.encoder.layer.2.crossattention.self.key.bias', 'bert.encoder.layer.1.crossattention.self.key.bias', 'bert.encoder.layer.5.crossattention.self.query.weight', 'bert.encoder.layer.2.crossattention.output.dense.weight', 'bert.encoder.layer.10.crossattention.self.value.bias', 'bert.encoder.layer.4.crossattention.self.query.bias', 'bert.encoder.layer.6.crossattention.self.key.weight', 'bert.encoder.layer.11.crossattention.output.LayerNorm.bias', 'bert.encoder.layer.8.crossattention.self.value.bias', 'bert.encoder.layer.3.crossattention.self.query.weight', 'bert.encoder.layer.1.crossattention.self.query.bias', 'bert.encoder.layer.9.crossattention.self.value.weight', 'bert.encoder.layer.3.crossattention.output.dense.weight', 'bert.encoder.layer.2.crossattention.self.query.weight', 'bert.encoder.layer.4.crossattention.output.LayerNorm.weight', 'bert.encoder.layer.9.crossattention.self.key.bias', 'bert.encoder.layer.4.crossattention.self.query.weight', 'bert.encoder.layer.6.crossattention.self.value.weight', 'bert.encoder.layer.0.crossattention.output.LayerNorm.bias', 'bert.encoder.layer.0.crossattention.output.dense.weight', 'bert.encoder.layer.8.crossattention.self.key.bias', 'bert.encoder.layer.9.crossattention.output.dense.weight', 'bert.encoder.layer.5.crossattention.self.query.bias', 'bert.encoder.layer.4.crossattention.self.value.bias', 'bert.encoder.layer.2.crossattention.self.key.weight', 'bert.encoder.layer.10.crossattention.output.dense.weight', 'bert.encoder.layer.10.crossattention.self.query.weight', 'bert.encoder.layer.3.crossattention.output.LayerNorm.bias', 'bert.encoder.layer.6.crossattention.output.LayerNorm.bias', 'bert.encoder.layer.8.crossattention.self.query.weight', 'bert.encoder.layer.9.crossattention.self.query.weight', 'bert.encoder.layer.4.crossattention.self.value.weight', 'bert.encoder.layer.1.crossattention.output.LayerNorm.weight', 'bert.encoder.layer.8.crossattention.output.LayerNorm.bias', 'bert.encoder.layer.6.crossattention.output.dense.weight', 'bert.encoder.layer.7.crossattention.output.dense.weight', 'bert.encoder.layer.11.crossattention.self.value.bias', 'bert.encoder.layer.3.crossattention.self.value.weight', 'bert.encoder.layer.7.crossattention.output.LayerNorm.weight', 'bert.encoder.layer.8.crossattention.self.query.bias', 'bert.encoder.layer.5.crossattention.self.key.weight', 'bert.encoder.layer.5.crossattention.output.LayerNorm.bias', 'bert.encoder.layer.1.crossattention.output.dense.weight', 'bert.encoder.layer.6.crossattention.self.query.bias', 'bert.encoder.layer.6.crossattention.self.value.bias', 'bert.encoder.layer.7.crossattention.self.key.weight', 'bert.encoder.layer.8.crossattention.output.dense.weight', 'bert.encoder.layer.1.crossattention.output.dense.bias', 'bert.encoder.layer.1.crossattention.self.value.weight', 'bert.encoder.layer.7.crossattention.output.dense.bias', 'bert.encoder.layer.0.crossattention.self.query.weight', 'bert.encoder.layer.6.crossattention.self.query.weight', 'bert.encoder.layer.11.crossattention.self.value.weight', 'bert.encoder.layer.3.crossattention.self.key.bias', 'bert.encoder.layer.11.crossattention.self.query.bias', 'bert.encoder.layer.2.crossattention.output.dense.bias', 'bert.encoder.layer.9.crossattention.self.query.bias', 'bert.encoder.layer.6.crossattention.output.dense.bias', 'bert.encoder.layer.7.crossattention.self.query.weight', 'bert.encoder.layer.0.crossattention.output.dense.bias', 'bert.encoder.layer.10.crossattention.output.LayerNorm.bias', 'bert.encoder.layer.2.crossattention.output.LayerNorm.weight', 'bert.encoder.layer.7.crossattention.self.value.bias', 'bert.encoder.layer.8.crossattention.output.LayerNorm.weight', 'bert.encoder.layer.0.crossattention.output.LayerNorm.weight', 'bert.encoder.layer.8.crossattention.self.key.weight', 'bert.encoder.layer.6.crossattention.output.LayerNorm.weight', 'bert.encoder.layer.1.crossattention.self.key.weight', 'bert.encoder.layer.10.crossattention.self.query.bias', 'bert.encoder.layer.0.crossattention.self.key.bias', 'bert.encoder.layer.5.crossattention.self.key.bias', 'bert.encoder.layer.5.crossattention.output.dense.bias', 'bert.encoder.layer.0.crossattention.self.query.bias']\n",
      "You should probably TRAIN this model on a down-stream task to be able to use it for predictions and inference.\n"
     ]
    }
   ],
   "source": [
    "tokenizer = BertTokenizer.from_pretrained(tokenizer_model, cache_dir=cache_dir)\n",
    "encoder_decoder_model = EncoderDecoderModel.from_encoder_decoder_pretrained(encoder_model, decoder_model, cache_dir=cache_dir)"
   ]
  },
  {
   "cell_type": "code",
   "execution_count": 3,
   "id": "26a7964c",
   "metadata": {},
   "outputs": [],
   "source": [
    "train_file = \"/data3/saurabh/Product-Comparison/experiments/run9/dataset/train.jsonl\"\n",
    "val_file = \"/data3/saurabh/Product-Comparison/experiments/run9/dataset/val.jsonl\"\n",
    "output_dir = \"/data3/saurabh/Product-Comparison/experiments/run9/output\"\n",
    "log_dir = \"/data3/saurabh/Product-Comparison/experiments/run9/logs\"\n",
    "cache_dir = \"/data3/saurabh/Product-Comparison/experiments/run9/cache\"\n",
    "run_name = \"bert2bert_encoder_decoder_amazon_v6\"\n",
    "tokenizer_model = \"bert-base-uncased\"\n",
    "encoder_model = \"bert-base-uncased\"\n",
    "decoder_model = \"bert-base-uncased\""
   ]
  },
  {
   "cell_type": "code",
   "execution_count": 2,
   "id": "98cda425",
   "metadata": {},
   "outputs": [
    {
     "name": "stderr",
     "output_type": "stream",
     "text": [
      "Failed to detect the name of this notebook, you can set it manually with the WANDB_NOTEBOOK_NAME environment variable to enable code saving.\n",
      "\u001b[34m\u001b[1mwandb\u001b[0m: Currently logged in as: \u001b[33msaurabhhssaurabh\u001b[0m (use `wandb login --relogin` to force relogin)\n",
      "\u001b[34m\u001b[1mwandb\u001b[0m: wandb version 0.12.10 is available!  To upgrade, please run:\n",
      "\u001b[34m\u001b[1mwandb\u001b[0m:  $ pip install wandb --upgrade\n"
     ]
    },
    {
     "data": {
      "text/html": [
       "\n",
       "                    Syncing run <strong><a href=\"https://wandb.ai/saurabhhssaurabh/Product-Comparison/runs/ahsyotkz\" target=\"_blank\">helpful-donkey-26</a></strong> to <a href=\"https://wandb.ai/saurabhhssaurabh/Product-Comparison\" target=\"_blank\">Weights & Biases</a> (<a href=\"https://docs.wandb.com/integrations/jupyter.html\" target=\"_blank\">docs</a>).<br/>\n",
       "\n",
       "                "
      ],
      "text/plain": [
       "<IPython.core.display.HTML object>"
      ]
     },
     "metadata": {},
     "output_type": "display_data"
    },
    {
     "data": {
      "text/html": [
       "<button onClick=\"this.nextSibling.style.display='block';this.style.display='none';\">Display W&B run</button><iframe src=\"https://wandb.ai/saurabhhssaurabh/Product-Comparison/runs/ahsyotkz?jupyter=true\" style=\"border:none;width:100%;height:420px;display:none;\"></iframe>"
      ],
      "text/plain": [
       "<wandb.sdk.wandb_run.Run at 0x7f67034f67f0>"
      ]
     },
     "execution_count": 2,
     "metadata": {},
     "output_type": "execute_result"
    }
   ],
   "source": [
    "wandb.login()\n",
    "\n",
    "os.environ[\"WANDB_PROJECT\"] = \"comparitive_response_generation\"\n",
    "\n",
    "# os.environ[\"CUDA_DEVICE_ORDER\"] = \"PCI_BUS_ID\"\n",
    "# os.environ[\"CUDA_VISIBLE_DEVICES\"] = \"0, 1\"\n",
    "wandb.init(dir=\"/data3/saurabh/Product-Comparison/experiments/run9/wandb\")"
   ]
  },
  {
   "cell_type": "code",
   "execution_count": 1,
   "id": "8bee6692",
   "metadata": {},
   "outputs": [],
   "source": [
    "from transformers import BertTokenizer, EncoderDecoderModel, Seq2SeqTrainer, Seq2SeqTrainingArguments\n",
    "import json, torch, wandb, os, random\n",
    "import numpy as np"
   ]
  },
  {
   "cell_type": "markdown",
   "id": "8ce5ca95",
   "metadata": {},
   "source": [
    "# Train encoder decoder model on hand curated V4 dataset / v5_dataset(run8)"
   ]
  },
  {
   "cell_type": "code",
   "execution_count": 121,
   "id": "7ea9ca57",
   "metadata": {},
   "outputs": [],
   "source": [
    "with open(output_file, \"w\") as out_f:\n",
    "    with open(input_file, \"r\") as in_f:\n",
    "        for line in in_f:\n",
    "            tmp_dict = json.loads(line)\n",
    "\n",
    "            input_list = tmp_dict[\"input\"].split(\".\")\n",
    "\n",
    "            pos_list = input_list[1].strip().split(\" \")\n",
    "            neg_list = input_list[2].strip().split(\" \")\n",
    "            new_title = \" \".join(input_list[0].strip().split(\" \")[:2])\n",
    "\n",
    "            if pos_list[0] == \"it\" or neg_list[0] == \"it\":\n",
    "                if pos_list[0] == \"it\":\n",
    "                    pos_list[0] = new_title\n",
    "\n",
    "                new_pos = \" \".join(pos_list)\n",
    "\n",
    "                if neg_list[0] == \"it\":\n",
    "                    neg_list[0] = new_title\n",
    "\n",
    "                new_neg = \" \".join(neg_list)\n",
    "\n",
    "                new_input = \"{} . {} . {} .\".format(new_title, new_pos, new_neg)\n",
    "                tmp_dict[\"input\"] = new_input\n",
    "                \n",
    "                gt_output_list = tmp_dict[\"gt_output\"].split(\".\")\n",
    "                gt_output_list[0] = new_title\n",
    "                tmp_dict[\"gt_output\"] = \"{} . {} . {} .\".format(gt_output_list[0], gt_output_list[1], gt_output_list[2])\n",
    "\n",
    "                out_f.write(json.dumps(tmp_dict) + \"\\n\")            "
   ]
  },
  {
   "cell_type": "code",
   "execution_count": 120,
   "id": "6974bb8b",
   "metadata": {},
   "outputs": [],
   "source": [
    "input_file = \"/data3/saurabh/experiments/run2/dataset/test.jsonl\"\n",
    "output_file = \"/data3/saurabh/experiments/run2/dataset/coref_test.jsonl\""
   ]
  },
  {
   "cell_type": "markdown",
   "id": "c2a85f8a",
   "metadata": {},
   "source": [
    "# Generate dataset to test coreference resolution"
   ]
  },
  {
   "cell_type": "code",
   "execution_count": 102,
   "id": "e13c5c5c",
   "metadata": {},
   "outputs": [
    {
     "data": {
      "text/plain": [
       "{'8_9': {'however , there are people who have complained that': 15,\n",
       "  'on the other hand few users have complained that': 172},\n",
       " '7_8': {'however': 389,\n",
       "  'but ,': 99,\n",
       "  'on the other hand ,': 738,\n",
       "  'on the other hand few users have complained that': 559,\n",
       "  'yet , some users have also mentioned that': 716,\n",
       "  'however , there are people who have complained that': 725},\n",
       " '6_7': {', according to few users': 12, 'but ,': 660, 'however': 166},\n",
       " '5_6': {'however': 113, ', according to few users': 756},\n",
       " '4_5': {'however': 57}}"
      ]
     },
     "execution_count": 102,
     "metadata": {},
     "output_type": "execute_result"
    }
   ],
   "source": [
    "stat_dict"
   ]
  },
  {
   "cell_type": "code",
   "execution_count": 101,
   "id": "98bc09bc",
   "metadata": {},
   "outputs": [],
   "source": [
    "line_num = 0\n",
    "\n",
    "with open(input_file, \"r\") as in_f:\n",
    "    for line in in_f:\n",
    "        line_num += 1\n",
    "        tmp_dict = json.loads(line)\n",
    "        \n",
    "        try:\n",
    "        \n",
    "            if tmp_dict[\"sari\"][\"sari_score\"] >= 0.80:\n",
    "                if tmp_dict[\"connecting_string\"] in stat_dict[\"8_9\"]:\n",
    "                    stat_dict[\"8_9\"][tmp_dict[\"connecting_string\"]] += 1\n",
    "                else:\n",
    "                    stat_dict[\"8_9\"][tmp_dict[\"connecting_string\"]] = 1\n",
    "            elif tmp_dict[\"sari\"][\"sari_score\"] >= 0.70:\n",
    "                if tmp_dict[\"connecting_string\"] in stat_dict[\"7_8\"]:\n",
    "                    stat_dict[\"7_8\"][tmp_dict[\"connecting_string\"]] += 1\n",
    "                else:\n",
    "                    stat_dict[\"7_8\"][tmp_dict[\"connecting_string\"]] = 1\n",
    "            elif tmp_dict[\"sari\"][\"sari_score\"] >= 0.60:\n",
    "                if tmp_dict[\"connecting_string\"] in stat_dict[\"6_7\"]:\n",
    "                    stat_dict[\"6_7\"][tmp_dict[\"connecting_string\"]] += 1\n",
    "                else:\n",
    "                    stat_dict[\"6_7\"][tmp_dict[\"connecting_string\"]] = 1\n",
    "            elif tmp_dict[\"sari\"][\"sari_score\"] >= 0.50:\n",
    "                if tmp_dict[\"connecting_string\"] in stat_dict[\"5_6\"]:\n",
    "                    stat_dict[\"5_6\"][tmp_dict[\"connecting_string\"]] += 1\n",
    "                else:\n",
    "                    stat_dict[\"5_6\"][tmp_dict[\"connecting_string\"]] = 1\n",
    "            elif tmp_dict[\"sari\"][\"sari_score\"] >= 0.40:\n",
    "                if tmp_dict[\"connecting_string\"] in stat_dict[\"4_5\"]:\n",
    "                    stat_dict[\"4_5\"][tmp_dict[\"connecting_string\"]] += 1\n",
    "                else:\n",
    "                    stat_dict[\"4_5\"][tmp_dict[\"connecting_string\"]] = 1\n",
    "        except:\n",
    "            print(line_num)"
   ]
  },
  {
   "cell_type": "code",
   "execution_count": 100,
   "id": "bfad9607",
   "metadata": {},
   "outputs": [],
   "source": [
    "stat_dict = {}\n",
    "stat_dict[\"8_9\"] = {}\n",
    "stat_dict[\"7_8\"] = {}\n",
    "stat_dict[\"6_7\"] = {}\n",
    "stat_dict[\"5_6\"] = {}\n",
    "stat_dict[\"4_5\"] = {}"
   ]
  },
  {
   "cell_type": "code",
   "execution_count": 99,
   "id": "799b041a",
   "metadata": {},
   "outputs": [],
   "source": [
    "input_file = \"/data3/saurabh/experiments/run2/stat.jsonl\""
   ]
  },
  {
   "cell_type": "code",
   "execution_count": 98,
   "id": "84d158f0",
   "metadata": {},
   "outputs": [],
   "source": [
    "with open(stat_file, \"w\") as out_f:\n",
    "    for elem in sorted_output_list:\n",
    "        out_f.write(json.dumps(elem)+\"\\n\")"
   ]
  },
  {
   "cell_type": "code",
   "execution_count": 97,
   "id": "3a615d9e",
   "metadata": {},
   "outputs": [
    {
     "name": "stdout",
     "output_type": "stream",
     "text": [
      "5177\n"
     ]
    }
   ],
   "source": [
    "sorted_output_list = sorted(output_list, key=lambda x: x[\"sari\"][\"sari_score\"])\n",
    "print(len(sorted_output_list))"
   ]
  },
  {
   "cell_type": "code",
   "execution_count": 96,
   "id": "574eaa79",
   "metadata": {},
   "outputs": [],
   "source": [
    "output_list = []\n",
    "\n",
    "for instance_index in range(len(instance_list)):\n",
    "    tmp_dict = instance_list[instance_index].copy()\n",
    "    output = SARIsent(instance_list[instance_index][\"input\"], instance_list[instance_index][\"pred_output\"],\n",
    "                      instance_list[instance_index][\"gt_references\"])\n",
    "    tmp_dict[\"sari\"] = {}\n",
    "    tmp_dict[\"sari\"][\"sari_score\"] = output[0]\n",
    "    tmp_dict[\"sari\"][\"keep_score\"] = output[1]\n",
    "    tmp_dict[\"sari\"][\"add_score\"] = output[2]\n",
    "    tmp_dict[\"sari\"][\"del_score\"] = output[3]\n",
    "\n",
    "    for index in range(len(pattern_list)):\n",
    "        if pattern_list[index] in test_instance_list[instance_index][\"gt_output\"]:\n",
    "            tmp_dict[\"connecting_string\"] = pattern_list[index]\n",
    "            break\n",
    "\n",
    "    output_list.append(tmp_dict)"
   ]
  },
  {
   "cell_type": "code",
   "execution_count": 95,
   "id": "21d202af",
   "metadata": {},
   "outputs": [],
   "source": [
    "pattern_1 = \"however , there are people who have complained that\"\n",
    "pattern_2 = \"but ,\"\n",
    "pattern_3 = \"on the other hand ,\"\n",
    "pattern_4 = \"however\"\n",
    "pattern_5 = \"yet , some users have also mentioned that\"\n",
    "pattern_6 = \", according to few users\"\n",
    "pattern_7 = \"on the other hand few users have complained that\"\n",
    "\n",
    "# pattern_1 = \". however , there are people who have complained that\"\n",
    "# pattern_2 = \". but ,\"\n",
    "# pattern_3 = \". on the other hand ,\"\n",
    "# pattern_4 = \". however\"\n",
    "# pattern_5 = \". yet , some users have also mentioned that\"\n",
    "# pattern_6 = \", according to few users\"\n",
    "# pattern_7 = \". on the other hand few users have complained that\"\n",
    "\n",
    "pattern_list = [pattern_1, pattern_2, pattern_3, pattern_4, pattern_5, pattern_6, pattern_7]"
   ]
  },
  {
   "cell_type": "code",
   "execution_count": 34,
   "id": "a8547689",
   "metadata": {},
   "outputs": [],
   "source": [
    "# with open(stat_file, \"w\") as out_f:\n",
    "#     for instance in instance_list:\n",
    "#         tmp_dict = instance.copy()\n",
    "#         output = SARIsent(instance[\"input\"], instance[\"pred_output\"], instance[\"gt_references\"])\n",
    "#         tmp_dict[\"sari\"] = {}\n",
    "#         tmp_dict[\"sari\"][\"sari_score\"] = output[0]\n",
    "#         tmp_dict[\"sari\"][\"keep_score\"] = output[1]\n",
    "#         tmp_dict[\"sari\"][\"add_score\"] = output[2]\n",
    "#         tmp_dict[\"sari\"][\"del_score\"] = output[3]\n",
    "        \n",
    "#         tmp_dict[\"sari_ref\"] = []\n",
    "        \n",
    "#         for ref in instance[\"gt_references\"]:\n",
    "#             tmp_dict_1 = {}\n",
    "#             output = SARIsent(instance[\"input\"], instance[\"pred_output\"], [ref])\n",
    "#             tmp_dict_1[\"sent\"] = ref\n",
    "#             tmp_dict_1[\"sari_score\"] = output[0]\n",
    "#             tmp_dict_1[\"keep_score\"] = output[1]\n",
    "#             tmp_dict_1[\"add_score\"] = output[2]\n",
    "#             tmp_dict_1[\"del_score\"] = output[3]\n",
    "            \n",
    "#             tmp_dict[\"sari_ref\"].append(tmp_dict_1)\n",
    "            \n",
    "#         out_f.write(json.dumps(tmp_dict)+\"\\n\")"
   ]
  },
  {
   "cell_type": "code",
   "execution_count": 85,
   "id": "9e9f3a27",
   "metadata": {},
   "outputs": [
    {
     "data": {
      "text/plain": [
       "5177"
      ]
     },
     "execution_count": 85,
     "metadata": {},
     "output_type": "execute_result"
    }
   ],
   "source": [
    "len(test_instance_list)"
   ]
  },
  {
   "cell_type": "code",
   "execution_count": 83,
   "id": "cfc28d03",
   "metadata": {},
   "outputs": [],
   "source": [
    "instance_list = []\n",
    "\n",
    "with open(input_file, \"r\") as in_f:\n",
    "    for line in in_f:\n",
    "        instance_list.append(json.loads(line))\n",
    "        \n",
    "test_instance_list = []\n",
    "\n",
    "with open(test_file, \"r\") as in_f:\n",
    "    for line in in_f:\n",
    "        test_instance_list.append(json.loads(line))"
   ]
  },
  {
   "cell_type": "code",
   "execution_count": 82,
   "id": "f92f786b",
   "metadata": {},
   "outputs": [],
   "source": [
    "input_file = \"/data3/saurabh/experiments/run2/pred_output.jsonl\"\n",
    "test_file = \"/data3/saurabh/experiments/run2/dataset/test.jsonl\"\n",
    "stat_file = \"/data3/saurabh/experiments/run2/stat.jsonl\""
   ]
  },
  {
   "cell_type": "code",
   "execution_count": 81,
   "id": "fef14bb8",
   "metadata": {},
   "outputs": [],
   "source": [
    "from evaluation.sari_hugging_face import SARIsent\n",
    "import json"
   ]
  },
  {
   "cell_type": "markdown",
   "id": "d7aaaa9e",
   "metadata": {},
   "source": [
    "# Evaluation on individual and all references"
   ]
  },
  {
   "cell_type": "code",
   "execution_count": 14,
   "id": "1c7c1694",
   "metadata": {},
   "outputs": [
    {
     "data": {
      "text/plain": [
       "array(['however ,', 'but', 'on the other hand ,', 'however', 'but ,',\n",
       "       'yet ,', 'although ,', 'on the other hand'], dtype=object)"
      ]
     },
     "execution_count": 14,
     "metadata": {},
     "output_type": "execute_result"
    }
   ],
   "source": [
    "df.connective_string.unique()"
   ]
  },
  {
   "cell_type": "code",
   "execution_count": 13,
   "id": "987442c0",
   "metadata": {},
   "outputs": [
    {
     "data": {
      "text/html": [
       "<div>\n",
       "<style scoped>\n",
       "    .dataframe tbody tr th:only-of-type {\n",
       "        vertical-align: middle;\n",
       "    }\n",
       "\n",
       "    .dataframe tbody tr th {\n",
       "        vertical-align: top;\n",
       "    }\n",
       "\n",
       "    .dataframe thead tr th {\n",
       "        text-align: left;\n",
       "    }\n",
       "\n",
       "    .dataframe thead tr:last-of-type th {\n",
       "        text-align: right;\n",
       "    }\n",
       "</style>\n",
       "<table border=\"1\" class=\"dataframe\">\n",
       "  <thead>\n",
       "    <tr>\n",
       "      <th></th>\n",
       "      <th>coherent_first_sentence</th>\n",
       "      <th>coherent_second_sentence</th>\n",
       "      <th>incoherent_first_sentence</th>\n",
       "      <th>incoherent_second_sentence</th>\n",
       "      <th>discourse_type</th>\n",
       "      <th>has_coref_type_pronoun</th>\n",
       "      <th>has_coref_type_nominal</th>\n",
       "    </tr>\n",
       "    <tr>\n",
       "      <th></th>\n",
       "      <th>count</th>\n",
       "      <th>count</th>\n",
       "      <th>count</th>\n",
       "      <th>count</th>\n",
       "      <th>count</th>\n",
       "      <th>count</th>\n",
       "      <th>count</th>\n",
       "    </tr>\n",
       "    <tr>\n",
       "      <th>connective_string</th>\n",
       "      <th></th>\n",
       "      <th></th>\n",
       "      <th></th>\n",
       "      <th></th>\n",
       "      <th></th>\n",
       "      <th></th>\n",
       "      <th></th>\n",
       "    </tr>\n",
       "  </thead>\n",
       "  <tbody>\n",
       "    <tr>\n",
       "      <th>although ,</th>\n",
       "      <td>1051</td>\n",
       "      <td>1051</td>\n",
       "      <td>1051</td>\n",
       "      <td>1051</td>\n",
       "      <td>1051</td>\n",
       "      <td>1051</td>\n",
       "      <td>1051</td>\n",
       "    </tr>\n",
       "    <tr>\n",
       "      <th>but</th>\n",
       "      <td>37088</td>\n",
       "      <td>37088</td>\n",
       "      <td>37088</td>\n",
       "      <td>37088</td>\n",
       "      <td>37088</td>\n",
       "      <td>37088</td>\n",
       "      <td>37088</td>\n",
       "    </tr>\n",
       "    <tr>\n",
       "      <th>but ,</th>\n",
       "      <td>1912</td>\n",
       "      <td>1912</td>\n",
       "      <td>1912</td>\n",
       "      <td>1912</td>\n",
       "      <td>1912</td>\n",
       "      <td>1912</td>\n",
       "      <td>1912</td>\n",
       "    </tr>\n",
       "    <tr>\n",
       "      <th>however</th>\n",
       "      <td>37791</td>\n",
       "      <td>37791</td>\n",
       "      <td>37791</td>\n",
       "      <td>37791</td>\n",
       "      <td>37791</td>\n",
       "      <td>37791</td>\n",
       "      <td>37791</td>\n",
       "    </tr>\n",
       "    <tr>\n",
       "      <th>however ,</th>\n",
       "      <td>328264</td>\n",
       "      <td>328264</td>\n",
       "      <td>328264</td>\n",
       "      <td>328264</td>\n",
       "      <td>328264</td>\n",
       "      <td>328264</td>\n",
       "      <td>328264</td>\n",
       "    </tr>\n",
       "    <tr>\n",
       "      <th>on the other hand</th>\n",
       "      <td>791</td>\n",
       "      <td>791</td>\n",
       "      <td>791</td>\n",
       "      <td>791</td>\n",
       "      <td>791</td>\n",
       "      <td>791</td>\n",
       "      <td>791</td>\n",
       "    </tr>\n",
       "    <tr>\n",
       "      <th>on the other hand ,</th>\n",
       "      <td>6290</td>\n",
       "      <td>6290</td>\n",
       "      <td>6290</td>\n",
       "      <td>6290</td>\n",
       "      <td>6290</td>\n",
       "      <td>6290</td>\n",
       "      <td>6290</td>\n",
       "    </tr>\n",
       "    <tr>\n",
       "      <th>yet ,</th>\n",
       "      <td>2073</td>\n",
       "      <td>2073</td>\n",
       "      <td>2073</td>\n",
       "      <td>2073</td>\n",
       "      <td>2073</td>\n",
       "      <td>2073</td>\n",
       "      <td>2073</td>\n",
       "    </tr>\n",
       "  </tbody>\n",
       "</table>\n",
       "</div>"
      ],
      "text/plain": [
       "                    coherent_first_sentence coherent_second_sentence  \\\n",
       "                                      count                    count   \n",
       "connective_string                                                      \n",
       "although ,                             1051                     1051   \n",
       "but                                   37088                    37088   \n",
       "but ,                                  1912                     1912   \n",
       "however                               37791                    37791   \n",
       "however ,                            328264                   328264   \n",
       "on the other hand                       791                      791   \n",
       "on the other hand ,                    6290                     6290   \n",
       "yet ,                                  2073                     2073   \n",
       "\n",
       "                    incoherent_first_sentence incoherent_second_sentence  \\\n",
       "                                        count                      count   \n",
       "connective_string                                                          \n",
       "although ,                               1051                       1051   \n",
       "but                                     37088                      37088   \n",
       "but ,                                    1912                       1912   \n",
       "however                                 37791                      37791   \n",
       "however ,                              328264                     328264   \n",
       "on the other hand                         791                        791   \n",
       "on the other hand ,                      6290                       6290   \n",
       "yet ,                                    2073                       2073   \n",
       "\n",
       "                    discourse_type has_coref_type_pronoun  \\\n",
       "                             count                  count   \n",
       "connective_string                                           \n",
       "although ,                    1051                   1051   \n",
       "but                          37088                  37088   \n",
       "but ,                         1912                   1912   \n",
       "however                      37791                  37791   \n",
       "however ,                   328264                 328264   \n",
       "on the other hand              791                    791   \n",
       "on the other hand ,           6290                   6290   \n",
       "yet ,                         2073                   2073   \n",
       "\n",
       "                    has_coref_type_nominal  \n",
       "                                     count  \n",
       "connective_string                           \n",
       "although ,                            1051  \n",
       "but                                  37088  \n",
       "but ,                                 1912  \n",
       "however                              37791  \n",
       "however ,                           328264  \n",
       "on the other hand                      791  \n",
       "on the other hand ,                   6290  \n",
       "yet ,                                 2073  "
      ]
     },
     "execution_count": 13,
     "metadata": {},
     "output_type": "execute_result"
    }
   ],
   "source": [
    "df.groupby(df.connective_string).agg([\"count\"])"
   ]
  },
  {
   "cell_type": "code",
   "execution_count": 12,
   "id": "c06e294a",
   "metadata": {},
   "outputs": [],
   "source": [
    "# DiscoFuse wikipedia balance dataset analysis\n",
    "input_file = \"/data3/saurabh/discofuse_v1/wikipedia/train_balanced_pair_only.tsv\"\n",
    "\n",
    "df = pd.read_csv(input_file, sep=\"\\t\")"
   ]
  },
  {
   "cell_type": "code",
   "execution_count": null,
   "id": "52b7e987",
   "metadata": {},
   "outputs": [],
   "source": [
    "Amazon dataset:\n",
    "\n",
    "\" . however , there are people who have complained that \": 13270\n",
    "\" . but , \": 13296\n",
    "\" . on the other hand , \": 13320\n",
    "\" . however \": 13347\n",
    "\" . yet , some users have also mentioned that \": 13315\n",
    "\" , according to few users \": 13298\n",
    "\" . on the other hand few users have complained that \": 13348\n",
    "\n",
    "    \n",
    "    \n",
    "DiscoFuse Wiki Balance:\n",
    "\n",
    "\"yet ,\": 2073\n",
    "\"on the other hand ,\": 6290\n",
    "\"on the other hand\": 791\n",
    "\"however ,\": 328264\n",
    "\"however\": 37791\n",
    "\"but ,\": 1912\n",
    "\"but\": 37088\n",
    "\"although ,\": 1051\n",
    "    \n",
    "    \n",
    "Combined:\n",
    "\n",
    "\" . however , there are people who have complained that \": 13270\n",
    "\" . but , \": 15208\n",
    "\" . on the other hand , \": 19610\n",
    "\" . however \": 13347\n",
    "\" . yet , some users have also mentioned that \": 13315\n",
    "\" , according to few users \": 13298\n",
    "\" . on the other hand few users have complained that \": 13348\n",
    "\"yet ,\": 2073\n",
    "\"on the other hand\": 791\n",
    "\"however ,\": 328264\n",
    "\"however\": 37791\n",
    "\"but\": 37088\n",
    "\"although ,\": 1051"
   ]
  },
  {
   "cell_type": "code",
   "execution_count": 17,
   "id": "2bc3ebb5",
   "metadata": {},
   "outputs": [
    {
     "data": {
      "text/plain": [
       "508454"
      ]
     },
     "execution_count": 17,
     "metadata": {},
     "output_type": "execute_result"
    }
   ],
   "source": [
    "13270 + 15208 + 19610 + 13347 + 13315 + 13298 + 13348 + 2073 + 791 + 328264 + 37791 + 37088 + 1051"
   ]
  },
  {
   "cell_type": "code",
   "execution_count": 9,
   "id": "298aa5c9",
   "metadata": {},
   "outputs": [
    {
     "name": "stdout",
     "output_type": "stream",
     "text": [
      "13270 13296 13320 13347 13315 13298 13348\n"
     ]
    }
   ],
   "source": [
    "print(c1, c2, c3, c4, c5, c6, c7)"
   ]
  },
  {
   "cell_type": "code",
   "execution_count": 10,
   "id": "bc89b3f1",
   "metadata": {},
   "outputs": [
    {
     "data": {
      "text/plain": [
       "93194"
      ]
     },
     "execution_count": 10,
     "metadata": {},
     "output_type": "execute_result"
    }
   ],
   "source": [
    "c1 + c2 + c3 + c4 + c5 + c6 + c7"
   ]
  },
  {
   "cell_type": "code",
   "execution_count": 7,
   "id": "825de574",
   "metadata": {},
   "outputs": [],
   "source": [
    "c1 = c2 = c3 = c4 = c5 = c6 = c7 = 0\n",
    "\n",
    "with open(input_file, \"r\") as in_f:\n",
    "    for line in in_f:\n",
    "        text = json.loads(line)[\"gt_output\"]\n",
    "        \n",
    "        if pattern_1 in text:\n",
    "            c1 += 1\n",
    "        elif pattern_2 in text:\n",
    "            c2 += 1\n",
    "        elif pattern_3 in text:\n",
    "            c3 += 1\n",
    "        elif pattern_4 in text:\n",
    "            c4 += 1\n",
    "        elif pattern_5 in text:\n",
    "            c5 += 1\n",
    "        elif pattern_6 in text:\n",
    "            c6 += 1\n",
    "        elif pattern_7 in text:\n",
    "            c7 += 1"
   ]
  },
  {
   "cell_type": "code",
   "execution_count": 2,
   "id": "55006195",
   "metadata": {},
   "outputs": [],
   "source": [
    "input_file = \"/data3/saurabh/experiments/data/14_transformer_encoder_decoder/train_amazon.jsonl\""
   ]
  },
  {
   "cell_type": "code",
   "execution_count": 6,
   "id": "03be757a",
   "metadata": {},
   "outputs": [],
   "source": [
    "pattern_1 = \" . however , there are people who have complained that \"\n",
    "pattern_2 = \" . but , \"\n",
    "pattern_3 = \" . on the other hand , \"\n",
    "pattern_4 = \" . however \"\n",
    "pattern_5 = \" . yet , some users have also mentioned that \"\n",
    "pattern_6 = \" , according to few users \"\n",
    "pattern_7 = \" . on the other hand few users have complained that \""
   ]
  },
  {
   "cell_type": "code",
   "execution_count": 11,
   "id": "f952aee3",
   "metadata": {},
   "outputs": [],
   "source": [
    "import json\n",
    "import pandas as pd"
   ]
  },
  {
   "cell_type": "markdown",
   "id": "489d67e4",
   "metadata": {},
   "source": [
    "# Analysis of training dataset and results."
   ]
  },
  {
   "cell_type": "code",
   "execution_count": 176,
   "id": "75e50228",
   "metadata": {},
   "outputs": [
    {
     "data": {
      "text/plain": [
       "0.865049843323722"
      ]
     },
     "execution_count": 176,
     "metadata": {},
     "output_type": "execute_result"
    }
   ],
   "source": [
    "sum_ = 0\n",
    "\n",
    "for elem in sorted_sari_list_without_normalization:\n",
    "    sum_ += elem[0]\n",
    "    \n",
    "sum_/len(sorted_sari_list_without_normalization)"
   ]
  },
  {
   "cell_type": "code",
   "execution_count": 173,
   "id": "d88122dc",
   "metadata": {},
   "outputs": [
    {
     "name": "stdout",
     "output_type": "stream",
     "text": [
      "samsung galaxy tab 3 ( 8 - inch, white ) 2013 model. it is smooth. on the other hand, the screen is useless.\n"
     ]
    }
   ],
   "source": [
    "for ref in ref_list[5136]:\n",
    "    print(ref.lower())"
   ]
  },
  {
   "cell_type": "code",
   "execution_count": 174,
   "id": "5b337011",
   "metadata": {},
   "outputs": [
    {
     "data": {
      "text/plain": [
       "'samsung galaxy tab 3 ( 8 - inch, white ) 2013 model. it is smooth. on the other hand, the screen is useless.'"
      ]
     },
     "execution_count": 174,
     "metadata": {},
     "output_type": "execute_result"
    }
   ],
   "source": [
    "pred_output_list[5136]"
   ]
  },
  {
   "cell_type": "code",
   "execution_count": 175,
   "id": "0654d820",
   "metadata": {},
   "outputs": [
    {
     "data": {
      "text/plain": [
       "'samsung galaxy tab 3 ( 8 - inch, white ) 2013 model. it is smooth. the screen is useless.'"
      ]
     },
     "execution_count": 175,
     "metadata": {},
     "output_type": "execute_result"
    }
   ],
   "source": [
    "input_list[5136]"
   ]
  },
  {
   "cell_type": "code",
   "execution_count": 172,
   "id": "7a4a4f12",
   "metadata": {},
   "outputs": [
    {
     "data": {
      "text/plain": [
       "(1.0, 5136)"
      ]
     },
     "execution_count": 172,
     "metadata": {},
     "output_type": "execute_result"
    }
   ],
   "source": [
    "sorted_sari_list_without_normalization[5170]"
   ]
  },
  {
   "cell_type": "code",
   "execution_count": 122,
   "id": "96b226b6",
   "metadata": {},
   "outputs": [],
   "source": [
    "sorted_sari_list_without_normalization = sorted(sari_list_without_normalization, key=lambda x: x[0])"
   ]
  },
  {
   "cell_type": "code",
   "execution_count": 121,
   "id": "111a5eff",
   "metadata": {},
   "outputs": [],
   "source": [
    "sari_list_without_normalization = []\n",
    "keep_list_without_normalization = []\n",
    "add_list_without_normalization = []\n",
    "del_list_without_normalization = []\n",
    "\n",
    "for index in range(len(input_list)):\n",
    "    output = SARIsent(input_list[index], pred_output_list[index], ref_list[index])\n",
    "    sari_list_without_normalization.append((output[0], index))\n",
    "    keep_list_without_normalization.append(output[1])\n",
    "    add_list_without_normalization.append(output[2])\n",
    "    del_list_without_normalization.append(output[3])"
   ]
  },
  {
   "cell_type": "code",
   "execution_count": 120,
   "id": "44ebc98f",
   "metadata": {},
   "outputs": [],
   "source": [
    "input_list = []\n",
    "pred_output_list = []\n",
    "ref_list = []\n",
    "\n",
    "for index in range(len(pred_data)):\n",
    "    input_list.append(pred_data[index][\"input\"])\n",
    "    pred_output_list.append(pred_data[index][\"pred_output\"])\n",
    "    ref_list.append([pred_data[index][\"gt_output\"]])"
   ]
  },
  {
   "cell_type": "code",
   "execution_count": 119,
   "id": "aacd7ebe",
   "metadata": {},
   "outputs": [],
   "source": [
    "test_data = []\n",
    "\n",
    "with open(test_file, \"r\") as in_f:\n",
    "    for line in in_f:\n",
    "        test_data.append(json.loads(line))\n",
    "        \n",
    "pred_data = []\n",
    "\n",
    "with open(pred_output_file, \"r\") as in_f:\n",
    "    for line in in_f:\n",
    "        pred_data.append(json.loads(line))"
   ]
  },
  {
   "cell_type": "code",
   "execution_count": 118,
   "id": "612d36cb",
   "metadata": {},
   "outputs": [],
   "source": [
    "pred_output_file = \"/data3/saurabh/experiments/run2/pred_output.jsonl\"\n",
    "test_file = \"/data3/saurabh/experiments/run2/dataset/test.jsonl\""
   ]
  },
  {
   "cell_type": "code",
   "execution_count": 117,
   "id": "1fed5dcb",
   "metadata": {},
   "outputs": [],
   "source": [
    "import json"
   ]
  },
  {
   "cell_type": "markdown",
   "id": "14f2deaa",
   "metadata": {},
   "source": [
    "# SARI on Ground Truth output"
   ]
  },
  {
   "cell_type": "code",
   "execution_count": 113,
   "id": "f118fb1f",
   "metadata": {},
   "outputs": [
    {
     "name": "stdout",
     "output_type": "stream",
     "text": [
      "samsung galaxy tab 3 lite 7 & quot ; t110 8gb wi - fi. love the tablet and the charger. however, there are people who have complained that there is no rear camera.\n",
      "samsung galaxy tab 3 lite 7 & quot ; t110 8gb wi - fi. love the tablet and the charger. but, there is no rear camera.\n",
      "samsung galaxy tab 3 lite 7 & quot ; t110 8gb wi - fi. love the tablet and the charger. on the other hand, there is no rear camera.\n",
      "samsung galaxy tab 3 lite 7 & quot ; t110 8gb wi - fi. love the tablet and the charger. however there is no rear camera.\n",
      "samsung galaxy tab 3 lite 7 & quot ; t110 8gb wi - fi. love the tablet and the charger. yet, some users have also mentioned that there is no rear camera.\n",
      "samsung galaxy tab 3 lite 7 & quot ; t110 8gb wi - fi. although love the tablet and the charger, according to few users there is no rear camera.\n",
      "samsung galaxy tab 3 lite 7 & quot ; t110 8gb wi - fi. love the tablet and the charger. on the other hand few users have complained that there is no rear camera.\n"
     ]
    }
   ],
   "source": [
    "for ref in decoded_ref_list[620]:\n",
    "    print(ref.lower())"
   ]
  },
  {
   "cell_type": "code",
   "execution_count": 114,
   "id": "871cac08",
   "metadata": {},
   "outputs": [
    {
     "data": {
      "text/plain": [
       "'samsung galaxy tab 3 lite 7 & quot ; t110 8gb wi - fi. love the tablet and the charger. however there is no rear camera.'"
      ]
     },
     "execution_count": 114,
     "metadata": {},
     "output_type": "execute_result"
    }
   ],
   "source": [
    "pred_output_list[620]"
   ]
  },
  {
   "cell_type": "code",
   "execution_count": 19,
   "id": "5068a5f7",
   "metadata": {},
   "outputs": [
    {
     "data": {
      "text/plain": [
       "'hp chromebook 14 ( peach coral ). the colors are perfect. which is lightning fast.'"
      ]
     },
     "execution_count": 19,
     "metadata": {},
     "output_type": "execute_result"
    }
   ],
   "source": [
    "input_list[4534]"
   ]
  },
  {
   "cell_type": "code",
   "execution_count": 35,
   "id": "354db0e8",
   "metadata": {},
   "outputs": [
    {
     "name": "stdout",
     "output_type": "stream",
     "text": [
      "Input: \n",
      "apple ipad mini with retina display me281ll / a ( 64gb, wi - fi, white with silver ) old version. was everything. only issue is.\n",
      "\n",
      "Pred Output: \n",
      "apple ipad mini with retina display me281ll / a ( 64gb, wi - fi, white with silver ) old version. was everything. on the other hand few users have complained that only issue is.\n"
     ]
    }
   ],
   "source": [
    "index = 4764\n",
    "\n",
    "\n",
    "print(\"Input: \\n{}\\n\".format(input_list[index]))\n",
    "print(\"Pred Output: \\n{}\".format(pred_output_list[index]))\n"
   ]
  },
  {
   "cell_type": "code",
   "execution_count": 30,
   "id": "fc5df7a8",
   "metadata": {},
   "outputs": [
    {
     "data": {
      "text/plain": [
       "[(0.8103510678335392, 917),\n",
       " (0.8104172147911091, 2755),\n",
       " (0.8107185839284403, 427),\n",
       " (0.810833773188525, 3236),\n",
       " (0.8108944730334167, 2502),\n",
       " (0.8109290369026326, 4764),\n",
       " (0.8109778785058434, 4947),\n",
       " (0.811291735581312, 505),\n",
       " (0.8116624045084304, 5023),\n",
       " (0.8124375090341215, 4983)]"
      ]
     },
     "execution_count": 30,
     "metadata": {},
     "output_type": "execute_result"
    }
   ],
   "source": [
    "sorted_sari_list_without_normalization[-10:]"
   ]
  },
  {
   "cell_type": "code",
   "execution_count": 17,
   "id": "56af72f1",
   "metadata": {},
   "outputs": [
    {
     "data": {
      "text/plain": [
       "0.7091603852239728"
      ]
     },
     "execution_count": 17,
     "metadata": {},
     "output_type": "execute_result"
    }
   ],
   "source": [
    "sum_ = 0\n",
    "\n",
    "for elem in sorted_sari_list_without_normalization:\n",
    "    sum_ += elem[0]\n",
    "    \n",
    "sum_/len(sorted_sari_list_without_normalization)"
   ]
  },
  {
   "cell_type": "code",
   "execution_count": 16,
   "id": "cd1775c2",
   "metadata": {},
   "outputs": [],
   "source": [
    "sorted_sari_list_without_normalization = sorted(sari_list_without_normalization, key=lambda x: x[0])"
   ]
  },
  {
   "cell_type": "code",
   "execution_count": 15,
   "id": "4f209a30",
   "metadata": {},
   "outputs": [],
   "source": [
    "sari_list_without_normalization = []\n",
    "keep_list_without_normalization = []\n",
    "add_list_without_normalization = []\n",
    "del_list_without_normalization = []\n",
    "\n",
    "for index in range(len(input_list)):\n",
    "    output = SARIsent(input_list[index], pred_output_list[index], [sent for sent in decoded_ref_list[index]])\n",
    "    sari_list_without_normalization.append((output[0], index))\n",
    "    keep_list_without_normalization.append(output[1])\n",
    "    add_list_without_normalization.append(output[2])\n",
    "    del_list_without_normalization.append(output[3])"
   ]
  },
  {
   "cell_type": "code",
   "execution_count": 14,
   "id": "f71db3cb",
   "metadata": {},
   "outputs": [
    {
     "data": {
      "text/plain": [
       "5177"
      ]
     },
     "execution_count": 14,
     "metadata": {},
     "output_type": "execute_result"
    }
   ],
   "source": [
    "len(decoded_ref_list)"
   ]
  },
  {
   "cell_type": "code",
   "execution_count": 13,
   "id": "0ffee0bc",
   "metadata": {},
   "outputs": [],
   "source": [
    "decoded_ref_list = []\n",
    "\n",
    "for list_1 in encoded_ref_list:\n",
    "    tmp_list = []\n",
    "    \n",
    "    try:\n",
    "        for ref in list_1:\n",
    "            tmp_list.append(tokenizer.decode(ref[\"input_ids\"], skip_special_tokens=True))\n",
    "    except ValueError:\n",
    "        print(ref)\n",
    "        \n",
    "    decoded_ref_list.append(tmp_list)"
   ]
  },
  {
   "cell_type": "code",
   "execution_count": 12,
   "id": "76dbbad8",
   "metadata": {},
   "outputs": [],
   "source": [
    "encoded_ref_list = []\n",
    "\n",
    "for list_1 in ref_list:\n",
    "    tmp_list = []\n",
    "    \n",
    "    for ref in list_1:\n",
    "        tmp_list.append(tokenizer(ref.lower(), padding=True, truncation=True))\n",
    "        \n",
    "    encoded_ref_list.append(tmp_list)"
   ]
  },
  {
   "cell_type": "code",
   "execution_count": 11,
   "id": "ab1f7328",
   "metadata": {},
   "outputs": [],
   "source": [
    "tokenizer = BertTokenizer.from_pretrained(\"bert-base-uncased\")"
   ]
  },
  {
   "cell_type": "code",
   "execution_count": 10,
   "id": "8e123986",
   "metadata": {},
   "outputs": [],
   "source": [
    "from transformers import BertTokenizer"
   ]
  },
  {
   "cell_type": "markdown",
   "id": "dd192476",
   "metadata": {},
   "source": [
    "# Below code without normalization "
   ]
  },
  {
   "cell_type": "code",
   "execution_count": 28,
   "id": "4f1927c7",
   "metadata": {},
   "outputs": [
    {
     "data": {
      "text/plain": [
       "0.9157636947672984"
      ]
     },
     "execution_count": 28,
     "metadata": {},
     "output_type": "execute_result"
    }
   ],
   "source": [
    "sum(del_list)/len(add_list)"
   ]
  },
  {
   "cell_type": "code",
   "execution_count": 29,
   "id": "6a3bf33d",
   "metadata": {},
   "outputs": [
    {
     "data": {
      "text/plain": [
       "0.7248210813067055"
      ]
     },
     "execution_count": 29,
     "metadata": {},
     "output_type": "execute_result"
    }
   ],
   "source": [
    "sum(sari_list)/len(sari_list)"
   ]
  },
  {
   "cell_type": "code",
   "execution_count": 24,
   "id": "9aed0d7c",
   "metadata": {},
   "outputs": [],
   "source": [
    "with open(stat_file, \"w\") as out_f:\n",
    "    for elem in sorted_stat_output_list:\n",
    "        out_f.write(json.dumps(elem)+\"\\n\")"
   ]
  },
  {
   "cell_type": "code",
   "execution_count": 23,
   "id": "77399847",
   "metadata": {},
   "outputs": [],
   "source": [
    "sorted_stat_output_list = sorted(stat_output_list, key=lambda x: x[\"sari\"][\"add_score\"])"
   ]
  },
  {
   "cell_type": "code",
   "execution_count": 22,
   "id": "6dff21c9",
   "metadata": {},
   "outputs": [],
   "source": [
    "stat_output_list = []\n",
    "\n",
    "for index in range(len(pred_data)):\n",
    "    tmp_dict = pred_data[index].copy()\n",
    "    tmp_dict[\"references\"] = decoded_ref_list[index]\n",
    "    tmp_dict[\"sari\"] = {\"sari_score\": sari_list[index], \"keep_score\": keep_list[index], \"add_score\": add_list[index], \n",
    "                        \"del_score\": del_list[index]}\n",
    "    stat_output_list.append(tmp_dict)"
   ]
  },
  {
   "cell_type": "code",
   "execution_count": 21,
   "id": "2a5f6151",
   "metadata": {},
   "outputs": [],
   "source": [
    "sari_list = []\n",
    "keep_list = []\n",
    "add_list = []\n",
    "del_list = []\n",
    "\n",
    "for index in range(len(input_list)):\n",
    "    output = SARIsent(normalize(input_list[index]), normalize(pred_output_list[index]), [normalize(sent) for sent in decoded_ref_list[index]])\n",
    "    sari_list.append(output[0])\n",
    "    keep_list.append(output[1])\n",
    "    add_list.append(output[2])\n",
    "    del_list.append(output[3])"
   ]
  },
  {
   "cell_type": "code",
   "execution_count": 20,
   "id": "4581ec85",
   "metadata": {},
   "outputs": [],
   "source": [
    "encoded_ref_list = []\n",
    "\n",
    "for list_1 in ref_list:\n",
    "    tmp_list = []\n",
    "    \n",
    "    for ref in list_1:\n",
    "        tmp_list.append(tokenizer(ref.lower(), padding=True, truncation=True))\n",
    "        \n",
    "    encoded_ref_list.append(tmp_list)\n",
    "    \n",
    "\n",
    "decoded_ref_list = []\n",
    "\n",
    "for list_1 in encoded_ref_list:\n",
    "    tmp_list = []\n",
    "    \n",
    "    try:\n",
    "        for ref in list_1:\n",
    "            tmp_list.append(tokenizer.decode(ref[\"input_ids\"], skip_special_tokens=True))\n",
    "    except ValueError:\n",
    "        print(ref)\n",
    "        \n",
    "    decoded_ref_list.append(tmp_list)"
   ]
  },
  {
   "cell_type": "code",
   "execution_count": 19,
   "id": "8d39a420",
   "metadata": {},
   "outputs": [],
   "source": [
    "test_data = []\n",
    "\n",
    "with open(test_file, \"r\") as in_f:\n",
    "    for line in in_f:\n",
    "        test_data.append(json.loads(line))\n",
    "        \n",
    "pred_data = []\n",
    "\n",
    "with open(pred_output_file, \"r\") as in_f:\n",
    "    for line in in_f:\n",
    "        pred_data.append(json.loads(line))\n",
    "        \n",
    "\n",
    "input_list = []\n",
    "pred_output_list = []\n",
    "ref_list = []\n",
    "\n",
    "for index in range(len(pred_data)):\n",
    "    input_list.append(pred_data[index][\"input\"].lower())\n",
    "    pred_output_list.append(pred_data[index][\"pred_output\"].lower())\n",
    "    ref_list.append(test_data[index][\"gt_references\"])"
   ]
  },
  {
   "cell_type": "code",
   "execution_count": 18,
   "id": "ad53281f",
   "metadata": {},
   "outputs": [],
   "source": [
    "pred_output_file = \"/data3/saurabh/Product-Comparison/experiments/run7/pred_output.jsonl\"\n",
    "test_file = \"/data3/saurabh/Product-Comparison/experiments/run7/dataset/test.jsonl\"\n",
    "stat_file = \"/data3/saurabh/Product-Comparison/experiments/run7/stat.jsonl\""
   ]
  },
  {
   "cell_type": "code",
   "execution_count": 17,
   "id": "1c31a849",
   "metadata": {},
   "outputs": [
    {
     "name": "stderr",
     "output_type": "stream",
     "text": [
      "https://huggingface.co/bert-base-uncased/resolve/main/vocab.txt not found in cache or force_download set to True, downloading to /home/saurabh/.cache/huggingface/transformers/tmpxmtildjt\n"
     ]
    },
    {
     "data": {
      "application/vnd.jupyter.widget-view+json": {
       "model_id": "201d81f6db7f4d2b8712646688151fec",
       "version_major": 2,
       "version_minor": 0
      },
      "text/plain": [
       "Downloading:   0%|          | 0.00/232k [00:00<?, ?B/s]"
      ]
     },
     "metadata": {},
     "output_type": "display_data"
    },
    {
     "name": "stderr",
     "output_type": "stream",
     "text": [
      "storing https://huggingface.co/bert-base-uncased/resolve/main/vocab.txt in cache at /home/saurabh/.cache/huggingface/transformers/45c3f7a79a80e1cf0a489e5c62b43f173c15db47864303a55d623bb3c96f72a5.d789d64ebfe299b0e416afc4a169632f903f693095b4629a7ea271d5a0cf2c99\n",
      "creating metadata file for /home/saurabh/.cache/huggingface/transformers/45c3f7a79a80e1cf0a489e5c62b43f173c15db47864303a55d623bb3c96f72a5.d789d64ebfe299b0e416afc4a169632f903f693095b4629a7ea271d5a0cf2c99\n",
      "https://huggingface.co/bert-base-uncased/resolve/main/tokenizer_config.json not found in cache or force_download set to True, downloading to /home/saurabh/.cache/huggingface/transformers/tmpi6fbzvy2\n"
     ]
    },
    {
     "data": {
      "application/vnd.jupyter.widget-view+json": {
       "model_id": "2c8cf2297d2f44eea84f5e74796f036d",
       "version_major": 2,
       "version_minor": 0
      },
      "text/plain": [
       "Downloading:   0%|          | 0.00/28.0 [00:00<?, ?B/s]"
      ]
     },
     "metadata": {},
     "output_type": "display_data"
    },
    {
     "name": "stderr",
     "output_type": "stream",
     "text": [
      "storing https://huggingface.co/bert-base-uncased/resolve/main/tokenizer_config.json in cache at /home/saurabh/.cache/huggingface/transformers/c1d7f0a763fb63861cc08553866f1fc3e5a6f4f07621be277452d26d71303b7e.20430bd8e10ef77a7d2977accefe796051e01bc2fc4aa146bc862997a1a15e79\n",
      "creating metadata file for /home/saurabh/.cache/huggingface/transformers/c1d7f0a763fb63861cc08553866f1fc3e5a6f4f07621be277452d26d71303b7e.20430bd8e10ef77a7d2977accefe796051e01bc2fc4aa146bc862997a1a15e79\n",
      "https://huggingface.co/bert-base-uncased/resolve/main/tokenizer.json not found in cache or force_download set to True, downloading to /home/saurabh/.cache/huggingface/transformers/tmp52ogc16e\n"
     ]
    },
    {
     "data": {
      "application/vnd.jupyter.widget-view+json": {
       "model_id": "015f5f7b342141229d6fb9514cf0e453",
       "version_major": 2,
       "version_minor": 0
      },
      "text/plain": [
       "Downloading:   0%|          | 0.00/466k [00:00<?, ?B/s]"
      ]
     },
     "metadata": {},
     "output_type": "display_data"
    },
    {
     "name": "stderr",
     "output_type": "stream",
     "text": [
      "storing https://huggingface.co/bert-base-uncased/resolve/main/tokenizer.json in cache at /home/saurabh/.cache/huggingface/transformers/534479488c54aeaf9c3406f647aa2ec13648c06771ffe269edabebd4c412da1d.7f2721073f19841be16f41b0a70b600ca6b880c8f3df6f3535cbc704371bdfa4\n",
      "creating metadata file for /home/saurabh/.cache/huggingface/transformers/534479488c54aeaf9c3406f647aa2ec13648c06771ffe269edabebd4c412da1d.7f2721073f19841be16f41b0a70b600ca6b880c8f3df6f3535cbc704371bdfa4\n",
      "loading file https://huggingface.co/bert-base-uncased/resolve/main/vocab.txt from cache at /home/saurabh/.cache/huggingface/transformers/45c3f7a79a80e1cf0a489e5c62b43f173c15db47864303a55d623bb3c96f72a5.d789d64ebfe299b0e416afc4a169632f903f693095b4629a7ea271d5a0cf2c99\n",
      "loading file https://huggingface.co/bert-base-uncased/resolve/main/added_tokens.json from cache at None\n",
      "loading file https://huggingface.co/bert-base-uncased/resolve/main/special_tokens_map.json from cache at None\n",
      "loading file https://huggingface.co/bert-base-uncased/resolve/main/tokenizer_config.json from cache at /home/saurabh/.cache/huggingface/transformers/c1d7f0a763fb63861cc08553866f1fc3e5a6f4f07621be277452d26d71303b7e.20430bd8e10ef77a7d2977accefe796051e01bc2fc4aa146bc862997a1a15e79\n",
      "loading file https://huggingface.co/bert-base-uncased/resolve/main/tokenizer.json from cache at /home/saurabh/.cache/huggingface/transformers/534479488c54aeaf9c3406f647aa2ec13648c06771ffe269edabebd4c412da1d.7f2721073f19841be16f41b0a70b600ca6b880c8f3df6f3535cbc704371bdfa4\n",
      "loading configuration file https://huggingface.co/bert-base-uncased/resolve/main/config.json from cache at /home/saurabh/.cache/huggingface/transformers/3c61d016573b14f7f008c02c4e51a366c67ab274726fe2910691e2a761acf43e.37395cee442ab11005bcd270f3c34464dc1704b715b5d7d52b1a461abe3b9e4e\n",
      "Model config BertConfig {\n",
      "  \"architectures\": [\n",
      "    \"BertForMaskedLM\"\n",
      "  ],\n",
      "  \"attention_probs_dropout_prob\": 0.1,\n",
      "  \"classifier_dropout\": null,\n",
      "  \"gradient_checkpointing\": false,\n",
      "  \"hidden_act\": \"gelu\",\n",
      "  \"hidden_dropout_prob\": 0.1,\n",
      "  \"hidden_size\": 768,\n",
      "  \"initializer_range\": 0.02,\n",
      "  \"intermediate_size\": 3072,\n",
      "  \"layer_norm_eps\": 1e-12,\n",
      "  \"max_position_embeddings\": 512,\n",
      "  \"model_type\": \"bert\",\n",
      "  \"num_attention_heads\": 12,\n",
      "  \"num_hidden_layers\": 12,\n",
      "  \"pad_token_id\": 0,\n",
      "  \"position_embedding_type\": \"absolute\",\n",
      "  \"transformers_version\": \"4.10.0.dev0\",\n",
      "  \"type_vocab_size\": 2,\n",
      "  \"use_cache\": true,\n",
      "  \"vocab_size\": 30522\n",
      "}\n",
      "\n"
     ]
    }
   ],
   "source": [
    "tokenizer = BertTokenizer.from_pretrained(\"bert-base-uncased\")"
   ]
  },
  {
   "cell_type": "code",
   "execution_count": 16,
   "id": "154123cb",
   "metadata": {},
   "outputs": [],
   "source": [
    "from evaluation.sari_hugging_face import SARIsent, normalize\n",
    "import json\n",
    "from transformers import BertTokenizer"
   ]
  },
  {
   "cell_type": "markdown",
   "id": "814008bc",
   "metadata": {},
   "source": [
    "# SARI from huggingface code"
   ]
  },
  {
   "cell_type": "code",
   "execution_count": 23,
   "id": "5ffdc6f0",
   "metadata": {},
   "outputs": [
    {
     "data": {
      "text/plain": [
       "{'sari': 77.06148035047036}"
      ]
     },
     "execution_count": 23,
     "metadata": {},
     "output_type": "execute_result"
    }
   ],
   "source": [
    "input_list_output = []\n",
    "pred_output_list_output = []\n",
    "ref_list_output = []\n",
    "\n",
    "for index in range(len(pred_data)):\n",
    "    input_list_output.append(pred_data[index][\"input\"])\n",
    "    pred_output_list_output.append(pred_data[index][\"pred_output\"])\n",
    "    ref_list_output.append([test_data[index][\"gt_output\"]])\n",
    "    \n",
    "output = sari_metric.compute(sources=input_list_output, predictions=pred_output_list_output, references=ref_list_output)\n",
    "output"
   ]
  },
  {
   "cell_type": "code",
   "execution_count": 21,
   "id": "3be52a9d",
   "metadata": {},
   "outputs": [
    {
     "data": {
      "text/plain": [
       "{'sari': 65.83228673450357}"
      ]
     },
     "execution_count": 21,
     "metadata": {},
     "output_type": "execute_result"
    }
   ],
   "source": [
    "output"
   ]
  },
  {
   "cell_type": "code",
   "execution_count": 19,
   "id": "3e89a5b4",
   "metadata": {},
   "outputs": [],
   "source": [
    "output = sari_metric.compute(sources=input_list, predictions=pred_output_list, references=ref_list)"
   ]
  },
  {
   "cell_type": "code",
   "execution_count": 18,
   "id": "d63761a0",
   "metadata": {},
   "outputs": [],
   "source": [
    "sari_metric = datasets.load_metric(\"sari\")"
   ]
  },
  {
   "cell_type": "code",
   "execution_count": 17,
   "id": "6d56d2eb",
   "metadata": {},
   "outputs": [],
   "source": [
    "input_list = []\n",
    "pred_output_list = []\n",
    "ref_list = []\n",
    "\n",
    "for index in range(len(pred_data)):\n",
    "    input_list.append(pred_data[index][\"input\"])\n",
    "    pred_output_list.append(pred_data[index][\"pred_output\"])\n",
    "    ref_list.append(test_data[index][\"gt_references\"])"
   ]
  },
  {
   "cell_type": "code",
   "execution_count": 16,
   "id": "186901e4",
   "metadata": {},
   "outputs": [],
   "source": [
    "test_data = []\n",
    "\n",
    "with open(test_file, \"r\") as in_f:\n",
    "    for line in in_f:\n",
    "        test_data.append(json.loads(line))\n",
    "        \n",
    "pred_data = []\n",
    "\n",
    "with open(pred_output_file, \"r\") as in_f:\n",
    "    for line in in_f:\n",
    "        pred_data.append(json.loads(line))"
   ]
  },
  {
   "cell_type": "code",
   "execution_count": 15,
   "id": "d4c945d1",
   "metadata": {},
   "outputs": [],
   "source": [
    "pred_output_file = \"/data3/saurabh/experiments/run2/pred_output.jsonl\"\n",
    "test_file = \"/data3/saurabh/experiments/run2/dataset/test.jsonl\""
   ]
  },
  {
   "cell_type": "code",
   "execution_count": 14,
   "id": "08426b58",
   "metadata": {},
   "outputs": [],
   "source": [
    "import datasets, json"
   ]
  },
  {
   "cell_type": "markdown",
   "id": "ef6c6104",
   "metadata": {},
   "source": [
    "# SARI metric from datasets huggingface"
   ]
  },
  {
   "cell_type": "code",
   "execution_count": 20,
   "id": "3aed9c36",
   "metadata": {},
   "outputs": [],
   "source": [
    "sorted_sari_list_output = sorted(sari_list_output, key=lambda x: x[0])"
   ]
  },
  {
   "cell_type": "code",
   "execution_count": 19,
   "id": "8eada1fb",
   "metadata": {},
   "outputs": [],
   "source": [
    "sari_list_output = []\n",
    "keep_list_output = []\n",
    "addition_list_output = []\n",
    "deletion_list_output = []\n",
    "\n",
    "for index in range(len(pred_data)):\n",
    "    input_ids = tokenizer(pred_data[index][\"input\"], padding=True, truncation=True)\n",
    "    pred_ids = tokenizer(pred_data[index][\"pred_output\"], padding=True, truncation=True)\n",
    "    ref_ids = [tokenizer(pred_data[index][\"gt_output\"], padding=True, truncation=True)]\n",
    "            \n",
    "    output_score = get_sari_score(source_ids=input_ids, prediction_ids=pred_ids, list_of_targets=ref_ids)\n",
    "    sari_list_output.append((output_score[0], index))\n",
    "    keep_list_output.append(output_score[1])\n",
    "    addition_list_output.append(output_score[2])\n",
    "    deletion_list_output.append(output_score[3])"
   ]
  },
  {
   "cell_type": "code",
   "execution_count": 33,
   "id": "d49013e7",
   "metadata": {},
   "outputs": [
    {
     "data": {
      "text/plain": [
       "(1.0, 5176)"
      ]
     },
     "execution_count": 33,
     "metadata": {},
     "output_type": "execute_result"
    }
   ],
   "source": [
    "sorted_sari_list[-1]"
   ]
  },
  {
   "cell_type": "code",
   "execution_count": 31,
   "id": "ae5dedae",
   "metadata": {},
   "outputs": [],
   "source": [
    "sorted_sari_list = sorted(sari_list, key=lambda x: x[0])"
   ]
  },
  {
   "cell_type": "code",
   "execution_count": 30,
   "id": "35e12fba",
   "metadata": {},
   "outputs": [],
   "source": [
    "sari_list = []\n",
    "keep_list = []\n",
    "addition_list = []\n",
    "deletion_list = []\n",
    "\n",
    "for index in range(len(pred_data)):\n",
    "    input_ids = tokenizer(pred_data[index][\"input\"], padding=True, truncation=True)\n",
    "    pred_ids = tokenizer(pred_data[index][\"pred_output\"], padding=True, truncation=True)\n",
    "    ref_ids = []\n",
    "    \n",
    "    for ref in test_data[index][\"gt_references\"]:\n",
    "        ref_ids.append(tokenizer(ref, padding=True, truncation=True))\n",
    "        \n",
    "    output_score = get_sari_score(source_ids=input_ids, prediction_ids=pred_ids, list_of_targets=ref_ids)\n",
    "    sari_list.append((output_score[0], index))\n",
    "    keep_list.append(output_score[1])\n",
    "    addition_list.append(output_score[2])\n",
    "    deletion_list.append(output_score[3])"
   ]
  },
  {
   "cell_type": "code",
   "execution_count": 21,
   "id": "bff06037",
   "metadata": {},
   "outputs": [],
   "source": [
    "# pred_output_file = \"/data3/saurabh/experiments/run2/pred_output.jsonl\"\n",
    "\n",
    "with open(pred_output_with_ref_file, \"w\") as out_f:\n",
    "    for index in range(len(pred_data)):\n",
    "        tmp_dict = {}\n",
    "        \n",
    "        tmp_dict[\"input\"] = pred_data[index][\"input\"]\n",
    "        tmp_dict[\"gt_output\"] = pred_data[index][\"gt_output\"]\n",
    "        tmp_dict[\"pred_output\"] = pred_data[index][\"pred_output\"]\n",
    "        \n",
    "        gt_refs = test_data[index][\"gt_references\"]\n",
    "        tmp_list = []\n",
    "        \n",
    "        for ref in gt_refs:\n",
    "            tmp_list.append(tokenizer.decode(tokenizer(ref.lower(), truncation=True, padding=True)[\"input_ids\"], skip_special_tokens=True))\n",
    "            \n",
    "        tmp_dict[\"gt_references\"] = tmp_list\n",
    "        \n",
    "        out_f.write(json.dumps(tmp_dict)+\"\\n\")"
   ]
  },
  {
   "cell_type": "code",
   "execution_count": 20,
   "id": "088ebcc1",
   "metadata": {},
   "outputs": [
    {
     "name": "stderr",
     "output_type": "stream",
     "text": [
      "loading file https://huggingface.co/bert-base-uncased/resolve/main/vocab.txt from cache at /home/saurabh/.cache/huggingface/transformers/45c3f7a79a80e1cf0a489e5c62b43f173c15db47864303a55d623bb3c96f72a5.d789d64ebfe299b0e416afc4a169632f903f693095b4629a7ea271d5a0cf2c99\n",
      "loading file https://huggingface.co/bert-base-uncased/resolve/main/added_tokens.json from cache at None\n",
      "loading file https://huggingface.co/bert-base-uncased/resolve/main/special_tokens_map.json from cache at None\n",
      "loading file https://huggingface.co/bert-base-uncased/resolve/main/tokenizer_config.json from cache at /home/saurabh/.cache/huggingface/transformers/c1d7f0a763fb63861cc08553866f1fc3e5a6f4f07621be277452d26d71303b7e.20430bd8e10ef77a7d2977accefe796051e01bc2fc4aa146bc862997a1a15e79\n",
      "loading file https://huggingface.co/bert-base-uncased/resolve/main/tokenizer.json from cache at /home/saurabh/.cache/huggingface/transformers/534479488c54aeaf9c3406f647aa2ec13648c06771ffe269edabebd4c412da1d.7f2721073f19841be16f41b0a70b600ca6b880c8f3df6f3535cbc704371bdfa4\n",
      "loading configuration file https://huggingface.co/bert-base-uncased/resolve/main/config.json from cache at /home/saurabh/.cache/huggingface/transformers/3c61d016573b14f7f008c02c4e51a366c67ab274726fe2910691e2a761acf43e.37395cee442ab11005bcd270f3c34464dc1704b715b5d7d52b1a461abe3b9e4e\n",
      "Model config BertConfig {\n",
      "  \"architectures\": [\n",
      "    \"BertForMaskedLM\"\n",
      "  ],\n",
      "  \"attention_probs_dropout_prob\": 0.1,\n",
      "  \"classifier_dropout\": null,\n",
      "  \"gradient_checkpointing\": false,\n",
      "  \"hidden_act\": \"gelu\",\n",
      "  \"hidden_dropout_prob\": 0.1,\n",
      "  \"hidden_size\": 768,\n",
      "  \"initializer_range\": 0.02,\n",
      "  \"intermediate_size\": 3072,\n",
      "  \"layer_norm_eps\": 1e-12,\n",
      "  \"max_position_embeddings\": 512,\n",
      "  \"model_type\": \"bert\",\n",
      "  \"num_attention_heads\": 12,\n",
      "  \"num_hidden_layers\": 12,\n",
      "  \"pad_token_id\": 0,\n",
      "  \"position_embedding_type\": \"absolute\",\n",
      "  \"transformers_version\": \"4.10.0.dev0\",\n",
      "  \"type_vocab_size\": 2,\n",
      "  \"use_cache\": true,\n",
      "  \"vocab_size\": 30522\n",
      "}\n",
      "\n"
     ]
    }
   ],
   "source": [
    "tokenizer = BertTokenizer.from_pretrained(\"bert-base-uncased\")"
   ]
  },
  {
   "cell_type": "code",
   "execution_count": 19,
   "id": "98dcc2b9",
   "metadata": {},
   "outputs": [],
   "source": [
    "test_data = []\n",
    "\n",
    "with open(test_file, \"r\") as in_f:\n",
    "    for line in in_f:\n",
    "        test_data.append(json.loads(line))\n",
    "        \n",
    "pred_data = []\n",
    "\n",
    "with open(pred_output_file, \"r\") as in_f:\n",
    "    for line in in_f:\n",
    "        pred_data.append(json.loads(line))"
   ]
  },
  {
   "cell_type": "code",
   "execution_count": 18,
   "id": "9a5b1b3c",
   "metadata": {},
   "outputs": [],
   "source": [
    "pred_output_file = \"/data3/saurabh/Product-Comparison/experiments/run9/pred_output.jsonl\"\n",
    "test_file = \"/data3/saurabh/Product-Comparison/experiments/run9/dataset/test.jsonl\"\n",
    "pred_output_with_ref_file = \"/data3/saurabh/Product-Comparison/experiments/run9/pred_output_with_ref.jsonl\""
   ]
  },
  {
   "cell_type": "code",
   "execution_count": 15,
   "id": "1ff101e1",
   "metadata": {},
   "outputs": [],
   "source": [
    "from transformers import BertTokenizer\n",
    "from evaluation.sari_hook import get_sari_score\n",
    "\n",
    "import json"
   ]
  },
  {
   "cell_type": "markdown",
   "id": "883e452f",
   "metadata": {},
   "source": [
    "# Evaluation code"
   ]
  },
  {
   "cell_type": "code",
   "execution_count": 14,
   "id": "440fc498",
   "metadata": {},
   "outputs": [],
   "source": [
    "with open(pred_file, \"w\") as out_f:\n",
    "    for index in range(len(test_preds)):\n",
    "        input_ids = test_dataset[index][\"input_ids\"]\n",
    "        output_ids = test_dataset[index][\"decoder_input_ids\"]\n",
    "        pred_ids = test_preds[index]\n",
    "\n",
    "        tmp_dict = id_to_text(input_ids, output_ids, pred_ids, pred_tokenizer)\n",
    "        out_f.write(json.dumps(tmp_dict)+\"\\n\")"
   ]
  },
  {
   "cell_type": "code",
   "execution_count": 13,
   "id": "6f61f832",
   "metadata": {},
   "outputs": [],
   "source": [
    "def id_to_text(input_ids, output_ids, prediction_ids, tokenizer):\n",
    "    \n",
    "    tmp_dict = {}\n",
    "    \n",
    "    index_array = np.where(input_ids == 102)[0]\n",
    "    if len(index_array) > 0:\n",
    "        input_ids = input_ids[:index_array[0]+1]\n",
    "    tmp_dict[\"input\"] = tokenizer.decode(input_ids, skip_special_tokens=True)\n",
    "\n",
    "    \n",
    "    index_array = np.where(output_ids == 102)[0]\n",
    "    if len(index_array) > 0:\n",
    "        output_ids = output_ids[:index_array[0]+1]\n",
    "    tmp_dict[\"gt_output\"] = tokenizer.decode(output_ids, skip_special_tokens=True)\n",
    "        \n",
    "    index_array = np.where(prediction_ids == 102)[0]\n",
    "    if len(index_array) > 0:\n",
    "        prediction_ids = prediction_ids[:index_array[0]+1]\n",
    "    tmp_dict[\"pred_output\"] = tokenizer.decode(prediction_ids, skip_special_tokens=True)\n",
    "\n",
    "    return tmp_dict"
   ]
  },
  {
   "cell_type": "code",
   "execution_count": 12,
   "id": "7290cd24",
   "metadata": {},
   "outputs": [
    {
     "data": {
      "text/plain": [
       "(21397, 56)"
      ]
     },
     "execution_count": 12,
     "metadata": {},
     "output_type": "execute_result"
    }
   ],
   "source": [
    "test_preds = output.predictions[0].argmax(axis=-1)\n",
    "test_preds.shape"
   ]
  },
  {
   "cell_type": "code",
   "execution_count": 11,
   "id": "e3a61473",
   "metadata": {},
   "outputs": [
    {
     "name": "stderr",
     "output_type": "stream",
     "text": [
      "/home/saurabh/venvs/general_env/lib/python3.6/site-packages/torch/nn/parallel/data_parallel.py:30: UserWarning: \n",
      "    There is an imbalance between your GPUs. You may want to exclude GPU 2 which\n",
      "    has less than 75% of the memory or cores of GPU 0. You can do so by setting\n",
      "    the device_ids argument to DataParallel, or by setting the CUDA_VISIBLE_DEVICES\n",
      "    environment variable.\n",
      "  warnings.warn(imbalance_warn.format(device_ids[min_pos], device_ids[max_pos]))\n",
      "***** Running test-run9 *****\n",
      "  Num examples = 21397\n",
      "  Batch size = 20\n",
      "/home/saurabh/venvs/general_env/lib/python3.6/site-packages/transformers/trainer_pt_utils.py:378: FutureWarning: DistributedTensorGatherer is deprecated and will be removed in v5 of Transformers.\n",
      "  FutureWarning,\n",
      "/home/saurabh/venvs/general_env/lib/python3.6/site-packages/torch/nn/parallel/_functions.py:68: UserWarning: Was asked to gather along dimension 0, but all input tensors were scalars; will instead unsqueeze and return a vector.\n",
      "  warnings.warn('Was asked to gather along dimension 0, but all '\n"
     ]
    },
    {
     "data": {
      "text/html": [
       "\n",
       "    <div>\n",
       "      \n",
       "      <progress value='1070' max='1070' style='width:300px; height:20px; vertical-align: middle;'></progress>\n",
       "      [1070/1070 52:14]\n",
       "    </div>\n",
       "    "
      ],
      "text/plain": [
       "<IPython.core.display.HTML object>"
      ]
     },
     "metadata": {},
     "output_type": "display_data"
    }
   ],
   "source": [
    "output = pred_trainer.prediction_loop(test_loader, description=\"test-run9\")"
   ]
  },
  {
   "cell_type": "code",
   "execution_count": 10,
   "id": "5fbf8992",
   "metadata": {},
   "outputs": [],
   "source": [
    "pred_trainer = Seq2SeqTrainer(model=pred_model, tokenizer=pred_tokenizer, args=pred_args)"
   ]
  },
  {
   "cell_type": "code",
   "execution_count": 9,
   "id": "cc90e50e",
   "metadata": {},
   "outputs": [
    {
     "name": "stdout",
     "output_type": "stream",
     "text": [
      "torch.cuda.device_count(): 4\n"
     ]
    }
   ],
   "source": [
    "pred_args = Seq2SeqTrainingArguments(\n",
    "    output_dir = output_dir,\n",
    "    do_train = False,\n",
    "    do_eval = False,\n",
    "    do_predict = True,\n",
    "    eval_accumulation_steps=2,\n",
    "    run_name = run_name,\n",
    "    report_to=\"wandb\")"
   ]
  },
  {
   "cell_type": "code",
   "execution_count": 8,
   "id": "ad63c717",
   "metadata": {},
   "outputs": [],
   "source": [
    "test_dataset = ComparativeResponseDataset(test_input_encoding, test_output_encoding, pred_tokenizer)\n",
    "test_loader = torch.utils.data.DataLoader(test_dataset, batch_size=20, shuffle=False)"
   ]
  },
  {
   "cell_type": "code",
   "execution_count": 7,
   "id": "1053fd2a",
   "metadata": {},
   "outputs": [
    {
     "name": "stdout",
     "output_type": "stream",
     "text": [
      "CPU times: user 15.9 s, sys: 130 ms, total: 16.1 s\n",
      "Wall time: 19.5 s\n"
     ]
    }
   ],
   "source": [
    "%%time\n",
    "\n",
    "test_input, test_output = read_jsonl(test_file)\n",
    "test_input_encoding = pred_tokenizer(test_input, truncation=True, padding=True)\n",
    "test_output_encoding = pred_tokenizer(test_output, truncation=True, padding=True)"
   ]
  },
  {
   "cell_type": "code",
   "execution_count": 6,
   "id": "16b007b0",
   "metadata": {},
   "outputs": [],
   "source": [
    "pred_tokenizer = BertTokenizer.from_pretrained(tokenizer_model, cache_dir=cache_dir)\n",
    "pred_model = EncoderDecoderModel.from_pretrained(model_dir, cache_dir=cache_dir)"
   ]
  },
  {
   "cell_type": "code",
   "execution_count": 5,
   "id": "9cfd25fa",
   "metadata": {},
   "outputs": [],
   "source": [
    "class ComparativeResponseDataset(torch.utils.data.Dataset):\n",
    "    \n",
    "    def __init__(self, input_encoding, output_encoding, tokenizer):\n",
    "        self.input_encoding = input_encoding\n",
    "        self.output_encoding = output_encoding\n",
    "        self.tokenizer = tokenizer\n",
    "        \n",
    "    def __getitem__(self, index):\n",
    "        item = {}\n",
    "        item[\"input_ids\"] = np.array(self.input_encoding.input_ids[index])\n",
    "        item[\"attention_mask\"] = np.array(self.input_encoding.attention_mask[index])\n",
    "        item[\"token_type_ids\"] = np.array(self.input_encoding.token_type_ids[index])\n",
    "        item[\"decoder_input_ids\"] = np.array(self.output_encoding.input_ids[index])\n",
    "        item[\"decoder_attention_mask\"] = np.array(self.output_encoding.attention_mask[index])\n",
    "        item[\"decoder_token_type_ids\"] = np.array(self.output_encoding.token_type_ids[index])\n",
    "        item[\"labels\"] = []\n",
    "        \n",
    "        for token in self.output_encoding.input_ids[index]:\n",
    "            if token == self.tokenizer.pad_token_id:\n",
    "                item[\"labels\"].append(-100)\n",
    "            else:\n",
    "                item[\"labels\"].append(token)\n",
    "\n",
    "        item[\"labels\"] = np.array(item[\"labels\"])\n",
    "                \n",
    "        return item\n",
    "    \n",
    "    def __len__(self):\n",
    "        return len(self.input_encoding.input_ids)"
   ]
  },
  {
   "cell_type": "code",
   "execution_count": 4,
   "id": "4d19d3c4",
   "metadata": {},
   "outputs": [],
   "source": [
    "def read_jsonl(file_name):\n",
    "        input_data = []\n",
    "        output_data = []\n",
    "\n",
    "        with open(file_name, \"r\") as in_f:\n",
    "            for line in in_f:\n",
    "                tmp_dict = json.loads(line)\n",
    "                input_data.append(tmp_dict[\"input\"])\n",
    "                output_data.append(tmp_dict[\"gt_output\"])\n",
    "\n",
    "        return input_data, output_data"
   ]
  },
  {
   "cell_type": "code",
   "execution_count": 3,
   "id": "17b20f0a",
   "metadata": {},
   "outputs": [],
   "source": [
    "model_dir = \"/data3/saurabh/Product-Comparison/experiments/run9/output/checkpoint-27250\"\n",
    "\n",
    "test_file = \"/data3/saurabh/Product-Comparison/experiments/run9/dataset/test.jsonl\"\n",
    "pred_file = \"/data3/saurabh/Product-Comparison/experiments/run9/pred_output.jsonl\"\n",
    "\n",
    "output_dir = \"/data3/saurabh/Product-Comparison/experiments/run9/output\"\n",
    "log_dir = \"/data3/saurabh/Product-Comparison/experiments/run9/logs\"\n",
    "cache_dir = \"/data3/saurabh/Product-Comparison/experiments/run9/cache\"\n",
    "\n",
    "run_name = \"bert2bert_encoder_decoder_amazon_v6\"\n",
    "tokenizer_model = \"bert-base-uncased\""
   ]
  },
  {
   "cell_type": "code",
   "execution_count": 2,
   "id": "691e34dd",
   "metadata": {},
   "outputs": [
    {
     "name": "stderr",
     "output_type": "stream",
     "text": [
      "Failed to detect the name of this notebook, you can set it manually with the WANDB_NOTEBOOK_NAME environment variable to enable code saving.\n",
      "\u001b[34m\u001b[1mwandb\u001b[0m: Currently logged in as: \u001b[33msaurabhhssaurabh\u001b[0m (use `wandb login --relogin` to force relogin)\n",
      "\u001b[34m\u001b[1mwandb\u001b[0m: wandb version 0.12.10 is available!  To upgrade, please run:\n",
      "\u001b[34m\u001b[1mwandb\u001b[0m:  $ pip install wandb --upgrade\n"
     ]
    },
    {
     "data": {
      "text/html": [
       "\n",
       "                    Syncing run <strong><a href=\"https://wandb.ai/saurabhhssaurabh/Product-Comparison/runs/3gq6kt5c\" target=\"_blank\">easy-leaf-27</a></strong> to <a href=\"https://wandb.ai/saurabhhssaurabh/Product-Comparison\" target=\"_blank\">Weights & Biases</a> (<a href=\"https://docs.wandb.com/integrations/jupyter.html\" target=\"_blank\">docs</a>).<br/>\n",
       "\n",
       "                "
      ],
      "text/plain": [
       "<IPython.core.display.HTML object>"
      ]
     },
     "metadata": {},
     "output_type": "display_data"
    },
    {
     "data": {
      "text/html": [
       "<button onClick=\"this.nextSibling.style.display='block';this.style.display='none';\">Display W&B run</button><iframe src=\"https://wandb.ai/saurabhhssaurabh/Product-Comparison/runs/3gq6kt5c?jupyter=true\" style=\"border:none;width:100%;height:420px;display:none;\"></iframe>"
      ],
      "text/plain": [
       "<wandb.sdk.wandb_run.Run at 0x7f8ed9489828>"
      ]
     },
     "execution_count": 2,
     "metadata": {},
     "output_type": "execute_result"
    }
   ],
   "source": [
    "wandb.login()\n",
    "\n",
    "os.environ[\"WANDB_PROJECT\"] = \"comparitive_response_generation\"\n",
    "\n",
    "# os.environ[\"CUDA_DEVICE_ORDER\"] = \"PCI_BUS_ID\"\n",
    "# os.environ[\"CUDA_VISIBLE_DEVICES\"] = \"0,1\"\n",
    "wandb.init(dir=\"/data3/saurabh/Product-Comparison/experiments/run9/wandb\")"
   ]
  },
  {
   "cell_type": "code",
   "execution_count": 1,
   "id": "71a869a8",
   "metadata": {},
   "outputs": [],
   "source": [
    "from transformers import BertTokenizer, EncoderDecoderModel, Seq2SeqTrainer, Seq2SeqTrainingArguments\n",
    "import json, torch, wandb, os, random\n",
    "import numpy as np"
   ]
  },
  {
   "cell_type": "markdown",
   "id": "7330b069",
   "metadata": {},
   "source": [
    "# Prediction on v4 dataset/ v5_dataset/ v6_dataset"
   ]
  },
  {
   "cell_type": "code",
   "execution_count": 12,
   "id": "84847776",
   "metadata": {},
   "outputs": [
    {
     "data": {
      "text/html": [
       "<br/>Waiting for W&B process to finish, PID 39910... <strong style=\"color:green\">(success).</strong>"
      ],
      "text/plain": [
       "<IPython.core.display.HTML object>"
      ]
     },
     "metadata": {},
     "output_type": "display_data"
    },
    {
     "data": {
      "application/vnd.jupyter.widget-view+json": {
       "model_id": "",
       "version_major": 2,
       "version_minor": 0
      },
      "text/plain": [
       "VBox(children=(Label(value=' 0.07MB of 0.07MB uploaded (0.00MB deduped)\\r'), FloatProgress(value=1.0, max=1.0)…"
      ]
     },
     "metadata": {},
     "output_type": "display_data"
    },
    {
     "data": {
      "text/html": [
       "<style>\n",
       "    table.wandb td:nth-child(1) { padding: 0 10px; text-align: right }\n",
       "    .wandb-row { display: flex; flex-direction: row; flex-wrap: wrap; width: 100% }\n",
       "    .wandb-col { display: flex; flex-direction: column; flex-basis: 100%; flex: 1; padding: 10px; }\n",
       "    </style>\n",
       "<div class=\"wandb-row\"><div class=\"wandb-col\">\n",
       "<h3>Run history:</h3><br/><table class=\"wandb\"><tr><td>eval/loss</td><td>█▃▂▂▁</td></tr><tr><td>eval/runtime</td><td>▁▁▁██</td></tr><tr><td>eval/samples_per_second</td><td>███▁▁</td></tr><tr><td>eval/steps_per_second</td><td>███▁▁</td></tr><tr><td>train/epoch</td><td>▁▁▃▃▅▅▆▆███</td></tr><tr><td>train/global_step</td><td>▁▁▃▃▅▅▆▆███</td></tr><tr><td>train/learning_rate</td><td>█▆▅▃▁</td></tr><tr><td>train/loss</td><td>█▂▁▁▁</td></tr><tr><td>train/total_flos</td><td>▁</td></tr><tr><td>train/train_loss</td><td>▁</td></tr><tr><td>train/train_runtime</td><td>▁</td></tr><tr><td>train/train_samples_per_second</td><td>▁</td></tr><tr><td>train/train_steps_per_second</td><td>▁</td></tr></table><br/></div><div class=\"wandb-col\">\n",
       "<h3>Run summary:</h3><br/><table class=\"wandb\"><tr><td>eval/loss</td><td>0.10513</td></tr><tr><td>eval/runtime</td><td>8.5639</td></tr><tr><td>eval/samples_per_second</td><td>113.383</td></tr><tr><td>eval/steps_per_second</td><td>3.62</td></tr><tr><td>train/epoch</td><td>5.0</td></tr><tr><td>train/global_step</td><td>67615</td></tr><tr><td>train/learning_rate</td><td>0.0</td></tr><tr><td>train/loss</td><td>0.017</td></tr><tr><td>train/total_flos</td><td>5.936556481861591e+17</td></tr><tr><td>train/train_loss</td><td>0.0753</td></tr><tr><td>train/train_runtime</td><td>45323.4113</td></tr><tr><td>train/train_samples_per_second</td><td>47.738</td></tr><tr><td>train/train_steps_per_second</td><td>1.492</td></tr></table>\n",
       "</div></div>\n",
       "Synced 6 W&B file(s), 0 media file(s), 0 artifact file(s) and 1 other file(s)\n",
       "<br/>Synced <strong style=\"color:#cdcd00\">sunny-darkness-21</strong>: <a href=\"https://wandb.ai/saurabhhssaurabh/Product-Comparison/runs/1k7s4eyw\" target=\"_blank\">https://wandb.ai/saurabhhssaurabh/Product-Comparison/runs/1k7s4eyw</a><br/>\n",
       "Find logs at: <code>./experiments/run7/wandb/wandb/run-20211125_011657-1k7s4eyw/logs</code><br/>\n"
      ],
      "text/plain": [
       "<IPython.core.display.HTML object>"
      ]
     },
     "metadata": {},
     "output_type": "display_data"
    }
   ],
   "source": [
    "wandb.finish()"
   ]
  },
  {
   "cell_type": "code",
   "execution_count": 11,
   "id": "92c5ae25",
   "metadata": {},
   "outputs": [
    {
     "name": "stderr",
     "output_type": "stream",
     "text": [
      "/home/saurabh/venvs/general_env/lib/python3.6/site-packages/torch/nn/parallel/data_parallel.py:30: UserWarning: \n",
      "    There is an imbalance between your GPUs. You may want to exclude GPU 1 which\n",
      "    has less than 75% of the memory or cores of GPU 0. You can do so by setting\n",
      "    the device_ids argument to DataParallel, or by setting the CUDA_VISIBLE_DEVICES\n",
      "    environment variable.\n",
      "  warnings.warn(imbalance_warn.format(device_ids[min_pos], device_ids[max_pos]))\n",
      "***** Running training *****\n",
      "  Num examples = 432730\n",
      "  Num Epochs = 5\n",
      "  Instantaneous batch size per device = 16\n",
      "  Total train batch size (w. parallel, distributed & accumulation) = 32\n",
      "  Gradient Accumulation steps = 1\n",
      "  Total optimization steps = 67615\n",
      "Automatic Weights & Biases logging enabled, to disable set os.environ[\"WANDB_DISABLED\"] = \"true\"\n",
      "/home/saurabh/venvs/general_env/lib/python3.6/site-packages/torch/nn/parallel/_functions.py:68: UserWarning: Was asked to gather along dimension 0, but all input tensors were scalars; will instead unsqueeze and return a vector.\n",
      "  warnings.warn('Was asked to gather along dimension 0, but all '\n"
     ]
    },
    {
     "data": {
      "text/html": [
       "\n",
       "    <div>\n",
       "      \n",
       "      <progress value='67615' max='67615' style='width:300px; height:20px; vertical-align: middle;'></progress>\n",
       "      [67615/67615 12:35:18, Epoch 5/5]\n",
       "    </div>\n",
       "    <table border=\"1\" class=\"dataframe\">\n",
       "  <thead>\n",
       "    <tr style=\"text-align: left;\">\n",
       "      <th>Epoch</th>\n",
       "      <th>Training Loss</th>\n",
       "      <th>Validation Loss</th>\n",
       "    </tr>\n",
       "  </thead>\n",
       "  <tbody>\n",
       "    <tr>\n",
       "      <td>1</td>\n",
       "      <td>0.271000</td>\n",
       "      <td>0.124635</td>\n",
       "    </tr>\n",
       "    <tr>\n",
       "      <td>2</td>\n",
       "      <td>0.037400</td>\n",
       "      <td>0.111036</td>\n",
       "    </tr>\n",
       "    <tr>\n",
       "      <td>3</td>\n",
       "      <td>0.028800</td>\n",
       "      <td>0.108057</td>\n",
       "    </tr>\n",
       "    <tr>\n",
       "      <td>4</td>\n",
       "      <td>0.022300</td>\n",
       "      <td>0.107031</td>\n",
       "    </tr>\n",
       "    <tr>\n",
       "      <td>5</td>\n",
       "      <td>0.017000</td>\n",
       "      <td>0.105133</td>\n",
       "    </tr>\n",
       "  </tbody>\n",
       "</table><p>"
      ],
      "text/plain": [
       "<IPython.core.display.HTML object>"
      ]
     },
     "metadata": {},
     "output_type": "display_data"
    },
    {
     "name": "stderr",
     "output_type": "stream",
     "text": [
      "IOPub message rate exceeded.\n",
      "The notebook server will temporarily stop sending output\n",
      "to the client in order to avoid crashing it.\n",
      "To change this limit, set the config variable\n",
      "`--NotebookApp.iopub_msg_rate_limit`.\n",
      "\n",
      "Current values:\n",
      "NotebookApp.iopub_msg_rate_limit=1000.0 (msgs/sec)\n",
      "NotebookApp.rate_limit_window=3.0 (secs)\n",
      "\n",
      "***** Running Evaluation *****\n",
      "  Num examples = 971\n",
      "  Batch size = 32\n",
      "Saving model checkpoint to /data3/saurabh/Product-Comparison/experiments/run7/output/checkpoint-13523\n",
      "Configuration saved in /data3/saurabh/Product-Comparison/experiments/run7/output/checkpoint-13523/config.json\n",
      "Model weights saved in /data3/saurabh/Product-Comparison/experiments/run7/output/checkpoint-13523/pytorch_model.bin\n",
      "tokenizer config file saved in /data3/saurabh/Product-Comparison/experiments/run7/output/checkpoint-13523/tokenizer_config.json\n",
      "Special tokens file saved in /data3/saurabh/Product-Comparison/experiments/run7/output/checkpoint-13523/special_tokens_map.json\n",
      "/home/saurabh/venvs/general_env/lib/python3.6/site-packages/torch/nn/parallel/_functions.py:68: UserWarning: Was asked to gather along dimension 0, but all input tensors were scalars; will instead unsqueeze and return a vector.\n",
      "  warnings.warn('Was asked to gather along dimension 0, but all '\n",
      "IOPub message rate exceeded.\n",
      "The notebook server will temporarily stop sending output\n",
      "to the client in order to avoid crashing it.\n",
      "To change this limit, set the config variable\n",
      "`--NotebookApp.iopub_msg_rate_limit`.\n",
      "\n",
      "Current values:\n",
      "NotebookApp.iopub_msg_rate_limit=1000.0 (msgs/sec)\n",
      "NotebookApp.rate_limit_window=3.0 (secs)\n",
      "\n",
      "/home/saurabh/venvs/general_env/lib/python3.6/site-packages/torch/nn/parallel/data_parallel.py:30: UserWarning: \n",
      "    There is an imbalance between your GPUs. You may want to exclude GPU 1 which\n",
      "    has less than 75% of the memory or cores of GPU 0. You can do so by setting\n",
      "    the device_ids argument to DataParallel, or by setting the CUDA_VISIBLE_DEVICES\n",
      "    environment variable.\n",
      "  warnings.warn(imbalance_warn.format(device_ids[min_pos], device_ids[max_pos]))\n",
      "***** Running Evaluation *****\n",
      "  Num examples = 971\n",
      "  Batch size = 32\n",
      "Saving model checkpoint to /data3/saurabh/Product-Comparison/experiments/run7/output/checkpoint-27046\n",
      "Configuration saved in /data3/saurabh/Product-Comparison/experiments/run7/output/checkpoint-27046/config.json\n",
      "Model weights saved in /data3/saurabh/Product-Comparison/experiments/run7/output/checkpoint-27046/pytorch_model.bin\n",
      "tokenizer config file saved in /data3/saurabh/Product-Comparison/experiments/run7/output/checkpoint-27046/tokenizer_config.json\n",
      "Special tokens file saved in /data3/saurabh/Product-Comparison/experiments/run7/output/checkpoint-27046/special_tokens_map.json\n",
      "/home/saurabh/venvs/general_env/lib/python3.6/site-packages/torch/nn/parallel/_functions.py:68: UserWarning: Was asked to gather along dimension 0, but all input tensors were scalars; will instead unsqueeze and return a vector.\n",
      "  warnings.warn('Was asked to gather along dimension 0, but all '\n",
      "IOPub message rate exceeded.\n",
      "The notebook server will temporarily stop sending output\n",
      "to the client in order to avoid crashing it.\n",
      "To change this limit, set the config variable\n",
      "`--NotebookApp.iopub_msg_rate_limit`.\n",
      "\n",
      "Current values:\n",
      "NotebookApp.iopub_msg_rate_limit=1000.0 (msgs/sec)\n",
      "NotebookApp.rate_limit_window=3.0 (secs)\n",
      "\n",
      "IOPub message rate exceeded.\n",
      "The notebook server will temporarily stop sending output\n",
      "to the client in order to avoid crashing it.\n",
      "To change this limit, set the config variable\n",
      "`--NotebookApp.iopub_msg_rate_limit`.\n",
      "\n",
      "Current values:\n",
      "NotebookApp.iopub_msg_rate_limit=1000.0 (msgs/sec)\n",
      "NotebookApp.rate_limit_window=3.0 (secs)\n",
      "\n",
      "IOPub message rate exceeded.\n",
      "The notebook server will temporarily stop sending output\n",
      "to the client in order to avoid crashing it.\n",
      "To change this limit, set the config variable\n",
      "`--NotebookApp.iopub_msg_rate_limit`.\n",
      "\n",
      "Current values:\n",
      "NotebookApp.iopub_msg_rate_limit=1000.0 (msgs/sec)\n",
      "NotebookApp.rate_limit_window=3.0 (secs)\n",
      "\n",
      "IOPub message rate exceeded.\n",
      "The notebook server will temporarily stop sending output\n",
      "to the client in order to avoid crashing it.\n",
      "To change this limit, set the config variable\n",
      "`--NotebookApp.iopub_msg_rate_limit`.\n",
      "\n",
      "Current values:\n",
      "NotebookApp.iopub_msg_rate_limit=1000.0 (msgs/sec)\n",
      "NotebookApp.rate_limit_window=3.0 (secs)\n",
      "\n",
      "/home/saurabh/venvs/general_env/lib/python3.6/site-packages/torch/nn/parallel/data_parallel.py:30: UserWarning: \n",
      "    There is an imbalance between your GPUs. You may want to exclude GPU 1 which\n",
      "    has less than 75% of the memory or cores of GPU 0. You can do so by setting\n",
      "    the device_ids argument to DataParallel, or by setting the CUDA_VISIBLE_DEVICES\n",
      "    environment variable.\n",
      "  warnings.warn(imbalance_warn.format(device_ids[min_pos], device_ids[max_pos]))\n",
      "***** Running Evaluation *****\n",
      "  Num examples = 971\n",
      "  Batch size = 32\n",
      "Saving model checkpoint to /data3/saurabh/Product-Comparison/experiments/run7/output/checkpoint-67615\n",
      "Configuration saved in /data3/saurabh/Product-Comparison/experiments/run7/output/checkpoint-67615/config.json\n",
      "Model weights saved in /data3/saurabh/Product-Comparison/experiments/run7/output/checkpoint-67615/pytorch_model.bin\n",
      "tokenizer config file saved in /data3/saurabh/Product-Comparison/experiments/run7/output/checkpoint-67615/tokenizer_config.json\n",
      "Special tokens file saved in /data3/saurabh/Product-Comparison/experiments/run7/output/checkpoint-67615/special_tokens_map.json\n",
      "\n",
      "\n",
      "Training completed. Do not forget to share your model on huggingface.co/models =)\n",
      "\n",
      "\n"
     ]
    },
    {
     "data": {
      "text/plain": [
       "TrainOutput(global_step=67615, training_loss=0.07530400228863557, metrics={'train_runtime': 45323.4113, 'train_samples_per_second': 47.738, 'train_steps_per_second': 1.492, 'total_flos': 5.936556481861591e+17, 'train_loss': 0.07530400228863557, 'epoch': 5.0})"
      ]
     },
     "execution_count": 11,
     "metadata": {},
     "output_type": "execute_result"
    }
   ],
   "source": [
    "trainer.train()"
   ]
  },
  {
   "cell_type": "code",
   "execution_count": 10,
   "id": "517155e3",
   "metadata": {},
   "outputs": [],
   "source": [
    "trainer = Seq2SeqTrainer(model = encoder_decoder_model,\n",
    "     tokenizer = tokenizer,\n",
    "    train_dataset = train_dataset,\n",
    "    args = training_args,\n",
    "    eval_dataset = val_dataset)"
   ]
  },
  {
   "cell_type": "code",
   "execution_count": 9,
   "id": "47abf29a",
   "metadata": {},
   "outputs": [
    {
     "name": "stdout",
     "output_type": "stream",
     "text": [
      "torch.cuda.device_count(): 2\n"
     ]
    }
   ],
   "source": [
    "training_args = Seq2SeqTrainingArguments(\n",
    "    output_dir = output_dir,\n",
    "    do_train = True,\n",
    "    do_eval = False,\n",
    "    evaluation_strategy = \"epoch\",\n",
    "    per_device_train_batch_size = 16,\n",
    "    per_device_eval_batch_size = 16,\n",
    "    num_train_epochs = 5,\n",
    "    logging_dir = log_dir,\n",
    "    logging_strategy = \"epoch\",\n",
    "    save_strategy = \"epoch\",\n",
    "    save_total_limit = 5,\n",
    "    run_name = run_name,\n",
    "    report_to = \"wandb\")"
   ]
  },
  {
   "cell_type": "code",
   "execution_count": 8,
   "id": "7ffc0e11",
   "metadata": {},
   "outputs": [],
   "source": [
    "train_dataset = ComparativeResponseDataset(train_input_encoding, train_output_encoding)\n",
    "val_dataset = ComparativeResponseDataset(val_input_encoding, val_output_encoding)"
   ]
  },
  {
   "cell_type": "code",
   "execution_count": 7,
   "id": "1021e3de",
   "metadata": {},
   "outputs": [
    {
     "name": "stdout",
     "output_type": "stream",
     "text": [
      "CPU times: user 12min 49s, sys: 8.54 s, total: 12min 57s\n",
      "Wall time: 12min 57s\n"
     ]
    }
   ],
   "source": [
    "%%time\n",
    "\n",
    "train_input, train_output = read_jsonl(train_file)\n",
    "val_input, val_output = read_jsonl(val_file)\n",
    "\n",
    "train_input_encoding = tokenizer(train_input, truncation=True, padding=True)\n",
    "train_output_encoding = tokenizer(train_output, truncation=True, padding=True)\n",
    "val_input_encoding = tokenizer(val_input, truncation=True, padding=True) \n",
    "val_output_encoding = tokenizer(val_output, truncation=True, padding=True)"
   ]
  },
  {
   "cell_type": "code",
   "execution_count": 6,
   "id": "19a0dc21",
   "metadata": {},
   "outputs": [],
   "source": [
    "class ComparativeResponseDataset(torch.utils.data.Dataset):\n",
    "    \n",
    "    def __init__(self, input_encoding, output_encoding):\n",
    "        self.input_encoding = input_encoding\n",
    "        self.output_encoding = output_encoding\n",
    "        \n",
    "    def __getitem__(self, index):\n",
    "        item = {}\n",
    "        item[\"input_ids\"] = np.array(self.input_encoding.input_ids[index])\n",
    "        item[\"attention_mask\"] = np.array(self.input_encoding.attention_mask[index])\n",
    "        item[\"token_type_ids\"] = np.array(self.input_encoding.token_type_ids[index])\n",
    "        item[\"decoder_input_ids\"] = np.array(self.output_encoding.input_ids[index])\n",
    "        item[\"decoder_attention_mask\"] = np.array(self.output_encoding.attention_mask[index])\n",
    "        item[\"decoder_token_type_ids\"] = np.array(self.output_encoding.token_type_ids[index])\n",
    "        item[\"labels\"] = []\n",
    "        \n",
    "        for token in self.output_encoding.input_ids[index]:\n",
    "            if token == tokenizer.pad_token_id:\n",
    "                item[\"labels\"].append(-100)\n",
    "            else:\n",
    "                item[\"labels\"].append(token)\n",
    "\n",
    "        item[\"labels\"] = np.array(item[\"labels\"])\n",
    "                \n",
    "        return item\n",
    "    \n",
    "    def __len__(self):\n",
    "        return len(self.input_encoding.input_ids)"
   ]
  },
  {
   "cell_type": "code",
   "execution_count": 5,
   "id": "b860f9a2",
   "metadata": {},
   "outputs": [],
   "source": [
    "def read_jsonl(file_name):\n",
    "        input_data = []\n",
    "        output_data = []\n",
    "\n",
    "        with open(file_name, \"r\") as in_f:\n",
    "            for line in in_f:\n",
    "                tmp_dict = json.loads(line)\n",
    "                input_data.append(tmp_dict[\"input\"])\n",
    "                output_data.append(tmp_dict[\"gt_output\"])\n",
    "\n",
    "        return input_data, output_data"
   ]
  },
  {
   "cell_type": "code",
   "execution_count": 4,
   "id": "7e8264ad",
   "metadata": {},
   "outputs": [
    {
     "name": "stderr",
     "output_type": "stream",
     "text": [
      "Some weights of the model checkpoint at bert-base-uncased were not used when initializing BertModel: ['cls.predictions.transform.dense.bias', 'cls.seq_relationship.weight', 'cls.predictions.decoder.weight', 'cls.predictions.transform.LayerNorm.bias', 'cls.predictions.bias', 'cls.predictions.transform.LayerNorm.weight', 'cls.predictions.transform.dense.weight', 'cls.seq_relationship.bias']\n",
      "- This IS expected if you are initializing BertModel from the checkpoint of a model trained on another task or with another architecture (e.g. initializing a BertForSequenceClassification model from a BertForPreTraining model).\n",
      "- This IS NOT expected if you are initializing BertModel from the checkpoint of a model that you expect to be exactly identical (initializing a BertForSequenceClassification model from a BertForSequenceClassification model).\n",
      "Some weights of the model checkpoint at bert-base-uncased were not used when initializing BertLMHeadModel: ['cls.seq_relationship.weight', 'cls.seq_relationship.bias']\n",
      "- This IS expected if you are initializing BertLMHeadModel from the checkpoint of a model trained on another task or with another architecture (e.g. initializing a BertForSequenceClassification model from a BertForPreTraining model).\n",
      "- This IS NOT expected if you are initializing BertLMHeadModel from the checkpoint of a model that you expect to be exactly identical (initializing a BertForSequenceClassification model from a BertForSequenceClassification model).\n",
      "Some weights of BertLMHeadModel were not initialized from the model checkpoint at bert-base-uncased and are newly initialized: ['bert.encoder.layer.2.crossattention.self.value.bias', 'bert.encoder.layer.8.crossattention.self.value.bias', 'bert.encoder.layer.8.crossattention.self.key.bias', 'bert.encoder.layer.3.crossattention.self.key.bias', 'bert.encoder.layer.7.crossattention.output.LayerNorm.bias', 'bert.encoder.layer.2.crossattention.output.LayerNorm.bias', 'bert.encoder.layer.3.crossattention.output.LayerNorm.bias', 'bert.encoder.layer.9.crossattention.output.LayerNorm.bias', 'bert.encoder.layer.1.crossattention.output.dense.bias', 'bert.encoder.layer.9.crossattention.self.key.weight', 'bert.encoder.layer.8.crossattention.output.LayerNorm.bias', 'bert.encoder.layer.7.crossattention.self.key.bias', 'bert.encoder.layer.3.crossattention.output.LayerNorm.weight', 'bert.encoder.layer.6.crossattention.output.LayerNorm.bias', 'bert.encoder.layer.2.crossattention.output.dense.bias', 'bert.encoder.layer.5.crossattention.self.value.weight', 'bert.encoder.layer.8.crossattention.self.value.weight', 'bert.encoder.layer.10.crossattention.output.LayerNorm.weight', 'bert.encoder.layer.8.crossattention.self.query.weight', 'bert.encoder.layer.11.crossattention.self.value.weight', 'bert.encoder.layer.1.crossattention.output.LayerNorm.bias', 'bert.encoder.layer.4.crossattention.output.LayerNorm.bias', 'bert.encoder.layer.11.crossattention.self.query.bias', 'bert.encoder.layer.3.crossattention.self.value.bias', 'bert.encoder.layer.0.crossattention.self.value.weight', 'bert.encoder.layer.6.crossattention.output.dense.bias', 'bert.encoder.layer.4.crossattention.output.dense.bias', 'bert.encoder.layer.10.crossattention.self.value.bias', 'bert.encoder.layer.4.crossattention.self.query.weight', 'bert.encoder.layer.11.crossattention.self.value.bias', 'bert.encoder.layer.7.crossattention.self.query.weight', 'bert.encoder.layer.5.crossattention.output.dense.bias', 'bert.encoder.layer.2.crossattention.self.key.weight', 'bert.encoder.layer.2.crossattention.self.value.weight', 'bert.encoder.layer.3.crossattention.self.query.bias', 'bert.encoder.layer.3.crossattention.output.dense.bias', 'bert.encoder.layer.7.crossattention.self.key.weight', 'bert.encoder.layer.6.crossattention.self.key.weight', 'bert.encoder.layer.9.crossattention.output.dense.bias', 'bert.encoder.layer.3.crossattention.output.dense.weight', 'bert.encoder.layer.6.crossattention.self.query.weight', 'bert.encoder.layer.7.crossattention.output.LayerNorm.weight', 'bert.encoder.layer.10.crossattention.output.dense.weight', 'bert.encoder.layer.11.crossattention.self.key.bias', 'bert.encoder.layer.10.crossattention.self.query.bias', 'bert.encoder.layer.0.crossattention.output.LayerNorm.weight', 'bert.encoder.layer.5.crossattention.self.query.weight', 'bert.encoder.layer.5.crossattention.output.dense.weight', 'bert.encoder.layer.5.crossattention.self.query.bias', 'bert.encoder.layer.4.crossattention.output.LayerNorm.weight', 'bert.encoder.layer.7.crossattention.output.dense.bias', 'bert.encoder.layer.6.crossattention.output.LayerNorm.weight', 'bert.encoder.layer.6.crossattention.self.value.bias', 'bert.encoder.layer.4.crossattention.self.value.weight', 'bert.encoder.layer.9.crossattention.self.query.weight', 'bert.encoder.layer.2.crossattention.self.key.bias', 'bert.encoder.layer.5.crossattention.self.value.bias', 'bert.encoder.layer.6.crossattention.self.query.bias', 'bert.encoder.layer.6.crossattention.self.key.bias', 'bert.encoder.layer.1.crossattention.output.dense.weight', 'bert.encoder.layer.10.crossattention.self.key.bias', 'bert.encoder.layer.9.crossattention.self.key.bias', 'bert.encoder.layer.4.crossattention.output.dense.weight', 'bert.encoder.layer.0.crossattention.output.LayerNorm.bias', 'bert.encoder.layer.0.crossattention.output.dense.bias', 'bert.encoder.layer.9.crossattention.self.query.bias', 'bert.encoder.layer.5.crossattention.output.LayerNorm.bias', 'bert.encoder.layer.11.crossattention.output.LayerNorm.weight', 'bert.encoder.layer.2.crossattention.self.query.weight', 'bert.encoder.layer.3.crossattention.self.value.weight', 'bert.encoder.layer.11.crossattention.self.query.weight', 'bert.encoder.layer.9.crossattention.output.dense.weight', 'bert.encoder.layer.2.crossattention.output.LayerNorm.weight', 'bert.encoder.layer.10.crossattention.self.query.weight', 'bert.encoder.layer.11.crossattention.output.dense.bias', 'bert.encoder.layer.0.crossattention.self.query.weight', 'bert.encoder.layer.1.crossattention.self.query.bias', 'bert.encoder.layer.8.crossattention.output.dense.weight', 'bert.encoder.layer.1.crossattention.self.key.weight', 'bert.encoder.layer.1.crossattention.self.key.bias', 'bert.encoder.layer.6.crossattention.output.dense.weight', 'bert.encoder.layer.7.crossattention.output.dense.weight', 'bert.encoder.layer.10.crossattention.self.value.weight', 'bert.encoder.layer.5.crossattention.self.key.bias', 'bert.encoder.layer.9.crossattention.output.LayerNorm.weight', 'bert.encoder.layer.3.crossattention.self.query.weight', 'bert.encoder.layer.5.crossattention.self.key.weight', 'bert.encoder.layer.1.crossattention.self.value.bias', 'bert.encoder.layer.2.crossattention.output.dense.weight', 'bert.encoder.layer.4.crossattention.self.query.bias', 'bert.encoder.layer.2.crossattention.self.query.bias', 'bert.encoder.layer.7.crossattention.self.value.weight', 'bert.encoder.layer.4.crossattention.self.key.weight', 'bert.encoder.layer.8.crossattention.self.query.bias', 'bert.encoder.layer.8.crossattention.output.LayerNorm.weight', 'bert.encoder.layer.7.crossattention.self.query.bias', 'bert.encoder.layer.1.crossattention.self.query.weight', 'bert.encoder.layer.4.crossattention.self.value.bias', 'bert.encoder.layer.1.crossattention.output.LayerNorm.weight', 'bert.encoder.layer.0.crossattention.self.query.bias', 'bert.encoder.layer.9.crossattention.self.value.bias', 'bert.encoder.layer.3.crossattention.self.key.weight', 'bert.encoder.layer.4.crossattention.self.key.bias', 'bert.encoder.layer.7.crossattention.self.value.bias', 'bert.encoder.layer.10.crossattention.self.key.weight', 'bert.encoder.layer.11.crossattention.output.LayerNorm.bias', 'bert.encoder.layer.0.crossattention.self.key.bias', 'bert.encoder.layer.0.crossattention.self.value.bias', 'bert.encoder.layer.0.crossattention.output.dense.weight', 'bert.encoder.layer.1.crossattention.self.value.weight', 'bert.encoder.layer.0.crossattention.self.key.weight', 'bert.encoder.layer.6.crossattention.self.value.weight', 'bert.encoder.layer.8.crossattention.self.key.weight', 'bert.encoder.layer.11.crossattention.self.key.weight', 'bert.encoder.layer.8.crossattention.output.dense.bias', 'bert.encoder.layer.5.crossattention.output.LayerNorm.weight', 'bert.encoder.layer.9.crossattention.self.value.weight', 'bert.encoder.layer.10.crossattention.output.dense.bias', 'bert.encoder.layer.10.crossattention.output.LayerNorm.bias', 'bert.encoder.layer.11.crossattention.output.dense.weight']\n",
      "You should probably TRAIN this model on a down-stream task to be able to use it for predictions and inference.\n"
     ]
    }
   ],
   "source": [
    "tokenizer = BertTokenizer.from_pretrained(tokenizer_model, cache_dir=\"/data3/saurabh/Product-Comparison/experiments/run7/temp_dir\")\n",
    "encoder_decoder_model = EncoderDecoderModel.from_encoder_decoder_pretrained(encoder_model, decoder_model, cache_dir=\"/data3/saurabh/Product-Comparison/experiments/run7/temp_dir\")"
   ]
  },
  {
   "cell_type": "code",
   "execution_count": 3,
   "id": "40e6f69c",
   "metadata": {},
   "outputs": [],
   "source": [
    "train_file = \"/data3/saurabh/Product-Comparison/experiments/run7/dataset/train.jsonl\"\n",
    "val_file = \"/data3/saurabh/Product-Comparison/experiments/run7/dataset/val.jsonl\"\n",
    "output_dir = \"/data3/saurabh/Product-Comparison/experiments/run7/output\"\n",
    "log_dir = \"/data3/saurabh/Product-Comparison/experiments/run7/logs\"\n",
    "run_name = \"bert2bert_encoder_decoder_disco_wiki_amazon_hand_curated\"\n",
    "tokenizer_model = \"bert-base-uncased\"\n",
    "encoder_model = \"bert-base-uncased\"\n",
    "decoder_model = \"bert-base-uncased\""
   ]
  },
  {
   "cell_type": "code",
   "execution_count": 2,
   "id": "6f215eee",
   "metadata": {},
   "outputs": [
    {
     "name": "stderr",
     "output_type": "stream",
     "text": [
      "Failed to detect the name of this notebook, you can set it manually with the WANDB_NOTEBOOK_NAME environment variable to enable code saving.\n",
      "\u001b[34m\u001b[1mwandb\u001b[0m: Currently logged in as: \u001b[33msaurabhhssaurabh\u001b[0m (use `wandb login --relogin` to force relogin)\n",
      "\u001b[34m\u001b[1mwandb\u001b[0m: wandb version 0.12.7 is available!  To upgrade, please run:\n",
      "\u001b[34m\u001b[1mwandb\u001b[0m:  $ pip install wandb --upgrade\n"
     ]
    },
    {
     "data": {
      "text/html": [
       "\n",
       "                    Syncing run <strong><a href=\"https://wandb.ai/saurabhhssaurabh/Product-Comparison/runs/1k7s4eyw\" target=\"_blank\">sunny-darkness-21</a></strong> to <a href=\"https://wandb.ai/saurabhhssaurabh/Product-Comparison\" target=\"_blank\">Weights & Biases</a> (<a href=\"https://docs.wandb.com/integrations/jupyter.html\" target=\"_blank\">docs</a>).<br/>\n",
       "\n",
       "                "
      ],
      "text/plain": [
       "<IPython.core.display.HTML object>"
      ]
     },
     "metadata": {},
     "output_type": "display_data"
    },
    {
     "data": {
      "text/html": [
       "<button onClick=\"this.nextSibling.style.display='block';this.style.display='none';\">Display W&B run</button><iframe src=\"https://wandb.ai/saurabhhssaurabh/Product-Comparison/runs/1k7s4eyw?jupyter=true\" style=\"border:none;width:100%;height:420px;display:none;\"></iframe>"
      ],
      "text/plain": [
       "<wandb.sdk.wandb_run.Run at 0x7f9eea5b3a58>"
      ]
     },
     "execution_count": 2,
     "metadata": {},
     "output_type": "execute_result"
    }
   ],
   "source": [
    "wandb.login()\n",
    "\n",
    "os.environ[\"WANDB_PROJECT\"] = \"comparitive_response_generation\"\n",
    "\n",
    "os.environ[\"CUDA_DEVICE_ORDER\"] = \"PCI_BUS_ID\"\n",
    "os.environ[\"CUDA_VISIBLE_DEVICES\"] = \"3,1\"\n",
    "wandb.init(dir=\"/data3/saurabh/Product-Comparison/experiments/run7/wandb\")"
   ]
  },
  {
   "cell_type": "code",
   "execution_count": 1,
   "id": "3238aaab",
   "metadata": {},
   "outputs": [],
   "source": [
    "from transformers import BertTokenizer, EncoderDecoderModel, Seq2SeqTrainer, Seq2SeqTrainingArguments\n",
    "import json, torch, wandb, os, random\n",
    "import numpy as np"
   ]
  },
  {
   "cell_type": "markdown",
   "id": "b42edf3c",
   "metadata": {},
   "source": [
    "# Train encoder decoder model on dasetv4"
   ]
  },
  {
   "cell_type": "code",
   "execution_count": 3,
   "id": "04225a67",
   "metadata": {},
   "outputs": [],
   "source": [
    "def merge_train_dataset(output_file, train_amazon_file, train_disco_wiki_file):\n",
    "    train_data = []\n",
    "    \n",
    "    with open(train_amazon_file, \"r\") as in_f:\n",
    "        for line in in_f:\n",
    "            train_data.append((random.random(), line))\n",
    "            \n",
    "    with open(train_disco_wiki_file, \"r\") as in_f:\n",
    "        for line in in_f:\n",
    "            train_data.append((random.random(), line))\n",
    "            \n",
    "    train_data.sort()\n",
    "    \n",
    "    with open(output_file, \"w\") as out_f:\n",
    "        for _, line in train_data:\n",
    "            out_f.write(line)\n",
    "\n",
    "\n",
    "merge_train_dataset(output_file, train_amazon_file, train_disco_wiki_file)"
   ]
  },
  {
   "cell_type": "code",
   "execution_count": 2,
   "id": "6107ec64",
   "metadata": {},
   "outputs": [],
   "source": [
    "# train_amazon_file = \"/data3/saurabh/experiments/data/14_transformer_encoder_decoder/train_amazon.jsonl\"\n",
    "# train_disco_wiki_file = \"/data3/saurabh/experiments/data/14_transformer_encoder_decoder/train_disco_wiki_bal.jsonl\"\n",
    "# output_file = \"/data3/saurabh/experiments/data/14_transformer_encoder_decoder/train_amazon_disco_wiki.jsonl\"\n",
    "\n",
    "train_amazon_file = \"/data3/saurabh/Product-Comparison/experiments/run4/dataset/train.jsonl\"\n",
    "train_disco_wiki_file = \"/data3/saurabh/experiments/data/14_transformer_encoder_decoder/train_disco_wiki_bal.jsonl\"\n",
    "output_file = \"/data3/saurabh/Product-Comparison/experiments/run7/dataset/train.jsonl\""
   ]
  },
  {
   "cell_type": "code",
   "execution_count": 1,
   "id": "ff62d7b8",
   "metadata": {},
   "outputs": [],
   "source": [
    "import random"
   ]
  },
  {
   "cell_type": "markdown",
   "id": "ce4e1719",
   "metadata": {},
   "source": [
    "# Merge train dataset of Amazon and DiscoFuse Wiki"
   ]
  },
  {
   "cell_type": "code",
   "execution_count": 23,
   "id": "2258c6e5",
   "metadata": {},
   "outputs": [
    {
     "name": "stdout",
     "output_type": "stream",
     "text": [
      "train_data: 93194, test_data: 5177, val_data: 5178\n"
     ]
    }
   ],
   "source": [
    "def generate_train_test_val_splits(input_file, train_file, test_file, val_file):\n",
    "\n",
    "    data_list = []\n",
    "\n",
    "    with open(input_file, \"r\") as in_f:\n",
    "        for line in in_f:\n",
    "            data_list.append(line)\n",
    "\n",
    "    train_data, test_val_data = train_test_split(data_list, train_size=0.9, test_size=0.1)\n",
    "    test_data, val_data = train_test_split(test_val_data, train_size=0.5, test_size=0.5)\n",
    "\n",
    "    print(\"train_data: {}, test_data: {}, val_data: {}\".format(len(train_data), len(test_data), len(val_data)))\n",
    "\n",
    "    with open(train_file, \"w\") as train_f:\n",
    "        for line in train_data:\n",
    "            train_f.write(line)\n",
    "\n",
    "    with open(test_file, \"w\") as test_f:\n",
    "        for line in test_data:\n",
    "            test_f.write(line)\n",
    "\n",
    "    with open(val_file, \"w\") as val_f:\n",
    "        for line in val_data:\n",
    "            val_f.write(line)\n",
    "            \n",
    "generate_train_test_val_splits(input_file, train_file, test_file, val_file)"
   ]
  },
  {
   "cell_type": "code",
   "execution_count": 22,
   "id": "0ffb4e71",
   "metadata": {},
   "outputs": [],
   "source": [
    "input_file = \"/data3/saurabh/experiments/data/14_transformer_encoder_decoder/data_v4.jsonl\"\n",
    "train_file = \"/data3/saurabh/experiments/data/14_transformer_encoder_decoder/train.jsonl\"\n",
    "test_file = \"/data3/saurabh/experiments/data/14_transformer_encoder_decoder/test.jsonl\"\n",
    "val_file = \"/data3/saurabh/experiments/data/14_transformer_encoder_decoder/val.jsonl\""
   ]
  },
  {
   "cell_type": "code",
   "execution_count": 19,
   "id": "616f5a92",
   "metadata": {},
   "outputs": [],
   "source": [
    "from sklearn.model_selection import train_test_split\n",
    "import numpy as np"
   ]
  },
  {
   "cell_type": "markdown",
   "id": "50345e06",
   "metadata": {},
   "source": [
    "# Split dataset_v4 into train, test, and evaluation sets."
   ]
  },
  {
   "cell_type": "code",
   "execution_count": null,
   "id": "f0a8c897",
   "metadata": {},
   "outputs": [],
   "source": [
    "\"\"\"\n",
    "    Generate dataset in V4 format.\n",
    "    {\"input\": , \"gt_output\": , \"gt_references\": }\n",
    "\"\"\"\n",
    "\n",
    "import os, json\n",
    "\n",
    "class GenerateDatasetV4():\n",
    "    pattern_dict = {}\n",
    "    pattern_dict[0] = \"{} . {} . however , there are people who have complained that {} .\"\n",
    "    pattern_dict[1] = \"{} . {} . but , {} .\"\n",
    "    pattern_dict[2] = \"{} . {} . on the other hand , {} .\"\n",
    "    pattern_dict[3] = \"{} . {} . however {} .\"\n",
    "    pattern_dict[4] = \"{} . {} . yet , some users have also mentioned that {} .\"\n",
    "    pattern_dict[5] = \"{} . although {} , according to a few users {} .\"\n",
    "    pattern_dict[6] = \"{} . {} . on the other hand a few users have complained that {} .\"\n",
    "    \n",
    "    \n",
    "    def make_references(self, title, positive_op, negative_op):\n",
    "        ref_list = []\n",
    "\n",
    "        for key in self.pattern_dict.keys():\n",
    "            ref_list.append(self.pattern_dict.get(key).format(title, positive_op, negative_op))\n",
    "\n",
    "        return ref_list\n",
    "    \n",
    "\n",
    "    def generate_dataset(self, output_file, input_dir):\n",
    "        counter = 0\n",
    "\n",
    "        with open(output_file, \"w\") as out_f:\n",
    "            for file in os.listdir(input_dir):\n",
    "                with open(os.path.join(input_dir, file), \"r\") as in_f:\n",
    "                    try:\n",
    "                        for line in in_f:\n",
    "                            tmp_dict = json.loads(line)\n",
    "\n",
    "                            index = counter%7\n",
    "                            counter += 1\n",
    "\n",
    "                            tmp_dict_1 = {}\n",
    "                            tmp_dict_1[\"input\"] = tmp_dict[\"title\"] + \" . \" + tmp_dict[\"positive\"] + \" . \" + tmp_dict[\"negative\"] + \" .\"\n",
    "                            tmp_dict_1[\"gt_output\"] = self.pattern_dict[index].format(tmp_dict[\"title\"], tmp_dict[\"positive\"], tmp_dict[\"negative\"])\n",
    "                            tmp_dict_1[\"gt_references\"] = self.make_references(tmp_dict[\"title\"], tmp_dict[\"positive\"], tmp_dict[\"negative\"])\n",
    "\n",
    "                            out_f.write(json.dumps(tmp_dict_1)+\"\\n\")\n",
    "                    except UnicodeDecodeError:\n",
    "                        print(\"file name: {}\".format(file))\n",
    "                        \n",
    "                        \n",
    "\n",
    "input_dir = \"/home/saurabh/dir_1/shodh/Product-Comparison/data/v3_dataset/10_rule_based_dataset\"\n",
    "output_file = \"/data3/saurabh/experiments/data/14_transformer_encoder_decoder/data_v4.jsonl\"\n",
    "\n",
    "generate_dataset_v4_obj = GenerateDatasetV4()\n",
    "generate_dataset_v4_obj.generate_dataset(output_file, input_dir)"
   ]
  },
  {
   "cell_type": "code",
   "execution_count": 12,
   "id": "53cb889f",
   "metadata": {},
   "outputs": [],
   "source": []
  },
  {
   "cell_type": "markdown",
   "id": "000eba56",
   "metadata": {},
   "source": [
    "# Generate dataset in the required format from Amazon dataset"
   ]
  },
  {
   "cell_type": "code",
   "execution_count": 27,
   "id": "ccf06b79",
   "metadata": {},
   "outputs": [],
   "source": [
    "with open(output_file, \"w\") as out_f:\n",
    "    for index, row in train_df.iterrows():\n",
    "        tmp_dict = {}\n",
    "        tmp_dict[\"input\"] = row.incoherent_first_sentence + \" \" + row.incoherent_second_sentence\n",
    "        tmp_dict[\"gt_output\"] = row.coherent_first_sentence + \" \" + row.coherent_second_sentence\n",
    "        out_f.write(json.dumps(tmp_dict)+\"\\n\")"
   ]
  },
  {
   "cell_type": "code",
   "execution_count": 140,
   "id": "871ee35b",
   "metadata": {},
   "outputs": [
    {
     "data": {
      "text/html": [
       "<div>\n",
       "<style scoped>\n",
       "    .dataframe tbody tr th:only-of-type {\n",
       "        vertical-align: middle;\n",
       "    }\n",
       "\n",
       "    .dataframe tbody tr th {\n",
       "        vertical-align: top;\n",
       "    }\n",
       "\n",
       "    .dataframe thead tr th {\n",
       "        text-align: left;\n",
       "    }\n",
       "\n",
       "    .dataframe thead tr:last-of-type th {\n",
       "        text-align: right;\n",
       "    }\n",
       "</style>\n",
       "<table border=\"1\" class=\"dataframe\">\n",
       "  <thead>\n",
       "    <tr>\n",
       "      <th></th>\n",
       "      <th>coherent_first_sentence</th>\n",
       "      <th>coherent_second_sentence</th>\n",
       "      <th>incoherent_first_sentence</th>\n",
       "      <th>incoherent_second_sentence</th>\n",
       "      <th>discourse_type</th>\n",
       "      <th>connective_string</th>\n",
       "      <th>has_coref_type_pronoun</th>\n",
       "    </tr>\n",
       "    <tr>\n",
       "      <th></th>\n",
       "      <th>count</th>\n",
       "      <th>count</th>\n",
       "      <th>count</th>\n",
       "      <th>count</th>\n",
       "      <th>count</th>\n",
       "      <th>count</th>\n",
       "      <th>count</th>\n",
       "    </tr>\n",
       "    <tr>\n",
       "      <th>has_coref_type_nominal</th>\n",
       "      <th></th>\n",
       "      <th></th>\n",
       "      <th></th>\n",
       "      <th></th>\n",
       "      <th></th>\n",
       "      <th></th>\n",
       "      <th></th>\n",
       "    </tr>\n",
       "  </thead>\n",
       "  <tbody>\n",
       "    <tr>\n",
       "      <th>0.0</th>\n",
       "      <td>387243</td>\n",
       "      <td>387243</td>\n",
       "      <td>387243</td>\n",
       "      <td>387243</td>\n",
       "      <td>387243</td>\n",
       "      <td>387243</td>\n",
       "      <td>387243</td>\n",
       "    </tr>\n",
       "    <tr>\n",
       "      <th>1.0</th>\n",
       "      <td>28017</td>\n",
       "      <td>28017</td>\n",
       "      <td>28017</td>\n",
       "      <td>28017</td>\n",
       "      <td>28017</td>\n",
       "      <td>28017</td>\n",
       "      <td>28017</td>\n",
       "    </tr>\n",
       "  </tbody>\n",
       "</table>\n",
       "</div>"
      ],
      "text/plain": [
       "                       coherent_first_sentence coherent_second_sentence  \\\n",
       "                                         count                    count   \n",
       "has_coref_type_nominal                                                    \n",
       "0.0                                     387243                   387243   \n",
       "1.0                                      28017                    28017   \n",
       "\n",
       "                       incoherent_first_sentence incoherent_second_sentence  \\\n",
       "                                           count                      count   \n",
       "has_coref_type_nominal                                                        \n",
       "0.0                                       387243                     387243   \n",
       "1.0                                        28017                      28017   \n",
       "\n",
       "                       discourse_type connective_string has_coref_type_pronoun  \n",
       "                                count             count                  count  \n",
       "has_coref_type_nominal                                                          \n",
       "0.0                            387243            387243                 387243  \n",
       "1.0                             28017             28017                  28017  "
      ]
     },
     "execution_count": 140,
     "metadata": {},
     "output_type": "execute_result"
    }
   ],
   "source": [
    "train_df.groupby(train_df.has_coref_type_nominal).agg([\"count\"])"
   ]
  },
  {
   "cell_type": "code",
   "execution_count": 141,
   "id": "da0454bd",
   "metadata": {},
   "outputs": [
    {
     "data": {
      "text/plain": [
       "415260"
      ]
     },
     "execution_count": 141,
     "metadata": {},
     "output_type": "execute_result"
    }
   ],
   "source": [
    "len(train_df)"
   ]
  },
  {
   "cell_type": "code",
   "execution_count": 138,
   "id": "015899b9",
   "metadata": {},
   "outputs": [],
   "source": [
    "train_df = pd.read_csv(input_file, sep=\"\\t\")"
   ]
  },
  {
   "cell_type": "code",
   "execution_count": 137,
   "id": "e338ae8d",
   "metadata": {},
   "outputs": [],
   "source": [
    "input_file = \"/data3/saurabh/discofuse_v1/wikipedia/train_balanced_pair_only.tsv\"\n",
    "output_file = \"/data3/saurabh/experiments/data/14_transformer_encoder_decoder/train_disco_wiki_bal.jsonl\""
   ]
  },
  {
   "cell_type": "code",
   "execution_count": 136,
   "id": "ad4e2779",
   "metadata": {},
   "outputs": [],
   "source": [
    "import json\n",
    "import pandas as pd"
   ]
  },
  {
   "cell_type": "markdown",
   "id": "cd367a9b",
   "metadata": {},
   "source": [
    "# Generate dataset in the required format from DiscoFuse Wikipedia"
   ]
  },
  {
   "cell_type": "code",
   "execution_count": null,
   "id": "fb2e27c2",
   "metadata": {},
   "outputs": [],
   "source": []
  },
  {
   "cell_type": "code",
   "execution_count": null,
   "id": "5862435c",
   "metadata": {},
   "outputs": [],
   "source": [
    "\"{} . {} . however , there are people who have complained that {} .\"\n",
    "\"{} . {} . but , {} .\"\n",
    "\"{} . {} . on the other hand , {} .\"\n",
    "\"{} . {} . however {} .\"\n",
    "\"{} . {} . yet , some users have also mentioned that {} .\"\n",
    "\"{} . although {} , according to few users {} .\"\n",
    "\"{} . {} . on the other hand few users have complained that {} .\""
   ]
  },
  {
   "cell_type": "code",
   "execution_count": 39,
   "id": "b7f7af54",
   "metadata": {},
   "outputs": [],
   "source": [
    "train_wiki_b_pair_contra_df_1.to_csv(\"/data3/saurabh/discofuse_v1/wikipedia/train_balanced_pair_only.tsv\", sep=\"\\t\", index=False)"
   ]
  },
  {
   "cell_type": "code",
   "execution_count": 38,
   "id": "de7f9e40",
   "metadata": {},
   "outputs": [
    {
     "data": {
      "text/plain": [
       "array(['however ,', 'but', 'on the other hand ,', 'however', 'but ,',\n",
       "       'yet ,', 'although ,', 'on the other hand'], dtype=object)"
      ]
     },
     "execution_count": 38,
     "metadata": {},
     "output_type": "execute_result"
    }
   ],
   "source": [
    "train_wiki_b_pair_contra_df_1.connective_string.unique()"
   ]
  },
  {
   "cell_type": "code",
   "execution_count": 37,
   "id": "e6b91d0a",
   "metadata": {},
   "outputs": [
    {
     "data": {
      "text/plain": [
       "415260"
      ]
     },
     "execution_count": 37,
     "metadata": {},
     "output_type": "execute_result"
    }
   ],
   "source": [
    "len(train_wiki_b_pair_contra_df_1)"
   ]
  },
  {
   "cell_type": "code",
   "execution_count": 36,
   "id": "f686fa60",
   "metadata": {},
   "outputs": [],
   "source": [
    "train_wiki_b_pair_contra_df_1 = train_wiki_b_df_1[train_wiki_b_df_1.connective_string.str.lower().isin(contra_str_list)]"
   ]
  },
  {
   "cell_type": "code",
   "execution_count": 34,
   "id": "bc85b379",
   "metadata": {},
   "outputs": [],
   "source": [
    "train_wiki_b_df_1 = train_wiki_b_df_1[train_wiki_b_df_1.discourse_type.str.contains(\"PAIR_\")]"
   ]
  },
  {
   "cell_type": "code",
   "execution_count": 33,
   "id": "98eb270b",
   "metadata": {},
   "outputs": [],
   "source": [
    "train_wiki_b_df_1 = pd.read_csv(train_wiki_balance_file, sep=\"\\t\")"
   ]
  },
  {
   "cell_type": "code",
   "execution_count": null,
   "id": "62397a74",
   "metadata": {},
   "outputs": [],
   "source": []
  },
  {
   "cell_type": "code",
   "execution_count": 32,
   "id": "25911377",
   "metadata": {},
   "outputs": [
    {
     "data": {
      "text/plain": [
       "array(['however ,', 'but', 'on the other hand ,', 'however', 'but ,',\n",
       "       'yet ,', 'although ,', 'on the other hand'], dtype=object)"
      ]
     },
     "execution_count": 32,
     "metadata": {},
     "output_type": "execute_result"
    }
   ],
   "source": [
    "train_wiki_b_pair_contra_df.connective_string.unique()"
   ]
  },
  {
   "cell_type": "code",
   "execution_count": 31,
   "id": "b63a54a9",
   "metadata": {},
   "outputs": [
    {
     "data": {
      "text/plain": [
       "415260"
      ]
     },
     "execution_count": 31,
     "metadata": {},
     "output_type": "execute_result"
    }
   ],
   "source": [
    "len(train_wiki_b_pair_contra_df)"
   ]
  },
  {
   "cell_type": "code",
   "execution_count": 30,
   "id": "e9e90764",
   "metadata": {},
   "outputs": [],
   "source": [
    "train_wiki_b_pair_contra_df = train_wiki_b_pair_df[train_wiki_b_pair_df.connective_string.str.lower().isin(contra_str_list)]"
   ]
  },
  {
   "cell_type": "code",
   "execution_count": 19,
   "id": "d8b23e98",
   "metadata": {},
   "outputs": [
    {
     "data": {
      "text/plain": [
       "1360145"
      ]
     },
     "execution_count": 19,
     "metadata": {},
     "output_type": "execute_result"
    }
   ],
   "source": [
    "len(train_wiki_b_pair_df)"
   ]
  },
  {
   "cell_type": "code",
   "execution_count": 18,
   "id": "181a503f",
   "metadata": {},
   "outputs": [
    {
     "data": {
      "text/plain": [
       "array(['PAIR_CONN', 'PAIR_CONN_ANAPHORA', 'PAIR_ANAPHORA', 'PAIR_NONE'],\n",
       "      dtype=object)"
      ]
     },
     "execution_count": 18,
     "metadata": {},
     "output_type": "execute_result"
    }
   ],
   "source": [
    "train_wiki_b_pair_df.discourse_type.unique()"
   ]
  },
  {
   "cell_type": "code",
   "execution_count": 16,
   "id": "6de04816",
   "metadata": {},
   "outputs": [],
   "source": [
    "train_wiki_b_pair_df = train_wiki_b_df[train_wiki_b_df.discourse_type.str.contains(\"PAIR_\")]"
   ]
  },
  {
   "cell_type": "code",
   "execution_count": 15,
   "id": "2ceb917a",
   "metadata": {},
   "outputs": [
    {
     "data": {
      "text/plain": [
       "array(['SINGLE_VP_COORD', 'SINGLE_CONN_INNER', 'SINGLE_RELATIVE',\n",
       "       'PAIR_CONN', 'SINGLE_S_COORD', 'SINGLE_APPOSITION',\n",
       "       'PAIR_CONN_ANAPHORA', 'SINGLE_CATAPHORA',\n",
       "       'SINGLE_S_COORD_ANAPHORA', 'SINGLE_CONN_INNER_ANAPHORA',\n",
       "       'PAIR_ANAPHORA', 'PAIR_NONE', 'SINGLE_CONN_START'], dtype=object)"
      ]
     },
     "execution_count": 15,
     "metadata": {},
     "output_type": "execute_result"
    }
   ],
   "source": [
    "train_wiki_b_df.discourse_type.unique()"
   ]
  },
  {
   "cell_type": "code",
   "execution_count": 20,
   "id": "82ef4d61",
   "metadata": {},
   "outputs": [],
   "source": [
    "contra_str_list = [', although', ', but', 'although', 'however ,', 'but', 'on the other hand ,', 'however', ', yet', \n",
    "                  'but ,', 'yet ,', 'although ,', 'yet', 'on the other hand']"
   ]
  },
  {
   "cell_type": "code",
   "execution_count": 14,
   "id": "cff7e7e4",
   "metadata": {},
   "outputs": [
    {
     "data": {
      "text/plain": [
       "array(['and', ', although', 'hence ,', ', but', 'or', 'instead ,',\n",
       "       'unless', ', because', 'so that', 'although', 'for example ,',\n",
       "       'however ,', 'thus ,', ', while', ', so', ', and', 'therefore',\n",
       "       'but', 'because', 'as a result ,', 'additionally ,', 'whereas',\n",
       "       'for instance ,', 'therefore ,', 'since', 'finally ,',\n",
       "       'furthermore ,', 'on the other hand ,', ', or', 'meaning',\n",
       "       'in the end ,', ', so that', 'consequently ,', 'additionally',\n",
       "       'and although', 'eventually ,', 'in fact ,', 'however',\n",
       "       'in particular ,', 'moreover ,', 'hence', 'nevertheless',\n",
       "       'meanwhile ,', 'similarly ,', ', meaning', ', yet', 'then ,',\n",
       "       'but ,', 'for instance', 'for example', 'nevertheless ,', ', nor',\n",
       "       'nor', 'and ,', 'yet ,', 'moreover', 'consequently', 'although ,',\n",
       "       'yet', 'whereas ,', 'or ,', 'furthermore', 'on the other hand',\n",
       "       'so', 'meaning ,'], dtype=object)"
      ]
     },
     "execution_count": 14,
     "metadata": {},
     "output_type": "execute_result"
    }
   ],
   "source": [
    "conn_string_series.unique()"
   ]
  },
  {
   "cell_type": "code",
   "execution_count": 11,
   "id": "0b6e9397",
   "metadata": {},
   "outputs": [
    {
     "data": {
      "text/plain": [
       "2964811"
      ]
     },
     "execution_count": 11,
     "metadata": {},
     "output_type": "execute_result"
    }
   ],
   "source": [
    "conn_string_series = train_wiki_b_df.connective_string.dropna().apply(str.lower)\n",
    "len(conn_string_series)"
   ]
  },
  {
   "cell_type": "code",
   "execution_count": 5,
   "id": "0ec3a22e",
   "metadata": {},
   "outputs": [],
   "source": [
    "train_wiki_b_df = pd.read_csv(train_wiki_balance_file, sep=\"\\t\")"
   ]
  },
  {
   "cell_type": "code",
   "execution_count": 4,
   "id": "715f380c",
   "metadata": {},
   "outputs": [],
   "source": [
    "train_wiki_balance_file = \"/data3/saurabh/discofuse_v1/wikipedia/train_balanced.tsv\""
   ]
  },
  {
   "cell_type": "code",
   "execution_count": 9,
   "id": "3cefa2e9",
   "metadata": {},
   "outputs": [],
   "source": [
    "import pandas as pd"
   ]
  },
  {
   "cell_type": "markdown",
   "id": "5f8a0b1a",
   "metadata": {},
   "source": [
    "# Analysis of DiscoFuse dataset"
   ]
  },
  {
   "cell_type": "code",
   "execution_count": null,
   "id": "9428f33f",
   "metadata": {},
   "outputs": [],
   "source": []
  },
  {
   "cell_type": "code",
   "execution_count": 3,
   "id": "62990386",
   "metadata": {},
   "outputs": [],
   "source": [
    "import json\n",
    "import nltk\n",
    "# import matplotlib.pylab as plt"
   ]
  },
  {
   "cell_type": "markdown",
   "id": "d4d23456",
   "metadata": {},
   "source": [
    "## Convert review into sentences."
   ]
  },
  {
   "cell_type": "code",
   "execution_count": 5,
   "id": "8890fe0b",
   "metadata": {},
   "outputs": [],
   "source": [
    "tokenizer = nltk.data.load('tokenizers/punkt/english.pickle')"
   ]
  },
  {
   "cell_type": "code",
   "execution_count": 7,
   "id": "223694e4",
   "metadata": {},
   "outputs": [],
   "source": [
    "# input_file = \"data/b0013frnkg.json\"\n",
    "# output_file = \"data/b0013frnkg_sent_list.json\""
   ]
  },
  {
   "cell_type": "code",
   "execution_count": 24,
   "id": "0ff7ffcb",
   "metadata": {},
   "outputs": [],
   "source": [
    "with open(output_file, \"w\") as out_f:\n",
    "    with open(input_file, \"r\") as in_f:\n",
    "        for line in in_f:\n",
    "            dict_obj = json.loads(line)\n",
    "            \n",
    "            if len(dict_obj[\"review\"].split()) > 2:\n",
    "                dict_obj[\"sent_list\"] = tokenizer.tokenize(dict_obj[\"review\"])\n",
    "                out_f.write(json.dumps(dict_obj)+\"\\n\")"
   ]
  },
  {
   "cell_type": "code",
   "execution_count": null,
   "id": "f56f59f2",
   "metadata": {},
   "outputs": [],
   "source": []
  },
  {
   "cell_type": "code",
   "execution_count": null,
   "id": "072f8188",
   "metadata": {},
   "outputs": [],
   "source": []
  },
  {
   "cell_type": "code",
   "execution_count": 38,
   "id": "c4a8c373",
   "metadata": {},
   "outputs": [],
   "source": [
    "input_file = \"data/b0013frnkg_sent_list.json\"\n",
    "output_file = \"data/b0013frnkg_input_edu_format.txt\""
   ]
  },
  {
   "cell_type": "code",
   "execution_count": 39,
   "id": "86cf029f",
   "metadata": {},
   "outputs": [],
   "source": [
    "with open(output_file, \"w\") as out_f:\n",
    "    with open(input_file, \"r\") as in_f:\n",
    "        for line in in_f:\n",
    "            dict_obj = json.loads(line)\n",
    "            out_f.write(dict_obj[\"product_id\"]+\"\\n\"+str(dict_obj[\"rating\"])+\"\\n\"+dict_obj[\"review\"].strip()+\"\\n\\n\")"
   ]
  },
  {
   "cell_type": "code",
   "execution_count": null,
   "id": "d07d7d31",
   "metadata": {},
   "outputs": [],
   "source": []
  },
  {
   "cell_type": "code",
   "execution_count": 1,
   "id": "012ed75e",
   "metadata": {},
   "outputs": [],
   "source": [
    "# input_file = \"data/b00j8dl78o.json\"\n",
    "# output_file = \"data/b00j8dl78o_input_edu_format.txt\"\n",
    "\n",
    "input_file = \"data/b0013frnkg.json\"\n",
    "output_file = \"data/b0013frnkg_input_edu_format.txt\""
   ]
  },
  {
   "cell_type": "code",
   "execution_count": 4,
   "id": "7f822b24",
   "metadata": {},
   "outputs": [],
   "source": [
    "with open(output_file, \"w\") as out_f:\n",
    "    with open(input_file, \"r\") as in_f:\n",
    "        for line in in_f:\n",
    "            dict_obj = json.loads(line)\n",
    "            \n",
    "            if len(dict_obj[\"review\"].split()) > 2 and \"</a>\" not in dict_obj[\"review\"] and \"</div>\" not in dict_obj[\"review\"] \\\n",
    "            and \"<input\" not in dict_obj[\"review\"]:\n",
    "                out_f.write(dict_obj[\"review\"].strip()+\"\\n\\n\")"
   ]
  },
  {
   "cell_type": "code",
   "execution_count": null,
   "id": "ea08cf2c",
   "metadata": {},
   "outputs": [],
   "source": []
  },
  {
   "cell_type": "code",
   "execution_count": null,
   "id": "78a6fdae",
   "metadata": {},
   "outputs": [],
   "source": []
  },
  {
   "cell_type": "markdown",
   "id": "391060f4",
   "metadata": {},
   "source": [
    "## convert EDUs file in proper format"
   ]
  },
  {
   "cell_type": "code",
   "execution_count": null,
   "id": "fc32304a",
   "metadata": {},
   "outputs": [],
   "source": [
    "#EDU_BREAK -LRB- -RRB-"
   ]
  },
  {
   "cell_type": "code",
   "execution_count": 6,
   "id": "e2b6fa93",
   "metadata": {},
   "outputs": [],
   "source": [
    "import re"
   ]
  },
  {
   "cell_type": "code",
   "execution_count": 7,
   "id": "205938d3",
   "metadata": {},
   "outputs": [],
   "source": [
    "# input_file = \"data/b00j8dl78o_input_edu_format.txt.edus\"\n",
    "# output_file = \"data/b00j8dl78o_split_edu.txt\"\n",
    "\n",
    "input_file = \"data/b0013frnkg_input_edu_format.txt.edus\"\n",
    "output_file = \"data/b0013frnkg_split_edu.txt\""
   ]
  },
  {
   "cell_type": "code",
   "execution_count": 8,
   "id": "a2332723",
   "metadata": {},
   "outputs": [],
   "source": [
    "pattern_1 = re.compile(r\"-[A-Z]{3}-|EDU_BREAK\")\n",
    "pattern_2 = re.compile(r\"-[A-Z]{3}-\")"
   ]
  },
  {
   "cell_type": "code",
   "execution_count": 9,
   "id": "7fb4e739",
   "metadata": {},
   "outputs": [],
   "source": [
    "with open(output_file, \"w\") as out_f:\n",
    "    with open(input_file, \"r\") as in_f:\n",
    "        for line in in_f:\n",
    "            out_f.write(\" \".join(pattern_1.sub(\"\", line).strip().split())+\"\\n\")\n",
    "            phrase_list = line.split(\"EDU_BREAK\")\n",
    "            \n",
    "            for phrase in phrase_list:\n",
    "                out_f.write(\" \".join(pattern_2.sub(\"\", phrase).strip().split())+\"\\n\")\n",
    "                \n",
    "            out_f.write(\"\\n\")"
   ]
  },
  {
   "cell_type": "code",
   "execution_count": null,
   "id": "d46e08f5",
   "metadata": {},
   "outputs": [],
   "source": []
  },
  {
   "cell_type": "markdown",
   "id": "79293b12",
   "metadata": {},
   "source": [
    "# Rewriting above code for reading and writing files to specific folders"
   ]
  },
  {
   "cell_type": "code",
   "execution_count": 1,
   "id": "e45396a4",
   "metadata": {},
   "outputs": [],
   "source": [
    "#EDU_BREAK -LRB- -RRB-"
   ]
  },
  {
   "cell_type": "code",
   "execution_count": 1,
   "id": "fcb64a49",
   "metadata": {},
   "outputs": [],
   "source": [
    "import re, os"
   ]
  },
  {
   "cell_type": "code",
   "execution_count": 2,
   "id": "fe5eab42",
   "metadata": {},
   "outputs": [],
   "source": [
    "input_folder = \"/home/saurabh/dir_1/shodh/Product-Comparison/data/v3_dataset/raw_dataset_edu/raw_dataset_output\"\n",
    "output_folder = \"/home/saurabh/dir_1/shodh/Product-Comparison/data/v3_dataset/dataset_clean_edu\""
   ]
  },
  {
   "cell_type": "code",
   "execution_count": 3,
   "id": "edb1c0b2",
   "metadata": {},
   "outputs": [],
   "source": [
    "pattern_1 = re.compile(r\"-[A-Z]{3}-|EDU_BREAK\")\n",
    "pattern_2 = re.compile(r\"-[A-Z]{3}-\")"
   ]
  },
  {
   "cell_type": "code",
   "execution_count": 4,
   "id": "0de5cd93",
   "metadata": {},
   "outputs": [],
   "source": [
    "for in_file in os.listdir(input_folder):\n",
    "    out_file = os.path.join(output_folder, in_file.split(\",\")[0]+\".txt\")\n",
    "    with open(out_file, \"w\") as out_f:\n",
    "        with open(os.path.join(input_folder, in_file), \"r\") as in_f:\n",
    "            for line in in_f:\n",
    "                phrase_list = line.split(\"EDU_BREAK\")\n",
    "\n",
    "                for phrase in phrase_list:\n",
    "                    out_f.write(\" \".join(pattern_2.sub(\"\", phrase).strip().split())+\"\\n\")"
   ]
  },
  {
   "cell_type": "markdown",
   "id": "4ff34be8",
   "metadata": {},
   "source": [
    "## EDUs in tsv file"
   ]
  },
  {
   "cell_type": "code",
   "execution_count": 10,
   "id": "779ec744",
   "metadata": {},
   "outputs": [],
   "source": [
    "input_file = \"data/b0013frnkg_split_edu.txt\"\n",
    "output_file = \"data/b0013frnkg.tsv\""
   ]
  },
  {
   "cell_type": "code",
   "execution_count": 11,
   "id": "93dc20e2",
   "metadata": {},
   "outputs": [],
   "source": [
    "first_line = True\n",
    "\n",
    "with open(output_file, \"w\") as out_f:\n",
    "    out_f.write(\"text\\n\")\n",
    "    with open(input_file, \"r\") as in_f:\n",
    "        for line in in_f:\n",
    "            if first_line:\n",
    "                first_line = False\n",
    "                continue\n",
    "            elif len(line.strip()) > 1:\n",
    "                out_f.write(line.strip()+\"\\n\")\n",
    "            else:\n",
    "                first_line = True"
   ]
  },
  {
   "cell_type": "code",
   "execution_count": null,
   "id": "013805a7",
   "metadata": {},
   "outputs": [],
   "source": []
  },
  {
   "cell_type": "markdown",
   "id": "b9f78dd7",
   "metadata": {},
   "source": [
    "## separate segments on the basis of polarity"
   ]
  },
  {
   "cell_type": "code",
   "execution_count": null,
   "id": "cef64243",
   "metadata": {},
   "outputs": [],
   "source": []
  },
  {
   "cell_type": "code",
   "execution_count": 2,
   "id": "52900898",
   "metadata": {},
   "outputs": [],
   "source": [
    "import string\n",
    "import pandas as pd"
   ]
  },
  {
   "cell_type": "code",
   "execution_count": null,
   "id": "e3b8181b",
   "metadata": {},
   "outputs": [],
   "source": []
  },
  {
   "cell_type": "code",
   "execution_count": 135,
   "id": "2b523477",
   "metadata": {},
   "outputs": [],
   "source": [
    "# input_file = \"data/b00j8dl78o_segment_polarity.tsv\"\n",
    "# output_file = \"data/b00j8dl78o_positive_segments.tsv\"\n",
    "# output_file = \"data/b00j8dl78o_third_person_battery_negative_segments.tsv\"\n",
    "# output_file = \"data/b00j8dl78o_negative_segments.tsv\"\n",
    "# output_file = \"data/b00j8dl78o_third_person_negative_segments.tsv\"\n",
    "# output_file = \"data/b00j8dl78o_third_person_battery_positive_segments.tsv\"\n",
    "\n",
    "input_file = \"data/b0013frnkg_segment_polarity.tsv\"\n",
    "# output_file = \"data/b0013frnkg_positive_segments.tsv\"\n",
    "# output_file = \"data/b0013frnkg_third_person_positive_segments.tsv\"\n",
    "# output_file = \"data/b0013frnkg_negative_segments.tsv\"\n",
    "# output_file = \"data/b0013frnkg_third_person_negative_segments.tsv\"\n",
    "# output_file = \"data/b0013frnkg_third_person_battery_positive_segments.tsv\"\n",
    "output_file = \"data/b0013frnkg_third_person_battery_negative_segments.tsv\""
   ]
  },
  {
   "cell_type": "code",
   "execution_count": 136,
   "id": "bc0b767e",
   "metadata": {},
   "outputs": [],
   "source": [
    "translator = str.maketrans('', '', string.punctuation)"
   ]
  },
  {
   "cell_type": "code",
   "execution_count": 137,
   "id": "696e545a",
   "metadata": {},
   "outputs": [
    {
     "name": "stdout",
     "output_type": "stream",
     "text": [
      "total rows: 89837\n",
      "total negative: 14923\n",
      "total negative: 11550\n"
     ]
    }
   ],
   "source": [
    "df = pd.read_csv(input_file, delimiter=\"\\t\")\n",
    "print(\"total rows: {}\".format(len(df)))\n",
    "\n",
    "# df_positive = df[df['label'] == 1]\n",
    "# print(\"total positive: {}\".format(len(df_positive)))\n",
    "\n",
    "# df_high_positive = df_positive[df_positive[\"prob\"] > 0.99]\n",
    "# print(\"total positive: {}\".format(len(df_high_positive)))\n",
    "\n",
    "df_negative = df[df['label'] == 2]\n",
    "print(\"total negative: {}\".format(len(df_negative)))\n",
    "\n",
    "df_high_negative = df_negative[df_negative[\"prob\"] > 0.99]\n",
    "print(\"total negative: {}\".format(len(df_high_negative)))"
   ]
  },
  {
   "cell_type": "code",
   "execution_count": 138,
   "id": "c18bf5e5",
   "metadata": {},
   "outputs": [],
   "source": [
    "first_person_and_pronoun_words = [\"i\", \"me\", \"my\", \"myself\", \"mine\", \"we\", \"us\", \"our\", \"ourselves\", \"he\", \"she\", \"him\", \"her\", \"am\"]"
   ]
  },
  {
   "cell_type": "code",
   "execution_count": 139,
   "id": "887e8d9d",
   "metadata": {},
   "outputs": [],
   "source": [
    "with open(output_file, \"w\") as out_f:\n",
    "    out_f.write(\"text\\tlabel\\tprob\\n\")\n",
    "    for index, row in df_high_negative.iterrows():\n",
    "        if len(row[\"text\"].translate(translator).strip().split()) > 2:\n",
    "            word_list = row[\"text\"].lower().split()\n",
    "            if not any([word in word_list for word in first_person_and_pronoun_words]) and \"battery\" in word_list:\n",
    "                out_f.write(row[\"text\"]+\"\\t\"+str(row[\"label\"])+\"\\t\"+str(row[\"prob\"])+\"\\n\")"
   ]
  },
  {
   "cell_type": "code",
   "execution_count": null,
   "id": "2f30a564",
   "metadata": {},
   "outputs": [],
   "source": []
  },
  {
   "cell_type": "markdown",
   "id": "1b1b6084",
   "metadata": {},
   "source": [
    "# Reimplemented above code to separate positive and negative segments for amazon v3_dataset."
   ]
  },
  {
   "cell_type": "code",
   "execution_count": 48,
   "id": "a08a5f1d",
   "metadata": {},
   "outputs": [],
   "source": [
    "import string, os\n",
    "import pandas as pd"
   ]
  },
  {
   "cell_type": "code",
   "execution_count": 49,
   "id": "823f55a6",
   "metadata": {},
   "outputs": [],
   "source": [
    "input_dir = \"/home/saurabh/dir_1/shodh/Product-Comparison/data/v3_dataset/segment_polarity_4\"\n",
    "output_positive_dir = \"/home/saurabh/dir_1/shodh/Product-Comparison/data/v3_dataset/dataset_positive_negative_6/positive/\"\n",
    "output_negative_dir = \"/home/saurabh/dir_1/shodh/Product-Comparison/data/v3_dataset/dataset_positive_negative_6/negative/\""
   ]
  },
  {
   "cell_type": "code",
   "execution_count": 50,
   "id": "e31d7a09",
   "metadata": {},
   "outputs": [],
   "source": [
    "translator = str.maketrans('', '', string.punctuation)\n",
    "first_person_and_pronoun_words = [\"i\", \"me\", \"my\", \"myself\", \"mine\", \"we\", \"us\", \"our\", \"ourselves\", \"he\", \"she\", \"him\", \"her\", \"am\"]"
   ]
  },
  {
   "cell_type": "code",
   "execution_count": 51,
   "id": "a9f2c6de",
   "metadata": {},
   "outputs": [],
   "source": [
    "def write_to_file(output_file, data_frame):\n",
    "    with open(output_file, \"w\") as out_f:\n",
    "        for index, row in data_frame.iterrows():\n",
    "            if len(row[\"text\"].translate(translator).strip().split()) > 2:\n",
    "                word_list = row[\"text\"].lower().split()\n",
    "                if not any([word in word_list for word in first_person_and_pronoun_words]):\n",
    "                    out_f.write(row[\"text\"].strip().lower()+\"\\n\")\n",
    "\n",
    "\n",
    "for file in os.listdir(input_dir):\n",
    "    df = pd.read_csv(os.path.join(input_dir, file), delimiter=\"\\t\")\n",
    "    df_positive = df[(df['label'] == 1) & (df['prob'] > 0.99)]\n",
    "    df_negative = df[(df['label'] == 2) & (df['prob'] > 0.99)]\n",
    "    \n",
    "    write_to_file(os.path.join(output_positive_dir, file), df_positive)\n",
    "    write_to_file(os.path.join(output_negative_dir, file), df_negative)"
   ]
  },
  {
   "cell_type": "code",
   "execution_count": null,
   "id": "29955030",
   "metadata": {},
   "outputs": [],
   "source": []
  },
  {
   "cell_type": "code",
   "execution_count": null,
   "id": "932de4ca",
   "metadata": {},
   "outputs": [],
   "source": []
  },
  {
   "cell_type": "markdown",
   "id": "ca7f81e8",
   "metadata": {},
   "source": [
    "## deciding lowest probability"
   ]
  },
  {
   "cell_type": "code",
   "execution_count": null,
   "id": "1d262459",
   "metadata": {},
   "outputs": [],
   "source": []
  },
  {
   "cell_type": "code",
   "execution_count": 127,
   "id": "c84c881b",
   "metadata": {},
   "outputs": [],
   "source": [
    "import seaborn as sns\n",
    "import matplotlib.pyplot as plt"
   ]
  },
  {
   "cell_type": "code",
   "execution_count": 112,
   "id": "943d0d3e",
   "metadata": {},
   "outputs": [],
   "source": [
    "sns.set_theme(style=\"darkgrid\")"
   ]
  },
  {
   "cell_type": "code",
   "execution_count": 114,
   "id": "09e04750",
   "metadata": {},
   "outputs": [],
   "source": [
    "import ssl\n",
    "\n",
    "try:\n",
    "    _create_unverified_https_context = ssl._create_unverified_context\n",
    "except AttributeError:\n",
    "    pass\n",
    "else:\n",
    "    ssl._create_default_https_context = _create_unverified_https_context"
   ]
  },
  {
   "cell_type": "code",
   "execution_count": 123,
   "id": "94d2bf42",
   "metadata": {},
   "outputs": [],
   "source": [
    "dataset = sns.load_dataset(\"penguins\")"
   ]
  },
  {
   "cell_type": "code",
   "execution_count": 136,
   "id": "e8fe21e5",
   "metadata": {},
   "outputs": [
    {
     "name": "stderr",
     "output_type": "stream",
     "text": [
      "/home/saurabh/venvs/general_env/lib/python3.6/site-packages/seaborn/distributions.py:2557: FutureWarning: `distplot` is a deprecated function and will be removed in a future version. Please adapt your code to use either `displot` (a figure-level function with similar flexibility) or `kdeplot` (an axes-level function for kernel density plots).\n",
      "  warnings.warn(msg, FutureWarning)\n"
     ]
    },
    {
     "data": {
      "image/png": "[encoded data removed]",
      "text/plain": [
       "<Figure size 432x288 with 1 Axes>"
      ]
     },
     "metadata": {},
     "output_type": "display_data"
    }
   ],
   "source": [
    "fig, ax = plt.subplots()\n",
    "sns.distplot(df_negative[\"prob\"], ax=ax, hist=False)\n",
    "ax.set_xlim(0.92,1)\n",
    "plt.show()"
   ]
  },
  {
   "cell_type": "code",
   "execution_count": 138,
   "id": "65238c65",
   "metadata": {},
   "outputs": [
    {
     "name": "stdout",
     "output_type": "stream",
     "text": [
      "5712\n",
      "5057\n"
     ]
    }
   ],
   "source": [
    "print(len(df_negative))\n",
    "output = df_negative[df_negative[\"prob\"] > 0.95]\n",
    "print(len(output))"
   ]
  },
  {
   "cell_type": "code",
   "execution_count": null,
   "id": "10e6e4a8",
   "metadata": {},
   "outputs": [],
   "source": []
  },
  {
   "cell_type": "markdown",
   "id": "3f780276",
   "metadata": {},
   "source": [
    "## similarity matching"
   ]
  },
  {
   "cell_type": "code",
   "execution_count": 60,
   "id": "3ab01c98",
   "metadata": {},
   "outputs": [],
   "source": [
    "from sentence_transformers import SentenceTransformer, util\n",
    "import json"
   ]
  },
  {
   "cell_type": "code",
   "execution_count": 61,
   "id": "b917b4f8",
   "metadata": {},
   "outputs": [],
   "source": [
    "model = SentenceTransformer('paraphrase-MiniLM-L6-v2')"
   ]
  },
  {
   "cell_type": "code",
   "execution_count": 62,
   "id": "d19a026d",
   "metadata": {},
   "outputs": [
    {
     "name": "stdout",
     "output_type": "stream",
     "text": [
      "<class 'numpy.float32'>\n",
      "0.77275556\n"
     ]
    }
   ],
   "source": [
    "sent_1 = model.encode(\"hello\")\n",
    "sent_2 = model.encode(\"hi\")\n",
    "\n",
    "sim_scores = util.pytorch_cos_sim(sent_1, sent_2)\n",
    "print(type(sim_scores.numpy()[0][0]))\n",
    "print(sim_scores.numpy()[0][0])"
   ]
  },
  {
   "cell_type": "code",
   "execution_count": 63,
   "id": "24afee6b",
   "metadata": {},
   "outputs": [],
   "source": [
    "input_file = \"data/b0013frnkg_third_person_positive_segments_testing_on_pool.tsv\""
   ]
  },
  {
   "cell_type": "code",
   "execution_count": 64,
   "id": "3d434c00",
   "metadata": {},
   "outputs": [],
   "source": [
    "df = pd.read_csv(input_file, delimiter=\"\\t\")"
   ]
  },
  {
   "cell_type": "code",
   "execution_count": 65,
   "id": "1ded7374",
   "metadata": {},
   "outputs": [
    {
     "data": {
      "text/plain": [
       "(12347, Index(['text', 'label', 'prob'], dtype='object'))"
      ]
     },
     "execution_count": 65,
     "metadata": {},
     "output_type": "execute_result"
    }
   ],
   "source": [
    "len(df), df.columns"
   ]
  },
  {
   "cell_type": "code",
   "execution_count": 66,
   "id": "65ba988c",
   "metadata": {},
   "outputs": [],
   "source": [
    "df.sort_values(by=[\"prob\"], ascending=False, inplace=True, ignore_index=True)"
   ]
  },
  {
   "cell_type": "code",
   "execution_count": 67,
   "id": "0115d98d",
   "metadata": {},
   "outputs": [
    {
     "data": {
      "text/plain": [
       "12347"
      ]
     },
     "execution_count": 67,
     "metadata": {},
     "output_type": "execute_result"
    }
   ],
   "source": [
    "len(df)"
   ]
  },
  {
   "cell_type": "code",
   "execution_count": 68,
   "id": "c2e602c8",
   "metadata": {},
   "outputs": [],
   "source": [
    "pool_list = []\n",
    "match_dict = {}\n",
    "encoding_dict = {}"
   ]
  },
  {
   "cell_type": "code",
   "execution_count": 69,
   "id": "da7c95d6",
   "metadata": {},
   "outputs": [],
   "source": [
    "for index, row in df.iterrows():\n",
    "    text = row[\"text\"].lower().strip()\n",
    "    text_encoding = model.encode([text])\n",
    "    similar = False\n",
    "    \n",
    "    for loc in range(len(pool_list)):\n",
    "        sim_score = util.pytorch_cos_sim(encoding_dict[loc], text_encoding).numpy()[0][0]\n",
    "        \n",
    "        if sim_score > 0.50:\n",
    "            similar = True\n",
    "            match_dict[loc].append((text, sim_score))\n",
    "            break\n",
    "            \n",
    "    if not similar:\n",
    "        pool_list.append(text)\n",
    "        encoding_dict[len(pool_list)-1] = text_encoding\n",
    "        match_dict[len(pool_list)-1] = []"
   ]
  },
  {
   "cell_type": "code",
   "execution_count": 70,
   "id": "cba58c8f",
   "metadata": {},
   "outputs": [
    {
     "data": {
      "text/plain": [
       "733"
      ]
     },
     "execution_count": 70,
     "metadata": {},
     "output_type": "execute_result"
    }
   ],
   "source": [
    "len(pool_list)"
   ]
  },
  {
   "cell_type": "code",
   "execution_count": 71,
   "id": "6fbb9e6e",
   "metadata": {},
   "outputs": [],
   "source": [
    "count_dict = {}\n",
    "\n",
    "for loc in range(len(pool_list)):\n",
    "    num_of_sim_sent = len(match_dict[loc])\n",
    "    \n",
    "    if num_of_sim_sent not in count_dict:\n",
    "        count_dict[num_of_sim_sent] = [loc]\n",
    "    else:\n",
    "        count_dict[num_of_sim_sent].append(loc)"
   ]
  },
  {
   "cell_type": "code",
   "execution_count": null,
   "id": "4d1d84ae",
   "metadata": {},
   "outputs": [],
   "source": [
    "sorted(count_dict)"
   ]
  },
  {
   "cell_type": "code",
   "execution_count": 81,
   "id": "7609270f",
   "metadata": {},
   "outputs": [],
   "source": [
    "updated_pool_list = []\n",
    "\n",
    "for key in count_dict.keys():\n",
    "    if key > 10:\n",
    "        for loc in count_dict[key]:\n",
    "            updated_pool_list.append(pool_list[loc])"
   ]
  },
  {
   "cell_type": "code",
   "execution_count": 82,
   "id": "924d3ca8",
   "metadata": {},
   "outputs": [
    {
     "data": {
      "text/plain": [
       "140"
      ]
     },
     "execution_count": 82,
     "metadata": {},
     "output_type": "execute_result"
    }
   ],
   "source": [
    "len(updated_pool_list)"
   ]
  },
  {
   "cell_type": "code",
   "execution_count": 44,
   "id": "098d3f65",
   "metadata": {},
   "outputs": [
    {
     "data": {
      "text/plain": [
       "[\"like all of apple 's products , it delivers a really beautiful experience .\",\n",
       " \"so that 's a nice plus .\",\n",
       " 'recipient loves it !',\n",
       " 'great product for a great price !',\n",
       " 'amazing device , great for games , email , the web and the kids love it .',\n",
       " 'and even the battery life is exceptional .',\n",
       " 'got this ipad 3 stylus and a leather case for 590 something . totally worth it .',\n",
       " 'what a great deal !',\n",
       " \"it 's fun , attractive , and pretty funciontal .\",\n",
       " 'thank you for the smooth machine .',\n",
       " 'perfect for the granddaughter .',\n",
       " 'great for photos , music , ibooks , etc. .',\n",
       " 'great for travel .',\n",
       " 'bought for 80-yr old mom and she loves it .',\n",
       " 'great to look up information fast and easy .',\n",
       " 'app environment : really excellent variety and quality of applications for a broad range of uses and a broad range of prices .',\n",
       " 'and save a good amount of money !',\n",
       " \"this is one of the best `` gadgets ''\",\n",
       " 'great experience with the seller .',\n",
       " 'really like it',\n",
       " 'good for both work and play .',\n",
       " \"it 's easy to carry with you anywhere .\",\n",
       " 'highly recommend this for anyone',\n",
       " 'so many cool games .',\n",
       " 'so much more pleasant to use on the couch than a laptop .',\n",
       " 'and loved it for a few months .',\n",
       " 'but it still deserves 5 stars !!!',\n",
       " 'the face-time and skype are awesome .',\n",
       " 'this is one amazing thing',\n",
       " 'very nice has front and rear cameras a plus .',\n",
       " 'just get one and enjoy it .',\n",
       " 'ever owned very happy with it .',\n",
       " 'and this one is the best .',\n",
       " 'absolutely love the fact',\n",
       " 'very nice and in excelent conditions .',\n",
       " 'it came in very fast and in wonderful condition !',\n",
       " 'and buy a nice gift to your girl/boyfriend with the rest of the money',\n",
       " 'support is amazing !!!',\n",
       " 'the computer has incredible u tube tutorials .',\n",
       " 'thank you to all amazon employees !',\n",
       " 'the fuctionality of it is great .',\n",
       " 'they make it easy to clean spills',\n",
       " 'perfect gift for the holidays .',\n",
       " 'very good value',\n",
       " 'everything on it functions and im loving it .',\n",
       " 'this is indeed an excellent electronic !!!',\n",
       " 'to all the customers , playstation 3 is a good seller .',\n",
       " 'the i-pad 2 is wonderful .',\n",
       " 'getting good use and it great !!!!',\n",
       " 'and will become an important part of your life .',\n",
       " 'they all love them .',\n",
       " 'it provides many hours of enjoyment .',\n",
       " 'the service of the amozon is amazing .',\n",
       " 'and am pleased to have gotten a 64gb in white with wifi and 3g for such and incredible price .',\n",
       " 'huge amount of memory good deal .',\n",
       " 'he now uses it daily and greatly enjoying it .',\n",
       " 'thanks guys , excellent job .',\n",
       " 'perfect for office use .',\n",
       " 'very good sound .',\n",
       " 'have a wonderful day !',\n",
       " 'great for kids and pre-teens at $ 139 .',\n",
       " 'very impressed with the item . yeah , yeah , yeah , yeah , yeah , yeah , yeah , yeah , yeah , yeah',\n",
       " 'perfect for jailbreaking and testing software .',\n",
       " 'great graduation gift for new teacher .',\n",
       " 'love it , beautiful and slim .',\n",
       " 'the parental controls are amazing .',\n",
       " 'these people are too wonderful .',\n",
       " 'saved lots of $ $ on a long-awaited fathers day gift !',\n",
       " 'excellent costumer service .',\n",
       " 'great . take the warranty',\n",
       " 'very well packed',\n",
       " 'for $ 499 you get everything',\n",
       " 'the portability is fantastic',\n",
       " 'fast and reliable service !!!',\n",
       " 'good and fast shipping',\n",
       " 'got the item in proper condation and the right time .',\n",
       " 'holds a charge perfectly .',\n",
       " 'im much happier with the android tab .',\n",
       " \"and it 's amazing.it represents the future ,\",\n",
       " 'the design is elegant , sublime .',\n",
       " 'and look up hotels are all valuable features of this product .',\n",
       " 'got a nice free upgrade .',\n",
       " 'the ipad 2 has the best selection of games out of all the other tablets .',\n",
       " 'love this site !',\n",
       " 'are a great resource',\n",
       " 'the lord is so good !!',\n",
       " 'the device makes for great company on an airplane',\n",
       " 'vlc player has been a great app to watch . avi and other videos .',\n",
       " 'having so much fun with it and so happy to be able to read books so clearly and so comfortably .',\n",
       " 'it was amazing for the first 20 hours .',\n",
       " 'garage band , and drawing pad are awesome toys to have on hand',\n",
       " 'came in original box with everything in package .',\n",
       " 'no regrets , easy to use .',\n",
       " \"they 're exciting and new ,\",\n",
       " 'video plays beautifully but only on the ipad .',\n",
       " 'pros -------------- beautiful display front and back camera nice ui strong processor durable great app store',\n",
       " 'retina display must be amazing',\n",
       " 'this meticulously kept',\n",
       " 'so simple to use .',\n",
       " 'hbo go is simply a delight ,',\n",
       " 'and finally , this feels light',\n",
       " 'she goes easily from reading a danielle steele ebook to watching a prince william and kate lifetime movie .',\n",
       " 'it came well packaged and protected .',\n",
       " 'and fits right in your hand .',\n",
       " 'love the mini for browsing internet and checking email .',\n",
       " 'the fire is great .',\n",
       " \"one big plus is apple 's app store has a free app for amazon 's kindle .\",\n",
       " 'love it still learning so much about it !',\n",
       " 'hubby happy , kids happy and wife is happy .',\n",
       " 'onscreen keyboard : its responsive and surprisingly easy to use .',\n",
       " 'and it looks and acts exactly the same .',\n",
       " 'super lightweight ... great screen definition .',\n",
       " 'and it looks brand new ,',\n",
       " 'the polish of the interface is great .',\n",
       " 'it also has some awesome word',\n",
       " 'great dealing with keith and all of the company .',\n",
       " 'love all the apps .',\n",
       " 'always great service .',\n",
       " 'the resolution on it is amazing',\n",
       " 'a childs education id priceless . ipad 2 is perfect for facilitating that .',\n",
       " 'you have something else great to sell next year .',\n",
       " 'or your kids love it .',\n",
       " 'kids and the elderly have embraced it .',\n",
       " 'processing speed : remarkably quick to load apps , web pages , pdfs , etc. .',\n",
       " 'it worth every penny .',\n",
       " 'this is a 5 star purchase and a 5 star supplier -',\n",
       " 'perfect for watching films ,',\n",
       " 'very pleased with tek replay .',\n",
       " 'completely dependable and no problems .',\n",
       " 'its a great entertainment tool and saves money on electricity instead of having the tv and radio on all the time .',\n",
       " 'everything was great from beginning to end .',\n",
       " 'all the functions are good .',\n",
       " 'all in all , a very good deal from two good suppliers .',\n",
       " 'and likes the big screen and all the space for her pictures .',\n",
       " 'love love love !',\n",
       " 'the simplicity , usability and ease of use of such a very compliated hardware is a miracle in itself .',\n",
       " 'and for the past two years , the touch has kept',\n",
       " 'and still sets the bar high ! 5/5',\n",
       " 'national geographic is gorgeous on this thing .',\n",
       " 'still going strong !',\n",
       " 'a good little unit .',\n",
       " 'and is very , very durable .',\n",
       " 'love the double camera !',\n",
       " 'love new ios 7 as well .',\n",
       " \"and it 's clean and ready to run .\",\n",
       " 'love both of these .',\n",
       " 'so the tablet is easy to find and relatively indestructible .',\n",
       " 'this is the best notepad',\n",
       " 'husband is loving his new ipad',\n",
       " 'intuitive , fast , complete , long batter life - exactly as offered !',\n",
       " 'and still retains 80 % the original power ,',\n",
       " 'got a refurbished one , two of them from kgh electronics on other sellers and total satisfaction with product and serice .',\n",
       " 'easy to use , light weight , stylish and practical ...',\n",
       " 'can still do quite an amazing amount of work',\n",
       " \"and it 's constantly playing music -- good music even .\",\n",
       " 'how perfect theirs were .',\n",
       " 'the cable and throdle work just great , easy to install .',\n",
       " \"she 's going to love it !\",\n",
       " \"it 's the perfect device for casual surfing .\",\n",
       " 'the picture is hd and crystal clear .',\n",
       " 'the form factor fits perfect and comfortable in the hand .',\n",
       " 'after an initial slow , but fun orientation and adjustment period , she loves it .',\n",
       " 'multitasking is beautiful ,',\n",
       " \"it 's a 9.7 '' ips screen with a 1024x768 resolution . * battery life - excellent .\",\n",
       " 'perfect grift for 13 yr old',\n",
       " 'convent and helpful .',\n",
       " 'also plays nice with content providers like amazon kindle , google docs , and lots of news outlets .',\n",
       " \"was a tannish brown `` leather '' , and of good quality .\",\n",
       " 'safari is a really great and simple browser',\n",
       " 'handle with extreme care !',\n",
       " 'it is very slippery to hold/easy to drop .',\n",
       " 'and gsmwholesale made it very easy to return .',\n",
       " 'turned it on and it has been working great ever since .',\n",
       " 'representatives are friendly , responsive , well-educated and just good folks .',\n",
       " 'truly a great piece of techknoelegy .',\n",
       " \"it 's one of the best purcjases\",\n",
       " 'he is more than thrilled .',\n",
       " 'the black one was great',\n",
       " 'the 32 gb is great',\n",
       " 'still does very great with face time support .',\n",
       " 'that are packed with power and features .',\n",
       " 'and it was instant love .',\n",
       " \"screen : bright , good touch sensitivity , `` flips '' between orientations well , handles pictures and text with aplomb .\",\n",
       " 'and still working greaaaaatttt !!',\n",
       " 'it pretty much serves well for emails , or watching netflix .',\n",
       " 'keep it up apple .',\n",
       " 'this is a very well made product with a metal exterior vice',\n",
       " 'everything else is cool .',\n",
       " 'what preserves those special moments with your pets , family and anything',\n",
       " 'and it does its job .',\n",
       " 'with a full wrap case , it responds to every touch .',\n",
       " 'photobooth seems to be the most fun app',\n",
       " 'and can be vastly improved .',\n",
       " 'so this was a great replacement .',\n",
       " 'that they are a cheap and good',\n",
       " 'and is still a rock star .',\n",
       " 'thank you betamacs',\n",
       " 'and you can keep everything in icloud',\n",
       " \"and how good the eyesight of the user is . ''\",\n",
       " 'clearing basement did a fantastic job',\n",
       " \"great babysitter and he 's learning things too !\",\n",
       " 'and prompt delivery thanks .',\n",
       " 'was very surprised and very happy !!',\n",
       " 'email , internet , calendar , clock , notifications , and much much more are highly accessible for the blind .',\n",
       " \"ca n't beat for the money , and very user friendly .\",\n",
       " 'works like a charm !',\n",
       " 'easy to use with updated functions .',\n",
       " 'thank you aaron !',\n",
       " 'and can stay connected to the internet virtually anywhere',\n",
       " 'she is an excellent typist',\n",
       " 'been a + + , completely trustworthy !',\n",
       " 'what a great hit',\n",
       " 'item was perfect !!!',\n",
       " 'a tiempo , lo recomiendo , calidad y servicio , very good , excelente . .',\n",
       " 'to use a mouse is incredible ,',\n",
       " 'very nice will order again',\n",
       " 'this is worth about $ 50-100 at most . $ 400 can buy a much more versatile and powerful netbook .',\n",
       " 'got it for xmas 2016 .',\n",
       " 'great , fast , astonishing virusfree !!',\n",
       " 'simple wear and tear .',\n",
       " 'arrived within days of order in perfect condition .',\n",
       " 'grand kids are entertained for hours',\n",
       " 'for a portable , in your bed experience , this works wonders .',\n",
       " 'and all of the buttons and features still work',\n",
       " 'ignorance is bliss .',\n",
       " 'received with great paise . 90 % of computer tasks are now complete',\n",
       " 'a creative larning and entertainment tool for children and adults .',\n",
       " 'standby time is awesome',\n",
       " 'this one is user friendly and so easy to upload',\n",
       " 'a simple flash for the camera .',\n",
       " 'works like a champ and the display is easy to read !',\n",
       " 'love the product . got it before the estimated arrival date',\n",
       " \"what works is ... a central part of an ipad 's attractions ...\",\n",
       " 'this feature has been on cell phones forever .',\n",
       " 'runs well , great storage space , new in package .',\n",
       " 'great shape an just',\n",
       " 'they have a great selection',\n",
       " 'love the cloud network',\n",
       " 'looks good on the outside .',\n",
       " \"after `` set-up '' worked really good for 6 weeks .\",\n",
       " 'who appreciates subtle refinements in electronics .',\n",
       " 'and the price was just right .',\n",
       " 'ipad was exactly as described - perfect and new .',\n",
       " \"and start enjoying all of its ' capabilities .\",\n",
       " 'when it comes to speed and versatility .',\n",
       " \"it 's extremely intuitive and quick .\",\n",
       " 'and you even can watch movies and tv .',\n",
       " 'definitely a keeper !',\n",
       " 'it is in excellent mint condition .',\n",
       " 'the mans ring loved it',\n",
       " 'you will not regret it .',\n",
       " 'the 2 is lighter and more powerful',\n",
       " 'super easy to set up with verizon',\n",
       " 'thank you mac',\n",
       " 'remained professional , curteous and helpful',\n",
       " 'she loves to send the spider climbing .',\n",
       " 'thank you so much harkerelectronics',\n",
       " 'appreciate the honesty and the quality of the product .',\n",
       " 'was a gift for a retiree .',\n",
       " 'night , and love it ,',\n",
       " 'loves using it to read',\n",
       " 'and still plan',\n",
       " 'responsive , has pretty much everything you could think of table-wise .',\n",
       " 'built in speaker runs pretty fast on amazon you can find the 16,32 , and 64 gig editions of this second generation tablet',\n",
       " 'makes its return with a sexy sleek taper design .',\n",
       " 'all is well now .',\n",
       " 'and worked well on 10 hour international flights .',\n",
       " 'when you can pry it out of his hands he is a really nice kid .',\n",
       " 'its very customizable to fit all',\n",
       " 'and has no hesitation to give five star recommendation .',\n",
       " 'as an everyday consumer , you can really shape this device around your life',\n",
       " 'and it remains true to this day .',\n",
       " 'not a single scratch and it was in great condition !',\n",
       " 'and respond nicely',\n",
       " 'love that it came with a screen protector',\n",
       " 'perfect for when iphone to small',\n",
       " 'usual high standard from apple .',\n",
       " '7 very simple and intuitive navigation',\n",
       " 'loved the cert of refurbishment',\n",
       " 'lasts a long time !',\n",
       " 'and will be a dependable piece of technology .',\n",
       " 'the manufactured parts work together in harmony .',\n",
       " 'and after many months in a house of 4 , it still looks and performs the same',\n",
       " 'this is a giant lump of awesome',\n",
       " 'and set a good benchmark ,',\n",
       " 'kdh did a great job',\n",
       " 'it is the supreme compliment',\n",
       " 'very user friendly even for a technically challenged senior !',\n",
       " \"no damage and works well so it 's a petty good deal .\",\n",
       " 'and doing business much easier on the go !',\n",
       " 'powerpoints are so easy to read',\n",
       " 'including by much-loved breakfast cereal',\n",
       " 'will keep looking for these in the future .',\n",
       " 'ipod is really good too its',\n",
       " 'market wins for functionality .',\n",
       " 'she has used it now for two months and no problem with the product .',\n",
       " 'works great company replaced charger right away',\n",
       " 'an incredible number of classics are free on ibooks , kindle and gutenberg.org',\n",
       " 'go for the 3rd generation .',\n",
       " 'the volume drive works beautifully during this post gfc era',\n",
       " 'this was an unexpected gift .',\n",
       " 'and pages preserve your microsoft word and powerpoint documents very nicely and is usable immediately .',\n",
       " 'fitted with a 1ghz apple a5 custom-designed , high performance , low-power processor .',\n",
       " 'which is argued as some of the best on the market in 2011 .',\n",
       " 'works great never would know',\n",
       " 'favorite magazines like bloomberg businessweek and wired are available free as ipad versions',\n",
       " 'arrived early and works great',\n",
       " 'you can do anything .',\n",
       " 'air-paly grants you access to your music , videos and hd collection .',\n",
       " 'many more features students will love such a document sharing and icloud backup over wifi',\n",
       " 'the screen is pristine new',\n",
       " 'to get into the good graces of your mom , child and love ones and amazon delivers on time',\n",
       " 'the returns where successful and in a timely manner .',\n",
       " 'and the smart cover is a clever feature .',\n",
       " 'it has all the features of a nook and',\n",
       " 'and take pictures and videos with this one .',\n",
       " 'it has a great folder and file management system',\n",
       " 'peace at the restaurant',\n",
       " 'all the money on the latest model',\n",
       " '! ... everything was prompt and right on time !',\n",
       " 'it is the best tabloid on the market .',\n",
       " 'very smooth and little difference aside from the size .',\n",
       " 'rocker jakes you guys rock !!!',\n",
       " 'serving for the benefit of all users .',\n",
       " 'very savy tool !',\n",
       " 'to upload the os updates but works wonderfully .',\n",
       " 'creative created a great product ,',\n",
       " 'the i-pads versatility is not to be overlooked either .',\n",
       " 'and they are clear and understandable .',\n",
       " 'works just like new , no issues .',\n",
       " 'the ipad 2 battery last over 10 hours constantly on .',\n",
       " 'she was very happy with it all her friends went home',\n",
       " 'and spoke impeccable english .',\n",
       " 'they took care of everything',\n",
       " 'this has made life alot easier and travel alot more plesant .',\n",
       " 'ios has always been a novel user interface , not for the unlimited functions , but for the extremely easy to use user interface .',\n",
       " 'product meets all expectations .',\n",
       " \"and have n't experienced any problem at all .\",\n",
       " 'where you can watch their new shows in their entirety .',\n",
       " 'when it finally pooped out lots of use for a good number of years - great product ,',\n",
       " 'ding in the top corner great deal',\n",
       " 'it works as advertised & reviewed .',\n",
       " 'that have the newest inovation',\n",
       " \"a great picture organizer program is `` photo mgr pro . ''\",\n",
       " 'there are some remarkable apps for children with autism spectrum disorder',\n",
       " 'using wifi and the ipad last night ... cool experience , especially with stereo headphones .',\n",
       " 'and they were ecstatic .',\n",
       " 'expected and more love the white color',\n",
       " 'and look much better , more realistic even .',\n",
       " 'the packaging was top notch & product',\n",
       " 'aaa = + + + 100 % good',\n",
       " 'the second unit worked great',\n",
       " 'facebook , 4 square , twitter , flipboard is way cool',\n",
       " 'and easily accompany you everywhere , to practice , to recitals , etc. .',\n",
       " 'runs quickly and allows him to use all the apps',\n",
       " 'love it . actually better than expected . .',\n",
       " 'that you provide a premium source of items to purchasersespecially out off tthe usa',\n",
       " 'and was undamaged .',\n",
       " 'it interested michael t',\n",
       " 'she loved her kindle fire for reading',\n",
       " 'recommended for your toddler ,',\n",
       " \"is a bonus and the screen - large and crystal clear - is not so much a selling point but rather a `` how to '' example for other tablet manufacturers to follow .\",\n",
       " 'but the kindle has been truly reliable and easy to use .',\n",
       " 'and it also runs the 300,000 apps available for the iphone .',\n",
       " 'everybody should own one .',\n",
       " 'as you enlarge and stretch content .',\n",
       " 'the programing was well done',\n",
       " 'browsing is great ,',\n",
       " \"and he ca n't put it down .\",\n",
       " 'so it was an easy 4 stars .',\n",
       " 'the gustatory generation one is good',\n",
       " '2 is great for all people , chefs , business men and women , teachers , or even the stay at home mom .',\n",
       " \"it 's nice to have the same icons\",\n",
       " \"it 's been great to be able to connect any time in video from work to home .\",\n",
       " \"and could n't be happier .\",\n",
       " 'it can still be installed 9',\n",
       " 'app is great for reinforcing material',\n",
       " 'it is meeting all expectations and more !',\n",
       " 'and he cared .',\n",
       " 'who likes the ease',\n",
       " 'it even makes a good paperweight :',\n",
       " 'great just as dicribed',\n",
       " 'and will not reset .',\n",
       " 'this detail is very important for the buyers outside of the verizon coverage , or people',\n",
       " 'functioned properly with minimal wear or no wear at all .',\n",
       " \"so he could play `` rerave '' on it and he plays constantly .\",\n",
       " \"using `` facetime '' . it has everything\",\n",
       " 'no complaints here !',\n",
       " 'you can also purchase an applecare support package',\n",
       " \"exactly what 's claimed for it and more .\",\n",
       " 'very good not englhis only spanish ... ... . ... . ... . ... . ... ... . . ... . ... ... ...',\n",
       " '2 - itunes is a built in application',\n",
       " 'that will last a lifetime .',\n",
       " 'and with all the great apps for news and shows , there truly is no end',\n",
       " 'then this would work great for you .',\n",
       " 'you can sync it with your mac , iphone , or apple watch',\n",
       " 'simply the bestest mobile communication tool .',\n",
       " 'google now works much better than siri !!!',\n",
       " 'it was a gift no complaints',\n",
       " 'the screen is great for reading in dark and well lighted areas and the text',\n",
       " 'works well no issue with this device at all',\n",
       " 'it makes a fine remote control .',\n",
       " 'he carry it on him everywhere',\n",
       " 'buying him one exactly like he had .',\n",
       " 'the transition went smoothly .',\n",
       " 'she is a very responsible young user .',\n",
       " 'thank goodness for returns !',\n",
       " 'these are the easiest to maneuver and use .',\n",
       " 'this is the first apple device',\n",
       " 'and have purchased thousands of products in the past year , also a prime member .',\n",
       " 'generally the applications for ios are far more mature and polished than those available for android .',\n",
       " 'apps like the flipboard and zite make magazine content come alive .',\n",
       " 'which is very beneficial for someone in the business world or still in school .',\n",
       " 'organized on-the-go , as well as the ability',\n",
       " 'and now everyone has over 50,000 songs , 2,000 movies , and thousands of cartoons to watch !',\n",
       " 'found a new appl : easy , comfortable to move , high definition screen',\n",
       " 'btw is excellent',\n",
       " 'for keeping your word and professionalism !',\n",
       " 'which you can rent digital books or audiobooks from your local library with your library card for free .',\n",
       " 'for official repairs at an authorized dealer you can also expect to pay between half of the original price and the full price - lovely .',\n",
       " 'and have received great help from the telephone experts .',\n",
       " 'this review is very useful !',\n",
       " 'motion x drive app is 99 cents and just as good or better than garmin .',\n",
       " 'when hers performs just the same !',\n",
       " 'because it works on every other computer and device in the house .',\n",
       " 'will find this a compelling solution .',\n",
       " \"new and `` improved '' apple doubled the ram in the ipad 2 from 256mb to 512mb .\",\n",
       " 'that is good for presentations , yet still retaining good mobility ,',\n",
       " 'was much easier to set-up thought .',\n",
       " 'and now she wants one for herself .',\n",
       " \"that the daily crossword puzzle on the guardian 's website was free and interactive .\",\n",
       " 'and can be easily manipulated with your fingers .',\n",
       " 'it has been a good introduction for him .',\n",
       " 'having a store nearby to take 1:1 classes is wonderful ,',\n",
       " 'these are vital',\n",
       " 'he likes all of thamei',\n",
       " 'for her , 16 gigs is just right .',\n",
       " 'safer by far .',\n",
       " 'and down load everything you need .',\n",
       " '5 clean lines : a minimalistic design .',\n",
       " 'and it will continue singing to you for several hours ,',\n",
       " 'been a challenge but one worth undertaking .',\n",
       " 'tons of content available , much of it free or just $ .99 built well and damn-near bulletproof case .',\n",
       " 'initial review was good ... liked the device feel , weight , etc. .',\n",
       " 'to meet the expectations at no additional cost .',\n",
       " 'plus you can customize it better and surf files better',\n",
       " \"that you 'll find exactly what you want .\",\n",
       " 'super la recomiendo yo solo la uso para msica , correos , skype y llevar mi horario y citas .',\n",
       " 'still in good condition after 2 year',\n",
       " 'and now she is happily occupied herself with the bakery story app on a device',\n",
       " 'they are everywhere and well',\n",
       " 'handy to take room to room , easier',\n",
       " 'linux will always be known as a great server operating system , reliable samba share server , etc ,',\n",
       " 'played via airplay mirroring has a cool feature ,',\n",
       " 'pros : * easy to use * convenient to travel * lots of space * digital movies',\n",
       " 'strengths : excellent video quality and simplicity ?',\n",
       " 'and protect it with your life',\n",
       " 'and they will read you almost anything out loud on your ipad !',\n",
       " 'paper books are more appealing now .',\n",
       " 'brother for instance makes one of the most popular and economical mono laser printers in he world',\n",
       " 'several family member already own these .',\n",
       " \"akin the hp 's ipaq in 2004 except much more versatile graphically and with a much improved touchscreen .\",\n",
       " 'that was simplistic , minimalistic , and very user friendly !',\n",
       " 'but it surely is one of the most attractive and functional platforms for the general population .',\n",
       " 'that is a must',\n",
       " 'so that everyone can easily learn from your 4 year old sister to your 70 year old grandmother .',\n",
       " 'the 3d honey comb looks !',\n",
       " 'so this will be perfect for her to use primarily for a reader & personal organizer .',\n",
       " 'and feels smooth while navigating between different processes .',\n",
       " 'all reviews agree on the following :',\n",
       " 'it comes with a special 10w power adapter',\n",
       " 'and works fine and at a lightning speed .',\n",
       " 'wizards are helpful programs',\n",
       " 'all the content',\n",
       " 'is just phenomenal .',\n",
       " 'you can download books , games , or nearly anything from the itunes store or amazon .',\n",
       " 'best buy on amazon yet .',\n",
       " 'the auto on auto off works great',\n",
       " 'and the learning curve has been rather easy for her .',\n",
       " 'and will get any other accessories the same way .',\n",
       " \"google has become a `` member of the family '' !\",\n",
       " 'that he would like very much',\n",
       " \"it 's green glory .\",\n",
       " 'get a case this thing is beautiful',\n",
       " 'and still had the camera .',\n",
       " 'the npr app works perfectly',\n",
       " 'and avoiding the problems is valuable to know .',\n",
       " 'the motorola xoom appeared to be very well built ,',\n",
       " 'and they kept reboot and resetting it .',\n",
       " 'exactly as offered ...',\n",
       " 'that can run vmware , play online multi-player games , store files where-ever',\n",
       " 'the packing was appropriate for this item .',\n",
       " \"and it 's working fine with no problem picking up wifi outside of the routers room .\",\n",
       " 'wifi is a must-have .',\n",
       " 'and play 2d games with no hitches .',\n",
       " 'is the oldest device',\n",
       " 'and the list goes on ...',\n",
       " 'his bus driver is very thankful',\n",
       " 'works well and no visible scratches for a refurb .',\n",
       " 'when it arrived was an added bonus .',\n",
       " 'retaining the same display size .',\n",
       " 'that the older refurbished version is much better then a newer one for her .',\n",
       " 'not a huge problem .',\n",
       " 'and standing behind their product 100 %',\n",
       " 'a case is good insurance',\n",
       " ': the screen is impossible to scratch , however .',\n",
       " 'apple has dominated the touchcreen market',\n",
       " 'i.e. games w/high production value .',\n",
       " 'really matters at the only pace the interface allows .',\n",
       " 'and the hd factors good',\n",
       " 'no problems with locked screens or anything else .',\n",
       " 'and it is not expensive for what you can do',\n",
       " 'apple will give you a refurbished',\n",
       " 'which makes it up to date ad ready to go !',\n",
       " 'she is all set up ready to go .',\n",
       " 'it is such a cute little robot .',\n",
       " \"2550x1600 on a 30 '' is about as crisp\",\n",
       " 'the 10 inch screen is more than enough',\n",
       " 'and thanks for the extra cases',\n",
       " 'it came in 2 days , was well wrapped ,',\n",
       " \"daughter has n't put it down since she got it for christmas !\",\n",
       " 'so they can take it with them',\n",
       " 'the 9.7-inch fingerprint resistant led-backlit glossy widescreen multi-touch color display offers 1024x768 resolution',\n",
       " 'because they have the same iron grip on every one .',\n",
       " 'excellant customer service from rajasekhar .',\n",
       " 'it is good in showing road conditions , traffic , hazards , etc. ...',\n",
       " 'little bit more expensive than competition but , the juice is worth the squeeze !!!',\n",
       " 'they kept communication',\n",
       " 'no delay detected yet .',\n",
       " 'you are very ingenious guys ,',\n",
       " 'and can display multiple languages and characters simultaneously .',\n",
       " 'which are built into every single new hd tv for pc users .',\n",
       " \"so it does n't bother anyone else in bed with you .\",\n",
       " 'the virtual keyboard is ok for short email messages or filling in fields on websites .',\n",
       " 'while making news , education , books , and lifestyle easily accessible .',\n",
       " 'his school is encouraging students',\n",
       " 'and they keep moving back ;',\n",
       " 'seller is very reputable and always replied to any questions in a reasonable amount of time .',\n",
       " 'and the tilt helps',\n",
       " 'suck it apple fan boys .',\n",
       " 'all these features apple reserves completely for itself .',\n",
       " 'an engineering marvel !',\n",
       " 'the scratch resistance of the xoom is very good : 100 millinewton',\n",
       " 'exactly the way you get into the phone',\n",
       " 'and has grown',\n",
       " 'you can access your personal files via google drive , drop box , etc.',\n",
       " 'that is $ 72 a year',\n",
       " 'it will now work straight out of the box !',\n",
       " \"it 's been in use for the last 5 + months from morning until night\",\n",
       " \"bought this 10 ''\",\n",
       " \"they 're magical ,\",\n",
       " 'great condition almost new',\n",
       " 'im really glad igot this table yesterday',\n",
       " 'she loves orand',\n",
       " 'the 3g data capability adds $ 129 to the ipad2 .',\n",
       " 'and the most pretentious people liked them .',\n",
       " 'you can also save a web page',\n",
       " \"the ipad 's various styli , with their resistant , rubbery `` nubs , '' still leave much\",\n",
       " 'as they make patient records easily available .',\n",
       " 'just turn the services on and go .',\n",
       " 'it can slip easily into a purse .',\n",
       " 'and it seems to run smoother in his eyes .',\n",
       " \"it is n't broken ...\",\n",
       " 'transferring data from the 16 to the 32 was easy .',\n",
       " 'and you can use all the sd cards',\n",
       " 'with other apps you can access your remote desktop',\n",
       " 'the pad works really sllllllllllow',\n",
       " 'it merely helps you with everything',\n",
       " 'and has not even hiccupped .',\n",
       " 'waze app is free',\n",
       " \"that it is reliable , does n't crash or perform updates everyday\",\n",
       " 'the real estate is just right , extremely portable ,',\n",
       " 'well.gps worked entire way .',\n",
       " 'like exchange activesync the vpn functionality was surprisingly easy to set up',\n",
       " 'bought two for grandchildren',\n",
       " \"as a flashlight , sd card slots , cable hook up to t.v 's , wifi , usb , physical keypads , can download music\",\n",
       " 'that the macbook airs similarly will never overheat .',\n",
       " 'and this thing has survived 3 small children .',\n",
       " 'recomend it to anyone',\n",
       " 'feeling more informed and confident about their decision',\n",
       " 'paying and addition $ 200 !!!',\n",
       " 'that everyone will jump on .',\n",
       " 'oled is a superior display .',\n",
       " 'everything was more than ok .',\n",
       " 'is much crisper',\n",
       " 'and have never had any problems with a refurbished item .',\n",
       " 'would purchase again from this vendor .',\n",
       " 'this new tecnology is the best thing since crunchy peanut butter .',\n",
       " 'nothing is perfect ,',\n",
       " 'and set them up so all pictures , apps , games , and media are shared .',\n",
       " 'dominates this category all around .',\n",
       " 'that lets him write right on the screen !',\n",
       " 'saved a ton',\n",
       " 'the back camera can be used for hd 720p video recording of up to 30 frames per second with audio , as well as still camera with 5x zoom .',\n",
       " 'the browser is fast and no waiting for pages to load .',\n",
       " 'viziotab is the winner here .',\n",
       " 'if it still exists or is any good ...',\n",
       " \"he can only get apps ifi unlock it . ipad 2 was easy to child lock certain features and content . ipad 2 's long battery is great on trips ,\",\n",
       " 'everyone in this family thinks',\n",
       " 'it has eliminated all discord here plus the place is quiet as a tomb most of the time',\n",
       " \"and normally that 's enough\",\n",
       " 'and it will delete all your music , apps , photos , etc. .',\n",
       " 'if you want yours to stay awesome !',\n",
       " 'and keep in touch with family and friends .',\n",
       " 'numbers files work perfectly',\n",
       " 'all three tablets are in great condition as expected',\n",
       " 'documents to go works fairly well',\n",
       " 'no problems suggest it 4 any job .',\n",
       " 'slow as molasses even with wifi .',\n",
       " 'the more popular it will become in the hall of corporate america .',\n",
       " 'which is a win for xoom ,',\n",
       " 'when you are choosy with your needs .',\n",
       " 'the phenominal serviceand no hassle shopping',\n",
       " 'and you can load text/data also .',\n",
       " 'that the screen in the 3 and 4 are much better',\n",
       " 'good thing for internet serfing ,',\n",
       " 'who waxes rhapsodically over lighter weight , better led screen , improved battery life ,',\n",
       " 'he is too smart for his own good .',\n",
       " 'arrived promptly , no negative feedback from teacher .',\n",
       " 'and you can reopen it .',\n",
       " 'there are many more for free in the android market .',\n",
       " 'thanks again . respectfully from georgia .',\n",
       " 'natural and anyone from a child to a grandparent can use it',\n",
       " 'the vendor had a 97 % positive review ,',\n",
       " 'that this one is the most basic model available .',\n",
       " \"that she wo n't give back .\",\n",
       " 'and pages looks better here',\n",
       " 'itself is outstanding , cant',\n",
       " 'when you play music from your laptop to your tv',\n",
       " 'made accessible to the masses .',\n",
       " 'much better coverage .',\n",
       " 'some really good hearted people spent',\n",
       " 'and they were spot on .',\n",
       " 'and she says its just fine !!!!',\n",
       " 'money is important after all and is a deciding factor',\n",
       " 'who have said',\n",
       " 'and many many more .',\n",
       " \"very trustworthy in the descriptions so do n't worry ,\",\n",
       " 'getting a netbook after research and playing with them and no regrets',\n",
       " 'that it is so easy to get started , about 15 minute setup',\n",
       " \"'ll stick to asus from here on out .\",\n",
       " \"ahead you wo n't regret it . not compatible with flash player but still the best purchase . :\",\n",
       " 'that are tolerable in the dark or in bright sunlight .',\n",
       " 'java is still # 1 or # 2 language in the world for developing applications .',\n",
       " 'and in those areas far exceeds its current competitors .',\n",
       " 'you will never need another sheet of paper with apple itunes apps .',\n",
       " 'and have them activate it at no charge .',\n",
       " 'she demonstrated it convincingly .',\n",
       " 'and they want $ 269',\n",
       " 'xfinity from comcast also allows you to schedule and watch your ondemand content .',\n",
       " 'the difference in performance is absolutely striking',\n",
       " 'and has so much competition at the same time .',\n",
       " 'and the digitizer is complletly unusabje and broken .',\n",
       " 'for keeping up with school as well for entertainment .',\n",
       " 'but it can record really good vid .',\n",
       " 'this is ok',\n",
       " 'links work fast',\n",
       " 'and power your domicile with a small windmill and excercise bike hooked up to a homemade turbine .',\n",
       " 'to please the most diligent of users .',\n",
       " 'the expansion options are super .',\n",
       " 'and this time both the installs worked .',\n",
       " 'the longer you have it the more useful it will become .',\n",
       " \"ok lady , you 're the boss , pre-paid .\",\n",
       " \"as typing on it 's screen in landscape mode is fast and easy enough .\",\n",
       " 'that really sealed the deal .',\n",
       " 'the six colorful annies',\n",
       " 'and you app all in one thx',\n",
       " 'difficult toake connection in order to charge .',\n",
       " 'hope this helps .',\n",
       " 'to download all her apps . was successful except for crossword link .',\n",
       " 'how this works ,',\n",
       " 'and be pdf compatible .',\n",
       " 'review written by doggy',\n",
       " 'found it to be enthralling',\n",
       " 'chatting over facetime or over webex is simple ,',\n",
       " 'you can view about any format of a file in this app , even excel files .',\n",
       " 'toshiba thrive vs. ipad 2 .',\n",
       " 'it will maintain most of its value .',\n",
       " 'when you purchase products from walker and walker .',\n",
       " \"ca n't wait to try it out for more things !\",\n",
       " 'and prefer the solidarity of the sims 3 on pc .',\n",
       " 'best buy will also download and install updates for you for $ 29.95 ,',\n",
       " '- streamed music from icloud/itunes , siriusxm and pandora apps .',\n",
       " 'additional accessories are readily available such as bluetooth keyboards , headsets , and external speakers .',\n",
       " 'browse on firefox with your home presets/favorites , access anything',\n",
       " 'waited a long time to find a good one online .',\n",
       " 'and annotate and highlight .',\n",
       " 'loading apps was a breezy',\n",
       " 'plus share ability with up to 2 or 3 others , at the same time .',\n",
       " 'looks used with scratches and dents but still well worth it for the money !',\n",
       " 'what is interesting to know is',\n",
       " 'well ... lets just say',\n",
       " \"and it up graded it 's self to the latest version\",\n",
       " \"it 's compact size and light weight is a big draw\",\n",
       " 'fast mailing all together',\n",
       " 'installing docs-to-go for laptop-like capability for excel , word , and ppt .',\n",
       " 'xoom . the ability to store photos into catagories',\n",
       " 'steve jobs is a legend .',\n",
       " 'always accessible as long',\n",
       " 'because it is the perfect size',\n",
       " 'so she had no trouble figuring out how to navigate on the device .',\n",
       " 'and probably always will .',\n",
       " 'but it was a good decision .',\n",
       " \"that it really could be a good `` only '' computer for anyone but a hard core document writer .\",\n",
       " \"or use the `` go to '' function and type in the desired page . ipad lets\",\n",
       " 'this will help process graphics for games',\n",
       " 'the capacitive screen works fine for many things',\n",
       " 'overall a good product not sure alot of difference between generations .',\n",
       " 'this one will do in a pinch .',\n",
       " 'and pros greatly outweigh the cons .',\n",
       " 'at the time of release , the screen was good enough for the average person to use .',\n",
       " 'and download them anywhere in any of three possible formats',\n",
       " 'the description of the condition was accurate',\n",
       " 'turned on , an angry birds marathon and a good portion of a book in ibook .',\n",
       " 'and know the place for the first time .',\n",
       " 'the unit is exactly as ordered and received on the promised date - no problems .',\n",
       " 'and not question the cellular overlords .',\n",
       " 'shipped in time for christmas',\n",
       " \"and am holding this innovative piece of art ? ''\",\n",
       " 'which is very handy with the map app .',\n",
       " 'no more aching back and such .',\n",
       " 'as follows comfort and portability a + battery life a + app diversity and usability a + interface a + expandibility c',\n",
       " 'they sell all models .',\n",
       " 'on the con side of the ledger , the device is usable only',\n",
       " 'they help to define',\n",
       " 'luv luv luv it !!!',\n",
       " 'it had it over a yr or more . no issues',\n",
       " 'that will be useful for holding important info and just plain user friendly touchscreen and apps .',\n",
       " 'the lucky winner has reported',\n",
       " 'it booted fine , upgradeable to ios 8 .',\n",
       " 'you could use your new taurus',\n",
       " 'that too is now built in .',\n",
       " 'this is in the same league as wheat , fire , steel , flight , anti-biotics , sails , steam .',\n",
       " 'their digital effect is just alright',\n",
       " 'it is just a rich mans toy .',\n",
       " 'miscallenous - it works with bluetooth ,',\n",
       " 'a real os , flash support , large hard drive , screen can be adjusted for optimal viewing , usb ports ,',\n",
       " '... stay a version or two behind the latest',\n",
       " 'though not the highest is laudable .',\n",
       " 'surely , basic setup instructions should be included for an item of this value !!!',\n",
       " 'the home button was responsive ,',\n",
       " 'smartphones now have high resolution front and rear',\n",
       " 'a company survives',\n",
       " 'in physical form , it has no competitor .',\n",
       " 'therefore you can expect it to arrive safe and sound on your doorstep in two business days',\n",
       " 'ps ... musicians can now digitally purchase musicsheets and store ,',\n",
       " 'well turns out',\n",
       " 'purchased in march 2014 .',\n",
       " 'that is popular with the most technologically literate people on earth : tomshardware dotcom .',\n",
       " 'and there are thousands of epub books',\n",
       " 'really justifies buying the 2 vs 1 .',\n",
       " 'it is very fibrate .',\n",
       " 'it also comes with polaris office',\n",
       " \"* it wo n't ever got hot or overheat .\",\n",
       " 'the only compliant',\n",
       " 'the upgraded power and speed of the newer ipads would ever come in to play anyway !',\n",
       " 'and they may meet your minimum standards .',\n",
       " 'are forever linked to your id and password',\n",
       " 'it work great , has a few little scuff on the corners ,',\n",
       " 'he was resistant',\n",
       " 'made a believer out of this pc guy !',\n",
       " 'these above new features are opening up a lot of possibilities for educators as well .',\n",
       " 'came as described & seems to be working fine',\n",
       " 'ghost touches from day one !',\n",
       " 'it took forever to save up 600 $',\n",
       " 'she goes . with the wi-fi and the 32 gb hard drive',\n",
       " 'but perhaps the most attractive considering its lower price and light weight .',\n",
       " 'you can even bring in files to your ipad from your computer via wi-fi or ftp .',\n",
       " 'and it will charge slowly with those ,',\n",
       " 'on the iigs in all']"
      ]
     },
     "execution_count": 44,
     "metadata": {},
     "output_type": "execute_result"
    }
   ],
   "source": [
    "pool_list"
   ]
  },
  {
   "cell_type": "code",
   "execution_count": 83,
   "id": "22aabfd9",
   "metadata": {},
   "outputs": [],
   "source": [
    "output_file_1 = \"/home/saurabh/dir_1/shodh/Product-Comparison/qt/data/json/b0013frnkg_third_person_positive_segments_testing_on_pool_10_summ.json\""
   ]
  },
  {
   "cell_type": "code",
   "execution_count": 84,
   "id": "2b070baa",
   "metadata": {},
   "outputs": [],
   "source": [
    "first_entity = {\"entity_id\": \"b0013frnkg\", \"entity_name\": \"b0013frnkg_name\", \"reviews\": []}"
   ]
  },
  {
   "cell_type": "code",
   "execution_count": 85,
   "id": "de1af950",
   "metadata": {},
   "outputs": [],
   "source": [
    "id_counter = 0\n",
    "counter = 1\n",
    "\n",
    "tmp_dict = {\"review_id\": str(id_counter), \"sentences\": []}\n",
    "\n",
    "for segment in updated_pool_list:\n",
    "    tmp_dict[\"sentences\"].append(segment)\n",
    "    \n",
    "    if counter%5 == 0:\n",
    "        first_entity[\"reviews\"].append(tmp_dict)\n",
    "        id_counter = id_counter + 1\n",
    "        tmp_dict = {\"review_id\": str(id_counter), \"sentences\": []}\n",
    "        \n",
    "    counter = counter + 1\n",
    "    \n",
    "\n",
    "with open(output_file_1, \"w\") as out_f:\n",
    "    out_f.write(json.dumps([first_entity]))"
   ]
  },
  {
   "cell_type": "code",
   "execution_count": null,
   "id": "b5645b9b",
   "metadata": {},
   "outputs": [],
   "source": []
  },
  {
   "cell_type": "code",
   "execution_count": null,
   "id": "0f8b2ea8",
   "metadata": {},
   "outputs": [],
   "source": []
  },
  {
   "cell_type": "markdown",
   "id": "598bdc4d",
   "metadata": {},
   "source": [
    "# Code to generate golden responses"
   ]
  },
  {
   "cell_type": "code",
   "execution_count": 142,
   "id": "21b4a374",
   "metadata": {},
   "outputs": [],
   "source": [
    "import string"
   ]
  },
  {
   "cell_type": "code",
   "execution_count": null,
   "id": "2529b2eb",
   "metadata": {},
   "outputs": [],
   "source": []
  },
  {
   "cell_type": "code",
   "execution_count": 140,
   "id": "31f99dde",
   "metadata": {},
   "outputs": [],
   "source": [
    "input_file_pos_1 = \"data/gold/amazon_b0013frnkg_general_positive.txt\"\n",
    "input_file_neg_1 = \"data/gold/amazon_b0013frnkg_general_negative.txt\"\n",
    "input_file_pos_2 = \"data/gold/amazon_b00j8dl78o_general_positive.txt\"\n",
    "input_file_neg_2 = \"data/gold/amazon_b00j8dl78o_general_negative.txt\"\n",
    "\n",
    "output_file = \"data/gold/amazon_b0013frnkg_b00j8dl78o_general.txt\""
   ]
  },
  {
   "cell_type": "code",
   "execution_count": 145,
   "id": "99f9619e",
   "metadata": {},
   "outputs": [],
   "source": [
    "pattern = \"For {}, {}. However, some users have also mentioned that, {}.\""
   ]
  },
  {
   "cell_type": "code",
   "execution_count": 147,
   "id": "07c6dd8d",
   "metadata": {},
   "outputs": [],
   "source": [
    "name_1 = \"Apple iPad 2\"\n",
    "name_2 = \"Samsung Galaxy Tab 4\""
   ]
  },
  {
   "cell_type": "code",
   "execution_count": 159,
   "id": "fe36f1a9",
   "metadata": {},
   "outputs": [],
   "source": [
    "punt = string.punctuation+\" \"+\"\\n\\t\"\n",
    "\n",
    "pos_1_list = []\n",
    "with open(input_file_pos_1, \"r\") as in_f:\n",
    "    for line in in_f:\n",
    "        striped_line = line.strip(punt)\n",
    "        if len(striped_line) > 2:\n",
    "            pos_1_list.append(striped_line)\n",
    "        \n",
    "neg_1_list = []\n",
    "with open(input_file_neg_1, \"r\") as in_f:\n",
    "    for line in in_f:\n",
    "        striped_line = line.strip(punt)\n",
    "        if len(striped_line) > 2:\n",
    "            neg_1_list.append(striped_line)\n",
    "        \n",
    "pos_2_list = []\n",
    "with open(input_file_pos_2, \"r\") as in_f:\n",
    "    for line in in_f:\n",
    "        striped_line = line.strip(punt)\n",
    "        if len(striped_line) > 2:\n",
    "            pos_2_list.append(striped_line)\n",
    "        \n",
    "neg_2_list = []\n",
    "with open(input_file_neg_2, \"r\") as in_f:\n",
    "    for line in in_f:\n",
    "        striped_line = line.strip(punt)\n",
    "        if len(striped_line) > 2:\n",
    "            neg_2_list.append(striped_line)"
   ]
  },
  {
   "cell_type": "code",
   "execution_count": 160,
   "id": "c944a186",
   "metadata": {},
   "outputs": [
    {
     "name": "stdout",
     "output_type": "stream",
     "text": [
      "17\n",
      "19\n",
      "21\n",
      "18\n"
     ]
    }
   ],
   "source": [
    "print(len(pos_1_list))\n",
    "print(len(neg_1_list))\n",
    "print(len(pos_2_list))\n",
    "print(len(neg_2_list))"
   ]
  },
  {
   "cell_type": "code",
   "execution_count": 161,
   "id": "92767653",
   "metadata": {},
   "outputs": [
    {
     "name": "stdout",
     "output_type": "stream",
     "text": [
      "323\n"
     ]
    }
   ],
   "source": [
    "output_list_1 = []\n",
    "for pos_op in pos_1_list:\n",
    "    for neg_op in neg_1_list:\n",
    "        output_list_1.append(pattern.format(name_1, pos_op, neg_op))\n",
    "        \n",
    "print(len(output_list_1))"
   ]
  },
  {
   "cell_type": "code",
   "execution_count": 163,
   "id": "9f4cab00",
   "metadata": {},
   "outputs": [
    {
     "name": "stdout",
     "output_type": "stream",
     "text": [
      "378\n"
     ]
    }
   ],
   "source": [
    "output_list_2 = []\n",
    "for pos_op in pos_2_list:\n",
    "    for neg_op in neg_2_list:\n",
    "        output_list_2.append(pattern.format(name_2, pos_op, neg_op))\n",
    "        \n",
    "print(len(output_list_2))"
   ]
  },
  {
   "cell_type": "code",
   "execution_count": 164,
   "id": "4746308b",
   "metadata": {},
   "outputs": [
    {
     "name": "stdout",
     "output_type": "stream",
     "text": [
      "For Samsung Galaxy Tab 4, best tablet. However, some users have also mentioned that, the warranty was voided.\n",
      "For Samsung Galaxy Tab 4, best tablet. However, some users have also mentioned that, the audio is terribly broken.\n",
      "For Samsung Galaxy Tab 4, best tablet. However, some users have also mentioned that, Samsung has the worst customer service.\n",
      "For Samsung Galaxy Tab 4, best tablet. However, some users have also mentioned that, the first time was defective.\n",
      "For Samsung Galaxy Tab 4, best tablet. However, some users have also mentioned that, There is a 2 second delay before the tablet fully loads the next setting tab.\n",
      "For Samsung Galaxy Tab 4, best tablet. However, some users have also mentioned that, The biggest disappointment of all this Christmas.\n",
      "For Samsung Galaxy Tab 4, best tablet. However, some users have also mentioned that, the touch-screen facility is at best terrible.\n",
      "For Samsung Galaxy Tab 4, best tablet. However, some users have also mentioned that, has finally died.\n",
      "For Samsung Galaxy Tab 4, best tablet. However, some users have also mentioned that, stuck at boot screen . went into odin mode.\n",
      "For Samsung Galaxy Tab 4, best tablet. However, some users have also mentioned that, that lasted less than 4 months.\n",
      "For Samsung Galaxy Tab 4, best tablet. However, some users have also mentioned that, the internal LCD Panel was cracked.\n",
      "For Samsung Galaxy Tab 4, best tablet. However, some users have also mentioned that, screen breaking.\n",
      "For Samsung Galaxy Tab 4, best tablet. However, some users have also mentioned that, It is NOT worth $ 175 with the mediocre display.\n",
      "For Samsung Galaxy Tab 4, best tablet. However, some users have also mentioned that, Kindle reader loads in about 4 seconds.\n",
      "For Samsung Galaxy Tab 4, best tablet. However, some users have also mentioned that, jump glitching the entire time.\n",
      "For Samsung Galaxy Tab 4, best tablet. However, some users have also mentioned that, Samsung is guilty here of this one.\n",
      "For Samsung Galaxy Tab 4, best tablet. However, some users have also mentioned that, A waste of money.\n",
      "For Samsung Galaxy Tab 4, best tablet. However, some users have also mentioned that, the camera SUCKS.\n",
      "For Samsung Galaxy Tab 4, Apps are good. However, some users have also mentioned that, the warranty was voided.\n",
      "For Samsung Galaxy Tab 4, Apps are good. However, some users have also mentioned that, the audio is terribly broken.\n",
      "For Samsung Galaxy Tab 4, Apps are good. However, some users have also mentioned that, Samsung has the worst customer service.\n",
      "For Samsung Galaxy Tab 4, Apps are good. However, some users have also mentioned that, the first time was defective.\n",
      "For Samsung Galaxy Tab 4, Apps are good. However, some users have also mentioned that, There is a 2 second delay before the tablet fully loads the next setting tab.\n",
      "For Samsung Galaxy Tab 4, Apps are good. However, some users have also mentioned that, The biggest disappointment of all this Christmas.\n",
      "For Samsung Galaxy Tab 4, Apps are good. However, some users have also mentioned that, the touch-screen facility is at best terrible.\n",
      "For Samsung Galaxy Tab 4, Apps are good. However, some users have also mentioned that, has finally died.\n",
      "For Samsung Galaxy Tab 4, Apps are good. However, some users have also mentioned that, stuck at boot screen . went into odin mode.\n",
      "For Samsung Galaxy Tab 4, Apps are good. However, some users have also mentioned that, that lasted less than 4 months.\n",
      "For Samsung Galaxy Tab 4, Apps are good. However, some users have also mentioned that, the internal LCD Panel was cracked.\n",
      "For Samsung Galaxy Tab 4, Apps are good. However, some users have also mentioned that, screen breaking.\n",
      "For Samsung Galaxy Tab 4, Apps are good. However, some users have also mentioned that, It is NOT worth $ 175 with the mediocre display.\n",
      "For Samsung Galaxy Tab 4, Apps are good. However, some users have also mentioned that, Kindle reader loads in about 4 seconds.\n",
      "For Samsung Galaxy Tab 4, Apps are good. However, some users have also mentioned that, jump glitching the entire time.\n",
      "For Samsung Galaxy Tab 4, Apps are good. However, some users have also mentioned that, Samsung is guilty here of this one.\n",
      "For Samsung Galaxy Tab 4, Apps are good. However, some users have also mentioned that, A waste of money.\n",
      "For Samsung Galaxy Tab 4, Apps are good. However, some users have also mentioned that, the camera SUCKS.\n",
      "For Samsung Galaxy Tab 4, apps was great. However, some users have also mentioned that, the warranty was voided.\n",
      "For Samsung Galaxy Tab 4, apps was great. However, some users have also mentioned that, the audio is terribly broken.\n",
      "For Samsung Galaxy Tab 4, apps was great. However, some users have also mentioned that, Samsung has the worst customer service.\n",
      "For Samsung Galaxy Tab 4, apps was great. However, some users have also mentioned that, the first time was defective.\n",
      "For Samsung Galaxy Tab 4, apps was great. However, some users have also mentioned that, There is a 2 second delay before the tablet fully loads the next setting tab.\n",
      "For Samsung Galaxy Tab 4, apps was great. However, some users have also mentioned that, The biggest disappointment of all this Christmas.\n",
      "For Samsung Galaxy Tab 4, apps was great. However, some users have also mentioned that, the touch-screen facility is at best terrible.\n",
      "For Samsung Galaxy Tab 4, apps was great. However, some users have also mentioned that, has finally died.\n",
      "For Samsung Galaxy Tab 4, apps was great. However, some users have also mentioned that, stuck at boot screen . went into odin mode.\n",
      "For Samsung Galaxy Tab 4, apps was great. However, some users have also mentioned that, that lasted less than 4 months.\n",
      "For Samsung Galaxy Tab 4, apps was great. However, some users have also mentioned that, the internal LCD Panel was cracked.\n",
      "For Samsung Galaxy Tab 4, apps was great. However, some users have also mentioned that, screen breaking.\n",
      "For Samsung Galaxy Tab 4, apps was great. However, some users have also mentioned that, It is NOT worth $ 175 with the mediocre display.\n",
      "For Samsung Galaxy Tab 4, apps was great. However, some users have also mentioned that, Kindle reader loads in about 4 seconds.\n",
      "For Samsung Galaxy Tab 4, apps was great. However, some users have also mentioned that, jump glitching the entire time.\n",
      "For Samsung Galaxy Tab 4, apps was great. However, some users have also mentioned that, Samsung is guilty here of this one.\n",
      "For Samsung Galaxy Tab 4, apps was great. However, some users have also mentioned that, A waste of money.\n",
      "For Samsung Galaxy Tab 4, apps was great. However, some users have also mentioned that, the camera SUCKS.\n",
      "For Samsung Galaxy Tab 4, colors are very accurate. However, some users have also mentioned that, the warranty was voided.\n",
      "For Samsung Galaxy Tab 4, colors are very accurate. However, some users have also mentioned that, the audio is terribly broken.\n",
      "For Samsung Galaxy Tab 4, colors are very accurate. However, some users have also mentioned that, Samsung has the worst customer service.\n",
      "For Samsung Galaxy Tab 4, colors are very accurate. However, some users have also mentioned that, the first time was defective.\n",
      "For Samsung Galaxy Tab 4, colors are very accurate. However, some users have also mentioned that, There is a 2 second delay before the tablet fully loads the next setting tab.\n",
      "For Samsung Galaxy Tab 4, colors are very accurate. However, some users have also mentioned that, The biggest disappointment of all this Christmas.\n",
      "For Samsung Galaxy Tab 4, colors are very accurate. However, some users have also mentioned that, the touch-screen facility is at best terrible.\n",
      "For Samsung Galaxy Tab 4, colors are very accurate. However, some users have also mentioned that, has finally died.\n",
      "For Samsung Galaxy Tab 4, colors are very accurate. However, some users have also mentioned that, stuck at boot screen . went into odin mode.\n",
      "For Samsung Galaxy Tab 4, colors are very accurate. However, some users have also mentioned that, that lasted less than 4 months.\n",
      "For Samsung Galaxy Tab 4, colors are very accurate. However, some users have also mentioned that, the internal LCD Panel was cracked.\n",
      "For Samsung Galaxy Tab 4, colors are very accurate. However, some users have also mentioned that, screen breaking.\n",
      "For Samsung Galaxy Tab 4, colors are very accurate. However, some users have also mentioned that, It is NOT worth $ 175 with the mediocre display.\n",
      "For Samsung Galaxy Tab 4, colors are very accurate. However, some users have also mentioned that, Kindle reader loads in about 4 seconds.\n",
      "For Samsung Galaxy Tab 4, colors are very accurate. However, some users have also mentioned that, jump glitching the entire time.\n",
      "For Samsung Galaxy Tab 4, colors are very accurate. However, some users have also mentioned that, Samsung is guilty here of this one.\n",
      "For Samsung Galaxy Tab 4, colors are very accurate. However, some users have also mentioned that, A waste of money.\n",
      "For Samsung Galaxy Tab 4, colors are very accurate. However, some users have also mentioned that, the camera SUCKS.\n",
      "For Samsung Galaxy Tab 4, The Kindle app works perfectly on the tablet for reading. However, some users have also mentioned that, the warranty was voided.\n",
      "For Samsung Galaxy Tab 4, The Kindle app works perfectly on the tablet for reading. However, some users have also mentioned that, the audio is terribly broken.\n",
      "For Samsung Galaxy Tab 4, The Kindle app works perfectly on the tablet for reading. However, some users have also mentioned that, Samsung has the worst customer service.\n",
      "For Samsung Galaxy Tab 4, The Kindle app works perfectly on the tablet for reading. However, some users have also mentioned that, the first time was defective.\n",
      "For Samsung Galaxy Tab 4, The Kindle app works perfectly on the tablet for reading. However, some users have also mentioned that, There is a 2 second delay before the tablet fully loads the next setting tab.\n",
      "For Samsung Galaxy Tab 4, The Kindle app works perfectly on the tablet for reading. However, some users have also mentioned that, The biggest disappointment of all this Christmas.\n",
      "For Samsung Galaxy Tab 4, The Kindle app works perfectly on the tablet for reading. However, some users have also mentioned that, the touch-screen facility is at best terrible.\n",
      "For Samsung Galaxy Tab 4, The Kindle app works perfectly on the tablet for reading. However, some users have also mentioned that, has finally died.\n",
      "For Samsung Galaxy Tab 4, The Kindle app works perfectly on the tablet for reading. However, some users have also mentioned that, stuck at boot screen . went into odin mode.\n",
      "For Samsung Galaxy Tab 4, The Kindle app works perfectly on the tablet for reading. However, some users have also mentioned that, that lasted less than 4 months.\n",
      "For Samsung Galaxy Tab 4, The Kindle app works perfectly on the tablet for reading. However, some users have also mentioned that, the internal LCD Panel was cracked.\n",
      "For Samsung Galaxy Tab 4, The Kindle app works perfectly on the tablet for reading. However, some users have also mentioned that, screen breaking.\n",
      "For Samsung Galaxy Tab 4, The Kindle app works perfectly on the tablet for reading. However, some users have also mentioned that, It is NOT worth $ 175 with the mediocre display.\n",
      "For Samsung Galaxy Tab 4, The Kindle app works perfectly on the tablet for reading. However, some users have also mentioned that, Kindle reader loads in about 4 seconds.\n",
      "For Samsung Galaxy Tab 4, The Kindle app works perfectly on the tablet for reading. However, some users have also mentioned that, jump glitching the entire time.\n",
      "For Samsung Galaxy Tab 4, The Kindle app works perfectly on the tablet for reading. However, some users have also mentioned that, Samsung is guilty here of this one.\n",
      "For Samsung Galaxy Tab 4, The Kindle app works perfectly on the tablet for reading. However, some users have also mentioned that, A waste of money.\n",
      "For Samsung Galaxy Tab 4, The Kindle app works perfectly on the tablet for reading. However, some users have also mentioned that, the camera SUCKS.\n",
      "For Samsung Galaxy Tab 4, Samsung products are really awesome great design and excellent features as well. However, some users have also mentioned that, the warranty was voided.\n",
      "For Samsung Galaxy Tab 4, Samsung products are really awesome great design and excellent features as well. However, some users have also mentioned that, the audio is terribly broken.\n",
      "For Samsung Galaxy Tab 4, Samsung products are really awesome great design and excellent features as well. However, some users have also mentioned that, Samsung has the worst customer service.\n",
      "For Samsung Galaxy Tab 4, Samsung products are really awesome great design and excellent features as well. However, some users have also mentioned that, the first time was defective.\n",
      "For Samsung Galaxy Tab 4, Samsung products are really awesome great design and excellent features as well. However, some users have also mentioned that, There is a 2 second delay before the tablet fully loads the next setting tab.\n",
      "For Samsung Galaxy Tab 4, Samsung products are really awesome great design and excellent features as well. However, some users have also mentioned that, The biggest disappointment of all this Christmas.\n",
      "For Samsung Galaxy Tab 4, Samsung products are really awesome great design and excellent features as well. However, some users have also mentioned that, the touch-screen facility is at best terrible.\n",
      "For Samsung Galaxy Tab 4, Samsung products are really awesome great design and excellent features as well. However, some users have also mentioned that, has finally died.\n",
      "For Samsung Galaxy Tab 4, Samsung products are really awesome great design and excellent features as well. However, some users have also mentioned that, stuck at boot screen . went into odin mode.\n",
      "For Samsung Galaxy Tab 4, Samsung products are really awesome great design and excellent features as well. However, some users have also mentioned that, that lasted less than 4 months.\n",
      "For Samsung Galaxy Tab 4, Samsung products are really awesome great design and excellent features as well. However, some users have also mentioned that, the internal LCD Panel was cracked.\n",
      "For Samsung Galaxy Tab 4, Samsung products are really awesome great design and excellent features as well. However, some users have also mentioned that, screen breaking.\n",
      "For Samsung Galaxy Tab 4, Samsung products are really awesome great design and excellent features as well. However, some users have also mentioned that, It is NOT worth $ 175 with the mediocre display.\n",
      "For Samsung Galaxy Tab 4, Samsung products are really awesome great design and excellent features as well. However, some users have also mentioned that, Kindle reader loads in about 4 seconds.\n",
      "For Samsung Galaxy Tab 4, Samsung products are really awesome great design and excellent features as well. However, some users have also mentioned that, jump glitching the entire time.\n",
      "For Samsung Galaxy Tab 4, Samsung products are really awesome great design and excellent features as well. However, some users have also mentioned that, Samsung is guilty here of this one.\n",
      "For Samsung Galaxy Tab 4, Samsung products are really awesome great design and excellent features as well. However, some users have also mentioned that, A waste of money.\n",
      "For Samsung Galaxy Tab 4, Samsung products are really awesome great design and excellent features as well. However, some users have also mentioned that, the camera SUCKS.\n",
      "For Samsung Galaxy Tab 4, The graphics are beautiful. However, some users have also mentioned that, the warranty was voided.\n",
      "For Samsung Galaxy Tab 4, The graphics are beautiful. However, some users have also mentioned that, the audio is terribly broken.\n",
      "For Samsung Galaxy Tab 4, The graphics are beautiful. However, some users have also mentioned that, Samsung has the worst customer service.\n",
      "For Samsung Galaxy Tab 4, The graphics are beautiful. However, some users have also mentioned that, the first time was defective.\n",
      "For Samsung Galaxy Tab 4, The graphics are beautiful. However, some users have also mentioned that, There is a 2 second delay before the tablet fully loads the next setting tab.\n",
      "For Samsung Galaxy Tab 4, The graphics are beautiful. However, some users have also mentioned that, The biggest disappointment of all this Christmas.\n",
      "For Samsung Galaxy Tab 4, The graphics are beautiful. However, some users have also mentioned that, the touch-screen facility is at best terrible.\n",
      "For Samsung Galaxy Tab 4, The graphics are beautiful. However, some users have also mentioned that, has finally died.\n",
      "For Samsung Galaxy Tab 4, The graphics are beautiful. However, some users have also mentioned that, stuck at boot screen . went into odin mode.\n",
      "For Samsung Galaxy Tab 4, The graphics are beautiful. However, some users have also mentioned that, that lasted less than 4 months.\n",
      "For Samsung Galaxy Tab 4, The graphics are beautiful. However, some users have also mentioned that, the internal LCD Panel was cracked.\n",
      "For Samsung Galaxy Tab 4, The graphics are beautiful. However, some users have also mentioned that, screen breaking.\n",
      "For Samsung Galaxy Tab 4, The graphics are beautiful. However, some users have also mentioned that, It is NOT worth $ 175 with the mediocre display.\n",
      "For Samsung Galaxy Tab 4, The graphics are beautiful. However, some users have also mentioned that, Kindle reader loads in about 4 seconds.\n",
      "For Samsung Galaxy Tab 4, The graphics are beautiful. However, some users have also mentioned that, jump glitching the entire time.\n",
      "For Samsung Galaxy Tab 4, The graphics are beautiful. However, some users have also mentioned that, Samsung is guilty here of this one.\n",
      "For Samsung Galaxy Tab 4, The graphics are beautiful. However, some users have also mentioned that, A waste of money.\n",
      "For Samsung Galaxy Tab 4, The graphics are beautiful. However, some users have also mentioned that, the camera SUCKS.\n",
      "For Samsung Galaxy Tab 4, This thing has worked really well over the last 6 months. However, some users have also mentioned that, the warranty was voided.\n",
      "For Samsung Galaxy Tab 4, This thing has worked really well over the last 6 months. However, some users have also mentioned that, the audio is terribly broken.\n",
      "For Samsung Galaxy Tab 4, This thing has worked really well over the last 6 months. However, some users have also mentioned that, Samsung has the worst customer service.\n",
      "For Samsung Galaxy Tab 4, This thing has worked really well over the last 6 months. However, some users have also mentioned that, the first time was defective.\n",
      "For Samsung Galaxy Tab 4, This thing has worked really well over the last 6 months. However, some users have also mentioned that, There is a 2 second delay before the tablet fully loads the next setting tab.\n",
      "For Samsung Galaxy Tab 4, This thing has worked really well over the last 6 months. However, some users have also mentioned that, The biggest disappointment of all this Christmas.\n",
      "For Samsung Galaxy Tab 4, This thing has worked really well over the last 6 months. However, some users have also mentioned that, the touch-screen facility is at best terrible.\n",
      "For Samsung Galaxy Tab 4, This thing has worked really well over the last 6 months. However, some users have also mentioned that, has finally died.\n",
      "For Samsung Galaxy Tab 4, This thing has worked really well over the last 6 months. However, some users have also mentioned that, stuck at boot screen . went into odin mode.\n",
      "For Samsung Galaxy Tab 4, This thing has worked really well over the last 6 months. However, some users have also mentioned that, that lasted less than 4 months.\n",
      "For Samsung Galaxy Tab 4, This thing has worked really well over the last 6 months. However, some users have also mentioned that, the internal LCD Panel was cracked.\n",
      "For Samsung Galaxy Tab 4, This thing has worked really well over the last 6 months. However, some users have also mentioned that, screen breaking.\n",
      "For Samsung Galaxy Tab 4, This thing has worked really well over the last 6 months. However, some users have also mentioned that, It is NOT worth $ 175 with the mediocre display.\n",
      "For Samsung Galaxy Tab 4, This thing has worked really well over the last 6 months. However, some users have also mentioned that, Kindle reader loads in about 4 seconds.\n",
      "For Samsung Galaxy Tab 4, This thing has worked really well over the last 6 months. However, some users have also mentioned that, jump glitching the entire time.\n",
      "For Samsung Galaxy Tab 4, This thing has worked really well over the last 6 months. However, some users have also mentioned that, Samsung is guilty here of this one.\n",
      "For Samsung Galaxy Tab 4, This thing has worked really well over the last 6 months. However, some users have also mentioned that, A waste of money.\n",
      "For Samsung Galaxy Tab 4, This thing has worked really well over the last 6 months. However, some users have also mentioned that, the camera SUCKS.\n",
      "For Samsung Galaxy Tab 4, screen , resolution and finish are very nice . nice form factor. However, some users have also mentioned that, the warranty was voided.\n",
      "For Samsung Galaxy Tab 4, screen , resolution and finish are very nice . nice form factor. However, some users have also mentioned that, the audio is terribly broken.\n",
      "For Samsung Galaxy Tab 4, screen , resolution and finish are very nice . nice form factor. However, some users have also mentioned that, Samsung has the worst customer service.\n",
      "For Samsung Galaxy Tab 4, screen , resolution and finish are very nice . nice form factor. However, some users have also mentioned that, the first time was defective.\n",
      "For Samsung Galaxy Tab 4, screen , resolution and finish are very nice . nice form factor. However, some users have also mentioned that, There is a 2 second delay before the tablet fully loads the next setting tab.\n",
      "For Samsung Galaxy Tab 4, screen , resolution and finish are very nice . nice form factor. However, some users have also mentioned that, The biggest disappointment of all this Christmas.\n",
      "For Samsung Galaxy Tab 4, screen , resolution and finish are very nice . nice form factor. However, some users have also mentioned that, the touch-screen facility is at best terrible.\n",
      "For Samsung Galaxy Tab 4, screen , resolution and finish are very nice . nice form factor. However, some users have also mentioned that, has finally died.\n",
      "For Samsung Galaxy Tab 4, screen , resolution and finish are very nice . nice form factor. However, some users have also mentioned that, stuck at boot screen . went into odin mode.\n",
      "For Samsung Galaxy Tab 4, screen , resolution and finish are very nice . nice form factor. However, some users have also mentioned that, that lasted less than 4 months.\n",
      "For Samsung Galaxy Tab 4, screen , resolution and finish are very nice . nice form factor. However, some users have also mentioned that, the internal LCD Panel was cracked.\n",
      "For Samsung Galaxy Tab 4, screen , resolution and finish are very nice . nice form factor. However, some users have also mentioned that, screen breaking.\n",
      "For Samsung Galaxy Tab 4, screen , resolution and finish are very nice . nice form factor. However, some users have also mentioned that, It is NOT worth $ 175 with the mediocre display.\n",
      "For Samsung Galaxy Tab 4, screen , resolution and finish are very nice . nice form factor. However, some users have also mentioned that, Kindle reader loads in about 4 seconds.\n",
      "For Samsung Galaxy Tab 4, screen , resolution and finish are very nice . nice form factor. However, some users have also mentioned that, jump glitching the entire time.\n",
      "For Samsung Galaxy Tab 4, screen , resolution and finish are very nice . nice form factor. However, some users have also mentioned that, Samsung is guilty here of this one.\n",
      "For Samsung Galaxy Tab 4, screen , resolution and finish are very nice . nice form factor. However, some users have also mentioned that, A waste of money.\n",
      "For Samsung Galaxy Tab 4, screen , resolution and finish are very nice . nice form factor. However, some users have also mentioned that, the camera SUCKS.\n",
      "For Samsung Galaxy Tab 4, Definitely a buy. However, some users have also mentioned that, the warranty was voided.\n",
      "For Samsung Galaxy Tab 4, Definitely a buy. However, some users have also mentioned that, the audio is terribly broken.\n",
      "For Samsung Galaxy Tab 4, Definitely a buy. However, some users have also mentioned that, Samsung has the worst customer service.\n",
      "For Samsung Galaxy Tab 4, Definitely a buy. However, some users have also mentioned that, the first time was defective.\n",
      "For Samsung Galaxy Tab 4, Definitely a buy. However, some users have also mentioned that, There is a 2 second delay before the tablet fully loads the next setting tab.\n",
      "For Samsung Galaxy Tab 4, Definitely a buy. However, some users have also mentioned that, The biggest disappointment of all this Christmas.\n",
      "For Samsung Galaxy Tab 4, Definitely a buy. However, some users have also mentioned that, the touch-screen facility is at best terrible.\n",
      "For Samsung Galaxy Tab 4, Definitely a buy. However, some users have also mentioned that, has finally died.\n",
      "For Samsung Galaxy Tab 4, Definitely a buy. However, some users have also mentioned that, stuck at boot screen . went into odin mode.\n",
      "For Samsung Galaxy Tab 4, Definitely a buy. However, some users have also mentioned that, that lasted less than 4 months.\n",
      "For Samsung Galaxy Tab 4, Definitely a buy. However, some users have also mentioned that, the internal LCD Panel was cracked.\n",
      "For Samsung Galaxy Tab 4, Definitely a buy. However, some users have also mentioned that, screen breaking.\n",
      "For Samsung Galaxy Tab 4, Definitely a buy. However, some users have also mentioned that, It is NOT worth $ 175 with the mediocre display.\n",
      "For Samsung Galaxy Tab 4, Definitely a buy. However, some users have also mentioned that, Kindle reader loads in about 4 seconds.\n",
      "For Samsung Galaxy Tab 4, Definitely a buy. However, some users have also mentioned that, jump glitching the entire time.\n",
      "For Samsung Galaxy Tab 4, Definitely a buy. However, some users have also mentioned that, Samsung is guilty here of this one.\n",
      "For Samsung Galaxy Tab 4, Definitely a buy. However, some users have also mentioned that, A waste of money.\n",
      "For Samsung Galaxy Tab 4, Definitely a buy. However, some users have also mentioned that, the camera SUCKS.\n",
      "For Samsung Galaxy Tab 4, The multi user mode is gold. However, some users have also mentioned that, the warranty was voided.\n",
      "For Samsung Galaxy Tab 4, The multi user mode is gold. However, some users have also mentioned that, the audio is terribly broken.\n",
      "For Samsung Galaxy Tab 4, The multi user mode is gold. However, some users have also mentioned that, Samsung has the worst customer service.\n",
      "For Samsung Galaxy Tab 4, The multi user mode is gold. However, some users have also mentioned that, the first time was defective.\n",
      "For Samsung Galaxy Tab 4, The multi user mode is gold. However, some users have also mentioned that, There is a 2 second delay before the tablet fully loads the next setting tab.\n",
      "For Samsung Galaxy Tab 4, The multi user mode is gold. However, some users have also mentioned that, The biggest disappointment of all this Christmas.\n",
      "For Samsung Galaxy Tab 4, The multi user mode is gold. However, some users have also mentioned that, the touch-screen facility is at best terrible.\n",
      "For Samsung Galaxy Tab 4, The multi user mode is gold. However, some users have also mentioned that, has finally died.\n",
      "For Samsung Galaxy Tab 4, The multi user mode is gold. However, some users have also mentioned that, stuck at boot screen . went into odin mode.\n",
      "For Samsung Galaxy Tab 4, The multi user mode is gold. However, some users have also mentioned that, that lasted less than 4 months.\n",
      "For Samsung Galaxy Tab 4, The multi user mode is gold. However, some users have also mentioned that, the internal LCD Panel was cracked.\n",
      "For Samsung Galaxy Tab 4, The multi user mode is gold. However, some users have also mentioned that, screen breaking.\n",
      "For Samsung Galaxy Tab 4, The multi user mode is gold. However, some users have also mentioned that, It is NOT worth $ 175 with the mediocre display.\n",
      "For Samsung Galaxy Tab 4, The multi user mode is gold. However, some users have also mentioned that, Kindle reader loads in about 4 seconds.\n",
      "For Samsung Galaxy Tab 4, The multi user mode is gold. However, some users have also mentioned that, jump glitching the entire time.\n",
      "For Samsung Galaxy Tab 4, The multi user mode is gold. However, some users have also mentioned that, Samsung is guilty here of this one.\n",
      "For Samsung Galaxy Tab 4, The multi user mode is gold. However, some users have also mentioned that, A waste of money.\n",
      "For Samsung Galaxy Tab 4, The multi user mode is gold. However, some users have also mentioned that, the camera SUCKS.\n",
      "For Samsung Galaxy Tab 4, This tab does the job of a big samsung galaxy fone. However, some users have also mentioned that, the warranty was voided.\n",
      "For Samsung Galaxy Tab 4, This tab does the job of a big samsung galaxy fone. However, some users have also mentioned that, the audio is terribly broken.\n",
      "For Samsung Galaxy Tab 4, This tab does the job of a big samsung galaxy fone. However, some users have also mentioned that, Samsung has the worst customer service.\n",
      "For Samsung Galaxy Tab 4, This tab does the job of a big samsung galaxy fone. However, some users have also mentioned that, the first time was defective.\n",
      "For Samsung Galaxy Tab 4, This tab does the job of a big samsung galaxy fone. However, some users have also mentioned that, There is a 2 second delay before the tablet fully loads the next setting tab.\n",
      "For Samsung Galaxy Tab 4, This tab does the job of a big samsung galaxy fone. However, some users have also mentioned that, The biggest disappointment of all this Christmas.\n",
      "For Samsung Galaxy Tab 4, This tab does the job of a big samsung galaxy fone. However, some users have also mentioned that, the touch-screen facility is at best terrible.\n",
      "For Samsung Galaxy Tab 4, This tab does the job of a big samsung galaxy fone. However, some users have also mentioned that, has finally died.\n",
      "For Samsung Galaxy Tab 4, This tab does the job of a big samsung galaxy fone. However, some users have also mentioned that, stuck at boot screen . went into odin mode.\n",
      "For Samsung Galaxy Tab 4, This tab does the job of a big samsung galaxy fone. However, some users have also mentioned that, that lasted less than 4 months.\n",
      "For Samsung Galaxy Tab 4, This tab does the job of a big samsung galaxy fone. However, some users have also mentioned that, the internal LCD Panel was cracked.\n",
      "For Samsung Galaxy Tab 4, This tab does the job of a big samsung galaxy fone. However, some users have also mentioned that, screen breaking.\n",
      "For Samsung Galaxy Tab 4, This tab does the job of a big samsung galaxy fone. However, some users have also mentioned that, It is NOT worth $ 175 with the mediocre display.\n",
      "For Samsung Galaxy Tab 4, This tab does the job of a big samsung galaxy fone. However, some users have also mentioned that, Kindle reader loads in about 4 seconds.\n",
      "For Samsung Galaxy Tab 4, This tab does the job of a big samsung galaxy fone. However, some users have also mentioned that, jump glitching the entire time.\n",
      "For Samsung Galaxy Tab 4, This tab does the job of a big samsung galaxy fone. However, some users have also mentioned that, Samsung is guilty here of this one.\n",
      "For Samsung Galaxy Tab 4, This tab does the job of a big samsung galaxy fone. However, some users have also mentioned that, A waste of money.\n",
      "For Samsung Galaxy Tab 4, This tab does the job of a big samsung galaxy fone. However, some users have also mentioned that, the camera SUCKS.\n",
      "For Samsung Galaxy Tab 4, Perfect size for surfing the web. However, some users have also mentioned that, the warranty was voided.\n",
      "For Samsung Galaxy Tab 4, Perfect size for surfing the web. However, some users have also mentioned that, the audio is terribly broken.\n",
      "For Samsung Galaxy Tab 4, Perfect size for surfing the web. However, some users have also mentioned that, Samsung has the worst customer service.\n",
      "For Samsung Galaxy Tab 4, Perfect size for surfing the web. However, some users have also mentioned that, the first time was defective.\n",
      "For Samsung Galaxy Tab 4, Perfect size for surfing the web. However, some users have also mentioned that, There is a 2 second delay before the tablet fully loads the next setting tab.\n",
      "For Samsung Galaxy Tab 4, Perfect size for surfing the web. However, some users have also mentioned that, The biggest disappointment of all this Christmas.\n",
      "For Samsung Galaxy Tab 4, Perfect size for surfing the web. However, some users have also mentioned that, the touch-screen facility is at best terrible.\n",
      "For Samsung Galaxy Tab 4, Perfect size for surfing the web. However, some users have also mentioned that, has finally died.\n",
      "For Samsung Galaxy Tab 4, Perfect size for surfing the web. However, some users have also mentioned that, stuck at boot screen . went into odin mode.\n",
      "For Samsung Galaxy Tab 4, Perfect size for surfing the web. However, some users have also mentioned that, that lasted less than 4 months.\n",
      "For Samsung Galaxy Tab 4, Perfect size for surfing the web. However, some users have also mentioned that, the internal LCD Panel was cracked.\n",
      "For Samsung Galaxy Tab 4, Perfect size for surfing the web. However, some users have also mentioned that, screen breaking.\n",
      "For Samsung Galaxy Tab 4, Perfect size for surfing the web. However, some users have also mentioned that, It is NOT worth $ 175 with the mediocre display.\n",
      "For Samsung Galaxy Tab 4, Perfect size for surfing the web. However, some users have also mentioned that, Kindle reader loads in about 4 seconds.\n",
      "For Samsung Galaxy Tab 4, Perfect size for surfing the web. However, some users have also mentioned that, jump glitching the entire time.\n",
      "For Samsung Galaxy Tab 4, Perfect size for surfing the web. However, some users have also mentioned that, Samsung is guilty here of this one.\n",
      "For Samsung Galaxy Tab 4, Perfect size for surfing the web. However, some users have also mentioned that, A waste of money.\n",
      "For Samsung Galaxy Tab 4, Perfect size for surfing the web. However, some users have also mentioned that, the camera SUCKS.\n",
      "For Samsung Galaxy Tab 4, Ok for 8 GB performance. However, some users have also mentioned that, the warranty was voided.\n",
      "For Samsung Galaxy Tab 4, Ok for 8 GB performance. However, some users have also mentioned that, the audio is terribly broken.\n",
      "For Samsung Galaxy Tab 4, Ok for 8 GB performance. However, some users have also mentioned that, Samsung has the worst customer service.\n",
      "For Samsung Galaxy Tab 4, Ok for 8 GB performance. However, some users have also mentioned that, the first time was defective.\n",
      "For Samsung Galaxy Tab 4, Ok for 8 GB performance. However, some users have also mentioned that, There is a 2 second delay before the tablet fully loads the next setting tab.\n",
      "For Samsung Galaxy Tab 4, Ok for 8 GB performance. However, some users have also mentioned that, The biggest disappointment of all this Christmas.\n",
      "For Samsung Galaxy Tab 4, Ok for 8 GB performance. However, some users have also mentioned that, the touch-screen facility is at best terrible.\n",
      "For Samsung Galaxy Tab 4, Ok for 8 GB performance. However, some users have also mentioned that, has finally died.\n",
      "For Samsung Galaxy Tab 4, Ok for 8 GB performance. However, some users have also mentioned that, stuck at boot screen . went into odin mode.\n",
      "For Samsung Galaxy Tab 4, Ok for 8 GB performance. However, some users have also mentioned that, that lasted less than 4 months.\n",
      "For Samsung Galaxy Tab 4, Ok for 8 GB performance. However, some users have also mentioned that, the internal LCD Panel was cracked.\n",
      "For Samsung Galaxy Tab 4, Ok for 8 GB performance. However, some users have also mentioned that, screen breaking.\n",
      "For Samsung Galaxy Tab 4, Ok for 8 GB performance. However, some users have also mentioned that, It is NOT worth $ 175 with the mediocre display.\n",
      "For Samsung Galaxy Tab 4, Ok for 8 GB performance. However, some users have also mentioned that, Kindle reader loads in about 4 seconds.\n",
      "For Samsung Galaxy Tab 4, Ok for 8 GB performance. However, some users have also mentioned that, jump glitching the entire time.\n",
      "For Samsung Galaxy Tab 4, Ok for 8 GB performance. However, some users have also mentioned that, Samsung is guilty here of this one.\n",
      "For Samsung Galaxy Tab 4, Ok for 8 GB performance. However, some users have also mentioned that, A waste of money.\n",
      "For Samsung Galaxy Tab 4, Ok for 8 GB performance. However, some users have also mentioned that, the camera SUCKS.\n",
      "For Samsung Galaxy Tab 4, great tablet a year later. However, some users have also mentioned that, the warranty was voided.\n",
      "For Samsung Galaxy Tab 4, great tablet a year later. However, some users have also mentioned that, the audio is terribly broken.\n",
      "For Samsung Galaxy Tab 4, great tablet a year later. However, some users have also mentioned that, Samsung has the worst customer service.\n",
      "For Samsung Galaxy Tab 4, great tablet a year later. However, some users have also mentioned that, the first time was defective.\n",
      "For Samsung Galaxy Tab 4, great tablet a year later. However, some users have also mentioned that, There is a 2 second delay before the tablet fully loads the next setting tab.\n",
      "For Samsung Galaxy Tab 4, great tablet a year later. However, some users have also mentioned that, The biggest disappointment of all this Christmas.\n",
      "For Samsung Galaxy Tab 4, great tablet a year later. However, some users have also mentioned that, the touch-screen facility is at best terrible.\n",
      "For Samsung Galaxy Tab 4, great tablet a year later. However, some users have also mentioned that, has finally died.\n",
      "For Samsung Galaxy Tab 4, great tablet a year later. However, some users have also mentioned that, stuck at boot screen . went into odin mode.\n",
      "For Samsung Galaxy Tab 4, great tablet a year later. However, some users have also mentioned that, that lasted less than 4 months.\n",
      "For Samsung Galaxy Tab 4, great tablet a year later. However, some users have also mentioned that, the internal LCD Panel was cracked.\n",
      "For Samsung Galaxy Tab 4, great tablet a year later. However, some users have also mentioned that, screen breaking.\n",
      "For Samsung Galaxy Tab 4, great tablet a year later. However, some users have also mentioned that, It is NOT worth $ 175 with the mediocre display.\n",
      "For Samsung Galaxy Tab 4, great tablet a year later. However, some users have also mentioned that, Kindle reader loads in about 4 seconds.\n",
      "For Samsung Galaxy Tab 4, great tablet a year later. However, some users have also mentioned that, jump glitching the entire time.\n",
      "For Samsung Galaxy Tab 4, great tablet a year later. However, some users have also mentioned that, Samsung is guilty here of this one.\n",
      "For Samsung Galaxy Tab 4, great tablet a year later. However, some users have also mentioned that, A waste of money.\n",
      "For Samsung Galaxy Tab 4, great tablet a year later. However, some users have also mentioned that, the camera SUCKS.\n",
      "For Samsung Galaxy Tab 4, way better than kindle fire . same size , same price point , does anything. However, some users have also mentioned that, the warranty was voided.\n",
      "For Samsung Galaxy Tab 4, way better than kindle fire . same size , same price point , does anything. However, some users have also mentioned that, the audio is terribly broken.\n",
      "For Samsung Galaxy Tab 4, way better than kindle fire . same size , same price point , does anything. However, some users have also mentioned that, Samsung has the worst customer service.\n",
      "For Samsung Galaxy Tab 4, way better than kindle fire . same size , same price point , does anything. However, some users have also mentioned that, the first time was defective.\n",
      "For Samsung Galaxy Tab 4, way better than kindle fire . same size , same price point , does anything. However, some users have also mentioned that, There is a 2 second delay before the tablet fully loads the next setting tab.\n",
      "For Samsung Galaxy Tab 4, way better than kindle fire . same size , same price point , does anything. However, some users have also mentioned that, The biggest disappointment of all this Christmas.\n",
      "For Samsung Galaxy Tab 4, way better than kindle fire . same size , same price point , does anything. However, some users have also mentioned that, the touch-screen facility is at best terrible.\n",
      "For Samsung Galaxy Tab 4, way better than kindle fire . same size , same price point , does anything. However, some users have also mentioned that, has finally died.\n",
      "For Samsung Galaxy Tab 4, way better than kindle fire . same size , same price point , does anything. However, some users have also mentioned that, stuck at boot screen . went into odin mode.\n",
      "For Samsung Galaxy Tab 4, way better than kindle fire . same size , same price point , does anything. However, some users have also mentioned that, that lasted less than 4 months.\n",
      "For Samsung Galaxy Tab 4, way better than kindle fire . same size , same price point , does anything. However, some users have also mentioned that, the internal LCD Panel was cracked.\n",
      "For Samsung Galaxy Tab 4, way better than kindle fire . same size , same price point , does anything. However, some users have also mentioned that, screen breaking.\n",
      "For Samsung Galaxy Tab 4, way better than kindle fire . same size , same price point , does anything. However, some users have also mentioned that, It is NOT worth $ 175 with the mediocre display.\n",
      "For Samsung Galaxy Tab 4, way better than kindle fire . same size , same price point , does anything. However, some users have also mentioned that, Kindle reader loads in about 4 seconds.\n",
      "For Samsung Galaxy Tab 4, way better than kindle fire . same size , same price point , does anything. However, some users have also mentioned that, jump glitching the entire time.\n",
      "For Samsung Galaxy Tab 4, way better than kindle fire . same size , same price point , does anything. However, some users have also mentioned that, Samsung is guilty here of this one.\n",
      "For Samsung Galaxy Tab 4, way better than kindle fire . same size , same price point , does anything. However, some users have also mentioned that, A waste of money.\n",
      "For Samsung Galaxy Tab 4, way better than kindle fire . same size , same price point , does anything. However, some users have also mentioned that, the camera SUCKS.\n",
      "For Samsung Galaxy Tab 4, worked out well. However, some users have also mentioned that, the warranty was voided.\n",
      "For Samsung Galaxy Tab 4, worked out well. However, some users have also mentioned that, the audio is terribly broken.\n",
      "For Samsung Galaxy Tab 4, worked out well. However, some users have also mentioned that, Samsung has the worst customer service.\n",
      "For Samsung Galaxy Tab 4, worked out well. However, some users have also mentioned that, the first time was defective.\n",
      "For Samsung Galaxy Tab 4, worked out well. However, some users have also mentioned that, There is a 2 second delay before the tablet fully loads the next setting tab.\n",
      "For Samsung Galaxy Tab 4, worked out well. However, some users have also mentioned that, The biggest disappointment of all this Christmas.\n",
      "For Samsung Galaxy Tab 4, worked out well. However, some users have also mentioned that, the touch-screen facility is at best terrible.\n",
      "For Samsung Galaxy Tab 4, worked out well. However, some users have also mentioned that, has finally died.\n",
      "For Samsung Galaxy Tab 4, worked out well. However, some users have also mentioned that, stuck at boot screen . went into odin mode.\n",
      "For Samsung Galaxy Tab 4, worked out well. However, some users have also mentioned that, that lasted less than 4 months.\n",
      "For Samsung Galaxy Tab 4, worked out well. However, some users have also mentioned that, the internal LCD Panel was cracked.\n",
      "For Samsung Galaxy Tab 4, worked out well. However, some users have also mentioned that, screen breaking.\n",
      "For Samsung Galaxy Tab 4, worked out well. However, some users have also mentioned that, It is NOT worth $ 175 with the mediocre display.\n",
      "For Samsung Galaxy Tab 4, worked out well. However, some users have also mentioned that, Kindle reader loads in about 4 seconds.\n",
      "For Samsung Galaxy Tab 4, worked out well. However, some users have also mentioned that, jump glitching the entire time.\n",
      "For Samsung Galaxy Tab 4, worked out well. However, some users have also mentioned that, Samsung is guilty here of this one.\n",
      "For Samsung Galaxy Tab 4, worked out well. However, some users have also mentioned that, A waste of money.\n",
      "For Samsung Galaxy Tab 4, worked out well. However, some users have also mentioned that, the camera SUCKS.\n",
      "For Samsung Galaxy Tab 4, This Tab 4 is a great replacement for a Nook or a Kindle. However, some users have also mentioned that, the warranty was voided.\n",
      "For Samsung Galaxy Tab 4, This Tab 4 is a great replacement for a Nook or a Kindle. However, some users have also mentioned that, the audio is terribly broken.\n",
      "For Samsung Galaxy Tab 4, This Tab 4 is a great replacement for a Nook or a Kindle. However, some users have also mentioned that, Samsung has the worst customer service.\n",
      "For Samsung Galaxy Tab 4, This Tab 4 is a great replacement for a Nook or a Kindle. However, some users have also mentioned that, the first time was defective.\n",
      "For Samsung Galaxy Tab 4, This Tab 4 is a great replacement for a Nook or a Kindle. However, some users have also mentioned that, There is a 2 second delay before the tablet fully loads the next setting tab.\n",
      "For Samsung Galaxy Tab 4, This Tab 4 is a great replacement for a Nook or a Kindle. However, some users have also mentioned that, The biggest disappointment of all this Christmas.\n",
      "For Samsung Galaxy Tab 4, This Tab 4 is a great replacement for a Nook or a Kindle. However, some users have also mentioned that, the touch-screen facility is at best terrible.\n",
      "For Samsung Galaxy Tab 4, This Tab 4 is a great replacement for a Nook or a Kindle. However, some users have also mentioned that, has finally died.\n",
      "For Samsung Galaxy Tab 4, This Tab 4 is a great replacement for a Nook or a Kindle. However, some users have also mentioned that, stuck at boot screen . went into odin mode.\n",
      "For Samsung Galaxy Tab 4, This Tab 4 is a great replacement for a Nook or a Kindle. However, some users have also mentioned that, that lasted less than 4 months.\n",
      "For Samsung Galaxy Tab 4, This Tab 4 is a great replacement for a Nook or a Kindle. However, some users have also mentioned that, the internal LCD Panel was cracked.\n",
      "For Samsung Galaxy Tab 4, This Tab 4 is a great replacement for a Nook or a Kindle. However, some users have also mentioned that, screen breaking.\n",
      "For Samsung Galaxy Tab 4, This Tab 4 is a great replacement for a Nook or a Kindle. However, some users have also mentioned that, It is NOT worth $ 175 with the mediocre display.\n",
      "For Samsung Galaxy Tab 4, This Tab 4 is a great replacement for a Nook or a Kindle. However, some users have also mentioned that, Kindle reader loads in about 4 seconds.\n",
      "For Samsung Galaxy Tab 4, This Tab 4 is a great replacement for a Nook or a Kindle. However, some users have also mentioned that, jump glitching the entire time.\n",
      "For Samsung Galaxy Tab 4, This Tab 4 is a great replacement for a Nook or a Kindle. However, some users have also mentioned that, Samsung is guilty here of this one.\n",
      "For Samsung Galaxy Tab 4, This Tab 4 is a great replacement for a Nook or a Kindle. However, some users have also mentioned that, A waste of money.\n",
      "For Samsung Galaxy Tab 4, This Tab 4 is a great replacement for a Nook or a Kindle. However, some users have also mentioned that, the camera SUCKS.\n",
      "For Samsung Galaxy Tab 4, No complaints from the person. However, some users have also mentioned that, the warranty was voided.\n",
      "For Samsung Galaxy Tab 4, No complaints from the person. However, some users have also mentioned that, the audio is terribly broken.\n",
      "For Samsung Galaxy Tab 4, No complaints from the person. However, some users have also mentioned that, Samsung has the worst customer service.\n",
      "For Samsung Galaxy Tab 4, No complaints from the person. However, some users have also mentioned that, the first time was defective.\n",
      "For Samsung Galaxy Tab 4, No complaints from the person. However, some users have also mentioned that, There is a 2 second delay before the tablet fully loads the next setting tab.\n",
      "For Samsung Galaxy Tab 4, No complaints from the person. However, some users have also mentioned that, The biggest disappointment of all this Christmas.\n",
      "For Samsung Galaxy Tab 4, No complaints from the person. However, some users have also mentioned that, the touch-screen facility is at best terrible.\n",
      "For Samsung Galaxy Tab 4, No complaints from the person. However, some users have also mentioned that, has finally died.\n",
      "For Samsung Galaxy Tab 4, No complaints from the person. However, some users have also mentioned that, stuck at boot screen . went into odin mode.\n",
      "For Samsung Galaxy Tab 4, No complaints from the person. However, some users have also mentioned that, that lasted less than 4 months.\n",
      "For Samsung Galaxy Tab 4, No complaints from the person. However, some users have also mentioned that, the internal LCD Panel was cracked.\n",
      "For Samsung Galaxy Tab 4, No complaints from the person. However, some users have also mentioned that, screen breaking.\n",
      "For Samsung Galaxy Tab 4, No complaints from the person. However, some users have also mentioned that, It is NOT worth $ 175 with the mediocre display.\n",
      "For Samsung Galaxy Tab 4, No complaints from the person. However, some users have also mentioned that, Kindle reader loads in about 4 seconds.\n",
      "For Samsung Galaxy Tab 4, No complaints from the person. However, some users have also mentioned that, jump glitching the entire time.\n",
      "For Samsung Galaxy Tab 4, No complaints from the person. However, some users have also mentioned that, Samsung is guilty here of this one.\n",
      "For Samsung Galaxy Tab 4, No complaints from the person. However, some users have also mentioned that, A waste of money.\n",
      "For Samsung Galaxy Tab 4, No complaints from the person. However, some users have also mentioned that, the camera SUCKS.\n",
      "For Samsung Galaxy Tab 4, Photos are good , even tho there is no flash. However, some users have also mentioned that, the warranty was voided.\n",
      "For Samsung Galaxy Tab 4, Photos are good , even tho there is no flash. However, some users have also mentioned that, the audio is terribly broken.\n",
      "For Samsung Galaxy Tab 4, Photos are good , even tho there is no flash. However, some users have also mentioned that, Samsung has the worst customer service.\n",
      "For Samsung Galaxy Tab 4, Photos are good , even tho there is no flash. However, some users have also mentioned that, the first time was defective.\n",
      "For Samsung Galaxy Tab 4, Photos are good , even tho there is no flash. However, some users have also mentioned that, There is a 2 second delay before the tablet fully loads the next setting tab.\n",
      "For Samsung Galaxy Tab 4, Photos are good , even tho there is no flash. However, some users have also mentioned that, The biggest disappointment of all this Christmas.\n",
      "For Samsung Galaxy Tab 4, Photos are good , even tho there is no flash. However, some users have also mentioned that, the touch-screen facility is at best terrible.\n",
      "For Samsung Galaxy Tab 4, Photos are good , even tho there is no flash. However, some users have also mentioned that, has finally died.\n",
      "For Samsung Galaxy Tab 4, Photos are good , even tho there is no flash. However, some users have also mentioned that, stuck at boot screen . went into odin mode.\n",
      "For Samsung Galaxy Tab 4, Photos are good , even tho there is no flash. However, some users have also mentioned that, that lasted less than 4 months.\n",
      "For Samsung Galaxy Tab 4, Photos are good , even tho there is no flash. However, some users have also mentioned that, the internal LCD Panel was cracked.\n",
      "For Samsung Galaxy Tab 4, Photos are good , even tho there is no flash. However, some users have also mentioned that, screen breaking.\n",
      "For Samsung Galaxy Tab 4, Photos are good , even tho there is no flash. However, some users have also mentioned that, It is NOT worth $ 175 with the mediocre display.\n",
      "For Samsung Galaxy Tab 4, Photos are good , even tho there is no flash. However, some users have also mentioned that, Kindle reader loads in about 4 seconds.\n",
      "For Samsung Galaxy Tab 4, Photos are good , even tho there is no flash. However, some users have also mentioned that, jump glitching the entire time.\n",
      "For Samsung Galaxy Tab 4, Photos are good , even tho there is no flash. However, some users have also mentioned that, Samsung is guilty here of this one.\n",
      "For Samsung Galaxy Tab 4, Photos are good , even tho there is no flash. However, some users have also mentioned that, A waste of money.\n",
      "For Samsung Galaxy Tab 4, Photos are good , even tho there is no flash. However, some users have also mentioned that, the camera SUCKS.\n",
      "For Samsung Galaxy Tab 4, Good tab for price. However, some users have also mentioned that, the warranty was voided.\n",
      "For Samsung Galaxy Tab 4, Good tab for price. However, some users have also mentioned that, the audio is terribly broken.\n",
      "For Samsung Galaxy Tab 4, Good tab for price. However, some users have also mentioned that, Samsung has the worst customer service.\n",
      "For Samsung Galaxy Tab 4, Good tab for price. However, some users have also mentioned that, the first time was defective.\n",
      "For Samsung Galaxy Tab 4, Good tab for price. However, some users have also mentioned that, There is a 2 second delay before the tablet fully loads the next setting tab.\n",
      "For Samsung Galaxy Tab 4, Good tab for price. However, some users have also mentioned that, The biggest disappointment of all this Christmas.\n",
      "For Samsung Galaxy Tab 4, Good tab for price. However, some users have also mentioned that, the touch-screen facility is at best terrible.\n",
      "For Samsung Galaxy Tab 4, Good tab for price. However, some users have also mentioned that, has finally died.\n",
      "For Samsung Galaxy Tab 4, Good tab for price. However, some users have also mentioned that, stuck at boot screen . went into odin mode.\n",
      "For Samsung Galaxy Tab 4, Good tab for price. However, some users have also mentioned that, that lasted less than 4 months.\n",
      "For Samsung Galaxy Tab 4, Good tab for price. However, some users have also mentioned that, the internal LCD Panel was cracked.\n",
      "For Samsung Galaxy Tab 4, Good tab for price. However, some users have also mentioned that, screen breaking.\n",
      "For Samsung Galaxy Tab 4, Good tab for price. However, some users have also mentioned that, It is NOT worth $ 175 with the mediocre display.\n",
      "For Samsung Galaxy Tab 4, Good tab for price. However, some users have also mentioned that, Kindle reader loads in about 4 seconds.\n",
      "For Samsung Galaxy Tab 4, Good tab for price. However, some users have also mentioned that, jump glitching the entire time.\n",
      "For Samsung Galaxy Tab 4, Good tab for price. However, some users have also mentioned that, Samsung is guilty here of this one.\n",
      "For Samsung Galaxy Tab 4, Good tab for price. However, some users have also mentioned that, A waste of money.\n",
      "For Samsung Galaxy Tab 4, Good tab for price. However, some users have also mentioned that, the camera SUCKS.\n"
     ]
    }
   ],
   "source": [
    "for op in output_list_2:\n",
    "    print(op)"
   ]
  },
  {
   "cell_type": "code",
   "execution_count": 165,
   "id": "418663d7",
   "metadata": {},
   "outputs": [],
   "source": [
    "output_list = []\n",
    "for op_1 in output_list_1:\n",
    "    for op_2 in output_list_2:\n",
    "        output_list.append(op_1+\"\\n\"+op_2)"
   ]
  },
  {
   "cell_type": "code",
   "execution_count": 166,
   "id": "2b15ed76",
   "metadata": {},
   "outputs": [
    {
     "data": {
      "text/plain": [
       "['For Apple iPad 2, It runs apps very smooth. However, some users have also mentioned that, its awful.\\nFor Samsung Galaxy Tab 4, best tablet. However, some users have also mentioned that, the warranty was voided.',\n",
       " 'For Apple iPad 2, It runs apps very smooth. However, some users have also mentioned that, its awful.\\nFor Samsung Galaxy Tab 4, best tablet. However, some users have also mentioned that, the audio is terribly broken.',\n",
       " 'For Apple iPad 2, It runs apps very smooth. However, some users have also mentioned that, its awful.\\nFor Samsung Galaxy Tab 4, best tablet. However, some users have also mentioned that, Samsung has the worst customer service.',\n",
       " 'For Apple iPad 2, It runs apps very smooth. However, some users have also mentioned that, its awful.\\nFor Samsung Galaxy Tab 4, best tablet. However, some users have also mentioned that, the first time was defective.',\n",
       " 'For Apple iPad 2, It runs apps very smooth. However, some users have also mentioned that, its awful.\\nFor Samsung Galaxy Tab 4, best tablet. However, some users have also mentioned that, There is a 2 second delay before the tablet fully loads the next setting tab.',\n",
       " 'For Apple iPad 2, It runs apps very smooth. However, some users have also mentioned that, its awful.\\nFor Samsung Galaxy Tab 4, best tablet. However, some users have also mentioned that, The biggest disappointment of all this Christmas.',\n",
       " 'For Apple iPad 2, It runs apps very smooth. However, some users have also mentioned that, its awful.\\nFor Samsung Galaxy Tab 4, best tablet. However, some users have also mentioned that, the touch-screen facility is at best terrible.',\n",
       " 'For Apple iPad 2, It runs apps very smooth. However, some users have also mentioned that, its awful.\\nFor Samsung Galaxy Tab 4, best tablet. However, some users have also mentioned that, has finally died.',\n",
       " 'For Apple iPad 2, It runs apps very smooth. However, some users have also mentioned that, its awful.\\nFor Samsung Galaxy Tab 4, best tablet. However, some users have also mentioned that, stuck at boot screen . went into odin mode.',\n",
       " 'For Apple iPad 2, It runs apps very smooth. However, some users have also mentioned that, its awful.\\nFor Samsung Galaxy Tab 4, best tablet. However, some users have also mentioned that, that lasted less than 4 months.',\n",
       " 'For Apple iPad 2, It runs apps very smooth. However, some users have also mentioned that, its awful.\\nFor Samsung Galaxy Tab 4, best tablet. However, some users have also mentioned that, the internal LCD Panel was cracked.',\n",
       " 'For Apple iPad 2, It runs apps very smooth. However, some users have also mentioned that, its awful.\\nFor Samsung Galaxy Tab 4, best tablet. However, some users have also mentioned that, screen breaking.',\n",
       " 'For Apple iPad 2, It runs apps very smooth. However, some users have also mentioned that, its awful.\\nFor Samsung Galaxy Tab 4, best tablet. However, some users have also mentioned that, It is NOT worth $ 175 with the mediocre display.',\n",
       " 'For Apple iPad 2, It runs apps very smooth. However, some users have also mentioned that, its awful.\\nFor Samsung Galaxy Tab 4, best tablet. However, some users have also mentioned that, Kindle reader loads in about 4 seconds.',\n",
       " 'For Apple iPad 2, It runs apps very smooth. However, some users have also mentioned that, its awful.\\nFor Samsung Galaxy Tab 4, best tablet. However, some users have also mentioned that, jump glitching the entire time.',\n",
       " 'For Apple iPad 2, It runs apps very smooth. However, some users have also mentioned that, its awful.\\nFor Samsung Galaxy Tab 4, best tablet. However, some users have also mentioned that, Samsung is guilty here of this one.',\n",
       " 'For Apple iPad 2, It runs apps very smooth. However, some users have also mentioned that, its awful.\\nFor Samsung Galaxy Tab 4, best tablet. However, some users have also mentioned that, A waste of money.',\n",
       " 'For Apple iPad 2, It runs apps very smooth. However, some users have also mentioned that, its awful.\\nFor Samsung Galaxy Tab 4, best tablet. However, some users have also mentioned that, the camera SUCKS.',\n",
       " 'For Apple iPad 2, It runs apps very smooth. However, some users have also mentioned that, its awful.\\nFor Samsung Galaxy Tab 4, Apps are good. However, some users have also mentioned that, the warranty was voided.',\n",
       " 'For Apple iPad 2, It runs apps very smooth. However, some users have also mentioned that, its awful.\\nFor Samsung Galaxy Tab 4, Apps are good. However, some users have also mentioned that, the audio is terribly broken.',\n",
       " 'For Apple iPad 2, It runs apps very smooth. However, some users have also mentioned that, its awful.\\nFor Samsung Galaxy Tab 4, Apps are good. However, some users have also mentioned that, Samsung has the worst customer service.',\n",
       " 'For Apple iPad 2, It runs apps very smooth. However, some users have also mentioned that, its awful.\\nFor Samsung Galaxy Tab 4, Apps are good. However, some users have also mentioned that, the first time was defective.',\n",
       " 'For Apple iPad 2, It runs apps very smooth. However, some users have also mentioned that, its awful.\\nFor Samsung Galaxy Tab 4, Apps are good. However, some users have also mentioned that, There is a 2 second delay before the tablet fully loads the next setting tab.',\n",
       " 'For Apple iPad 2, It runs apps very smooth. However, some users have also mentioned that, its awful.\\nFor Samsung Galaxy Tab 4, Apps are good. However, some users have also mentioned that, The biggest disappointment of all this Christmas.',\n",
       " 'For Apple iPad 2, It runs apps very smooth. However, some users have also mentioned that, its awful.\\nFor Samsung Galaxy Tab 4, Apps are good. However, some users have also mentioned that, the touch-screen facility is at best terrible.',\n",
       " 'For Apple iPad 2, It runs apps very smooth. However, some users have also mentioned that, its awful.\\nFor Samsung Galaxy Tab 4, Apps are good. However, some users have also mentioned that, has finally died.',\n",
       " 'For Apple iPad 2, It runs apps very smooth. However, some users have also mentioned that, its awful.\\nFor Samsung Galaxy Tab 4, Apps are good. However, some users have also mentioned that, stuck at boot screen . went into odin mode.',\n",
       " 'For Apple iPad 2, It runs apps very smooth. However, some users have also mentioned that, its awful.\\nFor Samsung Galaxy Tab 4, Apps are good. However, some users have also mentioned that, that lasted less than 4 months.',\n",
       " 'For Apple iPad 2, It runs apps very smooth. However, some users have also mentioned that, its awful.\\nFor Samsung Galaxy Tab 4, Apps are good. However, some users have also mentioned that, the internal LCD Panel was cracked.',\n",
       " 'For Apple iPad 2, It runs apps very smooth. However, some users have also mentioned that, its awful.\\nFor Samsung Galaxy Tab 4, Apps are good. However, some users have also mentioned that, screen breaking.',\n",
       " 'For Apple iPad 2, It runs apps very smooth. However, some users have also mentioned that, its awful.\\nFor Samsung Galaxy Tab 4, Apps are good. However, some users have also mentioned that, It is NOT worth $ 175 with the mediocre display.',\n",
       " 'For Apple iPad 2, It runs apps very smooth. However, some users have also mentioned that, its awful.\\nFor Samsung Galaxy Tab 4, Apps are good. However, some users have also mentioned that, Kindle reader loads in about 4 seconds.',\n",
       " 'For Apple iPad 2, It runs apps very smooth. However, some users have also mentioned that, its awful.\\nFor Samsung Galaxy Tab 4, Apps are good. However, some users have also mentioned that, jump glitching the entire time.',\n",
       " 'For Apple iPad 2, It runs apps very smooth. However, some users have also mentioned that, its awful.\\nFor Samsung Galaxy Tab 4, Apps are good. However, some users have also mentioned that, Samsung is guilty here of this one.',\n",
       " 'For Apple iPad 2, It runs apps very smooth. However, some users have also mentioned that, its awful.\\nFor Samsung Galaxy Tab 4, Apps are good. However, some users have also mentioned that, A waste of money.',\n",
       " 'For Apple iPad 2, It runs apps very smooth. However, some users have also mentioned that, its awful.\\nFor Samsung Galaxy Tab 4, Apps are good. However, some users have also mentioned that, the camera SUCKS.',\n",
       " 'For Apple iPad 2, It runs apps very smooth. However, some users have also mentioned that, its awful.\\nFor Samsung Galaxy Tab 4, apps was great. However, some users have also mentioned that, the warranty was voided.',\n",
       " 'For Apple iPad 2, It runs apps very smooth. However, some users have also mentioned that, its awful.\\nFor Samsung Galaxy Tab 4, apps was great. However, some users have also mentioned that, the audio is terribly broken.',\n",
       " 'For Apple iPad 2, It runs apps very smooth. However, some users have also mentioned that, its awful.\\nFor Samsung Galaxy Tab 4, apps was great. However, some users have also mentioned that, Samsung has the worst customer service.',\n",
       " 'For Apple iPad 2, It runs apps very smooth. However, some users have also mentioned that, its awful.\\nFor Samsung Galaxy Tab 4, apps was great. However, some users have also mentioned that, the first time was defective.',\n",
       " 'For Apple iPad 2, It runs apps very smooth. However, some users have also mentioned that, its awful.\\nFor Samsung Galaxy Tab 4, apps was great. However, some users have also mentioned that, There is a 2 second delay before the tablet fully loads the next setting tab.',\n",
       " 'For Apple iPad 2, It runs apps very smooth. However, some users have also mentioned that, its awful.\\nFor Samsung Galaxy Tab 4, apps was great. However, some users have also mentioned that, The biggest disappointment of all this Christmas.',\n",
       " 'For Apple iPad 2, It runs apps very smooth. However, some users have also mentioned that, its awful.\\nFor Samsung Galaxy Tab 4, apps was great. However, some users have also mentioned that, the touch-screen facility is at best terrible.',\n",
       " 'For Apple iPad 2, It runs apps very smooth. However, some users have also mentioned that, its awful.\\nFor Samsung Galaxy Tab 4, apps was great. However, some users have also mentioned that, has finally died.',\n",
       " 'For Apple iPad 2, It runs apps very smooth. However, some users have also mentioned that, its awful.\\nFor Samsung Galaxy Tab 4, apps was great. However, some users have also mentioned that, stuck at boot screen . went into odin mode.',\n",
       " 'For Apple iPad 2, It runs apps very smooth. However, some users have also mentioned that, its awful.\\nFor Samsung Galaxy Tab 4, apps was great. However, some users have also mentioned that, that lasted less than 4 months.',\n",
       " 'For Apple iPad 2, It runs apps very smooth. However, some users have also mentioned that, its awful.\\nFor Samsung Galaxy Tab 4, apps was great. However, some users have also mentioned that, the internal LCD Panel was cracked.',\n",
       " 'For Apple iPad 2, It runs apps very smooth. However, some users have also mentioned that, its awful.\\nFor Samsung Galaxy Tab 4, apps was great. However, some users have also mentioned that, screen breaking.',\n",
       " 'For Apple iPad 2, It runs apps very smooth. However, some users have also mentioned that, its awful.\\nFor Samsung Galaxy Tab 4, apps was great. However, some users have also mentioned that, It is NOT worth $ 175 with the mediocre display.',\n",
       " 'For Apple iPad 2, It runs apps very smooth. However, some users have also mentioned that, its awful.\\nFor Samsung Galaxy Tab 4, apps was great. However, some users have also mentioned that, Kindle reader loads in about 4 seconds.',\n",
       " 'For Apple iPad 2, It runs apps very smooth. However, some users have also mentioned that, its awful.\\nFor Samsung Galaxy Tab 4, apps was great. However, some users have also mentioned that, jump glitching the entire time.',\n",
       " 'For Apple iPad 2, It runs apps very smooth. However, some users have also mentioned that, its awful.\\nFor Samsung Galaxy Tab 4, apps was great. However, some users have also mentioned that, Samsung is guilty here of this one.',\n",
       " 'For Apple iPad 2, It runs apps very smooth. However, some users have also mentioned that, its awful.\\nFor Samsung Galaxy Tab 4, apps was great. However, some users have also mentioned that, A waste of money.',\n",
       " 'For Apple iPad 2, It runs apps very smooth. However, some users have also mentioned that, its awful.\\nFor Samsung Galaxy Tab 4, apps was great. However, some users have also mentioned that, the camera SUCKS.',\n",
       " 'For Apple iPad 2, It runs apps very smooth. However, some users have also mentioned that, its awful.\\nFor Samsung Galaxy Tab 4, colors are very accurate. However, some users have also mentioned that, the warranty was voided.',\n",
       " 'For Apple iPad 2, It runs apps very smooth. However, some users have also mentioned that, its awful.\\nFor Samsung Galaxy Tab 4, colors are very accurate. However, some users have also mentioned that, the audio is terribly broken.',\n",
       " 'For Apple iPad 2, It runs apps very smooth. However, some users have also mentioned that, its awful.\\nFor Samsung Galaxy Tab 4, colors are very accurate. However, some users have also mentioned that, Samsung has the worst customer service.',\n",
       " 'For Apple iPad 2, It runs apps very smooth. However, some users have also mentioned that, its awful.\\nFor Samsung Galaxy Tab 4, colors are very accurate. However, some users have also mentioned that, the first time was defective.',\n",
       " 'For Apple iPad 2, It runs apps very smooth. However, some users have also mentioned that, its awful.\\nFor Samsung Galaxy Tab 4, colors are very accurate. However, some users have also mentioned that, There is a 2 second delay before the tablet fully loads the next setting tab.',\n",
       " 'For Apple iPad 2, It runs apps very smooth. However, some users have also mentioned that, its awful.\\nFor Samsung Galaxy Tab 4, colors are very accurate. However, some users have also mentioned that, The biggest disappointment of all this Christmas.',\n",
       " 'For Apple iPad 2, It runs apps very smooth. However, some users have also mentioned that, its awful.\\nFor Samsung Galaxy Tab 4, colors are very accurate. However, some users have also mentioned that, the touch-screen facility is at best terrible.',\n",
       " 'For Apple iPad 2, It runs apps very smooth. However, some users have also mentioned that, its awful.\\nFor Samsung Galaxy Tab 4, colors are very accurate. However, some users have also mentioned that, has finally died.',\n",
       " 'For Apple iPad 2, It runs apps very smooth. However, some users have also mentioned that, its awful.\\nFor Samsung Galaxy Tab 4, colors are very accurate. However, some users have also mentioned that, stuck at boot screen . went into odin mode.',\n",
       " 'For Apple iPad 2, It runs apps very smooth. However, some users have also mentioned that, its awful.\\nFor Samsung Galaxy Tab 4, colors are very accurate. However, some users have also mentioned that, that lasted less than 4 months.',\n",
       " 'For Apple iPad 2, It runs apps very smooth. However, some users have also mentioned that, its awful.\\nFor Samsung Galaxy Tab 4, colors are very accurate. However, some users have also mentioned that, the internal LCD Panel was cracked.',\n",
       " 'For Apple iPad 2, It runs apps very smooth. However, some users have also mentioned that, its awful.\\nFor Samsung Galaxy Tab 4, colors are very accurate. However, some users have also mentioned that, screen breaking.',\n",
       " 'For Apple iPad 2, It runs apps very smooth. However, some users have also mentioned that, its awful.\\nFor Samsung Galaxy Tab 4, colors are very accurate. However, some users have also mentioned that, It is NOT worth $ 175 with the mediocre display.',\n",
       " 'For Apple iPad 2, It runs apps very smooth. However, some users have also mentioned that, its awful.\\nFor Samsung Galaxy Tab 4, colors are very accurate. However, some users have also mentioned that, Kindle reader loads in about 4 seconds.',\n",
       " 'For Apple iPad 2, It runs apps very smooth. However, some users have also mentioned that, its awful.\\nFor Samsung Galaxy Tab 4, colors are very accurate. However, some users have also mentioned that, jump glitching the entire time.',\n",
       " 'For Apple iPad 2, It runs apps very smooth. However, some users have also mentioned that, its awful.\\nFor Samsung Galaxy Tab 4, colors are very accurate. However, some users have also mentioned that, Samsung is guilty here of this one.',\n",
       " 'For Apple iPad 2, It runs apps very smooth. However, some users have also mentioned that, its awful.\\nFor Samsung Galaxy Tab 4, colors are very accurate. However, some users have also mentioned that, A waste of money.',\n",
       " 'For Apple iPad 2, It runs apps very smooth. However, some users have also mentioned that, its awful.\\nFor Samsung Galaxy Tab 4, colors are very accurate. However, some users have also mentioned that, the camera SUCKS.',\n",
       " 'For Apple iPad 2, It runs apps very smooth. However, some users have also mentioned that, its awful.\\nFor Samsung Galaxy Tab 4, The Kindle app works perfectly on the tablet for reading. However, some users have also mentioned that, the warranty was voided.',\n",
       " 'For Apple iPad 2, It runs apps very smooth. However, some users have also mentioned that, its awful.\\nFor Samsung Galaxy Tab 4, The Kindle app works perfectly on the tablet for reading. However, some users have also mentioned that, the audio is terribly broken.',\n",
       " 'For Apple iPad 2, It runs apps very smooth. However, some users have also mentioned that, its awful.\\nFor Samsung Galaxy Tab 4, The Kindle app works perfectly on the tablet for reading. However, some users have also mentioned that, Samsung has the worst customer service.',\n",
       " 'For Apple iPad 2, It runs apps very smooth. However, some users have also mentioned that, its awful.\\nFor Samsung Galaxy Tab 4, The Kindle app works perfectly on the tablet for reading. However, some users have also mentioned that, the first time was defective.',\n",
       " 'For Apple iPad 2, It runs apps very smooth. However, some users have also mentioned that, its awful.\\nFor Samsung Galaxy Tab 4, The Kindle app works perfectly on the tablet for reading. However, some users have also mentioned that, There is a 2 second delay before the tablet fully loads the next setting tab.',\n",
       " 'For Apple iPad 2, It runs apps very smooth. However, some users have also mentioned that, its awful.\\nFor Samsung Galaxy Tab 4, The Kindle app works perfectly on the tablet for reading. However, some users have also mentioned that, The biggest disappointment of all this Christmas.',\n",
       " 'For Apple iPad 2, It runs apps very smooth. However, some users have also mentioned that, its awful.\\nFor Samsung Galaxy Tab 4, The Kindle app works perfectly on the tablet for reading. However, some users have also mentioned that, the touch-screen facility is at best terrible.',\n",
       " 'For Apple iPad 2, It runs apps very smooth. However, some users have also mentioned that, its awful.\\nFor Samsung Galaxy Tab 4, The Kindle app works perfectly on the tablet for reading. However, some users have also mentioned that, has finally died.',\n",
       " 'For Apple iPad 2, It runs apps very smooth. However, some users have also mentioned that, its awful.\\nFor Samsung Galaxy Tab 4, The Kindle app works perfectly on the tablet for reading. However, some users have also mentioned that, stuck at boot screen . went into odin mode.',\n",
       " 'For Apple iPad 2, It runs apps very smooth. However, some users have also mentioned that, its awful.\\nFor Samsung Galaxy Tab 4, The Kindle app works perfectly on the tablet for reading. However, some users have also mentioned that, that lasted less than 4 months.',\n",
       " 'For Apple iPad 2, It runs apps very smooth. However, some users have also mentioned that, its awful.\\nFor Samsung Galaxy Tab 4, The Kindle app works perfectly on the tablet for reading. However, some users have also mentioned that, the internal LCD Panel was cracked.',\n",
       " 'For Apple iPad 2, It runs apps very smooth. However, some users have also mentioned that, its awful.\\nFor Samsung Galaxy Tab 4, The Kindle app works perfectly on the tablet for reading. However, some users have also mentioned that, screen breaking.',\n",
       " 'For Apple iPad 2, It runs apps very smooth. However, some users have also mentioned that, its awful.\\nFor Samsung Galaxy Tab 4, The Kindle app works perfectly on the tablet for reading. However, some users have also mentioned that, It is NOT worth $ 175 with the mediocre display.',\n",
       " 'For Apple iPad 2, It runs apps very smooth. However, some users have also mentioned that, its awful.\\nFor Samsung Galaxy Tab 4, The Kindle app works perfectly on the tablet for reading. However, some users have also mentioned that, Kindle reader loads in about 4 seconds.',\n",
       " 'For Apple iPad 2, It runs apps very smooth. However, some users have also mentioned that, its awful.\\nFor Samsung Galaxy Tab 4, The Kindle app works perfectly on the tablet for reading. However, some users have also mentioned that, jump glitching the entire time.',\n",
       " 'For Apple iPad 2, It runs apps very smooth. However, some users have also mentioned that, its awful.\\nFor Samsung Galaxy Tab 4, The Kindle app works perfectly on the tablet for reading. However, some users have also mentioned that, Samsung is guilty here of this one.',\n",
       " 'For Apple iPad 2, It runs apps very smooth. However, some users have also mentioned that, its awful.\\nFor Samsung Galaxy Tab 4, The Kindle app works perfectly on the tablet for reading. However, some users have also mentioned that, A waste of money.',\n",
       " 'For Apple iPad 2, It runs apps very smooth. However, some users have also mentioned that, its awful.\\nFor Samsung Galaxy Tab 4, The Kindle app works perfectly on the tablet for reading. However, some users have also mentioned that, the camera SUCKS.',\n",
       " 'For Apple iPad 2, It runs apps very smooth. However, some users have also mentioned that, its awful.\\nFor Samsung Galaxy Tab 4, Samsung products are really awesome great design and excellent features as well. However, some users have also mentioned that, the warranty was voided.',\n",
       " 'For Apple iPad 2, It runs apps very smooth. However, some users have also mentioned that, its awful.\\nFor Samsung Galaxy Tab 4, Samsung products are really awesome great design and excellent features as well. However, some users have also mentioned that, the audio is terribly broken.',\n",
       " 'For Apple iPad 2, It runs apps very smooth. However, some users have also mentioned that, its awful.\\nFor Samsung Galaxy Tab 4, Samsung products are really awesome great design and excellent features as well. However, some users have also mentioned that, Samsung has the worst customer service.',\n",
       " 'For Apple iPad 2, It runs apps very smooth. However, some users have also mentioned that, its awful.\\nFor Samsung Galaxy Tab 4, Samsung products are really awesome great design and excellent features as well. However, some users have also mentioned that, the first time was defective.',\n",
       " 'For Apple iPad 2, It runs apps very smooth. However, some users have also mentioned that, its awful.\\nFor Samsung Galaxy Tab 4, Samsung products are really awesome great design and excellent features as well. However, some users have also mentioned that, There is a 2 second delay before the tablet fully loads the next setting tab.',\n",
       " 'For Apple iPad 2, It runs apps very smooth. However, some users have also mentioned that, its awful.\\nFor Samsung Galaxy Tab 4, Samsung products are really awesome great design and excellent features as well. However, some users have also mentioned that, The biggest disappointment of all this Christmas.',\n",
       " 'For Apple iPad 2, It runs apps very smooth. However, some users have also mentioned that, its awful.\\nFor Samsung Galaxy Tab 4, Samsung products are really awesome great design and excellent features as well. However, some users have also mentioned that, the touch-screen facility is at best terrible.',\n",
       " 'For Apple iPad 2, It runs apps very smooth. However, some users have also mentioned that, its awful.\\nFor Samsung Galaxy Tab 4, Samsung products are really awesome great design and excellent features as well. However, some users have also mentioned that, has finally died.',\n",
       " 'For Apple iPad 2, It runs apps very smooth. However, some users have also mentioned that, its awful.\\nFor Samsung Galaxy Tab 4, Samsung products are really awesome great design and excellent features as well. However, some users have also mentioned that, stuck at boot screen . went into odin mode.',\n",
       " 'For Apple iPad 2, It runs apps very smooth. However, some users have also mentioned that, its awful.\\nFor Samsung Galaxy Tab 4, Samsung products are really awesome great design and excellent features as well. However, some users have also mentioned that, that lasted less than 4 months.',\n",
       " 'For Apple iPad 2, It runs apps very smooth. However, some users have also mentioned that, its awful.\\nFor Samsung Galaxy Tab 4, Samsung products are really awesome great design and excellent features as well. However, some users have also mentioned that, the internal LCD Panel was cracked.',\n",
       " 'For Apple iPad 2, It runs apps very smooth. However, some users have also mentioned that, its awful.\\nFor Samsung Galaxy Tab 4, Samsung products are really awesome great design and excellent features as well. However, some users have also mentioned that, screen breaking.',\n",
       " 'For Apple iPad 2, It runs apps very smooth. However, some users have also mentioned that, its awful.\\nFor Samsung Galaxy Tab 4, Samsung products are really awesome great design and excellent features as well. However, some users have also mentioned that, It is NOT worth $ 175 with the mediocre display.',\n",
       " 'For Apple iPad 2, It runs apps very smooth. However, some users have also mentioned that, its awful.\\nFor Samsung Galaxy Tab 4, Samsung products are really awesome great design and excellent features as well. However, some users have also mentioned that, Kindle reader loads in about 4 seconds.',\n",
       " 'For Apple iPad 2, It runs apps very smooth. However, some users have also mentioned that, its awful.\\nFor Samsung Galaxy Tab 4, Samsung products are really awesome great design and excellent features as well. However, some users have also mentioned that, jump glitching the entire time.',\n",
       " 'For Apple iPad 2, It runs apps very smooth. However, some users have also mentioned that, its awful.\\nFor Samsung Galaxy Tab 4, Samsung products are really awesome great design and excellent features as well. However, some users have also mentioned that, Samsung is guilty here of this one.',\n",
       " 'For Apple iPad 2, It runs apps very smooth. However, some users have also mentioned that, its awful.\\nFor Samsung Galaxy Tab 4, Samsung products are really awesome great design and excellent features as well. However, some users have also mentioned that, A waste of money.',\n",
       " 'For Apple iPad 2, It runs apps very smooth. However, some users have also mentioned that, its awful.\\nFor Samsung Galaxy Tab 4, Samsung products are really awesome great design and excellent features as well. However, some users have also mentioned that, the camera SUCKS.',\n",
       " 'For Apple iPad 2, It runs apps very smooth. However, some users have also mentioned that, its awful.\\nFor Samsung Galaxy Tab 4, The graphics are beautiful. However, some users have also mentioned that, the warranty was voided.',\n",
       " 'For Apple iPad 2, It runs apps very smooth. However, some users have also mentioned that, its awful.\\nFor Samsung Galaxy Tab 4, The graphics are beautiful. However, some users have also mentioned that, the audio is terribly broken.',\n",
       " 'For Apple iPad 2, It runs apps very smooth. However, some users have also mentioned that, its awful.\\nFor Samsung Galaxy Tab 4, The graphics are beautiful. However, some users have also mentioned that, Samsung has the worst customer service.',\n",
       " 'For Apple iPad 2, It runs apps very smooth. However, some users have also mentioned that, its awful.\\nFor Samsung Galaxy Tab 4, The graphics are beautiful. However, some users have also mentioned that, the first time was defective.',\n",
       " 'For Apple iPad 2, It runs apps very smooth. However, some users have also mentioned that, its awful.\\nFor Samsung Galaxy Tab 4, The graphics are beautiful. However, some users have also mentioned that, There is a 2 second delay before the tablet fully loads the next setting tab.',\n",
       " 'For Apple iPad 2, It runs apps very smooth. However, some users have also mentioned that, its awful.\\nFor Samsung Galaxy Tab 4, The graphics are beautiful. However, some users have also mentioned that, The biggest disappointment of all this Christmas.',\n",
       " 'For Apple iPad 2, It runs apps very smooth. However, some users have also mentioned that, its awful.\\nFor Samsung Galaxy Tab 4, The graphics are beautiful. However, some users have also mentioned that, the touch-screen facility is at best terrible.',\n",
       " 'For Apple iPad 2, It runs apps very smooth. However, some users have also mentioned that, its awful.\\nFor Samsung Galaxy Tab 4, The graphics are beautiful. However, some users have also mentioned that, has finally died.',\n",
       " 'For Apple iPad 2, It runs apps very smooth. However, some users have also mentioned that, its awful.\\nFor Samsung Galaxy Tab 4, The graphics are beautiful. However, some users have also mentioned that, stuck at boot screen . went into odin mode.',\n",
       " 'For Apple iPad 2, It runs apps very smooth. However, some users have also mentioned that, its awful.\\nFor Samsung Galaxy Tab 4, The graphics are beautiful. However, some users have also mentioned that, that lasted less than 4 months.',\n",
       " 'For Apple iPad 2, It runs apps very smooth. However, some users have also mentioned that, its awful.\\nFor Samsung Galaxy Tab 4, The graphics are beautiful. However, some users have also mentioned that, the internal LCD Panel was cracked.',\n",
       " 'For Apple iPad 2, It runs apps very smooth. However, some users have also mentioned that, its awful.\\nFor Samsung Galaxy Tab 4, The graphics are beautiful. However, some users have also mentioned that, screen breaking.',\n",
       " 'For Apple iPad 2, It runs apps very smooth. However, some users have also mentioned that, its awful.\\nFor Samsung Galaxy Tab 4, The graphics are beautiful. However, some users have also mentioned that, It is NOT worth $ 175 with the mediocre display.',\n",
       " 'For Apple iPad 2, It runs apps very smooth. However, some users have also mentioned that, its awful.\\nFor Samsung Galaxy Tab 4, The graphics are beautiful. However, some users have also mentioned that, Kindle reader loads in about 4 seconds.',\n",
       " 'For Apple iPad 2, It runs apps very smooth. However, some users have also mentioned that, its awful.\\nFor Samsung Galaxy Tab 4, The graphics are beautiful. However, some users have also mentioned that, jump glitching the entire time.',\n",
       " 'For Apple iPad 2, It runs apps very smooth. However, some users have also mentioned that, its awful.\\nFor Samsung Galaxy Tab 4, The graphics are beautiful. However, some users have also mentioned that, Samsung is guilty here of this one.',\n",
       " 'For Apple iPad 2, It runs apps very smooth. However, some users have also mentioned that, its awful.\\nFor Samsung Galaxy Tab 4, The graphics are beautiful. However, some users have also mentioned that, A waste of money.',\n",
       " 'For Apple iPad 2, It runs apps very smooth. However, some users have also mentioned that, its awful.\\nFor Samsung Galaxy Tab 4, The graphics are beautiful. However, some users have also mentioned that, the camera SUCKS.',\n",
       " 'For Apple iPad 2, It runs apps very smooth. However, some users have also mentioned that, its awful.\\nFor Samsung Galaxy Tab 4, This thing has worked really well over the last 6 months. However, some users have also mentioned that, the warranty was voided.',\n",
       " 'For Apple iPad 2, It runs apps very smooth. However, some users have also mentioned that, its awful.\\nFor Samsung Galaxy Tab 4, This thing has worked really well over the last 6 months. However, some users have also mentioned that, the audio is terribly broken.',\n",
       " 'For Apple iPad 2, It runs apps very smooth. However, some users have also mentioned that, its awful.\\nFor Samsung Galaxy Tab 4, This thing has worked really well over the last 6 months. However, some users have also mentioned that, Samsung has the worst customer service.',\n",
       " 'For Apple iPad 2, It runs apps very smooth. However, some users have also mentioned that, its awful.\\nFor Samsung Galaxy Tab 4, This thing has worked really well over the last 6 months. However, some users have also mentioned that, the first time was defective.',\n",
       " 'For Apple iPad 2, It runs apps very smooth. However, some users have also mentioned that, its awful.\\nFor Samsung Galaxy Tab 4, This thing has worked really well over the last 6 months. However, some users have also mentioned that, There is a 2 second delay before the tablet fully loads the next setting tab.',\n",
       " 'For Apple iPad 2, It runs apps very smooth. However, some users have also mentioned that, its awful.\\nFor Samsung Galaxy Tab 4, This thing has worked really well over the last 6 months. However, some users have also mentioned that, The biggest disappointment of all this Christmas.',\n",
       " 'For Apple iPad 2, It runs apps very smooth. However, some users have also mentioned that, its awful.\\nFor Samsung Galaxy Tab 4, This thing has worked really well over the last 6 months. However, some users have also mentioned that, the touch-screen facility is at best terrible.',\n",
       " 'For Apple iPad 2, It runs apps very smooth. However, some users have also mentioned that, its awful.\\nFor Samsung Galaxy Tab 4, This thing has worked really well over the last 6 months. However, some users have also mentioned that, has finally died.',\n",
       " 'For Apple iPad 2, It runs apps very smooth. However, some users have also mentioned that, its awful.\\nFor Samsung Galaxy Tab 4, This thing has worked really well over the last 6 months. However, some users have also mentioned that, stuck at boot screen . went into odin mode.',\n",
       " 'For Apple iPad 2, It runs apps very smooth. However, some users have also mentioned that, its awful.\\nFor Samsung Galaxy Tab 4, This thing has worked really well over the last 6 months. However, some users have also mentioned that, that lasted less than 4 months.',\n",
       " 'For Apple iPad 2, It runs apps very smooth. However, some users have also mentioned that, its awful.\\nFor Samsung Galaxy Tab 4, This thing has worked really well over the last 6 months. However, some users have also mentioned that, the internal LCD Panel was cracked.',\n",
       " 'For Apple iPad 2, It runs apps very smooth. However, some users have also mentioned that, its awful.\\nFor Samsung Galaxy Tab 4, This thing has worked really well over the last 6 months. However, some users have also mentioned that, screen breaking.',\n",
       " 'For Apple iPad 2, It runs apps very smooth. However, some users have also mentioned that, its awful.\\nFor Samsung Galaxy Tab 4, This thing has worked really well over the last 6 months. However, some users have also mentioned that, It is NOT worth $ 175 with the mediocre display.',\n",
       " 'For Apple iPad 2, It runs apps very smooth. However, some users have also mentioned that, its awful.\\nFor Samsung Galaxy Tab 4, This thing has worked really well over the last 6 months. However, some users have also mentioned that, Kindle reader loads in about 4 seconds.',\n",
       " 'For Apple iPad 2, It runs apps very smooth. However, some users have also mentioned that, its awful.\\nFor Samsung Galaxy Tab 4, This thing has worked really well over the last 6 months. However, some users have also mentioned that, jump glitching the entire time.',\n",
       " 'For Apple iPad 2, It runs apps very smooth. However, some users have also mentioned that, its awful.\\nFor Samsung Galaxy Tab 4, This thing has worked really well over the last 6 months. However, some users have also mentioned that, Samsung is guilty here of this one.',\n",
       " 'For Apple iPad 2, It runs apps very smooth. However, some users have also mentioned that, its awful.\\nFor Samsung Galaxy Tab 4, This thing has worked really well over the last 6 months. However, some users have also mentioned that, A waste of money.',\n",
       " 'For Apple iPad 2, It runs apps very smooth. However, some users have also mentioned that, its awful.\\nFor Samsung Galaxy Tab 4, This thing has worked really well over the last 6 months. However, some users have also mentioned that, the camera SUCKS.',\n",
       " 'For Apple iPad 2, It runs apps very smooth. However, some users have also mentioned that, its awful.\\nFor Samsung Galaxy Tab 4, screen , resolution and finish are very nice . nice form factor. However, some users have also mentioned that, the warranty was voided.',\n",
       " 'For Apple iPad 2, It runs apps very smooth. However, some users have also mentioned that, its awful.\\nFor Samsung Galaxy Tab 4, screen , resolution and finish are very nice . nice form factor. However, some users have also mentioned that, the audio is terribly broken.',\n",
       " 'For Apple iPad 2, It runs apps very smooth. However, some users have also mentioned that, its awful.\\nFor Samsung Galaxy Tab 4, screen , resolution and finish are very nice . nice form factor. However, some users have also mentioned that, Samsung has the worst customer service.',\n",
       " 'For Apple iPad 2, It runs apps very smooth. However, some users have also mentioned that, its awful.\\nFor Samsung Galaxy Tab 4, screen , resolution and finish are very nice . nice form factor. However, some users have also mentioned that, the first time was defective.',\n",
       " 'For Apple iPad 2, It runs apps very smooth. However, some users have also mentioned that, its awful.\\nFor Samsung Galaxy Tab 4, screen , resolution and finish are very nice . nice form factor. However, some users have also mentioned that, There is a 2 second delay before the tablet fully loads the next setting tab.',\n",
       " 'For Apple iPad 2, It runs apps very smooth. However, some users have also mentioned that, its awful.\\nFor Samsung Galaxy Tab 4, screen , resolution and finish are very nice . nice form factor. However, some users have also mentioned that, The biggest disappointment of all this Christmas.',\n",
       " 'For Apple iPad 2, It runs apps very smooth. However, some users have also mentioned that, its awful.\\nFor Samsung Galaxy Tab 4, screen , resolution and finish are very nice . nice form factor. However, some users have also mentioned that, the touch-screen facility is at best terrible.',\n",
       " 'For Apple iPad 2, It runs apps very smooth. However, some users have also mentioned that, its awful.\\nFor Samsung Galaxy Tab 4, screen , resolution and finish are very nice . nice form factor. However, some users have also mentioned that, has finally died.',\n",
       " 'For Apple iPad 2, It runs apps very smooth. However, some users have also mentioned that, its awful.\\nFor Samsung Galaxy Tab 4, screen , resolution and finish are very nice . nice form factor. However, some users have also mentioned that, stuck at boot screen . went into odin mode.',\n",
       " 'For Apple iPad 2, It runs apps very smooth. However, some users have also mentioned that, its awful.\\nFor Samsung Galaxy Tab 4, screen , resolution and finish are very nice . nice form factor. However, some users have also mentioned that, that lasted less than 4 months.',\n",
       " 'For Apple iPad 2, It runs apps very smooth. However, some users have also mentioned that, its awful.\\nFor Samsung Galaxy Tab 4, screen , resolution and finish are very nice . nice form factor. However, some users have also mentioned that, the internal LCD Panel was cracked.',\n",
       " 'For Apple iPad 2, It runs apps very smooth. However, some users have also mentioned that, its awful.\\nFor Samsung Galaxy Tab 4, screen , resolution and finish are very nice . nice form factor. However, some users have also mentioned that, screen breaking.',\n",
       " 'For Apple iPad 2, It runs apps very smooth. However, some users have also mentioned that, its awful.\\nFor Samsung Galaxy Tab 4, screen , resolution and finish are very nice . nice form factor. However, some users have also mentioned that, It is NOT worth $ 175 with the mediocre display.',\n",
       " 'For Apple iPad 2, It runs apps very smooth. However, some users have also mentioned that, its awful.\\nFor Samsung Galaxy Tab 4, screen , resolution and finish are very nice . nice form factor. However, some users have also mentioned that, Kindle reader loads in about 4 seconds.',\n",
       " 'For Apple iPad 2, It runs apps very smooth. However, some users have also mentioned that, its awful.\\nFor Samsung Galaxy Tab 4, screen , resolution and finish are very nice . nice form factor. However, some users have also mentioned that, jump glitching the entire time.',\n",
       " 'For Apple iPad 2, It runs apps very smooth. However, some users have also mentioned that, its awful.\\nFor Samsung Galaxy Tab 4, screen , resolution and finish are very nice . nice form factor. However, some users have also mentioned that, Samsung is guilty here of this one.',\n",
       " 'For Apple iPad 2, It runs apps very smooth. However, some users have also mentioned that, its awful.\\nFor Samsung Galaxy Tab 4, screen , resolution and finish are very nice . nice form factor. However, some users have also mentioned that, A waste of money.',\n",
       " 'For Apple iPad 2, It runs apps very smooth. However, some users have also mentioned that, its awful.\\nFor Samsung Galaxy Tab 4, screen , resolution and finish are very nice . nice form factor. However, some users have also mentioned that, the camera SUCKS.',\n",
       " 'For Apple iPad 2, It runs apps very smooth. However, some users have also mentioned that, its awful.\\nFor Samsung Galaxy Tab 4, Definitely a buy. However, some users have also mentioned that, the warranty was voided.',\n",
       " 'For Apple iPad 2, It runs apps very smooth. However, some users have also mentioned that, its awful.\\nFor Samsung Galaxy Tab 4, Definitely a buy. However, some users have also mentioned that, the audio is terribly broken.',\n",
       " 'For Apple iPad 2, It runs apps very smooth. However, some users have also mentioned that, its awful.\\nFor Samsung Galaxy Tab 4, Definitely a buy. However, some users have also mentioned that, Samsung has the worst customer service.',\n",
       " 'For Apple iPad 2, It runs apps very smooth. However, some users have also mentioned that, its awful.\\nFor Samsung Galaxy Tab 4, Definitely a buy. However, some users have also mentioned that, the first time was defective.',\n",
       " 'For Apple iPad 2, It runs apps very smooth. However, some users have also mentioned that, its awful.\\nFor Samsung Galaxy Tab 4, Definitely a buy. However, some users have also mentioned that, There is a 2 second delay before the tablet fully loads the next setting tab.',\n",
       " 'For Apple iPad 2, It runs apps very smooth. However, some users have also mentioned that, its awful.\\nFor Samsung Galaxy Tab 4, Definitely a buy. However, some users have also mentioned that, The biggest disappointment of all this Christmas.',\n",
       " 'For Apple iPad 2, It runs apps very smooth. However, some users have also mentioned that, its awful.\\nFor Samsung Galaxy Tab 4, Definitely a buy. However, some users have also mentioned that, the touch-screen facility is at best terrible.',\n",
       " 'For Apple iPad 2, It runs apps very smooth. However, some users have also mentioned that, its awful.\\nFor Samsung Galaxy Tab 4, Definitely a buy. However, some users have also mentioned that, has finally died.',\n",
       " 'For Apple iPad 2, It runs apps very smooth. However, some users have also mentioned that, its awful.\\nFor Samsung Galaxy Tab 4, Definitely a buy. However, some users have also mentioned that, stuck at boot screen . went into odin mode.',\n",
       " 'For Apple iPad 2, It runs apps very smooth. However, some users have also mentioned that, its awful.\\nFor Samsung Galaxy Tab 4, Definitely a buy. However, some users have also mentioned that, that lasted less than 4 months.',\n",
       " 'For Apple iPad 2, It runs apps very smooth. However, some users have also mentioned that, its awful.\\nFor Samsung Galaxy Tab 4, Definitely a buy. However, some users have also mentioned that, the internal LCD Panel was cracked.',\n",
       " 'For Apple iPad 2, It runs apps very smooth. However, some users have also mentioned that, its awful.\\nFor Samsung Galaxy Tab 4, Definitely a buy. However, some users have also mentioned that, screen breaking.',\n",
       " 'For Apple iPad 2, It runs apps very smooth. However, some users have also mentioned that, its awful.\\nFor Samsung Galaxy Tab 4, Definitely a buy. However, some users have also mentioned that, It is NOT worth $ 175 with the mediocre display.',\n",
       " 'For Apple iPad 2, It runs apps very smooth. However, some users have also mentioned that, its awful.\\nFor Samsung Galaxy Tab 4, Definitely a buy. However, some users have also mentioned that, Kindle reader loads in about 4 seconds.',\n",
       " 'For Apple iPad 2, It runs apps very smooth. However, some users have also mentioned that, its awful.\\nFor Samsung Galaxy Tab 4, Definitely a buy. However, some users have also mentioned that, jump glitching the entire time.',\n",
       " 'For Apple iPad 2, It runs apps very smooth. However, some users have also mentioned that, its awful.\\nFor Samsung Galaxy Tab 4, Definitely a buy. However, some users have also mentioned that, Samsung is guilty here of this one.',\n",
       " 'For Apple iPad 2, It runs apps very smooth. However, some users have also mentioned that, its awful.\\nFor Samsung Galaxy Tab 4, Definitely a buy. However, some users have also mentioned that, A waste of money.',\n",
       " 'For Apple iPad 2, It runs apps very smooth. However, some users have also mentioned that, its awful.\\nFor Samsung Galaxy Tab 4, Definitely a buy. However, some users have also mentioned that, the camera SUCKS.',\n",
       " 'For Apple iPad 2, It runs apps very smooth. However, some users have also mentioned that, its awful.\\nFor Samsung Galaxy Tab 4, The multi user mode is gold. However, some users have also mentioned that, the warranty was voided.',\n",
       " 'For Apple iPad 2, It runs apps very smooth. However, some users have also mentioned that, its awful.\\nFor Samsung Galaxy Tab 4, The multi user mode is gold. However, some users have also mentioned that, the audio is terribly broken.',\n",
       " 'For Apple iPad 2, It runs apps very smooth. However, some users have also mentioned that, its awful.\\nFor Samsung Galaxy Tab 4, The multi user mode is gold. However, some users have also mentioned that, Samsung has the worst customer service.',\n",
       " 'For Apple iPad 2, It runs apps very smooth. However, some users have also mentioned that, its awful.\\nFor Samsung Galaxy Tab 4, The multi user mode is gold. However, some users have also mentioned that, the first time was defective.',\n",
       " 'For Apple iPad 2, It runs apps very smooth. However, some users have also mentioned that, its awful.\\nFor Samsung Galaxy Tab 4, The multi user mode is gold. However, some users have also mentioned that, There is a 2 second delay before the tablet fully loads the next setting tab.',\n",
       " 'For Apple iPad 2, It runs apps very smooth. However, some users have also mentioned that, its awful.\\nFor Samsung Galaxy Tab 4, The multi user mode is gold. However, some users have also mentioned that, The biggest disappointment of all this Christmas.',\n",
       " 'For Apple iPad 2, It runs apps very smooth. However, some users have also mentioned that, its awful.\\nFor Samsung Galaxy Tab 4, The multi user mode is gold. However, some users have also mentioned that, the touch-screen facility is at best terrible.',\n",
       " 'For Apple iPad 2, It runs apps very smooth. However, some users have also mentioned that, its awful.\\nFor Samsung Galaxy Tab 4, The multi user mode is gold. However, some users have also mentioned that, has finally died.',\n",
       " 'For Apple iPad 2, It runs apps very smooth. However, some users have also mentioned that, its awful.\\nFor Samsung Galaxy Tab 4, The multi user mode is gold. However, some users have also mentioned that, stuck at boot screen . went into odin mode.',\n",
       " 'For Apple iPad 2, It runs apps very smooth. However, some users have also mentioned that, its awful.\\nFor Samsung Galaxy Tab 4, The multi user mode is gold. However, some users have also mentioned that, that lasted less than 4 months.',\n",
       " 'For Apple iPad 2, It runs apps very smooth. However, some users have also mentioned that, its awful.\\nFor Samsung Galaxy Tab 4, The multi user mode is gold. However, some users have also mentioned that, the internal LCD Panel was cracked.',\n",
       " 'For Apple iPad 2, It runs apps very smooth. However, some users have also mentioned that, its awful.\\nFor Samsung Galaxy Tab 4, The multi user mode is gold. However, some users have also mentioned that, screen breaking.',\n",
       " 'For Apple iPad 2, It runs apps very smooth. However, some users have also mentioned that, its awful.\\nFor Samsung Galaxy Tab 4, The multi user mode is gold. However, some users have also mentioned that, It is NOT worth $ 175 with the mediocre display.',\n",
       " 'For Apple iPad 2, It runs apps very smooth. However, some users have also mentioned that, its awful.\\nFor Samsung Galaxy Tab 4, The multi user mode is gold. However, some users have also mentioned that, Kindle reader loads in about 4 seconds.',\n",
       " 'For Apple iPad 2, It runs apps very smooth. However, some users have also mentioned that, its awful.\\nFor Samsung Galaxy Tab 4, The multi user mode is gold. However, some users have also mentioned that, jump glitching the entire time.',\n",
       " 'For Apple iPad 2, It runs apps very smooth. However, some users have also mentioned that, its awful.\\nFor Samsung Galaxy Tab 4, The multi user mode is gold. However, some users have also mentioned that, Samsung is guilty here of this one.',\n",
       " 'For Apple iPad 2, It runs apps very smooth. However, some users have also mentioned that, its awful.\\nFor Samsung Galaxy Tab 4, The multi user mode is gold. However, some users have also mentioned that, A waste of money.',\n",
       " 'For Apple iPad 2, It runs apps very smooth. However, some users have also mentioned that, its awful.\\nFor Samsung Galaxy Tab 4, The multi user mode is gold. However, some users have also mentioned that, the camera SUCKS.',\n",
       " 'For Apple iPad 2, It runs apps very smooth. However, some users have also mentioned that, its awful.\\nFor Samsung Galaxy Tab 4, This tab does the job of a big samsung galaxy fone. However, some users have also mentioned that, the warranty was voided.',\n",
       " 'For Apple iPad 2, It runs apps very smooth. However, some users have also mentioned that, its awful.\\nFor Samsung Galaxy Tab 4, This tab does the job of a big samsung galaxy fone. However, some users have also mentioned that, the audio is terribly broken.',\n",
       " 'For Apple iPad 2, It runs apps very smooth. However, some users have also mentioned that, its awful.\\nFor Samsung Galaxy Tab 4, This tab does the job of a big samsung galaxy fone. However, some users have also mentioned that, Samsung has the worst customer service.',\n",
       " 'For Apple iPad 2, It runs apps very smooth. However, some users have also mentioned that, its awful.\\nFor Samsung Galaxy Tab 4, This tab does the job of a big samsung galaxy fone. However, some users have also mentioned that, the first time was defective.',\n",
       " 'For Apple iPad 2, It runs apps very smooth. However, some users have also mentioned that, its awful.\\nFor Samsung Galaxy Tab 4, This tab does the job of a big samsung galaxy fone. However, some users have also mentioned that, There is a 2 second delay before the tablet fully loads the next setting tab.',\n",
       " 'For Apple iPad 2, It runs apps very smooth. However, some users have also mentioned that, its awful.\\nFor Samsung Galaxy Tab 4, This tab does the job of a big samsung galaxy fone. However, some users have also mentioned that, The biggest disappointment of all this Christmas.',\n",
       " 'For Apple iPad 2, It runs apps very smooth. However, some users have also mentioned that, its awful.\\nFor Samsung Galaxy Tab 4, This tab does the job of a big samsung galaxy fone. However, some users have also mentioned that, the touch-screen facility is at best terrible.',\n",
       " 'For Apple iPad 2, It runs apps very smooth. However, some users have also mentioned that, its awful.\\nFor Samsung Galaxy Tab 4, This tab does the job of a big samsung galaxy fone. However, some users have also mentioned that, has finally died.',\n",
       " 'For Apple iPad 2, It runs apps very smooth. However, some users have also mentioned that, its awful.\\nFor Samsung Galaxy Tab 4, This tab does the job of a big samsung galaxy fone. However, some users have also mentioned that, stuck at boot screen . went into odin mode.',\n",
       " 'For Apple iPad 2, It runs apps very smooth. However, some users have also mentioned that, its awful.\\nFor Samsung Galaxy Tab 4, This tab does the job of a big samsung galaxy fone. However, some users have also mentioned that, that lasted less than 4 months.',\n",
       " 'For Apple iPad 2, It runs apps very smooth. However, some users have also mentioned that, its awful.\\nFor Samsung Galaxy Tab 4, This tab does the job of a big samsung galaxy fone. However, some users have also mentioned that, the internal LCD Panel was cracked.',\n",
       " 'For Apple iPad 2, It runs apps very smooth. However, some users have also mentioned that, its awful.\\nFor Samsung Galaxy Tab 4, This tab does the job of a big samsung galaxy fone. However, some users have also mentioned that, screen breaking.',\n",
       " 'For Apple iPad 2, It runs apps very smooth. However, some users have also mentioned that, its awful.\\nFor Samsung Galaxy Tab 4, This tab does the job of a big samsung galaxy fone. However, some users have also mentioned that, It is NOT worth $ 175 with the mediocre display.',\n",
       " 'For Apple iPad 2, It runs apps very smooth. However, some users have also mentioned that, its awful.\\nFor Samsung Galaxy Tab 4, This tab does the job of a big samsung galaxy fone. However, some users have also mentioned that, Kindle reader loads in about 4 seconds.',\n",
       " 'For Apple iPad 2, It runs apps very smooth. However, some users have also mentioned that, its awful.\\nFor Samsung Galaxy Tab 4, This tab does the job of a big samsung galaxy fone. However, some users have also mentioned that, jump glitching the entire time.',\n",
       " 'For Apple iPad 2, It runs apps very smooth. However, some users have also mentioned that, its awful.\\nFor Samsung Galaxy Tab 4, This tab does the job of a big samsung galaxy fone. However, some users have also mentioned that, Samsung is guilty here of this one.',\n",
       " 'For Apple iPad 2, It runs apps very smooth. However, some users have also mentioned that, its awful.\\nFor Samsung Galaxy Tab 4, This tab does the job of a big samsung galaxy fone. However, some users have also mentioned that, A waste of money.',\n",
       " 'For Apple iPad 2, It runs apps very smooth. However, some users have also mentioned that, its awful.\\nFor Samsung Galaxy Tab 4, This tab does the job of a big samsung galaxy fone. However, some users have also mentioned that, the camera SUCKS.',\n",
       " 'For Apple iPad 2, It runs apps very smooth. However, some users have also mentioned that, its awful.\\nFor Samsung Galaxy Tab 4, Perfect size for surfing the web. However, some users have also mentioned that, the warranty was voided.',\n",
       " 'For Apple iPad 2, It runs apps very smooth. However, some users have also mentioned that, its awful.\\nFor Samsung Galaxy Tab 4, Perfect size for surfing the web. However, some users have also mentioned that, the audio is terribly broken.',\n",
       " 'For Apple iPad 2, It runs apps very smooth. However, some users have also mentioned that, its awful.\\nFor Samsung Galaxy Tab 4, Perfect size for surfing the web. However, some users have also mentioned that, Samsung has the worst customer service.',\n",
       " 'For Apple iPad 2, It runs apps very smooth. However, some users have also mentioned that, its awful.\\nFor Samsung Galaxy Tab 4, Perfect size for surfing the web. However, some users have also mentioned that, the first time was defective.',\n",
       " 'For Apple iPad 2, It runs apps very smooth. However, some users have also mentioned that, its awful.\\nFor Samsung Galaxy Tab 4, Perfect size for surfing the web. However, some users have also mentioned that, There is a 2 second delay before the tablet fully loads the next setting tab.',\n",
       " 'For Apple iPad 2, It runs apps very smooth. However, some users have also mentioned that, its awful.\\nFor Samsung Galaxy Tab 4, Perfect size for surfing the web. However, some users have also mentioned that, The biggest disappointment of all this Christmas.',\n",
       " 'For Apple iPad 2, It runs apps very smooth. However, some users have also mentioned that, its awful.\\nFor Samsung Galaxy Tab 4, Perfect size for surfing the web. However, some users have also mentioned that, the touch-screen facility is at best terrible.',\n",
       " 'For Apple iPad 2, It runs apps very smooth. However, some users have also mentioned that, its awful.\\nFor Samsung Galaxy Tab 4, Perfect size for surfing the web. However, some users have also mentioned that, has finally died.',\n",
       " 'For Apple iPad 2, It runs apps very smooth. However, some users have also mentioned that, its awful.\\nFor Samsung Galaxy Tab 4, Perfect size for surfing the web. However, some users have also mentioned that, stuck at boot screen . went into odin mode.',\n",
       " 'For Apple iPad 2, It runs apps very smooth. However, some users have also mentioned that, its awful.\\nFor Samsung Galaxy Tab 4, Perfect size for surfing the web. However, some users have also mentioned that, that lasted less than 4 months.',\n",
       " 'For Apple iPad 2, It runs apps very smooth. However, some users have also mentioned that, its awful.\\nFor Samsung Galaxy Tab 4, Perfect size for surfing the web. However, some users have also mentioned that, the internal LCD Panel was cracked.',\n",
       " 'For Apple iPad 2, It runs apps very smooth. However, some users have also mentioned that, its awful.\\nFor Samsung Galaxy Tab 4, Perfect size for surfing the web. However, some users have also mentioned that, screen breaking.',\n",
       " 'For Apple iPad 2, It runs apps very smooth. However, some users have also mentioned that, its awful.\\nFor Samsung Galaxy Tab 4, Perfect size for surfing the web. However, some users have also mentioned that, It is NOT worth $ 175 with the mediocre display.',\n",
       " 'For Apple iPad 2, It runs apps very smooth. However, some users have also mentioned that, its awful.\\nFor Samsung Galaxy Tab 4, Perfect size for surfing the web. However, some users have also mentioned that, Kindle reader loads in about 4 seconds.',\n",
       " 'For Apple iPad 2, It runs apps very smooth. However, some users have also mentioned that, its awful.\\nFor Samsung Galaxy Tab 4, Perfect size for surfing the web. However, some users have also mentioned that, jump glitching the entire time.',\n",
       " 'For Apple iPad 2, It runs apps very smooth. However, some users have also mentioned that, its awful.\\nFor Samsung Galaxy Tab 4, Perfect size for surfing the web. However, some users have also mentioned that, Samsung is guilty here of this one.',\n",
       " 'For Apple iPad 2, It runs apps very smooth. However, some users have also mentioned that, its awful.\\nFor Samsung Galaxy Tab 4, Perfect size for surfing the web. However, some users have also mentioned that, A waste of money.',\n",
       " 'For Apple iPad 2, It runs apps very smooth. However, some users have also mentioned that, its awful.\\nFor Samsung Galaxy Tab 4, Perfect size for surfing the web. However, some users have also mentioned that, the camera SUCKS.',\n",
       " 'For Apple iPad 2, It runs apps very smooth. However, some users have also mentioned that, its awful.\\nFor Samsung Galaxy Tab 4, Ok for 8 GB performance. However, some users have also mentioned that, the warranty was voided.',\n",
       " 'For Apple iPad 2, It runs apps very smooth. However, some users have also mentioned that, its awful.\\nFor Samsung Galaxy Tab 4, Ok for 8 GB performance. However, some users have also mentioned that, the audio is terribly broken.',\n",
       " 'For Apple iPad 2, It runs apps very smooth. However, some users have also mentioned that, its awful.\\nFor Samsung Galaxy Tab 4, Ok for 8 GB performance. However, some users have also mentioned that, Samsung has the worst customer service.',\n",
       " 'For Apple iPad 2, It runs apps very smooth. However, some users have also mentioned that, its awful.\\nFor Samsung Galaxy Tab 4, Ok for 8 GB performance. However, some users have also mentioned that, the first time was defective.',\n",
       " 'For Apple iPad 2, It runs apps very smooth. However, some users have also mentioned that, its awful.\\nFor Samsung Galaxy Tab 4, Ok for 8 GB performance. However, some users have also mentioned that, There is a 2 second delay before the tablet fully loads the next setting tab.',\n",
       " 'For Apple iPad 2, It runs apps very smooth. However, some users have also mentioned that, its awful.\\nFor Samsung Galaxy Tab 4, Ok for 8 GB performance. However, some users have also mentioned that, The biggest disappointment of all this Christmas.',\n",
       " 'For Apple iPad 2, It runs apps very smooth. However, some users have also mentioned that, its awful.\\nFor Samsung Galaxy Tab 4, Ok for 8 GB performance. However, some users have also mentioned that, the touch-screen facility is at best terrible.',\n",
       " 'For Apple iPad 2, It runs apps very smooth. However, some users have also mentioned that, its awful.\\nFor Samsung Galaxy Tab 4, Ok for 8 GB performance. However, some users have also mentioned that, has finally died.',\n",
       " 'For Apple iPad 2, It runs apps very smooth. However, some users have also mentioned that, its awful.\\nFor Samsung Galaxy Tab 4, Ok for 8 GB performance. However, some users have also mentioned that, stuck at boot screen . went into odin mode.',\n",
       " 'For Apple iPad 2, It runs apps very smooth. However, some users have also mentioned that, its awful.\\nFor Samsung Galaxy Tab 4, Ok for 8 GB performance. However, some users have also mentioned that, that lasted less than 4 months.',\n",
       " 'For Apple iPad 2, It runs apps very smooth. However, some users have also mentioned that, its awful.\\nFor Samsung Galaxy Tab 4, Ok for 8 GB performance. However, some users have also mentioned that, the internal LCD Panel was cracked.',\n",
       " 'For Apple iPad 2, It runs apps very smooth. However, some users have also mentioned that, its awful.\\nFor Samsung Galaxy Tab 4, Ok for 8 GB performance. However, some users have also mentioned that, screen breaking.',\n",
       " 'For Apple iPad 2, It runs apps very smooth. However, some users have also mentioned that, its awful.\\nFor Samsung Galaxy Tab 4, Ok for 8 GB performance. However, some users have also mentioned that, It is NOT worth $ 175 with the mediocre display.',\n",
       " 'For Apple iPad 2, It runs apps very smooth. However, some users have also mentioned that, its awful.\\nFor Samsung Galaxy Tab 4, Ok for 8 GB performance. However, some users have also mentioned that, Kindle reader loads in about 4 seconds.',\n",
       " 'For Apple iPad 2, It runs apps very smooth. However, some users have also mentioned that, its awful.\\nFor Samsung Galaxy Tab 4, Ok for 8 GB performance. However, some users have also mentioned that, jump glitching the entire time.',\n",
       " 'For Apple iPad 2, It runs apps very smooth. However, some users have also mentioned that, its awful.\\nFor Samsung Galaxy Tab 4, Ok for 8 GB performance. However, some users have also mentioned that, Samsung is guilty here of this one.',\n",
       " 'For Apple iPad 2, It runs apps very smooth. However, some users have also mentioned that, its awful.\\nFor Samsung Galaxy Tab 4, Ok for 8 GB performance. However, some users have also mentioned that, A waste of money.',\n",
       " 'For Apple iPad 2, It runs apps very smooth. However, some users have also mentioned that, its awful.\\nFor Samsung Galaxy Tab 4, Ok for 8 GB performance. However, some users have also mentioned that, the camera SUCKS.',\n",
       " 'For Apple iPad 2, It runs apps very smooth. However, some users have also mentioned that, its awful.\\nFor Samsung Galaxy Tab 4, great tablet a year later. However, some users have also mentioned that, the warranty was voided.',\n",
       " 'For Apple iPad 2, It runs apps very smooth. However, some users have also mentioned that, its awful.\\nFor Samsung Galaxy Tab 4, great tablet a year later. However, some users have also mentioned that, the audio is terribly broken.',\n",
       " 'For Apple iPad 2, It runs apps very smooth. However, some users have also mentioned that, its awful.\\nFor Samsung Galaxy Tab 4, great tablet a year later. However, some users have also mentioned that, Samsung has the worst customer service.',\n",
       " 'For Apple iPad 2, It runs apps very smooth. However, some users have also mentioned that, its awful.\\nFor Samsung Galaxy Tab 4, great tablet a year later. However, some users have also mentioned that, the first time was defective.',\n",
       " 'For Apple iPad 2, It runs apps very smooth. However, some users have also mentioned that, its awful.\\nFor Samsung Galaxy Tab 4, great tablet a year later. However, some users have also mentioned that, There is a 2 second delay before the tablet fully loads the next setting tab.',\n",
       " 'For Apple iPad 2, It runs apps very smooth. However, some users have also mentioned that, its awful.\\nFor Samsung Galaxy Tab 4, great tablet a year later. However, some users have also mentioned that, The biggest disappointment of all this Christmas.',\n",
       " 'For Apple iPad 2, It runs apps very smooth. However, some users have also mentioned that, its awful.\\nFor Samsung Galaxy Tab 4, great tablet a year later. However, some users have also mentioned that, the touch-screen facility is at best terrible.',\n",
       " 'For Apple iPad 2, It runs apps very smooth. However, some users have also mentioned that, its awful.\\nFor Samsung Galaxy Tab 4, great tablet a year later. However, some users have also mentioned that, has finally died.',\n",
       " 'For Apple iPad 2, It runs apps very smooth. However, some users have also mentioned that, its awful.\\nFor Samsung Galaxy Tab 4, great tablet a year later. However, some users have also mentioned that, stuck at boot screen . went into odin mode.',\n",
       " 'For Apple iPad 2, It runs apps very smooth. However, some users have also mentioned that, its awful.\\nFor Samsung Galaxy Tab 4, great tablet a year later. However, some users have also mentioned that, that lasted less than 4 months.',\n",
       " 'For Apple iPad 2, It runs apps very smooth. However, some users have also mentioned that, its awful.\\nFor Samsung Galaxy Tab 4, great tablet a year later. However, some users have also mentioned that, the internal LCD Panel was cracked.',\n",
       " 'For Apple iPad 2, It runs apps very smooth. However, some users have also mentioned that, its awful.\\nFor Samsung Galaxy Tab 4, great tablet a year later. However, some users have also mentioned that, screen breaking.',\n",
       " 'For Apple iPad 2, It runs apps very smooth. However, some users have also mentioned that, its awful.\\nFor Samsung Galaxy Tab 4, great tablet a year later. However, some users have also mentioned that, It is NOT worth $ 175 with the mediocre display.',\n",
       " 'For Apple iPad 2, It runs apps very smooth. However, some users have also mentioned that, its awful.\\nFor Samsung Galaxy Tab 4, great tablet a year later. However, some users have also mentioned that, Kindle reader loads in about 4 seconds.',\n",
       " 'For Apple iPad 2, It runs apps very smooth. However, some users have also mentioned that, its awful.\\nFor Samsung Galaxy Tab 4, great tablet a year later. However, some users have also mentioned that, jump glitching the entire time.',\n",
       " 'For Apple iPad 2, It runs apps very smooth. However, some users have also mentioned that, its awful.\\nFor Samsung Galaxy Tab 4, great tablet a year later. However, some users have also mentioned that, Samsung is guilty here of this one.',\n",
       " 'For Apple iPad 2, It runs apps very smooth. However, some users have also mentioned that, its awful.\\nFor Samsung Galaxy Tab 4, great tablet a year later. However, some users have also mentioned that, A waste of money.',\n",
       " 'For Apple iPad 2, It runs apps very smooth. However, some users have also mentioned that, its awful.\\nFor Samsung Galaxy Tab 4, great tablet a year later. However, some users have also mentioned that, the camera SUCKS.',\n",
       " 'For Apple iPad 2, It runs apps very smooth. However, some users have also mentioned that, its awful.\\nFor Samsung Galaxy Tab 4, way better than kindle fire . same size , same price point , does anything. However, some users have also mentioned that, the warranty was voided.',\n",
       " 'For Apple iPad 2, It runs apps very smooth. However, some users have also mentioned that, its awful.\\nFor Samsung Galaxy Tab 4, way better than kindle fire . same size , same price point , does anything. However, some users have also mentioned that, the audio is terribly broken.',\n",
       " 'For Apple iPad 2, It runs apps very smooth. However, some users have also mentioned that, its awful.\\nFor Samsung Galaxy Tab 4, way better than kindle fire . same size , same price point , does anything. However, some users have also mentioned that, Samsung has the worst customer service.',\n",
       " 'For Apple iPad 2, It runs apps very smooth. However, some users have also mentioned that, its awful.\\nFor Samsung Galaxy Tab 4, way better than kindle fire . same size , same price point , does anything. However, some users have also mentioned that, the first time was defective.',\n",
       " 'For Apple iPad 2, It runs apps very smooth. However, some users have also mentioned that, its awful.\\nFor Samsung Galaxy Tab 4, way better than kindle fire . same size , same price point , does anything. However, some users have also mentioned that, There is a 2 second delay before the tablet fully loads the next setting tab.',\n",
       " 'For Apple iPad 2, It runs apps very smooth. However, some users have also mentioned that, its awful.\\nFor Samsung Galaxy Tab 4, way better than kindle fire . same size , same price point , does anything. However, some users have also mentioned that, The biggest disappointment of all this Christmas.',\n",
       " 'For Apple iPad 2, It runs apps very smooth. However, some users have also mentioned that, its awful.\\nFor Samsung Galaxy Tab 4, way better than kindle fire . same size , same price point , does anything. However, some users have also mentioned that, the touch-screen facility is at best terrible.',\n",
       " 'For Apple iPad 2, It runs apps very smooth. However, some users have also mentioned that, its awful.\\nFor Samsung Galaxy Tab 4, way better than kindle fire . same size , same price point , does anything. However, some users have also mentioned that, has finally died.',\n",
       " 'For Apple iPad 2, It runs apps very smooth. However, some users have also mentioned that, its awful.\\nFor Samsung Galaxy Tab 4, way better than kindle fire . same size , same price point , does anything. However, some users have also mentioned that, stuck at boot screen . went into odin mode.',\n",
       " 'For Apple iPad 2, It runs apps very smooth. However, some users have also mentioned that, its awful.\\nFor Samsung Galaxy Tab 4, way better than kindle fire . same size , same price point , does anything. However, some users have also mentioned that, that lasted less than 4 months.',\n",
       " 'For Apple iPad 2, It runs apps very smooth. However, some users have also mentioned that, its awful.\\nFor Samsung Galaxy Tab 4, way better than kindle fire . same size , same price point , does anything. However, some users have also mentioned that, the internal LCD Panel was cracked.',\n",
       " 'For Apple iPad 2, It runs apps very smooth. However, some users have also mentioned that, its awful.\\nFor Samsung Galaxy Tab 4, way better than kindle fire . same size , same price point , does anything. However, some users have also mentioned that, screen breaking.',\n",
       " 'For Apple iPad 2, It runs apps very smooth. However, some users have also mentioned that, its awful.\\nFor Samsung Galaxy Tab 4, way better than kindle fire . same size , same price point , does anything. However, some users have also mentioned that, It is NOT worth $ 175 with the mediocre display.',\n",
       " 'For Apple iPad 2, It runs apps very smooth. However, some users have also mentioned that, its awful.\\nFor Samsung Galaxy Tab 4, way better than kindle fire . same size , same price point , does anything. However, some users have also mentioned that, Kindle reader loads in about 4 seconds.',\n",
       " 'For Apple iPad 2, It runs apps very smooth. However, some users have also mentioned that, its awful.\\nFor Samsung Galaxy Tab 4, way better than kindle fire . same size , same price point , does anything. However, some users have also mentioned that, jump glitching the entire time.',\n",
       " 'For Apple iPad 2, It runs apps very smooth. However, some users have also mentioned that, its awful.\\nFor Samsung Galaxy Tab 4, way better than kindle fire . same size , same price point , does anything. However, some users have also mentioned that, Samsung is guilty here of this one.',\n",
       " 'For Apple iPad 2, It runs apps very smooth. However, some users have also mentioned that, its awful.\\nFor Samsung Galaxy Tab 4, way better than kindle fire . same size , same price point , does anything. However, some users have also mentioned that, A waste of money.',\n",
       " 'For Apple iPad 2, It runs apps very smooth. However, some users have also mentioned that, its awful.\\nFor Samsung Galaxy Tab 4, way better than kindle fire . same size , same price point , does anything. However, some users have also mentioned that, the camera SUCKS.',\n",
       " 'For Apple iPad 2, It runs apps very smooth. However, some users have also mentioned that, its awful.\\nFor Samsung Galaxy Tab 4, worked out well. However, some users have also mentioned that, the warranty was voided.',\n",
       " 'For Apple iPad 2, It runs apps very smooth. However, some users have also mentioned that, its awful.\\nFor Samsung Galaxy Tab 4, worked out well. However, some users have also mentioned that, the audio is terribly broken.',\n",
       " 'For Apple iPad 2, It runs apps very smooth. However, some users have also mentioned that, its awful.\\nFor Samsung Galaxy Tab 4, worked out well. However, some users have also mentioned that, Samsung has the worst customer service.',\n",
       " 'For Apple iPad 2, It runs apps very smooth. However, some users have also mentioned that, its awful.\\nFor Samsung Galaxy Tab 4, worked out well. However, some users have also mentioned that, the first time was defective.',\n",
       " 'For Apple iPad 2, It runs apps very smooth. However, some users have also mentioned that, its awful.\\nFor Samsung Galaxy Tab 4, worked out well. However, some users have also mentioned that, There is a 2 second delay before the tablet fully loads the next setting tab.',\n",
       " 'For Apple iPad 2, It runs apps very smooth. However, some users have also mentioned that, its awful.\\nFor Samsung Galaxy Tab 4, worked out well. However, some users have also mentioned that, The biggest disappointment of all this Christmas.',\n",
       " 'For Apple iPad 2, It runs apps very smooth. However, some users have also mentioned that, its awful.\\nFor Samsung Galaxy Tab 4, worked out well. However, some users have also mentioned that, the touch-screen facility is at best terrible.',\n",
       " 'For Apple iPad 2, It runs apps very smooth. However, some users have also mentioned that, its awful.\\nFor Samsung Galaxy Tab 4, worked out well. However, some users have also mentioned that, has finally died.',\n",
       " 'For Apple iPad 2, It runs apps very smooth. However, some users have also mentioned that, its awful.\\nFor Samsung Galaxy Tab 4, worked out well. However, some users have also mentioned that, stuck at boot screen . went into odin mode.',\n",
       " 'For Apple iPad 2, It runs apps very smooth. However, some users have also mentioned that, its awful.\\nFor Samsung Galaxy Tab 4, worked out well. However, some users have also mentioned that, that lasted less than 4 months.',\n",
       " 'For Apple iPad 2, It runs apps very smooth. However, some users have also mentioned that, its awful.\\nFor Samsung Galaxy Tab 4, worked out well. However, some users have also mentioned that, the internal LCD Panel was cracked.',\n",
       " 'For Apple iPad 2, It runs apps very smooth. However, some users have also mentioned that, its awful.\\nFor Samsung Galaxy Tab 4, worked out well. However, some users have also mentioned that, screen breaking.',\n",
       " 'For Apple iPad 2, It runs apps very smooth. However, some users have also mentioned that, its awful.\\nFor Samsung Galaxy Tab 4, worked out well. However, some users have also mentioned that, It is NOT worth $ 175 with the mediocre display.',\n",
       " 'For Apple iPad 2, It runs apps very smooth. However, some users have also mentioned that, its awful.\\nFor Samsung Galaxy Tab 4, worked out well. However, some users have also mentioned that, Kindle reader loads in about 4 seconds.',\n",
       " 'For Apple iPad 2, It runs apps very smooth. However, some users have also mentioned that, its awful.\\nFor Samsung Galaxy Tab 4, worked out well. However, some users have also mentioned that, jump glitching the entire time.',\n",
       " 'For Apple iPad 2, It runs apps very smooth. However, some users have also mentioned that, its awful.\\nFor Samsung Galaxy Tab 4, worked out well. However, some users have also mentioned that, Samsung is guilty here of this one.',\n",
       " 'For Apple iPad 2, It runs apps very smooth. However, some users have also mentioned that, its awful.\\nFor Samsung Galaxy Tab 4, worked out well. However, some users have also mentioned that, A waste of money.',\n",
       " 'For Apple iPad 2, It runs apps very smooth. However, some users have also mentioned that, its awful.\\nFor Samsung Galaxy Tab 4, worked out well. However, some users have also mentioned that, the camera SUCKS.',\n",
       " 'For Apple iPad 2, It runs apps very smooth. However, some users have also mentioned that, its awful.\\nFor Samsung Galaxy Tab 4, This Tab 4 is a great replacement for a Nook or a Kindle. However, some users have also mentioned that, the warranty was voided.',\n",
       " 'For Apple iPad 2, It runs apps very smooth. However, some users have also mentioned that, its awful.\\nFor Samsung Galaxy Tab 4, This Tab 4 is a great replacement for a Nook or a Kindle. However, some users have also mentioned that, the audio is terribly broken.',\n",
       " 'For Apple iPad 2, It runs apps very smooth. However, some users have also mentioned that, its awful.\\nFor Samsung Galaxy Tab 4, This Tab 4 is a great replacement for a Nook or a Kindle. However, some users have also mentioned that, Samsung has the worst customer service.',\n",
       " 'For Apple iPad 2, It runs apps very smooth. However, some users have also mentioned that, its awful.\\nFor Samsung Galaxy Tab 4, This Tab 4 is a great replacement for a Nook or a Kindle. However, some users have also mentioned that, the first time was defective.',\n",
       " 'For Apple iPad 2, It runs apps very smooth. However, some users have also mentioned that, its awful.\\nFor Samsung Galaxy Tab 4, This Tab 4 is a great replacement for a Nook or a Kindle. However, some users have also mentioned that, There is a 2 second delay before the tablet fully loads the next setting tab.',\n",
       " 'For Apple iPad 2, It runs apps very smooth. However, some users have also mentioned that, its awful.\\nFor Samsung Galaxy Tab 4, This Tab 4 is a great replacement for a Nook or a Kindle. However, some users have also mentioned that, The biggest disappointment of all this Christmas.',\n",
       " 'For Apple iPad 2, It runs apps very smooth. However, some users have also mentioned that, its awful.\\nFor Samsung Galaxy Tab 4, This Tab 4 is a great replacement for a Nook or a Kindle. However, some users have also mentioned that, the touch-screen facility is at best terrible.',\n",
       " 'For Apple iPad 2, It runs apps very smooth. However, some users have also mentioned that, its awful.\\nFor Samsung Galaxy Tab 4, This Tab 4 is a great replacement for a Nook or a Kindle. However, some users have also mentioned that, has finally died.',\n",
       " 'For Apple iPad 2, It runs apps very smooth. However, some users have also mentioned that, its awful.\\nFor Samsung Galaxy Tab 4, This Tab 4 is a great replacement for a Nook or a Kindle. However, some users have also mentioned that, stuck at boot screen . went into odin mode.',\n",
       " 'For Apple iPad 2, It runs apps very smooth. However, some users have also mentioned that, its awful.\\nFor Samsung Galaxy Tab 4, This Tab 4 is a great replacement for a Nook or a Kindle. However, some users have also mentioned that, that lasted less than 4 months.',\n",
       " 'For Apple iPad 2, It runs apps very smooth. However, some users have also mentioned that, its awful.\\nFor Samsung Galaxy Tab 4, This Tab 4 is a great replacement for a Nook or a Kindle. However, some users have also mentioned that, the internal LCD Panel was cracked.',\n",
       " 'For Apple iPad 2, It runs apps very smooth. However, some users have also mentioned that, its awful.\\nFor Samsung Galaxy Tab 4, This Tab 4 is a great replacement for a Nook or a Kindle. However, some users have also mentioned that, screen breaking.',\n",
       " 'For Apple iPad 2, It runs apps very smooth. However, some users have also mentioned that, its awful.\\nFor Samsung Galaxy Tab 4, This Tab 4 is a great replacement for a Nook or a Kindle. However, some users have also mentioned that, It is NOT worth $ 175 with the mediocre display.',\n",
       " 'For Apple iPad 2, It runs apps very smooth. However, some users have also mentioned that, its awful.\\nFor Samsung Galaxy Tab 4, This Tab 4 is a great replacement for a Nook or a Kindle. However, some users have also mentioned that, Kindle reader loads in about 4 seconds.',\n",
       " 'For Apple iPad 2, It runs apps very smooth. However, some users have also mentioned that, its awful.\\nFor Samsung Galaxy Tab 4, This Tab 4 is a great replacement for a Nook or a Kindle. However, some users have also mentioned that, jump glitching the entire time.',\n",
       " 'For Apple iPad 2, It runs apps very smooth. However, some users have also mentioned that, its awful.\\nFor Samsung Galaxy Tab 4, This Tab 4 is a great replacement for a Nook or a Kindle. However, some users have also mentioned that, Samsung is guilty here of this one.',\n",
       " 'For Apple iPad 2, It runs apps very smooth. However, some users have also mentioned that, its awful.\\nFor Samsung Galaxy Tab 4, This Tab 4 is a great replacement for a Nook or a Kindle. However, some users have also mentioned that, A waste of money.',\n",
       " 'For Apple iPad 2, It runs apps very smooth. However, some users have also mentioned that, its awful.\\nFor Samsung Galaxy Tab 4, This Tab 4 is a great replacement for a Nook or a Kindle. However, some users have also mentioned that, the camera SUCKS.',\n",
       " 'For Apple iPad 2, It runs apps very smooth. However, some users have also mentioned that, its awful.\\nFor Samsung Galaxy Tab 4, No complaints from the person. However, some users have also mentioned that, the warranty was voided.',\n",
       " 'For Apple iPad 2, It runs apps very smooth. However, some users have also mentioned that, its awful.\\nFor Samsung Galaxy Tab 4, No complaints from the person. However, some users have also mentioned that, the audio is terribly broken.',\n",
       " 'For Apple iPad 2, It runs apps very smooth. However, some users have also mentioned that, its awful.\\nFor Samsung Galaxy Tab 4, No complaints from the person. However, some users have also mentioned that, Samsung has the worst customer service.',\n",
       " 'For Apple iPad 2, It runs apps very smooth. However, some users have also mentioned that, its awful.\\nFor Samsung Galaxy Tab 4, No complaints from the person. However, some users have also mentioned that, the first time was defective.',\n",
       " 'For Apple iPad 2, It runs apps very smooth. However, some users have also mentioned that, its awful.\\nFor Samsung Galaxy Tab 4, No complaints from the person. However, some users have also mentioned that, There is a 2 second delay before the tablet fully loads the next setting tab.',\n",
       " 'For Apple iPad 2, It runs apps very smooth. However, some users have also mentioned that, its awful.\\nFor Samsung Galaxy Tab 4, No complaints from the person. However, some users have also mentioned that, The biggest disappointment of all this Christmas.',\n",
       " 'For Apple iPad 2, It runs apps very smooth. However, some users have also mentioned that, its awful.\\nFor Samsung Galaxy Tab 4, No complaints from the person. However, some users have also mentioned that, the touch-screen facility is at best terrible.',\n",
       " 'For Apple iPad 2, It runs apps very smooth. However, some users have also mentioned that, its awful.\\nFor Samsung Galaxy Tab 4, No complaints from the person. However, some users have also mentioned that, has finally died.',\n",
       " 'For Apple iPad 2, It runs apps very smooth. However, some users have also mentioned that, its awful.\\nFor Samsung Galaxy Tab 4, No complaints from the person. However, some users have also mentioned that, stuck at boot screen . went into odin mode.',\n",
       " 'For Apple iPad 2, It runs apps very smooth. However, some users have also mentioned that, its awful.\\nFor Samsung Galaxy Tab 4, No complaints from the person. However, some users have also mentioned that, that lasted less than 4 months.',\n",
       " 'For Apple iPad 2, It runs apps very smooth. However, some users have also mentioned that, its awful.\\nFor Samsung Galaxy Tab 4, No complaints from the person. However, some users have also mentioned that, the internal LCD Panel was cracked.',\n",
       " 'For Apple iPad 2, It runs apps very smooth. However, some users have also mentioned that, its awful.\\nFor Samsung Galaxy Tab 4, No complaints from the person. However, some users have also mentioned that, screen breaking.',\n",
       " 'For Apple iPad 2, It runs apps very smooth. However, some users have also mentioned that, its awful.\\nFor Samsung Galaxy Tab 4, No complaints from the person. However, some users have also mentioned that, It is NOT worth $ 175 with the mediocre display.',\n",
       " 'For Apple iPad 2, It runs apps very smooth. However, some users have also mentioned that, its awful.\\nFor Samsung Galaxy Tab 4, No complaints from the person. However, some users have also mentioned that, Kindle reader loads in about 4 seconds.',\n",
       " 'For Apple iPad 2, It runs apps very smooth. However, some users have also mentioned that, its awful.\\nFor Samsung Galaxy Tab 4, No complaints from the person. However, some users have also mentioned that, jump glitching the entire time.',\n",
       " 'For Apple iPad 2, It runs apps very smooth. However, some users have also mentioned that, its awful.\\nFor Samsung Galaxy Tab 4, No complaints from the person. However, some users have also mentioned that, Samsung is guilty here of this one.',\n",
       " 'For Apple iPad 2, It runs apps very smooth. However, some users have also mentioned that, its awful.\\nFor Samsung Galaxy Tab 4, No complaints from the person. However, some users have also mentioned that, A waste of money.',\n",
       " 'For Apple iPad 2, It runs apps very smooth. However, some users have also mentioned that, its awful.\\nFor Samsung Galaxy Tab 4, No complaints from the person. However, some users have also mentioned that, the camera SUCKS.',\n",
       " 'For Apple iPad 2, It runs apps very smooth. However, some users have also mentioned that, its awful.\\nFor Samsung Galaxy Tab 4, Photos are good , even tho there is no flash. However, some users have also mentioned that, the warranty was voided.',\n",
       " 'For Apple iPad 2, It runs apps very smooth. However, some users have also mentioned that, its awful.\\nFor Samsung Galaxy Tab 4, Photos are good , even tho there is no flash. However, some users have also mentioned that, the audio is terribly broken.',\n",
       " 'For Apple iPad 2, It runs apps very smooth. However, some users have also mentioned that, its awful.\\nFor Samsung Galaxy Tab 4, Photos are good , even tho there is no flash. However, some users have also mentioned that, Samsung has the worst customer service.',\n",
       " 'For Apple iPad 2, It runs apps very smooth. However, some users have also mentioned that, its awful.\\nFor Samsung Galaxy Tab 4, Photos are good , even tho there is no flash. However, some users have also mentioned that, the first time was defective.',\n",
       " 'For Apple iPad 2, It runs apps very smooth. However, some users have also mentioned that, its awful.\\nFor Samsung Galaxy Tab 4, Photos are good , even tho there is no flash. However, some users have also mentioned that, There is a 2 second delay before the tablet fully loads the next setting tab.',\n",
       " 'For Apple iPad 2, It runs apps very smooth. However, some users have also mentioned that, its awful.\\nFor Samsung Galaxy Tab 4, Photos are good , even tho there is no flash. However, some users have also mentioned that, The biggest disappointment of all this Christmas.',\n",
       " 'For Apple iPad 2, It runs apps very smooth. However, some users have also mentioned that, its awful.\\nFor Samsung Galaxy Tab 4, Photos are good , even tho there is no flash. However, some users have also mentioned that, the touch-screen facility is at best terrible.',\n",
       " 'For Apple iPad 2, It runs apps very smooth. However, some users have also mentioned that, its awful.\\nFor Samsung Galaxy Tab 4, Photos are good , even tho there is no flash. However, some users have also mentioned that, has finally died.',\n",
       " 'For Apple iPad 2, It runs apps very smooth. However, some users have also mentioned that, its awful.\\nFor Samsung Galaxy Tab 4, Photos are good , even tho there is no flash. However, some users have also mentioned that, stuck at boot screen . went into odin mode.',\n",
       " 'For Apple iPad 2, It runs apps very smooth. However, some users have also mentioned that, its awful.\\nFor Samsung Galaxy Tab 4, Photos are good , even tho there is no flash. However, some users have also mentioned that, that lasted less than 4 months.',\n",
       " 'For Apple iPad 2, It runs apps very smooth. However, some users have also mentioned that, its awful.\\nFor Samsung Galaxy Tab 4, Photos are good , even tho there is no flash. However, some users have also mentioned that, the internal LCD Panel was cracked.',\n",
       " 'For Apple iPad 2, It runs apps very smooth. However, some users have also mentioned that, its awful.\\nFor Samsung Galaxy Tab 4, Photos are good , even tho there is no flash. However, some users have also mentioned that, screen breaking.',\n",
       " 'For Apple iPad 2, It runs apps very smooth. However, some users have also mentioned that, its awful.\\nFor Samsung Galaxy Tab 4, Photos are good , even tho there is no flash. However, some users have also mentioned that, It is NOT worth $ 175 with the mediocre display.',\n",
       " 'For Apple iPad 2, It runs apps very smooth. However, some users have also mentioned that, its awful.\\nFor Samsung Galaxy Tab 4, Photos are good , even tho there is no flash. However, some users have also mentioned that, Kindle reader loads in about 4 seconds.',\n",
       " 'For Apple iPad 2, It runs apps very smooth. However, some users have also mentioned that, its awful.\\nFor Samsung Galaxy Tab 4, Photos are good , even tho there is no flash. However, some users have also mentioned that, jump glitching the entire time.',\n",
       " 'For Apple iPad 2, It runs apps very smooth. However, some users have also mentioned that, its awful.\\nFor Samsung Galaxy Tab 4, Photos are good , even tho there is no flash. However, some users have also mentioned that, Samsung is guilty here of this one.',\n",
       " 'For Apple iPad 2, It runs apps very smooth. However, some users have also mentioned that, its awful.\\nFor Samsung Galaxy Tab 4, Photos are good , even tho there is no flash. However, some users have also mentioned that, A waste of money.',\n",
       " 'For Apple iPad 2, It runs apps very smooth. However, some users have also mentioned that, its awful.\\nFor Samsung Galaxy Tab 4, Photos are good , even tho there is no flash. However, some users have also mentioned that, the camera SUCKS.',\n",
       " 'For Apple iPad 2, It runs apps very smooth. However, some users have also mentioned that, its awful.\\nFor Samsung Galaxy Tab 4, Good tab for price. However, some users have also mentioned that, the warranty was voided.',\n",
       " 'For Apple iPad 2, It runs apps very smooth. However, some users have also mentioned that, its awful.\\nFor Samsung Galaxy Tab 4, Good tab for price. However, some users have also mentioned that, the audio is terribly broken.',\n",
       " 'For Apple iPad 2, It runs apps very smooth. However, some users have also mentioned that, its awful.\\nFor Samsung Galaxy Tab 4, Good tab for price. However, some users have also mentioned that, Samsung has the worst customer service.',\n",
       " 'For Apple iPad 2, It runs apps very smooth. However, some users have also mentioned that, its awful.\\nFor Samsung Galaxy Tab 4, Good tab for price. However, some users have also mentioned that, the first time was defective.',\n",
       " 'For Apple iPad 2, It runs apps very smooth. However, some users have also mentioned that, its awful.\\nFor Samsung Galaxy Tab 4, Good tab for price. However, some users have also mentioned that, There is a 2 second delay before the tablet fully loads the next setting tab.',\n",
       " 'For Apple iPad 2, It runs apps very smooth. However, some users have also mentioned that, its awful.\\nFor Samsung Galaxy Tab 4, Good tab for price. However, some users have also mentioned that, The biggest disappointment of all this Christmas.',\n",
       " 'For Apple iPad 2, It runs apps very smooth. However, some users have also mentioned that, its awful.\\nFor Samsung Galaxy Tab 4, Good tab for price. However, some users have also mentioned that, the touch-screen facility is at best terrible.',\n",
       " 'For Apple iPad 2, It runs apps very smooth. However, some users have also mentioned that, its awful.\\nFor Samsung Galaxy Tab 4, Good tab for price. However, some users have also mentioned that, has finally died.',\n",
       " 'For Apple iPad 2, It runs apps very smooth. However, some users have also mentioned that, its awful.\\nFor Samsung Galaxy Tab 4, Good tab for price. However, some users have also mentioned that, stuck at boot screen . went into odin mode.',\n",
       " 'For Apple iPad 2, It runs apps very smooth. However, some users have also mentioned that, its awful.\\nFor Samsung Galaxy Tab 4, Good tab for price. However, some users have also mentioned that, that lasted less than 4 months.',\n",
       " 'For Apple iPad 2, It runs apps very smooth. However, some users have also mentioned that, its awful.\\nFor Samsung Galaxy Tab 4, Good tab for price. However, some users have also mentioned that, the internal LCD Panel was cracked.',\n",
       " 'For Apple iPad 2, It runs apps very smooth. However, some users have also mentioned that, its awful.\\nFor Samsung Galaxy Tab 4, Good tab for price. However, some users have also mentioned that, screen breaking.',\n",
       " 'For Apple iPad 2, It runs apps very smooth. However, some users have also mentioned that, its awful.\\nFor Samsung Galaxy Tab 4, Good tab for price. However, some users have also mentioned that, It is NOT worth $ 175 with the mediocre display.',\n",
       " 'For Apple iPad 2, It runs apps very smooth. However, some users have also mentioned that, its awful.\\nFor Samsung Galaxy Tab 4, Good tab for price. However, some users have also mentioned that, Kindle reader loads in about 4 seconds.',\n",
       " 'For Apple iPad 2, It runs apps very smooth. However, some users have also mentioned that, its awful.\\nFor Samsung Galaxy Tab 4, Good tab for price. However, some users have also mentioned that, jump glitching the entire time.',\n",
       " 'For Apple iPad 2, It runs apps very smooth. However, some users have also mentioned that, its awful.\\nFor Samsung Galaxy Tab 4, Good tab for price. However, some users have also mentioned that, Samsung is guilty here of this one.',\n",
       " 'For Apple iPad 2, It runs apps very smooth. However, some users have also mentioned that, its awful.\\nFor Samsung Galaxy Tab 4, Good tab for price. However, some users have also mentioned that, A waste of money.',\n",
       " 'For Apple iPad 2, It runs apps very smooth. However, some users have also mentioned that, its awful.\\nFor Samsung Galaxy Tab 4, Good tab for price. However, some users have also mentioned that, the camera SUCKS.',\n",
       " 'For Apple iPad 2, It runs apps very smooth. However, some users have also mentioned that, There is no USB support for mass storage.\\nFor Samsung Galaxy Tab 4, best tablet. However, some users have also mentioned that, the warranty was voided.',\n",
       " 'For Apple iPad 2, It runs apps very smooth. However, some users have also mentioned that, There is no USB support for mass storage.\\nFor Samsung Galaxy Tab 4, best tablet. However, some users have also mentioned that, the audio is terribly broken.',\n",
       " 'For Apple iPad 2, It runs apps very smooth. However, some users have also mentioned that, There is no USB support for mass storage.\\nFor Samsung Galaxy Tab 4, best tablet. However, some users have also mentioned that, Samsung has the worst customer service.',\n",
       " 'For Apple iPad 2, It runs apps very smooth. However, some users have also mentioned that, There is no USB support for mass storage.\\nFor Samsung Galaxy Tab 4, best tablet. However, some users have also mentioned that, the first time was defective.',\n",
       " 'For Apple iPad 2, It runs apps very smooth. However, some users have also mentioned that, There is no USB support for mass storage.\\nFor Samsung Galaxy Tab 4, best tablet. However, some users have also mentioned that, There is a 2 second delay before the tablet fully loads the next setting tab.',\n",
       " 'For Apple iPad 2, It runs apps very smooth. However, some users have also mentioned that, There is no USB support for mass storage.\\nFor Samsung Galaxy Tab 4, best tablet. However, some users have also mentioned that, The biggest disappointment of all this Christmas.',\n",
       " 'For Apple iPad 2, It runs apps very smooth. However, some users have also mentioned that, There is no USB support for mass storage.\\nFor Samsung Galaxy Tab 4, best tablet. However, some users have also mentioned that, the touch-screen facility is at best terrible.',\n",
       " 'For Apple iPad 2, It runs apps very smooth. However, some users have also mentioned that, There is no USB support for mass storage.\\nFor Samsung Galaxy Tab 4, best tablet. However, some users have also mentioned that, has finally died.',\n",
       " 'For Apple iPad 2, It runs apps very smooth. However, some users have also mentioned that, There is no USB support for mass storage.\\nFor Samsung Galaxy Tab 4, best tablet. However, some users have also mentioned that, stuck at boot screen . went into odin mode.',\n",
       " 'For Apple iPad 2, It runs apps very smooth. However, some users have also mentioned that, There is no USB support for mass storage.\\nFor Samsung Galaxy Tab 4, best tablet. However, some users have also mentioned that, that lasted less than 4 months.',\n",
       " 'For Apple iPad 2, It runs apps very smooth. However, some users have also mentioned that, There is no USB support for mass storage.\\nFor Samsung Galaxy Tab 4, best tablet. However, some users have also mentioned that, the internal LCD Panel was cracked.',\n",
       " 'For Apple iPad 2, It runs apps very smooth. However, some users have also mentioned that, There is no USB support for mass storage.\\nFor Samsung Galaxy Tab 4, best tablet. However, some users have also mentioned that, screen breaking.',\n",
       " 'For Apple iPad 2, It runs apps very smooth. However, some users have also mentioned that, There is no USB support for mass storage.\\nFor Samsung Galaxy Tab 4, best tablet. However, some users have also mentioned that, It is NOT worth $ 175 with the mediocre display.',\n",
       " 'For Apple iPad 2, It runs apps very smooth. However, some users have also mentioned that, There is no USB support for mass storage.\\nFor Samsung Galaxy Tab 4, best tablet. However, some users have also mentioned that, Kindle reader loads in about 4 seconds.',\n",
       " 'For Apple iPad 2, It runs apps very smooth. However, some users have also mentioned that, There is no USB support for mass storage.\\nFor Samsung Galaxy Tab 4, best tablet. However, some users have also mentioned that, jump glitching the entire time.',\n",
       " 'For Apple iPad 2, It runs apps very smooth. However, some users have also mentioned that, There is no USB support for mass storage.\\nFor Samsung Galaxy Tab 4, best tablet. However, some users have also mentioned that, Samsung is guilty here of this one.',\n",
       " 'For Apple iPad 2, It runs apps very smooth. However, some users have also mentioned that, There is no USB support for mass storage.\\nFor Samsung Galaxy Tab 4, best tablet. However, some users have also mentioned that, A waste of money.',\n",
       " 'For Apple iPad 2, It runs apps very smooth. However, some users have also mentioned that, There is no USB support for mass storage.\\nFor Samsung Galaxy Tab 4, best tablet. However, some users have also mentioned that, the camera SUCKS.',\n",
       " 'For Apple iPad 2, It runs apps very smooth. However, some users have also mentioned that, There is no USB support for mass storage.\\nFor Samsung Galaxy Tab 4, Apps are good. However, some users have also mentioned that, the warranty was voided.',\n",
       " 'For Apple iPad 2, It runs apps very smooth. However, some users have also mentioned that, There is no USB support for mass storage.\\nFor Samsung Galaxy Tab 4, Apps are good. However, some users have also mentioned that, the audio is terribly broken.',\n",
       " 'For Apple iPad 2, It runs apps very smooth. However, some users have also mentioned that, There is no USB support for mass storage.\\nFor Samsung Galaxy Tab 4, Apps are good. However, some users have also mentioned that, Samsung has the worst customer service.',\n",
       " 'For Apple iPad 2, It runs apps very smooth. However, some users have also mentioned that, There is no USB support for mass storage.\\nFor Samsung Galaxy Tab 4, Apps are good. However, some users have also mentioned that, the first time was defective.',\n",
       " 'For Apple iPad 2, It runs apps very smooth. However, some users have also mentioned that, There is no USB support for mass storage.\\nFor Samsung Galaxy Tab 4, Apps are good. However, some users have also mentioned that, There is a 2 second delay before the tablet fully loads the next setting tab.',\n",
       " 'For Apple iPad 2, It runs apps very smooth. However, some users have also mentioned that, There is no USB support for mass storage.\\nFor Samsung Galaxy Tab 4, Apps are good. However, some users have also mentioned that, The biggest disappointment of all this Christmas.',\n",
       " 'For Apple iPad 2, It runs apps very smooth. However, some users have also mentioned that, There is no USB support for mass storage.\\nFor Samsung Galaxy Tab 4, Apps are good. However, some users have also mentioned that, the touch-screen facility is at best terrible.',\n",
       " 'For Apple iPad 2, It runs apps very smooth. However, some users have also mentioned that, There is no USB support for mass storage.\\nFor Samsung Galaxy Tab 4, Apps are good. However, some users have also mentioned that, has finally died.',\n",
       " 'For Apple iPad 2, It runs apps very smooth. However, some users have also mentioned that, There is no USB support for mass storage.\\nFor Samsung Galaxy Tab 4, Apps are good. However, some users have also mentioned that, stuck at boot screen . went into odin mode.',\n",
       " 'For Apple iPad 2, It runs apps very smooth. However, some users have also mentioned that, There is no USB support for mass storage.\\nFor Samsung Galaxy Tab 4, Apps are good. However, some users have also mentioned that, that lasted less than 4 months.',\n",
       " 'For Apple iPad 2, It runs apps very smooth. However, some users have also mentioned that, There is no USB support for mass storage.\\nFor Samsung Galaxy Tab 4, Apps are good. However, some users have also mentioned that, the internal LCD Panel was cracked.',\n",
       " 'For Apple iPad 2, It runs apps very smooth. However, some users have also mentioned that, There is no USB support for mass storage.\\nFor Samsung Galaxy Tab 4, Apps are good. However, some users have also mentioned that, screen breaking.',\n",
       " 'For Apple iPad 2, It runs apps very smooth. However, some users have also mentioned that, There is no USB support for mass storage.\\nFor Samsung Galaxy Tab 4, Apps are good. However, some users have also mentioned that, It is NOT worth $ 175 with the mediocre display.',\n",
       " 'For Apple iPad 2, It runs apps very smooth. However, some users have also mentioned that, There is no USB support for mass storage.\\nFor Samsung Galaxy Tab 4, Apps are good. However, some users have also mentioned that, Kindle reader loads in about 4 seconds.',\n",
       " 'For Apple iPad 2, It runs apps very smooth. However, some users have also mentioned that, There is no USB support for mass storage.\\nFor Samsung Galaxy Tab 4, Apps are good. However, some users have also mentioned that, jump glitching the entire time.',\n",
       " 'For Apple iPad 2, It runs apps very smooth. However, some users have also mentioned that, There is no USB support for mass storage.\\nFor Samsung Galaxy Tab 4, Apps are good. However, some users have also mentioned that, Samsung is guilty here of this one.',\n",
       " 'For Apple iPad 2, It runs apps very smooth. However, some users have also mentioned that, There is no USB support for mass storage.\\nFor Samsung Galaxy Tab 4, Apps are good. However, some users have also mentioned that, A waste of money.',\n",
       " 'For Apple iPad 2, It runs apps very smooth. However, some users have also mentioned that, There is no USB support for mass storage.\\nFor Samsung Galaxy Tab 4, Apps are good. However, some users have also mentioned that, the camera SUCKS.',\n",
       " 'For Apple iPad 2, It runs apps very smooth. However, some users have also mentioned that, There is no USB support for mass storage.\\nFor Samsung Galaxy Tab 4, apps was great. However, some users have also mentioned that, the warranty was voided.',\n",
       " 'For Apple iPad 2, It runs apps very smooth. However, some users have also mentioned that, There is no USB support for mass storage.\\nFor Samsung Galaxy Tab 4, apps was great. However, some users have also mentioned that, the audio is terribly broken.',\n",
       " 'For Apple iPad 2, It runs apps very smooth. However, some users have also mentioned that, There is no USB support for mass storage.\\nFor Samsung Galaxy Tab 4, apps was great. However, some users have also mentioned that, Samsung has the worst customer service.',\n",
       " 'For Apple iPad 2, It runs apps very smooth. However, some users have also mentioned that, There is no USB support for mass storage.\\nFor Samsung Galaxy Tab 4, apps was great. However, some users have also mentioned that, the first time was defective.',\n",
       " 'For Apple iPad 2, It runs apps very smooth. However, some users have also mentioned that, There is no USB support for mass storage.\\nFor Samsung Galaxy Tab 4, apps was great. However, some users have also mentioned that, There is a 2 second delay before the tablet fully loads the next setting tab.',\n",
       " 'For Apple iPad 2, It runs apps very smooth. However, some users have also mentioned that, There is no USB support for mass storage.\\nFor Samsung Galaxy Tab 4, apps was great. However, some users have also mentioned that, The biggest disappointment of all this Christmas.',\n",
       " 'For Apple iPad 2, It runs apps very smooth. However, some users have also mentioned that, There is no USB support for mass storage.\\nFor Samsung Galaxy Tab 4, apps was great. However, some users have also mentioned that, the touch-screen facility is at best terrible.',\n",
       " 'For Apple iPad 2, It runs apps very smooth. However, some users have also mentioned that, There is no USB support for mass storage.\\nFor Samsung Galaxy Tab 4, apps was great. However, some users have also mentioned that, has finally died.',\n",
       " 'For Apple iPad 2, It runs apps very smooth. However, some users have also mentioned that, There is no USB support for mass storage.\\nFor Samsung Galaxy Tab 4, apps was great. However, some users have also mentioned that, stuck at boot screen . went into odin mode.',\n",
       " 'For Apple iPad 2, It runs apps very smooth. However, some users have also mentioned that, There is no USB support for mass storage.\\nFor Samsung Galaxy Tab 4, apps was great. However, some users have also mentioned that, that lasted less than 4 months.',\n",
       " 'For Apple iPad 2, It runs apps very smooth. However, some users have also mentioned that, There is no USB support for mass storage.\\nFor Samsung Galaxy Tab 4, apps was great. However, some users have also mentioned that, the internal LCD Panel was cracked.',\n",
       " 'For Apple iPad 2, It runs apps very smooth. However, some users have also mentioned that, There is no USB support for mass storage.\\nFor Samsung Galaxy Tab 4, apps was great. However, some users have also mentioned that, screen breaking.',\n",
       " 'For Apple iPad 2, It runs apps very smooth. However, some users have also mentioned that, There is no USB support for mass storage.\\nFor Samsung Galaxy Tab 4, apps was great. However, some users have also mentioned that, It is NOT worth $ 175 with the mediocre display.',\n",
       " 'For Apple iPad 2, It runs apps very smooth. However, some users have also mentioned that, There is no USB support for mass storage.\\nFor Samsung Galaxy Tab 4, apps was great. However, some users have also mentioned that, Kindle reader loads in about 4 seconds.',\n",
       " 'For Apple iPad 2, It runs apps very smooth. However, some users have also mentioned that, There is no USB support for mass storage.\\nFor Samsung Galaxy Tab 4, apps was great. However, some users have also mentioned that, jump glitching the entire time.',\n",
       " 'For Apple iPad 2, It runs apps very smooth. However, some users have also mentioned that, There is no USB support for mass storage.\\nFor Samsung Galaxy Tab 4, apps was great. However, some users have also mentioned that, Samsung is guilty here of this one.',\n",
       " 'For Apple iPad 2, It runs apps very smooth. However, some users have also mentioned that, There is no USB support for mass storage.\\nFor Samsung Galaxy Tab 4, apps was great. However, some users have also mentioned that, A waste of money.',\n",
       " 'For Apple iPad 2, It runs apps very smooth. However, some users have also mentioned that, There is no USB support for mass storage.\\nFor Samsung Galaxy Tab 4, apps was great. However, some users have also mentioned that, the camera SUCKS.',\n",
       " 'For Apple iPad 2, It runs apps very smooth. However, some users have also mentioned that, There is no USB support for mass storage.\\nFor Samsung Galaxy Tab 4, colors are very accurate. However, some users have also mentioned that, the warranty was voided.',\n",
       " 'For Apple iPad 2, It runs apps very smooth. However, some users have also mentioned that, There is no USB support for mass storage.\\nFor Samsung Galaxy Tab 4, colors are very accurate. However, some users have also mentioned that, the audio is terribly broken.',\n",
       " 'For Apple iPad 2, It runs apps very smooth. However, some users have also mentioned that, There is no USB support for mass storage.\\nFor Samsung Galaxy Tab 4, colors are very accurate. However, some users have also mentioned that, Samsung has the worst customer service.',\n",
       " 'For Apple iPad 2, It runs apps very smooth. However, some users have also mentioned that, There is no USB support for mass storage.\\nFor Samsung Galaxy Tab 4, colors are very accurate. However, some users have also mentioned that, the first time was defective.',\n",
       " 'For Apple iPad 2, It runs apps very smooth. However, some users have also mentioned that, There is no USB support for mass storage.\\nFor Samsung Galaxy Tab 4, colors are very accurate. However, some users have also mentioned that, There is a 2 second delay before the tablet fully loads the next setting tab.',\n",
       " 'For Apple iPad 2, It runs apps very smooth. However, some users have also mentioned that, There is no USB support for mass storage.\\nFor Samsung Galaxy Tab 4, colors are very accurate. However, some users have also mentioned that, The biggest disappointment of all this Christmas.',\n",
       " 'For Apple iPad 2, It runs apps very smooth. However, some users have also mentioned that, There is no USB support for mass storage.\\nFor Samsung Galaxy Tab 4, colors are very accurate. However, some users have also mentioned that, the touch-screen facility is at best terrible.',\n",
       " 'For Apple iPad 2, It runs apps very smooth. However, some users have also mentioned that, There is no USB support for mass storage.\\nFor Samsung Galaxy Tab 4, colors are very accurate. However, some users have also mentioned that, has finally died.',\n",
       " 'For Apple iPad 2, It runs apps very smooth. However, some users have also mentioned that, There is no USB support for mass storage.\\nFor Samsung Galaxy Tab 4, colors are very accurate. However, some users have also mentioned that, stuck at boot screen . went into odin mode.',\n",
       " 'For Apple iPad 2, It runs apps very smooth. However, some users have also mentioned that, There is no USB support for mass storage.\\nFor Samsung Galaxy Tab 4, colors are very accurate. However, some users have also mentioned that, that lasted less than 4 months.',\n",
       " 'For Apple iPad 2, It runs apps very smooth. However, some users have also mentioned that, There is no USB support for mass storage.\\nFor Samsung Galaxy Tab 4, colors are very accurate. However, some users have also mentioned that, the internal LCD Panel was cracked.',\n",
       " 'For Apple iPad 2, It runs apps very smooth. However, some users have also mentioned that, There is no USB support for mass storage.\\nFor Samsung Galaxy Tab 4, colors are very accurate. However, some users have also mentioned that, screen breaking.',\n",
       " 'For Apple iPad 2, It runs apps very smooth. However, some users have also mentioned that, There is no USB support for mass storage.\\nFor Samsung Galaxy Tab 4, colors are very accurate. However, some users have also mentioned that, It is NOT worth $ 175 with the mediocre display.',\n",
       " 'For Apple iPad 2, It runs apps very smooth. However, some users have also mentioned that, There is no USB support for mass storage.\\nFor Samsung Galaxy Tab 4, colors are very accurate. However, some users have also mentioned that, Kindle reader loads in about 4 seconds.',\n",
       " 'For Apple iPad 2, It runs apps very smooth. However, some users have also mentioned that, There is no USB support for mass storage.\\nFor Samsung Galaxy Tab 4, colors are very accurate. However, some users have also mentioned that, jump glitching the entire time.',\n",
       " 'For Apple iPad 2, It runs apps very smooth. However, some users have also mentioned that, There is no USB support for mass storage.\\nFor Samsung Galaxy Tab 4, colors are very accurate. However, some users have also mentioned that, Samsung is guilty here of this one.',\n",
       " 'For Apple iPad 2, It runs apps very smooth. However, some users have also mentioned that, There is no USB support for mass storage.\\nFor Samsung Galaxy Tab 4, colors are very accurate. However, some users have also mentioned that, A waste of money.',\n",
       " 'For Apple iPad 2, It runs apps very smooth. However, some users have also mentioned that, There is no USB support for mass storage.\\nFor Samsung Galaxy Tab 4, colors are very accurate. However, some users have also mentioned that, the camera SUCKS.',\n",
       " 'For Apple iPad 2, It runs apps very smooth. However, some users have also mentioned that, There is no USB support for mass storage.\\nFor Samsung Galaxy Tab 4, The Kindle app works perfectly on the tablet for reading. However, some users have also mentioned that, the warranty was voided.',\n",
       " 'For Apple iPad 2, It runs apps very smooth. However, some users have also mentioned that, There is no USB support for mass storage.\\nFor Samsung Galaxy Tab 4, The Kindle app works perfectly on the tablet for reading. However, some users have also mentioned that, the audio is terribly broken.',\n",
       " 'For Apple iPad 2, It runs apps very smooth. However, some users have also mentioned that, There is no USB support for mass storage.\\nFor Samsung Galaxy Tab 4, The Kindle app works perfectly on the tablet for reading. However, some users have also mentioned that, Samsung has the worst customer service.',\n",
       " 'For Apple iPad 2, It runs apps very smooth. However, some users have also mentioned that, There is no USB support for mass storage.\\nFor Samsung Galaxy Tab 4, The Kindle app works perfectly on the tablet for reading. However, some users have also mentioned that, the first time was defective.',\n",
       " 'For Apple iPad 2, It runs apps very smooth. However, some users have also mentioned that, There is no USB support for mass storage.\\nFor Samsung Galaxy Tab 4, The Kindle app works perfectly on the tablet for reading. However, some users have also mentioned that, There is a 2 second delay before the tablet fully loads the next setting tab.',\n",
       " 'For Apple iPad 2, It runs apps very smooth. However, some users have also mentioned that, There is no USB support for mass storage.\\nFor Samsung Galaxy Tab 4, The Kindle app works perfectly on the tablet for reading. However, some users have also mentioned that, The biggest disappointment of all this Christmas.',\n",
       " 'For Apple iPad 2, It runs apps very smooth. However, some users have also mentioned that, There is no USB support for mass storage.\\nFor Samsung Galaxy Tab 4, The Kindle app works perfectly on the tablet for reading. However, some users have also mentioned that, the touch-screen facility is at best terrible.',\n",
       " 'For Apple iPad 2, It runs apps very smooth. However, some users have also mentioned that, There is no USB support for mass storage.\\nFor Samsung Galaxy Tab 4, The Kindle app works perfectly on the tablet for reading. However, some users have also mentioned that, has finally died.',\n",
       " 'For Apple iPad 2, It runs apps very smooth. However, some users have also mentioned that, There is no USB support for mass storage.\\nFor Samsung Galaxy Tab 4, The Kindle app works perfectly on the tablet for reading. However, some users have also mentioned that, stuck at boot screen . went into odin mode.',\n",
       " 'For Apple iPad 2, It runs apps very smooth. However, some users have also mentioned that, There is no USB support for mass storage.\\nFor Samsung Galaxy Tab 4, The Kindle app works perfectly on the tablet for reading. However, some users have also mentioned that, that lasted less than 4 months.',\n",
       " 'For Apple iPad 2, It runs apps very smooth. However, some users have also mentioned that, There is no USB support for mass storage.\\nFor Samsung Galaxy Tab 4, The Kindle app works perfectly on the tablet for reading. However, some users have also mentioned that, the internal LCD Panel was cracked.',\n",
       " 'For Apple iPad 2, It runs apps very smooth. However, some users have also mentioned that, There is no USB support for mass storage.\\nFor Samsung Galaxy Tab 4, The Kindle app works perfectly on the tablet for reading. However, some users have also mentioned that, screen breaking.',\n",
       " 'For Apple iPad 2, It runs apps very smooth. However, some users have also mentioned that, There is no USB support for mass storage.\\nFor Samsung Galaxy Tab 4, The Kindle app works perfectly on the tablet for reading. However, some users have also mentioned that, It is NOT worth $ 175 with the mediocre display.',\n",
       " 'For Apple iPad 2, It runs apps very smooth. However, some users have also mentioned that, There is no USB support for mass storage.\\nFor Samsung Galaxy Tab 4, The Kindle app works perfectly on the tablet for reading. However, some users have also mentioned that, Kindle reader loads in about 4 seconds.',\n",
       " 'For Apple iPad 2, It runs apps very smooth. However, some users have also mentioned that, There is no USB support for mass storage.\\nFor Samsung Galaxy Tab 4, The Kindle app works perfectly on the tablet for reading. However, some users have also mentioned that, jump glitching the entire time.',\n",
       " 'For Apple iPad 2, It runs apps very smooth. However, some users have also mentioned that, There is no USB support for mass storage.\\nFor Samsung Galaxy Tab 4, The Kindle app works perfectly on the tablet for reading. However, some users have also mentioned that, Samsung is guilty here of this one.',\n",
       " 'For Apple iPad 2, It runs apps very smooth. However, some users have also mentioned that, There is no USB support for mass storage.\\nFor Samsung Galaxy Tab 4, The Kindle app works perfectly on the tablet for reading. However, some users have also mentioned that, A waste of money.',\n",
       " 'For Apple iPad 2, It runs apps very smooth. However, some users have also mentioned that, There is no USB support for mass storage.\\nFor Samsung Galaxy Tab 4, The Kindle app works perfectly on the tablet for reading. However, some users have also mentioned that, the camera SUCKS.',\n",
       " 'For Apple iPad 2, It runs apps very smooth. However, some users have also mentioned that, There is no USB support for mass storage.\\nFor Samsung Galaxy Tab 4, Samsung products are really awesome great design and excellent features as well. However, some users have also mentioned that, the warranty was voided.',\n",
       " 'For Apple iPad 2, It runs apps very smooth. However, some users have also mentioned that, There is no USB support for mass storage.\\nFor Samsung Galaxy Tab 4, Samsung products are really awesome great design and excellent features as well. However, some users have also mentioned that, the audio is terribly broken.',\n",
       " 'For Apple iPad 2, It runs apps very smooth. However, some users have also mentioned that, There is no USB support for mass storage.\\nFor Samsung Galaxy Tab 4, Samsung products are really awesome great design and excellent features as well. However, some users have also mentioned that, Samsung has the worst customer service.',\n",
       " 'For Apple iPad 2, It runs apps very smooth. However, some users have also mentioned that, There is no USB support for mass storage.\\nFor Samsung Galaxy Tab 4, Samsung products are really awesome great design and excellent features as well. However, some users have also mentioned that, the first time was defective.',\n",
       " 'For Apple iPad 2, It runs apps very smooth. However, some users have also mentioned that, There is no USB support for mass storage.\\nFor Samsung Galaxy Tab 4, Samsung products are really awesome great design and excellent features as well. However, some users have also mentioned that, There is a 2 second delay before the tablet fully loads the next setting tab.',\n",
       " 'For Apple iPad 2, It runs apps very smooth. However, some users have also mentioned that, There is no USB support for mass storage.\\nFor Samsung Galaxy Tab 4, Samsung products are really awesome great design and excellent features as well. However, some users have also mentioned that, The biggest disappointment of all this Christmas.',\n",
       " 'For Apple iPad 2, It runs apps very smooth. However, some users have also mentioned that, There is no USB support for mass storage.\\nFor Samsung Galaxy Tab 4, Samsung products are really awesome great design and excellent features as well. However, some users have also mentioned that, the touch-screen facility is at best terrible.',\n",
       " 'For Apple iPad 2, It runs apps very smooth. However, some users have also mentioned that, There is no USB support for mass storage.\\nFor Samsung Galaxy Tab 4, Samsung products are really awesome great design and excellent features as well. However, some users have also mentioned that, has finally died.',\n",
       " 'For Apple iPad 2, It runs apps very smooth. However, some users have also mentioned that, There is no USB support for mass storage.\\nFor Samsung Galaxy Tab 4, Samsung products are really awesome great design and excellent features as well. However, some users have also mentioned that, stuck at boot screen . went into odin mode.',\n",
       " 'For Apple iPad 2, It runs apps very smooth. However, some users have also mentioned that, There is no USB support for mass storage.\\nFor Samsung Galaxy Tab 4, Samsung products are really awesome great design and excellent features as well. However, some users have also mentioned that, that lasted less than 4 months.',\n",
       " 'For Apple iPad 2, It runs apps very smooth. However, some users have also mentioned that, There is no USB support for mass storage.\\nFor Samsung Galaxy Tab 4, Samsung products are really awesome great design and excellent features as well. However, some users have also mentioned that, the internal LCD Panel was cracked.',\n",
       " 'For Apple iPad 2, It runs apps very smooth. However, some users have also mentioned that, There is no USB support for mass storage.\\nFor Samsung Galaxy Tab 4, Samsung products are really awesome great design and excellent features as well. However, some users have also mentioned that, screen breaking.',\n",
       " 'For Apple iPad 2, It runs apps very smooth. However, some users have also mentioned that, There is no USB support for mass storage.\\nFor Samsung Galaxy Tab 4, Samsung products are really awesome great design and excellent features as well. However, some users have also mentioned that, It is NOT worth $ 175 with the mediocre display.',\n",
       " 'For Apple iPad 2, It runs apps very smooth. However, some users have also mentioned that, There is no USB support for mass storage.\\nFor Samsung Galaxy Tab 4, Samsung products are really awesome great design and excellent features as well. However, some users have also mentioned that, Kindle reader loads in about 4 seconds.',\n",
       " 'For Apple iPad 2, It runs apps very smooth. However, some users have also mentioned that, There is no USB support for mass storage.\\nFor Samsung Galaxy Tab 4, Samsung products are really awesome great design and excellent features as well. However, some users have also mentioned that, jump glitching the entire time.',\n",
       " 'For Apple iPad 2, It runs apps very smooth. However, some users have also mentioned that, There is no USB support for mass storage.\\nFor Samsung Galaxy Tab 4, Samsung products are really awesome great design and excellent features as well. However, some users have also mentioned that, Samsung is guilty here of this one.',\n",
       " 'For Apple iPad 2, It runs apps very smooth. However, some users have also mentioned that, There is no USB support for mass storage.\\nFor Samsung Galaxy Tab 4, Samsung products are really awesome great design and excellent features as well. However, some users have also mentioned that, A waste of money.',\n",
       " 'For Apple iPad 2, It runs apps very smooth. However, some users have also mentioned that, There is no USB support for mass storage.\\nFor Samsung Galaxy Tab 4, Samsung products are really awesome great design and excellent features as well. However, some users have also mentioned that, the camera SUCKS.',\n",
       " 'For Apple iPad 2, It runs apps very smooth. However, some users have also mentioned that, There is no USB support for mass storage.\\nFor Samsung Galaxy Tab 4, The graphics are beautiful. However, some users have also mentioned that, the warranty was voided.',\n",
       " 'For Apple iPad 2, It runs apps very smooth. However, some users have also mentioned that, There is no USB support for mass storage.\\nFor Samsung Galaxy Tab 4, The graphics are beautiful. However, some users have also mentioned that, the audio is terribly broken.',\n",
       " 'For Apple iPad 2, It runs apps very smooth. However, some users have also mentioned that, There is no USB support for mass storage.\\nFor Samsung Galaxy Tab 4, The graphics are beautiful. However, some users have also mentioned that, Samsung has the worst customer service.',\n",
       " 'For Apple iPad 2, It runs apps very smooth. However, some users have also mentioned that, There is no USB support for mass storage.\\nFor Samsung Galaxy Tab 4, The graphics are beautiful. However, some users have also mentioned that, the first time was defective.',\n",
       " 'For Apple iPad 2, It runs apps very smooth. However, some users have also mentioned that, There is no USB support for mass storage.\\nFor Samsung Galaxy Tab 4, The graphics are beautiful. However, some users have also mentioned that, There is a 2 second delay before the tablet fully loads the next setting tab.',\n",
       " 'For Apple iPad 2, It runs apps very smooth. However, some users have also mentioned that, There is no USB support for mass storage.\\nFor Samsung Galaxy Tab 4, The graphics are beautiful. However, some users have also mentioned that, The biggest disappointment of all this Christmas.',\n",
       " 'For Apple iPad 2, It runs apps very smooth. However, some users have also mentioned that, There is no USB support for mass storage.\\nFor Samsung Galaxy Tab 4, The graphics are beautiful. However, some users have also mentioned that, the touch-screen facility is at best terrible.',\n",
       " 'For Apple iPad 2, It runs apps very smooth. However, some users have also mentioned that, There is no USB support for mass storage.\\nFor Samsung Galaxy Tab 4, The graphics are beautiful. However, some users have also mentioned that, has finally died.',\n",
       " 'For Apple iPad 2, It runs apps very smooth. However, some users have also mentioned that, There is no USB support for mass storage.\\nFor Samsung Galaxy Tab 4, The graphics are beautiful. However, some users have also mentioned that, stuck at boot screen . went into odin mode.',\n",
       " 'For Apple iPad 2, It runs apps very smooth. However, some users have also mentioned that, There is no USB support for mass storage.\\nFor Samsung Galaxy Tab 4, The graphics are beautiful. However, some users have also mentioned that, that lasted less than 4 months.',\n",
       " 'For Apple iPad 2, It runs apps very smooth. However, some users have also mentioned that, There is no USB support for mass storage.\\nFor Samsung Galaxy Tab 4, The graphics are beautiful. However, some users have also mentioned that, the internal LCD Panel was cracked.',\n",
       " 'For Apple iPad 2, It runs apps very smooth. However, some users have also mentioned that, There is no USB support for mass storage.\\nFor Samsung Galaxy Tab 4, The graphics are beautiful. However, some users have also mentioned that, screen breaking.',\n",
       " 'For Apple iPad 2, It runs apps very smooth. However, some users have also mentioned that, There is no USB support for mass storage.\\nFor Samsung Galaxy Tab 4, The graphics are beautiful. However, some users have also mentioned that, It is NOT worth $ 175 with the mediocre display.',\n",
       " 'For Apple iPad 2, It runs apps very smooth. However, some users have also mentioned that, There is no USB support for mass storage.\\nFor Samsung Galaxy Tab 4, The graphics are beautiful. However, some users have also mentioned that, Kindle reader loads in about 4 seconds.',\n",
       " 'For Apple iPad 2, It runs apps very smooth. However, some users have also mentioned that, There is no USB support for mass storage.\\nFor Samsung Galaxy Tab 4, The graphics are beautiful. However, some users have also mentioned that, jump glitching the entire time.',\n",
       " 'For Apple iPad 2, It runs apps very smooth. However, some users have also mentioned that, There is no USB support for mass storage.\\nFor Samsung Galaxy Tab 4, The graphics are beautiful. However, some users have also mentioned that, Samsung is guilty here of this one.',\n",
       " 'For Apple iPad 2, It runs apps very smooth. However, some users have also mentioned that, There is no USB support for mass storage.\\nFor Samsung Galaxy Tab 4, The graphics are beautiful. However, some users have also mentioned that, A waste of money.',\n",
       " 'For Apple iPad 2, It runs apps very smooth. However, some users have also mentioned that, There is no USB support for mass storage.\\nFor Samsung Galaxy Tab 4, The graphics are beautiful. However, some users have also mentioned that, the camera SUCKS.',\n",
       " 'For Apple iPad 2, It runs apps very smooth. However, some users have also mentioned that, There is no USB support for mass storage.\\nFor Samsung Galaxy Tab 4, This thing has worked really well over the last 6 months. However, some users have also mentioned that, the warranty was voided.',\n",
       " 'For Apple iPad 2, It runs apps very smooth. However, some users have also mentioned that, There is no USB support for mass storage.\\nFor Samsung Galaxy Tab 4, This thing has worked really well over the last 6 months. However, some users have also mentioned that, the audio is terribly broken.',\n",
       " 'For Apple iPad 2, It runs apps very smooth. However, some users have also mentioned that, There is no USB support for mass storage.\\nFor Samsung Galaxy Tab 4, This thing has worked really well over the last 6 months. However, some users have also mentioned that, Samsung has the worst customer service.',\n",
       " 'For Apple iPad 2, It runs apps very smooth. However, some users have also mentioned that, There is no USB support for mass storage.\\nFor Samsung Galaxy Tab 4, This thing has worked really well over the last 6 months. However, some users have also mentioned that, the first time was defective.',\n",
       " 'For Apple iPad 2, It runs apps very smooth. However, some users have also mentioned that, There is no USB support for mass storage.\\nFor Samsung Galaxy Tab 4, This thing has worked really well over the last 6 months. However, some users have also mentioned that, There is a 2 second delay before the tablet fully loads the next setting tab.',\n",
       " 'For Apple iPad 2, It runs apps very smooth. However, some users have also mentioned that, There is no USB support for mass storage.\\nFor Samsung Galaxy Tab 4, This thing has worked really well over the last 6 months. However, some users have also mentioned that, The biggest disappointment of all this Christmas.',\n",
       " 'For Apple iPad 2, It runs apps very smooth. However, some users have also mentioned that, There is no USB support for mass storage.\\nFor Samsung Galaxy Tab 4, This thing has worked really well over the last 6 months. However, some users have also mentioned that, the touch-screen facility is at best terrible.',\n",
       " 'For Apple iPad 2, It runs apps very smooth. However, some users have also mentioned that, There is no USB support for mass storage.\\nFor Samsung Galaxy Tab 4, This thing has worked really well over the last 6 months. However, some users have also mentioned that, has finally died.',\n",
       " 'For Apple iPad 2, It runs apps very smooth. However, some users have also mentioned that, There is no USB support for mass storage.\\nFor Samsung Galaxy Tab 4, This thing has worked really well over the last 6 months. However, some users have also mentioned that, stuck at boot screen . went into odin mode.',\n",
       " 'For Apple iPad 2, It runs apps very smooth. However, some users have also mentioned that, There is no USB support for mass storage.\\nFor Samsung Galaxy Tab 4, This thing has worked really well over the last 6 months. However, some users have also mentioned that, that lasted less than 4 months.',\n",
       " 'For Apple iPad 2, It runs apps very smooth. However, some users have also mentioned that, There is no USB support for mass storage.\\nFor Samsung Galaxy Tab 4, This thing has worked really well over the last 6 months. However, some users have also mentioned that, the internal LCD Panel was cracked.',\n",
       " 'For Apple iPad 2, It runs apps very smooth. However, some users have also mentioned that, There is no USB support for mass storage.\\nFor Samsung Galaxy Tab 4, This thing has worked really well over the last 6 months. However, some users have also mentioned that, screen breaking.',\n",
       " 'For Apple iPad 2, It runs apps very smooth. However, some users have also mentioned that, There is no USB support for mass storage.\\nFor Samsung Galaxy Tab 4, This thing has worked really well over the last 6 months. However, some users have also mentioned that, It is NOT worth $ 175 with the mediocre display.',\n",
       " 'For Apple iPad 2, It runs apps very smooth. However, some users have also mentioned that, There is no USB support for mass storage.\\nFor Samsung Galaxy Tab 4, This thing has worked really well over the last 6 months. However, some users have also mentioned that, Kindle reader loads in about 4 seconds.',\n",
       " 'For Apple iPad 2, It runs apps very smooth. However, some users have also mentioned that, There is no USB support for mass storage.\\nFor Samsung Galaxy Tab 4, This thing has worked really well over the last 6 months. However, some users have also mentioned that, jump glitching the entire time.',\n",
       " 'For Apple iPad 2, It runs apps very smooth. However, some users have also mentioned that, There is no USB support for mass storage.\\nFor Samsung Galaxy Tab 4, This thing has worked really well over the last 6 months. However, some users have also mentioned that, Samsung is guilty here of this one.',\n",
       " 'For Apple iPad 2, It runs apps very smooth. However, some users have also mentioned that, There is no USB support for mass storage.\\nFor Samsung Galaxy Tab 4, This thing has worked really well over the last 6 months. However, some users have also mentioned that, A waste of money.',\n",
       " 'For Apple iPad 2, It runs apps very smooth. However, some users have also mentioned that, There is no USB support for mass storage.\\nFor Samsung Galaxy Tab 4, This thing has worked really well over the last 6 months. However, some users have also mentioned that, the camera SUCKS.',\n",
       " 'For Apple iPad 2, It runs apps very smooth. However, some users have also mentioned that, There is no USB support for mass storage.\\nFor Samsung Galaxy Tab 4, screen , resolution and finish are very nice . nice form factor. However, some users have also mentioned that, the warranty was voided.',\n",
       " 'For Apple iPad 2, It runs apps very smooth. However, some users have also mentioned that, There is no USB support for mass storage.\\nFor Samsung Galaxy Tab 4, screen , resolution and finish are very nice . nice form factor. However, some users have also mentioned that, the audio is terribly broken.',\n",
       " 'For Apple iPad 2, It runs apps very smooth. However, some users have also mentioned that, There is no USB support for mass storage.\\nFor Samsung Galaxy Tab 4, screen , resolution and finish are very nice . nice form factor. However, some users have also mentioned that, Samsung has the worst customer service.',\n",
       " 'For Apple iPad 2, It runs apps very smooth. However, some users have also mentioned that, There is no USB support for mass storage.\\nFor Samsung Galaxy Tab 4, screen , resolution and finish are very nice . nice form factor. However, some users have also mentioned that, the first time was defective.',\n",
       " 'For Apple iPad 2, It runs apps very smooth. However, some users have also mentioned that, There is no USB support for mass storage.\\nFor Samsung Galaxy Tab 4, screen , resolution and finish are very nice . nice form factor. However, some users have also mentioned that, There is a 2 second delay before the tablet fully loads the next setting tab.',\n",
       " 'For Apple iPad 2, It runs apps very smooth. However, some users have also mentioned that, There is no USB support for mass storage.\\nFor Samsung Galaxy Tab 4, screen , resolution and finish are very nice . nice form factor. However, some users have also mentioned that, The biggest disappointment of all this Christmas.',\n",
       " 'For Apple iPad 2, It runs apps very smooth. However, some users have also mentioned that, There is no USB support for mass storage.\\nFor Samsung Galaxy Tab 4, screen , resolution and finish are very nice . nice form factor. However, some users have also mentioned that, the touch-screen facility is at best terrible.',\n",
       " 'For Apple iPad 2, It runs apps very smooth. However, some users have also mentioned that, There is no USB support for mass storage.\\nFor Samsung Galaxy Tab 4, screen , resolution and finish are very nice . nice form factor. However, some users have also mentioned that, has finally died.',\n",
       " 'For Apple iPad 2, It runs apps very smooth. However, some users have also mentioned that, There is no USB support for mass storage.\\nFor Samsung Galaxy Tab 4, screen , resolution and finish are very nice . nice form factor. However, some users have also mentioned that, stuck at boot screen . went into odin mode.',\n",
       " 'For Apple iPad 2, It runs apps very smooth. However, some users have also mentioned that, There is no USB support for mass storage.\\nFor Samsung Galaxy Tab 4, screen , resolution and finish are very nice . nice form factor. However, some users have also mentioned that, that lasted less than 4 months.',\n",
       " 'For Apple iPad 2, It runs apps very smooth. However, some users have also mentioned that, There is no USB support for mass storage.\\nFor Samsung Galaxy Tab 4, screen , resolution and finish are very nice . nice form factor. However, some users have also mentioned that, the internal LCD Panel was cracked.',\n",
       " 'For Apple iPad 2, It runs apps very smooth. However, some users have also mentioned that, There is no USB support for mass storage.\\nFor Samsung Galaxy Tab 4, screen , resolution and finish are very nice . nice form factor. However, some users have also mentioned that, screen breaking.',\n",
       " 'For Apple iPad 2, It runs apps very smooth. However, some users have also mentioned that, There is no USB support for mass storage.\\nFor Samsung Galaxy Tab 4, screen , resolution and finish are very nice . nice form factor. However, some users have also mentioned that, It is NOT worth $ 175 with the mediocre display.',\n",
       " 'For Apple iPad 2, It runs apps very smooth. However, some users have also mentioned that, There is no USB support for mass storage.\\nFor Samsung Galaxy Tab 4, screen , resolution and finish are very nice . nice form factor. However, some users have also mentioned that, Kindle reader loads in about 4 seconds.',\n",
       " 'For Apple iPad 2, It runs apps very smooth. However, some users have also mentioned that, There is no USB support for mass storage.\\nFor Samsung Galaxy Tab 4, screen , resolution and finish are very nice . nice form factor. However, some users have also mentioned that, jump glitching the entire time.',\n",
       " 'For Apple iPad 2, It runs apps very smooth. However, some users have also mentioned that, There is no USB support for mass storage.\\nFor Samsung Galaxy Tab 4, screen , resolution and finish are very nice . nice form factor. However, some users have also mentioned that, Samsung is guilty here of this one.',\n",
       " 'For Apple iPad 2, It runs apps very smooth. However, some users have also mentioned that, There is no USB support for mass storage.\\nFor Samsung Galaxy Tab 4, screen , resolution and finish are very nice . nice form factor. However, some users have also mentioned that, A waste of money.',\n",
       " 'For Apple iPad 2, It runs apps very smooth. However, some users have also mentioned that, There is no USB support for mass storage.\\nFor Samsung Galaxy Tab 4, screen , resolution and finish are very nice . nice form factor. However, some users have also mentioned that, the camera SUCKS.',\n",
       " 'For Apple iPad 2, It runs apps very smooth. However, some users have also mentioned that, There is no USB support for mass storage.\\nFor Samsung Galaxy Tab 4, Definitely a buy. However, some users have also mentioned that, the warranty was voided.',\n",
       " 'For Apple iPad 2, It runs apps very smooth. However, some users have also mentioned that, There is no USB support for mass storage.\\nFor Samsung Galaxy Tab 4, Definitely a buy. However, some users have also mentioned that, the audio is terribly broken.',\n",
       " 'For Apple iPad 2, It runs apps very smooth. However, some users have also mentioned that, There is no USB support for mass storage.\\nFor Samsung Galaxy Tab 4, Definitely a buy. However, some users have also mentioned that, Samsung has the worst customer service.',\n",
       " 'For Apple iPad 2, It runs apps very smooth. However, some users have also mentioned that, There is no USB support for mass storage.\\nFor Samsung Galaxy Tab 4, Definitely a buy. However, some users have also mentioned that, the first time was defective.',\n",
       " 'For Apple iPad 2, It runs apps very smooth. However, some users have also mentioned that, There is no USB support for mass storage.\\nFor Samsung Galaxy Tab 4, Definitely a buy. However, some users have also mentioned that, There is a 2 second delay before the tablet fully loads the next setting tab.',\n",
       " 'For Apple iPad 2, It runs apps very smooth. However, some users have also mentioned that, There is no USB support for mass storage.\\nFor Samsung Galaxy Tab 4, Definitely a buy. However, some users have also mentioned that, The biggest disappointment of all this Christmas.',\n",
       " 'For Apple iPad 2, It runs apps very smooth. However, some users have also mentioned that, There is no USB support for mass storage.\\nFor Samsung Galaxy Tab 4, Definitely a buy. However, some users have also mentioned that, the touch-screen facility is at best terrible.',\n",
       " 'For Apple iPad 2, It runs apps very smooth. However, some users have also mentioned that, There is no USB support for mass storage.\\nFor Samsung Galaxy Tab 4, Definitely a buy. However, some users have also mentioned that, has finally died.',\n",
       " 'For Apple iPad 2, It runs apps very smooth. However, some users have also mentioned that, There is no USB support for mass storage.\\nFor Samsung Galaxy Tab 4, Definitely a buy. However, some users have also mentioned that, stuck at boot screen . went into odin mode.',\n",
       " 'For Apple iPad 2, It runs apps very smooth. However, some users have also mentioned that, There is no USB support for mass storage.\\nFor Samsung Galaxy Tab 4, Definitely a buy. However, some users have also mentioned that, that lasted less than 4 months.',\n",
       " 'For Apple iPad 2, It runs apps very smooth. However, some users have also mentioned that, There is no USB support for mass storage.\\nFor Samsung Galaxy Tab 4, Definitely a buy. However, some users have also mentioned that, the internal LCD Panel was cracked.',\n",
       " 'For Apple iPad 2, It runs apps very smooth. However, some users have also mentioned that, There is no USB support for mass storage.\\nFor Samsung Galaxy Tab 4, Definitely a buy. However, some users have also mentioned that, screen breaking.',\n",
       " 'For Apple iPad 2, It runs apps very smooth. However, some users have also mentioned that, There is no USB support for mass storage.\\nFor Samsung Galaxy Tab 4, Definitely a buy. However, some users have also mentioned that, It is NOT worth $ 175 with the mediocre display.',\n",
       " 'For Apple iPad 2, It runs apps very smooth. However, some users have also mentioned that, There is no USB support for mass storage.\\nFor Samsung Galaxy Tab 4, Definitely a buy. However, some users have also mentioned that, Kindle reader loads in about 4 seconds.',\n",
       " 'For Apple iPad 2, It runs apps very smooth. However, some users have also mentioned that, There is no USB support for mass storage.\\nFor Samsung Galaxy Tab 4, Definitely a buy. However, some users have also mentioned that, jump glitching the entire time.',\n",
       " 'For Apple iPad 2, It runs apps very smooth. However, some users have also mentioned that, There is no USB support for mass storage.\\nFor Samsung Galaxy Tab 4, Definitely a buy. However, some users have also mentioned that, Samsung is guilty here of this one.',\n",
       " 'For Apple iPad 2, It runs apps very smooth. However, some users have also mentioned that, There is no USB support for mass storage.\\nFor Samsung Galaxy Tab 4, Definitely a buy. However, some users have also mentioned that, A waste of money.',\n",
       " 'For Apple iPad 2, It runs apps very smooth. However, some users have also mentioned that, There is no USB support for mass storage.\\nFor Samsung Galaxy Tab 4, Definitely a buy. However, some users have also mentioned that, the camera SUCKS.',\n",
       " 'For Apple iPad 2, It runs apps very smooth. However, some users have also mentioned that, There is no USB support for mass storage.\\nFor Samsung Galaxy Tab 4, The multi user mode is gold. However, some users have also mentioned that, the warranty was voided.',\n",
       " 'For Apple iPad 2, It runs apps very smooth. However, some users have also mentioned that, There is no USB support for mass storage.\\nFor Samsung Galaxy Tab 4, The multi user mode is gold. However, some users have also mentioned that, the audio is terribly broken.',\n",
       " 'For Apple iPad 2, It runs apps very smooth. However, some users have also mentioned that, There is no USB support for mass storage.\\nFor Samsung Galaxy Tab 4, The multi user mode is gold. However, some users have also mentioned that, Samsung has the worst customer service.',\n",
       " 'For Apple iPad 2, It runs apps very smooth. However, some users have also mentioned that, There is no USB support for mass storage.\\nFor Samsung Galaxy Tab 4, The multi user mode is gold. However, some users have also mentioned that, the first time was defective.',\n",
       " 'For Apple iPad 2, It runs apps very smooth. However, some users have also mentioned that, There is no USB support for mass storage.\\nFor Samsung Galaxy Tab 4, The multi user mode is gold. However, some users have also mentioned that, There is a 2 second delay before the tablet fully loads the next setting tab.',\n",
       " 'For Apple iPad 2, It runs apps very smooth. However, some users have also mentioned that, There is no USB support for mass storage.\\nFor Samsung Galaxy Tab 4, The multi user mode is gold. However, some users have also mentioned that, The biggest disappointment of all this Christmas.',\n",
       " 'For Apple iPad 2, It runs apps very smooth. However, some users have also mentioned that, There is no USB support for mass storage.\\nFor Samsung Galaxy Tab 4, The multi user mode is gold. However, some users have also mentioned that, the touch-screen facility is at best terrible.',\n",
       " 'For Apple iPad 2, It runs apps very smooth. However, some users have also mentioned that, There is no USB support for mass storage.\\nFor Samsung Galaxy Tab 4, The multi user mode is gold. However, some users have also mentioned that, has finally died.',\n",
       " 'For Apple iPad 2, It runs apps very smooth. However, some users have also mentioned that, There is no USB support for mass storage.\\nFor Samsung Galaxy Tab 4, The multi user mode is gold. However, some users have also mentioned that, stuck at boot screen . went into odin mode.',\n",
       " 'For Apple iPad 2, It runs apps very smooth. However, some users have also mentioned that, There is no USB support for mass storage.\\nFor Samsung Galaxy Tab 4, The multi user mode is gold. However, some users have also mentioned that, that lasted less than 4 months.',\n",
       " 'For Apple iPad 2, It runs apps very smooth. However, some users have also mentioned that, There is no USB support for mass storage.\\nFor Samsung Galaxy Tab 4, The multi user mode is gold. However, some users have also mentioned that, the internal LCD Panel was cracked.',\n",
       " 'For Apple iPad 2, It runs apps very smooth. However, some users have also mentioned that, There is no USB support for mass storage.\\nFor Samsung Galaxy Tab 4, The multi user mode is gold. However, some users have also mentioned that, screen breaking.',\n",
       " 'For Apple iPad 2, It runs apps very smooth. However, some users have also mentioned that, There is no USB support for mass storage.\\nFor Samsung Galaxy Tab 4, The multi user mode is gold. However, some users have also mentioned that, It is NOT worth $ 175 with the mediocre display.',\n",
       " 'For Apple iPad 2, It runs apps very smooth. However, some users have also mentioned that, There is no USB support for mass storage.\\nFor Samsung Galaxy Tab 4, The multi user mode is gold. However, some users have also mentioned that, Kindle reader loads in about 4 seconds.',\n",
       " 'For Apple iPad 2, It runs apps very smooth. However, some users have also mentioned that, There is no USB support for mass storage.\\nFor Samsung Galaxy Tab 4, The multi user mode is gold. However, some users have also mentioned that, jump glitching the entire time.',\n",
       " 'For Apple iPad 2, It runs apps very smooth. However, some users have also mentioned that, There is no USB support for mass storage.\\nFor Samsung Galaxy Tab 4, The multi user mode is gold. However, some users have also mentioned that, Samsung is guilty here of this one.',\n",
       " 'For Apple iPad 2, It runs apps very smooth. However, some users have also mentioned that, There is no USB support for mass storage.\\nFor Samsung Galaxy Tab 4, The multi user mode is gold. However, some users have also mentioned that, A waste of money.',\n",
       " 'For Apple iPad 2, It runs apps very smooth. However, some users have also mentioned that, There is no USB support for mass storage.\\nFor Samsung Galaxy Tab 4, The multi user mode is gold. However, some users have also mentioned that, the camera SUCKS.',\n",
       " 'For Apple iPad 2, It runs apps very smooth. However, some users have also mentioned that, There is no USB support for mass storage.\\nFor Samsung Galaxy Tab 4, This tab does the job of a big samsung galaxy fone. However, some users have also mentioned that, the warranty was voided.',\n",
       " 'For Apple iPad 2, It runs apps very smooth. However, some users have also mentioned that, There is no USB support for mass storage.\\nFor Samsung Galaxy Tab 4, This tab does the job of a big samsung galaxy fone. However, some users have also mentioned that, the audio is terribly broken.',\n",
       " 'For Apple iPad 2, It runs apps very smooth. However, some users have also mentioned that, There is no USB support for mass storage.\\nFor Samsung Galaxy Tab 4, This tab does the job of a big samsung galaxy fone. However, some users have also mentioned that, Samsung has the worst customer service.',\n",
       " 'For Apple iPad 2, It runs apps very smooth. However, some users have also mentioned that, There is no USB support for mass storage.\\nFor Samsung Galaxy Tab 4, This tab does the job of a big samsung galaxy fone. However, some users have also mentioned that, the first time was defective.',\n",
       " 'For Apple iPad 2, It runs apps very smooth. However, some users have also mentioned that, There is no USB support for mass storage.\\nFor Samsung Galaxy Tab 4, This tab does the job of a big samsung galaxy fone. However, some users have also mentioned that, There is a 2 second delay before the tablet fully loads the next setting tab.',\n",
       " 'For Apple iPad 2, It runs apps very smooth. However, some users have also mentioned that, There is no USB support for mass storage.\\nFor Samsung Galaxy Tab 4, This tab does the job of a big samsung galaxy fone. However, some users have also mentioned that, The biggest disappointment of all this Christmas.',\n",
       " 'For Apple iPad 2, It runs apps very smooth. However, some users have also mentioned that, There is no USB support for mass storage.\\nFor Samsung Galaxy Tab 4, This tab does the job of a big samsung galaxy fone. However, some users have also mentioned that, the touch-screen facility is at best terrible.',\n",
       " 'For Apple iPad 2, It runs apps very smooth. However, some users have also mentioned that, There is no USB support for mass storage.\\nFor Samsung Galaxy Tab 4, This tab does the job of a big samsung galaxy fone. However, some users have also mentioned that, has finally died.',\n",
       " 'For Apple iPad 2, It runs apps very smooth. However, some users have also mentioned that, There is no USB support for mass storage.\\nFor Samsung Galaxy Tab 4, This tab does the job of a big samsung galaxy fone. However, some users have also mentioned that, stuck at boot screen . went into odin mode.',\n",
       " 'For Apple iPad 2, It runs apps very smooth. However, some users have also mentioned that, There is no USB support for mass storage.\\nFor Samsung Galaxy Tab 4, This tab does the job of a big samsung galaxy fone. However, some users have also mentioned that, that lasted less than 4 months.',\n",
       " 'For Apple iPad 2, It runs apps very smooth. However, some users have also mentioned that, There is no USB support for mass storage.\\nFor Samsung Galaxy Tab 4, This tab does the job of a big samsung galaxy fone. However, some users have also mentioned that, the internal LCD Panel was cracked.',\n",
       " 'For Apple iPad 2, It runs apps very smooth. However, some users have also mentioned that, There is no USB support for mass storage.\\nFor Samsung Galaxy Tab 4, This tab does the job of a big samsung galaxy fone. However, some users have also mentioned that, screen breaking.',\n",
       " 'For Apple iPad 2, It runs apps very smooth. However, some users have also mentioned that, There is no USB support for mass storage.\\nFor Samsung Galaxy Tab 4, This tab does the job of a big samsung galaxy fone. However, some users have also mentioned that, It is NOT worth $ 175 with the mediocre display.',\n",
       " 'For Apple iPad 2, It runs apps very smooth. However, some users have also mentioned that, There is no USB support for mass storage.\\nFor Samsung Galaxy Tab 4, This tab does the job of a big samsung galaxy fone. However, some users have also mentioned that, Kindle reader loads in about 4 seconds.',\n",
       " 'For Apple iPad 2, It runs apps very smooth. However, some users have also mentioned that, There is no USB support for mass storage.\\nFor Samsung Galaxy Tab 4, This tab does the job of a big samsung galaxy fone. However, some users have also mentioned that, jump glitching the entire time.',\n",
       " 'For Apple iPad 2, It runs apps very smooth. However, some users have also mentioned that, There is no USB support for mass storage.\\nFor Samsung Galaxy Tab 4, This tab does the job of a big samsung galaxy fone. However, some users have also mentioned that, Samsung is guilty here of this one.',\n",
       " 'For Apple iPad 2, It runs apps very smooth. However, some users have also mentioned that, There is no USB support for mass storage.\\nFor Samsung Galaxy Tab 4, This tab does the job of a big samsung galaxy fone. However, some users have also mentioned that, A waste of money.',\n",
       " 'For Apple iPad 2, It runs apps very smooth. However, some users have also mentioned that, There is no USB support for mass storage.\\nFor Samsung Galaxy Tab 4, This tab does the job of a big samsung galaxy fone. However, some users have also mentioned that, the camera SUCKS.',\n",
       " 'For Apple iPad 2, It runs apps very smooth. However, some users have also mentioned that, There is no USB support for mass storage.\\nFor Samsung Galaxy Tab 4, Perfect size for surfing the web. However, some users have also mentioned that, the warranty was voided.',\n",
       " 'For Apple iPad 2, It runs apps very smooth. However, some users have also mentioned that, There is no USB support for mass storage.\\nFor Samsung Galaxy Tab 4, Perfect size for surfing the web. However, some users have also mentioned that, the audio is terribly broken.',\n",
       " 'For Apple iPad 2, It runs apps very smooth. However, some users have also mentioned that, There is no USB support for mass storage.\\nFor Samsung Galaxy Tab 4, Perfect size for surfing the web. However, some users have also mentioned that, Samsung has the worst customer service.',\n",
       " 'For Apple iPad 2, It runs apps very smooth. However, some users have also mentioned that, There is no USB support for mass storage.\\nFor Samsung Galaxy Tab 4, Perfect size for surfing the web. However, some users have also mentioned that, the first time was defective.',\n",
       " 'For Apple iPad 2, It runs apps very smooth. However, some users have also mentioned that, There is no USB support for mass storage.\\nFor Samsung Galaxy Tab 4, Perfect size for surfing the web. However, some users have also mentioned that, There is a 2 second delay before the tablet fully loads the next setting tab.',\n",
       " 'For Apple iPad 2, It runs apps very smooth. However, some users have also mentioned that, There is no USB support for mass storage.\\nFor Samsung Galaxy Tab 4, Perfect size for surfing the web. However, some users have also mentioned that, The biggest disappointment of all this Christmas.',\n",
       " 'For Apple iPad 2, It runs apps very smooth. However, some users have also mentioned that, There is no USB support for mass storage.\\nFor Samsung Galaxy Tab 4, Perfect size for surfing the web. However, some users have also mentioned that, the touch-screen facility is at best terrible.',\n",
       " 'For Apple iPad 2, It runs apps very smooth. However, some users have also mentioned that, There is no USB support for mass storage.\\nFor Samsung Galaxy Tab 4, Perfect size for surfing the web. However, some users have also mentioned that, has finally died.',\n",
       " 'For Apple iPad 2, It runs apps very smooth. However, some users have also mentioned that, There is no USB support for mass storage.\\nFor Samsung Galaxy Tab 4, Perfect size for surfing the web. However, some users have also mentioned that, stuck at boot screen . went into odin mode.',\n",
       " 'For Apple iPad 2, It runs apps very smooth. However, some users have also mentioned that, There is no USB support for mass storage.\\nFor Samsung Galaxy Tab 4, Perfect size for surfing the web. However, some users have also mentioned that, that lasted less than 4 months.',\n",
       " 'For Apple iPad 2, It runs apps very smooth. However, some users have also mentioned that, There is no USB support for mass storage.\\nFor Samsung Galaxy Tab 4, Perfect size for surfing the web. However, some users have also mentioned that, the internal LCD Panel was cracked.',\n",
       " 'For Apple iPad 2, It runs apps very smooth. However, some users have also mentioned that, There is no USB support for mass storage.\\nFor Samsung Galaxy Tab 4, Perfect size for surfing the web. However, some users have also mentioned that, screen breaking.',\n",
       " 'For Apple iPad 2, It runs apps very smooth. However, some users have also mentioned that, There is no USB support for mass storage.\\nFor Samsung Galaxy Tab 4, Perfect size for surfing the web. However, some users have also mentioned that, It is NOT worth $ 175 with the mediocre display.',\n",
       " 'For Apple iPad 2, It runs apps very smooth. However, some users have also mentioned that, There is no USB support for mass storage.\\nFor Samsung Galaxy Tab 4, Perfect size for surfing the web. However, some users have also mentioned that, Kindle reader loads in about 4 seconds.',\n",
       " 'For Apple iPad 2, It runs apps very smooth. However, some users have also mentioned that, There is no USB support for mass storage.\\nFor Samsung Galaxy Tab 4, Perfect size for surfing the web. However, some users have also mentioned that, jump glitching the entire time.',\n",
       " 'For Apple iPad 2, It runs apps very smooth. However, some users have also mentioned that, There is no USB support for mass storage.\\nFor Samsung Galaxy Tab 4, Perfect size for surfing the web. However, some users have also mentioned that, Samsung is guilty here of this one.',\n",
       " 'For Apple iPad 2, It runs apps very smooth. However, some users have also mentioned that, There is no USB support for mass storage.\\nFor Samsung Galaxy Tab 4, Perfect size for surfing the web. However, some users have also mentioned that, A waste of money.',\n",
       " 'For Apple iPad 2, It runs apps very smooth. However, some users have also mentioned that, There is no USB support for mass storage.\\nFor Samsung Galaxy Tab 4, Perfect size for surfing the web. However, some users have also mentioned that, the camera SUCKS.',\n",
       " 'For Apple iPad 2, It runs apps very smooth. However, some users have also mentioned that, There is no USB support for mass storage.\\nFor Samsung Galaxy Tab 4, Ok for 8 GB performance. However, some users have also mentioned that, the warranty was voided.',\n",
       " 'For Apple iPad 2, It runs apps very smooth. However, some users have also mentioned that, There is no USB support for mass storage.\\nFor Samsung Galaxy Tab 4, Ok for 8 GB performance. However, some users have also mentioned that, the audio is terribly broken.',\n",
       " 'For Apple iPad 2, It runs apps very smooth. However, some users have also mentioned that, There is no USB support for mass storage.\\nFor Samsung Galaxy Tab 4, Ok for 8 GB performance. However, some users have also mentioned that, Samsung has the worst customer service.',\n",
       " 'For Apple iPad 2, It runs apps very smooth. However, some users have also mentioned that, There is no USB support for mass storage.\\nFor Samsung Galaxy Tab 4, Ok for 8 GB performance. However, some users have also mentioned that, the first time was defective.',\n",
       " 'For Apple iPad 2, It runs apps very smooth. However, some users have also mentioned that, There is no USB support for mass storage.\\nFor Samsung Galaxy Tab 4, Ok for 8 GB performance. However, some users have also mentioned that, There is a 2 second delay before the tablet fully loads the next setting tab.',\n",
       " 'For Apple iPad 2, It runs apps very smooth. However, some users have also mentioned that, There is no USB support for mass storage.\\nFor Samsung Galaxy Tab 4, Ok for 8 GB performance. However, some users have also mentioned that, The biggest disappointment of all this Christmas.',\n",
       " 'For Apple iPad 2, It runs apps very smooth. However, some users have also mentioned that, There is no USB support for mass storage.\\nFor Samsung Galaxy Tab 4, Ok for 8 GB performance. However, some users have also mentioned that, the touch-screen facility is at best terrible.',\n",
       " 'For Apple iPad 2, It runs apps very smooth. However, some users have also mentioned that, There is no USB support for mass storage.\\nFor Samsung Galaxy Tab 4, Ok for 8 GB performance. However, some users have also mentioned that, has finally died.',\n",
       " 'For Apple iPad 2, It runs apps very smooth. However, some users have also mentioned that, There is no USB support for mass storage.\\nFor Samsung Galaxy Tab 4, Ok for 8 GB performance. However, some users have also mentioned that, stuck at boot screen . went into odin mode.',\n",
       " 'For Apple iPad 2, It runs apps very smooth. However, some users have also mentioned that, There is no USB support for mass storage.\\nFor Samsung Galaxy Tab 4, Ok for 8 GB performance. However, some users have also mentioned that, that lasted less than 4 months.',\n",
       " 'For Apple iPad 2, It runs apps very smooth. However, some users have also mentioned that, There is no USB support for mass storage.\\nFor Samsung Galaxy Tab 4, Ok for 8 GB performance. However, some users have also mentioned that, the internal LCD Panel was cracked.',\n",
       " 'For Apple iPad 2, It runs apps very smooth. However, some users have also mentioned that, There is no USB support for mass storage.\\nFor Samsung Galaxy Tab 4, Ok for 8 GB performance. However, some users have also mentioned that, screen breaking.',\n",
       " 'For Apple iPad 2, It runs apps very smooth. However, some users have also mentioned that, There is no USB support for mass storage.\\nFor Samsung Galaxy Tab 4, Ok for 8 GB performance. However, some users have also mentioned that, It is NOT worth $ 175 with the mediocre display.',\n",
       " 'For Apple iPad 2, It runs apps very smooth. However, some users have also mentioned that, There is no USB support for mass storage.\\nFor Samsung Galaxy Tab 4, Ok for 8 GB performance. However, some users have also mentioned that, Kindle reader loads in about 4 seconds.',\n",
       " 'For Apple iPad 2, It runs apps very smooth. However, some users have also mentioned that, There is no USB support for mass storage.\\nFor Samsung Galaxy Tab 4, Ok for 8 GB performance. However, some users have also mentioned that, jump glitching the entire time.',\n",
       " 'For Apple iPad 2, It runs apps very smooth. However, some users have also mentioned that, There is no USB support for mass storage.\\nFor Samsung Galaxy Tab 4, Ok for 8 GB performance. However, some users have also mentioned that, Samsung is guilty here of this one.',\n",
       " 'For Apple iPad 2, It runs apps very smooth. However, some users have also mentioned that, There is no USB support for mass storage.\\nFor Samsung Galaxy Tab 4, Ok for 8 GB performance. However, some users have also mentioned that, A waste of money.',\n",
       " 'For Apple iPad 2, It runs apps very smooth. However, some users have also mentioned that, There is no USB support for mass storage.\\nFor Samsung Galaxy Tab 4, Ok for 8 GB performance. However, some users have also mentioned that, the camera SUCKS.',\n",
       " 'For Apple iPad 2, It runs apps very smooth. However, some users have also mentioned that, There is no USB support for mass storage.\\nFor Samsung Galaxy Tab 4, great tablet a year later. However, some users have also mentioned that, the warranty was voided.',\n",
       " 'For Apple iPad 2, It runs apps very smooth. However, some users have also mentioned that, There is no USB support for mass storage.\\nFor Samsung Galaxy Tab 4, great tablet a year later. However, some users have also mentioned that, the audio is terribly broken.',\n",
       " 'For Apple iPad 2, It runs apps very smooth. However, some users have also mentioned that, There is no USB support for mass storage.\\nFor Samsung Galaxy Tab 4, great tablet a year later. However, some users have also mentioned that, Samsung has the worst customer service.',\n",
       " 'For Apple iPad 2, It runs apps very smooth. However, some users have also mentioned that, There is no USB support for mass storage.\\nFor Samsung Galaxy Tab 4, great tablet a year later. However, some users have also mentioned that, the first time was defective.',\n",
       " 'For Apple iPad 2, It runs apps very smooth. However, some users have also mentioned that, There is no USB support for mass storage.\\nFor Samsung Galaxy Tab 4, great tablet a year later. However, some users have also mentioned that, There is a 2 second delay before the tablet fully loads the next setting tab.',\n",
       " 'For Apple iPad 2, It runs apps very smooth. However, some users have also mentioned that, There is no USB support for mass storage.\\nFor Samsung Galaxy Tab 4, great tablet a year later. However, some users have also mentioned that, The biggest disappointment of all this Christmas.',\n",
       " 'For Apple iPad 2, It runs apps very smooth. However, some users have also mentioned that, There is no USB support for mass storage.\\nFor Samsung Galaxy Tab 4, great tablet a year later. However, some users have also mentioned that, the touch-screen facility is at best terrible.',\n",
       " 'For Apple iPad 2, It runs apps very smooth. However, some users have also mentioned that, There is no USB support for mass storage.\\nFor Samsung Galaxy Tab 4, great tablet a year later. However, some users have also mentioned that, has finally died.',\n",
       " 'For Apple iPad 2, It runs apps very smooth. However, some users have also mentioned that, There is no USB support for mass storage.\\nFor Samsung Galaxy Tab 4, great tablet a year later. However, some users have also mentioned that, stuck at boot screen . went into odin mode.',\n",
       " 'For Apple iPad 2, It runs apps very smooth. However, some users have also mentioned that, There is no USB support for mass storage.\\nFor Samsung Galaxy Tab 4, great tablet a year later. However, some users have also mentioned that, that lasted less than 4 months.',\n",
       " 'For Apple iPad 2, It runs apps very smooth. However, some users have also mentioned that, There is no USB support for mass storage.\\nFor Samsung Galaxy Tab 4, great tablet a year later. However, some users have also mentioned that, the internal LCD Panel was cracked.',\n",
       " 'For Apple iPad 2, It runs apps very smooth. However, some users have also mentioned that, There is no USB support for mass storage.\\nFor Samsung Galaxy Tab 4, great tablet a year later. However, some users have also mentioned that, screen breaking.',\n",
       " 'For Apple iPad 2, It runs apps very smooth. However, some users have also mentioned that, There is no USB support for mass storage.\\nFor Samsung Galaxy Tab 4, great tablet a year later. However, some users have also mentioned that, It is NOT worth $ 175 with the mediocre display.',\n",
       " 'For Apple iPad 2, It runs apps very smooth. However, some users have also mentioned that, There is no USB support for mass storage.\\nFor Samsung Galaxy Tab 4, great tablet a year later. However, some users have also mentioned that, Kindle reader loads in about 4 seconds.',\n",
       " 'For Apple iPad 2, It runs apps very smooth. However, some users have also mentioned that, There is no USB support for mass storage.\\nFor Samsung Galaxy Tab 4, great tablet a year later. However, some users have also mentioned that, jump glitching the entire time.',\n",
       " 'For Apple iPad 2, It runs apps very smooth. However, some users have also mentioned that, There is no USB support for mass storage.\\nFor Samsung Galaxy Tab 4, great tablet a year later. However, some users have also mentioned that, Samsung is guilty here of this one.',\n",
       " 'For Apple iPad 2, It runs apps very smooth. However, some users have also mentioned that, There is no USB support for mass storage.\\nFor Samsung Galaxy Tab 4, great tablet a year later. However, some users have also mentioned that, A waste of money.',\n",
       " 'For Apple iPad 2, It runs apps very smooth. However, some users have also mentioned that, There is no USB support for mass storage.\\nFor Samsung Galaxy Tab 4, great tablet a year later. However, some users have also mentioned that, the camera SUCKS.',\n",
       " 'For Apple iPad 2, It runs apps very smooth. However, some users have also mentioned that, There is no USB support for mass storage.\\nFor Samsung Galaxy Tab 4, way better than kindle fire . same size , same price point , does anything. However, some users have also mentioned that, the warranty was voided.',\n",
       " 'For Apple iPad 2, It runs apps very smooth. However, some users have also mentioned that, There is no USB support for mass storage.\\nFor Samsung Galaxy Tab 4, way better than kindle fire . same size , same price point , does anything. However, some users have also mentioned that, the audio is terribly broken.',\n",
       " 'For Apple iPad 2, It runs apps very smooth. However, some users have also mentioned that, There is no USB support for mass storage.\\nFor Samsung Galaxy Tab 4, way better than kindle fire . same size , same price point , does anything. However, some users have also mentioned that, Samsung has the worst customer service.',\n",
       " 'For Apple iPad 2, It runs apps very smooth. However, some users have also mentioned that, There is no USB support for mass storage.\\nFor Samsung Galaxy Tab 4, way better than kindle fire . same size , same price point , does anything. However, some users have also mentioned that, the first time was defective.',\n",
       " 'For Apple iPad 2, It runs apps very smooth. However, some users have also mentioned that, There is no USB support for mass storage.\\nFor Samsung Galaxy Tab 4, way better than kindle fire . same size , same price point , does anything. However, some users have also mentioned that, There is a 2 second delay before the tablet fully loads the next setting tab.',\n",
       " 'For Apple iPad 2, It runs apps very smooth. However, some users have also mentioned that, There is no USB support for mass storage.\\nFor Samsung Galaxy Tab 4, way better than kindle fire . same size , same price point , does anything. However, some users have also mentioned that, The biggest disappointment of all this Christmas.',\n",
       " 'For Apple iPad 2, It runs apps very smooth. However, some users have also mentioned that, There is no USB support for mass storage.\\nFor Samsung Galaxy Tab 4, way better than kindle fire . same size , same price point , does anything. However, some users have also mentioned that, the touch-screen facility is at best terrible.',\n",
       " 'For Apple iPad 2, It runs apps very smooth. However, some users have also mentioned that, There is no USB support for mass storage.\\nFor Samsung Galaxy Tab 4, way better than kindle fire . same size , same price point , does anything. However, some users have also mentioned that, has finally died.',\n",
       " 'For Apple iPad 2, It runs apps very smooth. However, some users have also mentioned that, There is no USB support for mass storage.\\nFor Samsung Galaxy Tab 4, way better than kindle fire . same size , same price point , does anything. However, some users have also mentioned that, stuck at boot screen . went into odin mode.',\n",
       " 'For Apple iPad 2, It runs apps very smooth. However, some users have also mentioned that, There is no USB support for mass storage.\\nFor Samsung Galaxy Tab 4, way better than kindle fire . same size , same price point , does anything. However, some users have also mentioned that, that lasted less than 4 months.',\n",
       " 'For Apple iPad 2, It runs apps very smooth. However, some users have also mentioned that, There is no USB support for mass storage.\\nFor Samsung Galaxy Tab 4, way better than kindle fire . same size , same price point , does anything. However, some users have also mentioned that, the internal LCD Panel was cracked.',\n",
       " 'For Apple iPad 2, It runs apps very smooth. However, some users have also mentioned that, There is no USB support for mass storage.\\nFor Samsung Galaxy Tab 4, way better than kindle fire . same size , same price point , does anything. However, some users have also mentioned that, screen breaking.',\n",
       " 'For Apple iPad 2, It runs apps very smooth. However, some users have also mentioned that, There is no USB support for mass storage.\\nFor Samsung Galaxy Tab 4, way better than kindle fire . same size , same price point , does anything. However, some users have also mentioned that, It is NOT worth $ 175 with the mediocre display.',\n",
       " 'For Apple iPad 2, It runs apps very smooth. However, some users have also mentioned that, There is no USB support for mass storage.\\nFor Samsung Galaxy Tab 4, way better than kindle fire . same size , same price point , does anything. However, some users have also mentioned that, Kindle reader loads in about 4 seconds.',\n",
       " 'For Apple iPad 2, It runs apps very smooth. However, some users have also mentioned that, There is no USB support for mass storage.\\nFor Samsung Galaxy Tab 4, way better than kindle fire . same size , same price point , does anything. However, some users have also mentioned that, jump glitching the entire time.',\n",
       " 'For Apple iPad 2, It runs apps very smooth. However, some users have also mentioned that, There is no USB support for mass storage.\\nFor Samsung Galaxy Tab 4, way better than kindle fire . same size , same price point , does anything. However, some users have also mentioned that, Samsung is guilty here of this one.',\n",
       " 'For Apple iPad 2, It runs apps very smooth. However, some users have also mentioned that, There is no USB support for mass storage.\\nFor Samsung Galaxy Tab 4, way better than kindle fire . same size , same price point , does anything. However, some users have also mentioned that, A waste of money.',\n",
       " 'For Apple iPad 2, It runs apps very smooth. However, some users have also mentioned that, There is no USB support for mass storage.\\nFor Samsung Galaxy Tab 4, way better than kindle fire . same size , same price point , does anything. However, some users have also mentioned that, the camera SUCKS.',\n",
       " 'For Apple iPad 2, It runs apps very smooth. However, some users have also mentioned that, There is no USB support for mass storage.\\nFor Samsung Galaxy Tab 4, worked out well. However, some users have also mentioned that, the warranty was voided.',\n",
       " 'For Apple iPad 2, It runs apps very smooth. However, some users have also mentioned that, There is no USB support for mass storage.\\nFor Samsung Galaxy Tab 4, worked out well. However, some users have also mentioned that, the audio is terribly broken.',\n",
       " 'For Apple iPad 2, It runs apps very smooth. However, some users have also mentioned that, There is no USB support for mass storage.\\nFor Samsung Galaxy Tab 4, worked out well. However, some users have also mentioned that, Samsung has the worst customer service.',\n",
       " 'For Apple iPad 2, It runs apps very smooth. However, some users have also mentioned that, There is no USB support for mass storage.\\nFor Samsung Galaxy Tab 4, worked out well. However, some users have also mentioned that, the first time was defective.',\n",
       " 'For Apple iPad 2, It runs apps very smooth. However, some users have also mentioned that, There is no USB support for mass storage.\\nFor Samsung Galaxy Tab 4, worked out well. However, some users have also mentioned that, There is a 2 second delay before the tablet fully loads the next setting tab.',\n",
       " 'For Apple iPad 2, It runs apps very smooth. However, some users have also mentioned that, There is no USB support for mass storage.\\nFor Samsung Galaxy Tab 4, worked out well. However, some users have also mentioned that, The biggest disappointment of all this Christmas.',\n",
       " 'For Apple iPad 2, It runs apps very smooth. However, some users have also mentioned that, There is no USB support for mass storage.\\nFor Samsung Galaxy Tab 4, worked out well. However, some users have also mentioned that, the touch-screen facility is at best terrible.',\n",
       " 'For Apple iPad 2, It runs apps very smooth. However, some users have also mentioned that, There is no USB support for mass storage.\\nFor Samsung Galaxy Tab 4, worked out well. However, some users have also mentioned that, has finally died.',\n",
       " 'For Apple iPad 2, It runs apps very smooth. However, some users have also mentioned that, There is no USB support for mass storage.\\nFor Samsung Galaxy Tab 4, worked out well. However, some users have also mentioned that, stuck at boot screen . went into odin mode.',\n",
       " 'For Apple iPad 2, It runs apps very smooth. However, some users have also mentioned that, There is no USB support for mass storage.\\nFor Samsung Galaxy Tab 4, worked out well. However, some users have also mentioned that, that lasted less than 4 months.',\n",
       " 'For Apple iPad 2, It runs apps very smooth. However, some users have also mentioned that, There is no USB support for mass storage.\\nFor Samsung Galaxy Tab 4, worked out well. However, some users have also mentioned that, the internal LCD Panel was cracked.',\n",
       " 'For Apple iPad 2, It runs apps very smooth. However, some users have also mentioned that, There is no USB support for mass storage.\\nFor Samsung Galaxy Tab 4, worked out well. However, some users have also mentioned that, screen breaking.',\n",
       " 'For Apple iPad 2, It runs apps very smooth. However, some users have also mentioned that, There is no USB support for mass storage.\\nFor Samsung Galaxy Tab 4, worked out well. However, some users have also mentioned that, It is NOT worth $ 175 with the mediocre display.',\n",
       " 'For Apple iPad 2, It runs apps very smooth. However, some users have also mentioned that, There is no USB support for mass storage.\\nFor Samsung Galaxy Tab 4, worked out well. However, some users have also mentioned that, Kindle reader loads in about 4 seconds.',\n",
       " 'For Apple iPad 2, It runs apps very smooth. However, some users have also mentioned that, There is no USB support for mass storage.\\nFor Samsung Galaxy Tab 4, worked out well. However, some users have also mentioned that, jump glitching the entire time.',\n",
       " 'For Apple iPad 2, It runs apps very smooth. However, some users have also mentioned that, There is no USB support for mass storage.\\nFor Samsung Galaxy Tab 4, worked out well. However, some users have also mentioned that, Samsung is guilty here of this one.',\n",
       " 'For Apple iPad 2, It runs apps very smooth. However, some users have also mentioned that, There is no USB support for mass storage.\\nFor Samsung Galaxy Tab 4, worked out well. However, some users have also mentioned that, A waste of money.',\n",
       " 'For Apple iPad 2, It runs apps very smooth. However, some users have also mentioned that, There is no USB support for mass storage.\\nFor Samsung Galaxy Tab 4, worked out well. However, some users have also mentioned that, the camera SUCKS.',\n",
       " 'For Apple iPad 2, It runs apps very smooth. However, some users have also mentioned that, There is no USB support for mass storage.\\nFor Samsung Galaxy Tab 4, This Tab 4 is a great replacement for a Nook or a Kindle. However, some users have also mentioned that, the warranty was voided.',\n",
       " 'For Apple iPad 2, It runs apps very smooth. However, some users have also mentioned that, There is no USB support for mass storage.\\nFor Samsung Galaxy Tab 4, This Tab 4 is a great replacement for a Nook or a Kindle. However, some users have also mentioned that, the audio is terribly broken.',\n",
       " 'For Apple iPad 2, It runs apps very smooth. However, some users have also mentioned that, There is no USB support for mass storage.\\nFor Samsung Galaxy Tab 4, This Tab 4 is a great replacement for a Nook or a Kindle. However, some users have also mentioned that, Samsung has the worst customer service.',\n",
       " 'For Apple iPad 2, It runs apps very smooth. However, some users have also mentioned that, There is no USB support for mass storage.\\nFor Samsung Galaxy Tab 4, This Tab 4 is a great replacement for a Nook or a Kindle. However, some users have also mentioned that, the first time was defective.',\n",
       " 'For Apple iPad 2, It runs apps very smooth. However, some users have also mentioned that, There is no USB support for mass storage.\\nFor Samsung Galaxy Tab 4, This Tab 4 is a great replacement for a Nook or a Kindle. However, some users have also mentioned that, There is a 2 second delay before the tablet fully loads the next setting tab.',\n",
       " 'For Apple iPad 2, It runs apps very smooth. However, some users have also mentioned that, There is no USB support for mass storage.\\nFor Samsung Galaxy Tab 4, This Tab 4 is a great replacement for a Nook or a Kindle. However, some users have also mentioned that, The biggest disappointment of all this Christmas.',\n",
       " 'For Apple iPad 2, It runs apps very smooth. However, some users have also mentioned that, There is no USB support for mass storage.\\nFor Samsung Galaxy Tab 4, This Tab 4 is a great replacement for a Nook or a Kindle. However, some users have also mentioned that, the touch-screen facility is at best terrible.',\n",
       " 'For Apple iPad 2, It runs apps very smooth. However, some users have also mentioned that, There is no USB support for mass storage.\\nFor Samsung Galaxy Tab 4, This Tab 4 is a great replacement for a Nook or a Kindle. However, some users have also mentioned that, has finally died.',\n",
       " 'For Apple iPad 2, It runs apps very smooth. However, some users have also mentioned that, There is no USB support for mass storage.\\nFor Samsung Galaxy Tab 4, This Tab 4 is a great replacement for a Nook or a Kindle. However, some users have also mentioned that, stuck at boot screen . went into odin mode.',\n",
       " 'For Apple iPad 2, It runs apps very smooth. However, some users have also mentioned that, There is no USB support for mass storage.\\nFor Samsung Galaxy Tab 4, This Tab 4 is a great replacement for a Nook or a Kindle. However, some users have also mentioned that, that lasted less than 4 months.',\n",
       " 'For Apple iPad 2, It runs apps very smooth. However, some users have also mentioned that, There is no USB support for mass storage.\\nFor Samsung Galaxy Tab 4, This Tab 4 is a great replacement for a Nook or a Kindle. However, some users have also mentioned that, the internal LCD Panel was cracked.',\n",
       " 'For Apple iPad 2, It runs apps very smooth. However, some users have also mentioned that, There is no USB support for mass storage.\\nFor Samsung Galaxy Tab 4, This Tab 4 is a great replacement for a Nook or a Kindle. However, some users have also mentioned that, screen breaking.',\n",
       " 'For Apple iPad 2, It runs apps very smooth. However, some users have also mentioned that, There is no USB support for mass storage.\\nFor Samsung Galaxy Tab 4, This Tab 4 is a great replacement for a Nook or a Kindle. However, some users have also mentioned that, It is NOT worth $ 175 with the mediocre display.',\n",
       " 'For Apple iPad 2, It runs apps very smooth. However, some users have also mentioned that, There is no USB support for mass storage.\\nFor Samsung Galaxy Tab 4, This Tab 4 is a great replacement for a Nook or a Kindle. However, some users have also mentioned that, Kindle reader loads in about 4 seconds.',\n",
       " 'For Apple iPad 2, It runs apps very smooth. However, some users have also mentioned that, There is no USB support for mass storage.\\nFor Samsung Galaxy Tab 4, This Tab 4 is a great replacement for a Nook or a Kindle. However, some users have also mentioned that, jump glitching the entire time.',\n",
       " 'For Apple iPad 2, It runs apps very smooth. However, some users have also mentioned that, There is no USB support for mass storage.\\nFor Samsung Galaxy Tab 4, This Tab 4 is a great replacement for a Nook or a Kindle. However, some users have also mentioned that, Samsung is guilty here of this one.',\n",
       " 'For Apple iPad 2, It runs apps very smooth. However, some users have also mentioned that, There is no USB support for mass storage.\\nFor Samsung Galaxy Tab 4, This Tab 4 is a great replacement for a Nook or a Kindle. However, some users have also mentioned that, A waste of money.',\n",
       " 'For Apple iPad 2, It runs apps very smooth. However, some users have also mentioned that, There is no USB support for mass storage.\\nFor Samsung Galaxy Tab 4, This Tab 4 is a great replacement for a Nook or a Kindle. However, some users have also mentioned that, the camera SUCKS.',\n",
       " 'For Apple iPad 2, It runs apps very smooth. However, some users have also mentioned that, There is no USB support for mass storage.\\nFor Samsung Galaxy Tab 4, No complaints from the person. However, some users have also mentioned that, the warranty was voided.',\n",
       " 'For Apple iPad 2, It runs apps very smooth. However, some users have also mentioned that, There is no USB support for mass storage.\\nFor Samsung Galaxy Tab 4, No complaints from the person. However, some users have also mentioned that, the audio is terribly broken.',\n",
       " 'For Apple iPad 2, It runs apps very smooth. However, some users have also mentioned that, There is no USB support for mass storage.\\nFor Samsung Galaxy Tab 4, No complaints from the person. However, some users have also mentioned that, Samsung has the worst customer service.',\n",
       " 'For Apple iPad 2, It runs apps very smooth. However, some users have also mentioned that, There is no USB support for mass storage.\\nFor Samsung Galaxy Tab 4, No complaints from the person. However, some users have also mentioned that, the first time was defective.',\n",
       " 'For Apple iPad 2, It runs apps very smooth. However, some users have also mentioned that, There is no USB support for mass storage.\\nFor Samsung Galaxy Tab 4, No complaints from the person. However, some users have also mentioned that, There is a 2 second delay before the tablet fully loads the next setting tab.',\n",
       " 'For Apple iPad 2, It runs apps very smooth. However, some users have also mentioned that, There is no USB support for mass storage.\\nFor Samsung Galaxy Tab 4, No complaints from the person. However, some users have also mentioned that, The biggest disappointment of all this Christmas.',\n",
       " 'For Apple iPad 2, It runs apps very smooth. However, some users have also mentioned that, There is no USB support for mass storage.\\nFor Samsung Galaxy Tab 4, No complaints from the person. However, some users have also mentioned that, the touch-screen facility is at best terrible.',\n",
       " 'For Apple iPad 2, It runs apps very smooth. However, some users have also mentioned that, There is no USB support for mass storage.\\nFor Samsung Galaxy Tab 4, No complaints from the person. However, some users have also mentioned that, has finally died.',\n",
       " 'For Apple iPad 2, It runs apps very smooth. However, some users have also mentioned that, There is no USB support for mass storage.\\nFor Samsung Galaxy Tab 4, No complaints from the person. However, some users have also mentioned that, stuck at boot screen . went into odin mode.',\n",
       " 'For Apple iPad 2, It runs apps very smooth. However, some users have also mentioned that, There is no USB support for mass storage.\\nFor Samsung Galaxy Tab 4, No complaints from the person. However, some users have also mentioned that, that lasted less than 4 months.',\n",
       " 'For Apple iPad 2, It runs apps very smooth. However, some users have also mentioned that, There is no USB support for mass storage.\\nFor Samsung Galaxy Tab 4, No complaints from the person. However, some users have also mentioned that, the internal LCD Panel was cracked.',\n",
       " 'For Apple iPad 2, It runs apps very smooth. However, some users have also mentioned that, There is no USB support for mass storage.\\nFor Samsung Galaxy Tab 4, No complaints from the person. However, some users have also mentioned that, screen breaking.',\n",
       " 'For Apple iPad 2, It runs apps very smooth. However, some users have also mentioned that, There is no USB support for mass storage.\\nFor Samsung Galaxy Tab 4, No complaints from the person. However, some users have also mentioned that, It is NOT worth $ 175 with the mediocre display.',\n",
       " 'For Apple iPad 2, It runs apps very smooth. However, some users have also mentioned that, There is no USB support for mass storage.\\nFor Samsung Galaxy Tab 4, No complaints from the person. However, some users have also mentioned that, Kindle reader loads in about 4 seconds.',\n",
       " 'For Apple iPad 2, It runs apps very smooth. However, some users have also mentioned that, There is no USB support for mass storage.\\nFor Samsung Galaxy Tab 4, No complaints from the person. However, some users have also mentioned that, jump glitching the entire time.',\n",
       " 'For Apple iPad 2, It runs apps very smooth. However, some users have also mentioned that, There is no USB support for mass storage.\\nFor Samsung Galaxy Tab 4, No complaints from the person. However, some users have also mentioned that, Samsung is guilty here of this one.',\n",
       " 'For Apple iPad 2, It runs apps very smooth. However, some users have also mentioned that, There is no USB support for mass storage.\\nFor Samsung Galaxy Tab 4, No complaints from the person. However, some users have also mentioned that, A waste of money.',\n",
       " 'For Apple iPad 2, It runs apps very smooth. However, some users have also mentioned that, There is no USB support for mass storage.\\nFor Samsung Galaxy Tab 4, No complaints from the person. However, some users have also mentioned that, the camera SUCKS.',\n",
       " 'For Apple iPad 2, It runs apps very smooth. However, some users have also mentioned that, There is no USB support for mass storage.\\nFor Samsung Galaxy Tab 4, Photos are good , even tho there is no flash. However, some users have also mentioned that, the warranty was voided.',\n",
       " 'For Apple iPad 2, It runs apps very smooth. However, some users have also mentioned that, There is no USB support for mass storage.\\nFor Samsung Galaxy Tab 4, Photos are good , even tho there is no flash. However, some users have also mentioned that, the audio is terribly broken.',\n",
       " 'For Apple iPad 2, It runs apps very smooth. However, some users have also mentioned that, There is no USB support for mass storage.\\nFor Samsung Galaxy Tab 4, Photos are good , even tho there is no flash. However, some users have also mentioned that, Samsung has the worst customer service.',\n",
       " 'For Apple iPad 2, It runs apps very smooth. However, some users have also mentioned that, There is no USB support for mass storage.\\nFor Samsung Galaxy Tab 4, Photos are good , even tho there is no flash. However, some users have also mentioned that, the first time was defective.',\n",
       " 'For Apple iPad 2, It runs apps very smooth. However, some users have also mentioned that, There is no USB support for mass storage.\\nFor Samsung Galaxy Tab 4, Photos are good , even tho there is no flash. However, some users have also mentioned that, There is a 2 second delay before the tablet fully loads the next setting tab.',\n",
       " 'For Apple iPad 2, It runs apps very smooth. However, some users have also mentioned that, There is no USB support for mass storage.\\nFor Samsung Galaxy Tab 4, Photos are good , even tho there is no flash. However, some users have also mentioned that, The biggest disappointment of all this Christmas.',\n",
       " 'For Apple iPad 2, It runs apps very smooth. However, some users have also mentioned that, There is no USB support for mass storage.\\nFor Samsung Galaxy Tab 4, Photos are good , even tho there is no flash. However, some users have also mentioned that, the touch-screen facility is at best terrible.',\n",
       " 'For Apple iPad 2, It runs apps very smooth. However, some users have also mentioned that, There is no USB support for mass storage.\\nFor Samsung Galaxy Tab 4, Photos are good , even tho there is no flash. However, some users have also mentioned that, has finally died.',\n",
       " 'For Apple iPad 2, It runs apps very smooth. However, some users have also mentioned that, There is no USB support for mass storage.\\nFor Samsung Galaxy Tab 4, Photos are good , even tho there is no flash. However, some users have also mentioned that, stuck at boot screen . went into odin mode.',\n",
       " 'For Apple iPad 2, It runs apps very smooth. However, some users have also mentioned that, There is no USB support for mass storage.\\nFor Samsung Galaxy Tab 4, Photos are good , even tho there is no flash. However, some users have also mentioned that, that lasted less than 4 months.',\n",
       " 'For Apple iPad 2, It runs apps very smooth. However, some users have also mentioned that, There is no USB support for mass storage.\\nFor Samsung Galaxy Tab 4, Photos are good , even tho there is no flash. However, some users have also mentioned that, the internal LCD Panel was cracked.',\n",
       " 'For Apple iPad 2, It runs apps very smooth. However, some users have also mentioned that, There is no USB support for mass storage.\\nFor Samsung Galaxy Tab 4, Photos are good , even tho there is no flash. However, some users have also mentioned that, screen breaking.',\n",
       " 'For Apple iPad 2, It runs apps very smooth. However, some users have also mentioned that, There is no USB support for mass storage.\\nFor Samsung Galaxy Tab 4, Photos are good , even tho there is no flash. However, some users have also mentioned that, It is NOT worth $ 175 with the mediocre display.',\n",
       " 'For Apple iPad 2, It runs apps very smooth. However, some users have also mentioned that, There is no USB support for mass storage.\\nFor Samsung Galaxy Tab 4, Photos are good , even tho there is no flash. However, some users have also mentioned that, Kindle reader loads in about 4 seconds.',\n",
       " 'For Apple iPad 2, It runs apps very smooth. However, some users have also mentioned that, There is no USB support for mass storage.\\nFor Samsung Galaxy Tab 4, Photos are good , even tho there is no flash. However, some users have also mentioned that, jump glitching the entire time.',\n",
       " 'For Apple iPad 2, It runs apps very smooth. However, some users have also mentioned that, There is no USB support for mass storage.\\nFor Samsung Galaxy Tab 4, Photos are good , even tho there is no flash. However, some users have also mentioned that, Samsung is guilty here of this one.',\n",
       " 'For Apple iPad 2, It runs apps very smooth. However, some users have also mentioned that, There is no USB support for mass storage.\\nFor Samsung Galaxy Tab 4, Photos are good , even tho there is no flash. However, some users have also mentioned that, A waste of money.',\n",
       " 'For Apple iPad 2, It runs apps very smooth. However, some users have also mentioned that, There is no USB support for mass storage.\\nFor Samsung Galaxy Tab 4, Photos are good , even tho there is no flash. However, some users have also mentioned that, the camera SUCKS.',\n",
       " 'For Apple iPad 2, It runs apps very smooth. However, some users have also mentioned that, There is no USB support for mass storage.\\nFor Samsung Galaxy Tab 4, Good tab for price. However, some users have also mentioned that, the warranty was voided.',\n",
       " 'For Apple iPad 2, It runs apps very smooth. However, some users have also mentioned that, There is no USB support for mass storage.\\nFor Samsung Galaxy Tab 4, Good tab for price. However, some users have also mentioned that, the audio is terribly broken.',\n",
       " 'For Apple iPad 2, It runs apps very smooth. However, some users have also mentioned that, There is no USB support for mass storage.\\nFor Samsung Galaxy Tab 4, Good tab for price. However, some users have also mentioned that, Samsung has the worst customer service.',\n",
       " 'For Apple iPad 2, It runs apps very smooth. However, some users have also mentioned that, There is no USB support for mass storage.\\nFor Samsung Galaxy Tab 4, Good tab for price. However, some users have also mentioned that, the first time was defective.',\n",
       " 'For Apple iPad 2, It runs apps very smooth. However, some users have also mentioned that, There is no USB support for mass storage.\\nFor Samsung Galaxy Tab 4, Good tab for price. However, some users have also mentioned that, There is a 2 second delay before the tablet fully loads the next setting tab.',\n",
       " 'For Apple iPad 2, It runs apps very smooth. However, some users have also mentioned that, There is no USB support for mass storage.\\nFor Samsung Galaxy Tab 4, Good tab for price. However, some users have also mentioned that, The biggest disappointment of all this Christmas.',\n",
       " 'For Apple iPad 2, It runs apps very smooth. However, some users have also mentioned that, There is no USB support for mass storage.\\nFor Samsung Galaxy Tab 4, Good tab for price. However, some users have also mentioned that, the touch-screen facility is at best terrible.',\n",
       " 'For Apple iPad 2, It runs apps very smooth. However, some users have also mentioned that, There is no USB support for mass storage.\\nFor Samsung Galaxy Tab 4, Good tab for price. However, some users have also mentioned that, has finally died.',\n",
       " 'For Apple iPad 2, It runs apps very smooth. However, some users have also mentioned that, There is no USB support for mass storage.\\nFor Samsung Galaxy Tab 4, Good tab for price. However, some users have also mentioned that, stuck at boot screen . went into odin mode.',\n",
       " 'For Apple iPad 2, It runs apps very smooth. However, some users have also mentioned that, There is no USB support for mass storage.\\nFor Samsung Galaxy Tab 4, Good tab for price. However, some users have also mentioned that, that lasted less than 4 months.',\n",
       " 'For Apple iPad 2, It runs apps very smooth. However, some users have also mentioned that, There is no USB support for mass storage.\\nFor Samsung Galaxy Tab 4, Good tab for price. However, some users have also mentioned that, the internal LCD Panel was cracked.',\n",
       " 'For Apple iPad 2, It runs apps very smooth. However, some users have also mentioned that, There is no USB support for mass storage.\\nFor Samsung Galaxy Tab 4, Good tab for price. However, some users have also mentioned that, screen breaking.',\n",
       " 'For Apple iPad 2, It runs apps very smooth. However, some users have also mentioned that, There is no USB support for mass storage.\\nFor Samsung Galaxy Tab 4, Good tab for price. However, some users have also mentioned that, It is NOT worth $ 175 with the mediocre display.',\n",
       " 'For Apple iPad 2, It runs apps very smooth. However, some users have also mentioned that, There is no USB support for mass storage.\\nFor Samsung Galaxy Tab 4, Good tab for price. However, some users have also mentioned that, Kindle reader loads in about 4 seconds.',\n",
       " 'For Apple iPad 2, It runs apps very smooth. However, some users have also mentioned that, There is no USB support for mass storage.\\nFor Samsung Galaxy Tab 4, Good tab for price. However, some users have also mentioned that, jump glitching the entire time.',\n",
       " 'For Apple iPad 2, It runs apps very smooth. However, some users have also mentioned that, There is no USB support for mass storage.\\nFor Samsung Galaxy Tab 4, Good tab for price. However, some users have also mentioned that, Samsung is guilty here of this one.',\n",
       " 'For Apple iPad 2, It runs apps very smooth. However, some users have also mentioned that, There is no USB support for mass storage.\\nFor Samsung Galaxy Tab 4, Good tab for price. However, some users have also mentioned that, A waste of money.',\n",
       " 'For Apple iPad 2, It runs apps very smooth. However, some users have also mentioned that, There is no USB support for mass storage.\\nFor Samsung Galaxy Tab 4, Good tab for price. However, some users have also mentioned that, the camera SUCKS.',\n",
       " 'For Apple iPad 2, It runs apps very smooth. However, some users have also mentioned that, the ipad was NOT in its original box.\\nFor Samsung Galaxy Tab 4, best tablet. However, some users have also mentioned that, the warranty was voided.',\n",
       " 'For Apple iPad 2, It runs apps very smooth. However, some users have also mentioned that, the ipad was NOT in its original box.\\nFor Samsung Galaxy Tab 4, best tablet. However, some users have also mentioned that, the audio is terribly broken.',\n",
       " 'For Apple iPad 2, It runs apps very smooth. However, some users have also mentioned that, the ipad was NOT in its original box.\\nFor Samsung Galaxy Tab 4, best tablet. However, some users have also mentioned that, Samsung has the worst customer service.',\n",
       " 'For Apple iPad 2, It runs apps very smooth. However, some users have also mentioned that, the ipad was NOT in its original box.\\nFor Samsung Galaxy Tab 4, best tablet. However, some users have also mentioned that, the first time was defective.',\n",
       " 'For Apple iPad 2, It runs apps very smooth. However, some users have also mentioned that, the ipad was NOT in its original box.\\nFor Samsung Galaxy Tab 4, best tablet. However, some users have also mentioned that, There is a 2 second delay before the tablet fully loads the next setting tab.',\n",
       " 'For Apple iPad 2, It runs apps very smooth. However, some users have also mentioned that, the ipad was NOT in its original box.\\nFor Samsung Galaxy Tab 4, best tablet. However, some users have also mentioned that, The biggest disappointment of all this Christmas.',\n",
       " 'For Apple iPad 2, It runs apps very smooth. However, some users have also mentioned that, the ipad was NOT in its original box.\\nFor Samsung Galaxy Tab 4, best tablet. However, some users have also mentioned that, the touch-screen facility is at best terrible.',\n",
       " 'For Apple iPad 2, It runs apps very smooth. However, some users have also mentioned that, the ipad was NOT in its original box.\\nFor Samsung Galaxy Tab 4, best tablet. However, some users have also mentioned that, has finally died.',\n",
       " 'For Apple iPad 2, It runs apps very smooth. However, some users have also mentioned that, the ipad was NOT in its original box.\\nFor Samsung Galaxy Tab 4, best tablet. However, some users have also mentioned that, stuck at boot screen . went into odin mode.',\n",
       " 'For Apple iPad 2, It runs apps very smooth. However, some users have also mentioned that, the ipad was NOT in its original box.\\nFor Samsung Galaxy Tab 4, best tablet. However, some users have also mentioned that, that lasted less than 4 months.',\n",
       " 'For Apple iPad 2, It runs apps very smooth. However, some users have also mentioned that, the ipad was NOT in its original box.\\nFor Samsung Galaxy Tab 4, best tablet. However, some users have also mentioned that, the internal LCD Panel was cracked.',\n",
       " 'For Apple iPad 2, It runs apps very smooth. However, some users have also mentioned that, the ipad was NOT in its original box.\\nFor Samsung Galaxy Tab 4, best tablet. However, some users have also mentioned that, screen breaking.',\n",
       " 'For Apple iPad 2, It runs apps very smooth. However, some users have also mentioned that, the ipad was NOT in its original box.\\nFor Samsung Galaxy Tab 4, best tablet. However, some users have also mentioned that, It is NOT worth $ 175 with the mediocre display.',\n",
       " 'For Apple iPad 2, It runs apps very smooth. However, some users have also mentioned that, the ipad was NOT in its original box.\\nFor Samsung Galaxy Tab 4, best tablet. However, some users have also mentioned that, Kindle reader loads in about 4 seconds.',\n",
       " 'For Apple iPad 2, It runs apps very smooth. However, some users have also mentioned that, the ipad was NOT in its original box.\\nFor Samsung Galaxy Tab 4, best tablet. However, some users have also mentioned that, jump glitching the entire time.',\n",
       " 'For Apple iPad 2, It runs apps very smooth. However, some users have also mentioned that, the ipad was NOT in its original box.\\nFor Samsung Galaxy Tab 4, best tablet. However, some users have also mentioned that, Samsung is guilty here of this one.',\n",
       " 'For Apple iPad 2, It runs apps very smooth. However, some users have also mentioned that, the ipad was NOT in its original box.\\nFor Samsung Galaxy Tab 4, best tablet. However, some users have also mentioned that, A waste of money.',\n",
       " 'For Apple iPad 2, It runs apps very smooth. However, some users have also mentioned that, the ipad was NOT in its original box.\\nFor Samsung Galaxy Tab 4, best tablet. However, some users have also mentioned that, the camera SUCKS.',\n",
       " 'For Apple iPad 2, It runs apps very smooth. However, some users have also mentioned that, the ipad was NOT in its original box.\\nFor Samsung Galaxy Tab 4, Apps are good. However, some users have also mentioned that, the warranty was voided.',\n",
       " 'For Apple iPad 2, It runs apps very smooth. However, some users have also mentioned that, the ipad was NOT in its original box.\\nFor Samsung Galaxy Tab 4, Apps are good. However, some users have also mentioned that, the audio is terribly broken.',\n",
       " 'For Apple iPad 2, It runs apps very smooth. However, some users have also mentioned that, the ipad was NOT in its original box.\\nFor Samsung Galaxy Tab 4, Apps are good. However, some users have also mentioned that, Samsung has the worst customer service.',\n",
       " 'For Apple iPad 2, It runs apps very smooth. However, some users have also mentioned that, the ipad was NOT in its original box.\\nFor Samsung Galaxy Tab 4, Apps are good. However, some users have also mentioned that, the first time was defective.',\n",
       " 'For Apple iPad 2, It runs apps very smooth. However, some users have also mentioned that, the ipad was NOT in its original box.\\nFor Samsung Galaxy Tab 4, Apps are good. However, some users have also mentioned that, There is a 2 second delay before the tablet fully loads the next setting tab.',\n",
       " 'For Apple iPad 2, It runs apps very smooth. However, some users have also mentioned that, the ipad was NOT in its original box.\\nFor Samsung Galaxy Tab 4, Apps are good. However, some users have also mentioned that, The biggest disappointment of all this Christmas.',\n",
       " 'For Apple iPad 2, It runs apps very smooth. However, some users have also mentioned that, the ipad was NOT in its original box.\\nFor Samsung Galaxy Tab 4, Apps are good. However, some users have also mentioned that, the touch-screen facility is at best terrible.',\n",
       " 'For Apple iPad 2, It runs apps very smooth. However, some users have also mentioned that, the ipad was NOT in its original box.\\nFor Samsung Galaxy Tab 4, Apps are good. However, some users have also mentioned that, has finally died.',\n",
       " 'For Apple iPad 2, It runs apps very smooth. However, some users have also mentioned that, the ipad was NOT in its original box.\\nFor Samsung Galaxy Tab 4, Apps are good. However, some users have also mentioned that, stuck at boot screen . went into odin mode.',\n",
       " 'For Apple iPad 2, It runs apps very smooth. However, some users have also mentioned that, the ipad was NOT in its original box.\\nFor Samsung Galaxy Tab 4, Apps are good. However, some users have also mentioned that, that lasted less than 4 months.',\n",
       " 'For Apple iPad 2, It runs apps very smooth. However, some users have also mentioned that, the ipad was NOT in its original box.\\nFor Samsung Galaxy Tab 4, Apps are good. However, some users have also mentioned that, the internal LCD Panel was cracked.',\n",
       " 'For Apple iPad 2, It runs apps very smooth. However, some users have also mentioned that, the ipad was NOT in its original box.\\nFor Samsung Galaxy Tab 4, Apps are good. However, some users have also mentioned that, screen breaking.',\n",
       " 'For Apple iPad 2, It runs apps very smooth. However, some users have also mentioned that, the ipad was NOT in its original box.\\nFor Samsung Galaxy Tab 4, Apps are good. However, some users have also mentioned that, It is NOT worth $ 175 with the mediocre display.',\n",
       " 'For Apple iPad 2, It runs apps very smooth. However, some users have also mentioned that, the ipad was NOT in its original box.\\nFor Samsung Galaxy Tab 4, Apps are good. However, some users have also mentioned that, Kindle reader loads in about 4 seconds.',\n",
       " 'For Apple iPad 2, It runs apps very smooth. However, some users have also mentioned that, the ipad was NOT in its original box.\\nFor Samsung Galaxy Tab 4, Apps are good. However, some users have also mentioned that, jump glitching the entire time.',\n",
       " 'For Apple iPad 2, It runs apps very smooth. However, some users have also mentioned that, the ipad was NOT in its original box.\\nFor Samsung Galaxy Tab 4, Apps are good. However, some users have also mentioned that, Samsung is guilty here of this one.',\n",
       " 'For Apple iPad 2, It runs apps very smooth. However, some users have also mentioned that, the ipad was NOT in its original box.\\nFor Samsung Galaxy Tab 4, Apps are good. However, some users have also mentioned that, A waste of money.',\n",
       " 'For Apple iPad 2, It runs apps very smooth. However, some users have also mentioned that, the ipad was NOT in its original box.\\nFor Samsung Galaxy Tab 4, Apps are good. However, some users have also mentioned that, the camera SUCKS.',\n",
       " 'For Apple iPad 2, It runs apps very smooth. However, some users have also mentioned that, the ipad was NOT in its original box.\\nFor Samsung Galaxy Tab 4, apps was great. However, some users have also mentioned that, the warranty was voided.',\n",
       " 'For Apple iPad 2, It runs apps very smooth. However, some users have also mentioned that, the ipad was NOT in its original box.\\nFor Samsung Galaxy Tab 4, apps was great. However, some users have also mentioned that, the audio is terribly broken.',\n",
       " 'For Apple iPad 2, It runs apps very smooth. However, some users have also mentioned that, the ipad was NOT in its original box.\\nFor Samsung Galaxy Tab 4, apps was great. However, some users have also mentioned that, Samsung has the worst customer service.',\n",
       " 'For Apple iPad 2, It runs apps very smooth. However, some users have also mentioned that, the ipad was NOT in its original box.\\nFor Samsung Galaxy Tab 4, apps was great. However, some users have also mentioned that, the first time was defective.',\n",
       " 'For Apple iPad 2, It runs apps very smooth. However, some users have also mentioned that, the ipad was NOT in its original box.\\nFor Samsung Galaxy Tab 4, apps was great. However, some users have also mentioned that, There is a 2 second delay before the tablet fully loads the next setting tab.',\n",
       " 'For Apple iPad 2, It runs apps very smooth. However, some users have also mentioned that, the ipad was NOT in its original box.\\nFor Samsung Galaxy Tab 4, apps was great. However, some users have also mentioned that, The biggest disappointment of all this Christmas.',\n",
       " 'For Apple iPad 2, It runs apps very smooth. However, some users have also mentioned that, the ipad was NOT in its original box.\\nFor Samsung Galaxy Tab 4, apps was great. However, some users have also mentioned that, the touch-screen facility is at best terrible.',\n",
       " 'For Apple iPad 2, It runs apps very smooth. However, some users have also mentioned that, the ipad was NOT in its original box.\\nFor Samsung Galaxy Tab 4, apps was great. However, some users have also mentioned that, has finally died.',\n",
       " 'For Apple iPad 2, It runs apps very smooth. However, some users have also mentioned that, the ipad was NOT in its original box.\\nFor Samsung Galaxy Tab 4, apps was great. However, some users have also mentioned that, stuck at boot screen . went into odin mode.',\n",
       " 'For Apple iPad 2, It runs apps very smooth. However, some users have also mentioned that, the ipad was NOT in its original box.\\nFor Samsung Galaxy Tab 4, apps was great. However, some users have also mentioned that, that lasted less than 4 months.',\n",
       " 'For Apple iPad 2, It runs apps very smooth. However, some users have also mentioned that, the ipad was NOT in its original box.\\nFor Samsung Galaxy Tab 4, apps was great. However, some users have also mentioned that, the internal LCD Panel was cracked.',\n",
       " 'For Apple iPad 2, It runs apps very smooth. However, some users have also mentioned that, the ipad was NOT in its original box.\\nFor Samsung Galaxy Tab 4, apps was great. However, some users have also mentioned that, screen breaking.',\n",
       " 'For Apple iPad 2, It runs apps very smooth. However, some users have also mentioned that, the ipad was NOT in its original box.\\nFor Samsung Galaxy Tab 4, apps was great. However, some users have also mentioned that, It is NOT worth $ 175 with the mediocre display.',\n",
       " 'For Apple iPad 2, It runs apps very smooth. However, some users have also mentioned that, the ipad was NOT in its original box.\\nFor Samsung Galaxy Tab 4, apps was great. However, some users have also mentioned that, Kindle reader loads in about 4 seconds.',\n",
       " 'For Apple iPad 2, It runs apps very smooth. However, some users have also mentioned that, the ipad was NOT in its original box.\\nFor Samsung Galaxy Tab 4, apps was great. However, some users have also mentioned that, jump glitching the entire time.',\n",
       " 'For Apple iPad 2, It runs apps very smooth. However, some users have also mentioned that, the ipad was NOT in its original box.\\nFor Samsung Galaxy Tab 4, apps was great. However, some users have also mentioned that, Samsung is guilty here of this one.',\n",
       " 'For Apple iPad 2, It runs apps very smooth. However, some users have also mentioned that, the ipad was NOT in its original box.\\nFor Samsung Galaxy Tab 4, apps was great. However, some users have also mentioned that, A waste of money.',\n",
       " 'For Apple iPad 2, It runs apps very smooth. However, some users have also mentioned that, the ipad was NOT in its original box.\\nFor Samsung Galaxy Tab 4, apps was great. However, some users have also mentioned that, the camera SUCKS.',\n",
       " 'For Apple iPad 2, It runs apps very smooth. However, some users have also mentioned that, the ipad was NOT in its original box.\\nFor Samsung Galaxy Tab 4, colors are very accurate. However, some users have also mentioned that, the warranty was voided.',\n",
       " 'For Apple iPad 2, It runs apps very smooth. However, some users have also mentioned that, the ipad was NOT in its original box.\\nFor Samsung Galaxy Tab 4, colors are very accurate. However, some users have also mentioned that, the audio is terribly broken.',\n",
       " 'For Apple iPad 2, It runs apps very smooth. However, some users have also mentioned that, the ipad was NOT in its original box.\\nFor Samsung Galaxy Tab 4, colors are very accurate. However, some users have also mentioned that, Samsung has the worst customer service.',\n",
       " 'For Apple iPad 2, It runs apps very smooth. However, some users have also mentioned that, the ipad was NOT in its original box.\\nFor Samsung Galaxy Tab 4, colors are very accurate. However, some users have also mentioned that, the first time was defective.',\n",
       " 'For Apple iPad 2, It runs apps very smooth. However, some users have also mentioned that, the ipad was NOT in its original box.\\nFor Samsung Galaxy Tab 4, colors are very accurate. However, some users have also mentioned that, There is a 2 second delay before the tablet fully loads the next setting tab.',\n",
       " 'For Apple iPad 2, It runs apps very smooth. However, some users have also mentioned that, the ipad was NOT in its original box.\\nFor Samsung Galaxy Tab 4, colors are very accurate. However, some users have also mentioned that, The biggest disappointment of all this Christmas.',\n",
       " 'For Apple iPad 2, It runs apps very smooth. However, some users have also mentioned that, the ipad was NOT in its original box.\\nFor Samsung Galaxy Tab 4, colors are very accurate. However, some users have also mentioned that, the touch-screen facility is at best terrible.',\n",
       " 'For Apple iPad 2, It runs apps very smooth. However, some users have also mentioned that, the ipad was NOT in its original box.\\nFor Samsung Galaxy Tab 4, colors are very accurate. However, some users have also mentioned that, has finally died.',\n",
       " 'For Apple iPad 2, It runs apps very smooth. However, some users have also mentioned that, the ipad was NOT in its original box.\\nFor Samsung Galaxy Tab 4, colors are very accurate. However, some users have also mentioned that, stuck at boot screen . went into odin mode.',\n",
       " 'For Apple iPad 2, It runs apps very smooth. However, some users have also mentioned that, the ipad was NOT in its original box.\\nFor Samsung Galaxy Tab 4, colors are very accurate. However, some users have also mentioned that, that lasted less than 4 months.',\n",
       " 'For Apple iPad 2, It runs apps very smooth. However, some users have also mentioned that, the ipad was NOT in its original box.\\nFor Samsung Galaxy Tab 4, colors are very accurate. However, some users have also mentioned that, the internal LCD Panel was cracked.',\n",
       " 'For Apple iPad 2, It runs apps very smooth. However, some users have also mentioned that, the ipad was NOT in its original box.\\nFor Samsung Galaxy Tab 4, colors are very accurate. However, some users have also mentioned that, screen breaking.',\n",
       " 'For Apple iPad 2, It runs apps very smooth. However, some users have also mentioned that, the ipad was NOT in its original box.\\nFor Samsung Galaxy Tab 4, colors are very accurate. However, some users have also mentioned that, It is NOT worth $ 175 with the mediocre display.',\n",
       " 'For Apple iPad 2, It runs apps very smooth. However, some users have also mentioned that, the ipad was NOT in its original box.\\nFor Samsung Galaxy Tab 4, colors are very accurate. However, some users have also mentioned that, Kindle reader loads in about 4 seconds.',\n",
       " 'For Apple iPad 2, It runs apps very smooth. However, some users have also mentioned that, the ipad was NOT in its original box.\\nFor Samsung Galaxy Tab 4, colors are very accurate. However, some users have also mentioned that, jump glitching the entire time.',\n",
       " 'For Apple iPad 2, It runs apps very smooth. However, some users have also mentioned that, the ipad was NOT in its original box.\\nFor Samsung Galaxy Tab 4, colors are very accurate. However, some users have also mentioned that, Samsung is guilty here of this one.',\n",
       " 'For Apple iPad 2, It runs apps very smooth. However, some users have also mentioned that, the ipad was NOT in its original box.\\nFor Samsung Galaxy Tab 4, colors are very accurate. However, some users have also mentioned that, A waste of money.',\n",
       " 'For Apple iPad 2, It runs apps very smooth. However, some users have also mentioned that, the ipad was NOT in its original box.\\nFor Samsung Galaxy Tab 4, colors are very accurate. However, some users have also mentioned that, the camera SUCKS.',\n",
       " 'For Apple iPad 2, It runs apps very smooth. However, some users have also mentioned that, the ipad was NOT in its original box.\\nFor Samsung Galaxy Tab 4, The Kindle app works perfectly on the tablet for reading. However, some users have also mentioned that, the warranty was voided.',\n",
       " 'For Apple iPad 2, It runs apps very smooth. However, some users have also mentioned that, the ipad was NOT in its original box.\\nFor Samsung Galaxy Tab 4, The Kindle app works perfectly on the tablet for reading. However, some users have also mentioned that, the audio is terribly broken.',\n",
       " 'For Apple iPad 2, It runs apps very smooth. However, some users have also mentioned that, the ipad was NOT in its original box.\\nFor Samsung Galaxy Tab 4, The Kindle app works perfectly on the tablet for reading. However, some users have also mentioned that, Samsung has the worst customer service.',\n",
       " 'For Apple iPad 2, It runs apps very smooth. However, some users have also mentioned that, the ipad was NOT in its original box.\\nFor Samsung Galaxy Tab 4, The Kindle app works perfectly on the tablet for reading. However, some users have also mentioned that, the first time was defective.',\n",
       " 'For Apple iPad 2, It runs apps very smooth. However, some users have also mentioned that, the ipad was NOT in its original box.\\nFor Samsung Galaxy Tab 4, The Kindle app works perfectly on the tablet for reading. However, some users have also mentioned that, There is a 2 second delay before the tablet fully loads the next setting tab.',\n",
       " 'For Apple iPad 2, It runs apps very smooth. However, some users have also mentioned that, the ipad was NOT in its original box.\\nFor Samsung Galaxy Tab 4, The Kindle app works perfectly on the tablet for reading. However, some users have also mentioned that, The biggest disappointment of all this Christmas.',\n",
       " 'For Apple iPad 2, It runs apps very smooth. However, some users have also mentioned that, the ipad was NOT in its original box.\\nFor Samsung Galaxy Tab 4, The Kindle app works perfectly on the tablet for reading. However, some users have also mentioned that, the touch-screen facility is at best terrible.',\n",
       " 'For Apple iPad 2, It runs apps very smooth. However, some users have also mentioned that, the ipad was NOT in its original box.\\nFor Samsung Galaxy Tab 4, The Kindle app works perfectly on the tablet for reading. However, some users have also mentioned that, has finally died.',\n",
       " 'For Apple iPad 2, It runs apps very smooth. However, some users have also mentioned that, the ipad was NOT in its original box.\\nFor Samsung Galaxy Tab 4, The Kindle app works perfectly on the tablet for reading. However, some users have also mentioned that, stuck at boot screen . went into odin mode.',\n",
       " 'For Apple iPad 2, It runs apps very smooth. However, some users have also mentioned that, the ipad was NOT in its original box.\\nFor Samsung Galaxy Tab 4, The Kindle app works perfectly on the tablet for reading. However, some users have also mentioned that, that lasted less than 4 months.',\n",
       " 'For Apple iPad 2, It runs apps very smooth. However, some users have also mentioned that, the ipad was NOT in its original box.\\nFor Samsung Galaxy Tab 4, The Kindle app works perfectly on the tablet for reading. However, some users have also mentioned that, the internal LCD Panel was cracked.',\n",
       " 'For Apple iPad 2, It runs apps very smooth. However, some users have also mentioned that, the ipad was NOT in its original box.\\nFor Samsung Galaxy Tab 4, The Kindle app works perfectly on the tablet for reading. However, some users have also mentioned that, screen breaking.',\n",
       " 'For Apple iPad 2, It runs apps very smooth. However, some users have also mentioned that, the ipad was NOT in its original box.\\nFor Samsung Galaxy Tab 4, The Kindle app works perfectly on the tablet for reading. However, some users have also mentioned that, It is NOT worth $ 175 with the mediocre display.',\n",
       " 'For Apple iPad 2, It runs apps very smooth. However, some users have also mentioned that, the ipad was NOT in its original box.\\nFor Samsung Galaxy Tab 4, The Kindle app works perfectly on the tablet for reading. However, some users have also mentioned that, Kindle reader loads in about 4 seconds.',\n",
       " 'For Apple iPad 2, It runs apps very smooth. However, some users have also mentioned that, the ipad was NOT in its original box.\\nFor Samsung Galaxy Tab 4, The Kindle app works perfectly on the tablet for reading. However, some users have also mentioned that, jump glitching the entire time.',\n",
       " 'For Apple iPad 2, It runs apps very smooth. However, some users have also mentioned that, the ipad was NOT in its original box.\\nFor Samsung Galaxy Tab 4, The Kindle app works perfectly on the tablet for reading. However, some users have also mentioned that, Samsung is guilty here of this one.',\n",
       " 'For Apple iPad 2, It runs apps very smooth. However, some users have also mentioned that, the ipad was NOT in its original box.\\nFor Samsung Galaxy Tab 4, The Kindle app works perfectly on the tablet for reading. However, some users have also mentioned that, A waste of money.',\n",
       " 'For Apple iPad 2, It runs apps very smooth. However, some users have also mentioned that, the ipad was NOT in its original box.\\nFor Samsung Galaxy Tab 4, The Kindle app works perfectly on the tablet for reading. However, some users have also mentioned that, the camera SUCKS.',\n",
       " 'For Apple iPad 2, It runs apps very smooth. However, some users have also mentioned that, the ipad was NOT in its original box.\\nFor Samsung Galaxy Tab 4, Samsung products are really awesome great design and excellent features as well. However, some users have also mentioned that, the warranty was voided.',\n",
       " 'For Apple iPad 2, It runs apps very smooth. However, some users have also mentioned that, the ipad was NOT in its original box.\\nFor Samsung Galaxy Tab 4, Samsung products are really awesome great design and excellent features as well. However, some users have also mentioned that, the audio is terribly broken.',\n",
       " 'For Apple iPad 2, It runs apps very smooth. However, some users have also mentioned that, the ipad was NOT in its original box.\\nFor Samsung Galaxy Tab 4, Samsung products are really awesome great design and excellent features as well. However, some users have also mentioned that, Samsung has the worst customer service.',\n",
       " 'For Apple iPad 2, It runs apps very smooth. However, some users have also mentioned that, the ipad was NOT in its original box.\\nFor Samsung Galaxy Tab 4, Samsung products are really awesome great design and excellent features as well. However, some users have also mentioned that, the first time was defective.',\n",
       " 'For Apple iPad 2, It runs apps very smooth. However, some users have also mentioned that, the ipad was NOT in its original box.\\nFor Samsung Galaxy Tab 4, Samsung products are really awesome great design and excellent features as well. However, some users have also mentioned that, There is a 2 second delay before the tablet fully loads the next setting tab.',\n",
       " 'For Apple iPad 2, It runs apps very smooth. However, some users have also mentioned that, the ipad was NOT in its original box.\\nFor Samsung Galaxy Tab 4, Samsung products are really awesome great design and excellent features as well. However, some users have also mentioned that, The biggest disappointment of all this Christmas.',\n",
       " 'For Apple iPad 2, It runs apps very smooth. However, some users have also mentioned that, the ipad was NOT in its original box.\\nFor Samsung Galaxy Tab 4, Samsung products are really awesome great design and excellent features as well. However, some users have also mentioned that, the touch-screen facility is at best terrible.',\n",
       " 'For Apple iPad 2, It runs apps very smooth. However, some users have also mentioned that, the ipad was NOT in its original box.\\nFor Samsung Galaxy Tab 4, Samsung products are really awesome great design and excellent features as well. However, some users have also mentioned that, has finally died.',\n",
       " 'For Apple iPad 2, It runs apps very smooth. However, some users have also mentioned that, the ipad was NOT in its original box.\\nFor Samsung Galaxy Tab 4, Samsung products are really awesome great design and excellent features as well. However, some users have also mentioned that, stuck at boot screen . went into odin mode.',\n",
       " 'For Apple iPad 2, It runs apps very smooth. However, some users have also mentioned that, the ipad was NOT in its original box.\\nFor Samsung Galaxy Tab 4, Samsung products are really awesome great design and excellent features as well. However, some users have also mentioned that, that lasted less than 4 months.',\n",
       " 'For Apple iPad 2, It runs apps very smooth. However, some users have also mentioned that, the ipad was NOT in its original box.\\nFor Samsung Galaxy Tab 4, Samsung products are really awesome great design and excellent features as well. However, some users have also mentioned that, the internal LCD Panel was cracked.',\n",
       " 'For Apple iPad 2, It runs apps very smooth. However, some users have also mentioned that, the ipad was NOT in its original box.\\nFor Samsung Galaxy Tab 4, Samsung products are really awesome great design and excellent features as well. However, some users have also mentioned that, screen breaking.',\n",
       " 'For Apple iPad 2, It runs apps very smooth. However, some users have also mentioned that, the ipad was NOT in its original box.\\nFor Samsung Galaxy Tab 4, Samsung products are really awesome great design and excellent features as well. However, some users have also mentioned that, It is NOT worth $ 175 with the mediocre display.',\n",
       " 'For Apple iPad 2, It runs apps very smooth. However, some users have also mentioned that, the ipad was NOT in its original box.\\nFor Samsung Galaxy Tab 4, Samsung products are really awesome great design and excellent features as well. However, some users have also mentioned that, Kindle reader loads in about 4 seconds.',\n",
       " 'For Apple iPad 2, It runs apps very smooth. However, some users have also mentioned that, the ipad was NOT in its original box.\\nFor Samsung Galaxy Tab 4, Samsung products are really awesome great design and excellent features as well. However, some users have also mentioned that, jump glitching the entire time.',\n",
       " 'For Apple iPad 2, It runs apps very smooth. However, some users have also mentioned that, the ipad was NOT in its original box.\\nFor Samsung Galaxy Tab 4, Samsung products are really awesome great design and excellent features as well. However, some users have also mentioned that, Samsung is guilty here of this one.',\n",
       " 'For Apple iPad 2, It runs apps very smooth. However, some users have also mentioned that, the ipad was NOT in its original box.\\nFor Samsung Galaxy Tab 4, Samsung products are really awesome great design and excellent features as well. However, some users have also mentioned that, A waste of money.',\n",
       " 'For Apple iPad 2, It runs apps very smooth. However, some users have also mentioned that, the ipad was NOT in its original box.\\nFor Samsung Galaxy Tab 4, Samsung products are really awesome great design and excellent features as well. However, some users have also mentioned that, the camera SUCKS.',\n",
       " 'For Apple iPad 2, It runs apps very smooth. However, some users have also mentioned that, the ipad was NOT in its original box.\\nFor Samsung Galaxy Tab 4, The graphics are beautiful. However, some users have also mentioned that, the warranty was voided.',\n",
       " 'For Apple iPad 2, It runs apps very smooth. However, some users have also mentioned that, the ipad was NOT in its original box.\\nFor Samsung Galaxy Tab 4, The graphics are beautiful. However, some users have also mentioned that, the audio is terribly broken.',\n",
       " 'For Apple iPad 2, It runs apps very smooth. However, some users have also mentioned that, the ipad was NOT in its original box.\\nFor Samsung Galaxy Tab 4, The graphics are beautiful. However, some users have also mentioned that, Samsung has the worst customer service.',\n",
       " 'For Apple iPad 2, It runs apps very smooth. However, some users have also mentioned that, the ipad was NOT in its original box.\\nFor Samsung Galaxy Tab 4, The graphics are beautiful. However, some users have also mentioned that, the first time was defective.',\n",
       " 'For Apple iPad 2, It runs apps very smooth. However, some users have also mentioned that, the ipad was NOT in its original box.\\nFor Samsung Galaxy Tab 4, The graphics are beautiful. However, some users have also mentioned that, There is a 2 second delay before the tablet fully loads the next setting tab.',\n",
       " 'For Apple iPad 2, It runs apps very smooth. However, some users have also mentioned that, the ipad was NOT in its original box.\\nFor Samsung Galaxy Tab 4, The graphics are beautiful. However, some users have also mentioned that, The biggest disappointment of all this Christmas.',\n",
       " 'For Apple iPad 2, It runs apps very smooth. However, some users have also mentioned that, the ipad was NOT in its original box.\\nFor Samsung Galaxy Tab 4, The graphics are beautiful. However, some users have also mentioned that, the touch-screen facility is at best terrible.',\n",
       " 'For Apple iPad 2, It runs apps very smooth. However, some users have also mentioned that, the ipad was NOT in its original box.\\nFor Samsung Galaxy Tab 4, The graphics are beautiful. However, some users have also mentioned that, has finally died.',\n",
       " 'For Apple iPad 2, It runs apps very smooth. However, some users have also mentioned that, the ipad was NOT in its original box.\\nFor Samsung Galaxy Tab 4, The graphics are beautiful. However, some users have also mentioned that, stuck at boot screen . went into odin mode.',\n",
       " 'For Apple iPad 2, It runs apps very smooth. However, some users have also mentioned that, the ipad was NOT in its original box.\\nFor Samsung Galaxy Tab 4, The graphics are beautiful. However, some users have also mentioned that, that lasted less than 4 months.',\n",
       " 'For Apple iPad 2, It runs apps very smooth. However, some users have also mentioned that, the ipad was NOT in its original box.\\nFor Samsung Galaxy Tab 4, The graphics are beautiful. However, some users have also mentioned that, the internal LCD Panel was cracked.',\n",
       " 'For Apple iPad 2, It runs apps very smooth. However, some users have also mentioned that, the ipad was NOT in its original box.\\nFor Samsung Galaxy Tab 4, The graphics are beautiful. However, some users have also mentioned that, screen breaking.',\n",
       " 'For Apple iPad 2, It runs apps very smooth. However, some users have also mentioned that, the ipad was NOT in its original box.\\nFor Samsung Galaxy Tab 4, The graphics are beautiful. However, some users have also mentioned that, It is NOT worth $ 175 with the mediocre display.',\n",
       " 'For Apple iPad 2, It runs apps very smooth. However, some users have also mentioned that, the ipad was NOT in its original box.\\nFor Samsung Galaxy Tab 4, The graphics are beautiful. However, some users have also mentioned that, Kindle reader loads in about 4 seconds.',\n",
       " 'For Apple iPad 2, It runs apps very smooth. However, some users have also mentioned that, the ipad was NOT in its original box.\\nFor Samsung Galaxy Tab 4, The graphics are beautiful. However, some users have also mentioned that, jump glitching the entire time.',\n",
       " 'For Apple iPad 2, It runs apps very smooth. However, some users have also mentioned that, the ipad was NOT in its original box.\\nFor Samsung Galaxy Tab 4, The graphics are beautiful. However, some users have also mentioned that, Samsung is guilty here of this one.',\n",
       " 'For Apple iPad 2, It runs apps very smooth. However, some users have also mentioned that, the ipad was NOT in its original box.\\nFor Samsung Galaxy Tab 4, The graphics are beautiful. However, some users have also mentioned that, A waste of money.',\n",
       " 'For Apple iPad 2, It runs apps very smooth. However, some users have also mentioned that, the ipad was NOT in its original box.\\nFor Samsung Galaxy Tab 4, The graphics are beautiful. However, some users have also mentioned that, the camera SUCKS.',\n",
       " 'For Apple iPad 2, It runs apps very smooth. However, some users have also mentioned that, the ipad was NOT in its original box.\\nFor Samsung Galaxy Tab 4, This thing has worked really well over the last 6 months. However, some users have also mentioned that, the warranty was voided.',\n",
       " 'For Apple iPad 2, It runs apps very smooth. However, some users have also mentioned that, the ipad was NOT in its original box.\\nFor Samsung Galaxy Tab 4, This thing has worked really well over the last 6 months. However, some users have also mentioned that, the audio is terribly broken.',\n",
       " 'For Apple iPad 2, It runs apps very smooth. However, some users have also mentioned that, the ipad was NOT in its original box.\\nFor Samsung Galaxy Tab 4, This thing has worked really well over the last 6 months. However, some users have also mentioned that, Samsung has the worst customer service.',\n",
       " 'For Apple iPad 2, It runs apps very smooth. However, some users have also mentioned that, the ipad was NOT in its original box.\\nFor Samsung Galaxy Tab 4, This thing has worked really well over the last 6 months. However, some users have also mentioned that, the first time was defective.',\n",
       " 'For Apple iPad 2, It runs apps very smooth. However, some users have also mentioned that, the ipad was NOT in its original box.\\nFor Samsung Galaxy Tab 4, This thing has worked really well over the last 6 months. However, some users have also mentioned that, There is a 2 second delay before the tablet fully loads the next setting tab.',\n",
       " 'For Apple iPad 2, It runs apps very smooth. However, some users have also mentioned that, the ipad was NOT in its original box.\\nFor Samsung Galaxy Tab 4, This thing has worked really well over the last 6 months. However, some users have also mentioned that, The biggest disappointment of all this Christmas.',\n",
       " 'For Apple iPad 2, It runs apps very smooth. However, some users have also mentioned that, the ipad was NOT in its original box.\\nFor Samsung Galaxy Tab 4, This thing has worked really well over the last 6 months. However, some users have also mentioned that, the touch-screen facility is at best terrible.',\n",
       " 'For Apple iPad 2, It runs apps very smooth. However, some users have also mentioned that, the ipad was NOT in its original box.\\nFor Samsung Galaxy Tab 4, This thing has worked really well over the last 6 months. However, some users have also mentioned that, has finally died.',\n",
       " 'For Apple iPad 2, It runs apps very smooth. However, some users have also mentioned that, the ipad was NOT in its original box.\\nFor Samsung Galaxy Tab 4, This thing has worked really well over the last 6 months. However, some users have also mentioned that, stuck at boot screen . went into odin mode.',\n",
       " 'For Apple iPad 2, It runs apps very smooth. However, some users have also mentioned that, the ipad was NOT in its original box.\\nFor Samsung Galaxy Tab 4, This thing has worked really well over the last 6 months. However, some users have also mentioned that, that lasted less than 4 months.',\n",
       " 'For Apple iPad 2, It runs apps very smooth. However, some users have also mentioned that, the ipad was NOT in its original box.\\nFor Samsung Galaxy Tab 4, This thing has worked really well over the last 6 months. However, some users have also mentioned that, the internal LCD Panel was cracked.',\n",
       " 'For Apple iPad 2, It runs apps very smooth. However, some users have also mentioned that, the ipad was NOT in its original box.\\nFor Samsung Galaxy Tab 4, This thing has worked really well over the last 6 months. However, some users have also mentioned that, screen breaking.',\n",
       " 'For Apple iPad 2, It runs apps very smooth. However, some users have also mentioned that, the ipad was NOT in its original box.\\nFor Samsung Galaxy Tab 4, This thing has worked really well over the last 6 months. However, some users have also mentioned that, It is NOT worth $ 175 with the mediocre display.',\n",
       " 'For Apple iPad 2, It runs apps very smooth. However, some users have also mentioned that, the ipad was NOT in its original box.\\nFor Samsung Galaxy Tab 4, This thing has worked really well over the last 6 months. However, some users have also mentioned that, Kindle reader loads in about 4 seconds.',\n",
       " 'For Apple iPad 2, It runs apps very smooth. However, some users have also mentioned that, the ipad was NOT in its original box.\\nFor Samsung Galaxy Tab 4, This thing has worked really well over the last 6 months. However, some users have also mentioned that, jump glitching the entire time.',\n",
       " 'For Apple iPad 2, It runs apps very smooth. However, some users have also mentioned that, the ipad was NOT in its original box.\\nFor Samsung Galaxy Tab 4, This thing has worked really well over the last 6 months. However, some users have also mentioned that, Samsung is guilty here of this one.',\n",
       " 'For Apple iPad 2, It runs apps very smooth. However, some users have also mentioned that, the ipad was NOT in its original box.\\nFor Samsung Galaxy Tab 4, This thing has worked really well over the last 6 months. However, some users have also mentioned that, A waste of money.',\n",
       " 'For Apple iPad 2, It runs apps very smooth. However, some users have also mentioned that, the ipad was NOT in its original box.\\nFor Samsung Galaxy Tab 4, This thing has worked really well over the last 6 months. However, some users have also mentioned that, the camera SUCKS.',\n",
       " 'For Apple iPad 2, It runs apps very smooth. However, some users have also mentioned that, the ipad was NOT in its original box.\\nFor Samsung Galaxy Tab 4, screen , resolution and finish are very nice . nice form factor. However, some users have also mentioned that, the warranty was voided.',\n",
       " 'For Apple iPad 2, It runs apps very smooth. However, some users have also mentioned that, the ipad was NOT in its original box.\\nFor Samsung Galaxy Tab 4, screen , resolution and finish are very nice . nice form factor. However, some users have also mentioned that, the audio is terribly broken.',\n",
       " 'For Apple iPad 2, It runs apps very smooth. However, some users have also mentioned that, the ipad was NOT in its original box.\\nFor Samsung Galaxy Tab 4, screen , resolution and finish are very nice . nice form factor. However, some users have also mentioned that, Samsung has the worst customer service.',\n",
       " 'For Apple iPad 2, It runs apps very smooth. However, some users have also mentioned that, the ipad was NOT in its original box.\\nFor Samsung Galaxy Tab 4, screen , resolution and finish are very nice . nice form factor. However, some users have also mentioned that, the first time was defective.',\n",
       " 'For Apple iPad 2, It runs apps very smooth. However, some users have also mentioned that, the ipad was NOT in its original box.\\nFor Samsung Galaxy Tab 4, screen , resolution and finish are very nice . nice form factor. However, some users have also mentioned that, There is a 2 second delay before the tablet fully loads the next setting tab.',\n",
       " 'For Apple iPad 2, It runs apps very smooth. However, some users have also mentioned that, the ipad was NOT in its original box.\\nFor Samsung Galaxy Tab 4, screen , resolution and finish are very nice . nice form factor. However, some users have also mentioned that, The biggest disappointment of all this Christmas.',\n",
       " 'For Apple iPad 2, It runs apps very smooth. However, some users have also mentioned that, the ipad was NOT in its original box.\\nFor Samsung Galaxy Tab 4, screen , resolution and finish are very nice . nice form factor. However, some users have also mentioned that, the touch-screen facility is at best terrible.',\n",
       " 'For Apple iPad 2, It runs apps very smooth. However, some users have also mentioned that, the ipad was NOT in its original box.\\nFor Samsung Galaxy Tab 4, screen , resolution and finish are very nice . nice form factor. However, some users have also mentioned that, has finally died.',\n",
       " 'For Apple iPad 2, It runs apps very smooth. However, some users have also mentioned that, the ipad was NOT in its original box.\\nFor Samsung Galaxy Tab 4, screen , resolution and finish are very nice . nice form factor. However, some users have also mentioned that, stuck at boot screen . went into odin mode.',\n",
       " 'For Apple iPad 2, It runs apps very smooth. However, some users have also mentioned that, the ipad was NOT in its original box.\\nFor Samsung Galaxy Tab 4, screen , resolution and finish are very nice . nice form factor. However, some users have also mentioned that, that lasted less than 4 months.',\n",
       " 'For Apple iPad 2, It runs apps very smooth. However, some users have also mentioned that, the ipad was NOT in its original box.\\nFor Samsung Galaxy Tab 4, screen , resolution and finish are very nice . nice form factor. However, some users have also mentioned that, the internal LCD Panel was cracked.',\n",
       " 'For Apple iPad 2, It runs apps very smooth. However, some users have also mentioned that, the ipad was NOT in its original box.\\nFor Samsung Galaxy Tab 4, screen , resolution and finish are very nice . nice form factor. However, some users have also mentioned that, screen breaking.',\n",
       " 'For Apple iPad 2, It runs apps very smooth. However, some users have also mentioned that, the ipad was NOT in its original box.\\nFor Samsung Galaxy Tab 4, screen , resolution and finish are very nice . nice form factor. However, some users have also mentioned that, It is NOT worth $ 175 with the mediocre display.',\n",
       " 'For Apple iPad 2, It runs apps very smooth. However, some users have also mentioned that, the ipad was NOT in its original box.\\nFor Samsung Galaxy Tab 4, screen , resolution and finish are very nice . nice form factor. However, some users have also mentioned that, Kindle reader loads in about 4 seconds.',\n",
       " 'For Apple iPad 2, It runs apps very smooth. However, some users have also mentioned that, the ipad was NOT in its original box.\\nFor Samsung Galaxy Tab 4, screen , resolution and finish are very nice . nice form factor. However, some users have also mentioned that, jump glitching the entire time.',\n",
       " 'For Apple iPad 2, It runs apps very smooth. However, some users have also mentioned that, the ipad was NOT in its original box.\\nFor Samsung Galaxy Tab 4, screen , resolution and finish are very nice . nice form factor. However, some users have also mentioned that, Samsung is guilty here of this one.',\n",
       " 'For Apple iPad 2, It runs apps very smooth. However, some users have also mentioned that, the ipad was NOT in its original box.\\nFor Samsung Galaxy Tab 4, screen , resolution and finish are very nice . nice form factor. However, some users have also mentioned that, A waste of money.',\n",
       " 'For Apple iPad 2, It runs apps very smooth. However, some users have also mentioned that, the ipad was NOT in its original box.\\nFor Samsung Galaxy Tab 4, screen , resolution and finish are very nice . nice form factor. However, some users have also mentioned that, the camera SUCKS.',\n",
       " 'For Apple iPad 2, It runs apps very smooth. However, some users have also mentioned that, the ipad was NOT in its original box.\\nFor Samsung Galaxy Tab 4, Definitely a buy. However, some users have also mentioned that, the warranty was voided.',\n",
       " 'For Apple iPad 2, It runs apps very smooth. However, some users have also mentioned that, the ipad was NOT in its original box.\\nFor Samsung Galaxy Tab 4, Definitely a buy. However, some users have also mentioned that, the audio is terribly broken.',\n",
       " 'For Apple iPad 2, It runs apps very smooth. However, some users have also mentioned that, the ipad was NOT in its original box.\\nFor Samsung Galaxy Tab 4, Definitely a buy. However, some users have also mentioned that, Samsung has the worst customer service.',\n",
       " 'For Apple iPad 2, It runs apps very smooth. However, some users have also mentioned that, the ipad was NOT in its original box.\\nFor Samsung Galaxy Tab 4, Definitely a buy. However, some users have also mentioned that, the first time was defective.',\n",
       " 'For Apple iPad 2, It runs apps very smooth. However, some users have also mentioned that, the ipad was NOT in its original box.\\nFor Samsung Galaxy Tab 4, Definitely a buy. However, some users have also mentioned that, There is a 2 second delay before the tablet fully loads the next setting tab.',\n",
       " 'For Apple iPad 2, It runs apps very smooth. However, some users have also mentioned that, the ipad was NOT in its original box.\\nFor Samsung Galaxy Tab 4, Definitely a buy. However, some users have also mentioned that, The biggest disappointment of all this Christmas.',\n",
       " 'For Apple iPad 2, It runs apps very smooth. However, some users have also mentioned that, the ipad was NOT in its original box.\\nFor Samsung Galaxy Tab 4, Definitely a buy. However, some users have also mentioned that, the touch-screen facility is at best terrible.',\n",
       " 'For Apple iPad 2, It runs apps very smooth. However, some users have also mentioned that, the ipad was NOT in its original box.\\nFor Samsung Galaxy Tab 4, Definitely a buy. However, some users have also mentioned that, has finally died.',\n",
       " 'For Apple iPad 2, It runs apps very smooth. However, some users have also mentioned that, the ipad was NOT in its original box.\\nFor Samsung Galaxy Tab 4, Definitely a buy. However, some users have also mentioned that, stuck at boot screen . went into odin mode.',\n",
       " 'For Apple iPad 2, It runs apps very smooth. However, some users have also mentioned that, the ipad was NOT in its original box.\\nFor Samsung Galaxy Tab 4, Definitely a buy. However, some users have also mentioned that, that lasted less than 4 months.',\n",
       " 'For Apple iPad 2, It runs apps very smooth. However, some users have also mentioned that, the ipad was NOT in its original box.\\nFor Samsung Galaxy Tab 4, Definitely a buy. However, some users have also mentioned that, the internal LCD Panel was cracked.',\n",
       " 'For Apple iPad 2, It runs apps very smooth. However, some users have also mentioned that, the ipad was NOT in its original box.\\nFor Samsung Galaxy Tab 4, Definitely a buy. However, some users have also mentioned that, screen breaking.',\n",
       " 'For Apple iPad 2, It runs apps very smooth. However, some users have also mentioned that, the ipad was NOT in its original box.\\nFor Samsung Galaxy Tab 4, Definitely a buy. However, some users have also mentioned that, It is NOT worth $ 175 with the mediocre display.',\n",
       " 'For Apple iPad 2, It runs apps very smooth. However, some users have also mentioned that, the ipad was NOT in its original box.\\nFor Samsung Galaxy Tab 4, Definitely a buy. However, some users have also mentioned that, Kindle reader loads in about 4 seconds.',\n",
       " 'For Apple iPad 2, It runs apps very smooth. However, some users have also mentioned that, the ipad was NOT in its original box.\\nFor Samsung Galaxy Tab 4, Definitely a buy. However, some users have also mentioned that, jump glitching the entire time.',\n",
       " 'For Apple iPad 2, It runs apps very smooth. However, some users have also mentioned that, the ipad was NOT in its original box.\\nFor Samsung Galaxy Tab 4, Definitely a buy. However, some users have also mentioned that, Samsung is guilty here of this one.',\n",
       " 'For Apple iPad 2, It runs apps very smooth. However, some users have also mentioned that, the ipad was NOT in its original box.\\nFor Samsung Galaxy Tab 4, Definitely a buy. However, some users have also mentioned that, A waste of money.',\n",
       " 'For Apple iPad 2, It runs apps very smooth. However, some users have also mentioned that, the ipad was NOT in its original box.\\nFor Samsung Galaxy Tab 4, Definitely a buy. However, some users have also mentioned that, the camera SUCKS.',\n",
       " 'For Apple iPad 2, It runs apps very smooth. However, some users have also mentioned that, the ipad was NOT in its original box.\\nFor Samsung Galaxy Tab 4, The multi user mode is gold. However, some users have also mentioned that, the warranty was voided.',\n",
       " 'For Apple iPad 2, It runs apps very smooth. However, some users have also mentioned that, the ipad was NOT in its original box.\\nFor Samsung Galaxy Tab 4, The multi user mode is gold. However, some users have also mentioned that, the audio is terribly broken.',\n",
       " 'For Apple iPad 2, It runs apps very smooth. However, some users have also mentioned that, the ipad was NOT in its original box.\\nFor Samsung Galaxy Tab 4, The multi user mode is gold. However, some users have also mentioned that, Samsung has the worst customer service.',\n",
       " 'For Apple iPad 2, It runs apps very smooth. However, some users have also mentioned that, the ipad was NOT in its original box.\\nFor Samsung Galaxy Tab 4, The multi user mode is gold. However, some users have also mentioned that, the first time was defective.',\n",
       " 'For Apple iPad 2, It runs apps very smooth. However, some users have also mentioned that, the ipad was NOT in its original box.\\nFor Samsung Galaxy Tab 4, The multi user mode is gold. However, some users have also mentioned that, There is a 2 second delay before the tablet fully loads the next setting tab.',\n",
       " 'For Apple iPad 2, It runs apps very smooth. However, some users have also mentioned that, the ipad was NOT in its original box.\\nFor Samsung Galaxy Tab 4, The multi user mode is gold. However, some users have also mentioned that, The biggest disappointment of all this Christmas.',\n",
       " 'For Apple iPad 2, It runs apps very smooth. However, some users have also mentioned that, the ipad was NOT in its original box.\\nFor Samsung Galaxy Tab 4, The multi user mode is gold. However, some users have also mentioned that, the touch-screen facility is at best terrible.',\n",
       " 'For Apple iPad 2, It runs apps very smooth. However, some users have also mentioned that, the ipad was NOT in its original box.\\nFor Samsung Galaxy Tab 4, The multi user mode is gold. However, some users have also mentioned that, has finally died.',\n",
       " 'For Apple iPad 2, It runs apps very smooth. However, some users have also mentioned that, the ipad was NOT in its original box.\\nFor Samsung Galaxy Tab 4, The multi user mode is gold. However, some users have also mentioned that, stuck at boot screen . went into odin mode.',\n",
       " 'For Apple iPad 2, It runs apps very smooth. However, some users have also mentioned that, the ipad was NOT in its original box.\\nFor Samsung Galaxy Tab 4, The multi user mode is gold. However, some users have also mentioned that, that lasted less than 4 months.',\n",
       " 'For Apple iPad 2, It runs apps very smooth. However, some users have also mentioned that, the ipad was NOT in its original box.\\nFor Samsung Galaxy Tab 4, The multi user mode is gold. However, some users have also mentioned that, the internal LCD Panel was cracked.',\n",
       " 'For Apple iPad 2, It runs apps very smooth. However, some users have also mentioned that, the ipad was NOT in its original box.\\nFor Samsung Galaxy Tab 4, The multi user mode is gold. However, some users have also mentioned that, screen breaking.',\n",
       " 'For Apple iPad 2, It runs apps very smooth. However, some users have also mentioned that, the ipad was NOT in its original box.\\nFor Samsung Galaxy Tab 4, The multi user mode is gold. However, some users have also mentioned that, It is NOT worth $ 175 with the mediocre display.',\n",
       " 'For Apple iPad 2, It runs apps very smooth. However, some users have also mentioned that, the ipad was NOT in its original box.\\nFor Samsung Galaxy Tab 4, The multi user mode is gold. However, some users have also mentioned that, Kindle reader loads in about 4 seconds.',\n",
       " 'For Apple iPad 2, It runs apps very smooth. However, some users have also mentioned that, the ipad was NOT in its original box.\\nFor Samsung Galaxy Tab 4, The multi user mode is gold. However, some users have also mentioned that, jump glitching the entire time.',\n",
       " 'For Apple iPad 2, It runs apps very smooth. However, some users have also mentioned that, the ipad was NOT in its original box.\\nFor Samsung Galaxy Tab 4, The multi user mode is gold. However, some users have also mentioned that, Samsung is guilty here of this one.',\n",
       " 'For Apple iPad 2, It runs apps very smooth. However, some users have also mentioned that, the ipad was NOT in its original box.\\nFor Samsung Galaxy Tab 4, The multi user mode is gold. However, some users have also mentioned that, A waste of money.',\n",
       " 'For Apple iPad 2, It runs apps very smooth. However, some users have also mentioned that, the ipad was NOT in its original box.\\nFor Samsung Galaxy Tab 4, The multi user mode is gold. However, some users have also mentioned that, the camera SUCKS.',\n",
       " 'For Apple iPad 2, It runs apps very smooth. However, some users have also mentioned that, the ipad was NOT in its original box.\\nFor Samsung Galaxy Tab 4, This tab does the job of a big samsung galaxy fone. However, some users have also mentioned that, the warranty was voided.',\n",
       " 'For Apple iPad 2, It runs apps very smooth. However, some users have also mentioned that, the ipad was NOT in its original box.\\nFor Samsung Galaxy Tab 4, This tab does the job of a big samsung galaxy fone. However, some users have also mentioned that, the audio is terribly broken.',\n",
       " 'For Apple iPad 2, It runs apps very smooth. However, some users have also mentioned that, the ipad was NOT in its original box.\\nFor Samsung Galaxy Tab 4, This tab does the job of a big samsung galaxy fone. However, some users have also mentioned that, Samsung has the worst customer service.',\n",
       " 'For Apple iPad 2, It runs apps very smooth. However, some users have also mentioned that, the ipad was NOT in its original box.\\nFor Samsung Galaxy Tab 4, This tab does the job of a big samsung galaxy fone. However, some users have also mentioned that, the first time was defective.',\n",
       " 'For Apple iPad 2, It runs apps very smooth. However, some users have also mentioned that, the ipad was NOT in its original box.\\nFor Samsung Galaxy Tab 4, This tab does the job of a big samsung galaxy fone. However, some users have also mentioned that, There is a 2 second delay before the tablet fully loads the next setting tab.',\n",
       " 'For Apple iPad 2, It runs apps very smooth. However, some users have also mentioned that, the ipad was NOT in its original box.\\nFor Samsung Galaxy Tab 4, This tab does the job of a big samsung galaxy fone. However, some users have also mentioned that, The biggest disappointment of all this Christmas.',\n",
       " 'For Apple iPad 2, It runs apps very smooth. However, some users have also mentioned that, the ipad was NOT in its original box.\\nFor Samsung Galaxy Tab 4, This tab does the job of a big samsung galaxy fone. However, some users have also mentioned that, the touch-screen facility is at best terrible.',\n",
       " 'For Apple iPad 2, It runs apps very smooth. However, some users have also mentioned that, the ipad was NOT in its original box.\\nFor Samsung Galaxy Tab 4, This tab does the job of a big samsung galaxy fone. However, some users have also mentioned that, has finally died.',\n",
       " 'For Apple iPad 2, It runs apps very smooth. However, some users have also mentioned that, the ipad was NOT in its original box.\\nFor Samsung Galaxy Tab 4, This tab does the job of a big samsung galaxy fone. However, some users have also mentioned that, stuck at boot screen . went into odin mode.',\n",
       " 'For Apple iPad 2, It runs apps very smooth. However, some users have also mentioned that, the ipad was NOT in its original box.\\nFor Samsung Galaxy Tab 4, This tab does the job of a big samsung galaxy fone. However, some users have also mentioned that, that lasted less than 4 months.',\n",
       " 'For Apple iPad 2, It runs apps very smooth. However, some users have also mentioned that, the ipad was NOT in its original box.\\nFor Samsung Galaxy Tab 4, This tab does the job of a big samsung galaxy fone. However, some users have also mentioned that, the internal LCD Panel was cracked.',\n",
       " 'For Apple iPad 2, It runs apps very smooth. However, some users have also mentioned that, the ipad was NOT in its original box.\\nFor Samsung Galaxy Tab 4, This tab does the job of a big samsung galaxy fone. However, some users have also mentioned that, screen breaking.',\n",
       " 'For Apple iPad 2, It runs apps very smooth. However, some users have also mentioned that, the ipad was NOT in its original box.\\nFor Samsung Galaxy Tab 4, This tab does the job of a big samsung galaxy fone. However, some users have also mentioned that, It is NOT worth $ 175 with the mediocre display.',\n",
       " 'For Apple iPad 2, It runs apps very smooth. However, some users have also mentioned that, the ipad was NOT in its original box.\\nFor Samsung Galaxy Tab 4, This tab does the job of a big samsung galaxy fone. However, some users have also mentioned that, Kindle reader loads in about 4 seconds.',\n",
       " 'For Apple iPad 2, It runs apps very smooth. However, some users have also mentioned that, the ipad was NOT in its original box.\\nFor Samsung Galaxy Tab 4, This tab does the job of a big samsung galaxy fone. However, some users have also mentioned that, jump glitching the entire time.',\n",
       " 'For Apple iPad 2, It runs apps very smooth. However, some users have also mentioned that, the ipad was NOT in its original box.\\nFor Samsung Galaxy Tab 4, This tab does the job of a big samsung galaxy fone. However, some users have also mentioned that, Samsung is guilty here of this one.',\n",
       " 'For Apple iPad 2, It runs apps very smooth. However, some users have also mentioned that, the ipad was NOT in its original box.\\nFor Samsung Galaxy Tab 4, This tab does the job of a big samsung galaxy fone. However, some users have also mentioned that, A waste of money.',\n",
       " 'For Apple iPad 2, It runs apps very smooth. However, some users have also mentioned that, the ipad was NOT in its original box.\\nFor Samsung Galaxy Tab 4, This tab does the job of a big samsung galaxy fone. However, some users have also mentioned that, the camera SUCKS.',\n",
       " 'For Apple iPad 2, It runs apps very smooth. However, some users have also mentioned that, the ipad was NOT in its original box.\\nFor Samsung Galaxy Tab 4, Perfect size for surfing the web. However, some users have also mentioned that, the warranty was voided.',\n",
       " 'For Apple iPad 2, It runs apps very smooth. However, some users have also mentioned that, the ipad was NOT in its original box.\\nFor Samsung Galaxy Tab 4, Perfect size for surfing the web. However, some users have also mentioned that, the audio is terribly broken.',\n",
       " 'For Apple iPad 2, It runs apps very smooth. However, some users have also mentioned that, the ipad was NOT in its original box.\\nFor Samsung Galaxy Tab 4, Perfect size for surfing the web. However, some users have also mentioned that, Samsung has the worst customer service.',\n",
       " 'For Apple iPad 2, It runs apps very smooth. However, some users have also mentioned that, the ipad was NOT in its original box.\\nFor Samsung Galaxy Tab 4, Perfect size for surfing the web. However, some users have also mentioned that, the first time was defective.',\n",
       " 'For Apple iPad 2, It runs apps very smooth. However, some users have also mentioned that, the ipad was NOT in its original box.\\nFor Samsung Galaxy Tab 4, Perfect size for surfing the web. However, some users have also mentioned that, There is a 2 second delay before the tablet fully loads the next setting tab.',\n",
       " 'For Apple iPad 2, It runs apps very smooth. However, some users have also mentioned that, the ipad was NOT in its original box.\\nFor Samsung Galaxy Tab 4, Perfect size for surfing the web. However, some users have also mentioned that, The biggest disappointment of all this Christmas.',\n",
       " 'For Apple iPad 2, It runs apps very smooth. However, some users have also mentioned that, the ipad was NOT in its original box.\\nFor Samsung Galaxy Tab 4, Perfect size for surfing the web. However, some users have also mentioned that, the touch-screen facility is at best terrible.',\n",
       " 'For Apple iPad 2, It runs apps very smooth. However, some users have also mentioned that, the ipad was NOT in its original box.\\nFor Samsung Galaxy Tab 4, Perfect size for surfing the web. However, some users have also mentioned that, has finally died.',\n",
       " 'For Apple iPad 2, It runs apps very smooth. However, some users have also mentioned that, the ipad was NOT in its original box.\\nFor Samsung Galaxy Tab 4, Perfect size for surfing the web. However, some users have also mentioned that, stuck at boot screen . went into odin mode.',\n",
       " 'For Apple iPad 2, It runs apps very smooth. However, some users have also mentioned that, the ipad was NOT in its original box.\\nFor Samsung Galaxy Tab 4, Perfect size for surfing the web. However, some users have also mentioned that, that lasted less than 4 months.',\n",
       " 'For Apple iPad 2, It runs apps very smooth. However, some users have also mentioned that, the ipad was NOT in its original box.\\nFor Samsung Galaxy Tab 4, Perfect size for surfing the web. However, some users have also mentioned that, the internal LCD Panel was cracked.',\n",
       " 'For Apple iPad 2, It runs apps very smooth. However, some users have also mentioned that, the ipad was NOT in its original box.\\nFor Samsung Galaxy Tab 4, Perfect size for surfing the web. However, some users have also mentioned that, screen breaking.',\n",
       " 'For Apple iPad 2, It runs apps very smooth. However, some users have also mentioned that, the ipad was NOT in its original box.\\nFor Samsung Galaxy Tab 4, Perfect size for surfing the web. However, some users have also mentioned that, It is NOT worth $ 175 with the mediocre display.',\n",
       " 'For Apple iPad 2, It runs apps very smooth. However, some users have also mentioned that, the ipad was NOT in its original box.\\nFor Samsung Galaxy Tab 4, Perfect size for surfing the web. However, some users have also mentioned that, Kindle reader loads in about 4 seconds.',\n",
       " 'For Apple iPad 2, It runs apps very smooth. However, some users have also mentioned that, the ipad was NOT in its original box.\\nFor Samsung Galaxy Tab 4, Perfect size for surfing the web. However, some users have also mentioned that, jump glitching the entire time.',\n",
       " 'For Apple iPad 2, It runs apps very smooth. However, some users have also mentioned that, the ipad was NOT in its original box.\\nFor Samsung Galaxy Tab 4, Perfect size for surfing the web. However, some users have also mentioned that, Samsung is guilty here of this one.',\n",
       " 'For Apple iPad 2, It runs apps very smooth. However, some users have also mentioned that, the ipad was NOT in its original box.\\nFor Samsung Galaxy Tab 4, Perfect size for surfing the web. However, some users have also mentioned that, A waste of money.',\n",
       " 'For Apple iPad 2, It runs apps very smooth. However, some users have also mentioned that, the ipad was NOT in its original box.\\nFor Samsung Galaxy Tab 4, Perfect size for surfing the web. However, some users have also mentioned that, the camera SUCKS.',\n",
       " 'For Apple iPad 2, It runs apps very smooth. However, some users have also mentioned that, the ipad was NOT in its original box.\\nFor Samsung Galaxy Tab 4, Ok for 8 GB performance. However, some users have also mentioned that, the warranty was voided.',\n",
       " 'For Apple iPad 2, It runs apps very smooth. However, some users have also mentioned that, the ipad was NOT in its original box.\\nFor Samsung Galaxy Tab 4, Ok for 8 GB performance. However, some users have also mentioned that, the audio is terribly broken.',\n",
       " 'For Apple iPad 2, It runs apps very smooth. However, some users have also mentioned that, the ipad was NOT in its original box.\\nFor Samsung Galaxy Tab 4, Ok for 8 GB performance. However, some users have also mentioned that, Samsung has the worst customer service.',\n",
       " 'For Apple iPad 2, It runs apps very smooth. However, some users have also mentioned that, the ipad was NOT in its original box.\\nFor Samsung Galaxy Tab 4, Ok for 8 GB performance. However, some users have also mentioned that, the first time was defective.',\n",
       " 'For Apple iPad 2, It runs apps very smooth. However, some users have also mentioned that, the ipad was NOT in its original box.\\nFor Samsung Galaxy Tab 4, Ok for 8 GB performance. However, some users have also mentioned that, There is a 2 second delay before the tablet fully loads the next setting tab.',\n",
       " 'For Apple iPad 2, It runs apps very smooth. However, some users have also mentioned that, the ipad was NOT in its original box.\\nFor Samsung Galaxy Tab 4, Ok for 8 GB performance. However, some users have also mentioned that, The biggest disappointment of all this Christmas.',\n",
       " 'For Apple iPad 2, It runs apps very smooth. However, some users have also mentioned that, the ipad was NOT in its original box.\\nFor Samsung Galaxy Tab 4, Ok for 8 GB performance. However, some users have also mentioned that, the touch-screen facility is at best terrible.',\n",
       " 'For Apple iPad 2, It runs apps very smooth. However, some users have also mentioned that, the ipad was NOT in its original box.\\nFor Samsung Galaxy Tab 4, Ok for 8 GB performance. However, some users have also mentioned that, has finally died.',\n",
       " 'For Apple iPad 2, It runs apps very smooth. However, some users have also mentioned that, the ipad was NOT in its original box.\\nFor Samsung Galaxy Tab 4, Ok for 8 GB performance. However, some users have also mentioned that, stuck at boot screen . went into odin mode.',\n",
       " 'For Apple iPad 2, It runs apps very smooth. However, some users have also mentioned that, the ipad was NOT in its original box.\\nFor Samsung Galaxy Tab 4, Ok for 8 GB performance. However, some users have also mentioned that, that lasted less than 4 months.',\n",
       " ...]"
      ]
     },
     "execution_count": 166,
     "metadata": {},
     "output_type": "execute_result"
    }
   ],
   "source": [
    "output_list"
   ]
  },
  {
   "cell_type": "code",
   "execution_count": 167,
   "id": "e5c9c9d8",
   "metadata": {},
   "outputs": [],
   "source": [
    "with open(output_file, \"w\") as out_f:\n",
    "    for op in output_list:\n",
    "        out_f.write(op+\"\\n\\n\")"
   ]
  },
  {
   "cell_type": "code",
   "execution_count": null,
   "id": "6fd0258e",
   "metadata": {},
   "outputs": [],
   "source": [
    "##"
   ]
  },
  {
   "cell_type": "code",
   "execution_count": 168,
   "id": "438c4f04",
   "metadata": {},
   "outputs": [],
   "source": [
    "## Golden responses for Battery"
   ]
  },
  {
   "cell_type": "code",
   "execution_count": 169,
   "id": "8b797d1f",
   "metadata": {},
   "outputs": [],
   "source": [
    "input_file_pos_1 = \"data/gold/battery/amazon_b0013frnkg_battery_positive.txt\"\n",
    "input_file_neg_1 = \"data/gold/battery/amazon_b0013frnkg_battery_negative.txt\"\n",
    "input_file_pos_2 = \"data/gold/battery/amazon_b00j8dl78o_battery_positive.txt\"\n",
    "input_file_neg_2 = \"data/gold/battery/amazon_b00j8dl78o_battery_negative.txt\"\n",
    "\n",
    "output_file = \"data/gold/battery/amazon_b0013frnkg_b00j8dl78o_battery.txt\""
   ]
  },
  {
   "cell_type": "code",
   "execution_count": 178,
   "id": "7cc279ab",
   "metadata": {},
   "outputs": [],
   "source": [
    "pattern = \"{} is shipped with {}. {}. However, some users have also mentioned that, {}.\""
   ]
  },
  {
   "cell_type": "code",
   "execution_count": 179,
   "id": "be9b4dab",
   "metadata": {},
   "outputs": [],
   "source": [
    "name_1 = \"Apple iPad 2\"\n",
    "name_2 = \"Samsung Galaxy Tab 4\"\n",
    "\n",
    "battery_1 = \"1 Lithium ion battery which can run up to 10 hours\"\n",
    "battery_2 = \"3.8 Volt, 4000 mAh, 1 Lithium Metal batteries which can run up to 10 Hours\""
   ]
  },
  {
   "cell_type": "code",
   "execution_count": 180,
   "id": "8b390e98",
   "metadata": {},
   "outputs": [],
   "source": [
    "punt = string.punctuation+\" \"+\"\\n\\t\"\n",
    "\n",
    "pos_1_list = []\n",
    "with open(input_file_pos_1, \"r\") as in_f:\n",
    "    for line in in_f:\n",
    "        striped_line = line.strip(punt)\n",
    "        if len(striped_line) > 2:\n",
    "            pos_1_list.append(striped_line)\n",
    "        \n",
    "neg_1_list = []\n",
    "with open(input_file_neg_1, \"r\") as in_f:\n",
    "    for line in in_f:\n",
    "        striped_line = line.strip(punt)\n",
    "        if len(striped_line) > 2:\n",
    "            neg_1_list.append(striped_line)\n",
    "        \n",
    "pos_2_list = []\n",
    "with open(input_file_pos_2, \"r\") as in_f:\n",
    "    for line in in_f:\n",
    "        striped_line = line.strip(punt)\n",
    "        if len(striped_line) > 2:\n",
    "            pos_2_list.append(striped_line)\n",
    "        \n",
    "neg_2_list = []\n",
    "with open(input_file_neg_2, \"r\") as in_f:\n",
    "    for line in in_f:\n",
    "        striped_line = line.strip(punt)\n",
    "        if len(striped_line) > 2:\n",
    "            neg_2_list.append(striped_line)"
   ]
  },
  {
   "cell_type": "code",
   "execution_count": 181,
   "id": "9a026818",
   "metadata": {},
   "outputs": [
    {
     "name": "stdout",
     "output_type": "stream",
     "text": [
      "18\n",
      "18\n",
      "20\n",
      "21\n"
     ]
    }
   ],
   "source": [
    "print(len(pos_1_list))\n",
    "print(len(neg_1_list))\n",
    "print(len(pos_2_list))\n",
    "print(len(neg_2_list))"
   ]
  },
  {
   "cell_type": "code",
   "execution_count": 182,
   "id": "952fbf87",
   "metadata": {},
   "outputs": [
    {
     "name": "stdout",
     "output_type": "stream",
     "text": [
      "324\n"
     ]
    }
   ],
   "source": [
    "output_list_1 = []\n",
    "for pos_op in pos_1_list:\n",
    "    for neg_op in neg_1_list:\n",
    "        output_list_1.append(pattern.format(name_1, battery_1, pos_op, neg_op))\n",
    "        \n",
    "print(len(output_list_1))"
   ]
  },
  {
   "cell_type": "code",
   "execution_count": 183,
   "id": "88c9583f",
   "metadata": {},
   "outputs": [
    {
     "name": "stdout",
     "output_type": "stream",
     "text": [
      "420\n"
     ]
    }
   ],
   "source": [
    "output_list_2 = []\n",
    "for pos_op in pos_2_list:\n",
    "    for neg_op in neg_2_list:\n",
    "        output_list_2.append(pattern.format(name_2, battery_2, pos_op, neg_op))\n",
    "        \n",
    "print(len(output_list_2))"
   ]
  },
  {
   "cell_type": "code",
   "execution_count": 184,
   "id": "411e156f",
   "metadata": {},
   "outputs": [
    {
     "name": "stdout",
     "output_type": "stream",
     "text": [
      "Apple iPad 2 is shipped with 1 Lithium ion battery which can run up to 10 hours. provided extra battery life , extra ports and a hardware keyboard. However, some users have also mentioned that, the battery was dead.\n",
      "Apple iPad 2 is shipped with 1 Lithium ion battery which can run up to 10 hours. provided extra battery life , extra ports and a hardware keyboard. However, some users have also mentioned that, the most significant of which was poor battery life and frequent crashes.\n",
      "Apple iPad 2 is shipped with 1 Lithium ion battery which can run up to 10 hours. provided extra battery life , extra ports and a hardware keyboard. However, some users have also mentioned that, the battery life is pretty poor.\n",
      "Apple iPad 2 is shipped with 1 Lithium ion battery which can run up to 10 hours. provided extra battery life , extra ports and a hardware keyboard. However, some users have also mentioned that, The battery did n't even make it 6 months before it stopped holding a charge.\n",
      "Apple iPad 2 is shipped with 1 Lithium ion battery which can run up to 10 hours. provided extra battery life , extra ports and a hardware keyboard. However, some users have also mentioned that, The battery life is terrible.\n",
      "Apple iPad 2 is shipped with 1 Lithium ion battery which can run up to 10 hours. provided extra battery life , extra ports and a hardware keyboard. However, some users have also mentioned that, After about a week or two , the battery did n't seem to stay charged as long.\n",
      "Apple iPad 2 is shipped with 1 Lithium ion battery which can run up to 10 hours. provided extra battery life , extra ports and a hardware keyboard. However, some users have also mentioned that, battery life not so good.\n",
      "Apple iPad 2 is shipped with 1 Lithium ion battery which can run up to 10 hours. provided extra battery life , extra ports and a hardware keyboard. However, some users have also mentioned that, Now the battery has died completely.\n",
      "Apple iPad 2 is shipped with 1 Lithium ion battery which can run up to 10 hours. provided extra battery life , extra ports and a hardware keyboard. However, some users have also mentioned that, The battery was bad.\n",
      "Apple iPad 2 is shipped with 1 Lithium ion battery which can run up to 10 hours. provided extra battery life , extra ports and a hardware keyboard. However, some users have also mentioned that, Battery life sucks.\n",
      "Apple iPad 2 is shipped with 1 Lithium ion battery which can run up to 10 hours. provided extra battery life , extra ports and a hardware keyboard. However, some users have also mentioned that, The battery does n't last very long.\n",
      "Apple iPad 2 is shipped with 1 Lithium ion battery which can run up to 10 hours. provided extra battery life , extra ports and a hardware keyboard. However, some users have also mentioned that, watch the battery drain.\n",
      "Apple iPad 2 is shipped with 1 Lithium ion battery which can run up to 10 hours. provided extra battery life , extra ports and a hardware keyboard. However, some users have also mentioned that, The battery sucks so bad.\n",
      "Apple iPad 2 is shipped with 1 Lithium ion battery which can run up to 10 hours. provided extra battery life , extra ports and a hardware keyboard. However, some users have also mentioned that, that apple chose not to allow it due to battery life issues.\n",
      "Apple iPad 2 is shipped with 1 Lithium ion battery which can run up to 10 hours. provided extra battery life , extra ports and a hardware keyboard. However, some users have also mentioned that, Can not change battery.\n",
      "Apple iPad 2 is shipped with 1 Lithium ion battery which can run up to 10 hours. provided extra battery life , extra ports and a hardware keyboard. However, some users have also mentioned that, it came with no battery life at all.\n",
      "Apple iPad 2 is shipped with 1 Lithium ion battery which can run up to 10 hours. provided extra battery life , extra ports and a hardware keyboard. However, some users have also mentioned that, Battery was defective so.\n",
      "Apple iPad 2 is shipped with 1 Lithium ion battery which can run up to 10 hours. provided extra battery life , extra ports and a hardware keyboard. However, some users have also mentioned that, insane battery life.\n",
      "Apple iPad 2 is shipped with 1 Lithium ion battery which can run up to 10 hours. It does pretty well with the battery life at mid-level brightness. However, some users have also mentioned that, the battery was dead.\n",
      "Apple iPad 2 is shipped with 1 Lithium ion battery which can run up to 10 hours. It does pretty well with the battery life at mid-level brightness. However, some users have also mentioned that, the most significant of which was poor battery life and frequent crashes.\n",
      "Apple iPad 2 is shipped with 1 Lithium ion battery which can run up to 10 hours. It does pretty well with the battery life at mid-level brightness. However, some users have also mentioned that, the battery life is pretty poor.\n",
      "Apple iPad 2 is shipped with 1 Lithium ion battery which can run up to 10 hours. It does pretty well with the battery life at mid-level brightness. However, some users have also mentioned that, The battery did n't even make it 6 months before it stopped holding a charge.\n",
      "Apple iPad 2 is shipped with 1 Lithium ion battery which can run up to 10 hours. It does pretty well with the battery life at mid-level brightness. However, some users have also mentioned that, The battery life is terrible.\n",
      "Apple iPad 2 is shipped with 1 Lithium ion battery which can run up to 10 hours. It does pretty well with the battery life at mid-level brightness. However, some users have also mentioned that, After about a week or two , the battery did n't seem to stay charged as long.\n",
      "Apple iPad 2 is shipped with 1 Lithium ion battery which can run up to 10 hours. It does pretty well with the battery life at mid-level brightness. However, some users have also mentioned that, battery life not so good.\n",
      "Apple iPad 2 is shipped with 1 Lithium ion battery which can run up to 10 hours. It does pretty well with the battery life at mid-level brightness. However, some users have also mentioned that, Now the battery has died completely.\n",
      "Apple iPad 2 is shipped with 1 Lithium ion battery which can run up to 10 hours. It does pretty well with the battery life at mid-level brightness. However, some users have also mentioned that, The battery was bad.\n",
      "Apple iPad 2 is shipped with 1 Lithium ion battery which can run up to 10 hours. It does pretty well with the battery life at mid-level brightness. However, some users have also mentioned that, Battery life sucks.\n",
      "Apple iPad 2 is shipped with 1 Lithium ion battery which can run up to 10 hours. It does pretty well with the battery life at mid-level brightness. However, some users have also mentioned that, The battery does n't last very long.\n",
      "Apple iPad 2 is shipped with 1 Lithium ion battery which can run up to 10 hours. It does pretty well with the battery life at mid-level brightness. However, some users have also mentioned that, watch the battery drain.\n",
      "Apple iPad 2 is shipped with 1 Lithium ion battery which can run up to 10 hours. It does pretty well with the battery life at mid-level brightness. However, some users have also mentioned that, The battery sucks so bad.\n",
      "Apple iPad 2 is shipped with 1 Lithium ion battery which can run up to 10 hours. It does pretty well with the battery life at mid-level brightness. However, some users have also mentioned that, that apple chose not to allow it due to battery life issues.\n",
      "Apple iPad 2 is shipped with 1 Lithium ion battery which can run up to 10 hours. It does pretty well with the battery life at mid-level brightness. However, some users have also mentioned that, Can not change battery.\n",
      "Apple iPad 2 is shipped with 1 Lithium ion battery which can run up to 10 hours. It does pretty well with the battery life at mid-level brightness. However, some users have also mentioned that, it came with no battery life at all.\n",
      "Apple iPad 2 is shipped with 1 Lithium ion battery which can run up to 10 hours. It does pretty well with the battery life at mid-level brightness. However, some users have also mentioned that, Battery was defective so.\n",
      "Apple iPad 2 is shipped with 1 Lithium ion battery which can run up to 10 hours. It does pretty well with the battery life at mid-level brightness. However, some users have also mentioned that, insane battery life.\n",
      "Apple iPad 2 is shipped with 1 Lithium ion battery which can run up to 10 hours. Facetime and the battery life are the two benefits of this device. However, some users have also mentioned that, the battery was dead.\n",
      "Apple iPad 2 is shipped with 1 Lithium ion battery which can run up to 10 hours. Facetime and the battery life are the two benefits of this device. However, some users have also mentioned that, the most significant of which was poor battery life and frequent crashes.\n",
      "Apple iPad 2 is shipped with 1 Lithium ion battery which can run up to 10 hours. Facetime and the battery life are the two benefits of this device. However, some users have also mentioned that, the battery life is pretty poor.\n",
      "Apple iPad 2 is shipped with 1 Lithium ion battery which can run up to 10 hours. Facetime and the battery life are the two benefits of this device. However, some users have also mentioned that, The battery did n't even make it 6 months before it stopped holding a charge.\n",
      "Apple iPad 2 is shipped with 1 Lithium ion battery which can run up to 10 hours. Facetime and the battery life are the two benefits of this device. However, some users have also mentioned that, The battery life is terrible.\n",
      "Apple iPad 2 is shipped with 1 Lithium ion battery which can run up to 10 hours. Facetime and the battery life are the two benefits of this device. However, some users have also mentioned that, After about a week or two , the battery did n't seem to stay charged as long.\n",
      "Apple iPad 2 is shipped with 1 Lithium ion battery which can run up to 10 hours. Facetime and the battery life are the two benefits of this device. However, some users have also mentioned that, battery life not so good.\n",
      "Apple iPad 2 is shipped with 1 Lithium ion battery which can run up to 10 hours. Facetime and the battery life are the two benefits of this device. However, some users have also mentioned that, Now the battery has died completely.\n",
      "Apple iPad 2 is shipped with 1 Lithium ion battery which can run up to 10 hours. Facetime and the battery life are the two benefits of this device. However, some users have also mentioned that, The battery was bad.\n",
      "Apple iPad 2 is shipped with 1 Lithium ion battery which can run up to 10 hours. Facetime and the battery life are the two benefits of this device. However, some users have also mentioned that, Battery life sucks.\n",
      "Apple iPad 2 is shipped with 1 Lithium ion battery which can run up to 10 hours. Facetime and the battery life are the two benefits of this device. However, some users have also mentioned that, The battery does n't last very long.\n",
      "Apple iPad 2 is shipped with 1 Lithium ion battery which can run up to 10 hours. Facetime and the battery life are the two benefits of this device. However, some users have also mentioned that, watch the battery drain.\n",
      "Apple iPad 2 is shipped with 1 Lithium ion battery which can run up to 10 hours. Facetime and the battery life are the two benefits of this device. However, some users have also mentioned that, The battery sucks so bad.\n",
      "Apple iPad 2 is shipped with 1 Lithium ion battery which can run up to 10 hours. Facetime and the battery life are the two benefits of this device. However, some users have also mentioned that, that apple chose not to allow it due to battery life issues.\n",
      "Apple iPad 2 is shipped with 1 Lithium ion battery which can run up to 10 hours. Facetime and the battery life are the two benefits of this device. However, some users have also mentioned that, Can not change battery.\n",
      "Apple iPad 2 is shipped with 1 Lithium ion battery which can run up to 10 hours. Facetime and the battery life are the two benefits of this device. However, some users have also mentioned that, it came with no battery life at all.\n",
      "Apple iPad 2 is shipped with 1 Lithium ion battery which can run up to 10 hours. Facetime and the battery life are the two benefits of this device. However, some users have also mentioned that, Battery was defective so.\n",
      "Apple iPad 2 is shipped with 1 Lithium ion battery which can run up to 10 hours. Facetime and the battery life are the two benefits of this device. However, some users have also mentioned that, insane battery life.\n",
      "Apple iPad 2 is shipped with 1 Lithium ion battery which can run up to 10 hours. Battery charge life is phenomenal. However, some users have also mentioned that, the battery was dead.\n",
      "Apple iPad 2 is shipped with 1 Lithium ion battery which can run up to 10 hours. Battery charge life is phenomenal. However, some users have also mentioned that, the most significant of which was poor battery life and frequent crashes.\n",
      "Apple iPad 2 is shipped with 1 Lithium ion battery which can run up to 10 hours. Battery charge life is phenomenal. However, some users have also mentioned that, the battery life is pretty poor.\n",
      "Apple iPad 2 is shipped with 1 Lithium ion battery which can run up to 10 hours. Battery charge life is phenomenal. However, some users have also mentioned that, The battery did n't even make it 6 months before it stopped holding a charge.\n",
      "Apple iPad 2 is shipped with 1 Lithium ion battery which can run up to 10 hours. Battery charge life is phenomenal. However, some users have also mentioned that, The battery life is terrible.\n",
      "Apple iPad 2 is shipped with 1 Lithium ion battery which can run up to 10 hours. Battery charge life is phenomenal. However, some users have also mentioned that, After about a week or two , the battery did n't seem to stay charged as long.\n",
      "Apple iPad 2 is shipped with 1 Lithium ion battery which can run up to 10 hours. Battery charge life is phenomenal. However, some users have also mentioned that, battery life not so good.\n",
      "Apple iPad 2 is shipped with 1 Lithium ion battery which can run up to 10 hours. Battery charge life is phenomenal. However, some users have also mentioned that, Now the battery has died completely.\n",
      "Apple iPad 2 is shipped with 1 Lithium ion battery which can run up to 10 hours. Battery charge life is phenomenal. However, some users have also mentioned that, The battery was bad.\n",
      "Apple iPad 2 is shipped with 1 Lithium ion battery which can run up to 10 hours. Battery charge life is phenomenal. However, some users have also mentioned that, Battery life sucks.\n",
      "Apple iPad 2 is shipped with 1 Lithium ion battery which can run up to 10 hours. Battery charge life is phenomenal. However, some users have also mentioned that, The battery does n't last very long.\n",
      "Apple iPad 2 is shipped with 1 Lithium ion battery which can run up to 10 hours. Battery charge life is phenomenal. However, some users have also mentioned that, watch the battery drain.\n",
      "Apple iPad 2 is shipped with 1 Lithium ion battery which can run up to 10 hours. Battery charge life is phenomenal. However, some users have also mentioned that, The battery sucks so bad.\n",
      "Apple iPad 2 is shipped with 1 Lithium ion battery which can run up to 10 hours. Battery charge life is phenomenal. However, some users have also mentioned that, that apple chose not to allow it due to battery life issues.\n",
      "Apple iPad 2 is shipped with 1 Lithium ion battery which can run up to 10 hours. Battery charge life is phenomenal. However, some users have also mentioned that, Can not change battery.\n",
      "Apple iPad 2 is shipped with 1 Lithium ion battery which can run up to 10 hours. Battery charge life is phenomenal. However, some users have also mentioned that, it came with no battery life at all.\n",
      "Apple iPad 2 is shipped with 1 Lithium ion battery which can run up to 10 hours. Battery charge life is phenomenal. However, some users have also mentioned that, Battery was defective so.\n",
      "Apple iPad 2 is shipped with 1 Lithium ion battery which can run up to 10 hours. Battery charge life is phenomenal. However, some users have also mentioned that, insane battery life.\n",
      "Apple iPad 2 is shipped with 1 Lithium ion battery which can run up to 10 hours. The battery really does last 10 hours. However, some users have also mentioned that, the battery was dead.\n",
      "Apple iPad 2 is shipped with 1 Lithium ion battery which can run up to 10 hours. The battery really does last 10 hours. However, some users have also mentioned that, the most significant of which was poor battery life and frequent crashes.\n",
      "Apple iPad 2 is shipped with 1 Lithium ion battery which can run up to 10 hours. The battery really does last 10 hours. However, some users have also mentioned that, the battery life is pretty poor.\n",
      "Apple iPad 2 is shipped with 1 Lithium ion battery which can run up to 10 hours. The battery really does last 10 hours. However, some users have also mentioned that, The battery did n't even make it 6 months before it stopped holding a charge.\n",
      "Apple iPad 2 is shipped with 1 Lithium ion battery which can run up to 10 hours. The battery really does last 10 hours. However, some users have also mentioned that, The battery life is terrible.\n",
      "Apple iPad 2 is shipped with 1 Lithium ion battery which can run up to 10 hours. The battery really does last 10 hours. However, some users have also mentioned that, After about a week or two , the battery did n't seem to stay charged as long.\n",
      "Apple iPad 2 is shipped with 1 Lithium ion battery which can run up to 10 hours. The battery really does last 10 hours. However, some users have also mentioned that, battery life not so good.\n",
      "Apple iPad 2 is shipped with 1 Lithium ion battery which can run up to 10 hours. The battery really does last 10 hours. However, some users have also mentioned that, Now the battery has died completely.\n",
      "Apple iPad 2 is shipped with 1 Lithium ion battery which can run up to 10 hours. The battery really does last 10 hours. However, some users have also mentioned that, The battery was bad.\n",
      "Apple iPad 2 is shipped with 1 Lithium ion battery which can run up to 10 hours. The battery really does last 10 hours. However, some users have also mentioned that, Battery life sucks.\n",
      "Apple iPad 2 is shipped with 1 Lithium ion battery which can run up to 10 hours. The battery really does last 10 hours. However, some users have also mentioned that, The battery does n't last very long.\n",
      "Apple iPad 2 is shipped with 1 Lithium ion battery which can run up to 10 hours. The battery really does last 10 hours. However, some users have also mentioned that, watch the battery drain.\n",
      "Apple iPad 2 is shipped with 1 Lithium ion battery which can run up to 10 hours. The battery really does last 10 hours. However, some users have also mentioned that, The battery sucks so bad.\n",
      "Apple iPad 2 is shipped with 1 Lithium ion battery which can run up to 10 hours. The battery really does last 10 hours. However, some users have also mentioned that, that apple chose not to allow it due to battery life issues.\n",
      "Apple iPad 2 is shipped with 1 Lithium ion battery which can run up to 10 hours. The battery really does last 10 hours. However, some users have also mentioned that, Can not change battery.\n",
      "Apple iPad 2 is shipped with 1 Lithium ion battery which can run up to 10 hours. The battery really does last 10 hours. However, some users have also mentioned that, it came with no battery life at all.\n",
      "Apple iPad 2 is shipped with 1 Lithium ion battery which can run up to 10 hours. The battery really does last 10 hours. However, some users have also mentioned that, Battery was defective so.\n",
      "Apple iPad 2 is shipped with 1 Lithium ion battery which can run up to 10 hours. The battery really does last 10 hours. However, some users have also mentioned that, insane battery life.\n",
      "Apple iPad 2 is shipped with 1 Lithium ion battery which can run up to 10 hours. Battery life : Very good. However, some users have also mentioned that, the battery was dead.\n",
      "Apple iPad 2 is shipped with 1 Lithium ion battery which can run up to 10 hours. Battery life : Very good. However, some users have also mentioned that, the most significant of which was poor battery life and frequent crashes.\n",
      "Apple iPad 2 is shipped with 1 Lithium ion battery which can run up to 10 hours. Battery life : Very good. However, some users have also mentioned that, the battery life is pretty poor.\n",
      "Apple iPad 2 is shipped with 1 Lithium ion battery which can run up to 10 hours. Battery life : Very good. However, some users have also mentioned that, The battery did n't even make it 6 months before it stopped holding a charge.\n",
      "Apple iPad 2 is shipped with 1 Lithium ion battery which can run up to 10 hours. Battery life : Very good. However, some users have also mentioned that, The battery life is terrible.\n",
      "Apple iPad 2 is shipped with 1 Lithium ion battery which can run up to 10 hours. Battery life : Very good. However, some users have also mentioned that, After about a week or two , the battery did n't seem to stay charged as long.\n",
      "Apple iPad 2 is shipped with 1 Lithium ion battery which can run up to 10 hours. Battery life : Very good. However, some users have also mentioned that, battery life not so good.\n",
      "Apple iPad 2 is shipped with 1 Lithium ion battery which can run up to 10 hours. Battery life : Very good. However, some users have also mentioned that, Now the battery has died completely.\n",
      "Apple iPad 2 is shipped with 1 Lithium ion battery which can run up to 10 hours. Battery life : Very good. However, some users have also mentioned that, The battery was bad.\n",
      "Apple iPad 2 is shipped with 1 Lithium ion battery which can run up to 10 hours. Battery life : Very good. However, some users have also mentioned that, Battery life sucks.\n",
      "Apple iPad 2 is shipped with 1 Lithium ion battery which can run up to 10 hours. Battery life : Very good. However, some users have also mentioned that, The battery does n't last very long.\n",
      "Apple iPad 2 is shipped with 1 Lithium ion battery which can run up to 10 hours. Battery life : Very good. However, some users have also mentioned that, watch the battery drain.\n",
      "Apple iPad 2 is shipped with 1 Lithium ion battery which can run up to 10 hours. Battery life : Very good. However, some users have also mentioned that, The battery sucks so bad.\n",
      "Apple iPad 2 is shipped with 1 Lithium ion battery which can run up to 10 hours. Battery life : Very good. However, some users have also mentioned that, that apple chose not to allow it due to battery life issues.\n",
      "Apple iPad 2 is shipped with 1 Lithium ion battery which can run up to 10 hours. Battery life : Very good. However, some users have also mentioned that, Can not change battery.\n",
      "Apple iPad 2 is shipped with 1 Lithium ion battery which can run up to 10 hours. Battery life : Very good. However, some users have also mentioned that, it came with no battery life at all.\n",
      "Apple iPad 2 is shipped with 1 Lithium ion battery which can run up to 10 hours. Battery life : Very good. However, some users have also mentioned that, Battery was defective so.\n",
      "Apple iPad 2 is shipped with 1 Lithium ion battery which can run up to 10 hours. Battery life : Very good. However, some users have also mentioned that, insane battery life.\n",
      "Apple iPad 2 is shipped with 1 Lithium ion battery which can run up to 10 hours. rhapsodically over lighter weight , better LED screen , improved battery life. However, some users have also mentioned that, the battery was dead.\n",
      "Apple iPad 2 is shipped with 1 Lithium ion battery which can run up to 10 hours. rhapsodically over lighter weight , better LED screen , improved battery life. However, some users have also mentioned that, the most significant of which was poor battery life and frequent crashes.\n",
      "Apple iPad 2 is shipped with 1 Lithium ion battery which can run up to 10 hours. rhapsodically over lighter weight , better LED screen , improved battery life. However, some users have also mentioned that, the battery life is pretty poor.\n",
      "Apple iPad 2 is shipped with 1 Lithium ion battery which can run up to 10 hours. rhapsodically over lighter weight , better LED screen , improved battery life. However, some users have also mentioned that, The battery did n't even make it 6 months before it stopped holding a charge.\n",
      "Apple iPad 2 is shipped with 1 Lithium ion battery which can run up to 10 hours. rhapsodically over lighter weight , better LED screen , improved battery life. However, some users have also mentioned that, The battery life is terrible.\n",
      "Apple iPad 2 is shipped with 1 Lithium ion battery which can run up to 10 hours. rhapsodically over lighter weight , better LED screen , improved battery life. However, some users have also mentioned that, After about a week or two , the battery did n't seem to stay charged as long.\n",
      "Apple iPad 2 is shipped with 1 Lithium ion battery which can run up to 10 hours. rhapsodically over lighter weight , better LED screen , improved battery life. However, some users have also mentioned that, battery life not so good.\n",
      "Apple iPad 2 is shipped with 1 Lithium ion battery which can run up to 10 hours. rhapsodically over lighter weight , better LED screen , improved battery life. However, some users have also mentioned that, Now the battery has died completely.\n",
      "Apple iPad 2 is shipped with 1 Lithium ion battery which can run up to 10 hours. rhapsodically over lighter weight , better LED screen , improved battery life. However, some users have also mentioned that, The battery was bad.\n",
      "Apple iPad 2 is shipped with 1 Lithium ion battery which can run up to 10 hours. rhapsodically over lighter weight , better LED screen , improved battery life. However, some users have also mentioned that, Battery life sucks.\n",
      "Apple iPad 2 is shipped with 1 Lithium ion battery which can run up to 10 hours. rhapsodically over lighter weight , better LED screen , improved battery life. However, some users have also mentioned that, The battery does n't last very long.\n",
      "Apple iPad 2 is shipped with 1 Lithium ion battery which can run up to 10 hours. rhapsodically over lighter weight , better LED screen , improved battery life. However, some users have also mentioned that, watch the battery drain.\n",
      "Apple iPad 2 is shipped with 1 Lithium ion battery which can run up to 10 hours. rhapsodically over lighter weight , better LED screen , improved battery life. However, some users have also mentioned that, The battery sucks so bad.\n",
      "Apple iPad 2 is shipped with 1 Lithium ion battery which can run up to 10 hours. rhapsodically over lighter weight , better LED screen , improved battery life. However, some users have also mentioned that, that apple chose not to allow it due to battery life issues.\n",
      "Apple iPad 2 is shipped with 1 Lithium ion battery which can run up to 10 hours. rhapsodically over lighter weight , better LED screen , improved battery life. However, some users have also mentioned that, Can not change battery.\n",
      "Apple iPad 2 is shipped with 1 Lithium ion battery which can run up to 10 hours. rhapsodically over lighter weight , better LED screen , improved battery life. However, some users have also mentioned that, it came with no battery life at all.\n",
      "Apple iPad 2 is shipped with 1 Lithium ion battery which can run up to 10 hours. rhapsodically over lighter weight , better LED screen , improved battery life. However, some users have also mentioned that, Battery was defective so.\n",
      "Apple iPad 2 is shipped with 1 Lithium ion battery which can run up to 10 hours. rhapsodically over lighter weight , better LED screen , improved battery life. However, some users have also mentioned that, insane battery life.\n",
      "Apple iPad 2 is shipped with 1 Lithium ion battery which can run up to 10 hours. has a great battery life. However, some users have also mentioned that, the battery was dead.\n",
      "Apple iPad 2 is shipped with 1 Lithium ion battery which can run up to 10 hours. has a great battery life. However, some users have also mentioned that, the most significant of which was poor battery life and frequent crashes.\n",
      "Apple iPad 2 is shipped with 1 Lithium ion battery which can run up to 10 hours. has a great battery life. However, some users have also mentioned that, the battery life is pretty poor.\n",
      "Apple iPad 2 is shipped with 1 Lithium ion battery which can run up to 10 hours. has a great battery life. However, some users have also mentioned that, The battery did n't even make it 6 months before it stopped holding a charge.\n",
      "Apple iPad 2 is shipped with 1 Lithium ion battery which can run up to 10 hours. has a great battery life. However, some users have also mentioned that, The battery life is terrible.\n",
      "Apple iPad 2 is shipped with 1 Lithium ion battery which can run up to 10 hours. has a great battery life. However, some users have also mentioned that, After about a week or two , the battery did n't seem to stay charged as long.\n",
      "Apple iPad 2 is shipped with 1 Lithium ion battery which can run up to 10 hours. has a great battery life. However, some users have also mentioned that, battery life not so good.\n",
      "Apple iPad 2 is shipped with 1 Lithium ion battery which can run up to 10 hours. has a great battery life. However, some users have also mentioned that, Now the battery has died completely.\n",
      "Apple iPad 2 is shipped with 1 Lithium ion battery which can run up to 10 hours. has a great battery life. However, some users have also mentioned that, The battery was bad.\n",
      "Apple iPad 2 is shipped with 1 Lithium ion battery which can run up to 10 hours. has a great battery life. However, some users have also mentioned that, Battery life sucks.\n",
      "Apple iPad 2 is shipped with 1 Lithium ion battery which can run up to 10 hours. has a great battery life. However, some users have also mentioned that, The battery does n't last very long.\n",
      "Apple iPad 2 is shipped with 1 Lithium ion battery which can run up to 10 hours. has a great battery life. However, some users have also mentioned that, watch the battery drain.\n",
      "Apple iPad 2 is shipped with 1 Lithium ion battery which can run up to 10 hours. has a great battery life. However, some users have also mentioned that, The battery sucks so bad.\n",
      "Apple iPad 2 is shipped with 1 Lithium ion battery which can run up to 10 hours. has a great battery life. However, some users have also mentioned that, that apple chose not to allow it due to battery life issues.\n",
      "Apple iPad 2 is shipped with 1 Lithium ion battery which can run up to 10 hours. has a great battery life. However, some users have also mentioned that, Can not change battery.\n",
      "Apple iPad 2 is shipped with 1 Lithium ion battery which can run up to 10 hours. has a great battery life. However, some users have also mentioned that, it came with no battery life at all.\n",
      "Apple iPad 2 is shipped with 1 Lithium ion battery which can run up to 10 hours. has a great battery life. However, some users have also mentioned that, Battery was defective so.\n",
      "Apple iPad 2 is shipped with 1 Lithium ion battery which can run up to 10 hours. has a great battery life. However, some users have also mentioned that, insane battery life.\n",
      "Apple iPad 2 is shipped with 1 Lithium ion battery which can run up to 10 hours. Battery life is pretty good so far is lasting almost all day long with moderate use. However, some users have also mentioned that, the battery was dead.\n",
      "Apple iPad 2 is shipped with 1 Lithium ion battery which can run up to 10 hours. Battery life is pretty good so far is lasting almost all day long with moderate use. However, some users have also mentioned that, the most significant of which was poor battery life and frequent crashes.\n",
      "Apple iPad 2 is shipped with 1 Lithium ion battery which can run up to 10 hours. Battery life is pretty good so far is lasting almost all day long with moderate use. However, some users have also mentioned that, the battery life is pretty poor.\n",
      "Apple iPad 2 is shipped with 1 Lithium ion battery which can run up to 10 hours. Battery life is pretty good so far is lasting almost all day long with moderate use. However, some users have also mentioned that, The battery did n't even make it 6 months before it stopped holding a charge.\n",
      "Apple iPad 2 is shipped with 1 Lithium ion battery which can run up to 10 hours. Battery life is pretty good so far is lasting almost all day long with moderate use. However, some users have also mentioned that, The battery life is terrible.\n",
      "Apple iPad 2 is shipped with 1 Lithium ion battery which can run up to 10 hours. Battery life is pretty good so far is lasting almost all day long with moderate use. However, some users have also mentioned that, After about a week or two , the battery did n't seem to stay charged as long.\n",
      "Apple iPad 2 is shipped with 1 Lithium ion battery which can run up to 10 hours. Battery life is pretty good so far is lasting almost all day long with moderate use. However, some users have also mentioned that, battery life not so good.\n",
      "Apple iPad 2 is shipped with 1 Lithium ion battery which can run up to 10 hours. Battery life is pretty good so far is lasting almost all day long with moderate use. However, some users have also mentioned that, Now the battery has died completely.\n",
      "Apple iPad 2 is shipped with 1 Lithium ion battery which can run up to 10 hours. Battery life is pretty good so far is lasting almost all day long with moderate use. However, some users have also mentioned that, The battery was bad.\n",
      "Apple iPad 2 is shipped with 1 Lithium ion battery which can run up to 10 hours. Battery life is pretty good so far is lasting almost all day long with moderate use. However, some users have also mentioned that, Battery life sucks.\n",
      "Apple iPad 2 is shipped with 1 Lithium ion battery which can run up to 10 hours. Battery life is pretty good so far is lasting almost all day long with moderate use. However, some users have also mentioned that, The battery does n't last very long.\n",
      "Apple iPad 2 is shipped with 1 Lithium ion battery which can run up to 10 hours. Battery life is pretty good so far is lasting almost all day long with moderate use. However, some users have also mentioned that, watch the battery drain.\n",
      "Apple iPad 2 is shipped with 1 Lithium ion battery which can run up to 10 hours. Battery life is pretty good so far is lasting almost all day long with moderate use. However, some users have also mentioned that, The battery sucks so bad.\n",
      "Apple iPad 2 is shipped with 1 Lithium ion battery which can run up to 10 hours. Battery life is pretty good so far is lasting almost all day long with moderate use. However, some users have also mentioned that, that apple chose not to allow it due to battery life issues.\n",
      "Apple iPad 2 is shipped with 1 Lithium ion battery which can run up to 10 hours. Battery life is pretty good so far is lasting almost all day long with moderate use. However, some users have also mentioned that, Can not change battery.\n",
      "Apple iPad 2 is shipped with 1 Lithium ion battery which can run up to 10 hours. Battery life is pretty good so far is lasting almost all day long with moderate use. However, some users have also mentioned that, it came with no battery life at all.\n",
      "Apple iPad 2 is shipped with 1 Lithium ion battery which can run up to 10 hours. Battery life is pretty good so far is lasting almost all day long with moderate use. However, some users have also mentioned that, Battery was defective so.\n",
      "Apple iPad 2 is shipped with 1 Lithium ion battery which can run up to 10 hours. Battery life is pretty good so far is lasting almost all day long with moderate use. However, some users have also mentioned that, insane battery life.\n",
      "Apple iPad 2 is shipped with 1 Lithium ion battery which can run up to 10 hours. Battery life works very well and all the cases and charger. However, some users have also mentioned that, the battery was dead.\n",
      "Apple iPad 2 is shipped with 1 Lithium ion battery which can run up to 10 hours. Battery life works very well and all the cases and charger. However, some users have also mentioned that, the most significant of which was poor battery life and frequent crashes.\n",
      "Apple iPad 2 is shipped with 1 Lithium ion battery which can run up to 10 hours. Battery life works very well and all the cases and charger. However, some users have also mentioned that, the battery life is pretty poor.\n",
      "Apple iPad 2 is shipped with 1 Lithium ion battery which can run up to 10 hours. Battery life works very well and all the cases and charger. However, some users have also mentioned that, The battery did n't even make it 6 months before it stopped holding a charge.\n",
      "Apple iPad 2 is shipped with 1 Lithium ion battery which can run up to 10 hours. Battery life works very well and all the cases and charger. However, some users have also mentioned that, The battery life is terrible.\n",
      "Apple iPad 2 is shipped with 1 Lithium ion battery which can run up to 10 hours. Battery life works very well and all the cases and charger. However, some users have also mentioned that, After about a week or two , the battery did n't seem to stay charged as long.\n",
      "Apple iPad 2 is shipped with 1 Lithium ion battery which can run up to 10 hours. Battery life works very well and all the cases and charger. However, some users have also mentioned that, battery life not so good.\n",
      "Apple iPad 2 is shipped with 1 Lithium ion battery which can run up to 10 hours. Battery life works very well and all the cases and charger. However, some users have also mentioned that, Now the battery has died completely.\n",
      "Apple iPad 2 is shipped with 1 Lithium ion battery which can run up to 10 hours. Battery life works very well and all the cases and charger. However, some users have also mentioned that, The battery was bad.\n",
      "Apple iPad 2 is shipped with 1 Lithium ion battery which can run up to 10 hours. Battery life works very well and all the cases and charger. However, some users have also mentioned that, Battery life sucks.\n",
      "Apple iPad 2 is shipped with 1 Lithium ion battery which can run up to 10 hours. Battery life works very well and all the cases and charger. However, some users have also mentioned that, The battery does n't last very long.\n",
      "Apple iPad 2 is shipped with 1 Lithium ion battery which can run up to 10 hours. Battery life works very well and all the cases and charger. However, some users have also mentioned that, watch the battery drain.\n",
      "Apple iPad 2 is shipped with 1 Lithium ion battery which can run up to 10 hours. Battery life works very well and all the cases and charger. However, some users have also mentioned that, The battery sucks so bad.\n",
      "Apple iPad 2 is shipped with 1 Lithium ion battery which can run up to 10 hours. Battery life works very well and all the cases and charger. However, some users have also mentioned that, that apple chose not to allow it due to battery life issues.\n",
      "Apple iPad 2 is shipped with 1 Lithium ion battery which can run up to 10 hours. Battery life works very well and all the cases and charger. However, some users have also mentioned that, Can not change battery.\n",
      "Apple iPad 2 is shipped with 1 Lithium ion battery which can run up to 10 hours. Battery life works very well and all the cases and charger. However, some users have also mentioned that, it came with no battery life at all.\n",
      "Apple iPad 2 is shipped with 1 Lithium ion battery which can run up to 10 hours. Battery life works very well and all the cases and charger. However, some users have also mentioned that, Battery was defective so.\n",
      "Apple iPad 2 is shipped with 1 Lithium ion battery which can run up to 10 hours. Battery life works very well and all the cases and charger. However, some users have also mentioned that, insane battery life.\n",
      "Apple iPad 2 is shipped with 1 Lithium ion battery which can run up to 10 hours. the iPad 2 has the longest battery life of ALL the iPad generations up through the iPad 4. However, some users have also mentioned that, the battery was dead.\n",
      "Apple iPad 2 is shipped with 1 Lithium ion battery which can run up to 10 hours. the iPad 2 has the longest battery life of ALL the iPad generations up through the iPad 4. However, some users have also mentioned that, the most significant of which was poor battery life and frequent crashes.\n",
      "Apple iPad 2 is shipped with 1 Lithium ion battery which can run up to 10 hours. the iPad 2 has the longest battery life of ALL the iPad generations up through the iPad 4. However, some users have also mentioned that, the battery life is pretty poor.\n",
      "Apple iPad 2 is shipped with 1 Lithium ion battery which can run up to 10 hours. the iPad 2 has the longest battery life of ALL the iPad generations up through the iPad 4. However, some users have also mentioned that, The battery did n't even make it 6 months before it stopped holding a charge.\n",
      "Apple iPad 2 is shipped with 1 Lithium ion battery which can run up to 10 hours. the iPad 2 has the longest battery life of ALL the iPad generations up through the iPad 4. However, some users have also mentioned that, The battery life is terrible.\n",
      "Apple iPad 2 is shipped with 1 Lithium ion battery which can run up to 10 hours. the iPad 2 has the longest battery life of ALL the iPad generations up through the iPad 4. However, some users have also mentioned that, After about a week or two , the battery did n't seem to stay charged as long.\n",
      "Apple iPad 2 is shipped with 1 Lithium ion battery which can run up to 10 hours. the iPad 2 has the longest battery life of ALL the iPad generations up through the iPad 4. However, some users have also mentioned that, battery life not so good.\n",
      "Apple iPad 2 is shipped with 1 Lithium ion battery which can run up to 10 hours. the iPad 2 has the longest battery life of ALL the iPad generations up through the iPad 4. However, some users have also mentioned that, Now the battery has died completely.\n",
      "Apple iPad 2 is shipped with 1 Lithium ion battery which can run up to 10 hours. the iPad 2 has the longest battery life of ALL the iPad generations up through the iPad 4. However, some users have also mentioned that, The battery was bad.\n",
      "Apple iPad 2 is shipped with 1 Lithium ion battery which can run up to 10 hours. the iPad 2 has the longest battery life of ALL the iPad generations up through the iPad 4. However, some users have also mentioned that, Battery life sucks.\n",
      "Apple iPad 2 is shipped with 1 Lithium ion battery which can run up to 10 hours. the iPad 2 has the longest battery life of ALL the iPad generations up through the iPad 4. However, some users have also mentioned that, The battery does n't last very long.\n",
      "Apple iPad 2 is shipped with 1 Lithium ion battery which can run up to 10 hours. the iPad 2 has the longest battery life of ALL the iPad generations up through the iPad 4. However, some users have also mentioned that, watch the battery drain.\n",
      "Apple iPad 2 is shipped with 1 Lithium ion battery which can run up to 10 hours. the iPad 2 has the longest battery life of ALL the iPad generations up through the iPad 4. However, some users have also mentioned that, The battery sucks so bad.\n",
      "Apple iPad 2 is shipped with 1 Lithium ion battery which can run up to 10 hours. the iPad 2 has the longest battery life of ALL the iPad generations up through the iPad 4. However, some users have also mentioned that, that apple chose not to allow it due to battery life issues.\n",
      "Apple iPad 2 is shipped with 1 Lithium ion battery which can run up to 10 hours. the iPad 2 has the longest battery life of ALL the iPad generations up through the iPad 4. However, some users have also mentioned that, Can not change battery.\n",
      "Apple iPad 2 is shipped with 1 Lithium ion battery which can run up to 10 hours. the iPad 2 has the longest battery life of ALL the iPad generations up through the iPad 4. However, some users have also mentioned that, it came with no battery life at all.\n",
      "Apple iPad 2 is shipped with 1 Lithium ion battery which can run up to 10 hours. the iPad 2 has the longest battery life of ALL the iPad generations up through the iPad 4. However, some users have also mentioned that, Battery was defective so.\n",
      "Apple iPad 2 is shipped with 1 Lithium ion battery which can run up to 10 hours. the iPad 2 has the longest battery life of ALL the iPad generations up through the iPad 4. However, some users have also mentioned that, insane battery life.\n",
      "Apple iPad 2 is shipped with 1 Lithium ion battery which can run up to 10 hours. The battery is long lasting. However, some users have also mentioned that, the battery was dead.\n",
      "Apple iPad 2 is shipped with 1 Lithium ion battery which can run up to 10 hours. The battery is long lasting. However, some users have also mentioned that, the most significant of which was poor battery life and frequent crashes.\n",
      "Apple iPad 2 is shipped with 1 Lithium ion battery which can run up to 10 hours. The battery is long lasting. However, some users have also mentioned that, the battery life is pretty poor.\n",
      "Apple iPad 2 is shipped with 1 Lithium ion battery which can run up to 10 hours. The battery is long lasting. However, some users have also mentioned that, The battery did n't even make it 6 months before it stopped holding a charge.\n",
      "Apple iPad 2 is shipped with 1 Lithium ion battery which can run up to 10 hours. The battery is long lasting. However, some users have also mentioned that, The battery life is terrible.\n",
      "Apple iPad 2 is shipped with 1 Lithium ion battery which can run up to 10 hours. The battery is long lasting. However, some users have also mentioned that, After about a week or two , the battery did n't seem to stay charged as long.\n",
      "Apple iPad 2 is shipped with 1 Lithium ion battery which can run up to 10 hours. The battery is long lasting. However, some users have also mentioned that, battery life not so good.\n",
      "Apple iPad 2 is shipped with 1 Lithium ion battery which can run up to 10 hours. The battery is long lasting. However, some users have also mentioned that, Now the battery has died completely.\n",
      "Apple iPad 2 is shipped with 1 Lithium ion battery which can run up to 10 hours. The battery is long lasting. However, some users have also mentioned that, The battery was bad.\n",
      "Apple iPad 2 is shipped with 1 Lithium ion battery which can run up to 10 hours. The battery is long lasting. However, some users have also mentioned that, Battery life sucks.\n",
      "Apple iPad 2 is shipped with 1 Lithium ion battery which can run up to 10 hours. The battery is long lasting. However, some users have also mentioned that, The battery does n't last very long.\n",
      "Apple iPad 2 is shipped with 1 Lithium ion battery which can run up to 10 hours. The battery is long lasting. However, some users have also mentioned that, watch the battery drain.\n",
      "Apple iPad 2 is shipped with 1 Lithium ion battery which can run up to 10 hours. The battery is long lasting. However, some users have also mentioned that, The battery sucks so bad.\n",
      "Apple iPad 2 is shipped with 1 Lithium ion battery which can run up to 10 hours. The battery is long lasting. However, some users have also mentioned that, that apple chose not to allow it due to battery life issues.\n",
      "Apple iPad 2 is shipped with 1 Lithium ion battery which can run up to 10 hours. The battery is long lasting. However, some users have also mentioned that, Can not change battery.\n",
      "Apple iPad 2 is shipped with 1 Lithium ion battery which can run up to 10 hours. The battery is long lasting. However, some users have also mentioned that, it came with no battery life at all.\n",
      "Apple iPad 2 is shipped with 1 Lithium ion battery which can run up to 10 hours. The battery is long lasting. However, some users have also mentioned that, Battery was defective so.\n",
      "Apple iPad 2 is shipped with 1 Lithium ion battery which can run up to 10 hours. The battery is long lasting. However, some users have also mentioned that, insane battery life.\n",
      "Apple iPad 2 is shipped with 1 Lithium ion battery which can run up to 10 hours. Good battery life. However, some users have also mentioned that, the battery was dead.\n",
      "Apple iPad 2 is shipped with 1 Lithium ion battery which can run up to 10 hours. Good battery life. However, some users have also mentioned that, the most significant of which was poor battery life and frequent crashes.\n",
      "Apple iPad 2 is shipped with 1 Lithium ion battery which can run up to 10 hours. Good battery life. However, some users have also mentioned that, the battery life is pretty poor.\n",
      "Apple iPad 2 is shipped with 1 Lithium ion battery which can run up to 10 hours. Good battery life. However, some users have also mentioned that, The battery did n't even make it 6 months before it stopped holding a charge.\n",
      "Apple iPad 2 is shipped with 1 Lithium ion battery which can run up to 10 hours. Good battery life. However, some users have also mentioned that, The battery life is terrible.\n",
      "Apple iPad 2 is shipped with 1 Lithium ion battery which can run up to 10 hours. Good battery life. However, some users have also mentioned that, After about a week or two , the battery did n't seem to stay charged as long.\n",
      "Apple iPad 2 is shipped with 1 Lithium ion battery which can run up to 10 hours. Good battery life. However, some users have also mentioned that, battery life not so good.\n",
      "Apple iPad 2 is shipped with 1 Lithium ion battery which can run up to 10 hours. Good battery life. However, some users have also mentioned that, Now the battery has died completely.\n",
      "Apple iPad 2 is shipped with 1 Lithium ion battery which can run up to 10 hours. Good battery life. However, some users have also mentioned that, The battery was bad.\n",
      "Apple iPad 2 is shipped with 1 Lithium ion battery which can run up to 10 hours. Good battery life. However, some users have also mentioned that, Battery life sucks.\n",
      "Apple iPad 2 is shipped with 1 Lithium ion battery which can run up to 10 hours. Good battery life. However, some users have also mentioned that, The battery does n't last very long.\n",
      "Apple iPad 2 is shipped with 1 Lithium ion battery which can run up to 10 hours. Good battery life. However, some users have also mentioned that, watch the battery drain.\n",
      "Apple iPad 2 is shipped with 1 Lithium ion battery which can run up to 10 hours. Good battery life. However, some users have also mentioned that, The battery sucks so bad.\n",
      "Apple iPad 2 is shipped with 1 Lithium ion battery which can run up to 10 hours. Good battery life. However, some users have also mentioned that, that apple chose not to allow it due to battery life issues.\n",
      "Apple iPad 2 is shipped with 1 Lithium ion battery which can run up to 10 hours. Good battery life. However, some users have also mentioned that, Can not change battery.\n",
      "Apple iPad 2 is shipped with 1 Lithium ion battery which can run up to 10 hours. Good battery life. However, some users have also mentioned that, it came with no battery life at all.\n",
      "Apple iPad 2 is shipped with 1 Lithium ion battery which can run up to 10 hours. Good battery life. However, some users have also mentioned that, Battery was defective so.\n",
      "Apple iPad 2 is shipped with 1 Lithium ion battery which can run up to 10 hours. Good battery life. However, some users have also mentioned that, insane battery life.\n",
      "Apple iPad 2 is shipped with 1 Lithium ion battery which can run up to 10 hours. Love the iPad product . the battery lasts as long as it says. However, some users have also mentioned that, the battery was dead.\n",
      "Apple iPad 2 is shipped with 1 Lithium ion battery which can run up to 10 hours. Love the iPad product . the battery lasts as long as it says. However, some users have also mentioned that, the most significant of which was poor battery life and frequent crashes.\n",
      "Apple iPad 2 is shipped with 1 Lithium ion battery which can run up to 10 hours. Love the iPad product . the battery lasts as long as it says. However, some users have also mentioned that, the battery life is pretty poor.\n",
      "Apple iPad 2 is shipped with 1 Lithium ion battery which can run up to 10 hours. Love the iPad product . the battery lasts as long as it says. However, some users have also mentioned that, The battery did n't even make it 6 months before it stopped holding a charge.\n",
      "Apple iPad 2 is shipped with 1 Lithium ion battery which can run up to 10 hours. Love the iPad product . the battery lasts as long as it says. However, some users have also mentioned that, The battery life is terrible.\n",
      "Apple iPad 2 is shipped with 1 Lithium ion battery which can run up to 10 hours. Love the iPad product . the battery lasts as long as it says. However, some users have also mentioned that, After about a week or two , the battery did n't seem to stay charged as long.\n",
      "Apple iPad 2 is shipped with 1 Lithium ion battery which can run up to 10 hours. Love the iPad product . the battery lasts as long as it says. However, some users have also mentioned that, battery life not so good.\n",
      "Apple iPad 2 is shipped with 1 Lithium ion battery which can run up to 10 hours. Love the iPad product . the battery lasts as long as it says. However, some users have also mentioned that, Now the battery has died completely.\n",
      "Apple iPad 2 is shipped with 1 Lithium ion battery which can run up to 10 hours. Love the iPad product . the battery lasts as long as it says. However, some users have also mentioned that, The battery was bad.\n",
      "Apple iPad 2 is shipped with 1 Lithium ion battery which can run up to 10 hours. Love the iPad product . the battery lasts as long as it says. However, some users have also mentioned that, Battery life sucks.\n",
      "Apple iPad 2 is shipped with 1 Lithium ion battery which can run up to 10 hours. Love the iPad product . the battery lasts as long as it says. However, some users have also mentioned that, The battery does n't last very long.\n",
      "Apple iPad 2 is shipped with 1 Lithium ion battery which can run up to 10 hours. Love the iPad product . the battery lasts as long as it says. However, some users have also mentioned that, watch the battery drain.\n",
      "Apple iPad 2 is shipped with 1 Lithium ion battery which can run up to 10 hours. Love the iPad product . the battery lasts as long as it says. However, some users have also mentioned that, The battery sucks so bad.\n",
      "Apple iPad 2 is shipped with 1 Lithium ion battery which can run up to 10 hours. Love the iPad product . the battery lasts as long as it says. However, some users have also mentioned that, that apple chose not to allow it due to battery life issues.\n",
      "Apple iPad 2 is shipped with 1 Lithium ion battery which can run up to 10 hours. Love the iPad product . the battery lasts as long as it says. However, some users have also mentioned that, Can not change battery.\n",
      "Apple iPad 2 is shipped with 1 Lithium ion battery which can run up to 10 hours. Love the iPad product . the battery lasts as long as it says. However, some users have also mentioned that, it came with no battery life at all.\n",
      "Apple iPad 2 is shipped with 1 Lithium ion battery which can run up to 10 hours. Love the iPad product . the battery lasts as long as it says. However, some users have also mentioned that, Battery was defective so.\n",
      "Apple iPad 2 is shipped with 1 Lithium ion battery which can run up to 10 hours. Love the iPad product . the battery lasts as long as it says. However, some users have also mentioned that, insane battery life.\n",
      "Apple iPad 2 is shipped with 1 Lithium ion battery which can run up to 10 hours. Battery seems to last a bit longer too. However, some users have also mentioned that, the battery was dead.\n",
      "Apple iPad 2 is shipped with 1 Lithium ion battery which can run up to 10 hours. Battery seems to last a bit longer too. However, some users have also mentioned that, the most significant of which was poor battery life and frequent crashes.\n",
      "Apple iPad 2 is shipped with 1 Lithium ion battery which can run up to 10 hours. Battery seems to last a bit longer too. However, some users have also mentioned that, the battery life is pretty poor.\n",
      "Apple iPad 2 is shipped with 1 Lithium ion battery which can run up to 10 hours. Battery seems to last a bit longer too. However, some users have also mentioned that, The battery did n't even make it 6 months before it stopped holding a charge.\n",
      "Apple iPad 2 is shipped with 1 Lithium ion battery which can run up to 10 hours. Battery seems to last a bit longer too. However, some users have also mentioned that, The battery life is terrible.\n",
      "Apple iPad 2 is shipped with 1 Lithium ion battery which can run up to 10 hours. Battery seems to last a bit longer too. However, some users have also mentioned that, After about a week or two , the battery did n't seem to stay charged as long.\n",
      "Apple iPad 2 is shipped with 1 Lithium ion battery which can run up to 10 hours. Battery seems to last a bit longer too. However, some users have also mentioned that, battery life not so good.\n",
      "Apple iPad 2 is shipped with 1 Lithium ion battery which can run up to 10 hours. Battery seems to last a bit longer too. However, some users have also mentioned that, Now the battery has died completely.\n",
      "Apple iPad 2 is shipped with 1 Lithium ion battery which can run up to 10 hours. Battery seems to last a bit longer too. However, some users have also mentioned that, The battery was bad.\n",
      "Apple iPad 2 is shipped with 1 Lithium ion battery which can run up to 10 hours. Battery seems to last a bit longer too. However, some users have also mentioned that, Battery life sucks.\n",
      "Apple iPad 2 is shipped with 1 Lithium ion battery which can run up to 10 hours. Battery seems to last a bit longer too. However, some users have also mentioned that, The battery does n't last very long.\n",
      "Apple iPad 2 is shipped with 1 Lithium ion battery which can run up to 10 hours. Battery seems to last a bit longer too. However, some users have also mentioned that, watch the battery drain.\n",
      "Apple iPad 2 is shipped with 1 Lithium ion battery which can run up to 10 hours. Battery seems to last a bit longer too. However, some users have also mentioned that, The battery sucks so bad.\n",
      "Apple iPad 2 is shipped with 1 Lithium ion battery which can run up to 10 hours. Battery seems to last a bit longer too. However, some users have also mentioned that, that apple chose not to allow it due to battery life issues.\n",
      "Apple iPad 2 is shipped with 1 Lithium ion battery which can run up to 10 hours. Battery seems to last a bit longer too. However, some users have also mentioned that, Can not change battery.\n",
      "Apple iPad 2 is shipped with 1 Lithium ion battery which can run up to 10 hours. Battery seems to last a bit longer too. However, some users have also mentioned that, it came with no battery life at all.\n",
      "Apple iPad 2 is shipped with 1 Lithium ion battery which can run up to 10 hours. Battery seems to last a bit longer too. However, some users have also mentioned that, Battery was defective so.\n",
      "Apple iPad 2 is shipped with 1 Lithium ion battery which can run up to 10 hours. Battery seems to last a bit longer too. However, some users have also mentioned that, insane battery life.\n",
      "Apple iPad 2 is shipped with 1 Lithium ion battery which can run up to 10 hours. the battery is still holding up great. However, some users have also mentioned that, the battery was dead.\n",
      "Apple iPad 2 is shipped with 1 Lithium ion battery which can run up to 10 hours. the battery is still holding up great. However, some users have also mentioned that, the most significant of which was poor battery life and frequent crashes.\n",
      "Apple iPad 2 is shipped with 1 Lithium ion battery which can run up to 10 hours. the battery is still holding up great. However, some users have also mentioned that, the battery life is pretty poor.\n",
      "Apple iPad 2 is shipped with 1 Lithium ion battery which can run up to 10 hours. the battery is still holding up great. However, some users have also mentioned that, The battery did n't even make it 6 months before it stopped holding a charge.\n",
      "Apple iPad 2 is shipped with 1 Lithium ion battery which can run up to 10 hours. the battery is still holding up great. However, some users have also mentioned that, The battery life is terrible.\n",
      "Apple iPad 2 is shipped with 1 Lithium ion battery which can run up to 10 hours. the battery is still holding up great. However, some users have also mentioned that, After about a week or two , the battery did n't seem to stay charged as long.\n",
      "Apple iPad 2 is shipped with 1 Lithium ion battery which can run up to 10 hours. the battery is still holding up great. However, some users have also mentioned that, battery life not so good.\n",
      "Apple iPad 2 is shipped with 1 Lithium ion battery which can run up to 10 hours. the battery is still holding up great. However, some users have also mentioned that, Now the battery has died completely.\n",
      "Apple iPad 2 is shipped with 1 Lithium ion battery which can run up to 10 hours. the battery is still holding up great. However, some users have also mentioned that, The battery was bad.\n",
      "Apple iPad 2 is shipped with 1 Lithium ion battery which can run up to 10 hours. the battery is still holding up great. However, some users have also mentioned that, Battery life sucks.\n",
      "Apple iPad 2 is shipped with 1 Lithium ion battery which can run up to 10 hours. the battery is still holding up great. However, some users have also mentioned that, The battery does n't last very long.\n",
      "Apple iPad 2 is shipped with 1 Lithium ion battery which can run up to 10 hours. the battery is still holding up great. However, some users have also mentioned that, watch the battery drain.\n",
      "Apple iPad 2 is shipped with 1 Lithium ion battery which can run up to 10 hours. the battery is still holding up great. However, some users have also mentioned that, The battery sucks so bad.\n",
      "Apple iPad 2 is shipped with 1 Lithium ion battery which can run up to 10 hours. the battery is still holding up great. However, some users have also mentioned that, that apple chose not to allow it due to battery life issues.\n",
      "Apple iPad 2 is shipped with 1 Lithium ion battery which can run up to 10 hours. the battery is still holding up great. However, some users have also mentioned that, Can not change battery.\n",
      "Apple iPad 2 is shipped with 1 Lithium ion battery which can run up to 10 hours. the battery is still holding up great. However, some users have also mentioned that, it came with no battery life at all.\n",
      "Apple iPad 2 is shipped with 1 Lithium ion battery which can run up to 10 hours. the battery is still holding up great. However, some users have also mentioned that, Battery was defective so.\n",
      "Apple iPad 2 is shipped with 1 Lithium ion battery which can run up to 10 hours. the battery is still holding up great. However, some users have also mentioned that, insane battery life.\n",
      "Apple iPad 2 is shipped with 1 Lithium ion battery which can run up to 10 hours. Perfect , even the battery life is alright. However, some users have also mentioned that, the battery was dead.\n",
      "Apple iPad 2 is shipped with 1 Lithium ion battery which can run up to 10 hours. Perfect , even the battery life is alright. However, some users have also mentioned that, the most significant of which was poor battery life and frequent crashes.\n",
      "Apple iPad 2 is shipped with 1 Lithium ion battery which can run up to 10 hours. Perfect , even the battery life is alright. However, some users have also mentioned that, the battery life is pretty poor.\n",
      "Apple iPad 2 is shipped with 1 Lithium ion battery which can run up to 10 hours. Perfect , even the battery life is alright. However, some users have also mentioned that, The battery did n't even make it 6 months before it stopped holding a charge.\n",
      "Apple iPad 2 is shipped with 1 Lithium ion battery which can run up to 10 hours. Perfect , even the battery life is alright. However, some users have also mentioned that, The battery life is terrible.\n",
      "Apple iPad 2 is shipped with 1 Lithium ion battery which can run up to 10 hours. Perfect , even the battery life is alright. However, some users have also mentioned that, After about a week or two , the battery did n't seem to stay charged as long.\n",
      "Apple iPad 2 is shipped with 1 Lithium ion battery which can run up to 10 hours. Perfect , even the battery life is alright. However, some users have also mentioned that, battery life not so good.\n",
      "Apple iPad 2 is shipped with 1 Lithium ion battery which can run up to 10 hours. Perfect , even the battery life is alright. However, some users have also mentioned that, Now the battery has died completely.\n",
      "Apple iPad 2 is shipped with 1 Lithium ion battery which can run up to 10 hours. Perfect , even the battery life is alright. However, some users have also mentioned that, The battery was bad.\n",
      "Apple iPad 2 is shipped with 1 Lithium ion battery which can run up to 10 hours. Perfect , even the battery life is alright. However, some users have also mentioned that, Battery life sucks.\n",
      "Apple iPad 2 is shipped with 1 Lithium ion battery which can run up to 10 hours. Perfect , even the battery life is alright. However, some users have also mentioned that, The battery does n't last very long.\n",
      "Apple iPad 2 is shipped with 1 Lithium ion battery which can run up to 10 hours. Perfect , even the battery life is alright. However, some users have also mentioned that, watch the battery drain.\n",
      "Apple iPad 2 is shipped with 1 Lithium ion battery which can run up to 10 hours. Perfect , even the battery life is alright. However, some users have also mentioned that, The battery sucks so bad.\n",
      "Apple iPad 2 is shipped with 1 Lithium ion battery which can run up to 10 hours. Perfect , even the battery life is alright. However, some users have also mentioned that, that apple chose not to allow it due to battery life issues.\n",
      "Apple iPad 2 is shipped with 1 Lithium ion battery which can run up to 10 hours. Perfect , even the battery life is alright. However, some users have also mentioned that, Can not change battery.\n",
      "Apple iPad 2 is shipped with 1 Lithium ion battery which can run up to 10 hours. Perfect , even the battery life is alright. However, some users have also mentioned that, it came with no battery life at all.\n",
      "Apple iPad 2 is shipped with 1 Lithium ion battery which can run up to 10 hours. Perfect , even the battery life is alright. However, some users have also mentioned that, Battery was defective so.\n",
      "Apple iPad 2 is shipped with 1 Lithium ion battery which can run up to 10 hours. Perfect , even the battery life is alright. However, some users have also mentioned that, insane battery life.\n",
      "Apple iPad 2 is shipped with 1 Lithium ion battery which can run up to 10 hours. battery life is still excellent. However, some users have also mentioned that, the battery was dead.\n",
      "Apple iPad 2 is shipped with 1 Lithium ion battery which can run up to 10 hours. battery life is still excellent. However, some users have also mentioned that, the most significant of which was poor battery life and frequent crashes.\n",
      "Apple iPad 2 is shipped with 1 Lithium ion battery which can run up to 10 hours. battery life is still excellent. However, some users have also mentioned that, the battery life is pretty poor.\n",
      "Apple iPad 2 is shipped with 1 Lithium ion battery which can run up to 10 hours. battery life is still excellent. However, some users have also mentioned that, The battery did n't even make it 6 months before it stopped holding a charge.\n",
      "Apple iPad 2 is shipped with 1 Lithium ion battery which can run up to 10 hours. battery life is still excellent. However, some users have also mentioned that, The battery life is terrible.\n",
      "Apple iPad 2 is shipped with 1 Lithium ion battery which can run up to 10 hours. battery life is still excellent. However, some users have also mentioned that, After about a week or two , the battery did n't seem to stay charged as long.\n",
      "Apple iPad 2 is shipped with 1 Lithium ion battery which can run up to 10 hours. battery life is still excellent. However, some users have also mentioned that, battery life not so good.\n",
      "Apple iPad 2 is shipped with 1 Lithium ion battery which can run up to 10 hours. battery life is still excellent. However, some users have also mentioned that, Now the battery has died completely.\n",
      "Apple iPad 2 is shipped with 1 Lithium ion battery which can run up to 10 hours. battery life is still excellent. However, some users have also mentioned that, The battery was bad.\n",
      "Apple iPad 2 is shipped with 1 Lithium ion battery which can run up to 10 hours. battery life is still excellent. However, some users have also mentioned that, Battery life sucks.\n",
      "Apple iPad 2 is shipped with 1 Lithium ion battery which can run up to 10 hours. battery life is still excellent. However, some users have also mentioned that, The battery does n't last very long.\n",
      "Apple iPad 2 is shipped with 1 Lithium ion battery which can run up to 10 hours. battery life is still excellent. However, some users have also mentioned that, watch the battery drain.\n",
      "Apple iPad 2 is shipped with 1 Lithium ion battery which can run up to 10 hours. battery life is still excellent. However, some users have also mentioned that, The battery sucks so bad.\n",
      "Apple iPad 2 is shipped with 1 Lithium ion battery which can run up to 10 hours. battery life is still excellent. However, some users have also mentioned that, that apple chose not to allow it due to battery life issues.\n",
      "Apple iPad 2 is shipped with 1 Lithium ion battery which can run up to 10 hours. battery life is still excellent. However, some users have also mentioned that, Can not change battery.\n",
      "Apple iPad 2 is shipped with 1 Lithium ion battery which can run up to 10 hours. battery life is still excellent. However, some users have also mentioned that, it came with no battery life at all.\n",
      "Apple iPad 2 is shipped with 1 Lithium ion battery which can run up to 10 hours. battery life is still excellent. However, some users have also mentioned that, Battery was defective so.\n",
      "Apple iPad 2 is shipped with 1 Lithium ion battery which can run up to 10 hours. battery life is still excellent. However, some users have also mentioned that, insane battery life.\n"
     ]
    }
   ],
   "source": [
    "for op in output_list_1:\n",
    "    print(op)"
   ]
  },
  {
   "cell_type": "code",
   "execution_count": 185,
   "id": "ab78df7a",
   "metadata": {},
   "outputs": [
    {
     "name": "stdout",
     "output_type": "stream",
     "text": [
      "Samsung Galaxy Tab 4 is shipped with 3.8 Volt, 4000 mAh, 1 Lithium Metal batteries which can run up to 10 Hours. its size , basic features , good battery life , and user interface. However, some users have also mentioned that, The battery port was scratched up.\n",
      "Samsung Galaxy Tab 4 is shipped with 3.8 Volt, 4000 mAh, 1 Lithium Metal batteries which can run up to 10 Hours. its size , basic features , good battery life , and user interface. However, some users have also mentioned that, Too little internal storage , poor battery longevity/recharge time.\n",
      "Samsung Galaxy Tab 4 is shipped with 3.8 Volt, 4000 mAh, 1 Lithium Metal batteries which can run up to 10 Hours. its size , basic features , good battery life , and user interface. However, some users have also mentioned that, Battery life is wimpy.\n",
      "Samsung Galaxy Tab 4 is shipped with 3.8 Volt, 4000 mAh, 1 Lithium Metal batteries which can run up to 10 Hours. its size , basic features , good battery life , and user interface. However, some users have also mentioned that, Battery is not replaceable however.\n",
      "Samsung Galaxy Tab 4 is shipped with 3.8 Volt, 4000 mAh, 1 Lithium Metal batteries which can run up to 10 Hours. its size , basic features , good battery life , and user interface. However, some users have also mentioned that, Problems with charging , battery.\n",
      "Samsung Galaxy Tab 4 is shipped with 3.8 Volt, 4000 mAh, 1 Lithium Metal batteries which can run up to 10 Hours. its size , basic features , good battery life , and user interface. However, some users have also mentioned that, The perfect handheld size but the worst battery life out of any tablet.\n",
      "Samsung Galaxy Tab 4 is shipped with 3.8 Volt, 4000 mAh, 1 Lithium Metal batteries which can run up to 10 Hours. its size , basic features , good battery life , and user interface. However, some users have also mentioned that, Battery stopped holding a charge one month later.\n",
      "Samsung Galaxy Tab 4 is shipped with 3.8 Volt, 4000 mAh, 1 Lithium Metal batteries which can run up to 10 Hours. its size , basic features , good battery life , and user interface. However, some users have also mentioned that, the battery dies daily.\n",
      "Samsung Galaxy Tab 4 is shipped with 3.8 Volt, 4000 mAh, 1 Lithium Metal batteries which can run up to 10 Hours. its size , basic features , good battery life , and user interface. However, some users have also mentioned that, the battery charge doesn `` t seem to last.\n",
      "Samsung Galaxy Tab 4 is shipped with 3.8 Volt, 4000 mAh, 1 Lithium Metal batteries which can run up to 10 Hours. its size , basic features , good battery life , and user interface. However, some users have also mentioned that, The thing burns thru 20 to 25 % of battery life per hour.\n",
      "Samsung Galaxy Tab 4 is shipped with 3.8 Volt, 4000 mAh, 1 Lithium Metal batteries which can run up to 10 Hours. its size , basic features , good battery life , and user interface. However, some users have also mentioned that, the battery ran down to nothing.\n",
      "Samsung Galaxy Tab 4 is shipped with 3.8 Volt, 4000 mAh, 1 Lithium Metal batteries which can run up to 10 Hours. its size , basic features , good battery life , and user interface. However, some users have also mentioned that, The directions for battery charging and location of various buttons to push were barely legible due to the tiny font and dark paper.\n",
      "Samsung Galaxy Tab 4 is shipped with 3.8 Volt, 4000 mAh, 1 Lithium Metal batteries which can run up to 10 Hours. its size , basic features , good battery life , and user interface. However, some users have also mentioned that, the battery life only lasts for about 2-3 hours.\n",
      "Samsung Galaxy Tab 4 is shipped with 3.8 Volt, 4000 mAh, 1 Lithium Metal batteries which can run up to 10 Hours. its size , basic features , good battery life , and user interface. However, some users have also mentioned that, drained the battery dry more than once.\n",
      "Samsung Galaxy Tab 4 is shipped with 3.8 Volt, 4000 mAh, 1 Lithium Metal batteries which can run up to 10 Hours. its size , basic features , good battery life , and user interface. However, some users have also mentioned that, the product arrived with the damaged battery.\n",
      "Samsung Galaxy Tab 4 is shipped with 3.8 Volt, 4000 mAh, 1 Lithium Metal batteries which can run up to 10 Hours. its size , basic features , good battery life , and user interface. However, some users have also mentioned that, removing the battery causes a lot of damage.\n",
      "Samsung Galaxy Tab 4 is shipped with 3.8 Volt, 4000 mAh, 1 Lithium Metal batteries which can run up to 10 Hours. its size , basic features , good battery life , and user interface. However, some users have also mentioned that, Impossible to take the battery off with out damaging the tablet.\n",
      "Samsung Galaxy Tab 4 is shipped with 3.8 Volt, 4000 mAh, 1 Lithium Metal batteries which can run up to 10 Hours. its size , basic features , good battery life , and user interface. However, some users have also mentioned that, the battery was being a pain in the butt.\n",
      "Samsung Galaxy Tab 4 is shipped with 3.8 Volt, 4000 mAh, 1 Lithium Metal batteries which can run up to 10 Hours. its size , basic features , good battery life , and user interface. However, some users have also mentioned that, battery life is terrible.\n",
      "Samsung Galaxy Tab 4 is shipped with 3.8 Volt, 4000 mAh, 1 Lithium Metal batteries which can run up to 10 Hours. its size , basic features , good battery life , and user interface. However, some users have also mentioned that, Battery life is n't that great.\n",
      "Samsung Galaxy Tab 4 is shipped with 3.8 Volt, 4000 mAh, 1 Lithium Metal batteries which can run up to 10 Hours. its size , basic features , good battery life , and user interface. However, some users have also mentioned that, Tablet Battery died.\n",
      "Samsung Galaxy Tab 4 is shipped with 3.8 Volt, 4000 mAh, 1 Lithium Metal batteries which can run up to 10 Hours. Screen and battery are all very good. However, some users have also mentioned that, The battery port was scratched up.\n",
      "Samsung Galaxy Tab 4 is shipped with 3.8 Volt, 4000 mAh, 1 Lithium Metal batteries which can run up to 10 Hours. Screen and battery are all very good. However, some users have also mentioned that, Too little internal storage , poor battery longevity/recharge time.\n",
      "Samsung Galaxy Tab 4 is shipped with 3.8 Volt, 4000 mAh, 1 Lithium Metal batteries which can run up to 10 Hours. Screen and battery are all very good. However, some users have also mentioned that, Battery life is wimpy.\n",
      "Samsung Galaxy Tab 4 is shipped with 3.8 Volt, 4000 mAh, 1 Lithium Metal batteries which can run up to 10 Hours. Screen and battery are all very good. However, some users have also mentioned that, Battery is not replaceable however.\n",
      "Samsung Galaxy Tab 4 is shipped with 3.8 Volt, 4000 mAh, 1 Lithium Metal batteries which can run up to 10 Hours. Screen and battery are all very good. However, some users have also mentioned that, Problems with charging , battery.\n",
      "Samsung Galaxy Tab 4 is shipped with 3.8 Volt, 4000 mAh, 1 Lithium Metal batteries which can run up to 10 Hours. Screen and battery are all very good. However, some users have also mentioned that, The perfect handheld size but the worst battery life out of any tablet.\n",
      "Samsung Galaxy Tab 4 is shipped with 3.8 Volt, 4000 mAh, 1 Lithium Metal batteries which can run up to 10 Hours. Screen and battery are all very good. However, some users have also mentioned that, Battery stopped holding a charge one month later.\n",
      "Samsung Galaxy Tab 4 is shipped with 3.8 Volt, 4000 mAh, 1 Lithium Metal batteries which can run up to 10 Hours. Screen and battery are all very good. However, some users have also mentioned that, the battery dies daily.\n",
      "Samsung Galaxy Tab 4 is shipped with 3.8 Volt, 4000 mAh, 1 Lithium Metal batteries which can run up to 10 Hours. Screen and battery are all very good. However, some users have also mentioned that, the battery charge doesn `` t seem to last.\n",
      "Samsung Galaxy Tab 4 is shipped with 3.8 Volt, 4000 mAh, 1 Lithium Metal batteries which can run up to 10 Hours. Screen and battery are all very good. However, some users have also mentioned that, The thing burns thru 20 to 25 % of battery life per hour.\n",
      "Samsung Galaxy Tab 4 is shipped with 3.8 Volt, 4000 mAh, 1 Lithium Metal batteries which can run up to 10 Hours. Screen and battery are all very good. However, some users have also mentioned that, the battery ran down to nothing.\n",
      "Samsung Galaxy Tab 4 is shipped with 3.8 Volt, 4000 mAh, 1 Lithium Metal batteries which can run up to 10 Hours. Screen and battery are all very good. However, some users have also mentioned that, The directions for battery charging and location of various buttons to push were barely legible due to the tiny font and dark paper.\n",
      "Samsung Galaxy Tab 4 is shipped with 3.8 Volt, 4000 mAh, 1 Lithium Metal batteries which can run up to 10 Hours. Screen and battery are all very good. However, some users have also mentioned that, the battery life only lasts for about 2-3 hours.\n",
      "Samsung Galaxy Tab 4 is shipped with 3.8 Volt, 4000 mAh, 1 Lithium Metal batteries which can run up to 10 Hours. Screen and battery are all very good. However, some users have also mentioned that, drained the battery dry more than once.\n",
      "Samsung Galaxy Tab 4 is shipped with 3.8 Volt, 4000 mAh, 1 Lithium Metal batteries which can run up to 10 Hours. Screen and battery are all very good. However, some users have also mentioned that, the product arrived with the damaged battery.\n",
      "Samsung Galaxy Tab 4 is shipped with 3.8 Volt, 4000 mAh, 1 Lithium Metal batteries which can run up to 10 Hours. Screen and battery are all very good. However, some users have also mentioned that, removing the battery causes a lot of damage.\n",
      "Samsung Galaxy Tab 4 is shipped with 3.8 Volt, 4000 mAh, 1 Lithium Metal batteries which can run up to 10 Hours. Screen and battery are all very good. However, some users have also mentioned that, Impossible to take the battery off with out damaging the tablet.\n",
      "Samsung Galaxy Tab 4 is shipped with 3.8 Volt, 4000 mAh, 1 Lithium Metal batteries which can run up to 10 Hours. Screen and battery are all very good. However, some users have also mentioned that, the battery was being a pain in the butt.\n",
      "Samsung Galaxy Tab 4 is shipped with 3.8 Volt, 4000 mAh, 1 Lithium Metal batteries which can run up to 10 Hours. Screen and battery are all very good. However, some users have also mentioned that, battery life is terrible.\n",
      "Samsung Galaxy Tab 4 is shipped with 3.8 Volt, 4000 mAh, 1 Lithium Metal batteries which can run up to 10 Hours. Screen and battery are all very good. However, some users have also mentioned that, Battery life is n't that great.\n",
      "Samsung Galaxy Tab 4 is shipped with 3.8 Volt, 4000 mAh, 1 Lithium Metal batteries which can run up to 10 Hours. Screen and battery are all very good. However, some users have also mentioned that, Tablet Battery died.\n",
      "Samsung Galaxy Tab 4 is shipped with 3.8 Volt, 4000 mAh, 1 Lithium Metal batteries which can run up to 10 Hours. the battery life was much better. However, some users have also mentioned that, The battery port was scratched up.\n",
      "Samsung Galaxy Tab 4 is shipped with 3.8 Volt, 4000 mAh, 1 Lithium Metal batteries which can run up to 10 Hours. the battery life was much better. However, some users have also mentioned that, Too little internal storage , poor battery longevity/recharge time.\n",
      "Samsung Galaxy Tab 4 is shipped with 3.8 Volt, 4000 mAh, 1 Lithium Metal batteries which can run up to 10 Hours. the battery life was much better. However, some users have also mentioned that, Battery life is wimpy.\n",
      "Samsung Galaxy Tab 4 is shipped with 3.8 Volt, 4000 mAh, 1 Lithium Metal batteries which can run up to 10 Hours. the battery life was much better. However, some users have also mentioned that, Battery is not replaceable however.\n",
      "Samsung Galaxy Tab 4 is shipped with 3.8 Volt, 4000 mAh, 1 Lithium Metal batteries which can run up to 10 Hours. the battery life was much better. However, some users have also mentioned that, Problems with charging , battery.\n",
      "Samsung Galaxy Tab 4 is shipped with 3.8 Volt, 4000 mAh, 1 Lithium Metal batteries which can run up to 10 Hours. the battery life was much better. However, some users have also mentioned that, The perfect handheld size but the worst battery life out of any tablet.\n",
      "Samsung Galaxy Tab 4 is shipped with 3.8 Volt, 4000 mAh, 1 Lithium Metal batteries which can run up to 10 Hours. the battery life was much better. However, some users have also mentioned that, Battery stopped holding a charge one month later.\n",
      "Samsung Galaxy Tab 4 is shipped with 3.8 Volt, 4000 mAh, 1 Lithium Metal batteries which can run up to 10 Hours. the battery life was much better. However, some users have also mentioned that, the battery dies daily.\n",
      "Samsung Galaxy Tab 4 is shipped with 3.8 Volt, 4000 mAh, 1 Lithium Metal batteries which can run up to 10 Hours. the battery life was much better. However, some users have also mentioned that, the battery charge doesn `` t seem to last.\n",
      "Samsung Galaxy Tab 4 is shipped with 3.8 Volt, 4000 mAh, 1 Lithium Metal batteries which can run up to 10 Hours. the battery life was much better. However, some users have also mentioned that, The thing burns thru 20 to 25 % of battery life per hour.\n",
      "Samsung Galaxy Tab 4 is shipped with 3.8 Volt, 4000 mAh, 1 Lithium Metal batteries which can run up to 10 Hours. the battery life was much better. However, some users have also mentioned that, the battery ran down to nothing.\n",
      "Samsung Galaxy Tab 4 is shipped with 3.8 Volt, 4000 mAh, 1 Lithium Metal batteries which can run up to 10 Hours. the battery life was much better. However, some users have also mentioned that, The directions for battery charging and location of various buttons to push were barely legible due to the tiny font and dark paper.\n",
      "Samsung Galaxy Tab 4 is shipped with 3.8 Volt, 4000 mAh, 1 Lithium Metal batteries which can run up to 10 Hours. the battery life was much better. However, some users have also mentioned that, the battery life only lasts for about 2-3 hours.\n",
      "Samsung Galaxy Tab 4 is shipped with 3.8 Volt, 4000 mAh, 1 Lithium Metal batteries which can run up to 10 Hours. the battery life was much better. However, some users have also mentioned that, drained the battery dry more than once.\n",
      "Samsung Galaxy Tab 4 is shipped with 3.8 Volt, 4000 mAh, 1 Lithium Metal batteries which can run up to 10 Hours. the battery life was much better. However, some users have also mentioned that, the product arrived with the damaged battery.\n",
      "Samsung Galaxy Tab 4 is shipped with 3.8 Volt, 4000 mAh, 1 Lithium Metal batteries which can run up to 10 Hours. the battery life was much better. However, some users have also mentioned that, removing the battery causes a lot of damage.\n",
      "Samsung Galaxy Tab 4 is shipped with 3.8 Volt, 4000 mAh, 1 Lithium Metal batteries which can run up to 10 Hours. the battery life was much better. However, some users have also mentioned that, Impossible to take the battery off with out damaging the tablet.\n",
      "Samsung Galaxy Tab 4 is shipped with 3.8 Volt, 4000 mAh, 1 Lithium Metal batteries which can run up to 10 Hours. the battery life was much better. However, some users have also mentioned that, the battery was being a pain in the butt.\n",
      "Samsung Galaxy Tab 4 is shipped with 3.8 Volt, 4000 mAh, 1 Lithium Metal batteries which can run up to 10 Hours. the battery life was much better. However, some users have also mentioned that, battery life is terrible.\n",
      "Samsung Galaxy Tab 4 is shipped with 3.8 Volt, 4000 mAh, 1 Lithium Metal batteries which can run up to 10 Hours. the battery life was much better. However, some users have also mentioned that, Battery life is n't that great.\n",
      "Samsung Galaxy Tab 4 is shipped with 3.8 Volt, 4000 mAh, 1 Lithium Metal batteries which can run up to 10 Hours. the battery life was much better. However, some users have also mentioned that, Tablet Battery died.\n",
      "Samsung Galaxy Tab 4 is shipped with 3.8 Volt, 4000 mAh, 1 Lithium Metal batteries which can run up to 10 Hours. It also has sufficient processing speed , memory , screen resolution and brightness , and battery life. However, some users have also mentioned that, The battery port was scratched up.\n",
      "Samsung Galaxy Tab 4 is shipped with 3.8 Volt, 4000 mAh, 1 Lithium Metal batteries which can run up to 10 Hours. It also has sufficient processing speed , memory , screen resolution and brightness , and battery life. However, some users have also mentioned that, Too little internal storage , poor battery longevity/recharge time.\n",
      "Samsung Galaxy Tab 4 is shipped with 3.8 Volt, 4000 mAh, 1 Lithium Metal batteries which can run up to 10 Hours. It also has sufficient processing speed , memory , screen resolution and brightness , and battery life. However, some users have also mentioned that, Battery life is wimpy.\n",
      "Samsung Galaxy Tab 4 is shipped with 3.8 Volt, 4000 mAh, 1 Lithium Metal batteries which can run up to 10 Hours. It also has sufficient processing speed , memory , screen resolution and brightness , and battery life. However, some users have also mentioned that, Battery is not replaceable however.\n",
      "Samsung Galaxy Tab 4 is shipped with 3.8 Volt, 4000 mAh, 1 Lithium Metal batteries which can run up to 10 Hours. It also has sufficient processing speed , memory , screen resolution and brightness , and battery life. However, some users have also mentioned that, Problems with charging , battery.\n",
      "Samsung Galaxy Tab 4 is shipped with 3.8 Volt, 4000 mAh, 1 Lithium Metal batteries which can run up to 10 Hours. It also has sufficient processing speed , memory , screen resolution and brightness , and battery life. However, some users have also mentioned that, The perfect handheld size but the worst battery life out of any tablet.\n",
      "Samsung Galaxy Tab 4 is shipped with 3.8 Volt, 4000 mAh, 1 Lithium Metal batteries which can run up to 10 Hours. It also has sufficient processing speed , memory , screen resolution and brightness , and battery life. However, some users have also mentioned that, Battery stopped holding a charge one month later.\n",
      "Samsung Galaxy Tab 4 is shipped with 3.8 Volt, 4000 mAh, 1 Lithium Metal batteries which can run up to 10 Hours. It also has sufficient processing speed , memory , screen resolution and brightness , and battery life. However, some users have also mentioned that, the battery dies daily.\n",
      "Samsung Galaxy Tab 4 is shipped with 3.8 Volt, 4000 mAh, 1 Lithium Metal batteries which can run up to 10 Hours. It also has sufficient processing speed , memory , screen resolution and brightness , and battery life. However, some users have also mentioned that, the battery charge doesn `` t seem to last.\n",
      "Samsung Galaxy Tab 4 is shipped with 3.8 Volt, 4000 mAh, 1 Lithium Metal batteries which can run up to 10 Hours. It also has sufficient processing speed , memory , screen resolution and brightness , and battery life. However, some users have also mentioned that, The thing burns thru 20 to 25 % of battery life per hour.\n",
      "Samsung Galaxy Tab 4 is shipped with 3.8 Volt, 4000 mAh, 1 Lithium Metal batteries which can run up to 10 Hours. It also has sufficient processing speed , memory , screen resolution and brightness , and battery life. However, some users have also mentioned that, the battery ran down to nothing.\n",
      "Samsung Galaxy Tab 4 is shipped with 3.8 Volt, 4000 mAh, 1 Lithium Metal batteries which can run up to 10 Hours. It also has sufficient processing speed , memory , screen resolution and brightness , and battery life. However, some users have also mentioned that, The directions for battery charging and location of various buttons to push were barely legible due to the tiny font and dark paper.\n",
      "Samsung Galaxy Tab 4 is shipped with 3.8 Volt, 4000 mAh, 1 Lithium Metal batteries which can run up to 10 Hours. It also has sufficient processing speed , memory , screen resolution and brightness , and battery life. However, some users have also mentioned that, the battery life only lasts for about 2-3 hours.\n",
      "Samsung Galaxy Tab 4 is shipped with 3.8 Volt, 4000 mAh, 1 Lithium Metal batteries which can run up to 10 Hours. It also has sufficient processing speed , memory , screen resolution and brightness , and battery life. However, some users have also mentioned that, drained the battery dry more than once.\n",
      "Samsung Galaxy Tab 4 is shipped with 3.8 Volt, 4000 mAh, 1 Lithium Metal batteries which can run up to 10 Hours. It also has sufficient processing speed , memory , screen resolution and brightness , and battery life. However, some users have also mentioned that, the product arrived with the damaged battery.\n",
      "Samsung Galaxy Tab 4 is shipped with 3.8 Volt, 4000 mAh, 1 Lithium Metal batteries which can run up to 10 Hours. It also has sufficient processing speed , memory , screen resolution and brightness , and battery life. However, some users have also mentioned that, removing the battery causes a lot of damage.\n",
      "Samsung Galaxy Tab 4 is shipped with 3.8 Volt, 4000 mAh, 1 Lithium Metal batteries which can run up to 10 Hours. It also has sufficient processing speed , memory , screen resolution and brightness , and battery life. However, some users have also mentioned that, Impossible to take the battery off with out damaging the tablet.\n",
      "Samsung Galaxy Tab 4 is shipped with 3.8 Volt, 4000 mAh, 1 Lithium Metal batteries which can run up to 10 Hours. It also has sufficient processing speed , memory , screen resolution and brightness , and battery life. However, some users have also mentioned that, the battery was being a pain in the butt.\n",
      "Samsung Galaxy Tab 4 is shipped with 3.8 Volt, 4000 mAh, 1 Lithium Metal batteries which can run up to 10 Hours. It also has sufficient processing speed , memory , screen resolution and brightness , and battery life. However, some users have also mentioned that, battery life is terrible.\n",
      "Samsung Galaxy Tab 4 is shipped with 3.8 Volt, 4000 mAh, 1 Lithium Metal batteries which can run up to 10 Hours. It also has sufficient processing speed , memory , screen resolution and brightness , and battery life. However, some users have also mentioned that, Battery life is n't that great.\n",
      "Samsung Galaxy Tab 4 is shipped with 3.8 Volt, 4000 mAh, 1 Lithium Metal batteries which can run up to 10 Hours. It also has sufficient processing speed , memory , screen resolution and brightness , and battery life. However, some users have also mentioned that, Tablet Battery died.\n",
      "Samsung Galaxy Tab 4 is shipped with 3.8 Volt, 4000 mAh, 1 Lithium Metal batteries which can run up to 10 Hours. Amazing longivity of the battery. However, some users have also mentioned that, The battery port was scratched up.\n",
      "Samsung Galaxy Tab 4 is shipped with 3.8 Volt, 4000 mAh, 1 Lithium Metal batteries which can run up to 10 Hours. Amazing longivity of the battery. However, some users have also mentioned that, Too little internal storage , poor battery longevity/recharge time.\n",
      "Samsung Galaxy Tab 4 is shipped with 3.8 Volt, 4000 mAh, 1 Lithium Metal batteries which can run up to 10 Hours. Amazing longivity of the battery. However, some users have also mentioned that, Battery life is wimpy.\n",
      "Samsung Galaxy Tab 4 is shipped with 3.8 Volt, 4000 mAh, 1 Lithium Metal batteries which can run up to 10 Hours. Amazing longivity of the battery. However, some users have also mentioned that, Battery is not replaceable however.\n",
      "Samsung Galaxy Tab 4 is shipped with 3.8 Volt, 4000 mAh, 1 Lithium Metal batteries which can run up to 10 Hours. Amazing longivity of the battery. However, some users have also mentioned that, Problems with charging , battery.\n",
      "Samsung Galaxy Tab 4 is shipped with 3.8 Volt, 4000 mAh, 1 Lithium Metal batteries which can run up to 10 Hours. Amazing longivity of the battery. However, some users have also mentioned that, The perfect handheld size but the worst battery life out of any tablet.\n",
      "Samsung Galaxy Tab 4 is shipped with 3.8 Volt, 4000 mAh, 1 Lithium Metal batteries which can run up to 10 Hours. Amazing longivity of the battery. However, some users have also mentioned that, Battery stopped holding a charge one month later.\n",
      "Samsung Galaxy Tab 4 is shipped with 3.8 Volt, 4000 mAh, 1 Lithium Metal batteries which can run up to 10 Hours. Amazing longivity of the battery. However, some users have also mentioned that, the battery dies daily.\n",
      "Samsung Galaxy Tab 4 is shipped with 3.8 Volt, 4000 mAh, 1 Lithium Metal batteries which can run up to 10 Hours. Amazing longivity of the battery. However, some users have also mentioned that, the battery charge doesn `` t seem to last.\n",
      "Samsung Galaxy Tab 4 is shipped with 3.8 Volt, 4000 mAh, 1 Lithium Metal batteries which can run up to 10 Hours. Amazing longivity of the battery. However, some users have also mentioned that, The thing burns thru 20 to 25 % of battery life per hour.\n",
      "Samsung Galaxy Tab 4 is shipped with 3.8 Volt, 4000 mAh, 1 Lithium Metal batteries which can run up to 10 Hours. Amazing longivity of the battery. However, some users have also mentioned that, the battery ran down to nothing.\n",
      "Samsung Galaxy Tab 4 is shipped with 3.8 Volt, 4000 mAh, 1 Lithium Metal batteries which can run up to 10 Hours. Amazing longivity of the battery. However, some users have also mentioned that, The directions for battery charging and location of various buttons to push were barely legible due to the tiny font and dark paper.\n",
      "Samsung Galaxy Tab 4 is shipped with 3.8 Volt, 4000 mAh, 1 Lithium Metal batteries which can run up to 10 Hours. Amazing longivity of the battery. However, some users have also mentioned that, the battery life only lasts for about 2-3 hours.\n",
      "Samsung Galaxy Tab 4 is shipped with 3.8 Volt, 4000 mAh, 1 Lithium Metal batteries which can run up to 10 Hours. Amazing longivity of the battery. However, some users have also mentioned that, drained the battery dry more than once.\n",
      "Samsung Galaxy Tab 4 is shipped with 3.8 Volt, 4000 mAh, 1 Lithium Metal batteries which can run up to 10 Hours. Amazing longivity of the battery. However, some users have also mentioned that, the product arrived with the damaged battery.\n",
      "Samsung Galaxy Tab 4 is shipped with 3.8 Volt, 4000 mAh, 1 Lithium Metal batteries which can run up to 10 Hours. Amazing longivity of the battery. However, some users have also mentioned that, removing the battery causes a lot of damage.\n",
      "Samsung Galaxy Tab 4 is shipped with 3.8 Volt, 4000 mAh, 1 Lithium Metal batteries which can run up to 10 Hours. Amazing longivity of the battery. However, some users have also mentioned that, Impossible to take the battery off with out damaging the tablet.\n",
      "Samsung Galaxy Tab 4 is shipped with 3.8 Volt, 4000 mAh, 1 Lithium Metal batteries which can run up to 10 Hours. Amazing longivity of the battery. However, some users have also mentioned that, the battery was being a pain in the butt.\n",
      "Samsung Galaxy Tab 4 is shipped with 3.8 Volt, 4000 mAh, 1 Lithium Metal batteries which can run up to 10 Hours. Amazing longivity of the battery. However, some users have also mentioned that, battery life is terrible.\n",
      "Samsung Galaxy Tab 4 is shipped with 3.8 Volt, 4000 mAh, 1 Lithium Metal batteries which can run up to 10 Hours. Amazing longivity of the battery. However, some users have also mentioned that, Battery life is n't that great.\n",
      "Samsung Galaxy Tab 4 is shipped with 3.8 Volt, 4000 mAh, 1 Lithium Metal batteries which can run up to 10 Hours. Amazing longivity of the battery. However, some users have also mentioned that, Tablet Battery died.\n",
      "Samsung Galaxy Tab 4 is shipped with 3.8 Volt, 4000 mAh, 1 Lithium Metal batteries which can run up to 10 Hours. the BATTERY LIFE is one of the best in the market. However, some users have also mentioned that, The battery port was scratched up.\n",
      "Samsung Galaxy Tab 4 is shipped with 3.8 Volt, 4000 mAh, 1 Lithium Metal batteries which can run up to 10 Hours. the BATTERY LIFE is one of the best in the market. However, some users have also mentioned that, Too little internal storage , poor battery longevity/recharge time.\n",
      "Samsung Galaxy Tab 4 is shipped with 3.8 Volt, 4000 mAh, 1 Lithium Metal batteries which can run up to 10 Hours. the BATTERY LIFE is one of the best in the market. However, some users have also mentioned that, Battery life is wimpy.\n",
      "Samsung Galaxy Tab 4 is shipped with 3.8 Volt, 4000 mAh, 1 Lithium Metal batteries which can run up to 10 Hours. the BATTERY LIFE is one of the best in the market. However, some users have also mentioned that, Battery is not replaceable however.\n",
      "Samsung Galaxy Tab 4 is shipped with 3.8 Volt, 4000 mAh, 1 Lithium Metal batteries which can run up to 10 Hours. the BATTERY LIFE is one of the best in the market. However, some users have also mentioned that, Problems with charging , battery.\n",
      "Samsung Galaxy Tab 4 is shipped with 3.8 Volt, 4000 mAh, 1 Lithium Metal batteries which can run up to 10 Hours. the BATTERY LIFE is one of the best in the market. However, some users have also mentioned that, The perfect handheld size but the worst battery life out of any tablet.\n",
      "Samsung Galaxy Tab 4 is shipped with 3.8 Volt, 4000 mAh, 1 Lithium Metal batteries which can run up to 10 Hours. the BATTERY LIFE is one of the best in the market. However, some users have also mentioned that, Battery stopped holding a charge one month later.\n",
      "Samsung Galaxy Tab 4 is shipped with 3.8 Volt, 4000 mAh, 1 Lithium Metal batteries which can run up to 10 Hours. the BATTERY LIFE is one of the best in the market. However, some users have also mentioned that, the battery dies daily.\n",
      "Samsung Galaxy Tab 4 is shipped with 3.8 Volt, 4000 mAh, 1 Lithium Metal batteries which can run up to 10 Hours. the BATTERY LIFE is one of the best in the market. However, some users have also mentioned that, the battery charge doesn `` t seem to last.\n",
      "Samsung Galaxy Tab 4 is shipped with 3.8 Volt, 4000 mAh, 1 Lithium Metal batteries which can run up to 10 Hours. the BATTERY LIFE is one of the best in the market. However, some users have also mentioned that, The thing burns thru 20 to 25 % of battery life per hour.\n",
      "Samsung Galaxy Tab 4 is shipped with 3.8 Volt, 4000 mAh, 1 Lithium Metal batteries which can run up to 10 Hours. the BATTERY LIFE is one of the best in the market. However, some users have also mentioned that, the battery ran down to nothing.\n",
      "Samsung Galaxy Tab 4 is shipped with 3.8 Volt, 4000 mAh, 1 Lithium Metal batteries which can run up to 10 Hours. the BATTERY LIFE is one of the best in the market. However, some users have also mentioned that, The directions for battery charging and location of various buttons to push were barely legible due to the tiny font and dark paper.\n",
      "Samsung Galaxy Tab 4 is shipped with 3.8 Volt, 4000 mAh, 1 Lithium Metal batteries which can run up to 10 Hours. the BATTERY LIFE is one of the best in the market. However, some users have also mentioned that, the battery life only lasts for about 2-3 hours.\n",
      "Samsung Galaxy Tab 4 is shipped with 3.8 Volt, 4000 mAh, 1 Lithium Metal batteries which can run up to 10 Hours. the BATTERY LIFE is one of the best in the market. However, some users have also mentioned that, drained the battery dry more than once.\n",
      "Samsung Galaxy Tab 4 is shipped with 3.8 Volt, 4000 mAh, 1 Lithium Metal batteries which can run up to 10 Hours. the BATTERY LIFE is one of the best in the market. However, some users have also mentioned that, the product arrived with the damaged battery.\n",
      "Samsung Galaxy Tab 4 is shipped with 3.8 Volt, 4000 mAh, 1 Lithium Metal batteries which can run up to 10 Hours. the BATTERY LIFE is one of the best in the market. However, some users have also mentioned that, removing the battery causes a lot of damage.\n",
      "Samsung Galaxy Tab 4 is shipped with 3.8 Volt, 4000 mAh, 1 Lithium Metal batteries which can run up to 10 Hours. the BATTERY LIFE is one of the best in the market. However, some users have also mentioned that, Impossible to take the battery off with out damaging the tablet.\n",
      "Samsung Galaxy Tab 4 is shipped with 3.8 Volt, 4000 mAh, 1 Lithium Metal batteries which can run up to 10 Hours. the BATTERY LIFE is one of the best in the market. However, some users have also mentioned that, the battery was being a pain in the butt.\n",
      "Samsung Galaxy Tab 4 is shipped with 3.8 Volt, 4000 mAh, 1 Lithium Metal batteries which can run up to 10 Hours. the BATTERY LIFE is one of the best in the market. However, some users have also mentioned that, battery life is terrible.\n",
      "Samsung Galaxy Tab 4 is shipped with 3.8 Volt, 4000 mAh, 1 Lithium Metal batteries which can run up to 10 Hours. the BATTERY LIFE is one of the best in the market. However, some users have also mentioned that, Battery life is n't that great.\n",
      "Samsung Galaxy Tab 4 is shipped with 3.8 Volt, 4000 mAh, 1 Lithium Metal batteries which can run up to 10 Hours. the BATTERY LIFE is one of the best in the market. However, some users have also mentioned that, Tablet Battery died.\n",
      "Samsung Galaxy Tab 4 is shipped with 3.8 Volt, 4000 mAh, 1 Lithium Metal batteries which can run up to 10 Hours. Charging is simple and easy . and the battery life is rather long. However, some users have also mentioned that, The battery port was scratched up.\n",
      "Samsung Galaxy Tab 4 is shipped with 3.8 Volt, 4000 mAh, 1 Lithium Metal batteries which can run up to 10 Hours. Charging is simple and easy . and the battery life is rather long. However, some users have also mentioned that, Too little internal storage , poor battery longevity/recharge time.\n",
      "Samsung Galaxy Tab 4 is shipped with 3.8 Volt, 4000 mAh, 1 Lithium Metal batteries which can run up to 10 Hours. Charging is simple and easy . and the battery life is rather long. However, some users have also mentioned that, Battery life is wimpy.\n",
      "Samsung Galaxy Tab 4 is shipped with 3.8 Volt, 4000 mAh, 1 Lithium Metal batteries which can run up to 10 Hours. Charging is simple and easy . and the battery life is rather long. However, some users have also mentioned that, Battery is not replaceable however.\n",
      "Samsung Galaxy Tab 4 is shipped with 3.8 Volt, 4000 mAh, 1 Lithium Metal batteries which can run up to 10 Hours. Charging is simple and easy . and the battery life is rather long. However, some users have also mentioned that, Problems with charging , battery.\n",
      "Samsung Galaxy Tab 4 is shipped with 3.8 Volt, 4000 mAh, 1 Lithium Metal batteries which can run up to 10 Hours. Charging is simple and easy . and the battery life is rather long. However, some users have also mentioned that, The perfect handheld size but the worst battery life out of any tablet.\n",
      "Samsung Galaxy Tab 4 is shipped with 3.8 Volt, 4000 mAh, 1 Lithium Metal batteries which can run up to 10 Hours. Charging is simple and easy . and the battery life is rather long. However, some users have also mentioned that, Battery stopped holding a charge one month later.\n",
      "Samsung Galaxy Tab 4 is shipped with 3.8 Volt, 4000 mAh, 1 Lithium Metal batteries which can run up to 10 Hours. Charging is simple and easy . and the battery life is rather long. However, some users have also mentioned that, the battery dies daily.\n",
      "Samsung Galaxy Tab 4 is shipped with 3.8 Volt, 4000 mAh, 1 Lithium Metal batteries which can run up to 10 Hours. Charging is simple and easy . and the battery life is rather long. However, some users have also mentioned that, the battery charge doesn `` t seem to last.\n",
      "Samsung Galaxy Tab 4 is shipped with 3.8 Volt, 4000 mAh, 1 Lithium Metal batteries which can run up to 10 Hours. Charging is simple and easy . and the battery life is rather long. However, some users have also mentioned that, The thing burns thru 20 to 25 % of battery life per hour.\n",
      "Samsung Galaxy Tab 4 is shipped with 3.8 Volt, 4000 mAh, 1 Lithium Metal batteries which can run up to 10 Hours. Charging is simple and easy . and the battery life is rather long. However, some users have also mentioned that, the battery ran down to nothing.\n",
      "Samsung Galaxy Tab 4 is shipped with 3.8 Volt, 4000 mAh, 1 Lithium Metal batteries which can run up to 10 Hours. Charging is simple and easy . and the battery life is rather long. However, some users have also mentioned that, The directions for battery charging and location of various buttons to push were barely legible due to the tiny font and dark paper.\n",
      "Samsung Galaxy Tab 4 is shipped with 3.8 Volt, 4000 mAh, 1 Lithium Metal batteries which can run up to 10 Hours. Charging is simple and easy . and the battery life is rather long. However, some users have also mentioned that, the battery life only lasts for about 2-3 hours.\n",
      "Samsung Galaxy Tab 4 is shipped with 3.8 Volt, 4000 mAh, 1 Lithium Metal batteries which can run up to 10 Hours. Charging is simple and easy . and the battery life is rather long. However, some users have also mentioned that, drained the battery dry more than once.\n",
      "Samsung Galaxy Tab 4 is shipped with 3.8 Volt, 4000 mAh, 1 Lithium Metal batteries which can run up to 10 Hours. Charging is simple and easy . and the battery life is rather long. However, some users have also mentioned that, the product arrived with the damaged battery.\n",
      "Samsung Galaxy Tab 4 is shipped with 3.8 Volt, 4000 mAh, 1 Lithium Metal batteries which can run up to 10 Hours. Charging is simple and easy . and the battery life is rather long. However, some users have also mentioned that, removing the battery causes a lot of damage.\n",
      "Samsung Galaxy Tab 4 is shipped with 3.8 Volt, 4000 mAh, 1 Lithium Metal batteries which can run up to 10 Hours. Charging is simple and easy . and the battery life is rather long. However, some users have also mentioned that, Impossible to take the battery off with out damaging the tablet.\n",
      "Samsung Galaxy Tab 4 is shipped with 3.8 Volt, 4000 mAh, 1 Lithium Metal batteries which can run up to 10 Hours. Charging is simple and easy . and the battery life is rather long. However, some users have also mentioned that, the battery was being a pain in the butt.\n",
      "Samsung Galaxy Tab 4 is shipped with 3.8 Volt, 4000 mAh, 1 Lithium Metal batteries which can run up to 10 Hours. Charging is simple and easy . and the battery life is rather long. However, some users have also mentioned that, battery life is terrible.\n",
      "Samsung Galaxy Tab 4 is shipped with 3.8 Volt, 4000 mAh, 1 Lithium Metal batteries which can run up to 10 Hours. Charging is simple and easy . and the battery life is rather long. However, some users have also mentioned that, Battery life is n't that great.\n",
      "Samsung Galaxy Tab 4 is shipped with 3.8 Volt, 4000 mAh, 1 Lithium Metal batteries which can run up to 10 Hours. Charging is simple and easy . and the battery life is rather long. However, some users have also mentioned that, Tablet Battery died.\n",
      "Samsung Galaxy Tab 4 is shipped with 3.8 Volt, 4000 mAh, 1 Lithium Metal batteries which can run up to 10 Hours. Long battery life , great Wi-Fi reception , and the. However, some users have also mentioned that, The battery port was scratched up.\n",
      "Samsung Galaxy Tab 4 is shipped with 3.8 Volt, 4000 mAh, 1 Lithium Metal batteries which can run up to 10 Hours. Long battery life , great Wi-Fi reception , and the. However, some users have also mentioned that, Too little internal storage , poor battery longevity/recharge time.\n",
      "Samsung Galaxy Tab 4 is shipped with 3.8 Volt, 4000 mAh, 1 Lithium Metal batteries which can run up to 10 Hours. Long battery life , great Wi-Fi reception , and the. However, some users have also mentioned that, Battery life is wimpy.\n",
      "Samsung Galaxy Tab 4 is shipped with 3.8 Volt, 4000 mAh, 1 Lithium Metal batteries which can run up to 10 Hours. Long battery life , great Wi-Fi reception , and the. However, some users have also mentioned that, Battery is not replaceable however.\n",
      "Samsung Galaxy Tab 4 is shipped with 3.8 Volt, 4000 mAh, 1 Lithium Metal batteries which can run up to 10 Hours. Long battery life , great Wi-Fi reception , and the. However, some users have also mentioned that, Problems with charging , battery.\n",
      "Samsung Galaxy Tab 4 is shipped with 3.8 Volt, 4000 mAh, 1 Lithium Metal batteries which can run up to 10 Hours. Long battery life , great Wi-Fi reception , and the. However, some users have also mentioned that, The perfect handheld size but the worst battery life out of any tablet.\n",
      "Samsung Galaxy Tab 4 is shipped with 3.8 Volt, 4000 mAh, 1 Lithium Metal batteries which can run up to 10 Hours. Long battery life , great Wi-Fi reception , and the. However, some users have also mentioned that, Battery stopped holding a charge one month later.\n",
      "Samsung Galaxy Tab 4 is shipped with 3.8 Volt, 4000 mAh, 1 Lithium Metal batteries which can run up to 10 Hours. Long battery life , great Wi-Fi reception , and the. However, some users have also mentioned that, the battery dies daily.\n",
      "Samsung Galaxy Tab 4 is shipped with 3.8 Volt, 4000 mAh, 1 Lithium Metal batteries which can run up to 10 Hours. Long battery life , great Wi-Fi reception , and the. However, some users have also mentioned that, the battery charge doesn `` t seem to last.\n",
      "Samsung Galaxy Tab 4 is shipped with 3.8 Volt, 4000 mAh, 1 Lithium Metal batteries which can run up to 10 Hours. Long battery life , great Wi-Fi reception , and the. However, some users have also mentioned that, The thing burns thru 20 to 25 % of battery life per hour.\n",
      "Samsung Galaxy Tab 4 is shipped with 3.8 Volt, 4000 mAh, 1 Lithium Metal batteries which can run up to 10 Hours. Long battery life , great Wi-Fi reception , and the. However, some users have also mentioned that, the battery ran down to nothing.\n",
      "Samsung Galaxy Tab 4 is shipped with 3.8 Volt, 4000 mAh, 1 Lithium Metal batteries which can run up to 10 Hours. Long battery life , great Wi-Fi reception , and the. However, some users have also mentioned that, The directions for battery charging and location of various buttons to push were barely legible due to the tiny font and dark paper.\n",
      "Samsung Galaxy Tab 4 is shipped with 3.8 Volt, 4000 mAh, 1 Lithium Metal batteries which can run up to 10 Hours. Long battery life , great Wi-Fi reception , and the. However, some users have also mentioned that, the battery life only lasts for about 2-3 hours.\n",
      "Samsung Galaxy Tab 4 is shipped with 3.8 Volt, 4000 mAh, 1 Lithium Metal batteries which can run up to 10 Hours. Long battery life , great Wi-Fi reception , and the. However, some users have also mentioned that, drained the battery dry more than once.\n",
      "Samsung Galaxy Tab 4 is shipped with 3.8 Volt, 4000 mAh, 1 Lithium Metal batteries which can run up to 10 Hours. Long battery life , great Wi-Fi reception , and the. However, some users have also mentioned that, the product arrived with the damaged battery.\n",
      "Samsung Galaxy Tab 4 is shipped with 3.8 Volt, 4000 mAh, 1 Lithium Metal batteries which can run up to 10 Hours. Long battery life , great Wi-Fi reception , and the. However, some users have also mentioned that, removing the battery causes a lot of damage.\n",
      "Samsung Galaxy Tab 4 is shipped with 3.8 Volt, 4000 mAh, 1 Lithium Metal batteries which can run up to 10 Hours. Long battery life , great Wi-Fi reception , and the. However, some users have also mentioned that, Impossible to take the battery off with out damaging the tablet.\n",
      "Samsung Galaxy Tab 4 is shipped with 3.8 Volt, 4000 mAh, 1 Lithium Metal batteries which can run up to 10 Hours. Long battery life , great Wi-Fi reception , and the. However, some users have also mentioned that, the battery was being a pain in the butt.\n",
      "Samsung Galaxy Tab 4 is shipped with 3.8 Volt, 4000 mAh, 1 Lithium Metal batteries which can run up to 10 Hours. Long battery life , great Wi-Fi reception , and the. However, some users have also mentioned that, battery life is terrible.\n",
      "Samsung Galaxy Tab 4 is shipped with 3.8 Volt, 4000 mAh, 1 Lithium Metal batteries which can run up to 10 Hours. Long battery life , great Wi-Fi reception , and the. However, some users have also mentioned that, Battery life is n't that great.\n",
      "Samsung Galaxy Tab 4 is shipped with 3.8 Volt, 4000 mAh, 1 Lithium Metal batteries which can run up to 10 Hours. Long battery life , great Wi-Fi reception , and the. However, some users have also mentioned that, Tablet Battery died.\n",
      "Samsung Galaxy Tab 4 is shipped with 3.8 Volt, 4000 mAh, 1 Lithium Metal batteries which can run up to 10 Hours. that battery life is just flat out amazing. However, some users have also mentioned that, The battery port was scratched up.\n",
      "Samsung Galaxy Tab 4 is shipped with 3.8 Volt, 4000 mAh, 1 Lithium Metal batteries which can run up to 10 Hours. that battery life is just flat out amazing. However, some users have also mentioned that, Too little internal storage , poor battery longevity/recharge time.\n",
      "Samsung Galaxy Tab 4 is shipped with 3.8 Volt, 4000 mAh, 1 Lithium Metal batteries which can run up to 10 Hours. that battery life is just flat out amazing. However, some users have also mentioned that, Battery life is wimpy.\n",
      "Samsung Galaxy Tab 4 is shipped with 3.8 Volt, 4000 mAh, 1 Lithium Metal batteries which can run up to 10 Hours. that battery life is just flat out amazing. However, some users have also mentioned that, Battery is not replaceable however.\n",
      "Samsung Galaxy Tab 4 is shipped with 3.8 Volt, 4000 mAh, 1 Lithium Metal batteries which can run up to 10 Hours. that battery life is just flat out amazing. However, some users have also mentioned that, Problems with charging , battery.\n",
      "Samsung Galaxy Tab 4 is shipped with 3.8 Volt, 4000 mAh, 1 Lithium Metal batteries which can run up to 10 Hours. that battery life is just flat out amazing. However, some users have also mentioned that, The perfect handheld size but the worst battery life out of any tablet.\n",
      "Samsung Galaxy Tab 4 is shipped with 3.8 Volt, 4000 mAh, 1 Lithium Metal batteries which can run up to 10 Hours. that battery life is just flat out amazing. However, some users have also mentioned that, Battery stopped holding a charge one month later.\n",
      "Samsung Galaxy Tab 4 is shipped with 3.8 Volt, 4000 mAh, 1 Lithium Metal batteries which can run up to 10 Hours. that battery life is just flat out amazing. However, some users have also mentioned that, the battery dies daily.\n",
      "Samsung Galaxy Tab 4 is shipped with 3.8 Volt, 4000 mAh, 1 Lithium Metal batteries which can run up to 10 Hours. that battery life is just flat out amazing. However, some users have also mentioned that, the battery charge doesn `` t seem to last.\n",
      "Samsung Galaxy Tab 4 is shipped with 3.8 Volt, 4000 mAh, 1 Lithium Metal batteries which can run up to 10 Hours. that battery life is just flat out amazing. However, some users have also mentioned that, The thing burns thru 20 to 25 % of battery life per hour.\n",
      "Samsung Galaxy Tab 4 is shipped with 3.8 Volt, 4000 mAh, 1 Lithium Metal batteries which can run up to 10 Hours. that battery life is just flat out amazing. However, some users have also mentioned that, the battery ran down to nothing.\n",
      "Samsung Galaxy Tab 4 is shipped with 3.8 Volt, 4000 mAh, 1 Lithium Metal batteries which can run up to 10 Hours. that battery life is just flat out amazing. However, some users have also mentioned that, The directions for battery charging and location of various buttons to push were barely legible due to the tiny font and dark paper.\n",
      "Samsung Galaxy Tab 4 is shipped with 3.8 Volt, 4000 mAh, 1 Lithium Metal batteries which can run up to 10 Hours. that battery life is just flat out amazing. However, some users have also mentioned that, the battery life only lasts for about 2-3 hours.\n",
      "Samsung Galaxy Tab 4 is shipped with 3.8 Volt, 4000 mAh, 1 Lithium Metal batteries which can run up to 10 Hours. that battery life is just flat out amazing. However, some users have also mentioned that, drained the battery dry more than once.\n",
      "Samsung Galaxy Tab 4 is shipped with 3.8 Volt, 4000 mAh, 1 Lithium Metal batteries which can run up to 10 Hours. that battery life is just flat out amazing. However, some users have also mentioned that, the product arrived with the damaged battery.\n",
      "Samsung Galaxy Tab 4 is shipped with 3.8 Volt, 4000 mAh, 1 Lithium Metal batteries which can run up to 10 Hours. that battery life is just flat out amazing. However, some users have also mentioned that, removing the battery causes a lot of damage.\n",
      "Samsung Galaxy Tab 4 is shipped with 3.8 Volt, 4000 mAh, 1 Lithium Metal batteries which can run up to 10 Hours. that battery life is just flat out amazing. However, some users have also mentioned that, Impossible to take the battery off with out damaging the tablet.\n",
      "Samsung Galaxy Tab 4 is shipped with 3.8 Volt, 4000 mAh, 1 Lithium Metal batteries which can run up to 10 Hours. that battery life is just flat out amazing. However, some users have also mentioned that, the battery was being a pain in the butt.\n",
      "Samsung Galaxy Tab 4 is shipped with 3.8 Volt, 4000 mAh, 1 Lithium Metal batteries which can run up to 10 Hours. that battery life is just flat out amazing. However, some users have also mentioned that, battery life is terrible.\n",
      "Samsung Galaxy Tab 4 is shipped with 3.8 Volt, 4000 mAh, 1 Lithium Metal batteries which can run up to 10 Hours. that battery life is just flat out amazing. However, some users have also mentioned that, Battery life is n't that great.\n",
      "Samsung Galaxy Tab 4 is shipped with 3.8 Volt, 4000 mAh, 1 Lithium Metal batteries which can run up to 10 Hours. that battery life is just flat out amazing. However, some users have also mentioned that, Tablet Battery died.\n",
      "Samsung Galaxy Tab 4 is shipped with 3.8 Volt, 4000 mAh, 1 Lithium Metal batteries which can run up to 10 Hours. The battery lasts. However, some users have also mentioned that, The battery port was scratched up.\n",
      "Samsung Galaxy Tab 4 is shipped with 3.8 Volt, 4000 mAh, 1 Lithium Metal batteries which can run up to 10 Hours. The battery lasts. However, some users have also mentioned that, Too little internal storage , poor battery longevity/recharge time.\n",
      "Samsung Galaxy Tab 4 is shipped with 3.8 Volt, 4000 mAh, 1 Lithium Metal batteries which can run up to 10 Hours. The battery lasts. However, some users have also mentioned that, Battery life is wimpy.\n",
      "Samsung Galaxy Tab 4 is shipped with 3.8 Volt, 4000 mAh, 1 Lithium Metal batteries which can run up to 10 Hours. The battery lasts. However, some users have also mentioned that, Battery is not replaceable however.\n",
      "Samsung Galaxy Tab 4 is shipped with 3.8 Volt, 4000 mAh, 1 Lithium Metal batteries which can run up to 10 Hours. The battery lasts. However, some users have also mentioned that, Problems with charging , battery.\n",
      "Samsung Galaxy Tab 4 is shipped with 3.8 Volt, 4000 mAh, 1 Lithium Metal batteries which can run up to 10 Hours. The battery lasts. However, some users have also mentioned that, The perfect handheld size but the worst battery life out of any tablet.\n",
      "Samsung Galaxy Tab 4 is shipped with 3.8 Volt, 4000 mAh, 1 Lithium Metal batteries which can run up to 10 Hours. The battery lasts. However, some users have also mentioned that, Battery stopped holding a charge one month later.\n",
      "Samsung Galaxy Tab 4 is shipped with 3.8 Volt, 4000 mAh, 1 Lithium Metal batteries which can run up to 10 Hours. The battery lasts. However, some users have also mentioned that, the battery dies daily.\n",
      "Samsung Galaxy Tab 4 is shipped with 3.8 Volt, 4000 mAh, 1 Lithium Metal batteries which can run up to 10 Hours. The battery lasts. However, some users have also mentioned that, the battery charge doesn `` t seem to last.\n",
      "Samsung Galaxy Tab 4 is shipped with 3.8 Volt, 4000 mAh, 1 Lithium Metal batteries which can run up to 10 Hours. The battery lasts. However, some users have also mentioned that, The thing burns thru 20 to 25 % of battery life per hour.\n",
      "Samsung Galaxy Tab 4 is shipped with 3.8 Volt, 4000 mAh, 1 Lithium Metal batteries which can run up to 10 Hours. The battery lasts. However, some users have also mentioned that, the battery ran down to nothing.\n",
      "Samsung Galaxy Tab 4 is shipped with 3.8 Volt, 4000 mAh, 1 Lithium Metal batteries which can run up to 10 Hours. The battery lasts. However, some users have also mentioned that, The directions for battery charging and location of various buttons to push were barely legible due to the tiny font and dark paper.\n",
      "Samsung Galaxy Tab 4 is shipped with 3.8 Volt, 4000 mAh, 1 Lithium Metal batteries which can run up to 10 Hours. The battery lasts. However, some users have also mentioned that, the battery life only lasts for about 2-3 hours.\n",
      "Samsung Galaxy Tab 4 is shipped with 3.8 Volt, 4000 mAh, 1 Lithium Metal batteries which can run up to 10 Hours. The battery lasts. However, some users have also mentioned that, drained the battery dry more than once.\n",
      "Samsung Galaxy Tab 4 is shipped with 3.8 Volt, 4000 mAh, 1 Lithium Metal batteries which can run up to 10 Hours. The battery lasts. However, some users have also mentioned that, the product arrived with the damaged battery.\n",
      "Samsung Galaxy Tab 4 is shipped with 3.8 Volt, 4000 mAh, 1 Lithium Metal batteries which can run up to 10 Hours. The battery lasts. However, some users have also mentioned that, removing the battery causes a lot of damage.\n",
      "Samsung Galaxy Tab 4 is shipped with 3.8 Volt, 4000 mAh, 1 Lithium Metal batteries which can run up to 10 Hours. The battery lasts. However, some users have also mentioned that, Impossible to take the battery off with out damaging the tablet.\n",
      "Samsung Galaxy Tab 4 is shipped with 3.8 Volt, 4000 mAh, 1 Lithium Metal batteries which can run up to 10 Hours. The battery lasts. However, some users have also mentioned that, the battery was being a pain in the butt.\n",
      "Samsung Galaxy Tab 4 is shipped with 3.8 Volt, 4000 mAh, 1 Lithium Metal batteries which can run up to 10 Hours. The battery lasts. However, some users have also mentioned that, battery life is terrible.\n",
      "Samsung Galaxy Tab 4 is shipped with 3.8 Volt, 4000 mAh, 1 Lithium Metal batteries which can run up to 10 Hours. The battery lasts. However, some users have also mentioned that, Battery life is n't that great.\n",
      "Samsung Galaxy Tab 4 is shipped with 3.8 Volt, 4000 mAh, 1 Lithium Metal batteries which can run up to 10 Hours. The battery lasts. However, some users have also mentioned that, Tablet Battery died.\n",
      "Samsung Galaxy Tab 4 is shipped with 3.8 Volt, 4000 mAh, 1 Lithium Metal batteries which can run up to 10 Hours. The battery has a great lifespan. However, some users have also mentioned that, The battery port was scratched up.\n",
      "Samsung Galaxy Tab 4 is shipped with 3.8 Volt, 4000 mAh, 1 Lithium Metal batteries which can run up to 10 Hours. The battery has a great lifespan. However, some users have also mentioned that, Too little internal storage , poor battery longevity/recharge time.\n",
      "Samsung Galaxy Tab 4 is shipped with 3.8 Volt, 4000 mAh, 1 Lithium Metal batteries which can run up to 10 Hours. The battery has a great lifespan. However, some users have also mentioned that, Battery life is wimpy.\n",
      "Samsung Galaxy Tab 4 is shipped with 3.8 Volt, 4000 mAh, 1 Lithium Metal batteries which can run up to 10 Hours. The battery has a great lifespan. However, some users have also mentioned that, Battery is not replaceable however.\n",
      "Samsung Galaxy Tab 4 is shipped with 3.8 Volt, 4000 mAh, 1 Lithium Metal batteries which can run up to 10 Hours. The battery has a great lifespan. However, some users have also mentioned that, Problems with charging , battery.\n",
      "Samsung Galaxy Tab 4 is shipped with 3.8 Volt, 4000 mAh, 1 Lithium Metal batteries which can run up to 10 Hours. The battery has a great lifespan. However, some users have also mentioned that, The perfect handheld size but the worst battery life out of any tablet.\n",
      "Samsung Galaxy Tab 4 is shipped with 3.8 Volt, 4000 mAh, 1 Lithium Metal batteries which can run up to 10 Hours. The battery has a great lifespan. However, some users have also mentioned that, Battery stopped holding a charge one month later.\n",
      "Samsung Galaxy Tab 4 is shipped with 3.8 Volt, 4000 mAh, 1 Lithium Metal batteries which can run up to 10 Hours. The battery has a great lifespan. However, some users have also mentioned that, the battery dies daily.\n",
      "Samsung Galaxy Tab 4 is shipped with 3.8 Volt, 4000 mAh, 1 Lithium Metal batteries which can run up to 10 Hours. The battery has a great lifespan. However, some users have also mentioned that, the battery charge doesn `` t seem to last.\n",
      "Samsung Galaxy Tab 4 is shipped with 3.8 Volt, 4000 mAh, 1 Lithium Metal batteries which can run up to 10 Hours. The battery has a great lifespan. However, some users have also mentioned that, The thing burns thru 20 to 25 % of battery life per hour.\n",
      "Samsung Galaxy Tab 4 is shipped with 3.8 Volt, 4000 mAh, 1 Lithium Metal batteries which can run up to 10 Hours. The battery has a great lifespan. However, some users have also mentioned that, the battery ran down to nothing.\n",
      "Samsung Galaxy Tab 4 is shipped with 3.8 Volt, 4000 mAh, 1 Lithium Metal batteries which can run up to 10 Hours. The battery has a great lifespan. However, some users have also mentioned that, The directions for battery charging and location of various buttons to push were barely legible due to the tiny font and dark paper.\n",
      "Samsung Galaxy Tab 4 is shipped with 3.8 Volt, 4000 mAh, 1 Lithium Metal batteries which can run up to 10 Hours. The battery has a great lifespan. However, some users have also mentioned that, the battery life only lasts for about 2-3 hours.\n",
      "Samsung Galaxy Tab 4 is shipped with 3.8 Volt, 4000 mAh, 1 Lithium Metal batteries which can run up to 10 Hours. The battery has a great lifespan. However, some users have also mentioned that, drained the battery dry more than once.\n",
      "Samsung Galaxy Tab 4 is shipped with 3.8 Volt, 4000 mAh, 1 Lithium Metal batteries which can run up to 10 Hours. The battery has a great lifespan. However, some users have also mentioned that, the product arrived with the damaged battery.\n",
      "Samsung Galaxy Tab 4 is shipped with 3.8 Volt, 4000 mAh, 1 Lithium Metal batteries which can run up to 10 Hours. The battery has a great lifespan. However, some users have also mentioned that, removing the battery causes a lot of damage.\n",
      "Samsung Galaxy Tab 4 is shipped with 3.8 Volt, 4000 mAh, 1 Lithium Metal batteries which can run up to 10 Hours. The battery has a great lifespan. However, some users have also mentioned that, Impossible to take the battery off with out damaging the tablet.\n",
      "Samsung Galaxy Tab 4 is shipped with 3.8 Volt, 4000 mAh, 1 Lithium Metal batteries which can run up to 10 Hours. The battery has a great lifespan. However, some users have also mentioned that, the battery was being a pain in the butt.\n",
      "Samsung Galaxy Tab 4 is shipped with 3.8 Volt, 4000 mAh, 1 Lithium Metal batteries which can run up to 10 Hours. The battery has a great lifespan. However, some users have also mentioned that, battery life is terrible.\n",
      "Samsung Galaxy Tab 4 is shipped with 3.8 Volt, 4000 mAh, 1 Lithium Metal batteries which can run up to 10 Hours. The battery has a great lifespan. However, some users have also mentioned that, Battery life is n't that great.\n",
      "Samsung Galaxy Tab 4 is shipped with 3.8 Volt, 4000 mAh, 1 Lithium Metal batteries which can run up to 10 Hours. The battery has a great lifespan. However, some users have also mentioned that, Tablet Battery died.\n",
      "Samsung Galaxy Tab 4 is shipped with 3.8 Volt, 4000 mAh, 1 Lithium Metal batteries which can run up to 10 Hours. Nice clear display , easy access to the SD card slot , light in weight , long battery life & easy to use interface. However, some users have also mentioned that, The battery port was scratched up.\n",
      "Samsung Galaxy Tab 4 is shipped with 3.8 Volt, 4000 mAh, 1 Lithium Metal batteries which can run up to 10 Hours. Nice clear display , easy access to the SD card slot , light in weight , long battery life & easy to use interface. However, some users have also mentioned that, Too little internal storage , poor battery longevity/recharge time.\n",
      "Samsung Galaxy Tab 4 is shipped with 3.8 Volt, 4000 mAh, 1 Lithium Metal batteries which can run up to 10 Hours. Nice clear display , easy access to the SD card slot , light in weight , long battery life & easy to use interface. However, some users have also mentioned that, Battery life is wimpy.\n",
      "Samsung Galaxy Tab 4 is shipped with 3.8 Volt, 4000 mAh, 1 Lithium Metal batteries which can run up to 10 Hours. Nice clear display , easy access to the SD card slot , light in weight , long battery life & easy to use interface. However, some users have also mentioned that, Battery is not replaceable however.\n",
      "Samsung Galaxy Tab 4 is shipped with 3.8 Volt, 4000 mAh, 1 Lithium Metal batteries which can run up to 10 Hours. Nice clear display , easy access to the SD card slot , light in weight , long battery life & easy to use interface. However, some users have also mentioned that, Problems with charging , battery.\n",
      "Samsung Galaxy Tab 4 is shipped with 3.8 Volt, 4000 mAh, 1 Lithium Metal batteries which can run up to 10 Hours. Nice clear display , easy access to the SD card slot , light in weight , long battery life & easy to use interface. However, some users have also mentioned that, The perfect handheld size but the worst battery life out of any tablet.\n",
      "Samsung Galaxy Tab 4 is shipped with 3.8 Volt, 4000 mAh, 1 Lithium Metal batteries which can run up to 10 Hours. Nice clear display , easy access to the SD card slot , light in weight , long battery life & easy to use interface. However, some users have also mentioned that, Battery stopped holding a charge one month later.\n",
      "Samsung Galaxy Tab 4 is shipped with 3.8 Volt, 4000 mAh, 1 Lithium Metal batteries which can run up to 10 Hours. Nice clear display , easy access to the SD card slot , light in weight , long battery life & easy to use interface. However, some users have also mentioned that, the battery dies daily.\n",
      "Samsung Galaxy Tab 4 is shipped with 3.8 Volt, 4000 mAh, 1 Lithium Metal batteries which can run up to 10 Hours. Nice clear display , easy access to the SD card slot , light in weight , long battery life & easy to use interface. However, some users have also mentioned that, the battery charge doesn `` t seem to last.\n",
      "Samsung Galaxy Tab 4 is shipped with 3.8 Volt, 4000 mAh, 1 Lithium Metal batteries which can run up to 10 Hours. Nice clear display , easy access to the SD card slot , light in weight , long battery life & easy to use interface. However, some users have also mentioned that, The thing burns thru 20 to 25 % of battery life per hour.\n",
      "Samsung Galaxy Tab 4 is shipped with 3.8 Volt, 4000 mAh, 1 Lithium Metal batteries which can run up to 10 Hours. Nice clear display , easy access to the SD card slot , light in weight , long battery life & easy to use interface. However, some users have also mentioned that, the battery ran down to nothing.\n",
      "Samsung Galaxy Tab 4 is shipped with 3.8 Volt, 4000 mAh, 1 Lithium Metal batteries which can run up to 10 Hours. Nice clear display , easy access to the SD card slot , light in weight , long battery life & easy to use interface. However, some users have also mentioned that, The directions for battery charging and location of various buttons to push were barely legible due to the tiny font and dark paper.\n",
      "Samsung Galaxy Tab 4 is shipped with 3.8 Volt, 4000 mAh, 1 Lithium Metal batteries which can run up to 10 Hours. Nice clear display , easy access to the SD card slot , light in weight , long battery life & easy to use interface. However, some users have also mentioned that, the battery life only lasts for about 2-3 hours.\n",
      "Samsung Galaxy Tab 4 is shipped with 3.8 Volt, 4000 mAh, 1 Lithium Metal batteries which can run up to 10 Hours. Nice clear display , easy access to the SD card slot , light in weight , long battery life & easy to use interface. However, some users have also mentioned that, drained the battery dry more than once.\n",
      "Samsung Galaxy Tab 4 is shipped with 3.8 Volt, 4000 mAh, 1 Lithium Metal batteries which can run up to 10 Hours. Nice clear display , easy access to the SD card slot , light in weight , long battery life & easy to use interface. However, some users have also mentioned that, the product arrived with the damaged battery.\n",
      "Samsung Galaxy Tab 4 is shipped with 3.8 Volt, 4000 mAh, 1 Lithium Metal batteries which can run up to 10 Hours. Nice clear display , easy access to the SD card slot , light in weight , long battery life & easy to use interface. However, some users have also mentioned that, removing the battery causes a lot of damage.\n",
      "Samsung Galaxy Tab 4 is shipped with 3.8 Volt, 4000 mAh, 1 Lithium Metal batteries which can run up to 10 Hours. Nice clear display , easy access to the SD card slot , light in weight , long battery life & easy to use interface. However, some users have also mentioned that, Impossible to take the battery off with out damaging the tablet.\n",
      "Samsung Galaxy Tab 4 is shipped with 3.8 Volt, 4000 mAh, 1 Lithium Metal batteries which can run up to 10 Hours. Nice clear display , easy access to the SD card slot , light in weight , long battery life & easy to use interface. However, some users have also mentioned that, the battery was being a pain in the butt.\n",
      "Samsung Galaxy Tab 4 is shipped with 3.8 Volt, 4000 mAh, 1 Lithium Metal batteries which can run up to 10 Hours. Nice clear display , easy access to the SD card slot , light in weight , long battery life & easy to use interface. However, some users have also mentioned that, battery life is terrible.\n",
      "Samsung Galaxy Tab 4 is shipped with 3.8 Volt, 4000 mAh, 1 Lithium Metal batteries which can run up to 10 Hours. Nice clear display , easy access to the SD card slot , light in weight , long battery life & easy to use interface. However, some users have also mentioned that, Battery life is n't that great.\n",
      "Samsung Galaxy Tab 4 is shipped with 3.8 Volt, 4000 mAh, 1 Lithium Metal batteries which can run up to 10 Hours. Nice clear display , easy access to the SD card slot , light in weight , long battery life & easy to use interface. However, some users have also mentioned that, Tablet Battery died.\n",
      "Samsung Galaxy Tab 4 is shipped with 3.8 Volt, 4000 mAh, 1 Lithium Metal batteries which can run up to 10 Hours. This tablet has nice resolution and reasonable battery life. However, some users have also mentioned that, The battery port was scratched up.\n",
      "Samsung Galaxy Tab 4 is shipped with 3.8 Volt, 4000 mAh, 1 Lithium Metal batteries which can run up to 10 Hours. This tablet has nice resolution and reasonable battery life. However, some users have also mentioned that, Too little internal storage , poor battery longevity/recharge time.\n",
      "Samsung Galaxy Tab 4 is shipped with 3.8 Volt, 4000 mAh, 1 Lithium Metal batteries which can run up to 10 Hours. This tablet has nice resolution and reasonable battery life. However, some users have also mentioned that, Battery life is wimpy.\n",
      "Samsung Galaxy Tab 4 is shipped with 3.8 Volt, 4000 mAh, 1 Lithium Metal batteries which can run up to 10 Hours. This tablet has nice resolution and reasonable battery life. However, some users have also mentioned that, Battery is not replaceable however.\n",
      "Samsung Galaxy Tab 4 is shipped with 3.8 Volt, 4000 mAh, 1 Lithium Metal batteries which can run up to 10 Hours. This tablet has nice resolution and reasonable battery life. However, some users have also mentioned that, Problems with charging , battery.\n",
      "Samsung Galaxy Tab 4 is shipped with 3.8 Volt, 4000 mAh, 1 Lithium Metal batteries which can run up to 10 Hours. This tablet has nice resolution and reasonable battery life. However, some users have also mentioned that, The perfect handheld size but the worst battery life out of any tablet.\n",
      "Samsung Galaxy Tab 4 is shipped with 3.8 Volt, 4000 mAh, 1 Lithium Metal batteries which can run up to 10 Hours. This tablet has nice resolution and reasonable battery life. However, some users have also mentioned that, Battery stopped holding a charge one month later.\n",
      "Samsung Galaxy Tab 4 is shipped with 3.8 Volt, 4000 mAh, 1 Lithium Metal batteries which can run up to 10 Hours. This tablet has nice resolution and reasonable battery life. However, some users have also mentioned that, the battery dies daily.\n",
      "Samsung Galaxy Tab 4 is shipped with 3.8 Volt, 4000 mAh, 1 Lithium Metal batteries which can run up to 10 Hours. This tablet has nice resolution and reasonable battery life. However, some users have also mentioned that, the battery charge doesn `` t seem to last.\n",
      "Samsung Galaxy Tab 4 is shipped with 3.8 Volt, 4000 mAh, 1 Lithium Metal batteries which can run up to 10 Hours. This tablet has nice resolution and reasonable battery life. However, some users have also mentioned that, The thing burns thru 20 to 25 % of battery life per hour.\n",
      "Samsung Galaxy Tab 4 is shipped with 3.8 Volt, 4000 mAh, 1 Lithium Metal batteries which can run up to 10 Hours. This tablet has nice resolution and reasonable battery life. However, some users have also mentioned that, the battery ran down to nothing.\n",
      "Samsung Galaxy Tab 4 is shipped with 3.8 Volt, 4000 mAh, 1 Lithium Metal batteries which can run up to 10 Hours. This tablet has nice resolution and reasonable battery life. However, some users have also mentioned that, The directions for battery charging and location of various buttons to push were barely legible due to the tiny font and dark paper.\n",
      "Samsung Galaxy Tab 4 is shipped with 3.8 Volt, 4000 mAh, 1 Lithium Metal batteries which can run up to 10 Hours. This tablet has nice resolution and reasonable battery life. However, some users have also mentioned that, the battery life only lasts for about 2-3 hours.\n",
      "Samsung Galaxy Tab 4 is shipped with 3.8 Volt, 4000 mAh, 1 Lithium Metal batteries which can run up to 10 Hours. This tablet has nice resolution and reasonable battery life. However, some users have also mentioned that, drained the battery dry more than once.\n",
      "Samsung Galaxy Tab 4 is shipped with 3.8 Volt, 4000 mAh, 1 Lithium Metal batteries which can run up to 10 Hours. This tablet has nice resolution and reasonable battery life. However, some users have also mentioned that, the product arrived with the damaged battery.\n",
      "Samsung Galaxy Tab 4 is shipped with 3.8 Volt, 4000 mAh, 1 Lithium Metal batteries which can run up to 10 Hours. This tablet has nice resolution and reasonable battery life. However, some users have also mentioned that, removing the battery causes a lot of damage.\n",
      "Samsung Galaxy Tab 4 is shipped with 3.8 Volt, 4000 mAh, 1 Lithium Metal batteries which can run up to 10 Hours. This tablet has nice resolution and reasonable battery life. However, some users have also mentioned that, Impossible to take the battery off with out damaging the tablet.\n",
      "Samsung Galaxy Tab 4 is shipped with 3.8 Volt, 4000 mAh, 1 Lithium Metal batteries which can run up to 10 Hours. This tablet has nice resolution and reasonable battery life. However, some users have also mentioned that, the battery was being a pain in the butt.\n",
      "Samsung Galaxy Tab 4 is shipped with 3.8 Volt, 4000 mAh, 1 Lithium Metal batteries which can run up to 10 Hours. This tablet has nice resolution and reasonable battery life. However, some users have also mentioned that, battery life is terrible.\n",
      "Samsung Galaxy Tab 4 is shipped with 3.8 Volt, 4000 mAh, 1 Lithium Metal batteries which can run up to 10 Hours. This tablet has nice resolution and reasonable battery life. However, some users have also mentioned that, Battery life is n't that great.\n",
      "Samsung Galaxy Tab 4 is shipped with 3.8 Volt, 4000 mAh, 1 Lithium Metal batteries which can run up to 10 Hours. This tablet has nice resolution and reasonable battery life. However, some users have also mentioned that, Tablet Battery died.\n",
      "Samsung Galaxy Tab 4 is shipped with 3.8 Volt, 4000 mAh, 1 Lithium Metal batteries which can run up to 10 Hours. Working wonderfully and the battery is great . . can go days. However, some users have also mentioned that, The battery port was scratched up.\n",
      "Samsung Galaxy Tab 4 is shipped with 3.8 Volt, 4000 mAh, 1 Lithium Metal batteries which can run up to 10 Hours. Working wonderfully and the battery is great . . can go days. However, some users have also mentioned that, Too little internal storage , poor battery longevity/recharge time.\n",
      "Samsung Galaxy Tab 4 is shipped with 3.8 Volt, 4000 mAh, 1 Lithium Metal batteries which can run up to 10 Hours. Working wonderfully and the battery is great . . can go days. However, some users have also mentioned that, Battery life is wimpy.\n",
      "Samsung Galaxy Tab 4 is shipped with 3.8 Volt, 4000 mAh, 1 Lithium Metal batteries which can run up to 10 Hours. Working wonderfully and the battery is great . . can go days. However, some users have also mentioned that, Battery is not replaceable however.\n",
      "Samsung Galaxy Tab 4 is shipped with 3.8 Volt, 4000 mAh, 1 Lithium Metal batteries which can run up to 10 Hours. Working wonderfully and the battery is great . . can go days. However, some users have also mentioned that, Problems with charging , battery.\n",
      "Samsung Galaxy Tab 4 is shipped with 3.8 Volt, 4000 mAh, 1 Lithium Metal batteries which can run up to 10 Hours. Working wonderfully and the battery is great . . can go days. However, some users have also mentioned that, The perfect handheld size but the worst battery life out of any tablet.\n",
      "Samsung Galaxy Tab 4 is shipped with 3.8 Volt, 4000 mAh, 1 Lithium Metal batteries which can run up to 10 Hours. Working wonderfully and the battery is great . . can go days. However, some users have also mentioned that, Battery stopped holding a charge one month later.\n",
      "Samsung Galaxy Tab 4 is shipped with 3.8 Volt, 4000 mAh, 1 Lithium Metal batteries which can run up to 10 Hours. Working wonderfully and the battery is great . . can go days. However, some users have also mentioned that, the battery dies daily.\n",
      "Samsung Galaxy Tab 4 is shipped with 3.8 Volt, 4000 mAh, 1 Lithium Metal batteries which can run up to 10 Hours. Working wonderfully and the battery is great . . can go days. However, some users have also mentioned that, the battery charge doesn `` t seem to last.\n",
      "Samsung Galaxy Tab 4 is shipped with 3.8 Volt, 4000 mAh, 1 Lithium Metal batteries which can run up to 10 Hours. Working wonderfully and the battery is great . . can go days. However, some users have also mentioned that, The thing burns thru 20 to 25 % of battery life per hour.\n",
      "Samsung Galaxy Tab 4 is shipped with 3.8 Volt, 4000 mAh, 1 Lithium Metal batteries which can run up to 10 Hours. Working wonderfully and the battery is great . . can go days. However, some users have also mentioned that, the battery ran down to nothing.\n",
      "Samsung Galaxy Tab 4 is shipped with 3.8 Volt, 4000 mAh, 1 Lithium Metal batteries which can run up to 10 Hours. Working wonderfully and the battery is great . . can go days. However, some users have also mentioned that, The directions for battery charging and location of various buttons to push were barely legible due to the tiny font and dark paper.\n",
      "Samsung Galaxy Tab 4 is shipped with 3.8 Volt, 4000 mAh, 1 Lithium Metal batteries which can run up to 10 Hours. Working wonderfully and the battery is great . . can go days. However, some users have also mentioned that, the battery life only lasts for about 2-3 hours.\n",
      "Samsung Galaxy Tab 4 is shipped with 3.8 Volt, 4000 mAh, 1 Lithium Metal batteries which can run up to 10 Hours. Working wonderfully and the battery is great . . can go days. However, some users have also mentioned that, drained the battery dry more than once.\n",
      "Samsung Galaxy Tab 4 is shipped with 3.8 Volt, 4000 mAh, 1 Lithium Metal batteries which can run up to 10 Hours. Working wonderfully and the battery is great . . can go days. However, some users have also mentioned that, the product arrived with the damaged battery.\n",
      "Samsung Galaxy Tab 4 is shipped with 3.8 Volt, 4000 mAh, 1 Lithium Metal batteries which can run up to 10 Hours. Working wonderfully and the battery is great . . can go days. However, some users have also mentioned that, removing the battery causes a lot of damage.\n",
      "Samsung Galaxy Tab 4 is shipped with 3.8 Volt, 4000 mAh, 1 Lithium Metal batteries which can run up to 10 Hours. Working wonderfully and the battery is great . . can go days. However, some users have also mentioned that, Impossible to take the battery off with out damaging the tablet.\n",
      "Samsung Galaxy Tab 4 is shipped with 3.8 Volt, 4000 mAh, 1 Lithium Metal batteries which can run up to 10 Hours. Working wonderfully and the battery is great . . can go days. However, some users have also mentioned that, the battery was being a pain in the butt.\n",
      "Samsung Galaxy Tab 4 is shipped with 3.8 Volt, 4000 mAh, 1 Lithium Metal batteries which can run up to 10 Hours. Working wonderfully and the battery is great . . can go days. However, some users have also mentioned that, battery life is terrible.\n",
      "Samsung Galaxy Tab 4 is shipped with 3.8 Volt, 4000 mAh, 1 Lithium Metal batteries which can run up to 10 Hours. Working wonderfully and the battery is great . . can go days. However, some users have also mentioned that, Battery life is n't that great.\n",
      "Samsung Galaxy Tab 4 is shipped with 3.8 Volt, 4000 mAh, 1 Lithium Metal batteries which can run up to 10 Hours. Working wonderfully and the battery is great . . can go days. However, some users have also mentioned that, Tablet Battery died.\n",
      "Samsung Galaxy Tab 4 is shipped with 3.8 Volt, 4000 mAh, 1 Lithium Metal batteries which can run up to 10 Hours. Good battery life. However, some users have also mentioned that, The battery port was scratched up.\n",
      "Samsung Galaxy Tab 4 is shipped with 3.8 Volt, 4000 mAh, 1 Lithium Metal batteries which can run up to 10 Hours. Good battery life. However, some users have also mentioned that, Too little internal storage , poor battery longevity/recharge time.\n",
      "Samsung Galaxy Tab 4 is shipped with 3.8 Volt, 4000 mAh, 1 Lithium Metal batteries which can run up to 10 Hours. Good battery life. However, some users have also mentioned that, Battery life is wimpy.\n",
      "Samsung Galaxy Tab 4 is shipped with 3.8 Volt, 4000 mAh, 1 Lithium Metal batteries which can run up to 10 Hours. Good battery life. However, some users have also mentioned that, Battery is not replaceable however.\n",
      "Samsung Galaxy Tab 4 is shipped with 3.8 Volt, 4000 mAh, 1 Lithium Metal batteries which can run up to 10 Hours. Good battery life. However, some users have also mentioned that, Problems with charging , battery.\n",
      "Samsung Galaxy Tab 4 is shipped with 3.8 Volt, 4000 mAh, 1 Lithium Metal batteries which can run up to 10 Hours. Good battery life. However, some users have also mentioned that, The perfect handheld size but the worst battery life out of any tablet.\n",
      "Samsung Galaxy Tab 4 is shipped with 3.8 Volt, 4000 mAh, 1 Lithium Metal batteries which can run up to 10 Hours. Good battery life. However, some users have also mentioned that, Battery stopped holding a charge one month later.\n",
      "Samsung Galaxy Tab 4 is shipped with 3.8 Volt, 4000 mAh, 1 Lithium Metal batteries which can run up to 10 Hours. Good battery life. However, some users have also mentioned that, the battery dies daily.\n",
      "Samsung Galaxy Tab 4 is shipped with 3.8 Volt, 4000 mAh, 1 Lithium Metal batteries which can run up to 10 Hours. Good battery life. However, some users have also mentioned that, the battery charge doesn `` t seem to last.\n",
      "Samsung Galaxy Tab 4 is shipped with 3.8 Volt, 4000 mAh, 1 Lithium Metal batteries which can run up to 10 Hours. Good battery life. However, some users have also mentioned that, The thing burns thru 20 to 25 % of battery life per hour.\n",
      "Samsung Galaxy Tab 4 is shipped with 3.8 Volt, 4000 mAh, 1 Lithium Metal batteries which can run up to 10 Hours. Good battery life. However, some users have also mentioned that, the battery ran down to nothing.\n",
      "Samsung Galaxy Tab 4 is shipped with 3.8 Volt, 4000 mAh, 1 Lithium Metal batteries which can run up to 10 Hours. Good battery life. However, some users have also mentioned that, The directions for battery charging and location of various buttons to push were barely legible due to the tiny font and dark paper.\n",
      "Samsung Galaxy Tab 4 is shipped with 3.8 Volt, 4000 mAh, 1 Lithium Metal batteries which can run up to 10 Hours. Good battery life. However, some users have also mentioned that, the battery life only lasts for about 2-3 hours.\n",
      "Samsung Galaxy Tab 4 is shipped with 3.8 Volt, 4000 mAh, 1 Lithium Metal batteries which can run up to 10 Hours. Good battery life. However, some users have also mentioned that, drained the battery dry more than once.\n",
      "Samsung Galaxy Tab 4 is shipped with 3.8 Volt, 4000 mAh, 1 Lithium Metal batteries which can run up to 10 Hours. Good battery life. However, some users have also mentioned that, the product arrived with the damaged battery.\n",
      "Samsung Galaxy Tab 4 is shipped with 3.8 Volt, 4000 mAh, 1 Lithium Metal batteries which can run up to 10 Hours. Good battery life. However, some users have also mentioned that, removing the battery causes a lot of damage.\n",
      "Samsung Galaxy Tab 4 is shipped with 3.8 Volt, 4000 mAh, 1 Lithium Metal batteries which can run up to 10 Hours. Good battery life. However, some users have also mentioned that, Impossible to take the battery off with out damaging the tablet.\n",
      "Samsung Galaxy Tab 4 is shipped with 3.8 Volt, 4000 mAh, 1 Lithium Metal batteries which can run up to 10 Hours. Good battery life. However, some users have also mentioned that, the battery was being a pain in the butt.\n",
      "Samsung Galaxy Tab 4 is shipped with 3.8 Volt, 4000 mAh, 1 Lithium Metal batteries which can run up to 10 Hours. Good battery life. However, some users have also mentioned that, battery life is terrible.\n",
      "Samsung Galaxy Tab 4 is shipped with 3.8 Volt, 4000 mAh, 1 Lithium Metal batteries which can run up to 10 Hours. Good battery life. However, some users have also mentioned that, Battery life is n't that great.\n",
      "Samsung Galaxy Tab 4 is shipped with 3.8 Volt, 4000 mAh, 1 Lithium Metal batteries which can run up to 10 Hours. Good battery life. However, some users have also mentioned that, Tablet Battery died.\n",
      "Samsung Galaxy Tab 4 is shipped with 3.8 Volt, 4000 mAh, 1 Lithium Metal batteries which can run up to 10 Hours. battery life is excellent. However, some users have also mentioned that, The battery port was scratched up.\n",
      "Samsung Galaxy Tab 4 is shipped with 3.8 Volt, 4000 mAh, 1 Lithium Metal batteries which can run up to 10 Hours. battery life is excellent. However, some users have also mentioned that, Too little internal storage , poor battery longevity/recharge time.\n",
      "Samsung Galaxy Tab 4 is shipped with 3.8 Volt, 4000 mAh, 1 Lithium Metal batteries which can run up to 10 Hours. battery life is excellent. However, some users have also mentioned that, Battery life is wimpy.\n",
      "Samsung Galaxy Tab 4 is shipped with 3.8 Volt, 4000 mAh, 1 Lithium Metal batteries which can run up to 10 Hours. battery life is excellent. However, some users have also mentioned that, Battery is not replaceable however.\n",
      "Samsung Galaxy Tab 4 is shipped with 3.8 Volt, 4000 mAh, 1 Lithium Metal batteries which can run up to 10 Hours. battery life is excellent. However, some users have also mentioned that, Problems with charging , battery.\n",
      "Samsung Galaxy Tab 4 is shipped with 3.8 Volt, 4000 mAh, 1 Lithium Metal batteries which can run up to 10 Hours. battery life is excellent. However, some users have also mentioned that, The perfect handheld size but the worst battery life out of any tablet.\n",
      "Samsung Galaxy Tab 4 is shipped with 3.8 Volt, 4000 mAh, 1 Lithium Metal batteries which can run up to 10 Hours. battery life is excellent. However, some users have also mentioned that, Battery stopped holding a charge one month later.\n",
      "Samsung Galaxy Tab 4 is shipped with 3.8 Volt, 4000 mAh, 1 Lithium Metal batteries which can run up to 10 Hours. battery life is excellent. However, some users have also mentioned that, the battery dies daily.\n",
      "Samsung Galaxy Tab 4 is shipped with 3.8 Volt, 4000 mAh, 1 Lithium Metal batteries which can run up to 10 Hours. battery life is excellent. However, some users have also mentioned that, the battery charge doesn `` t seem to last.\n",
      "Samsung Galaxy Tab 4 is shipped with 3.8 Volt, 4000 mAh, 1 Lithium Metal batteries which can run up to 10 Hours. battery life is excellent. However, some users have also mentioned that, The thing burns thru 20 to 25 % of battery life per hour.\n",
      "Samsung Galaxy Tab 4 is shipped with 3.8 Volt, 4000 mAh, 1 Lithium Metal batteries which can run up to 10 Hours. battery life is excellent. However, some users have also mentioned that, the battery ran down to nothing.\n",
      "Samsung Galaxy Tab 4 is shipped with 3.8 Volt, 4000 mAh, 1 Lithium Metal batteries which can run up to 10 Hours. battery life is excellent. However, some users have also mentioned that, The directions for battery charging and location of various buttons to push were barely legible due to the tiny font and dark paper.\n",
      "Samsung Galaxy Tab 4 is shipped with 3.8 Volt, 4000 mAh, 1 Lithium Metal batteries which can run up to 10 Hours. battery life is excellent. However, some users have also mentioned that, the battery life only lasts for about 2-3 hours.\n",
      "Samsung Galaxy Tab 4 is shipped with 3.8 Volt, 4000 mAh, 1 Lithium Metal batteries which can run up to 10 Hours. battery life is excellent. However, some users have also mentioned that, drained the battery dry more than once.\n",
      "Samsung Galaxy Tab 4 is shipped with 3.8 Volt, 4000 mAh, 1 Lithium Metal batteries which can run up to 10 Hours. battery life is excellent. However, some users have also mentioned that, the product arrived with the damaged battery.\n",
      "Samsung Galaxy Tab 4 is shipped with 3.8 Volt, 4000 mAh, 1 Lithium Metal batteries which can run up to 10 Hours. battery life is excellent. However, some users have also mentioned that, removing the battery causes a lot of damage.\n",
      "Samsung Galaxy Tab 4 is shipped with 3.8 Volt, 4000 mAh, 1 Lithium Metal batteries which can run up to 10 Hours. battery life is excellent. However, some users have also mentioned that, Impossible to take the battery off with out damaging the tablet.\n",
      "Samsung Galaxy Tab 4 is shipped with 3.8 Volt, 4000 mAh, 1 Lithium Metal batteries which can run up to 10 Hours. battery life is excellent. However, some users have also mentioned that, the battery was being a pain in the butt.\n",
      "Samsung Galaxy Tab 4 is shipped with 3.8 Volt, 4000 mAh, 1 Lithium Metal batteries which can run up to 10 Hours. battery life is excellent. However, some users have also mentioned that, battery life is terrible.\n",
      "Samsung Galaxy Tab 4 is shipped with 3.8 Volt, 4000 mAh, 1 Lithium Metal batteries which can run up to 10 Hours. battery life is excellent. However, some users have also mentioned that, Battery life is n't that great.\n",
      "Samsung Galaxy Tab 4 is shipped with 3.8 Volt, 4000 mAh, 1 Lithium Metal batteries which can run up to 10 Hours. battery life is excellent. However, some users have also mentioned that, Tablet Battery died.\n",
      "Samsung Galaxy Tab 4 is shipped with 3.8 Volt, 4000 mAh, 1 Lithium Metal batteries which can run up to 10 Hours. that is up-gradable via an SD card LONG battery life. However, some users have also mentioned that, The battery port was scratched up.\n",
      "Samsung Galaxy Tab 4 is shipped with 3.8 Volt, 4000 mAh, 1 Lithium Metal batteries which can run up to 10 Hours. that is up-gradable via an SD card LONG battery life. However, some users have also mentioned that, Too little internal storage , poor battery longevity/recharge time.\n",
      "Samsung Galaxy Tab 4 is shipped with 3.8 Volt, 4000 mAh, 1 Lithium Metal batteries which can run up to 10 Hours. that is up-gradable via an SD card LONG battery life. However, some users have also mentioned that, Battery life is wimpy.\n",
      "Samsung Galaxy Tab 4 is shipped with 3.8 Volt, 4000 mAh, 1 Lithium Metal batteries which can run up to 10 Hours. that is up-gradable via an SD card LONG battery life. However, some users have also mentioned that, Battery is not replaceable however.\n",
      "Samsung Galaxy Tab 4 is shipped with 3.8 Volt, 4000 mAh, 1 Lithium Metal batteries which can run up to 10 Hours. that is up-gradable via an SD card LONG battery life. However, some users have also mentioned that, Problems with charging , battery.\n",
      "Samsung Galaxy Tab 4 is shipped with 3.8 Volt, 4000 mAh, 1 Lithium Metal batteries which can run up to 10 Hours. that is up-gradable via an SD card LONG battery life. However, some users have also mentioned that, The perfect handheld size but the worst battery life out of any tablet.\n",
      "Samsung Galaxy Tab 4 is shipped with 3.8 Volt, 4000 mAh, 1 Lithium Metal batteries which can run up to 10 Hours. that is up-gradable via an SD card LONG battery life. However, some users have also mentioned that, Battery stopped holding a charge one month later.\n",
      "Samsung Galaxy Tab 4 is shipped with 3.8 Volt, 4000 mAh, 1 Lithium Metal batteries which can run up to 10 Hours. that is up-gradable via an SD card LONG battery life. However, some users have also mentioned that, the battery dies daily.\n",
      "Samsung Galaxy Tab 4 is shipped with 3.8 Volt, 4000 mAh, 1 Lithium Metal batteries which can run up to 10 Hours. that is up-gradable via an SD card LONG battery life. However, some users have also mentioned that, the battery charge doesn `` t seem to last.\n",
      "Samsung Galaxy Tab 4 is shipped with 3.8 Volt, 4000 mAh, 1 Lithium Metal batteries which can run up to 10 Hours. that is up-gradable via an SD card LONG battery life. However, some users have also mentioned that, The thing burns thru 20 to 25 % of battery life per hour.\n",
      "Samsung Galaxy Tab 4 is shipped with 3.8 Volt, 4000 mAh, 1 Lithium Metal batteries which can run up to 10 Hours. that is up-gradable via an SD card LONG battery life. However, some users have also mentioned that, the battery ran down to nothing.\n",
      "Samsung Galaxy Tab 4 is shipped with 3.8 Volt, 4000 mAh, 1 Lithium Metal batteries which can run up to 10 Hours. that is up-gradable via an SD card LONG battery life. However, some users have also mentioned that, The directions for battery charging and location of various buttons to push were barely legible due to the tiny font and dark paper.\n",
      "Samsung Galaxy Tab 4 is shipped with 3.8 Volt, 4000 mAh, 1 Lithium Metal batteries which can run up to 10 Hours. that is up-gradable via an SD card LONG battery life. However, some users have also mentioned that, the battery life only lasts for about 2-3 hours.\n",
      "Samsung Galaxy Tab 4 is shipped with 3.8 Volt, 4000 mAh, 1 Lithium Metal batteries which can run up to 10 Hours. that is up-gradable via an SD card LONG battery life. However, some users have also mentioned that, drained the battery dry more than once.\n",
      "Samsung Galaxy Tab 4 is shipped with 3.8 Volt, 4000 mAh, 1 Lithium Metal batteries which can run up to 10 Hours. that is up-gradable via an SD card LONG battery life. However, some users have also mentioned that, the product arrived with the damaged battery.\n",
      "Samsung Galaxy Tab 4 is shipped with 3.8 Volt, 4000 mAh, 1 Lithium Metal batteries which can run up to 10 Hours. that is up-gradable via an SD card LONG battery life. However, some users have also mentioned that, removing the battery causes a lot of damage.\n",
      "Samsung Galaxy Tab 4 is shipped with 3.8 Volt, 4000 mAh, 1 Lithium Metal batteries which can run up to 10 Hours. that is up-gradable via an SD card LONG battery life. However, some users have also mentioned that, Impossible to take the battery off with out damaging the tablet.\n",
      "Samsung Galaxy Tab 4 is shipped with 3.8 Volt, 4000 mAh, 1 Lithium Metal batteries which can run up to 10 Hours. that is up-gradable via an SD card LONG battery life. However, some users have also mentioned that, the battery was being a pain in the butt.\n",
      "Samsung Galaxy Tab 4 is shipped with 3.8 Volt, 4000 mAh, 1 Lithium Metal batteries which can run up to 10 Hours. that is up-gradable via an SD card LONG battery life. However, some users have also mentioned that, battery life is terrible.\n",
      "Samsung Galaxy Tab 4 is shipped with 3.8 Volt, 4000 mAh, 1 Lithium Metal batteries which can run up to 10 Hours. that is up-gradable via an SD card LONG battery life. However, some users have also mentioned that, Battery life is n't that great.\n",
      "Samsung Galaxy Tab 4 is shipped with 3.8 Volt, 4000 mAh, 1 Lithium Metal batteries which can run up to 10 Hours. that is up-gradable via an SD card LONG battery life. However, some users have also mentioned that, Tablet Battery died.\n",
      "Samsung Galaxy Tab 4 is shipped with 3.8 Volt, 4000 mAh, 1 Lithium Metal batteries which can run up to 10 Hours. The battery is superior-lasts a long long time. However, some users have also mentioned that, The battery port was scratched up.\n",
      "Samsung Galaxy Tab 4 is shipped with 3.8 Volt, 4000 mAh, 1 Lithium Metal batteries which can run up to 10 Hours. The battery is superior-lasts a long long time. However, some users have also mentioned that, Too little internal storage , poor battery longevity/recharge time.\n",
      "Samsung Galaxy Tab 4 is shipped with 3.8 Volt, 4000 mAh, 1 Lithium Metal batteries which can run up to 10 Hours. The battery is superior-lasts a long long time. However, some users have also mentioned that, Battery life is wimpy.\n",
      "Samsung Galaxy Tab 4 is shipped with 3.8 Volt, 4000 mAh, 1 Lithium Metal batteries which can run up to 10 Hours. The battery is superior-lasts a long long time. However, some users have also mentioned that, Battery is not replaceable however.\n",
      "Samsung Galaxy Tab 4 is shipped with 3.8 Volt, 4000 mAh, 1 Lithium Metal batteries which can run up to 10 Hours. The battery is superior-lasts a long long time. However, some users have also mentioned that, Problems with charging , battery.\n",
      "Samsung Galaxy Tab 4 is shipped with 3.8 Volt, 4000 mAh, 1 Lithium Metal batteries which can run up to 10 Hours. The battery is superior-lasts a long long time. However, some users have also mentioned that, The perfect handheld size but the worst battery life out of any tablet.\n",
      "Samsung Galaxy Tab 4 is shipped with 3.8 Volt, 4000 mAh, 1 Lithium Metal batteries which can run up to 10 Hours. The battery is superior-lasts a long long time. However, some users have also mentioned that, Battery stopped holding a charge one month later.\n",
      "Samsung Galaxy Tab 4 is shipped with 3.8 Volt, 4000 mAh, 1 Lithium Metal batteries which can run up to 10 Hours. The battery is superior-lasts a long long time. However, some users have also mentioned that, the battery dies daily.\n",
      "Samsung Galaxy Tab 4 is shipped with 3.8 Volt, 4000 mAh, 1 Lithium Metal batteries which can run up to 10 Hours. The battery is superior-lasts a long long time. However, some users have also mentioned that, the battery charge doesn `` t seem to last.\n",
      "Samsung Galaxy Tab 4 is shipped with 3.8 Volt, 4000 mAh, 1 Lithium Metal batteries which can run up to 10 Hours. The battery is superior-lasts a long long time. However, some users have also mentioned that, The thing burns thru 20 to 25 % of battery life per hour.\n",
      "Samsung Galaxy Tab 4 is shipped with 3.8 Volt, 4000 mAh, 1 Lithium Metal batteries which can run up to 10 Hours. The battery is superior-lasts a long long time. However, some users have also mentioned that, the battery ran down to nothing.\n",
      "Samsung Galaxy Tab 4 is shipped with 3.8 Volt, 4000 mAh, 1 Lithium Metal batteries which can run up to 10 Hours. The battery is superior-lasts a long long time. However, some users have also mentioned that, The directions for battery charging and location of various buttons to push were barely legible due to the tiny font and dark paper.\n",
      "Samsung Galaxy Tab 4 is shipped with 3.8 Volt, 4000 mAh, 1 Lithium Metal batteries which can run up to 10 Hours. The battery is superior-lasts a long long time. However, some users have also mentioned that, the battery life only lasts for about 2-3 hours.\n",
      "Samsung Galaxy Tab 4 is shipped with 3.8 Volt, 4000 mAh, 1 Lithium Metal batteries which can run up to 10 Hours. The battery is superior-lasts a long long time. However, some users have also mentioned that, drained the battery dry more than once.\n",
      "Samsung Galaxy Tab 4 is shipped with 3.8 Volt, 4000 mAh, 1 Lithium Metal batteries which can run up to 10 Hours. The battery is superior-lasts a long long time. However, some users have also mentioned that, the product arrived with the damaged battery.\n",
      "Samsung Galaxy Tab 4 is shipped with 3.8 Volt, 4000 mAh, 1 Lithium Metal batteries which can run up to 10 Hours. The battery is superior-lasts a long long time. However, some users have also mentioned that, removing the battery causes a lot of damage.\n",
      "Samsung Galaxy Tab 4 is shipped with 3.8 Volt, 4000 mAh, 1 Lithium Metal batteries which can run up to 10 Hours. The battery is superior-lasts a long long time. However, some users have also mentioned that, Impossible to take the battery off with out damaging the tablet.\n",
      "Samsung Galaxy Tab 4 is shipped with 3.8 Volt, 4000 mAh, 1 Lithium Metal batteries which can run up to 10 Hours. The battery is superior-lasts a long long time. However, some users have also mentioned that, the battery was being a pain in the butt.\n",
      "Samsung Galaxy Tab 4 is shipped with 3.8 Volt, 4000 mAh, 1 Lithium Metal batteries which can run up to 10 Hours. The battery is superior-lasts a long long time. However, some users have also mentioned that, battery life is terrible.\n",
      "Samsung Galaxy Tab 4 is shipped with 3.8 Volt, 4000 mAh, 1 Lithium Metal batteries which can run up to 10 Hours. The battery is superior-lasts a long long time. However, some users have also mentioned that, Battery life is n't that great.\n",
      "Samsung Galaxy Tab 4 is shipped with 3.8 Volt, 4000 mAh, 1 Lithium Metal batteries which can run up to 10 Hours. The battery is superior-lasts a long long time. However, some users have also mentioned that, Tablet Battery died.\n",
      "Samsung Galaxy Tab 4 is shipped with 3.8 Volt, 4000 mAh, 1 Lithium Metal batteries which can run up to 10 Hours. The battery lasts much longer , too. However, some users have also mentioned that, The battery port was scratched up.\n",
      "Samsung Galaxy Tab 4 is shipped with 3.8 Volt, 4000 mAh, 1 Lithium Metal batteries which can run up to 10 Hours. The battery lasts much longer , too. However, some users have also mentioned that, Too little internal storage , poor battery longevity/recharge time.\n",
      "Samsung Galaxy Tab 4 is shipped with 3.8 Volt, 4000 mAh, 1 Lithium Metal batteries which can run up to 10 Hours. The battery lasts much longer , too. However, some users have also mentioned that, Battery life is wimpy.\n",
      "Samsung Galaxy Tab 4 is shipped with 3.8 Volt, 4000 mAh, 1 Lithium Metal batteries which can run up to 10 Hours. The battery lasts much longer , too. However, some users have also mentioned that, Battery is not replaceable however.\n",
      "Samsung Galaxy Tab 4 is shipped with 3.8 Volt, 4000 mAh, 1 Lithium Metal batteries which can run up to 10 Hours. The battery lasts much longer , too. However, some users have also mentioned that, Problems with charging , battery.\n",
      "Samsung Galaxy Tab 4 is shipped with 3.8 Volt, 4000 mAh, 1 Lithium Metal batteries which can run up to 10 Hours. The battery lasts much longer , too. However, some users have also mentioned that, The perfect handheld size but the worst battery life out of any tablet.\n",
      "Samsung Galaxy Tab 4 is shipped with 3.8 Volt, 4000 mAh, 1 Lithium Metal batteries which can run up to 10 Hours. The battery lasts much longer , too. However, some users have also mentioned that, Battery stopped holding a charge one month later.\n",
      "Samsung Galaxy Tab 4 is shipped with 3.8 Volt, 4000 mAh, 1 Lithium Metal batteries which can run up to 10 Hours. The battery lasts much longer , too. However, some users have also mentioned that, the battery dies daily.\n",
      "Samsung Galaxy Tab 4 is shipped with 3.8 Volt, 4000 mAh, 1 Lithium Metal batteries which can run up to 10 Hours. The battery lasts much longer , too. However, some users have also mentioned that, the battery charge doesn `` t seem to last.\n",
      "Samsung Galaxy Tab 4 is shipped with 3.8 Volt, 4000 mAh, 1 Lithium Metal batteries which can run up to 10 Hours. The battery lasts much longer , too. However, some users have also mentioned that, The thing burns thru 20 to 25 % of battery life per hour.\n",
      "Samsung Galaxy Tab 4 is shipped with 3.8 Volt, 4000 mAh, 1 Lithium Metal batteries which can run up to 10 Hours. The battery lasts much longer , too. However, some users have also mentioned that, the battery ran down to nothing.\n",
      "Samsung Galaxy Tab 4 is shipped with 3.8 Volt, 4000 mAh, 1 Lithium Metal batteries which can run up to 10 Hours. The battery lasts much longer , too. However, some users have also mentioned that, The directions for battery charging and location of various buttons to push were barely legible due to the tiny font and dark paper.\n",
      "Samsung Galaxy Tab 4 is shipped with 3.8 Volt, 4000 mAh, 1 Lithium Metal batteries which can run up to 10 Hours. The battery lasts much longer , too. However, some users have also mentioned that, the battery life only lasts for about 2-3 hours.\n",
      "Samsung Galaxy Tab 4 is shipped with 3.8 Volt, 4000 mAh, 1 Lithium Metal batteries which can run up to 10 Hours. The battery lasts much longer , too. However, some users have also mentioned that, drained the battery dry more than once.\n",
      "Samsung Galaxy Tab 4 is shipped with 3.8 Volt, 4000 mAh, 1 Lithium Metal batteries which can run up to 10 Hours. The battery lasts much longer , too. However, some users have also mentioned that, the product arrived with the damaged battery.\n",
      "Samsung Galaxy Tab 4 is shipped with 3.8 Volt, 4000 mAh, 1 Lithium Metal batteries which can run up to 10 Hours. The battery lasts much longer , too. However, some users have also mentioned that, removing the battery causes a lot of damage.\n",
      "Samsung Galaxy Tab 4 is shipped with 3.8 Volt, 4000 mAh, 1 Lithium Metal batteries which can run up to 10 Hours. The battery lasts much longer , too. However, some users have also mentioned that, Impossible to take the battery off with out damaging the tablet.\n",
      "Samsung Galaxy Tab 4 is shipped with 3.8 Volt, 4000 mAh, 1 Lithium Metal batteries which can run up to 10 Hours. The battery lasts much longer , too. However, some users have also mentioned that, the battery was being a pain in the butt.\n",
      "Samsung Galaxy Tab 4 is shipped with 3.8 Volt, 4000 mAh, 1 Lithium Metal batteries which can run up to 10 Hours. The battery lasts much longer , too. However, some users have also mentioned that, battery life is terrible.\n",
      "Samsung Galaxy Tab 4 is shipped with 3.8 Volt, 4000 mAh, 1 Lithium Metal batteries which can run up to 10 Hours. The battery lasts much longer , too. However, some users have also mentioned that, Battery life is n't that great.\n",
      "Samsung Galaxy Tab 4 is shipped with 3.8 Volt, 4000 mAh, 1 Lithium Metal batteries which can run up to 10 Hours. The battery lasts much longer , too. However, some users have also mentioned that, Tablet Battery died.\n",
      "Samsung Galaxy Tab 4 is shipped with 3.8 Volt, 4000 mAh, 1 Lithium Metal batteries which can run up to 10 Hours. Battery life is great. However, some users have also mentioned that, The battery port was scratched up.\n",
      "Samsung Galaxy Tab 4 is shipped with 3.8 Volt, 4000 mAh, 1 Lithium Metal batteries which can run up to 10 Hours. Battery life is great. However, some users have also mentioned that, Too little internal storage , poor battery longevity/recharge time.\n",
      "Samsung Galaxy Tab 4 is shipped with 3.8 Volt, 4000 mAh, 1 Lithium Metal batteries which can run up to 10 Hours. Battery life is great. However, some users have also mentioned that, Battery life is wimpy.\n",
      "Samsung Galaxy Tab 4 is shipped with 3.8 Volt, 4000 mAh, 1 Lithium Metal batteries which can run up to 10 Hours. Battery life is great. However, some users have also mentioned that, Battery is not replaceable however.\n",
      "Samsung Galaxy Tab 4 is shipped with 3.8 Volt, 4000 mAh, 1 Lithium Metal batteries which can run up to 10 Hours. Battery life is great. However, some users have also mentioned that, Problems with charging , battery.\n",
      "Samsung Galaxy Tab 4 is shipped with 3.8 Volt, 4000 mAh, 1 Lithium Metal batteries which can run up to 10 Hours. Battery life is great. However, some users have also mentioned that, The perfect handheld size but the worst battery life out of any tablet.\n",
      "Samsung Galaxy Tab 4 is shipped with 3.8 Volt, 4000 mAh, 1 Lithium Metal batteries which can run up to 10 Hours. Battery life is great. However, some users have also mentioned that, Battery stopped holding a charge one month later.\n",
      "Samsung Galaxy Tab 4 is shipped with 3.8 Volt, 4000 mAh, 1 Lithium Metal batteries which can run up to 10 Hours. Battery life is great. However, some users have also mentioned that, the battery dies daily.\n",
      "Samsung Galaxy Tab 4 is shipped with 3.8 Volt, 4000 mAh, 1 Lithium Metal batteries which can run up to 10 Hours. Battery life is great. However, some users have also mentioned that, the battery charge doesn `` t seem to last.\n",
      "Samsung Galaxy Tab 4 is shipped with 3.8 Volt, 4000 mAh, 1 Lithium Metal batteries which can run up to 10 Hours. Battery life is great. However, some users have also mentioned that, The thing burns thru 20 to 25 % of battery life per hour.\n",
      "Samsung Galaxy Tab 4 is shipped with 3.8 Volt, 4000 mAh, 1 Lithium Metal batteries which can run up to 10 Hours. Battery life is great. However, some users have also mentioned that, the battery ran down to nothing.\n",
      "Samsung Galaxy Tab 4 is shipped with 3.8 Volt, 4000 mAh, 1 Lithium Metal batteries which can run up to 10 Hours. Battery life is great. However, some users have also mentioned that, The directions for battery charging and location of various buttons to push were barely legible due to the tiny font and dark paper.\n",
      "Samsung Galaxy Tab 4 is shipped with 3.8 Volt, 4000 mAh, 1 Lithium Metal batteries which can run up to 10 Hours. Battery life is great. However, some users have also mentioned that, the battery life only lasts for about 2-3 hours.\n",
      "Samsung Galaxy Tab 4 is shipped with 3.8 Volt, 4000 mAh, 1 Lithium Metal batteries which can run up to 10 Hours. Battery life is great. However, some users have also mentioned that, drained the battery dry more than once.\n",
      "Samsung Galaxy Tab 4 is shipped with 3.8 Volt, 4000 mAh, 1 Lithium Metal batteries which can run up to 10 Hours. Battery life is great. However, some users have also mentioned that, the product arrived with the damaged battery.\n",
      "Samsung Galaxy Tab 4 is shipped with 3.8 Volt, 4000 mAh, 1 Lithium Metal batteries which can run up to 10 Hours. Battery life is great. However, some users have also mentioned that, removing the battery causes a lot of damage.\n",
      "Samsung Galaxy Tab 4 is shipped with 3.8 Volt, 4000 mAh, 1 Lithium Metal batteries which can run up to 10 Hours. Battery life is great. However, some users have also mentioned that, Impossible to take the battery off with out damaging the tablet.\n",
      "Samsung Galaxy Tab 4 is shipped with 3.8 Volt, 4000 mAh, 1 Lithium Metal batteries which can run up to 10 Hours. Battery life is great. However, some users have also mentioned that, the battery was being a pain in the butt.\n",
      "Samsung Galaxy Tab 4 is shipped with 3.8 Volt, 4000 mAh, 1 Lithium Metal batteries which can run up to 10 Hours. Battery life is great. However, some users have also mentioned that, battery life is terrible.\n",
      "Samsung Galaxy Tab 4 is shipped with 3.8 Volt, 4000 mAh, 1 Lithium Metal batteries which can run up to 10 Hours. Battery life is great. However, some users have also mentioned that, Battery life is n't that great.\n",
      "Samsung Galaxy Tab 4 is shipped with 3.8 Volt, 4000 mAh, 1 Lithium Metal batteries which can run up to 10 Hours. Battery life is great. However, some users have also mentioned that, Tablet Battery died.\n"
     ]
    }
   ],
   "source": [
    "for op in output_list_2:\n",
    "    print(op)"
   ]
  },
  {
   "cell_type": "code",
   "execution_count": 186,
   "id": "3167643a",
   "metadata": {},
   "outputs": [],
   "source": [
    "output_list = []\n",
    "for op_1 in output_list_1:\n",
    "    for op_2 in output_list_2:\n",
    "        output_list.append(op_1+\"\\n\"+op_2)"
   ]
  },
  {
   "cell_type": "code",
   "execution_count": 187,
   "id": "d895be4e",
   "metadata": {},
   "outputs": [],
   "source": [
    "with open(output_file, \"w\") as out_f:\n",
    "    for op in output_list:\n",
    "        out_f.write(op+\"\\n\\n\")"
   ]
  },
  {
   "cell_type": "code",
   "execution_count": null,
   "id": "b03ccad4",
   "metadata": {},
   "outputs": [],
   "source": []
  },
  {
   "cell_type": "markdown",
   "id": "c5e8edbf",
   "metadata": {},
   "source": [
    "## Generate dataset for Semantically Driven Sentence Fusion"
   ]
  },
  {
   "cell_type": "code",
   "execution_count": 1,
   "id": "2b3d8e24",
   "metadata": {},
   "outputs": [],
   "source": [
    "import pandas as pd\n",
    "import json"
   ]
  },
  {
   "cell_type": "code",
   "execution_count": 6,
   "id": "0a3f2f48",
   "metadata": {},
   "outputs": [],
   "source": [
    "input_file = \"data/sentence_fusion/b00j8dl78o/battery/positive_general.txt\"\n",
    "output_file = \"data/sentence_fusion/b00j8dl78o/battery/negative.jsonl\""
   ]
  },
  {
   "cell_type": "code",
   "execution_count": 7,
   "id": "3d6cd5b8",
   "metadata": {},
   "outputs": [],
   "source": [
    "df = pd.read_csv(input_file, delimiter='\\t')"
   ]
  },
  {
   "cell_type": "code",
   "execution_count": 8,
   "id": "cbe7bed2",
   "metadata": {},
   "outputs": [
    {
     "data": {
      "text/plain": [
       "Index(['input', 'no_modification', 'tense_anaphora', 'anaphora', 'tense'], dtype='object')"
      ]
     },
     "execution_count": 8,
     "metadata": {},
     "output_type": "execute_result"
    }
   ],
   "source": [
    "df.columns"
   ]
  },
  {
   "cell_type": "code",
   "execution_count": 9,
   "id": "f20f376c",
   "metadata": {},
   "outputs": [],
   "source": [
    "with open(output_file, \"w\") as out_f:\n",
    "    for index, row in df.iterrows():\n",
    "        tmp = {}\n",
    "        tmp[\"input\"] = row[\"input\"]\n",
    "        tmp[\"no_modification\"] = row[\"no_modification\"] if not pd.isna(row[\"no_modification\"]) else None\n",
    "        tmp[\"tense\"] = row[\"tense\"] if not pd.isna(row[\"tense\"]) else None\n",
    "        tmp[\"anaphora\"] = row[\"anaphora\"] if not pd.isna(row[\"anaphora\"]) else None\n",
    "        tmp[\"tense_anaphora\"] = row[\"tense_anaphora\"] if not pd.isna(row[\"tense_anaphora\"]) else None\n",
    "        \n",
    "        out_f.write(json.dumps(tmp)+\"\\n\")"
   ]
  },
  {
   "cell_type": "code",
   "execution_count": null,
   "id": "33acba9f",
   "metadata": {},
   "outputs": [],
   "source": []
  },
  {
   "cell_type": "markdown",
   "id": "dd857681",
   "metadata": {},
   "source": [
    "# Generate dataset for Semantically Driven Sentence Fusion: generate responses"
   ]
  },
  {
   "cell_type": "code",
   "execution_count": 84,
   "id": "336f9f19",
   "metadata": {},
   "outputs": [],
   "source": [
    "negative_opinion_file = \"data/sentence_fusion/b0013frnkg/battery/negative.jsonl\"\n",
    "positive_opinion_file = \"data/sentence_fusion/b0013frnkg/battery/positive.jsonl\"\n",
    "output_file = \"data/sentence_fusion/b0013frnkg/battery/output.jsonl\""
   ]
  },
  {
   "cell_type": "code",
   "execution_count": 85,
   "id": "1d0a1dd0",
   "metadata": {},
   "outputs": [],
   "source": [
    "no_modification = \"no_modification\"\n",
    "tense = \"tense\"\n",
    "anaphora = \"anaphora\"\n",
    "tense_anaphora = \"tense_anaphora\"\n",
    "\n",
    "\n",
    "dm_1 = \"discourse_marker_1\"\n",
    "dm_2 = \"discourse_marker_2\"\n",
    "dp_1 = \"discourse_phenomenon_1\"\n",
    "dp_2 = \"discourse_phenomenon_2\"\n",
    "\n",
    "dp_pair = {}\n",
    "dp_pair[no_modification] = \"PAIR_CONN\"\n",
    "dp_pair[tense] = \"PAIR_CONN_TENSE\"\n",
    "dp_pair[anaphora] = \"PAIR_CONN_ANAPHORA\"\n",
    "dp_pair[tense_anaphora] = \"PAIR_CONN_TENSE_ANAPHORA\"\n",
    "\n",
    "dp_single = {}\n",
    "dp_single[no_modification] = \"SINGLE_CONN\"\n",
    "dp_single[anaphora] = \"SINGLE_CONN_ANAPHORA\"\n",
    "dp_single[tense] = \"SINGLE_CONN_TENSE\"\n",
    "dp_single[tense_anaphora] = \"SINGLE_CONN_TENSE_ANAPHORA\"\n",
    "\n",
    "dp_single_start = {}\n",
    "dp_single_start[no_modification] = \"SINGLE_CONN_START\"\n",
    "dp_single_start[tense] = \"SINGLE_CONN_START_TENSE\"\n",
    "dp_single_start[anaphora] = \"SINGLE_CONN_START_ANAPHORA\"\n",
    "dp_single_start[tense_anaphora] = \"SINGLE_CONN_START_TENSE_ANAPHORA\""
   ]
  },
  {
   "cell_type": "code",
   "execution_count": 86,
   "id": "5cd71af8",
   "metadata": {},
   "outputs": [],
   "source": [
    "product_description = \"Apple iPad 2 is shipped with 3.8 Volt, 4000 mAh, 1 Lithium Metal batteries which can run up to 10 Hours\""
   ]
  },
  {
   "cell_type": "code",
   "execution_count": 87,
   "id": "280066e5",
   "metadata": {},
   "outputs": [],
   "source": [
    "index_to_dm = {}\n",
    "index_to_dm[0] = \"However ,\"\n",
    "index_to_dm[1] = \"Although ,\"\n",
    "index_to_dm[2] = \"But\"\n",
    "index_to_dm[3] = \"Yet ,\"\n",
    "index_to_dm[4] = \", although\"\n",
    "index_to_dm[5] = \"however\"\n",
    "index_to_dm[6] = \"although\"\n",
    "index_to_dm[7] = \", but\"\n",
    "index_to_dm[8] = \"but\"\n",
    "index_to_dm[9] = \", yet\"\n",
    "index_to_dm[10] = \"Although\"\n",
    "index_to_dm[11] = \"NONE\"\n",
    "\n",
    "dm_to_index = {}\n",
    "dm_to_index[\"However ,\"] = 0\n",
    "dm_to_index[\"Although ,\"] = 1\n",
    "dm_to_index[\"But\"] = 2\n",
    "dm_to_index[\"Yet ,\"] = 3\n",
    "dm_to_index[\", although\"] = 4\n",
    "dm_to_index[\"however\"] = 5\n",
    "dm_to_index[\"although\"] = 6\n",
    "dm_to_index[\", but\"] = 7\n",
    "dm_to_index[\"but\"] = 8\n",
    "dm_to_index[\", yet\"] = 9\n",
    "dm_to_index[\"Although\"] = 10\n",
    "dm_to_index[\"NONE\"] = 11\n",
    "\n",
    "pair_pattern_dict = {}\n",
    "single_pattern_dict = {}\n",
    "single_start_pattern_dict = {}\n",
    "\n",
    "pair_pattern_dict[0] = \"{} . {} . However , some users have also mentioned that {} .\"\n",
    "pair_pattern_dict[1] = \"{} . {} . Although , some users have also mentioned that {} .\"\n",
    "pair_pattern_dict[2] = \"{} . {} . But some users have also mentioned that {} .\"\n",
    "pair_pattern_dict[3] = \"{} . {} . Yet , some users have also mentioned that {} .\"\n",
    "\n",
    "single_pattern_dict[4] = \"{} . {} , although some users have also mentioned that {} .\"\n",
    "single_pattern_dict[5] = \"{} . {} however some users have also mentioned that {} .\"\n",
    "single_pattern_dict[6] = \"{} . {} although some users have also mentioned that {} .\"\n",
    "single_pattern_dict[7] = \"{} . {} , but some users have also mentioned that {} .\"\n",
    "single_pattern_dict[8] = \"{} . {} but some users have also mentioned that {} .\"\n",
    "single_pattern_dict[9] = \"{} . {} , yet some users have also mentioned that {} .\"\n",
    "\n",
    "single_start_pattern_dict[10] = \"{} . Although {} , some users have also mentioned that {} .\""
   ]
  },
  {
   "cell_type": "code",
   "execution_count": 88,
   "id": "85e5cb2e",
   "metadata": {},
   "outputs": [],
   "source": [
    "counter = 0\n",
    "with open(output_file, \"w\") as out_f:\n",
    "    with open(positive_opinion_file, \"r\") as pos_in_f:\n",
    "            \n",
    "        for pos_line in pos_in_f:\n",
    "            pos_op_dict = json.loads(pos_line)\n",
    "                \n",
    "            with open(negative_opinion_file, \"r\") as neg_in_f:\n",
    "                for neg_line in neg_in_f:\n",
    "                    neg_op_dict = json.loads(neg_line)\n",
    "                    \n",
    "                    dataset_dict = {}\n",
    "                    \n",
    "                    tmp_input = {}\n",
    "                    tmp_input[\"description\"] = product_description\n",
    "                    tmp_input[\"positive\"] = pos_op_dict[\"input\"]\n",
    "                    tmp_input[\"negative\"] = neg_op_dict[\"input\"]\n",
    "                    \n",
    "                    dataset_dict[\"input\"] = tmp_input\n",
    "\n",
    "                    tmp_output_list = []\n",
    "                    for pos_key in pos_op_dict.keys():\n",
    "                        if pos_op_dict[pos_key] != None and pos_key != \"input\":\n",
    "                            for neg_key in neg_op_dict.keys():\n",
    "                                if neg_op_dict[neg_key] != None and neg_key != \"input\":\n",
    "                                    \n",
    "                                    for dm_key in pair_pattern_dict.keys():\n",
    "                                        tmp_output = {}\n",
    "                                        tmp_output[\"output\"] = pair_pattern_dict[dm_key].format(product_description, \n",
    "                                                                                                pos_op_dict[pos_key],\n",
    "                                                                                               neg_op_dict[neg_key])\n",
    "                                        tmp_output[dm_1] = \"NONE\"\n",
    "                                        tmp_output[dp_1] = dp_pair[pos_key]\n",
    "                                        tmp_output[dm_2] = index_to_dm[dm_key]\n",
    "                                        tmp_output[dp_2] = dp_pair[neg_key]\n",
    "                                        tmp_output_list.append(tmp_output)\n",
    "                                        counter += 1\n",
    "                                        \n",
    "                                    for dm_key in single_pattern_dict.keys():\n",
    "                                        tmp_output = {}\n",
    "                                        tmp_output[\"output\"] = single_pattern_dict[dm_key].format(product_description, \n",
    "                                                                                                  pos_op_dict[pos_key],\n",
    "                                                                                               neg_op_dict[neg_key])\n",
    "                                        tmp_output[dm_1] = \"NONE\"\n",
    "                                        tmp_output[dp_1] = dp_pair[pos_key]\n",
    "                                        tmp_output[dm_2] = index_to_dm[dm_key]\n",
    "                                        tmp_output[dp_2] = dp_single[neg_key]\n",
    "                                        tmp_output_list.append(tmp_output)\n",
    "                                        counter += 1\n",
    "\n",
    "                                    for dm_key in single_start_pattern_dict.keys():\n",
    "                                        tmp_output = {}\n",
    "                                        tmp_output[\"output\"] = single_start_pattern_dict[dm_key].format(product_description,\n",
    "                                                                            pos_op_dict[pos_key], neg_op_dict[neg_key])\n",
    "                                        tmp_output[dm_1] = index_to_dm[dm_key]\n",
    "                                        tmp_output[dp_1] = dp_single_start[pos_key]\n",
    "                                        tmp_output[dm_2] = \"NONE\"\n",
    "                                        tmp_output[dp_2] = dp_single_start[neg_key]\n",
    "                                        tmp_output_list.append(tmp_output)\n",
    "                                        counter += 1\n",
    "\n",
    "                    if len(tmp_output_list) > 0:                    \n",
    "                        dataset_dict[\"outputs\"] = tmp_output_list\n",
    "                        out_f.write(json.dumps(dataset_dict)+\"\\n\")"
   ]
  },
  {
   "cell_type": "code",
   "execution_count": 89,
   "id": "56777af8",
   "metadata": {},
   "outputs": [
    {
     "data": {
      "text/plain": [
       "5566"
      ]
     },
     "execution_count": 89,
     "metadata": {},
     "output_type": "execute_result"
    }
   ],
   "source": [
    "counter"
   ]
  },
  {
   "cell_type": "code",
   "execution_count": 90,
   "id": "bacac335",
   "metadata": {},
   "outputs": [],
   "source": [
    "file_1 = \"data/sentence_fusion/b0013frnkg/general/output.jsonl\"\n",
    "file_2 = \"data/sentence_fusion/b0013frnkg/battery/output.jsonl\"\n",
    "file_3 = \"data/sentence_fusion/b00j8dl78o/general/output.jsonl\"\n",
    "file_4 = \"data/sentence_fusion/b00j8dl78o/battery/output.jsonl\"\n",
    "\n",
    "collate_output_file = \"data/sentence_fusion/collate_output.jsonl\""
   ]
  },
  {
   "cell_type": "code",
   "execution_count": 92,
   "id": "51881319",
   "metadata": {},
   "outputs": [],
   "source": [
    "with open(collate_output_file, \"w\") as out_f:\n",
    "    with open(file_1, \"r\") as in_f1:\n",
    "        for line in in_f1:\n",
    "            out_f.write(line)\n",
    "            \n",
    "    with open(file_2, \"r\") as in_f2:\n",
    "        for line in in_f2:\n",
    "            out_f.write(line)\n",
    "            \n",
    "    with open(file_3, \"r\") as in_f3:\n",
    "        for line in in_f3:\n",
    "            out_f.write(line)\n",
    "            \n",
    "    with open(file_4, \"r\") as in_f4:\n",
    "        for line in in_f4:\n",
    "            out_f.write(line)"
   ]
  },
  {
   "cell_type": "code",
   "execution_count": null,
   "id": "191de1e8",
   "metadata": {},
   "outputs": [],
   "source": []
  },
  {
   "cell_type": "markdown",
   "id": "86cb2d49",
   "metadata": {},
   "source": [
    "# Above code for v3_amazon dataset"
   ]
  },
  {
   "cell_type": "code",
   "execution_count": 97,
   "id": "ce7ab809",
   "metadata": {},
   "outputs": [],
   "source": [
    "import string, os, json"
   ]
  },
  {
   "cell_type": "code",
   "execution_count": 98,
   "id": "4d5c0a19",
   "metadata": {},
   "outputs": [],
   "source": [
    "punt = string.punctuation+\" \"+\"\\n\\t\""
   ]
  },
  {
   "cell_type": "code",
   "execution_count": 105,
   "id": "8c6e01e5",
   "metadata": {},
   "outputs": [],
   "source": [
    "pos_input_dir = \"/home/saurabh/dir_1/shodh/Product-Comparison/data/v3_dataset/9_dataset_pos_neg_removed_invalid/pos\"\n",
    "neg_input_dir = \"/home/saurabh/dir_1/shodh/Product-Comparison/data/v3_dataset/9_dataset_pos_neg_removed_invalid/neg\"\n",
    "title_file = \"/home/saurabh/dir_1/shodh/Product-Comparison/data/v3_dataset/title.json\"\n",
    "output_dir = \"/home/saurabh/dir_1/shodh/Product-Comparison/data/v3_dataset/10_rule_based_dataset\""
   ]
  },
  {
   "cell_type": "code",
   "execution_count": 106,
   "id": "49821d65",
   "metadata": {},
   "outputs": [],
   "source": [
    "with open(title_file, \"r\") as title_f:\n",
    "    for line in title_f:\n",
    "        title_dict = json.loads(line)"
   ]
  },
  {
   "cell_type": "code",
   "execution_count": 107,
   "id": "5d14e285",
   "metadata": {},
   "outputs": [],
   "source": [
    "pattern = \"{} . {} . However , some users have also mentioned that {} .\""
   ]
  },
  {
   "cell_type": "code",
   "execution_count": 109,
   "id": "afa11057",
   "metadata": {},
   "outputs": [],
   "source": [
    "for file in os.listdir(pos_input_dir):\n",
    "    title = title_dict[file.strip()]\n",
    "    \n",
    "    pos_opinion_list = []\n",
    "    with open(os.path.join(pos_input_dir, file), \"r\") as pos_in_f:\n",
    "        for line in pos_in_f:\n",
    "            pos_opinion_list.append(line.strip(punt))\n",
    "            \n",
    "    neg_opinion_list = []\n",
    "    with open(os.path.join(neg_input_dir, file), \"r\") as neg_in_f:\n",
    "        for line in neg_in_f:\n",
    "            neg_opinion_list.append(line.strip(punt))\n",
    "            \n",
    "    with open(os.path.join(output_dir, file.strip()), \"w\") as out_f:\n",
    "        for pos_op in pos_opinion_list:\n",
    "            for neg_op in neg_opinion_list:\n",
    "                tmp_dict = {\"title\": title, \"positive\": pos_op, \"negative\": neg_op, \n",
    "                            \"response\": pattern.format(title, pos_op, neg_op)}\n",
    "                out_f.write(json.dumps(tmp_dict)+\"\\n\")"
   ]
  },
  {
   "cell_type": "code",
   "execution_count": null,
   "id": "8fbfc966",
   "metadata": {},
   "outputs": [],
   "source": []
  },
  {
   "cell_type": "code",
   "execution_count": null,
   "id": "262d7d4a",
   "metadata": {},
   "outputs": [],
   "source": []
  },
  {
   "cell_type": "markdown",
   "id": "d926038a",
   "metadata": {},
   "source": [
    "# Generating rule based output"
   ]
  },
  {
   "cell_type": "code",
   "execution_count": 334,
   "id": "0eed40e5",
   "metadata": {},
   "outputs": [],
   "source": [
    "pattern_list = [\"{} . {} . However , some users have also mentioned that {} .\",\n",
    "                \"{} . {} . Although , some users have also mentioned that {} .\",\n",
    "                \"{} . {} . But some users have also mentioned that {} .\",\n",
    "                \"{} . {} . Yet , some users have also mentioned that {} .\",\n",
    "                \"{} . {} , although some users have also mentioned that {} .\",\n",
    "                \"{} . {} however some users have also mentioned that {} .\",\n",
    "                \"{} . {} although some users have also mentioned that {} .\",\n",
    "                \"{} . {} , but some users have also mentioned that {} .\",\n",
    "                \"{} . {} but some users have also mentioned that {} .\",\n",
    "                \"{} . {} , yet some users have also mentioned that {} .\",\n",
    "                \"{} . Although {} , some users have also mentioned that {} .\"]"
   ]
  },
  {
   "cell_type": "code",
   "execution_count": 335,
   "id": "6dff2002",
   "metadata": {},
   "outputs": [],
   "source": [
    "input_file = \"data/sentence_fusion/uncase/test_uncase_preprocessed.jsonl\"\n",
    "output_file = \"data/sentence_fusion/uncase/rule_based/rule_based_output.jsonl\""
   ]
  },
  {
   "cell_type": "code",
   "execution_count": 336,
   "id": "a4ed72c4",
   "metadata": {},
   "outputs": [],
   "source": [
    "with open(output_file, \"w\") as out_f:\n",
    "    with open(input_file, \"r\") as in_f:\n",
    "        for line in in_f:\n",
    "            obj_dict = json.loads(line)\n",
    "            tmp_list = []\n",
    "            ref_list = []\n",
    "            \n",
    "            for output in obj_dict[\"outputs\"]:\n",
    "                ref_list.append(output[\"output\"].strip())\n",
    "            \n",
    "            for pattern in pattern_list:\n",
    "                \n",
    "                tmp_list.append(pattern.format(obj_dict[\"input\"][\"description\"].strip(), obj_dict[\"input\"][\"positive\"].strip(),\n",
    "                                               obj_dict[\"input\"][\"negative\"].strip()))\n",
    "            \n",
    "            input_ = \"{} . {} . {}\".format(obj_dict[\"input\"][\"description\"].strip(), obj_dict[\"input\"][\"positive\"].strip(), \n",
    "                                           obj_dict[\"input\"][\"negative\"].strip())\n",
    "            \n",
    "            tmp_output = {\"input\": input_, \n",
    "                         \"output\": tmp_list,\n",
    "                         \"index\": obj_dict[\"index\"],\n",
    "                         \"reference\": ref_list}\n",
    "            \n",
    "            out_f.write(json.dumps(tmp_output)+\"\\n\")"
   ]
  },
  {
   "cell_type": "code",
   "execution_count": null,
   "id": "cd161902",
   "metadata": {},
   "outputs": [],
   "source": []
  },
  {
   "cell_type": "markdown",
   "id": "015f7b43",
   "metadata": {},
   "source": [
    "# Split dataset into train, test and val sets"
   ]
  },
  {
   "cell_type": "code",
   "execution_count": 105,
   "id": "1219c0a2",
   "metadata": {},
   "outputs": [],
   "source": [
    "from sklearn.model_selection import train_test_split\n",
    "import numpy as np"
   ]
  },
  {
   "cell_type": "code",
   "execution_count": 131,
   "id": "b47af5a0",
   "metadata": {},
   "outputs": [],
   "source": [
    "input_file = \"data/sentence_fusion/b00j8dl78o/general/output.jsonl\"\n",
    "train_file = \"data/sentence_fusion/b00j8dl78o/general/train.jsonl\"\n",
    "val_file = \"data/sentence_fusion/b00j8dl78o/general/val.jsonl\"\n",
    "test_file = \"data/sentence_fusion/b00j8dl78o/general/test.jsonl\""
   ]
  },
  {
   "cell_type": "code",
   "execution_count": 132,
   "id": "e00197da",
   "metadata": {},
   "outputs": [],
   "source": [
    "index_list = []\n",
    "counter = 0\n",
    "\n",
    "with open(input_file, \"r\") as in_f:\n",
    "    for line in in_f:\n",
    "        index_list.append(counter)\n",
    "        counter += 1"
   ]
  },
  {
   "cell_type": "code",
   "execution_count": 133,
   "id": "cbea1d2c",
   "metadata": {},
   "outputs": [],
   "source": [
    "train_data, test_val_data = train_test_split(np.array(index_list), test_size=0.3, train_size=0.7)"
   ]
  },
  {
   "cell_type": "code",
   "execution_count": 134,
   "id": "64dde9f6",
   "metadata": {},
   "outputs": [],
   "source": [
    "test_data, val_data = train_test_split(test_val_data, test_size=1/3, train_size=2/3)"
   ]
  },
  {
   "cell_type": "code",
   "execution_count": 135,
   "id": "7322568e",
   "metadata": {},
   "outputs": [],
   "source": [
    "train_f = open(train_file, \"w\")\n",
    "val_f = open(val_file, \"w\")\n",
    "test_f = open(test_file, \"w\")"
   ]
  },
  {
   "cell_type": "code",
   "execution_count": 136,
   "id": "79dd0d0d",
   "metadata": {},
   "outputs": [],
   "source": [
    "counter = 0\n",
    "\n",
    "with open(input_file, \"r\") as in_f:\n",
    "    for line in in_f:\n",
    "        if counter in train_data:\n",
    "            train_f.write(line)\n",
    "        elif counter in test_data:\n",
    "            test_f.write(line)\n",
    "        else:\n",
    "            val_f.write(line)\n",
    "            \n",
    "        counter += 1"
   ]
  },
  {
   "cell_type": "code",
   "execution_count": 137,
   "id": "5780e1d4",
   "metadata": {},
   "outputs": [],
   "source": [
    "train_f.close()\n",
    "val_f.close()\n",
    "test_f.close()"
   ]
  },
  {
   "cell_type": "code",
   "execution_count": 138,
   "id": "b2167b31",
   "metadata": {},
   "outputs": [],
   "source": [
    "train_file = \"data/sentence_fusion/train.jsonl\"\n",
    "test_file = \"data/sentence_fusion/test.jsonl\"\n",
    "val_file = \"data/sentence_fusion/val.jsonl\""
   ]
  },
  {
   "cell_type": "code",
   "execution_count": 143,
   "id": "eeb09b2c",
   "metadata": {},
   "outputs": [],
   "source": [
    "train_file_1 = \"data/sentence_fusion/b00j8dl78o/general/test.jsonl\"\n",
    "train_file_2 = \"data/sentence_fusion/b00j8dl78o/battery/test.jsonl\"\n",
    "train_file_3 = \"data/sentence_fusion/b0013frnkg/general/test.jsonl\"\n",
    "train_file_4 = \"data/sentence_fusion/b0013frnkg/battery/test.jsonl\""
   ]
  },
  {
   "cell_type": "code",
   "execution_count": 144,
   "id": "1302ef2c",
   "metadata": {},
   "outputs": [],
   "source": [
    "with open(test_file, \"w\") as train_f:\n",
    "    with open(train_file_1, \"r\") as train_1_f:\n",
    "        for line in train_1_f:\n",
    "            train_f.write(line)\n",
    "            \n",
    "    with open(train_file_2, \"r\") as train_2_f:\n",
    "        for line in train_2_f:\n",
    "            train_f.write(line)\n",
    "            \n",
    "    with open(train_file_3, \"r\") as train_3_f:\n",
    "        for line in train_3_f:\n",
    "            train_f.write(line)\n",
    "            \n",
    "    with open(train_file_4, \"r\") as train_4_f:\n",
    "        for line in train_4_f:\n",
    "            train_f.write(line)"
   ]
  },
  {
   "cell_type": "code",
   "execution_count": null,
   "id": "3dd6b3ae",
   "metadata": {},
   "outputs": [],
   "source": []
  },
  {
   "cell_type": "markdown",
   "id": "aafcf385",
   "metadata": {},
   "source": [
    "# Assign index to each dataset instance"
   ]
  },
  {
   "cell_type": "code",
   "execution_count": 145,
   "id": "4b6a88de",
   "metadata": {},
   "outputs": [],
   "source": [
    "import json"
   ]
  },
  {
   "cell_type": "code",
   "execution_count": 190,
   "id": "4801eefa",
   "metadata": {},
   "outputs": [],
   "source": [
    "train_file = \"data/sentence_fusion/train.jsonl\"\n",
    "test_file = \"data/sentence_fusion/test.jsonl\"\n",
    "val_file = \"data/sentence_fusion/val.jsonl\""
   ]
  },
  {
   "cell_type": "code",
   "execution_count": 191,
   "id": "37714dba",
   "metadata": {},
   "outputs": [],
   "source": [
    "train_uncase_file = \"data/sentence_fusion/uncase/train_uncase.jsonl\"\n",
    "test_uncase_file = \"data/sentence_fusion/uncase/test_uncase.jsonl\"\n",
    "val_uncase_file = \"data/sentence_fusion/uncase/val_uncase.jsonl\""
   ]
  },
  {
   "cell_type": "code",
   "execution_count": 192,
   "id": "5233cfa3",
   "metadata": {},
   "outputs": [],
   "source": [
    "counter = 0\n",
    "\n",
    "with open(train_file, \"r\") as in_f:\n",
    "    with open(train_uncase_file, \"w\") as out_f:\n",
    "        for line in in_f:\n",
    "            dict_obj = json.loads(line)\n",
    "            dict_obj[\"index\"] = counter\n",
    "            dict_obj[\"input\"][\"description\"] = dict_obj[\"input\"][\"description\"].lower()\n",
    "            dict_obj[\"input\"][\"positive\"] = dict_obj[\"input\"][\"positive\"].lower()\n",
    "            dict_obj[\"input\"][\"negative\"] = dict_obj[\"input\"][\"negative\"].lower()\n",
    "\n",
    "            for output in dict_obj[\"outputs\"]:\n",
    "                output[\"output\"] = output[\"output\"].lower()\n",
    "                output[\"discourse_marker_1\"] = output[\"discourse_marker_1\"].lower()\n",
    "                output[\"discourse_marker_2\"] = output[\"discourse_marker_2\"].lower()\n",
    "\n",
    "            out_f.write(json.dumps(dict_obj)+\"\\n\")\n",
    "            counter += 1\n",
    "            \n",
    "counter = 0\n",
    "\n",
    "with open(test_file, \"r\") as in_f:\n",
    "    with open(test_uncase_file, \"w\") as out_f:\n",
    "        for line in in_f:\n",
    "            dict_obj = json.loads(line)\n",
    "            dict_obj[\"index\"] = counter\n",
    "            dict_obj[\"input\"][\"description\"] = dict_obj[\"input\"][\"description\"].lower()\n",
    "            dict_obj[\"input\"][\"positive\"] = dict_obj[\"input\"][\"positive\"].lower()\n",
    "            dict_obj[\"input\"][\"negative\"] = dict_obj[\"input\"][\"negative\"].lower()\n",
    "      \n",
    "            for output in dict_obj[\"outputs\"]:\n",
    "                output[\"output\"] = output[\"output\"].lower()\n",
    "                output[\"discourse_marker_1\"] = output[\"discourse_marker_1\"].lower()\n",
    "                output[\"discourse_marker_2\"] = output[\"discourse_marker_2\"].lower()\n",
    "\n",
    "            out_f.write(json.dumps(dict_obj)+\"\\n\")\n",
    "            counter += 1\n",
    "            \n",
    "counter = 0\n",
    "\n",
    "with open(val_file, \"r\") as in_f:\n",
    "    with open(val_uncase_file, \"w\") as out_f:\n",
    "        for line in in_f:\n",
    "            dict_obj = json.loads(line)\n",
    "            dict_obj[\"index\"] = counter\n",
    "            dict_obj[\"input\"][\"description\"] = dict_obj[\"input\"][\"description\"].lower()\n",
    "            dict_obj[\"input\"][\"positive\"] = dict_obj[\"input\"][\"positive\"].lower()\n",
    "            dict_obj[\"input\"][\"negative\"] = dict_obj[\"input\"][\"negative\"].lower()\n",
    "\n",
    "            for output in dict_obj[\"outputs\"]:\n",
    "                output[\"output\"] = output[\"output\"].lower()\n",
    "                output[\"discourse_marker_1\"] = output[\"discourse_marker_1\"].lower()\n",
    "                output[\"discourse_marker_2\"] = output[\"discourse_marker_2\"].lower()\n",
    "\n",
    "            out_f.write(json.dumps(dict_obj)+\"\\n\")\n",
    "            counter += 1"
   ]
  },
  {
   "cell_type": "code",
   "execution_count": null,
   "id": "bd1eab70",
   "metadata": {},
   "outputs": [],
   "source": []
  },
  {
   "cell_type": "code",
   "execution_count": 193,
   "id": "1f288422",
   "metadata": {},
   "outputs": [],
   "source": [
    "stat_dict = {}\n",
    "\n",
    "with open(train_uncase_file, \"r\") as in_f:\n",
    "    for line in in_f:\n",
    "        obj_dict = json.loads(line)\n",
    "        \n",
    "        for output in obj_dict[\"outputs\"]:\n",
    "            if output[\"discourse_phenomenon_1\"] in stat_dict:\n",
    "                stat_dict[output[\"discourse_phenomenon_1\"]] += 1\n",
    "            else:\n",
    "                stat_dict[output[\"discourse_phenomenon_1\"]] = 0\n",
    "                \n",
    "            if output[\"discourse_phenomenon_2\"] in stat_dict:\n",
    "                stat_dict[output[\"discourse_phenomenon_2\"]] += 1\n",
    "            else:\n",
    "                stat_dict[output[\"discourse_phenomenon_2\"]] = 0"
   ]
  },
  {
   "cell_type": "code",
   "execution_count": 194,
   "id": "9aebc828",
   "metadata": {},
   "outputs": [
    {
     "data": {
      "text/plain": [
       "{'PAIR_CONN': 11675,\n",
       " 'SINGLE_CONN': 4283,\n",
       " 'SINGLE_CONN_START': 1595,\n",
       " 'PAIR_CONN_TENSE_ANAPHORA': 3653,\n",
       " 'SINGLE_CONN_START_TENSE_ANAPHORA': 512,\n",
       " 'PAIR_CONN_TENSE': 2187,\n",
       " 'SINGLE_CONN_TENSE': 1811,\n",
       " 'SINGLE_CONN_START_TENSE': 399,\n",
       " 'PAIR_CONN_ANAPHORA': 2571,\n",
       " 'SINGLE_CONN_ANAPHORA': 1037,\n",
       " 'SINGLE_CONN_START_ANAPHORA': 360,\n",
       " 'SINGLE_CONN_TENSE_ANAPHORA': 1475}"
      ]
     },
     "execution_count": 194,
     "metadata": {},
     "output_type": "execute_result"
    }
   ],
   "source": [
    "stat_dict"
   ]
  },
  {
   "cell_type": "code",
   "execution_count": 195,
   "id": "f17a30e0",
   "metadata": {},
   "outputs": [],
   "source": [
    "stat_dict = {}\n",
    "\n",
    "with open(test_uncase_file, \"r\") as in_f:\n",
    "    for line in in_f:\n",
    "        obj_dict = json.loads(line)\n",
    "        \n",
    "        for output in obj_dict[\"outputs\"]:\n",
    "            if output[\"discourse_phenomenon_1\"] in stat_dict:\n",
    "                stat_dict[output[\"discourse_phenomenon_1\"]] += 1\n",
    "            else:\n",
    "                stat_dict[output[\"discourse_phenomenon_1\"]] = 0\n",
    "                \n",
    "            if output[\"discourse_phenomenon_2\"] in stat_dict:\n",
    "                stat_dict[output[\"discourse_phenomenon_2\"]] += 1\n",
    "            else:\n",
    "                stat_dict[output[\"discourse_phenomenon_2\"]] = 0"
   ]
  },
  {
   "cell_type": "code",
   "execution_count": 196,
   "id": "6e5f59f3",
   "metadata": {},
   "outputs": [
    {
     "data": {
      "text/plain": [
       "{'PAIR_CONN': 3441,\n",
       " 'PAIR_CONN_TENSE': 613,\n",
       " 'SINGLE_CONN_TENSE': 605,\n",
       " 'SINGLE_CONN_START': 462,\n",
       " 'SINGLE_CONN_START_TENSE': 121,\n",
       " 'PAIR_CONN_TENSE_ANAPHORA': 1065,\n",
       " 'SINGLE_CONN_START_TENSE_ANAPHORA': 153,\n",
       " 'SINGLE_CONN': 1187,\n",
       " 'SINGLE_CONN_TENSE_ANAPHORA': 473,\n",
       " 'PAIR_CONN_ANAPHORA': 827,\n",
       " 'SINGLE_CONN_ANAPHORA': 281,\n",
       " 'SINGLE_CONN_START_ANAPHORA': 110}"
      ]
     },
     "execution_count": 196,
     "metadata": {},
     "output_type": "execute_result"
    }
   ],
   "source": [
    "stat_dict"
   ]
  },
  {
   "cell_type": "code",
   "execution_count": 197,
   "id": "c05bb4eb",
   "metadata": {},
   "outputs": [],
   "source": [
    "stat_dict = {}\n",
    "\n",
    "with open(val_uncase_file, \"r\") as in_f:\n",
    "    for line in in_f:\n",
    "        obj_dict = json.loads(line)\n",
    "        \n",
    "        for output in obj_dict[\"outputs\"]:\n",
    "            if output[\"discourse_phenomenon_1\"] in stat_dict:\n",
    "                stat_dict[output[\"discourse_phenomenon_1\"]] += 1\n",
    "            else:\n",
    "                stat_dict[output[\"discourse_phenomenon_1\"]] = 0\n",
    "                \n",
    "            if output[\"discourse_phenomenon_2\"] in stat_dict:\n",
    "                stat_dict[output[\"discourse_phenomenon_2\"]] += 1\n",
    "            else:\n",
    "                stat_dict[output[\"discourse_phenomenon_2\"]] = 0"
   ]
  },
  {
   "cell_type": "code",
   "execution_count": 198,
   "id": "2186cb83",
   "metadata": {},
   "outputs": [
    {
     "data": {
      "text/plain": [
       "{'PAIR_CONN': 1701,\n",
       " 'PAIR_CONN_TENSE': 329,\n",
       " 'SINGLE_CONN_TENSE': 269,\n",
       " 'SINGLE_CONN_START': 231,\n",
       " 'SINGLE_CONN_START_TENSE': 59,\n",
       " 'PAIR_CONN_TENSE_ANAPHORA': 595,\n",
       " 'SINGLE_CONN_TENSE_ANAPHORA': 203,\n",
       " 'SINGLE_CONN_START_TENSE_ANAPHORA': 79,\n",
       " 'SINGLE_CONN': 617,\n",
       " 'PAIR_CONN_ANAPHORA': 381,\n",
       " 'SINGLE_CONN_ANAPHORA': 197,\n",
       " 'SINGLE_CONN_START_ANAPHORA': 57}"
      ]
     },
     "execution_count": 198,
     "metadata": {},
     "output_type": "execute_result"
    }
   ],
   "source": [
    "stat_dict"
   ]
  },
  {
   "cell_type": "code",
   "execution_count": null,
   "id": "5cca3e34",
   "metadata": {},
   "outputs": [],
   "source": []
  },
  {
   "cell_type": "markdown",
   "id": "1c31e645",
   "metadata": {},
   "source": [
    "# Preprocess string, separating punctuation from words."
   ]
  },
  {
   "cell_type": "code",
   "execution_count": 238,
   "id": "cff7d037",
   "metadata": {},
   "outputs": [],
   "source": [
    "import json"
   ]
  },
  {
   "cell_type": "code",
   "execution_count": 242,
   "id": "47e63b64",
   "metadata": {},
   "outputs": [],
   "source": [
    "def pre_process(utterance):\n",
    "    for char in ['-', '.', ',', \"'\", \"$\", \"&\", \"#\", \"/\", \"+\", \"_\", \":\", \"@\"]:\n",
    "        utterance = utterance.replace(\"{} \".format(char), \" {} \".format(char)).replace(\" {}\".format(char), \" {} \".format(char))\n",
    "\n",
    "    return utterance"
   ]
  },
  {
   "cell_type": "code",
   "execution_count": 243,
   "id": "bf832ce1",
   "metadata": {},
   "outputs": [],
   "source": [
    "input_file = \"data/sentence_fusion/uncase/rule_based/rule_based_output.jsonl\"\n",
    "output_file = \"data/sentence_fusion/uncase/rule_based/rule_based_output_preprocessed.jsonl\""
   ]
  },
  {
   "cell_type": "code",
   "execution_count": 245,
   "id": "e1b58cb9",
   "metadata": {},
   "outputs": [],
   "source": [
    "with open(output_file, \"w\") as out_f:\n",
    "    with open(input_file, \"r\") as in_f:\n",
    "        for line in in_f:\n",
    "            dict_obj = json.loads(line)\n",
    "            dict_obj[\"input\"] = pre_process(dict_obj[\"input\"])\n",
    "            \n",
    "            output_list = []\n",
    "            for output in dict_obj[\"output\"]:\n",
    "                output_list.append(pre_process(output))\n",
    "            \n",
    "            dict_obj[\"output\"] = output_list\n",
    "                \n",
    "            ref_list = []\n",
    "            for ref in dict_obj[\"reference\"]:\n",
    "                ref_list.append(pre_process(ref))\n",
    "                \n",
    "            dict_obj[\"reference\"] = ref_list\n",
    "            \n",
    "            out_f.write(json.dumps(dict_obj)+\"\\n\")"
   ]
  },
  {
   "cell_type": "code",
   "execution_count": null,
   "id": "884031d7",
   "metadata": {},
   "outputs": [],
   "source": []
  },
  {
   "cell_type": "markdown",
   "id": "c691b46e",
   "metadata": {},
   "source": [
    "# Found a bug in the datset. 'outputs' is empty for few instances. Fixing bug. "
   ]
  },
  {
   "cell_type": "code",
   "execution_count": 309,
   "id": "6400980e",
   "metadata": {},
   "outputs": [],
   "source": [
    "import json"
   ]
  },
  {
   "cell_type": "code",
   "execution_count": 331,
   "id": "cb423fe0",
   "metadata": {},
   "outputs": [],
   "source": [
    "input_file = \"data/sentence_fusion/uncase/val_uncase.jsonl\"\n",
    "output_file = \"data/sentence_fusion/uncase/val_uncase_preprocessed.jsonl\""
   ]
  },
  {
   "cell_type": "code",
   "execution_count": 332,
   "id": "40e8c555",
   "metadata": {},
   "outputs": [],
   "source": [
    "def pre_process(utterance):\n",
    "    for char in ['-', '.', ',', \"'\", \"$\", \"&\", \"#\", \"/\", \"+\", \"_\", \":\", \"@\"]:\n",
    "        utterance = utterance.replace(\"{} \".format(char), \" {} \".format(char)).replace(\" {}\".format(char), \" {} \".format(char))\n",
    "    \n",
    "    utterance = utterance.strip()\n",
    "    return \" \".join(utterance.split())"
   ]
  },
  {
   "cell_type": "code",
   "execution_count": 333,
   "id": "1b60cd2f",
   "metadata": {},
   "outputs": [],
   "source": [
    "with open(output_file, \"w\") as out_f:\n",
    "    with open(input_file, \"r\") as in_f:\n",
    "        for line in in_f:\n",
    "            dict_obj = json.loads(line)\n",
    "            \n",
    "            if len(dict_obj[\"outputs\"]) > 0:\n",
    "                dict_obj[\"input\"][\"description\"] = pre_process(dict_obj[\"input\"][\"description\"])\n",
    "                dict_obj[\"input\"][\"positive\"] = pre_process(dict_obj[\"input\"][\"positive\"])\n",
    "                dict_obj[\"input\"][\"negative\"] = pre_process(dict_obj[\"input\"][\"negative\"])\n",
    "                \n",
    "                for output in dict_obj[\"outputs\"]:\n",
    "                    output[\"output\"] = pre_process(output[\"output\"])\n",
    "                    \n",
    "                out_f.write(json.dumps(dict_obj)+\"\\n\")"
   ]
  },
  {
   "cell_type": "code",
   "execution_count": null,
   "id": "aece2139",
   "metadata": {},
   "outputs": [],
   "source": []
  },
  {
   "cell_type": "code",
   "execution_count": null,
   "id": "894cea75",
   "metadata": {},
   "outputs": [],
   "source": []
  },
  {
   "cell_type": "markdown",
   "id": "c5c2c620",
   "metadata": {},
   "source": [
    "# Evaluation methods"
   ]
  },
  {
   "cell_type": "markdown",
   "id": "cac524dd",
   "metadata": {},
   "source": [
    "# Multi Reference Exact Match"
   ]
  },
  {
   "cell_type": "code",
   "execution_count": 181,
   "id": "d7f0f1f8",
   "metadata": {},
   "outputs": [],
   "source": [
    "import json"
   ]
  },
  {
   "cell_type": "code",
   "execution_count": 81,
   "id": "6e04fb89",
   "metadata": {},
   "outputs": [],
   "source": [
    "def mr_exact(input_list, output_list, ref_list, output_file, stat_file):\n",
    "    \"\"\"\n",
    "        input_list: list of strings\n",
    "        output_list: list of strings\n",
    "        ref_list: list of lists of strings\n",
    "    \"\"\"\n",
    "    \n",
    "    exact = 0\n",
    "    total = 0\n",
    "    \n",
    "    match_instances = []\n",
    "    \n",
    "    with open(output_file, \"w\") as out_f:\n",
    "        for index in range(len(input_list)):\n",
    "            if output_list[index] in ref_list[index]:\n",
    "                exact += 1\n",
    "                out_f.write(json.dumps({\"input\": input_list[index], \"output\": output_list[index],\n",
    "                                        \"ref\": ref_list[index]}) + \"\\n\")\n",
    "\n",
    "            total += 1\n",
    "            \n",
    "    with open(stat_file, \"w\") as out_f:\n",
    "        out_f.write(json.dumps({\"exact\": exact, \"total\": total}))"
   ]
  },
  {
   "cell_type": "code",
   "execution_count": 82,
   "id": "fd992e87",
   "metadata": {},
   "outputs": [],
   "source": [
    "# input_file = \"data/sentence_fusion/uncase/rule_based/rule_based_output.jsonl\"\n",
    "# output_file = \"data/sentence_fusion/uncase/rule_based/exact/exact_match.jsonl\"\n",
    "# stat_file = \"data/sentence_fusion/uncase/rule_based/exact/exact_stat.jsonl\"\n",
    "\n",
    "input_file = \"data/sentence_fusion/uncase/bart_translation/eval_version_2.jsonl\"\n",
    "output_file = \"data/sentence_fusion/uncase/bart_translation/eval_output_version_2.jsonl\"\n",
    "stat_file = \"data/sentence_fusion/uncase/bart_translation/eval_stats_version_2.jsonl\""
   ]
  },
  {
   "cell_type": "code",
   "execution_count": 83,
   "id": "12a78482",
   "metadata": {},
   "outputs": [],
   "source": [
    "input_list = []\n",
    "output_list = []\n",
    "ref_list = []"
   ]
  },
  {
   "cell_type": "code",
   "execution_count": 84,
   "id": "7792f20a",
   "metadata": {},
   "outputs": [],
   "source": [
    "# with open(input_file, \"r\") as in_f:\n",
    "#     for line in in_f:\n",
    "#         dict_obj = json.loads(line)\n",
    "        \n",
    "#         for output in dict_obj[\"output\"]:\n",
    "#             input_list.append(dict_obj[\"input\"])\n",
    "#             output_list.append(output)\n",
    "#             ref_list.append(dict_obj[\"reference\"])\n",
    "\n",
    "with open(input_file, \"r\") as in_f:\n",
    "    for line in in_f:\n",
    "        dict_obj = json.loads(line)\n",
    "        \n",
    "        input_list.append(dict_obj[\"input\"])\n",
    "        output_list.append(dict_obj[\"output\"])\n",
    "        ref_list.append(dict_obj[\"reference\"])"
   ]
  },
  {
   "cell_type": "code",
   "execution_count": 85,
   "id": "1bf8131e",
   "metadata": {},
   "outputs": [
    {
     "data": {
      "text/plain": [
       "219"
      ]
     },
     "execution_count": 85,
     "metadata": {},
     "output_type": "execute_result"
    }
   ],
   "source": [
    "len(ref_list)"
   ]
  },
  {
   "cell_type": "code",
   "execution_count": 86,
   "id": "f41164c2",
   "metadata": {},
   "outputs": [],
   "source": [
    "mr_exact(input_list, output_list, ref_list, output_file, stat_file)"
   ]
  },
  {
   "cell_type": "code",
   "execution_count": null,
   "id": "e24d79fe",
   "metadata": {},
   "outputs": [],
   "source": []
  },
  {
   "cell_type": "code",
   "execution_count": 207,
   "id": "858a2033",
   "metadata": {},
   "outputs": [
    {
     "data": {
      "text/plain": [
       "False"
      ]
     },
     "execution_count": 207,
     "metadata": {},
     "output_type": "execute_result"
    }
   ],
   "source": [
    "1 == [1, 2]"
   ]
  },
  {
   "cell_type": "code",
   "execution_count": null,
   "id": "6cfb34b7",
   "metadata": {},
   "outputs": [],
   "source": []
  },
  {
   "cell_type": "markdown",
   "id": "d33608cf",
   "metadata": {},
   "source": [
    "# SARI Metrics"
   ]
  },
  {
   "cell_type": "code",
   "execution_count": 343,
   "id": "8edd1c61",
   "metadata": {},
   "outputs": [],
   "source": [
    "from sari_utils import *"
   ]
  },
  {
   "cell_type": "code",
   "execution_count": 344,
   "id": "4ec9828a",
   "metadata": {},
   "outputs": [],
   "source": [
    "input_file = \"data/sentence_fusion/uncase/rule_based/rule_based_output.jsonl\""
   ]
  },
  {
   "cell_type": "code",
   "execution_count": 345,
   "id": "63d8b9cb",
   "metadata": {},
   "outputs": [],
   "source": [
    "input_list = []\n",
    "output_list = []\n",
    "ref_list = []"
   ]
  },
  {
   "cell_type": "code",
   "execution_count": 346,
   "id": "58cba206",
   "metadata": {},
   "outputs": [],
   "source": [
    "with open(input_file, \"r\") as in_f:\n",
    "    for line in in_f:\n",
    "        dict_obj = json.loads(line)\n",
    "        \n",
    "        ref_token_list = []\n",
    "        for ref in dict_obj[\"reference\"]:\n",
    "            ref_token_list.append(ref.split())\n",
    "        \n",
    "        for output in dict_obj[\"output\"]:\n",
    "            input_list.append(dict_obj[\"input\"].split())\n",
    "            output_list.append(output.split())\n",
    "            ref_list.append(ref_token_list)"
   ]
  },
  {
   "cell_type": "code",
   "execution_count": 347,
   "id": "e4901217",
   "metadata": {},
   "outputs": [
    {
     "ename": "TypeError",
     "evalue": "unhashable type: 'list'",
     "output_type": "error",
     "traceback": [
      "\u001b[0;31m---------------------------------------------------------------------------\u001b[0m",
      "\u001b[0;31mTypeError\u001b[0m                                 Traceback (most recent call last)",
      "\u001b[0;32m<ipython-input-347-b8a8a790565f>\u001b[0m in \u001b[0;36m<module>\u001b[0;34m\u001b[0m\n\u001b[0;32m----> 1\u001b[0;31m \u001b[0mget_sari_score\u001b[0m\u001b[0;34m(\u001b[0m\u001b[0minput_list\u001b[0m\u001b[0;34m,\u001b[0m \u001b[0moutput_list\u001b[0m\u001b[0;34m,\u001b[0m \u001b[0mref_list\u001b[0m\u001b[0;34m)\u001b[0m\u001b[0;34m\u001b[0m\u001b[0;34m\u001b[0m\u001b[0m\n\u001b[0m",
      "\u001b[0;32m~/dir_1/shodh/Product-Comparison/sari_utils.py\u001b[0m in \u001b[0;36mget_sari_score\u001b[0;34m(source_ids, prediction_ids, list_of_targets, max_gram_size, beta_for_deletion)\u001b[0m\n\u001b[1;32m    138\u001b[0m     \u001b[0;32mfor\u001b[0m \u001b[0mn\u001b[0m \u001b[0;32min\u001b[0m \u001b[0mrange\u001b[0m\u001b[0;34m(\u001b[0m\u001b[0;36m1\u001b[0m\u001b[0;34m,\u001b[0m \u001b[0mmax_gram_size\u001b[0m \u001b[0;34m+\u001b[0m \u001b[0;36m1\u001b[0m\u001b[0;34m)\u001b[0m\u001b[0;34m:\u001b[0m\u001b[0;34m\u001b[0m\u001b[0;34m\u001b[0m\u001b[0m\n\u001b[1;32m    139\u001b[0m       \u001b[0msource_counts\u001b[0m \u001b[0;34m=\u001b[0m \u001b[0m_get_ngram_counter\u001b[0m\u001b[0;34m(\u001b[0m\u001b[0minput_sent_list\u001b[0m\u001b[0;34m[\u001b[0m\u001b[0mindex\u001b[0m\u001b[0;34m]\u001b[0m\u001b[0;34m,\u001b[0m \u001b[0mn\u001b[0m\u001b[0;34m)\u001b[0m\u001b[0;34m\u001b[0m\u001b[0;34m\u001b[0m\u001b[0m\n\u001b[0;32m--> 140\u001b[0;31m       \u001b[0mprediction_counts\u001b[0m \u001b[0;34m=\u001b[0m \u001b[0m_get_ngram_counter\u001b[0m\u001b[0;34m(\u001b[0m\u001b[0moutput_sent_list\u001b[0m\u001b[0;34m[\u001b[0m\u001b[0mindex\u001b[0m\u001b[0;34m]\u001b[0m\u001b[0;34m,\u001b[0m \u001b[0mn\u001b[0m\u001b[0;34m)\u001b[0m\u001b[0;34m\u001b[0m\u001b[0;34m\u001b[0m\u001b[0m\n\u001b[0m\u001b[1;32m    141\u001b[0m       \u001b[0;31m# All ngrams in the targets with count 1.\u001b[0m\u001b[0;34m\u001b[0m\u001b[0;34m\u001b[0m\u001b[0;34m\u001b[0m\u001b[0m\n\u001b[1;32m    142\u001b[0m       \u001b[0mtarget_counts\u001b[0m \u001b[0;34m=\u001b[0m \u001b[0mcollections\u001b[0m\u001b[0;34m.\u001b[0m\u001b[0mCounter\u001b[0m\u001b[0;34m(\u001b[0m\u001b[0;34m)\u001b[0m\u001b[0;34m\u001b[0m\u001b[0;34m\u001b[0m\u001b[0m\n",
      "\u001b[0;32m~/dir_1/shodh/Product-Comparison/sari_utils.py\u001b[0m in \u001b[0;36m_get_ngram_counter\u001b[0;34m(ids, n)\u001b[0m\n\u001b[1;32m     54\u001b[0m   \u001b[0;32mreturn\u001b[0m \u001b[0mcounts\u001b[0m\u001b[0;34m\u001b[0m\u001b[0;34m\u001b[0m\u001b[0m\n\u001b[1;32m     55\u001b[0m \u001b[0;34m\u001b[0m\u001b[0m\n\u001b[0;32m---> 56\u001b[0;31m \u001b[0;32mdef\u001b[0m \u001b[0m_get_fbeta_score\u001b[0m\u001b[0;34m(\u001b[0m\u001b[0mtrue_positives\u001b[0m\u001b[0;34m,\u001b[0m \u001b[0mselected\u001b[0m\u001b[0;34m,\u001b[0m \u001b[0mrelevant\u001b[0m\u001b[0;34m,\u001b[0m \u001b[0mbeta\u001b[0m\u001b[0;34m=\u001b[0m\u001b[0;36m1\u001b[0m\u001b[0;34m)\u001b[0m\u001b[0;34m:\u001b[0m\u001b[0;34m\u001b[0m\u001b[0;34m\u001b[0m\u001b[0m\n\u001b[0m\u001b[1;32m     57\u001b[0m   \"\"\"Compute Fbeta score.\n\u001b[1;32m     58\u001b[0m   \u001b[0mArgs\u001b[0m\u001b[0;34m:\u001b[0m\u001b[0;34m\u001b[0m\u001b[0;34m\u001b[0m\u001b[0m\n",
      "\u001b[0;31mTypeError\u001b[0m: unhashable type: 'list'"
     ]
    }
   ],
   "source": [
    "get_sari_score(input_list, output_list, ref_list)"
   ]
  },
  {
   "cell_type": "markdown",
   "id": "2079b100",
   "metadata": {},
   "source": [
    "# This code works when I run program via terminal. I am not able to understand why it is giving error when I run it in Jupyter. Output at terminal: \n",
    "{'sari': 0.6502856526714712, 'keep_score': 0.9262367188578472, 'addition_score': 0.42356906741776484, 'deletion_score': 0.6010511717388015}"
   ]
  },
  {
   "cell_type": "code",
   "execution_count": null,
   "id": "349b8560",
   "metadata": {},
   "outputs": [],
   "source": []
  },
  {
   "cell_type": "markdown",
   "id": "42c10b78",
   "metadata": {},
   "source": [
    "# BLEU evaluation metrics"
   ]
  },
  {
   "cell_type": "code",
   "execution_count": 114,
   "id": "523a0408",
   "metadata": {},
   "outputs": [],
   "source": [
    "from nltk.translate.bleu_score import corpus_bleu"
   ]
  },
  {
   "cell_type": "code",
   "execution_count": 115,
   "id": "0402a35b",
   "metadata": {},
   "outputs": [],
   "source": [
    "# input_file = \"data/sentence_fusion/uncase/rule_based/rule_based_output.jsonl\"\n",
    "# output_file = \"data/sentence_fusion/uncase/rule_based/corpus_bleu/stats.jsonl\"\n",
    "\n",
    "input_file = \"data/sentence_fusion/uncase/bart_translation/eval_version_2.jsonl\"\n",
    "stat_file = \"data/sentence_fusion/uncase/bart_translation/bleu/stats.jsonl\""
   ]
  },
  {
   "cell_type": "code",
   "execution_count": 116,
   "id": "c19334aa",
   "metadata": {},
   "outputs": [],
   "source": [
    "input_list = []\n",
    "output_list = []\n",
    "ref_list = []"
   ]
  },
  {
   "cell_type": "code",
   "execution_count": 117,
   "id": "3f41d9fb",
   "metadata": {},
   "outputs": [],
   "source": [
    "# with open(input_file, \"r\") as in_f:\n",
    "#     for line in in_f:\n",
    "#         dict_obj = json.loads(line)\n",
    "        \n",
    "#         ref_token_list = []\n",
    "#         for ref in dict_obj[\"reference\"]:\n",
    "#             ref_token_list.append(ref.split())\n",
    "        \n",
    "#         for output in dict_obj[\"output\"]:\n",
    "#             input_list.append(dict_obj[\"input\"].split())\n",
    "#             output_list.append(output.split())\n",
    "#             ref_list.append(ref_token_list)\n",
    "\n",
    "with open(input_file, \"r\") as in_f:\n",
    "    for line in in_f:\n",
    "        dict_obj = json.loads(line)\n",
    "        \n",
    "        input_list.append(dict_obj[\"input\"])\n",
    "        output_list.append(dict_obj[\"output\"])\n",
    "        ref_list.append(dict_obj[\"reference\"])"
   ]
  },
  {
   "cell_type": "code",
   "execution_count": 118,
   "id": "49e7f59e",
   "metadata": {},
   "outputs": [],
   "source": [
    "output = corpus_bleu(list_of_references=ref_list, hypotheses=output_list)"
   ]
  },
  {
   "cell_type": "code",
   "execution_count": 119,
   "id": "e2acf6ec",
   "metadata": {},
   "outputs": [],
   "source": [
    "with open(stat_file, \"w\") as out_f:\n",
    "    out_f.write(json.dumps({\"corpus_bleu\": output}))"
   ]
  },
  {
   "cell_type": "code",
   "execution_count": 120,
   "id": "59811512",
   "metadata": {},
   "outputs": [
    {
     "data": {
      "text/plain": [
       "0.9273298079459572"
      ]
     },
     "execution_count": 120,
     "metadata": {},
     "output_type": "execute_result"
    }
   ],
   "source": [
    "output"
   ]
  },
  {
   "cell_type": "markdown",
   "id": "7372df10",
   "metadata": {},
   "source": [
    "# Rouge evaluation metric"
   ]
  },
  {
   "cell_type": "code",
   "execution_count": 121,
   "id": "d2353fc5",
   "metadata": {},
   "outputs": [],
   "source": [
    "import rouge\n",
    "import json"
   ]
  },
  {
   "cell_type": "code",
   "execution_count": 122,
   "id": "5f1f3441",
   "metadata": {},
   "outputs": [],
   "source": [
    "# input_file = \"data/sentence_fusion/uncase/rule_based/rule_based_output.jsonl\"\n",
    "# output_file = \"data/sentence_fusion/uncase/rule_based/rouge/stats.jsonl\"\n",
    "\n",
    "input_file = \"data/sentence_fusion/uncase/bart_translation/eval_version_2.jsonl\"\n",
    "stat_file = \"data/sentence_fusion/uncase/bart_translation/rouge/stats.jsonl\""
   ]
  },
  {
   "cell_type": "code",
   "execution_count": 123,
   "id": "a27b993c",
   "metadata": {},
   "outputs": [],
   "source": [
    "output_list = []\n",
    "ref_list = []"
   ]
  },
  {
   "cell_type": "code",
   "execution_count": 124,
   "id": "689296f3",
   "metadata": {},
   "outputs": [],
   "source": [
    "# with open(input_file, \"r\") as in_f:\n",
    "#     for line in in_f:\n",
    "#         dict_obj = json.loads(line)\n",
    "        \n",
    "#         for output in dict_obj[\"output\"]:\n",
    "#             output_list.append(output)\n",
    "#             ref_list.append(dict_obj[\"reference\"])\n",
    "\n",
    "with open(input_file, \"r\") as in_f:\n",
    "    for line in in_f:\n",
    "        dict_obj = json.loads(line)\n",
    "        \n",
    "#         input_list.append(dict_obj[\"input\"])\n",
    "        output_list.append(dict_obj[\"output\"])\n",
    "        ref_list.append(dict_obj[\"reference\"])"
   ]
  },
  {
   "cell_type": "code",
   "execution_count": 131,
   "id": "246f8402",
   "metadata": {},
   "outputs": [],
   "source": [
    "   evaluator = rouge.Rouge(metrics=['rouge-n', 'rouge-l', 'rouge-w'],\n",
    "                           max_n=4,\n",
    "                           limit_length=True,\n",
    "                           length_limit=300,\n",
    "                           length_limit_type='words',\n",
    "                           apply_avg=False,\n",
    "                           apply_best=True,\n",
    "                           alpha=0.5, # Default F1_score\n",
    "                           weight_factor=1.2,\n",
    "                           stemming=True)"
   ]
  },
  {
   "cell_type": "code",
   "execution_count": 132,
   "id": "c224ebcc",
   "metadata": {},
   "outputs": [],
   "source": [
    "scores = evaluator.get_scores(output_list, ref_list)"
   ]
  },
  {
   "cell_type": "code",
   "execution_count": 130,
   "id": "ca3a8264",
   "metadata": {},
   "outputs": [
    {
     "data": {
      "text/plain": [
       "{'rouge-3': {'f': 0.8436320698762005,\n",
       "  'p': 0.8826919107904938,\n",
       "  'r': 0.8130594636197225},\n",
       " 'rouge-1': {'f': 0.9315513754818175,\n",
       "  'p': 0.9727893376570323,\n",
       "  'r': 0.8987976795179548},\n",
       " 'rouge-2': {'f': 0.8882673056202572,\n",
       "  'p': 0.9285270002766407,\n",
       "  'r': 0.856521083767198},\n",
       " 'rouge-4': {'f': 0.7995797761714071,\n",
       "  'p': 0.8373762568538895,\n",
       "  'r': 0.7702323048900042},\n",
       " 'rouge-l': {'f': 0.9403312604445836,\n",
       "  'p': 0.9747772003675775,\n",
       "  'r': 0.9119107614943365},\n",
       " 'rouge-w': {'f': 0.5376971110584801,\n",
       "  'p': 0.8768055116851984,\n",
       "  'r': 0.3891195964335752}}"
      ]
     },
     "execution_count": 130,
     "metadata": {},
     "output_type": "execute_result"
    }
   ],
   "source": [
    "scores #avg"
   ]
  },
  {
   "cell_type": "code",
   "execution_count": 133,
   "id": "051385fb",
   "metadata": {},
   "outputs": [
    {
     "data": {
      "text/plain": [
       "{'rouge-3': {'f': 0.9131173339361751,\n",
       "  'p': 0.952259758197863,\n",
       "  'r': 0.8822060643798101},\n",
       " 'rouge-1': {'f': 0.9517915954257848,\n",
       "  'p': 0.9899068615656246,\n",
       "  'r': 0.9218725647000673},\n",
       " 'rouge-2': {'f': 0.9342019626169716,\n",
       "  'p': 0.9740066612762182,\n",
       "  'r': 0.9025418102396966},\n",
       " 'rouge-4': {'f': 0.8927222106837268,\n",
       "  'p': 0.9311223628365088,\n",
       "  'r': 0.8626244401758822},\n",
       " 'rouge-l': {'f': 0.9578664149570412,\n",
       "  'p': 0.989657725014395,\n",
       "  'r': 0.9318872292908066},\n",
       " 'rouge-w': {'f': 0.5831265723358872,\n",
       "  'p': 0.9427755282843363,\n",
       "  'r': 0.4236618695835258}}"
      ]
     },
     "execution_count": 133,
     "metadata": {},
     "output_type": "execute_result"
    }
   ],
   "source": [
    "scores #best"
   ]
  },
  {
   "cell_type": "code",
   "execution_count": 135,
   "id": "0507366b",
   "metadata": {},
   "outputs": [],
   "source": [
    "avg_score = {'rouge-3': {'f': 0.8436320698762005,\n",
    "  'p': 0.8826919107904938,\n",
    "  'r': 0.8130594636197225},\n",
    " 'rouge-1': {'f': 0.9315513754818175,\n",
    "  'p': 0.9727893376570323,\n",
    "  'r': 0.8987976795179548},\n",
    " 'rouge-2': {'f': 0.8882673056202572,\n",
    "  'p': 0.9285270002766407,\n",
    "  'r': 0.856521083767198},\n",
    " 'rouge-4': {'f': 0.7995797761714071,\n",
    "  'p': 0.8373762568538895,\n",
    "  'r': 0.7702323048900042},\n",
    " 'rouge-l': {'f': 0.9403312604445836,\n",
    "  'p': 0.9747772003675775,\n",
    "  'r': 0.9119107614943365},\n",
    " 'rouge-w': {'f': 0.5376971110584801,\n",
    "  'p': 0.8768055116851984,\n",
    "  'r': 0.3891195964335752}}\n",
    "\n",
    "best_score = {'rouge-3': {'f': 0.9131173339361751,\n",
    "  'p': 0.952259758197863,\n",
    "  'r': 0.8822060643798101},\n",
    " 'rouge-1': {'f': 0.9517915954257848,\n",
    "  'p': 0.9899068615656246,\n",
    "  'r': 0.9218725647000673},\n",
    " 'rouge-2': {'f': 0.9342019626169716,\n",
    "  'p': 0.9740066612762182,\n",
    "  'r': 0.9025418102396966},\n",
    " 'rouge-4': {'f': 0.8927222106837268,\n",
    "  'p': 0.9311223628365088,\n",
    "  'r': 0.8626244401758822},\n",
    " 'rouge-l': {'f': 0.9578664149570412,\n",
    "  'p': 0.989657725014395,\n",
    "  'r': 0.9318872292908066},\n",
    " 'rouge-w': {'f': 0.5831265723358872,\n",
    "  'p': 0.9427755282843363,\n",
    "  'r': 0.4236618695835258}}\n",
    "\n",
    "dict_ = {\"avg\": avg_score, \"best\": best_score}"
   ]
  },
  {
   "cell_type": "code",
   "execution_count": 136,
   "id": "571c8b15",
   "metadata": {},
   "outputs": [],
   "source": [
    "with open(stat_file, \"w\") as out_f:\n",
    "    out_f.write(json.dumps(dict_))"
   ]
  },
  {
   "cell_type": "code",
   "execution_count": null,
   "id": "3bceacaa",
   "metadata": {},
   "outputs": [],
   "source": []
  },
  {
   "cell_type": "markdown",
   "id": "f8848b80",
   "metadata": {},
   "source": [
    "# Generating dataset for BART based translation"
   ]
  },
  {
   "cell_type": "code",
   "execution_count": 40,
   "id": "309a6695",
   "metadata": {},
   "outputs": [],
   "source": [
    "import json"
   ]
  },
  {
   "cell_type": "code",
   "execution_count": 41,
   "id": "dc09ae1c",
   "metadata": {},
   "outputs": [],
   "source": [
    "input_file = \"data/sentence_fusion/uncase/train_version_1.jsonl\"\n",
    "output_file = \"data/sentence_fusion/uncase/bart_translation/train_version_1.jsonl\""
   ]
  },
  {
   "cell_type": "code",
   "execution_count": 42,
   "id": "927a5182",
   "metadata": {},
   "outputs": [
    {
     "ename": "TypeError",
     "evalue": "string indices must be integers",
     "output_type": "error",
     "traceback": [
      "\u001b[0;31m---------------------------------------------------------------------------\u001b[0m",
      "\u001b[0;31mTypeError\u001b[0m                                 Traceback (most recent call last)",
      "\u001b[0;32m<ipython-input-42-cfaaa9faad7f>\u001b[0m in \u001b[0;36m<module>\u001b[0;34m\u001b[0m\n\u001b[1;32m     10\u001b[0m                 \u001b[0mtmp_dict\u001b[0m \u001b[0;34m=\u001b[0m \u001b[0;34m{\u001b[0m\u001b[0;34m\"translation\"\u001b[0m \u001b[0;34m:\u001b[0m \u001b[0;34m{\u001b[0m\u001b[0;34m}\u001b[0m\u001b[0;34m}\u001b[0m\u001b[0;34m\u001b[0m\u001b[0;34m\u001b[0m\u001b[0m\n\u001b[1;32m     11\u001b[0m                 \u001b[0mtmp_dict\u001b[0m\u001b[0;34m[\u001b[0m\u001b[0;34m\"translation\"\u001b[0m\u001b[0;34m]\u001b[0m\u001b[0;34m[\u001b[0m\u001b[0;34m\"defused\"\u001b[0m\u001b[0;34m]\u001b[0m \u001b[0;34m=\u001b[0m \u001b[0mdefused_sent\u001b[0m\u001b[0;34m\u001b[0m\u001b[0;34m\u001b[0m\u001b[0m\n\u001b[0;32m---> 12\u001b[0;31m                 \u001b[0mtmp_dict\u001b[0m\u001b[0;34m[\u001b[0m\u001b[0;34m\"translation\"\u001b[0m\u001b[0;34m]\u001b[0m\u001b[0;34m[\u001b[0m\u001b[0;34m\"fused\"\u001b[0m\u001b[0;34m]\u001b[0m \u001b[0;34m=\u001b[0m \u001b[0moutput\u001b[0m\u001b[0;34m[\u001b[0m\u001b[0;34m\"output\"\u001b[0m\u001b[0;34m]\u001b[0m\u001b[0;34m\u001b[0m\u001b[0;34m\u001b[0m\u001b[0m\n\u001b[0m\u001b[1;32m     13\u001b[0m \u001b[0;34m\u001b[0m\u001b[0m\n\u001b[1;32m     14\u001b[0m                 \u001b[0mout_f\u001b[0m\u001b[0;34m.\u001b[0m\u001b[0mwrite\u001b[0m\u001b[0;34m(\u001b[0m\u001b[0mjson\u001b[0m\u001b[0;34m.\u001b[0m\u001b[0mdumps\u001b[0m\u001b[0;34m(\u001b[0m\u001b[0mtmp_dict\u001b[0m\u001b[0;34m)\u001b[0m\u001b[0;34m+\u001b[0m\u001b[0;34m\"\\n\"\u001b[0m\u001b[0;34m)\u001b[0m\u001b[0;34m\u001b[0m\u001b[0;34m\u001b[0m\u001b[0m\n",
      "\u001b[0;31mTypeError\u001b[0m: string indices must be integers"
     ]
    }
   ],
   "source": [
    "with open(output_file, \"w\") as out_f:\n",
    "    with open(input_file, \"r\") as in_f:\n",
    "        for line in in_f:\n",
    "            obj_dict = json.loads(line)\n",
    "            \n",
    "            defused_sent = \"{} . {} . {} .\".format(obj_dict[\"input\"][\"description\"], obj_dict[\"input\"][\"positive\"], \n",
    "                                                  obj_dict[\"input\"][\"negative\"])\n",
    "            \n",
    "            for output in obj_dict[\"outputs\"]:\n",
    "                tmp_dict = {\"translation\" : {}}\n",
    "                tmp_dict[\"translation\"][\"defused\"] = defused_sent\n",
    "                tmp_dict[\"translation\"][\"fused\"] = output[\"output\"]\n",
    "                \n",
    "                out_f.write(json.dumps(tmp_dict)+\"\\n\")"
   ]
  },
  {
   "cell_type": "code",
   "execution_count": null,
   "id": "b9c92973",
   "metadata": {},
   "outputs": [],
   "source": []
  },
  {
   "cell_type": "markdown",
   "id": "e7fc302f",
   "metadata": {},
   "source": [
    "# Appending train and validation file"
   ]
  },
  {
   "cell_type": "code",
   "execution_count": 4,
   "id": "1a2959c8",
   "metadata": {},
   "outputs": [],
   "source": [
    "import json"
   ]
  },
  {
   "cell_type": "code",
   "execution_count": 7,
   "id": "474e3451",
   "metadata": {},
   "outputs": [],
   "source": [
    "train_file = \"data/sentence_fusion/uncase/train_uncase_preprocessed.jsonl\"\n",
    "val_file = \"data/sentence_fusion/uncase/val_uncase_preprocessed.jsonl\"\n",
    "output_file = \"data/sentence_fusion/uncase/train_val_uncase_preprocessed.jsonl\""
   ]
  },
  {
   "cell_type": "code",
   "execution_count": 8,
   "id": "fe12869a",
   "metadata": {},
   "outputs": [],
   "source": [
    "index_counter = 0"
   ]
  },
  {
   "cell_type": "code",
   "execution_count": 9,
   "id": "a01e3073",
   "metadata": {},
   "outputs": [],
   "source": [
    "with open(output_file, \"w\") as out_f:\n",
    "    for file in [train_file, val_file]:\n",
    "        with open(file, \"r\") as in_f:\n",
    "            for line in in_f:\n",
    "                obj_dict = json.loads(line)\n",
    "                obj_dict[\"index\"] = index_counter\n",
    "                index_counter += 1\n",
    "                out_f.write(json.dumps(obj_dict)+\"\\n\")"
   ]
  },
  {
   "cell_type": "markdown",
   "id": "b4ecf669",
   "metadata": {},
   "source": [
    "# Generating dataset in new version for BART based translation"
   ]
  },
  {
   "cell_type": "code",
   "execution_count": 12,
   "id": "caafad4d",
   "metadata": {},
   "outputs": [],
   "source": [
    "import json"
   ]
  },
  {
   "cell_type": "code",
   "execution_count": 28,
   "id": "b01d4beb",
   "metadata": {},
   "outputs": [],
   "source": [
    "input_file = \"data/sentence_fusion/uncase/train_val_uncase_preprocessed.jsonl\"\n",
    "test_file = \"data/sentence_fusion/uncase/test_uncase_preprocessed.jsonl\"\n",
    "output_file = \"data/sentence_fusion/uncase/train_version_2.jsonl\""
   ]
  },
  {
   "cell_type": "code",
   "execution_count": 29,
   "id": "a24626b5",
   "metadata": {},
   "outputs": [],
   "source": [
    "index_to_sent_dict = {}\n",
    "discourse_count_dict = {}"
   ]
  },
  {
   "cell_type": "code",
   "execution_count": 30,
   "id": "fab13fbc",
   "metadata": {},
   "outputs": [],
   "source": [
    "with open(input_file, \"r\") as in_f:\n",
    "    for line in in_f:\n",
    "        dict_obj = json.loads(line)\n",
    "        \n",
    "        for output in dict_obj[\"outputs\"]:\n",
    "            key_ = (output[\"discourse_marker_1\"], output[\"discourse_phenomenon_1\"], \n",
    "                                     output[\"discourse_marker_2\"], output[\"discourse_phenomenon_2\"])\n",
    "            \n",
    "            if discourse_count_dict.get(key_, None) == None:\n",
    "                discourse_count_dict[key_] = [dict_obj[\"index\"]]\n",
    "            else:\n",
    "                discourse_count_dict[key_].append(dict_obj[\"index\"])\n",
    "                \n",
    "            if index_to_sent_dict.get(dict_obj[\"index\"], None) == None:\n",
    "                index_to_sent_dict[dict_obj[\"index\"]] = {key_: {\"input\": dict_obj[\"input\"], \"output\": output}}\n",
    "            else:\n",
    "                index_to_sent_dict[dict_obj[\"index\"]][key_] = {\"input\": dict_obj[\"input\"], \"output\": output}"
   ]
  },
  {
   "cell_type": "code",
   "execution_count": 31,
   "id": "bbda2d6f",
   "metadata": {},
   "outputs": [
    {
     "data": {
      "text/plain": [
       "176"
      ]
     },
     "execution_count": 31,
     "metadata": {},
     "output_type": "execute_result"
    }
   ],
   "source": [
    "len(discourse_count_dict)"
   ]
  },
  {
   "cell_type": "code",
   "execution_count": 32,
   "id": "890a1855",
   "metadata": {},
   "outputs": [
    {
     "name": "stdout",
     "output_type": "stream",
     "text": [
      "495\n",
      "495\n",
      "495\n",
      "495\n",
      "495\n",
      "495\n",
      "495\n",
      "495\n",
      "495\n",
      "495\n",
      "495\n",
      "159\n",
      "159\n",
      "159\n",
      "159\n",
      "159\n",
      "159\n",
      "159\n",
      "159\n",
      "159\n",
      "159\n",
      "159\n",
      "215\n",
      "215\n",
      "215\n",
      "215\n",
      "215\n",
      "215\n",
      "215\n",
      "215\n",
      "215\n",
      "215\n",
      "215\n",
      "64\n",
      "64\n",
      "64\n",
      "64\n",
      "64\n",
      "64\n",
      "64\n",
      "64\n",
      "64\n",
      "64\n",
      "64\n",
      "128\n",
      "128\n",
      "128\n",
      "128\n",
      "128\n",
      "128\n",
      "128\n",
      "128\n",
      "128\n",
      "128\n",
      "128\n",
      "36\n",
      "36\n",
      "36\n",
      "36\n",
      "36\n",
      "36\n",
      "36\n",
      "36\n",
      "36\n",
      "36\n",
      "36\n",
      "173\n",
      "173\n",
      "173\n",
      "173\n",
      "173\n",
      "173\n",
      "173\n",
      "173\n",
      "173\n",
      "173\n",
      "173\n",
      "54\n",
      "54\n",
      "54\n",
      "54\n",
      "54\n",
      "54\n",
      "54\n",
      "54\n",
      "54\n",
      "54\n",
      "54\n",
      "22\n",
      "22\n",
      "22\n",
      "22\n",
      "22\n",
      "22\n",
      "22\n",
      "22\n",
      "22\n",
      "22\n",
      "22\n",
      "60\n",
      "60\n",
      "60\n",
      "60\n",
      "60\n",
      "60\n",
      "60\n",
      "60\n",
      "60\n",
      "60\n",
      "60\n",
      "10\n",
      "10\n",
      "10\n",
      "10\n",
      "10\n",
      "10\n",
      "10\n",
      "10\n",
      "10\n",
      "10\n",
      "10\n",
      "21\n",
      "21\n",
      "21\n",
      "21\n",
      "21\n",
      "21\n",
      "21\n",
      "21\n",
      "21\n",
      "21\n",
      "21\n",
      "46\n",
      "46\n",
      "46\n",
      "46\n",
      "46\n",
      "46\n",
      "46\n",
      "46\n",
      "46\n",
      "46\n",
      "46\n",
      "103\n",
      "103\n",
      "103\n",
      "103\n",
      "103\n",
      "103\n",
      "103\n",
      "103\n",
      "103\n",
      "103\n",
      "103\n",
      "32\n",
      "32\n",
      "32\n",
      "32\n",
      "32\n",
      "32\n",
      "32\n",
      "32\n",
      "32\n",
      "32\n",
      "32\n",
      "32\n",
      "32\n",
      "32\n",
      "32\n",
      "32\n",
      "32\n",
      "32\n",
      "32\n",
      "32\n",
      "32\n",
      "32\n"
     ]
    }
   ],
   "source": [
    "for key in discourse_count_dict.keys():\n",
    "    print(len(discourse_count_dict[key]))"
   ]
  },
  {
   "cell_type": "code",
   "execution_count": 33,
   "id": "f5718aac",
   "metadata": {},
   "outputs": [
    {
     "data": {
      "text/plain": [
       "870"
      ]
     },
     "execution_count": 33,
     "metadata": {},
     "output_type": "execute_result"
    }
   ],
   "source": [
    "len(index_to_sent_dict)"
   ]
  },
  {
   "cell_type": "code",
   "execution_count": 34,
   "id": "ed331a29",
   "metadata": {},
   "outputs": [],
   "source": [
    "sorted_discourse_count_dict = dict(sorted(discourse_count_dict.items(), key= lambda x: len(x[1])))"
   ]
  },
  {
   "cell_type": "code",
   "execution_count": 35,
   "id": "70c3f139",
   "metadata": {},
   "outputs": [
    {
     "name": "stdout",
     "output_type": "stream",
     "text": [
      "10\n",
      "10\n",
      "10\n",
      "10\n",
      "10\n",
      "10\n",
      "10\n",
      "10\n",
      "10\n",
      "10\n",
      "10\n",
      "21\n",
      "21\n",
      "21\n",
      "21\n",
      "21\n",
      "21\n",
      "21\n",
      "21\n",
      "21\n",
      "21\n",
      "21\n",
      "22\n",
      "22\n",
      "22\n",
      "22\n",
      "22\n",
      "22\n",
      "22\n",
      "22\n",
      "22\n",
      "22\n",
      "22\n",
      "32\n",
      "32\n",
      "32\n",
      "32\n",
      "32\n",
      "32\n",
      "32\n",
      "32\n",
      "32\n",
      "32\n",
      "32\n",
      "32\n",
      "32\n",
      "32\n",
      "32\n",
      "32\n",
      "32\n",
      "32\n",
      "32\n",
      "32\n",
      "32\n",
      "32\n",
      "36\n",
      "36\n",
      "36\n",
      "36\n",
      "36\n",
      "36\n",
      "36\n",
      "36\n",
      "36\n",
      "36\n",
      "36\n",
      "46\n",
      "46\n",
      "46\n",
      "46\n",
      "46\n",
      "46\n",
      "46\n",
      "46\n",
      "46\n",
      "46\n",
      "46\n",
      "54\n",
      "54\n",
      "54\n",
      "54\n",
      "54\n",
      "54\n",
      "54\n",
      "54\n",
      "54\n",
      "54\n",
      "54\n",
      "60\n",
      "60\n",
      "60\n",
      "60\n",
      "60\n",
      "60\n",
      "60\n",
      "60\n",
      "60\n",
      "60\n",
      "60\n",
      "64\n",
      "64\n",
      "64\n",
      "64\n",
      "64\n",
      "64\n",
      "64\n",
      "64\n",
      "64\n",
      "64\n",
      "64\n",
      "103\n",
      "103\n",
      "103\n",
      "103\n",
      "103\n",
      "103\n",
      "103\n",
      "103\n",
      "103\n",
      "103\n",
      "103\n",
      "128\n",
      "128\n",
      "128\n",
      "128\n",
      "128\n",
      "128\n",
      "128\n",
      "128\n",
      "128\n",
      "128\n",
      "128\n",
      "159\n",
      "159\n",
      "159\n",
      "159\n",
      "159\n",
      "159\n",
      "159\n",
      "159\n",
      "159\n",
      "159\n",
      "159\n",
      "173\n",
      "173\n",
      "173\n",
      "173\n",
      "173\n",
      "173\n",
      "173\n",
      "173\n",
      "173\n",
      "173\n",
      "173\n",
      "215\n",
      "215\n",
      "215\n",
      "215\n",
      "215\n",
      "215\n",
      "215\n",
      "215\n",
      "215\n",
      "215\n",
      "215\n",
      "495\n",
      "495\n",
      "495\n",
      "495\n",
      "495\n",
      "495\n",
      "495\n",
      "495\n",
      "495\n",
      "495\n",
      "495\n"
     ]
    }
   ],
   "source": [
    "for key in sorted_discourse_count_dict.keys():\n",
    "    print(len(sorted_discourse_count_dict[key]))"
   ]
  },
  {
   "cell_type": "code",
   "execution_count": 36,
   "id": "1f5f210b",
   "metadata": {},
   "outputs": [],
   "source": [
    "found = True\n",
    "\n",
    "with open(output_file, \"w\") as out_f:\n",
    "    while found:\n",
    "        found = False\n",
    "        for key in sorted_discourse_count_dict.keys():\n",
    "            ignore_list = []\n",
    "            \n",
    "            for index in sorted_discourse_count_dict[key]:\n",
    "                if index_to_sent_dict[index] != None:\n",
    "                    out_f.write(json.dumps(index_to_sent_dict[index][key])+\"\\n\")\n",
    "                    index_to_sent_dict[index] = None\n",
    "                    ignore_list.append(index)\n",
    "                    found = True\n",
    "                    break\n",
    "                else:\n",
    "                    ignore_list.append(index)\n",
    "                    \n",
    "            if len(ignore_list) > 0:\n",
    "                for index in ignore_list:\n",
    "                    sorted_discourse_count_dict[key].remove(index)      "
   ]
  },
  {
   "cell_type": "code",
   "execution_count": null,
   "id": "b2fba089",
   "metadata": {},
   "outputs": [],
   "source": []
  },
  {
   "cell_type": "code",
   "execution_count": 37,
   "id": "88b0f715",
   "metadata": {},
   "outputs": [],
   "source": [
    "input_file = \"data/sentence_fusion/uncase/train_version_2.jsonl\"\n",
    "output_file = \"data/sentence_fusion/uncase/bart_translation/train_version_2.jsonl\""
   ]
  },
  {
   "cell_type": "code",
   "execution_count": 38,
   "id": "3d31cc1e",
   "metadata": {},
   "outputs": [],
   "source": [
    "with open(output_file, \"w\") as out_f:\n",
    "    with open(input_file, \"r\") as in_f:\n",
    "        for line in in_f:\n",
    "            obj_dict = json.loads(line)\n",
    "            \n",
    "            defused_sent = \"{} . {} . {} .\".format(obj_dict[\"input\"][\"description\"], obj_dict[\"input\"][\"positive\"], \n",
    "                                                  obj_dict[\"input\"][\"negative\"])\n",
    "            tmp_dict = {\"translation\" : {}}\n",
    "            tmp_dict[\"translation\"][\"defused\"] = defused_sent\n",
    "            tmp_dict[\"translation\"][\"fused\"] = obj_dict[\"output\"][\"output\"]\n",
    "\n",
    "            out_f.write(json.dumps(tmp_dict)+\"\\n\")"
   ]
  },
  {
   "cell_type": "code",
   "execution_count": 41,
   "id": "61d89fc8",
   "metadata": {},
   "outputs": [],
   "source": [
    "for key, value in index_to_sent_dict.items():\n",
    "    if value is not None:\n",
    "            print(key)"
   ]
  },
  {
   "cell_type": "code",
   "execution_count": null,
   "id": "cc63e279",
   "metadata": {},
   "outputs": [],
   "source": []
  },
  {
   "cell_type": "markdown",
   "id": "1840ae9d",
   "metadata": {},
   "source": [
    "# Generating test dataset in new format for BART"
   ]
  },
  {
   "cell_type": "code",
   "execution_count": 44,
   "id": "f7f0dd82",
   "metadata": {},
   "outputs": [],
   "source": [
    "input_file = \"data/sentence_fusion/uncase/test_uncase_preprocessed.jsonl\"\n",
    "output_file = \"data/sentence_fusion/uncase/bart_translation/test_version_2.jsonl\""
   ]
  },
  {
   "cell_type": "code",
   "execution_count": 45,
   "id": "3cccb8bc",
   "metadata": {},
   "outputs": [],
   "source": [
    "with open(output_file, \"w\") as out_f:\n",
    "    with open(input_file, \"r\") as in_f:\n",
    "        for line in in_f:\n",
    "            obj_dict = json.loads(line)\n",
    "            \n",
    "            defused_sent = \"{} . {} . {} .\".format(obj_dict[\"input\"][\"description\"], obj_dict[\"input\"][\"positive\"], \n",
    "                                                  obj_dict[\"input\"][\"negative\"])\n",
    "            tmp_dict = {\"translation\" : {}}\n",
    "            tmp_dict[\"translation\"][\"defused\"] = defused_sent\n",
    "            tmp_dict[\"translation\"][\"fused\"] = obj_dict[\"outputs\"][0][\"output\"]\n",
    "\n",
    "            out_f.write(json.dumps(tmp_dict)+\"\\n\")"
   ]
  },
  {
   "cell_type": "code",
   "execution_count": null,
   "id": "e409bc6b",
   "metadata": {},
   "outputs": [],
   "source": []
  },
  {
   "cell_type": "markdown",
   "id": "c810c199",
   "metadata": {},
   "source": [
    "# Generate output file for evaluation containing model output and reference output."
   ]
  },
  {
   "cell_type": "code",
   "execution_count": 70,
   "id": "b05c4768",
   "metadata": {},
   "outputs": [],
   "source": [
    "import json\n",
    "import nltk"
   ]
  },
  {
   "cell_type": "code",
   "execution_count": 104,
   "id": "115e9694",
   "metadata": {},
   "outputs": [],
   "source": [
    "output_file = \"data/sentence_fusion/uncase/bart_translation/output_version_2.txt\"\n",
    "ref_file = \"data/sentence_fusion/uncase/test_uncase_preprocessed.jsonl\"\n",
    "input_file = \"data/sentence_fusion/uncase/bart_translation/test_version_2.json\"\n",
    "eval_file = \"data/sentence_fusion/uncase/bart_translation/eval_version_2.jsonl\""
   ]
  },
  {
   "cell_type": "code",
   "execution_count": 105,
   "id": "0f18853a",
   "metadata": {},
   "outputs": [],
   "source": [
    "with open(eval_file, \"w\") as eval_f:\n",
    "    with open(output_file, \"r\") as out_f:\n",
    "        with open(ref_file, \"r\") as ref_f:\n",
    "            with open(input_file, \"r\") as in_f:\n",
    "                for out_l, ref_l, in_l in zip(out_f, ref_f, in_f):\n",
    "                    tmp_dict = {}\n",
    "\n",
    "                    in_obj = json.loads(in_l)\n",
    "                    tmp_dict[\"input\"] = in_obj[\"translation\"][\"defused\"].strip()\n",
    "\n",
    "                    tmp_dict[\"output\"] = \" \".join(nltk.word_tokenize(out_l.strip()))\n",
    "\n",
    "                    ref_obj = json.loads(ref_l)\n",
    "                    ref_list = []\n",
    "\n",
    "                    for output in ref_obj[\"outputs\"]:\n",
    "                        ref_list.append(output[\"output\"].strip())\n",
    "                    tmp_dict[\"reference\"] = ref_list                \n",
    "                    \n",
    "                    eval_f.write(json.dumps(tmp_dict)+\"\\n\")"
   ]
  },
  {
   "cell_type": "code",
   "execution_count": null,
   "id": "a6cef5ed",
   "metadata": {},
   "outputs": [],
   "source": []
  },
  {
   "cell_type": "markdown",
   "id": "ab73bd51",
   "metadata": {},
   "source": [
    "# Proposed method for sentence fusion"
   ]
  },
  {
   "cell_type": "markdown",
   "id": "c925740f",
   "metadata": {},
   "source": [
    "# Dataset generation"
   ]
  },
  {
   "cell_type": "code",
   "execution_count": 2,
   "id": "238851af",
   "metadata": {},
   "outputs": [],
   "source": [
    "import json"
   ]
  },
  {
   "cell_type": "code",
   "execution_count": 12,
   "id": "25ccb767",
   "metadata": {},
   "outputs": [],
   "source": [
    "input_file = \"data/sentence_fusion/uncase/train_version_2.jsonl\"\n",
    "output_file = \"data/sentence_fusion/uncase/proposed_approach/train_version_2.jsonl\""
   ]
  },
  {
   "cell_type": "code",
   "execution_count": 13,
   "id": "cb480b38",
   "metadata": {},
   "outputs": [],
   "source": [
    "discourse_marker_dict = {}\n",
    "discourse_type_dict = {}\n",
    "discourse_marker_counter = 0\n",
    "discourse_type_counter = 0"
   ]
  },
  {
   "cell_type": "code",
   "execution_count": 14,
   "id": "8cdb4d90",
   "metadata": {},
   "outputs": [],
   "source": [
    "with open(output_file, \"w\") as out_f:\n",
    "    with open(input_file, \"r\") as in_f:\n",
    "        for line in in_f:\n",
    "            obj = json.loads(line)\n",
    "            \n",
    "            tmp_dict = {}\n",
    "            tmp_dict[\"input_text_1\"] = obj[\"input\"][\"description\"] + \" . \" + obj[\"input\"][\"positive\"]\n",
    "            tmp_dict[\"input_text_2\"] = obj[\"input\"][\"positive\"] + \" . \" + obj[\"input\"][\"negative\"]\n",
    "            tmp_dict[\"output\"] = obj[\"output\"][\"output\"]\n",
    "                        \n",
    "            if obj[\"output\"][\"discourse_phenomenon_1\"] not in discourse_type_dict:\n",
    "                discourse_type_dict[obj[\"output\"][\"discourse_phenomenon_1\"]] = discourse_type_counter\n",
    "                discourse_type_counter += 1\n",
    "\n",
    "            if obj[\"output\"][\"discourse_phenomenon_2\"] not in discourse_type_dict:\n",
    "                discourse_type_dict[obj[\"output\"][\"discourse_phenomenon_2\"]] = discourse_type_counter\n",
    "                discourse_type_counter += 1\n",
    "                \n",
    "            tmp_dict[\"discourse_type_1\"] = discourse_type_dict[obj[\"output\"][\"discourse_phenomenon_1\"]]\n",
    "            tmp_dict[\"discourse_type_2\"] = discourse_type_dict[obj[\"output\"][\"discourse_phenomenon_2\"]]\n",
    "            \n",
    "            if obj[\"output\"][\"discourse_marker_1\"] not in discourse_marker_dict:\n",
    "                discourse_marker_dict[obj[\"output\"][\"discourse_marker_1\"]] = discourse_marker_counter\n",
    "                discourse_marker_counter += 1\n",
    "\n",
    "            if obj[\"output\"][\"discourse_marker_2\"] not in discourse_marker_dict:\n",
    "                discourse_marker_dict[obj[\"output\"][\"discourse_marker_2\"]] = discourse_marker_counter\n",
    "                discourse_marker_counter += 1\n",
    "\n",
    "            tmp_dict[\"discourse_marker_1\"] = discourse_marker_dict[obj[\"output\"][\"discourse_marker_1\"]]\n",
    "            tmp_dict[\"discourse_marker_2\"] = discourse_marker_dict[obj[\"output\"][\"discourse_marker_2\"]]\n",
    "\n",
    "            out_f.write(json.dumps(tmp_dict) + \"\\n\")"
   ]
  },
  {
   "cell_type": "code",
   "execution_count": 18,
   "id": "98ae9098",
   "metadata": {},
   "outputs": [
    {
     "data": {
      "text/plain": [
       "{'PAIR_CONN_TENSE': 0,\n",
       " 'PAIR_CONN_ANAPHORA': 1,\n",
       " 'SINGLE_CONN_ANAPHORA': 2,\n",
       " 'PAIR_CONN_TENSE_ANAPHORA': 3,\n",
       " 'SINGLE_CONN_TENSE_ANAPHORA': 4,\n",
       " 'SINGLE_CONN_START_TENSE': 5,\n",
       " 'SINGLE_CONN_START_TENSE_ANAPHORA': 6,\n",
       " 'SINGLE_CONN_TENSE': 7,\n",
       " 'SINGLE_CONN_START_ANAPHORA': 8,\n",
       " 'PAIR_CONN': 9,\n",
       " 'SINGLE_CONN': 10,\n",
       " 'SINGLE_CONN_START': 11}"
      ]
     },
     "execution_count": 18,
     "metadata": {},
     "output_type": "execute_result"
    }
   ],
   "source": [
    "discourse_type_dict"
   ]
  },
  {
   "cell_type": "code",
   "execution_count": 19,
   "id": "0cecd8aa",
   "metadata": {},
   "outputs": [
    {
     "data": {
      "text/plain": [
       "{'none': 0,\n",
       " 'however ,': 1,\n",
       " 'although ,': 2,\n",
       " 'but': 3,\n",
       " 'yet ,': 4,\n",
       " ', although': 5,\n",
       " 'however': 6,\n",
       " 'although': 7,\n",
       " ', but': 8,\n",
       " ', yet': 9}"
      ]
     },
     "execution_count": 19,
     "metadata": {},
     "output_type": "execute_result"
    }
   ],
   "source": [
    "discourse_marker_dict"
   ]
  },
  {
   "cell_type": "code",
   "execution_count": 17,
   "id": "79b762a5",
   "metadata": {},
   "outputs": [],
   "source": [
    "config_file = \"data/sentence_fusion/uncase/proposed_approach/config.jsonl\""
   ]
  },
  {
   "cell_type": "code",
   "execution_count": 20,
   "id": "ed0fa226",
   "metadata": {},
   "outputs": [],
   "source": [
    "with open(config_file, \"w\") as config_f:\n",
    "    config_f.write(json.dumps({\"discourse_type\": discourse_type_dict, \"discourse_marker\": discourse_marker_dict}))"
   ]
  },
  {
   "cell_type": "code",
   "execution_count": null,
   "id": "57ceaece",
   "metadata": {},
   "outputs": [],
   "source": []
  },
  {
   "cell_type": "markdown",
   "id": "a71bf283",
   "metadata": {},
   "source": [
    "# Train dataset generation from v3_data"
   ]
  },
  {
   "cell_type": "code",
   "execution_count": 110,
   "id": "2e60c572",
   "metadata": {},
   "outputs": [],
   "source": [
    "import os, json"
   ]
  },
  {
   "cell_type": "code",
   "execution_count": 113,
   "id": "73b4c254",
   "metadata": {},
   "outputs": [],
   "source": [
    "input_dir = \"/home/saurabh/dir_1/shodh/Product-Comparison/data/v3_dataset/10_rule_based_dataset\"\n",
    "output_dir = \"/home/saurabh/dir_1/shodh/Product-Comparison/data/v3_dataset/11_rule_based_dataset\"\n",
    "train_file = \"data_v3.jsonl\""
   ]
  },
  {
   "cell_type": "code",
   "execution_count": 115,
   "id": "49a81a2e",
   "metadata": {},
   "outputs": [],
   "source": [
    "with open(os.path.join(output_dir, train_file), \"w\") as out_f:\n",
    "    for file in os.listdir(input_dir):\n",
    "        with open(os.path.join(input_dir, file), \"r\") as in_f:\n",
    "            for line in in_f:\n",
    "                data_dict = json.loads(line)\n",
    "                tmp_dict = {}\n",
    "                tmp_dict[\"input_text_1\"] = data_dict[\"title\"] + \" . \" + data_dict[\"positive\"]\n",
    "                tmp_dict[\"input_text_2\"] = data_dict[\"positive\"] + \" . \" + data_dict[\"negative\"]\n",
    "                tmp_dict[\"discourse_type_1\"] = 0\n",
    "                tmp_dict[\"discourse_type_2\"] = 1\n",
    "                tmp_dict[\"output\"] = data_dict[\"response\"]\n",
    "                out_f.write(json.dumps(tmp_dict)+\"\\n\")"
   ]
  },
  {
   "cell_type": "code",
   "execution_count": null,
   "id": "9c7da982",
   "metadata": {},
   "outputs": [],
   "source": []
  },
  {
   "cell_type": "markdown",
   "id": "a738af47",
   "metadata": {},
   "source": [
    "# Converting dataset into train and test split"
   ]
  },
  {
   "cell_type": "code",
   "execution_count": 127,
   "id": "a79cebb0",
   "metadata": {},
   "outputs": [],
   "source": [
    "from sklearn.model_selection import train_test_split\n",
    "import numpy as np\n"
   ]
  },
  {
   "cell_type": "code",
   "execution_count": 130,
   "id": "2484546c",
   "metadata": {},
   "outputs": [],
   "source": [
    "# input_file = \"/home/saurabh/dir_1/shodh/Product-Comparison/data/v3_dataset/11_rule_based_dataset/data_v3.jsonl\"\n",
    "# train_file = \"/home/saurabh/dir_1/shodh/Product-Comparison/data/v3_dataset/12_rule_based_dataset/train_v3.jsonl\"\n",
    "# test_file = \"/home/saurabh/dir_1/shodh/Product-Comparison/data/v3_dataset/12_rule_based_dataset/test_v3.jsonl\"\n",
    "input_file = \"/home/saurabh/dir_1/shodh/Product-Comparison/data/v3_dataset/11_rule_based_dataset/data_v3.jsonl\"\n",
    "train_file = \"/home/saurabh/dir_1/shodh/Product-Comparison/data/v3_dataset/12_rule_based_dataset/train_v3_50_percent.jsonl\"\n",
    "test_file = \"/home/saurabh/dir_1/shodh/Product-Comparison/data/v3_dataset/12_rule_based_dataset/test_v3_50_percent.jsonl\""
   ]
  },
  {
   "cell_type": "code",
   "execution_count": 131,
   "id": "d60d720f",
   "metadata": {},
   "outputs": [],
   "source": [
    "index_list = []\n",
    "counter = 0\n",
    "\n",
    "with open(input_file, \"r\") as in_f:\n",
    "    for line in in_f:\n",
    "        index_list.append(counter)\n",
    "        counter += 1\n",
    "        \n",
    "train_data, test_val_data = train_test_split(np.array(index_list), test_size=0.5, train_size=0.5)\n",
    "train_50, test_50 = train_test_split(train_data, test_size=0.1, train_size=0.9)"
   ]
  },
  {
   "cell_type": "code",
   "execution_count": 135,
   "id": "160342b3",
   "metadata": {},
   "outputs": [
    {
     "data": {
      "text/plain": [
       "'number of train instances: 46596, number of test instances: 5178'"
      ]
     },
     "execution_count": 135,
     "metadata": {},
     "output_type": "execute_result"
    }
   ],
   "source": [
    "\"number of train instances: {}, number of test instances: {}\".format(len(train_50), len(test_50))"
   ]
  },
  {
   "cell_type": "code",
   "execution_count": 137,
   "id": "a0c0c6b8",
   "metadata": {},
   "outputs": [],
   "source": [
    "counter = 0\n",
    "\n",
    "with open(train_file, \"w\") as train_f:\n",
    "    with open(test_file, \"w\") as test_f:\n",
    "        with open(input_file, \"r\") as in_f:\n",
    "            for line in in_f:\n",
    "                if counter in train_50:\n",
    "                    train_f.write(line)\n",
    "                elif counter in test_50:\n",
    "                    test_f.write(line)\n",
    "                counter += 1"
   ]
  },
  {
   "cell_type": "markdown",
   "id": "c88e2786",
   "metadata": {},
   "source": [
    "# Test dataset generation"
   ]
  },
  {
   "cell_type": "code",
   "execution_count": 9,
   "id": "04ced191",
   "metadata": {},
   "outputs": [],
   "source": [
    "import json"
   ]
  },
  {
   "cell_type": "code",
   "execution_count": 10,
   "id": "ee546fef",
   "metadata": {},
   "outputs": [],
   "source": [
    "input_file = \"data/sentence_fusion/uncase/test_uncase_preprocessed.jsonl\"\n",
    "output_file = \"data/sentence_fusion/uncase/proposed_approach/test_version_2.jsonl\"\n",
    "config_file = \"data/sentence_fusion/uncase/proposed_approach/config.jsonl\""
   ]
  },
  {
   "cell_type": "code",
   "execution_count": 11,
   "id": "95037688",
   "metadata": {},
   "outputs": [],
   "source": [
    "with open(config_file, \"r\") as in_f:\n",
    "    for line in in_f:\n",
    "        config_dict = json.loads(line)"
   ]
  },
  {
   "cell_type": "code",
   "execution_count": 12,
   "id": "45286641",
   "metadata": {},
   "outputs": [],
   "source": [
    "with open(output_file, \"w\") as out_f:\n",
    "    with open(input_file, \"r\") as in_f:\n",
    "        for line in in_f:\n",
    "            obj = json.loads(line)\n",
    "            \n",
    "            tmp_dict = {}\n",
    "            tmp_dict[\"input_text_1\"] = obj[\"input\"][\"description\"] + \" . \" + obj[\"input\"][\"positive\"]\n",
    "            tmp_dict[\"input_text_2\"] = obj[\"input\"][\"positive\"] + \" . \" + obj[\"input\"][\"negative\"]\n",
    "            tmp_dict[\"output\"] = obj[\"outputs\"][0][\"output\"]\n",
    "\n",
    "            tmp_dict[\"discourse_type_1\"] = config_dict[\"discourse_type\"][obj[\"outputs\"][0][\"discourse_phenomenon_1\"]]\n",
    "            tmp_dict[\"discourse_type_2\"] = config_dict[\"discourse_type\"][obj[\"outputs\"][0][\"discourse_phenomenon_2\"]]\n",
    "\n",
    "            tmp_dict[\"discourse_marker_1\"] = config_dict[\"discourse_marker\"][obj[\"outputs\"][0][\"discourse_marker_1\"]]\n",
    "            tmp_dict[\"discourse_marker_2\"] = config_dict[\"discourse_marker\"][obj[\"outputs\"][0][\"discourse_marker_2\"]]\n",
    "\n",
    "            out_f.write(json.dumps(tmp_dict) + \"\\n\")"
   ]
  },
  {
   "cell_type": "markdown",
   "id": "efcaf370",
   "metadata": {},
   "source": [
    "# Semantic Similarity variable name experiment"
   ]
  },
  {
   "cell_type": "code",
   "execution_count": 1,
   "id": "43534776",
   "metadata": {},
   "outputs": [],
   "source": [
    "name = \"bert/pooler/dense/bias:0\""
   ]
  },
  {
   "cell_type": "code",
   "execution_count": 2,
   "id": "c0cfec61",
   "metadata": {},
   "outputs": [],
   "source": [
    "import re"
   ]
  },
  {
   "cell_type": "code",
   "execution_count": 3,
   "id": "cb2e3c7f",
   "metadata": {},
   "outputs": [
    {
     "name": "stdout",
     "output_type": "stream",
     "text": [
      "bert/pooler/dense/bias\n"
     ]
    }
   ],
   "source": [
    "m = re.match(\"^(.*):\\\\d+$\", name)\n",
    "\n",
    "if m is not None:\n",
    "    print(m.group(1))"
   ]
  },
  {
   "cell_type": "markdown",
   "id": "9312c0e6",
   "metadata": {},
   "source": [
    "# Resolving name issue while loading pre-trained weights for sentence fusion task"
   ]
  },
  {
   "cell_type": "code",
   "execution_count": 2,
   "id": "419ec0c9",
   "metadata": {},
   "outputs": [],
   "source": [
    "var_name = \"bert/pooler/dense_1_1/kernel\"\n",
    "\n",
    "if \"bert/pooler/dense_1_1\" in var_name:\n",
    "    updated_var_name = var_name.replace(\"dense_1_1\", \"dense_1\")"
   ]
  },
  {
   "cell_type": "code",
   "execution_count": 4,
   "id": "cf3b7e31",
   "metadata": {},
   "outputs": [
    {
     "data": {
      "text/plain": [
       "'bert/pooler/dense_1/kernel'"
      ]
     },
     "execution_count": 4,
     "metadata": {},
     "output_type": "execute_result"
    }
   ],
   "source": [
    "updated_var_name"
   ]
  },
  {
   "cell_type": "code",
   "execution_count": 5,
   "id": "8026a3b2",
   "metadata": {},
   "outputs": [
    {
     "data": {
      "text/plain": [
       "'bert/pooler/dense_1_1/kernel'"
      ]
     },
     "execution_count": 5,
     "metadata": {},
     "output_type": "execute_result"
    }
   ],
   "source": [
    "var_name"
   ]
  },
  {
   "cell_type": "markdown",
   "id": "4691bb84",
   "metadata": {},
   "source": [
    "# Sentence fusion output unicode to text"
   ]
  },
  {
   "cell_type": "code",
   "execution_count": 6,
   "id": "50ddac14",
   "metadata": {},
   "outputs": [
    {
     "ename": "ModuleNotFoundError",
     "evalue": "No module named 'texar'",
     "output_type": "error",
     "traceback": [
      "\u001b[0;31m---------------------------------------------------------------------------\u001b[0m",
      "\u001b[0;31mModuleNotFoundError\u001b[0m                       Traceback (most recent call last)",
      "\u001b[0;32m<ipython-input-6-b1665e69e73a>\u001b[0m in \u001b[0;36m<module>\u001b[0;34m\u001b[0m\n\u001b[1;32m      1\u001b[0m \u001b[0;32mimport\u001b[0m \u001b[0mjson\u001b[0m\u001b[0;34m,\u001b[0m \u001b[0msys\u001b[0m\u001b[0;34m\u001b[0m\u001b[0;34m\u001b[0m\u001b[0m\n\u001b[1;32m      2\u001b[0m \u001b[0;34m\u001b[0m\u001b[0m\n\u001b[0;32m----> 3\u001b[0;31m \u001b[0;32mimport\u001b[0m \u001b[0mtexar\u001b[0m\u001b[0;34m\u001b[0m\u001b[0;34m\u001b[0m\u001b[0m\n\u001b[0m\u001b[1;32m      4\u001b[0m \u001b[0;34m\u001b[0m\u001b[0m\n\u001b[1;32m      5\u001b[0m \u001b[0;34m\u001b[0m\u001b[0m\n",
      "\u001b[0;31mModuleNotFoundError\u001b[0m: No module named 'texar'"
     ]
    }
   ],
   "source": [
    "import json, sys\n",
    "\n",
    "import texar\n",
    "\n",
    "\n",
    "#from examples.bert.utils import tokenization"
   ]
  },
  {
   "cell_type": "code",
   "execution_count": 2,
   "id": "3bd41468",
   "metadata": {},
   "outputs": [],
   "source": [
    "input_file = \"/home/saurabh/dir_1/shodh/SentenceFusion/models/AuxBert/amazon/prediction_output.jsonl\"\n",
    "output_file = \"/home/saurabh/dir_1/shodh/SentenceFusion/models/AuxBert/amazon/prediction_output_text.jsonl\"\n",
    "vocab_file = \"uncased_L-12_H-768_A-12/vocab.txt\""
   ]
  },
  {
   "cell_type": "code",
   "execution_count": 3,
   "id": "27dbb63e",
   "metadata": {},
   "outputs": [
    {
     "ename": "NameError",
     "evalue": "name 'tokenization' is not defined",
     "output_type": "error",
     "traceback": [
      "\u001b[0;31m---------------------------------------------------------------------------\u001b[0m",
      "\u001b[0;31mNameError\u001b[0m                                 Traceback (most recent call last)",
      "\u001b[0;32m<ipython-input-3-b480d775b764>\u001b[0m in \u001b[0;36m<module>\u001b[0;34m\u001b[0m\n\u001b[0;32m----> 1\u001b[0;31m \u001b[0mtokenizer\u001b[0m \u001b[0;34m=\u001b[0m \u001b[0mtokenization\u001b[0m\u001b[0;34m.\u001b[0m\u001b[0mFullTokenizer\u001b[0m\u001b[0;34m(\u001b[0m\u001b[0mvocab_file\u001b[0m\u001b[0;34m=\u001b[0m\u001b[0mvocab_file\u001b[0m\u001b[0;34m,\u001b[0m \u001b[0mdo_lower_case\u001b[0m\u001b[0;34m=\u001b[0m\u001b[0;32mTrue\u001b[0m\u001b[0;34m)\u001b[0m\u001b[0;34m\u001b[0m\u001b[0;34m\u001b[0m\u001b[0m\n\u001b[0m",
      "\u001b[0;31mNameError\u001b[0m: name 'tokenization' is not defined"
     ]
    }
   ],
   "source": [
    "tokenizer = tokenization.FullTokenizer(vocab_file=vocab_file, do_lower_case=True)"
   ]
  },
  {
   "cell_type": "code",
   "execution_count": null,
   "id": "5728ef44",
   "metadata": {},
   "outputs": [],
   "source": [
    "with open(output_file, \"w\") as out_f:\n",
    "    with open(input_file, \"r\") as in_f:\n",
    "        for line in in_f:\n",
    "            obj_dict = json.loads(line)\n",
    "            \n",
    "            for i in range(len(obj_dict['hypothesis'])):\n",
    "                tmp_dict = {}\n",
    "                tmp_dict[\"hypothesis\"] = tokenizer.convert_ids_to_tokens(obj_dict['hypothesis'][i])\n",
    "                tmp_dict[\"reference\"] = tokenizer.convert_ids_to_tokens(obj_dict['references'][i])\n",
    "                \n",
    "                out_f.write(json.dumps(tmp_dict) + \"\\n\")"
   ]
  },
  {
   "cell_type": "markdown",
   "id": "feb5ab78",
   "metadata": {},
   "source": [
    "# Tensorboard summary"
   ]
  },
  {
   "cell_type": "code",
   "execution_count": 4,
   "id": "b4047d49",
   "metadata": {},
   "outputs": [],
   "source": [
    "%load_ext tensorboard"
   ]
  },
  {
   "cell_type": "code",
   "execution_count": 5,
   "id": "03e3ef6d",
   "metadata": {},
   "outputs": [
    {
     "data": {
      "text/plain": [
       "ERROR: Could not find `tensorboard`. Please ensure that your PATH\n",
       "contains an executable `tensorboard` program, or explicitly specify\n",
       "the path to a TensorBoard binary by setting the `TENSORBOARD_BINARY`\n",
       "environment variable."
      ]
     },
     "metadata": {},
     "output_type": "display_data"
    }
   ],
   "source": [
    "%tensorboard --logdir \"/home/saurabh/dir_1/shodh/SentenceFusion/models/AuxBert/amazon/\""
   ]
  },
  {
   "cell_type": "markdown",
   "id": "a4df320d",
   "metadata": {},
   "source": [
    "# Train dataset exploration for proposed approach"
   ]
  },
  {
   "cell_type": "code",
   "execution_count": 7,
   "id": "8c36cc7a",
   "metadata": {},
   "outputs": [],
   "source": [
    "import json"
   ]
  },
  {
   "cell_type": "code",
   "execution_count": 8,
   "id": "4e3adf29",
   "metadata": {},
   "outputs": [],
   "source": [
    "input_file = \"/home/saurabh/dir_1/shodh/Product-Comparison/data/sentence_fusion/uncase/proposed_approach/train_version_2.jsonl\""
   ]
  },
  {
   "cell_type": "code",
   "execution_count": 17,
   "id": "2001de69",
   "metadata": {},
   "outputs": [],
   "source": [
    "config_dict = {}\n",
    "with open(input_file, \"r\") as in_f:\n",
    "    for line in in_f:\n",
    "        dict_obj = json.loads(line)\n",
    "        for key in dict_obj.keys():\n",
    "            if key in config_dict:\n",
    "                if dict_obj[key] in config_dict[key]:\n",
    "                    config_dict[key][dict_obj[key]] += 1\n",
    "                else:\n",
    "                    config_dict[key][dict_obj[key]] = 1\n",
    "            else:\n",
    "                config_dict[key] = {dict_obj[key]: 1}\n",
    "                \n",
    "del config_dict[\"input_text_1\"]\n",
    "del config_dict[\"input_text_2\"]\n",
    "del config_dict[\"output\"]"
   ]
  },
  {
   "cell_type": "code",
   "execution_count": 18,
   "id": "4d287696",
   "metadata": {},
   "outputs": [
    {
     "data": {
      "text/plain": [
       "{'discourse_type_1': {0: 77,\n",
       "  5: 5,\n",
       "  1: 137,\n",
       "  8: 12,\n",
       "  3: 192,\n",
       "  6: 18,\n",
       "  9: 392,\n",
       "  11: 37},\n",
       " 'discourse_type_2': {1: 58,\n",
       "  2: 80,\n",
       "  3: 70,\n",
       "  4: 96,\n",
       "  6: 15,\n",
       "  0: 72,\n",
       "  7: 100,\n",
       "  5: 16,\n",
       "  8: 11,\n",
       "  9: 134,\n",
       "  10: 188,\n",
       "  11: 30},\n",
       " 'discourse_marker_1': {0: 798, 7: 72},\n",
       " 'discourse_marker_2': {1: 86,\n",
       "  2: 84,\n",
       "  3: 156,\n",
       "  4: 82,\n",
       "  5: 81,\n",
       "  6: 81,\n",
       "  7: 79,\n",
       "  8: 76,\n",
       "  9: 73,\n",
       "  0: 72}}"
      ]
     },
     "execution_count": 18,
     "metadata": {},
     "output_type": "execute_result"
    }
   ],
   "source": [
    "config_dict"
   ]
  },
  {
   "cell_type": "markdown",
   "id": "8aad8bd6",
   "metadata": {},
   "source": [
    "# V3 dataset creation"
   ]
  },
  {
   "cell_type": "code",
   "execution_count": 1,
   "id": "0c3ba25b",
   "metadata": {},
   "outputs": [
    {
     "data": {
      "text/plain": [
       "'\\nIn V3 I keep only one discourse marker, i.e. however.\\nI have included more dataset.\\n'"
      ]
     },
     "execution_count": 1,
     "metadata": {},
     "output_type": "execute_result"
    }
   ],
   "source": [
    "\"\"\"\n",
    "In V3 I keep only one discourse marker, i.e. however.\n",
    "I have included more dataset.\n",
    "\"\"\""
   ]
  },
  {
   "cell_type": "markdown",
   "id": "7e5405b9",
   "metadata": {},
   "source": [
    "# Generate input dataset for EDUs "
   ]
  },
  {
   "cell_type": "code",
   "execution_count": 9,
   "id": "42ff502f",
   "metadata": {},
   "outputs": [],
   "source": [
    "import os, json"
   ]
  },
  {
   "cell_type": "code",
   "execution_count": 10,
   "id": "1ac77f51",
   "metadata": {},
   "outputs": [],
   "source": [
    "input_dir = \"/home/saurabh/dir_1/reviews_summarization/dataset\"\n",
    "output_dir = \"/home/saurabh/dir_1/shodh/Product-Comparison/data/v3_dataset/raw_dataset\""
   ]
  },
  {
   "cell_type": "code",
   "execution_count": 11,
   "id": "66ef5f38",
   "metadata": {},
   "outputs": [],
   "source": [
    "for file_name in os.listdir(input_dir):\n",
    "    input_file = os.path.join(input_dir, file_name)\n",
    "    output_file = os.path.join(output_dir, file_name.split(\".\")[0]+\".txt\")\n",
    "    \n",
    "    with open(input_file, \"r\") as in_f:\n",
    "        with open(output_file, \"w\") as out_f:\n",
    "            for line in in_f:\n",
    "                review = json.loads(line)[\"review\"].strip()\n",
    "                if len(review.split()) > 2 and \"</a>\" not in review and \"</div>\" not in review and \"<input\" not in review:\n",
    "                    out_f.write(review+\"\\n\\n\")"
   ]
  },
  {
   "cell_type": "markdown",
   "id": "cac63ec1",
   "metadata": {},
   "source": [
    "# Script to execute EDU program inside docker"
   ]
  },
  {
   "cell_type": "code",
   "execution_count": 15,
   "id": "f7c6f207",
   "metadata": {},
   "outputs": [],
   "source": [
    "import os"
   ]
  },
  {
   "cell_type": "code",
   "execution_count": 16,
   "id": "ec98b33b",
   "metadata": {},
   "outputs": [],
   "source": [
    "input_dir = \"/opt/feng-hirst-rst-parser/texts/raw_dataset\"\n",
    "output_dir = \"/opt/feng-hirst-rst-parser/texts/raw_dataset_output\""
   ]
  },
  {
   "cell_type": "code",
   "execution_count": 17,
   "id": "3ac76588",
   "metadata": {},
   "outputs": [
    {
     "ename": "FileNotFoundError",
     "evalue": "[Errno 2] No such file or directory: '/opt/feng-hirst-rst-parser/texts/raw_dataset'",
     "output_type": "error",
     "traceback": [
      "\u001b[0;31m---------------------------------------------------------------------------\u001b[0m",
      "\u001b[0;31mFileNotFoundError\u001b[0m                         Traceback (most recent call last)",
      "\u001b[0;32m<ipython-input-17-283882f1a6b0>\u001b[0m in \u001b[0;36m<module>\u001b[0;34m\u001b[0m\n\u001b[0;32m----> 1\u001b[0;31m \u001b[0;32mfor\u001b[0m \u001b[0mfile_name\u001b[0m \u001b[0;32min\u001b[0m \u001b[0mos\u001b[0m\u001b[0;34m.\u001b[0m\u001b[0mlistdir\u001b[0m\u001b[0;34m(\u001b[0m\u001b[0minput_dir\u001b[0m\u001b[0;34m)\u001b[0m\u001b[0;34m:\u001b[0m\u001b[0;34m\u001b[0m\u001b[0;34m\u001b[0m\u001b[0m\n\u001b[0m\u001b[1;32m      2\u001b[0m     \u001b[0minput_file\u001b[0m \u001b[0;34m=\u001b[0m \u001b[0mos\u001b[0m\u001b[0;34m.\u001b[0m\u001b[0mpath\u001b[0m\u001b[0;34m.\u001b[0m\u001b[0mjoin\u001b[0m\u001b[0;34m(\u001b[0m\u001b[0minput_dir\u001b[0m\u001b[0;34m,\u001b[0m \u001b[0mfile_name\u001b[0m\u001b[0;34m)\u001b[0m\u001b[0;34m\u001b[0m\u001b[0;34m\u001b[0m\u001b[0m\n\u001b[1;32m      3\u001b[0m     \u001b[0mcmd\u001b[0m \u001b[0;34m=\u001b[0m \u001b[0;34m\"python parse.py {} --skip_parsing --output_dir {}\"\u001b[0m\u001b[0;34m.\u001b[0m\u001b[0mformat\u001b[0m\u001b[0;34m(\u001b[0m\u001b[0minput_file\u001b[0m\u001b[0;34m,\u001b[0m \u001b[0moutput_dir\u001b[0m\u001b[0;34m)\u001b[0m\u001b[0;34m\u001b[0m\u001b[0;34m\u001b[0m\u001b[0m\n\u001b[1;32m      4\u001b[0m     \u001b[0mos\u001b[0m\u001b[0;34m.\u001b[0m\u001b[0msystem\u001b[0m\u001b[0;34m(\u001b[0m\u001b[0mcmd\u001b[0m\u001b[0;34m)\u001b[0m\u001b[0;34m\u001b[0m\u001b[0;34m\u001b[0m\u001b[0m\n",
      "\u001b[0;31mFileNotFoundError\u001b[0m: [Errno 2] No such file or directory: '/opt/feng-hirst-rst-parser/texts/raw_dataset'"
     ]
    }
   ],
   "source": [
    "for file_name in os.listdir(input_dir):\n",
    "    input_file = os.path.join(input_dir, file_name)\n",
    "    cmd = \"python parse.py {} --skip_parsing --output_dir {}\".format(input_file, output_dir)\n",
    "    os.system(cmd)"
   ]
  },
  {
   "cell_type": "code",
   "execution_count": 1,
   "id": "fc3259a2",
   "metadata": {},
   "outputs": [
    {
     "ename": "AttributeError",
     "evalue": "'list' object has no attribute 'items'",
     "output_type": "error",
     "traceback": [
      "\u001b[0;31m---------------------------------------------------------------------------\u001b[0m",
      "\u001b[0;31mAttributeError\u001b[0m                            Traceback (most recent call last)",
      "\u001b[0;32m<ipython-input-1-48776922130d>\u001b[0m in \u001b[0;36m<module>\u001b[0;34m\u001b[0m\n\u001b[1;32m      1\u001b[0m \u001b[0mlist_\u001b[0m \u001b[0;34m=\u001b[0m \u001b[0;34m[\u001b[0m\u001b[0;36m1\u001b[0m\u001b[0;34m,\u001b[0m \u001b[0;36m2\u001b[0m\u001b[0;34m,\u001b[0m \u001b[0;36m3\u001b[0m\u001b[0;34m,\u001b[0m \u001b[0;36m4\u001b[0m\u001b[0;34m,\u001b[0m \u001b[0;36m5\u001b[0m\u001b[0;34m]\u001b[0m\u001b[0;34m\u001b[0m\u001b[0;34m\u001b[0m\u001b[0m\n\u001b[1;32m      2\u001b[0m \u001b[0;34m\u001b[0m\u001b[0m\n\u001b[0;32m----> 3\u001b[0;31m \u001b[0;32mfor\u001b[0m \u001b[0mkey\u001b[0m\u001b[0;34m,\u001b[0m \u001b[0mval\u001b[0m \u001b[0;32min\u001b[0m \u001b[0mlist_\u001b[0m\u001b[0;34m.\u001b[0m\u001b[0mitems\u001b[0m\u001b[0;34m(\u001b[0m\u001b[0;34m)\u001b[0m\u001b[0;34m:\u001b[0m\u001b[0;34m\u001b[0m\u001b[0;34m\u001b[0m\u001b[0m\n\u001b[0m\u001b[1;32m      4\u001b[0m     \u001b[0mprint\u001b[0m\u001b[0;34m(\u001b[0m\u001b[0mkey\u001b[0m\u001b[0;34m)\u001b[0m\u001b[0;34m\u001b[0m\u001b[0;34m\u001b[0m\u001b[0m\n\u001b[1;32m      5\u001b[0m     \u001b[0mprint\u001b[0m\u001b[0;34m(\u001b[0m\u001b[0mval\u001b[0m\u001b[0;34m)\u001b[0m\u001b[0;34m\u001b[0m\u001b[0;34m\u001b[0m\u001b[0m\n",
      "\u001b[0;31mAttributeError\u001b[0m: 'list' object has no attribute 'items'"
     ]
    }
   ],
   "source": [
    "list_ = [1, 2, 3, 4, 5]\n",
    "\n",
    "for key, val in list_.items():\n",
    "    print(key)\n",
    "    print(val)"
   ]
  },
  {
   "cell_type": "markdown",
   "id": "928f1baa",
   "metadata": {},
   "source": [
    "# Extracting title from asin"
   ]
  },
  {
   "cell_type": "code",
   "execution_count": 11,
   "id": "7d325f16",
   "metadata": {},
   "outputs": [],
   "source": [
    "import os, json"
   ]
  },
  {
   "cell_type": "code",
   "execution_count": 16,
   "id": "f07e7a36",
   "metadata": {},
   "outputs": [],
   "source": [
    "input_dir = \"/home/saurabh/dir_1/shodh/Product-Comparison/data/v3_dataset/segment_polarity_4\"\n",
    "input_file = \"/data/saurabh/filtered_meta_Electronics.json\"\n",
    "output_file = \"/home/saurabh/dir_1/shodh/Product-Comparison/data/v3_dataset/title.json\""
   ]
  },
  {
   "cell_type": "code",
   "execution_count": 5,
   "id": "09b4655a",
   "metadata": {},
   "outputs": [],
   "source": [
    "asin_set = set()\n",
    "\n",
    "for file in os.listdir(input_dir):\n",
    "    asin_set.add(file.split(\".\", maxsplit=1)[0].strip())"
   ]
  },
  {
   "cell_type": "code",
   "execution_count": 12,
   "id": "175b352c",
   "metadata": {},
   "outputs": [],
   "source": [
    "title_dict = {}"
   ]
  },
  {
   "cell_type": "code",
   "execution_count": 13,
   "id": "f6599fc8",
   "metadata": {},
   "outputs": [],
   "source": [
    "with open(input_file, \"r\") as in_f:\n",
    "    for line in in_f:\n",
    "        tmp_dict = json.loads(line)\n",
    "        \n",
    "        if tmp_dict[\"asin\"].lower().strip() in asin_set:\n",
    "            title_dict[tmp_dict[\"asin\"].lower().strip()] = tmp_dict[\"title\"]"
   ]
  },
  {
   "cell_type": "code",
   "execution_count": 17,
   "id": "1e769d3c",
   "metadata": {},
   "outputs": [],
   "source": [
    "with open(output_file, \"w\") as out_f:\n",
    "    out_f.write(json.dumps(title_dict))"
   ]
  },
  {
   "cell_type": "code",
   "execution_count": null,
   "id": "ad9ca168",
   "metadata": {},
   "outputs": [],
   "source": []
  },
  {
   "cell_type": "markdown",
   "id": "b7857258",
   "metadata": {},
   "source": [
    "# Computes perplexity of a sentence"
   ]
  },
  {
   "cell_type": "code",
   "execution_count": 3,
   "id": "c64c6703",
   "metadata": {},
   "outputs": [
    {
     "name": "stderr",
     "output_type": "stream",
     "text": [
      "Some weights of the model checkpoint at bert-base-uncased were not used when initializing BertForMaskedLM: ['cls.seq_relationship.bias', 'cls.seq_relationship.weight']\n",
      "- This IS expected if you are initializing BertForMaskedLM from the checkpoint of a model trained on another task or with another architecture (e.g. initializing a BertForSequenceClassification model from a BertForPreTraining model).\n",
      "- This IS NOT expected if you are initializing BertForMaskedLM from the checkpoint of a model that you expect to be exactly identical (initializing a BertForSequenceClassification model from a BertForSequenceClassification model).\n"
     ]
    }
   ],
   "source": [
    "import sys\n",
    "import numpy as np\n",
    " \n",
    "import torch\n",
    "from transformers import BertTokenizer,BertForMaskedLM\n",
    "# Load pre-trained model (weights)\n",
    "with torch.no_grad():\n",
    "    model = BertForMaskedLM.from_pretrained('bert-base-uncased')\n",
    "    model.eval()\n",
    "    # Load pre-trained model tokenizer (vocabulary)\n",
    "    tokenizer = BertTokenizer.from_pretrained('bert-base-uncased')\n",
    "\n",
    "# def score(sentence):\n",
    "#     tokenize_input = tokenizer.tokenize(sentence)\n",
    "#     tokenize_input = [\"[CLS]\"]+tokenize_input+[\"[SEP]\"]\n",
    "    \n",
    "#     tensor_input = torch.tensor([tokenizer.convert_tokens_to_ids(tokenize_input)])\n",
    "    \n",
    "#     with torch.no_grad():\n",
    "#         loss=model(tensor_input)[0]\n",
    "    \n",
    "#     return np.exp(loss.detach().numpy())"
   ]
  },
  {
   "cell_type": "code",
   "execution_count": 10,
   "id": "7f7116ce",
   "metadata": {},
   "outputs": [
    {
     "ename": "AttributeError",
     "evalue": "'MaskedLMOutput' object has no attribute 'squeeze'",
     "output_type": "error",
     "traceback": [
      "\u001b[0;31m---------------------------------------------------------------------------\u001b[0m",
      "\u001b[0;31mAttributeError\u001b[0m                            Traceback (most recent call last)",
      "\u001b[0;32m<ipython-input-10-c39bc7f7fef6>\u001b[0m in \u001b[0;36m<module>\u001b[0;34m\u001b[0m\n\u001b[0;32m----> 1\u001b[0;31m \u001b[0moutput\u001b[0m \u001b[0;34m=\u001b[0m \u001b[0mget_score\u001b[0m\u001b[0;34m(\u001b[0m\u001b[0;34m\"this product does not\"\u001b[0m\u001b[0;34m)\u001b[0m\u001b[0;34m\u001b[0m\u001b[0;34m\u001b[0m\u001b[0m\n\u001b[0m",
      "\u001b[0;32m<ipython-input-9-b5fad1dfee6c>\u001b[0m in \u001b[0;36mget_score\u001b[0;34m(sentence)\u001b[0m\n\u001b[1;32m      4\u001b[0m     \u001b[0mpredictions\u001b[0m\u001b[0;34m=\u001b[0m\u001b[0mmodel\u001b[0m\u001b[0;34m(\u001b[0m\u001b[0mtensor_input\u001b[0m\u001b[0;34m)\u001b[0m\u001b[0;34m\u001b[0m\u001b[0;34m\u001b[0m\u001b[0m\n\u001b[1;32m      5\u001b[0m     \u001b[0mloss_fct\u001b[0m \u001b[0;34m=\u001b[0m \u001b[0mtorch\u001b[0m\u001b[0;34m.\u001b[0m\u001b[0mnn\u001b[0m\u001b[0;34m.\u001b[0m\u001b[0mCrossEntropyLoss\u001b[0m\u001b[0;34m(\u001b[0m\u001b[0;34m)\u001b[0m\u001b[0;34m\u001b[0m\u001b[0;34m\u001b[0m\u001b[0m\n\u001b[0;32m----> 6\u001b[0;31m     \u001b[0mloss\u001b[0m \u001b[0;34m=\u001b[0m \u001b[0mloss_fct\u001b[0m\u001b[0;34m(\u001b[0m\u001b[0mpredictions\u001b[0m\u001b[0;34m.\u001b[0m\u001b[0msqueeze\u001b[0m\u001b[0;34m(\u001b[0m\u001b[0;34m)\u001b[0m\u001b[0;34m,\u001b[0m\u001b[0mtensor_input\u001b[0m\u001b[0;34m.\u001b[0m\u001b[0msqueeze\u001b[0m\u001b[0;34m(\u001b[0m\u001b[0;34m)\u001b[0m\u001b[0;34m)\u001b[0m\u001b[0;34m.\u001b[0m\u001b[0mdata\u001b[0m\u001b[0;34m\u001b[0m\u001b[0;34m\u001b[0m\u001b[0m\n\u001b[0m\u001b[1;32m      7\u001b[0m     \u001b[0;32mreturn\u001b[0m \u001b[0mmath\u001b[0m\u001b[0;34m.\u001b[0m\u001b[0mexp\u001b[0m\u001b[0;34m(\u001b[0m\u001b[0mloss\u001b[0m\u001b[0;34m)\u001b[0m\u001b[0;34m\u001b[0m\u001b[0;34m\u001b[0m\u001b[0m\n",
      "\u001b[0;31mAttributeError\u001b[0m: 'MaskedLMOutput' object has no attribute 'squeeze'"
     ]
    }
   ],
   "source": [
    "output = get_score(\"this product does not\")"
   ]
  },
  {
   "cell_type": "code",
   "execution_count": 9,
   "id": "88f344d1",
   "metadata": {},
   "outputs": [],
   "source": [
    "def get_score(sentence):\n",
    "    tokenize_input = tokenizer.tokenize(sentence)\n",
    "    tensor_input = torch.tensor([tokenizer.convert_tokens_to_ids(tokenize_input)])\n",
    "    predictions=model(tensor_input)\n",
    "    loss_fct = torch.nn.CrossEntropyLoss()\n",
    "    loss = loss_fct(predictions.squeeze(), tensor_input.squeeze()).data \n",
    "    return math.exp(loss)"
   ]
  },
  {
   "cell_type": "code",
   "execution_count": 23,
   "id": "8356e7f2",
   "metadata": {},
   "outputs": [],
   "source": [
    "sentence = \"this product does not\"\n",
    "\n",
    "tokenize_input = tokenizer.tokenize(sentence)\n",
    "tensor_input = torch.tensor([tokenizer.convert_tokens_to_ids(tokenize_input)])\n",
    "predictions = model(tensor_input, tensor_input)\n"
   ]
  },
  {
   "cell_type": "code",
   "execution_count": 24,
   "id": "c0ff0ba4",
   "metadata": {},
   "outputs": [
    {
     "data": {
      "text/plain": [
       "MaskedLMOutput(loss=None, logits=tensor([[[-12.6557, -12.5422, -12.5032,  ..., -10.9540,  -9.2345, -10.8326],\n",
       "         [-13.0594, -12.9534, -12.9172,  ..., -11.3452,  -9.6921, -11.1639],\n",
       "         [-12.8771, -12.7727, -12.7424,  ..., -11.1825,  -9.5238, -11.2488],\n",
       "         [-12.6930, -12.5664, -12.5137,  ..., -11.0174,  -9.2706, -10.9725]]],\n",
       "       grad_fn=<AddBackward0>), hidden_states=None, attentions=None)"
      ]
     },
     "execution_count": 24,
     "metadata": {},
     "output_type": "execute_result"
    }
   ],
   "source": [
    "predictions"
   ]
  },
  {
   "cell_type": "code",
   "execution_count": null,
   "id": "821f7b6d",
   "metadata": {},
   "outputs": [],
   "source": []
  },
  {
   "cell_type": "markdown",
   "id": "47f42582",
   "metadata": {},
   "source": [
    "# Code to detect incomplete sentences"
   ]
  },
  {
   "cell_type": "code",
   "execution_count": 26,
   "id": "8a3ab925",
   "metadata": {},
   "outputs": [],
   "source": [
    "import spacy\n",
    "from spacy.symbols import PRON, PROPN, NOUN, AUX, VERB"
   ]
  },
  {
   "cell_type": "code",
   "execution_count": 28,
   "id": "e95ac51f",
   "metadata": {},
   "outputs": [
    {
     "name": "stdout",
     "output_type": "stream",
     "text": [
      "Collecting en-core-web-sm==3.1.0\n",
      "  Downloading https://github.com/explosion/spacy-models/releases/download/en_core_web_sm-3.1.0/en_core_web_sm-3.1.0-py3-none-any.whl (13.6 MB)\n",
      "\u001b[K     |████████████████████████████████| 13.6 MB 13.0 MB/s eta 0:00:01    |▋                               | 276 kB 13.0 MB/s eta 0:00:02     |█████████████████████▏          | 9.0 MB 13.0 MB/s eta 0:00:01\n",
      "\u001b[?25hRequirement already satisfied: spacy<3.2.0,>=3.1.0 in /home/saurabh/venvs/general_env/lib/python3.6/site-packages (from en-core-web-sm==3.1.0) (3.1.1)\n",
      "Requirement already satisfied: typer<0.4.0,>=0.3.0 in /home/saurabh/venvs/general_env/lib/python3.6/site-packages (from spacy<3.2.0,>=3.1.0->en-core-web-sm==3.1.0) (0.3.2)\n",
      "Requirement already satisfied: pathy>=0.3.5 in /home/saurabh/venvs/general_env/lib/python3.6/site-packages (from spacy<3.2.0,>=3.1.0->en-core-web-sm==3.1.0) (0.6.0)\n",
      "Requirement already satisfied: requests<3.0.0,>=2.13.0 in /home/saurabh/venvs/general_env/lib/python3.6/site-packages (from spacy<3.2.0,>=3.1.0->en-core-web-sm==3.1.0) (2.25.1)\n",
      "Requirement already satisfied: jinja2 in /home/saurabh/venvs/general_env/lib/python3.6/site-packages (from spacy<3.2.0,>=3.1.0->en-core-web-sm==3.1.0) (3.0.1)\n",
      "Requirement already satisfied: thinc<8.1.0,>=8.0.8 in /home/saurabh/venvs/general_env/lib/python3.6/site-packages (from spacy<3.2.0,>=3.1.0->en-core-web-sm==3.1.0) (8.0.8)\n",
      "Requirement already satisfied: srsly<3.0.0,>=2.4.1 in /home/saurabh/venvs/general_env/lib/python3.6/site-packages (from spacy<3.2.0,>=3.1.0->en-core-web-sm==3.1.0) (2.4.1)\n",
      "Requirement already satisfied: blis<0.8.0,>=0.4.0 in /home/saurabh/venvs/general_env/lib/python3.6/site-packages (from spacy<3.2.0,>=3.1.0->en-core-web-sm==3.1.0) (0.7.4)\n",
      "Requirement already satisfied: murmurhash<1.1.0,>=0.28.0 in /home/saurabh/venvs/general_env/lib/python3.6/site-packages (from spacy<3.2.0,>=3.1.0->en-core-web-sm==3.1.0) (1.0.5)\n",
      "Requirement already satisfied: catalogue<2.1.0,>=2.0.4 in /home/saurabh/venvs/general_env/lib/python3.6/site-packages (from spacy<3.2.0,>=3.1.0->en-core-web-sm==3.1.0) (2.0.5)\n",
      "Requirement already satisfied: pydantic!=1.8,!=1.8.1,<1.9.0,>=1.7.4 in /home/saurabh/venvs/general_env/lib/python3.6/site-packages (from spacy<3.2.0,>=3.1.0->en-core-web-sm==3.1.0) (1.8.2)\n",
      "Requirement already satisfied: setuptools in /home/saurabh/venvs/general_env/lib/python3.6/site-packages (from spacy<3.2.0,>=3.1.0->en-core-web-sm==3.1.0) (57.2.0)\n",
      "Requirement already satisfied: packaging>=20.0 in /home/saurabh/venvs/general_env/lib/python3.6/site-packages (from spacy<3.2.0,>=3.1.0->en-core-web-sm==3.1.0) (20.9)\n",
      "Requirement already satisfied: spacy-legacy<3.1.0,>=3.0.7 in /home/saurabh/venvs/general_env/lib/python3.6/site-packages (from spacy<3.2.0,>=3.1.0->en-core-web-sm==3.1.0) (3.0.8)\n",
      "Requirement already satisfied: tqdm<5.0.0,>=4.38.0 in /home/saurabh/venvs/general_env/lib/python3.6/site-packages (from spacy<3.2.0,>=3.1.0->en-core-web-sm==3.1.0) (4.62.2)\n",
      "Requirement already satisfied: cymem<2.1.0,>=2.0.2 in /home/saurabh/venvs/general_env/lib/python3.6/site-packages (from spacy<3.2.0,>=3.1.0->en-core-web-sm==3.1.0) (2.0.5)\n",
      "Requirement already satisfied: wasabi<1.1.0,>=0.8.1 in /home/saurabh/venvs/general_env/lib/python3.6/site-packages (from spacy<3.2.0,>=3.1.0->en-core-web-sm==3.1.0) (0.8.2)\n",
      "Requirement already satisfied: preshed<3.1.0,>=3.0.2 in /home/saurabh/venvs/general_env/lib/python3.6/site-packages (from spacy<3.2.0,>=3.1.0->en-core-web-sm==3.1.0) (3.0.5)\n",
      "Requirement already satisfied: numpy>=1.15.0 in /home/saurabh/venvs/general_env/lib/python3.6/site-packages (from spacy<3.2.0,>=3.1.0->en-core-web-sm==3.1.0) (1.19.5)\n",
      "Requirement already satisfied: typing-extensions<4.0.0.0,>=3.7.4 in /home/saurabh/venvs/general_env/lib/python3.6/site-packages (from spacy<3.2.0,>=3.1.0->en-core-web-sm==3.1.0) (3.7.4.3)\n",
      "Requirement already satisfied: zipp>=0.5 in /home/saurabh/venvs/general_env/lib/python3.6/site-packages (from catalogue<2.1.0,>=2.0.4->spacy<3.2.0,>=3.1.0->en-core-web-sm==3.1.0) (3.4.1)\n",
      "Requirement already satisfied: pyparsing>=2.0.2 in /home/saurabh/venvs/general_env/lib/python3.6/site-packages (from packaging>=20.0->spacy<3.2.0,>=3.1.0->en-core-web-sm==3.1.0) (2.4.7)\n",
      "Requirement already satisfied: dataclasses<1.0,>=0.6 in /home/saurabh/venvs/general_env/lib/python3.6/site-packages (from pathy>=0.3.5->spacy<3.2.0,>=3.1.0->en-core-web-sm==3.1.0) (0.8)\n",
      "Requirement already satisfied: smart-open<6.0.0,>=5.0.0 in /home/saurabh/venvs/general_env/lib/python3.6/site-packages (from pathy>=0.3.5->spacy<3.2.0,>=3.1.0->en-core-web-sm==3.1.0) (5.1.0)\n",
      "Requirement already satisfied: urllib3<1.27,>=1.21.1 in /home/saurabh/venvs/general_env/lib/python3.6/site-packages (from requests<3.0.0,>=2.13.0->spacy<3.2.0,>=3.1.0->en-core-web-sm==3.1.0) (1.26.4)\n",
      "Requirement already satisfied: idna<3,>=2.5 in /home/saurabh/venvs/general_env/lib/python3.6/site-packages (from requests<3.0.0,>=2.13.0->spacy<3.2.0,>=3.1.0->en-core-web-sm==3.1.0) (2.10)\n",
      "Requirement already satisfied: chardet<5,>=3.0.2 in /home/saurabh/venvs/general_env/lib/python3.6/site-packages (from requests<3.0.0,>=2.13.0->spacy<3.2.0,>=3.1.0->en-core-web-sm==3.1.0) (4.0.0)\n",
      "Requirement already satisfied: certifi>=2017.4.17 in /home/saurabh/venvs/general_env/lib/python3.6/site-packages (from requests<3.0.0,>=2.13.0->spacy<3.2.0,>=3.1.0->en-core-web-sm==3.1.0) (2020.12.5)\n",
      "Requirement already satisfied: contextvars<3,>=2.4 in /home/saurabh/venvs/general_env/lib/python3.6/site-packages (from thinc<8.1.0,>=8.0.8->spacy<3.2.0,>=3.1.0->en-core-web-sm==3.1.0) (2.4)\n",
      "Requirement already satisfied: immutables>=0.9 in /home/saurabh/venvs/general_env/lib/python3.6/site-packages (from contextvars<3,>=2.4->thinc<8.1.0,>=8.0.8->spacy<3.2.0,>=3.1.0->en-core-web-sm==3.1.0) (0.15)\n",
      "Requirement already satisfied: click<7.2.0,>=7.1.1 in /home/saurabh/venvs/general_env/lib/python3.6/site-packages (from typer<0.4.0,>=0.3.0->spacy<3.2.0,>=3.1.0->en-core-web-sm==3.1.0) (7.1.2)\n",
      "Requirement already satisfied: MarkupSafe>=2.0 in /home/saurabh/venvs/general_env/lib/python3.6/site-packages (from jinja2->spacy<3.2.0,>=3.1.0->en-core-web-sm==3.1.0) (2.0.1)\n",
      "Installing collected packages: en-core-web-sm\n",
      "  Attempting uninstall: en-core-web-sm\n",
      "    Found existing installation: en-core-web-sm 2.1.0\n",
      "    Uninstalling en-core-web-sm-2.1.0:\n",
      "      Successfully uninstalled en-core-web-sm-2.1.0\n",
      "Successfully installed en-core-web-sm-3.1.0\n",
      "\u001b[33mWARNING: You are using pip version 21.2.4; however, version 21.3 is available.\n",
      "You should consider upgrading via the '/home/saurabh/venvs/general_env/bin/python -m pip install --upgrade pip' command.\u001b[0m\n",
      "\u001b[38;5;2m✔ Download and installation successful\u001b[0m\n",
      "You can now load the package via spacy.load('en_core_web_sm')\n"
     ]
    }
   ],
   "source": [
    "!python -m spacy download en_core_web_sm\n"
   ]
  },
  {
   "cell_type": "code",
   "execution_count": 29,
   "id": "ec49282a",
   "metadata": {},
   "outputs": [],
   "source": [
    "nlp = spacy.load(\"en_core_web_sm\")"
   ]
  },
  {
   "cell_type": "code",
   "execution_count": 44,
   "id": "ab67d38b",
   "metadata": {},
   "outputs": [],
   "source": [
    "doc = nlp(\"the resolution is horrible\")"
   ]
  },
  {
   "cell_type": "code",
   "execution_count": 45,
   "id": "ca46bc41",
   "metadata": {},
   "outputs": [],
   "source": [
    "noun_list = [NOUN, PRON, PROPN]\n",
    "verb_list = [AUX, VERB]"
   ]
  },
  {
   "cell_type": "code",
   "execution_count": 46,
   "id": "e6fddd87",
   "metadata": {},
   "outputs": [],
   "source": [
    "is_noun = False\n",
    "is_verb = False\n",
    "\n",
    "for token in doc:\n",
    "    if token.pos in noun_list:\n",
    "        is_noun = True\n",
    "    elif token.pos in verb_list:\n",
    "        is_verb = True"
   ]
  },
  {
   "cell_type": "code",
   "execution_count": 47,
   "id": "94f7aacf",
   "metadata": {},
   "outputs": [
    {
     "name": "stdout",
     "output_type": "stream",
     "text": [
      "valid\n"
     ]
    }
   ],
   "source": [
    "if is_noun and is_verb:\n",
    "    print(\"valid\")\n",
    "else:\n",
    "    print(\"invalid\")"
   ]
  },
  {
   "cell_type": "code",
   "execution_count": null,
   "id": "72243ce7",
   "metadata": {},
   "outputs": [],
   "source": []
  },
  {
   "cell_type": "markdown",
   "id": "6c414ff3",
   "metadata": {},
   "source": [
    "# Code to detect first word and its output summary"
   ]
  },
  {
   "cell_type": "code",
   "execution_count": 53,
   "id": "2a89d5a4",
   "metadata": {},
   "outputs": [],
   "source": [
    "import spacy, os"
   ]
  },
  {
   "cell_type": "code",
   "execution_count": 70,
   "id": "6bb9d583",
   "metadata": {},
   "outputs": [],
   "source": [
    "input_dir = \"/home/saurabh/dir_1/shodh/Product-Comparison/data/v3_dataset/8_qt_summary/positive/amazon_v3_removed_invalid\"\n",
    "output_dir = \"\""
   ]
  },
  {
   "cell_type": "code",
   "execution_count": 71,
   "id": "85a5ff61",
   "metadata": {},
   "outputs": [],
   "source": [
    "nlp = spacy.load(\"en_core_web_sm\")\n",
    "tuple_set = set()\n",
    "tuple_sent_set = set()"
   ]
  },
  {
   "cell_type": "code",
   "execution_count": 72,
   "id": "b674da7e",
   "metadata": {},
   "outputs": [],
   "source": [
    "for file in os.listdir(input_dir):\n",
    "    with open(os.path.join(input_dir, file), \"r\") as in_f:\n",
    "        for line in in_f:\n",
    "            doc = nlp(line.strip())\n",
    "            token = list(doc)[0]\n",
    "            tuple_token = (token.text, token.pos_)\n",
    "            \n",
    "            if tuple_token not in tuple_set:\n",
    "                tuple_set.add((token.text, token.pos_))\n",
    "                tuple_sent_set.add((token.text, token.pos_, line.strip()))"
   ]
  },
  {
   "cell_type": "code",
   "execution_count": 73,
   "id": "7684bc1a",
   "metadata": {},
   "outputs": [
    {
     "data": {
      "text/plain": [
       "{('&', 'CCONJ', '& the battery life is wonderful .'),\n",
       " (\"'\", 'PUNCT', \"' is the perfect size .\"),\n",
       " ('--', 'PUNCT', \"-- you wo n't be disappointed .\"),\n",
       " ('a', 'DET', 'a great thing to have'),\n",
       " ('absolutely', 'ADV', 'absolutely love it !!'),\n",
       " ('added',\n",
       "  'VERB',\n",
       "  'added 240gb sandisk ssd plus hard drive and 8gb more of memory - well worth'),\n",
       " ('again', 'ADV', \"again it 's worth\"),\n",
       " ('all', 'DET', 'all the hardware works'),\n",
       " ('also', 'ADV', 'also , the webcam is amazing'),\n",
       " ('alternating',\n",
       "  'VERB',\n",
       "  'alternating between finger taps and a rocketfish stylus has worked out well .'),\n",
       " ('amazon', 'NOUN', 'amazon is amazing .'),\n",
       " ('and', 'CCONJ', 'and love it .'),\n",
       " ('android', 'NOUN', 'android is good .'),\n",
       " ('another', 'DET', 'another pleasant aspect is'),\n",
       " ('anyhow', 'ADV', 'anyhow , this tablet is great'),\n",
       " ('anyways',\n",
       "  'ADV',\n",
       "  'anyways , everything is great about it other than that .'),\n",
       " ('appealing', 'VERB', 'appealing with an ipad .'),\n",
       " ('apple', 'NOUN', 'apple is genius'),\n",
       " ('applications', 'NOUN', 'applications load fast .'),\n",
       " ('apps', 'NOUN', 'apps are good .'),\n",
       " ('are', 'AUX', 'are you so quiet and shy'),\n",
       " ('as', 'ADP', 'as-is , this is a pretty good value'),\n",
       " ('asus', 'PROPN', 'asus has always been a company'),\n",
       " ('awesome', 'ADJ', 'awesome thank you'),\n",
       " ('awesome', 'ADV', 'awesome did everything'),\n",
       " ('baby', 'NOUN', 'baby is happy'),\n",
       " ('batter', 'NOUN', 'batter is excellent .'),\n",
       " ('battery', 'NOUN', 'battery life is perfect .'),\n",
       " ('because', 'SCONJ', 'because it is really good'),\n",
       " ('been', 'VERB', 'been very happy with ipad .'),\n",
       " ('blackberry', 'PROPN', 'blackberry tablet is the best'),\n",
       " ('both', 'DET', 'both have windows 10'),\n",
       " ('bought', 'VERB', 'bought this for great price .'),\n",
       " ('boxing', 'NOUN', 'boxing was in perfect condition .'),\n",
       " ('brand', 'NOUN', 'brand new . . love it'),\n",
       " ('browsing', 'VERB', 'browsing the web is great'),\n",
       " ('btw', 'ADV', 'btw , polaris office is the best app'),\n",
       " ('build', 'VERB', 'build quality is great'),\n",
       " ('but', 'CCONJ', 'but the tablet is awesome'),\n",
       " ('buy', 'VERB', 'buy with case , no complaints .'),\n",
       " ('camera', 'NOUN', 'camera is great'),\n",
       " ('cameras', 'NOUN', 'cameras are adequate ,'),\n",
       " ('can', 'AUX', 'can modify pictures .'),\n",
       " ('charged', 'VERB', 'charged for a long time .'),\n",
       " ('children', 'NOUN', 'children love it ,'),\n",
       " ('chose', 'VERB', 'chose the galaxy'),\n",
       " ('chromebooks', 'NOUN', 'chromebooks are great ,'),\n",
       " ('color', 'NOUN', 'color is good .'),\n",
       " ('computer', 'NOUN', 'computer is great .'),\n",
       " ('conditions', 'NOUN', 'conditions pristine as described .'),\n",
       " ('connected', 'VERB', 'connected to wireless with no problem .'),\n",
       " ('console', 'NOUN', 'console runs well'),\n",
       " ('construction', 'NOUN', 'construction is good'),\n",
       " ('customer', 'NOUN', 'customer service was cooperative at least .'),\n",
       " ('daughter', 'NOUN', 'daughter loved it ,'),\n",
       " ('def', 'VERB', 'def worth it !'),\n",
       " ('definitely', 'ADV', 'definitely recommend this tablet .'),\n",
       " ('delivered', 'VERB', 'delivered fast , pkg great .'),\n",
       " ('delivery', 'NOUN', 'delivery fast and love it !'),\n",
       " ('dell', 'PROPN', 'dell is good ,'),\n",
       " ('dictation', 'NOUN', 'dictation works great .'),\n",
       " ('display', 'NOUN', 'display is great'),\n",
       " ('done', 'VERB', 'done a good job'),\n",
       " ('downloads', 'NOUN', 'downloads good , works great with wifi ,'),\n",
       " ('easy', 'ADJ', 'easy to use good picture quality , did'),\n",
       " ('email', 'NOUN', 'email is great .'),\n",
       " ('enjoying', 'VERB', 'enjoying the android system'),\n",
       " ('entertained', 'VERB', 'entertained for a long time .'),\n",
       " ('everthing', 'NOUN', 'everthing was good'),\n",
       " ('everyone', 'PRON', 'everyone is happier !'),\n",
       " ('everything', 'PRON', 'everything about it is terrific .'),\n",
       " ('evything', 'NOUN', 'evything was perfect'),\n",
       " ('excellent', 'ADJ', 'excellent product , easy to use'),\n",
       " ('expandable', 'ADJ', 'expandable memory via sd card is a must/plus .'),\n",
       " ('exterior', 'PROPN', 'exterior is very nice ,'),\n",
       " ('facetime', 'PROPN', 'facetime is a great feature .'),\n",
       " ('facing', 'VERB', 'facing speaking sound great .'),\n",
       " ('fantastic', 'ADJ', 'fantastic , it was like bing new .'),\n",
       " ('fast', 'ADJ', 'fast shipping , item as advertised .'),\n",
       " ('fast', 'ADV', 'fast , light , it was a joy'),\n",
       " ('figuring', 'VERB', 'figuring it out easy .'),\n",
       " ('first', 'ADJ', 'first impression has been great .'),\n",
       " ('for', 'ADP', \"for most games and movies it 's good ,\"),\n",
       " ('free', 'ADJ', 'free $ 15 customized value'),\n",
       " ('fun', 'NOUN', 'fun and easy to use .'),\n",
       " ('games', 'NOUN', 'games run great'),\n",
       " ('gave', 'VERB', 'gave as gift'),\n",
       " ('gestures', 'NOUN', 'gestures are ingenious .'),\n",
       " ('giving', 'VERB', 'giving it five stars'),\n",
       " ('goes', 'VERB', 'goes great with a bluetooth keyboard .'),\n",
       " ('good', 'ADJ', 'good for watching movies .'),\n",
       " ('got', 'VERB', 'got a great deal'),\n",
       " ('grandaughter', 'PROPN', 'grandaughter loved this'),\n",
       " ('graphics', 'NOUN', 'graphics are extremely good .'),\n",
       " ('great', 'ADJ', 'great , thank you .'),\n",
       " ('had', 'VERB', 'had good quality ,'),\n",
       " ('hangouts', 'NOUN', 'hangouts is great'),\n",
       " ('happy', 'ADJ', 'happy to use it'),\n",
       " ('has', 'AUX', 'has a nice front camera thank you'),\n",
       " ('has', 'VERB', 'has good battery life ,'),\n",
       " ('have', 'AUX', 'have had no problems'),\n",
       " ('have', 'VERB', 'have no problems .'),\n",
       " ('holds', 'VERB', 'holds a good charge .'),\n",
       " ('honeycomb', 'NOUN', 'honeycomb is the best'),\n",
       " ('how', 'ADV', 'how this tablet is super speedy !!'),\n",
       " ('hulu', 'PROPN', 'hulu works just fine .'),\n",
       " ('husband', 'NOUN', 'husband loves it .'),\n",
       " ('i', 'PRON', 'id recommend it'),\n",
       " ('ideal', 'NOUN', 'ideal for the personal use , is more'),\n",
       " ('if', 'SCONJ', 'if that suits you best .'),\n",
       " ('images', 'NOUN', 'images are sharp , clear ,'),\n",
       " ('ipad', 'NOUN', 'ipad works great !'),\n",
       " ('ipad', 'PROPN', 'ipad is great .'),\n",
       " ('is', 'AUX', 'is really nice tablet .'),\n",
       " ('it', 'PRON', 'it is great'),\n",
       " ('item', 'NOUN', 'item was well packaged .'),\n",
       " ('just', 'ADV', 'just love it ...'),\n",
       " ('keyboard', 'NOUN', 'keyboard is good ,'),\n",
       " ('keystrokes', 'NOUN', 'keystrokes are great ,'),\n",
       " ('kid', 'NOUN', 'kid loves it'),\n",
       " ('kids', 'NOUN', 'kids love it'),\n",
       " ('kitkat', 'PROPN', 'kitkat is great .'),\n",
       " ('laptop', 'NOUN', 'laptop is great .'),\n",
       " ('lasted', 'VERB', 'lasted exactly 2 months .'),\n",
       " ('leapfrog', 'NOUN', 'leapfrog has a knack'),\n",
       " ('life', 'NOUN', 'life can be much easier'),\n",
       " ('light', 'NOUN', 'light and easy to use'),\n",
       " ('like', 'ADP', 'like a top and the cute color is a bonus too !'),\n",
       " ('liked', 'VERB', 'liked it enough'),\n",
       " ('lollipop', 'NOUN', 'lollipop is a pleasure'),\n",
       " ('looking', 'VERB', 'looking brand new ,'),\n",
       " ('love', 'VERB', 'love this tablet'),\n",
       " ('loved', 'VERB', 'loved the tablet ,'),\n",
       " ('loves', 'VERB', 'loves the fact'),\n",
       " ('makes', 'VERB', 'makes life so easy'),\n",
       " ('manual', 'NOUN', 'manual is good ,'),\n",
       " ('meets', 'VERB', 'meets all expectations .'),\n",
       " ('metro', 'PROPN', 'metro is nice and refreshing ,'),\n",
       " ('mini', 'NOUN', 'mini is a great investment .'),\n",
       " ('mint', 'NOUN', 'mint condition , works well .'),\n",
       " ('mom', 'NOUN', 'mom loves it !'),\n",
       " ('most', 'ADJ', 'most games run silky smooth ,'),\n",
       " ('much', 'ADJ', 'much prefer the size .'),\n",
       " ('netflix', 'PROPN', 'netflix is available'),\n",
       " ('never', 'ADV', 'never miss a single spell drop .'),\n",
       " ('nice', 'ADJ', 'nice to have a choice !'),\n",
       " ('no', 'DET', 'no problem learning'),\n",
       " ('notable', 'ADJ', 'notable is the quiet fan'),\n",
       " ('notifications', 'NOUN', 'notifications are refreshed'),\n",
       " ('offering', 'VERB', 'offering this product .'),\n",
       " ('operational', 'ADJ', 'operational speed seems to be good .'),\n",
       " ('or', 'CCONJ', 'or music . downloads are good ,'),\n",
       " ('ordered', 'VERB', 'ordered the new 32gb ,'),\n",
       " ('outdoor', 'ADJ', 'outdoor shots are perfect .'),\n",
       " ('overall', 'ADV', 'overall this is a great product'),\n",
       " ('packaging', 'NOUN', 'packaging was excellent'),\n",
       " ('pen', 'NOUN', 'pen works great'),\n",
       " ('perfect', 'ADJ', 'perfect for searching the web'),\n",
       " ('perform', 'VERB', 'perform every day .'),\n",
       " ('performance', 'NOUN', 'performance is good'),\n",
       " ('picture', 'NOUN', 'picture is great ,'),\n",
       " ('pictures', 'NOUN', 'pictures are awesome .'),\n",
       " ('ping', 'NOUN', 'ping works fine'),\n",
       " ('prefect', 'VERB', 'prefect gift for a child .'),\n",
       " ('pretty', 'ADV', 'pretty much it is unanimous'),\n",
       " ('price', 'NOUN', 'price is reasonable'),\n",
       " ('product', 'NOUN', 'product exactly as described .'),\n",
       " ('pros', 'NOUN', 'pros : easy to use .'),\n",
       " ('protects', 'VERB', 'protects the front as well .'),\n",
       " ('purchased', 'VERB', 'purchased in usa !'),\n",
       " ('quality', 'NOUN', 'quality is wonderful ,'),\n",
       " ('quit', 'VERB', 'quit service and a great product'),\n",
       " ('raised', 'VERB', 'raised to 3 stars'),\n",
       " ('read', 'VERB', 'read alll the reviews'),\n",
       " ('reading', 'NOUN', 'reading is great on the ipad .'),\n",
       " ('really', 'ADV', 'really love this one .'),\n",
       " ('received', 'VERB', 'received , thank you ,'),\n",
       " ('recommend', 'VERB', 'recommend for anyone !!'),\n",
       " ('recording', 'VERB', 'recording a video is great .'),\n",
       " ('regions', 'NOUN', 'regions was fantastically'),\n",
       " ('reluctantly', 'ADV', 'reluctantly upgraded to windows 10'),\n",
       " ('remaining', 'VERB', 'remaining on the battery .'),\n",
       " ('resolution', 'NOUN', 'resolution is fantastic .'),\n",
       " ('restored', 'VERB', 'restored to the htc'),\n",
       " ('retina', 'PROPN', 'retina display is outstanding .'),\n",
       " ('roadblox', 'PROPN', 'roadblox runs great ,'),\n",
       " ('rounds', 'VERB', 'rounds out the package .'),\n",
       " ('runs', 'VERB', 'runs all apps'),\n",
       " ('safari', 'PROPN', 'safari is a treat'),\n",
       " ('samsung', 'PROPN', 'samsung is great .'),\n",
       " ('save', 'VERB', 'save your money here'),\n",
       " ('screen', 'NOUN', 'screen is very responsive , no lag .'),\n",
       " ('seriously', 'ADV', \"seriously , for the money , it ca n't be beat .\"),\n",
       " ('setup', 'NOUN', 'setup is easy .'),\n",
       " ('shipping', 'NOUN', 'shipping turnaround was perfect .'),\n",
       " ('should', 'AUX', 'should be standard on all tablets .'),\n",
       " ('simple', 'ADJ', 'simple to use for a beginner ,'),\n",
       " ('size', 'NOUN', 'size is perfect .'),\n",
       " ('so', 'ADV', 'so far , it works perfect .'),\n",
       " ('software', 'NOUN', 'software is great'),\n",
       " ('sound', 'NOUN', 'sound is good'),\n",
       " ('speakers', 'NOUN', 'speakers are awesome .'),\n",
       " ('started', 'VERB', 'started out great afte'),\n",
       " ('still', 'ADV', 'still works perfectly after a year of constant use .'),\n",
       " ('stylus', 'NOUN', 'stylus is great'),\n",
       " ('sunlight', 'NOUN', 'sunlight . battery lasts a long time'),\n",
       " ('super',\n",
       "  'ADJ',\n",
       "  'super price and excellent samsung 10.1 tablet and it works great .'),\n",
       " ('tab', 'NOUN', 'tab works great ,'),\n",
       " ('tablet', 'PROPN', 'tablet works well .'),\n",
       " ('tablets', 'NOUN', 'tablets are great'),\n",
       " ('take', 'VERB', 'take great pictures ,'),\n",
       " ('teenager', 'NOUN', 'teenager loves it .'),\n",
       " ('than', 'SCONJ', \"than that it 's a great laptop for most simple uses .\"),\n",
       " ('thank', 'VERB', 'thank you leapfrog .'),\n",
       " ('that', 'DET', 'that is a miracle'),\n",
       " ('that', 'SCONJ', 'that it deserves .'),\n",
       " ('the', 'DET', 'the tablet was undamaged'),\n",
       " ('there', 'PRON', 'there is no problem .'),\n",
       " ('they', 'PRON', 'they both really enjoy'),\n",
       " ('this', 'DET', 'this is a good machine .'),\n",
       " ('to', 'PART', 'to expect great things from samsung'),\n",
       " ('touch', 'NOUN', 'touch screen works well'),\n",
       " ('touchscreens', 'NOUN', 'touchscreens are great'),\n",
       " ('ty', 'PROPN', 'ty love it'),\n",
       " ('unlike', 'ADP', 'unlike the ipad , is great .'),\n",
       " ('usb', 'PROPN', 'usb 3.0 is a plus'),\n",
       " ('using', 'VERB', 'using the web no issues .'),\n",
       " ('ventilation', 'NOUN', 'ventilation is great ,'),\n",
       " ('very', 'ADV', 'very easy to get setup ,'),\n",
       " ('video', 'NOUN', 'video is pretty good ,'),\n",
       " ('visuals', 'NOUN', 'visuals are great .'),\n",
       " ('waited', 'VERB', 'waited to buy an apple laptop for years-love'),\n",
       " ('was', 'AUX', 'was a great price .'),\n",
       " ('web', 'NOUN', 'web browsing is great ,'),\n",
       " ('weight', 'NOUN', 'weight is almost perfect .'),\n",
       " ('well', 'INTJ', 'well it was in great condition'),\n",
       " ('were', 'AUX', 'were a lifesaver .'),\n",
       " ('what', 'PRON', 'what a great service you guys provide .'),\n",
       " ('when', 'ADV', 'when product is good'),\n",
       " ('where', 'ADV', 'where it performs flawlessly .'),\n",
       " ('which', 'DET', 'which is a joy to work with ,'),\n",
       " ('while',\n",
       "  'SCONJ',\n",
       "  \"while it is n't perfect it is an amazing value at the listed price .\"),\n",
       " ('who', 'PRON', 'who is skilled .'),\n",
       " ('wich', 'NOUN', 'wich was great .'),\n",
       " ('wife', 'NOUN', 'wife likes it'),\n",
       " ('wifi', 'PROPN', 'wifi works great'),\n",
       " ('will', 'AUX', 'will recommend to anyone ,'),\n",
       " ('windows', 'NOUN', 'windows is great .'),\n",
       " ('with', 'ADP', 'with which it performs flawlessly'),\n",
       " ('word', 'NOUN', 'word , ppt , excel ...'),\n",
       " ('worked', 'VERB', 'worked great for 2 weeks .'),\n",
       " ('works', 'VERB', 'works better with emulators .'),\n",
       " ('worth', 'ADJ', 'worth the money spent .'),\n",
       " ('would', 'AUX', 'would recommend to anyone'),\n",
       " ('yes', 'INTJ', \"yes , it 's beautiful\"),\n",
       " ('yet', 'ADV', 'yet the touch id is convenient .'),\n",
       " ('you', 'PRON', 'you just purchased .')}"
      ]
     },
     "execution_count": 73,
     "metadata": {},
     "output_type": "execute_result"
    }
   ],
   "source": [
    "tuple_sent_set"
   ]
  },
  {
   "cell_type": "code",
   "execution_count": 74,
   "id": "f6e63932",
   "metadata": {},
   "outputs": [],
   "source": [
    "first_token_list = [\"because\", \"and\", \"before\", \"but\", \"however\", \"now\", \"of\", \"then\", \"&\", \"or\"]"
   ]
  },
  {
   "cell_type": "code",
   "execution_count": null,
   "id": "c513eb1a",
   "metadata": {},
   "outputs": [],
   "source": []
  },
  {
   "cell_type": "markdown",
   "id": "cc028210",
   "metadata": {},
   "source": [
    "# Code to remove first word found in above analysis"
   ]
  },
  {
   "cell_type": "code",
   "execution_count": 77,
   "id": "e308a30f",
   "metadata": {},
   "outputs": [],
   "source": [
    "import spacy, os"
   ]
  },
  {
   "cell_type": "code",
   "execution_count": 90,
   "id": "f7932453",
   "metadata": {},
   "outputs": [],
   "source": [
    "# input_dir = \"/home/saurabh/dir_1/shodh/Product-Comparison/data/v3_dataset/8_qt_summary/positive/amazon_v3_removed_invalid\"\n",
    "input_dir = \"/home/saurabh/dir_1/shodh/Product-Comparison/data/v3_dataset/8_qt_summary/negative/amazon_v3_removed_invalid\"\n",
    "# output_dir = \"/home/saurabh/dir_1/shodh/Product-Comparison/data/v3_dataset/9_dataset_pos_neg_removed_invalid/pos\"\n",
    "output_dir = \"/home/saurabh/dir_1/shodh/Product-Comparison/data/v3_dataset/9_dataset_pos_neg_removed_invalid/neg\""
   ]
  },
  {
   "cell_type": "code",
   "execution_count": 91,
   "id": "6708a9fd",
   "metadata": {},
   "outputs": [],
   "source": [
    "nlp = spacy.load(\"en_core_web_sm\")\n",
    "first_token_list = [\"because\", \"and\", \"before\", \"but\", \"however\", \"now\", \"of\", \"then\", \"&\", \"or\"]"
   ]
  },
  {
   "cell_type": "code",
   "execution_count": 92,
   "id": "33bda010",
   "metadata": {},
   "outputs": [],
   "source": [
    "for file in os.listdir(input_dir):\n",
    "    entity_id = file.split(\"_\")[-1]\n",
    "    with open(os.path.join(output_dir, entity_id), \"w\") as out_f:\n",
    "        with open(os.path.join(input_dir, file), \"r\") as in_f:\n",
    "            for line in in_f:\n",
    "                line = line.strip()\n",
    "                doc_list = list(nlp(line))\n",
    "                \n",
    "                if doc_list[0].text in first_token_list:\n",
    "                    tmp_list = []\n",
    "                    for token in doc_list[1:]:\n",
    "                        tmp_list.append(token.text)\n",
    "                    \n",
    "                    line = \" \".join(tmp_list)\n",
    "\n",
    "                out_f.write(line+\"\\n\")"
   ]
  },
  {
   "cell_type": "code",
   "execution_count": null,
   "id": "a3b37174",
   "metadata": {},
   "outputs": [],
   "source": []
  },
  {
   "cell_type": "code",
   "execution_count": null,
   "id": "7126cfd4",
   "metadata": {},
   "outputs": [],
   "source": []
  },
  {
   "cell_type": "code",
   "execution_count": null,
   "id": "6d5fd4c0",
   "metadata": {},
   "outputs": [],
   "source": []
  },
  {
   "cell_type": "code",
   "execution_count": null,
   "id": "4e11ca73",
   "metadata": {},
   "outputs": [],
   "source": []
  },
  {
   "cell_type": "markdown",
   "id": "2656af40",
   "metadata": {},
   "source": [
    "# Encoder Decoder Based approach"
   ]
  },
  {
   "cell_type": "markdown",
   "id": "34f6e01c",
   "metadata": {},
   "source": [
    "# Training dataset generation"
   ]
  },
  {
   "cell_type": "code",
   "execution_count": 8,
   "id": "5c2af766",
   "metadata": {},
   "outputs": [],
   "source": [
    "import json, os"
   ]
  },
  {
   "cell_type": "code",
   "execution_count": 9,
   "id": "aeb01f84",
   "metadata": {},
   "outputs": [],
   "source": [
    "input_dir = \"/home/saurabh/dir_1/shodh/Product-Comparison/data/v3_dataset/10_rule_based_dataset\"\n",
    "output_dir = \"/home/saurabh/dir_1/shodh/Product-Comparison/data/v3_dataset/13_transformer_encoder_decoder\"\n",
    "train_file = \"data_v3.jsonl\""
   ]
  },
  {
   "cell_type": "code",
   "execution_count": 10,
   "id": "ad93a8f2",
   "metadata": {},
   "outputs": [],
   "source": [
    "with open(os.path.join(output_dir, train_file), \"w\") as out_f:\n",
    "    for file in os.listdir(input_dir):\n",
    "        with open(os.path.join(input_dir, file), \"r\") as in_f:\n",
    "            for line in in_f:\n",
    "                data_dict = json.loads(line)\n",
    "                tmp_dict = {}\n",
    "                tmp_dict[\"input\"] = data_dict[\"title\"] + \" . \" + data_dict[\"positive\"] + \" . \" + data_dict[\"negative\"] + \" .\"\n",
    "                tmp_dict[\"output\"] = data_dict[\"response\"]\n",
    "                out_f.write(json.dumps(tmp_dict)+\"\\n\")"
   ]
  },
  {
   "cell_type": "code",
   "execution_count": null,
   "id": "cd08e6c5",
   "metadata": {},
   "outputs": [],
   "source": []
  },
  {
   "cell_type": "markdown",
   "id": "e3b9ee7a",
   "metadata": {},
   "source": [
    "# Generate train test and eval dataset"
   ]
  },
  {
   "cell_type": "code",
   "execution_count": 11,
   "id": "48bde007",
   "metadata": {},
   "outputs": [],
   "source": [
    "from sklearn.model_selection import train_test_split\n",
    "import numpy as np"
   ]
  },
  {
   "cell_type": "code",
   "execution_count": 12,
   "id": "5b9df608",
   "metadata": {},
   "outputs": [],
   "source": [
    "input_file = \"/home/saurabh/dir_1/shodh/Product-Comparison/data/v3_dataset/13_transformer_encoder_decoder/data_v3.jsonl\"\n",
    "train_file = \"/home/saurabh/dir_1/shodh/Product-Comparison/data/v3_dataset/13_transformer_encoder_decoder/train.jsonl\"\n",
    "test_file = \"/home/saurabh/dir_1/shodh/Product-Comparison/data/v3_dataset/13_transformer_encoder_decoder/test.jsonl\"\n",
    "val_file = \"/home/saurabh/dir_1/shodh/Product-Comparison/data/v3_dataset/13_transformer_encoder_decoder/val.jsonl\""
   ]
  },
  {
   "cell_type": "code",
   "execution_count": 13,
   "id": "23406bfc",
   "metadata": {},
   "outputs": [
    {
     "name": "stdout",
     "output_type": "stream",
     "text": [
      "train size: 72484, test size: 20710, val size: 10355\n"
     ]
    }
   ],
   "source": [
    "index_list = []\n",
    "counter = 0\n",
    "\n",
    "with open(input_file, \"r\") as in_f:\n",
    "    for line in in_f:\n",
    "        index_list.append(counter)\n",
    "        counter += 1\n",
    "        \n",
    "train_data, test_val_data = train_test_split(np.array(index_list), test_size=0.3, train_size=0.7)\n",
    "test_data, val_data = train_test_split(test_val_data, test_size=1/3, train_size=2/3)\n",
    "\n",
    "print(\"train size: {}, test size: {}, val size: {}\".format(len(train_data), len(test_data), len(val_data)))\n",
    "\n",
    "counter = 0\n",
    "\n",
    "with open(train_file, \"w\") as train_f:\n",
    "    with open(test_file, \"w\") as test_f:\n",
    "        with open(val_file, \"w\") as val_f: \n",
    "            with open(input_file, \"r\") as in_f:\n",
    "                for line in in_f:\n",
    "                    if counter in train_data:\n",
    "                        train_f.write(line)\n",
    "                    elif counter in test_data:\n",
    "                        test_f.write(line)\n",
    "                    elif counter in val_data:\n",
    "                        val_f.write(line)\n",
    "                    \n",
    "                    counter += 1"
   ]
  },
  {
   "cell_type": "markdown",
   "id": "a85ad5fe",
   "metadata": {},
   "source": [
    "# Dataset creation for Encoder Decoder model"
   ]
  },
  {
   "cell_type": "code",
   "execution_count": 3,
   "id": "d82efaec",
   "metadata": {},
   "outputs": [],
   "source": [
    "from transformers import BertTokenizer, EncoderDecoderModel, Seq2SeqTrainer, Seq2SeqTrainingArguments, RobertaTokenizer, GPT2Tokenizer\n",
    "import json, torch, wandb, os, random\n",
    "import numpy as np"
   ]
  },
  {
   "cell_type": "code",
   "execution_count": 4,
   "id": "0da68b2e",
   "metadata": {},
   "outputs": [
    {
     "name": "stderr",
     "output_type": "stream",
     "text": [
      "Failed to detect the name of this notebook, you can set it manually with the WANDB_NOTEBOOK_NAME environment variable to enable code saving.\n",
      "\u001b[34m\u001b[1mwandb\u001b[0m: Currently logged in as: \u001b[33msaurabhhssaurabh\u001b[0m (use `wandb login --relogin` to force relogin)\n"
     ]
    },
    {
     "data": {
      "text/plain": [
       "True"
      ]
     },
     "execution_count": 4,
     "metadata": {},
     "output_type": "execute_result"
    }
   ],
   "source": [
    "wandb.login()"
   ]
  },
  {
   "cell_type": "code",
   "execution_count": 5,
   "id": "7d898de0",
   "metadata": {},
   "outputs": [],
   "source": [
    "os.environ[\"CUDA_DEVICE_ORDER\"] = \"PCI_BUS_ID\"\n",
    "os.environ[\"CUDA_VISIBLE_DEVICES\"] = \"2\""
   ]
  },
  {
   "cell_type": "code",
   "execution_count": 6,
   "id": "f3b1d830",
   "metadata": {},
   "outputs": [
    {
     "name": "stdout",
     "output_type": "stream",
     "text": [
      "env: WANDB_PROJECT=\"comparitive_response_generation\"\n"
     ]
    }
   ],
   "source": [
    "%env WANDB_PROJECT=\"comparitive_response_generation\""
   ]
  },
  {
   "cell_type": "code",
   "execution_count": 7,
   "id": "389c7f7a",
   "metadata": {},
   "outputs": [],
   "source": [
    "tokenizer = BertTokenizer.from_pretrained(\"bert-base-uncased\")"
   ]
  },
  {
   "cell_type": "code",
   "execution_count": 8,
   "id": "a4d41658",
   "metadata": {},
   "outputs": [],
   "source": [
    "train_file = \"/home/saurabh/dir_1/shodh/Product-Comparison/data/sentence_fusion/uncase/bart_translation/train_version_2.json\"\n",
    "test_file = \"/home/saurabh/dir_1/shodh/Product-Comparison/data/sentence_fusion/uncase/bart_translation/test_version_2.json\"\n",
    "\n",
    "\n",
    "# train_file = \"/home/saurabh/dir_1/shodh/Product-Comparison/data/v3_dataset/13_transformer_encoder_decoder/train.jsonl\"\n",
    "# val_file = \"/home/saurabh/dir_1/shodh/Product-Comparison/data/v3_dataset/13_transformer_encoder_decoder/val.jsonl\"\n",
    "# test_file = \"/home/saurabh/dir_1/shodh/Product-Comparison/data/v3_dataset/13_transformer_encoder_decoder/test.jsonl\""
   ]
  },
  {
   "cell_type": "code",
   "execution_count": 7,
   "id": "d476cca4",
   "metadata": {},
   "outputs": [
    {
     "name": "stdout",
     "output_type": "stream",
     "text": [
      "len(train_input): 870, len(train_output): 870\n"
     ]
    }
   ],
   "source": [
    "train_input = []\n",
    "train_output = []\n",
    "\n",
    "with open(train_file, \"r\") as in_f:\n",
    "    for line in in_f:\n",
    "        tmp_dict = json.loads(line)\n",
    "        train_input.append(tmp_dict[\"translation\"][\"defused\"])\n",
    "        train_output.append(tmp_dict[\"translation\"][\"fused\"])\n",
    "\n",
    "#         train_input.append(tmp_dict[\"input\"])\n",
    "#         train_output.append(tmp_dict[\"output\"])\n",
    "        \n",
    "print(\"len(train_input): {}, len(train_output): {}\".format(len(train_input), len(train_output)))"
   ]
  },
  {
   "cell_type": "code",
   "execution_count": 28,
   "id": "29ca559b",
   "metadata": {},
   "outputs": [
    {
     "name": "stdout",
     "output_type": "stream",
     "text": [
      "len(test_input): 219, len(test_output): 219\n"
     ]
    }
   ],
   "source": [
    "test_input = []\n",
    "test_output = []\n",
    "\n",
    "with open(test_file, \"r\") as in_f:\n",
    "    for line in in_f:\n",
    "        tmp_dict = json.loads(line)\n",
    "        test_input.append(tmp_dict[\"translation\"][\"defused\"])\n",
    "        test_output.append(tmp_dict[\"translation\"][\"fused\"])\n",
    "\n",
    "#         test_input.append(tmp_dict[\"input\"])\n",
    "#         test_output.append(tmp_dict[\"output\"])\n",
    "        \n",
    "print(\"len(test_input): {}, len(test_output): {}\".format(len(test_input), len(test_output)))"
   ]
  },
  {
   "cell_type": "code",
   "execution_count": 126,
   "id": "b6e7751e",
   "metadata": {},
   "outputs": [
    {
     "name": "stdout",
     "output_type": "stream",
     "text": [
      "len(val_input): 10355, len(val_output): 10355\n"
     ]
    }
   ],
   "source": [
    "val_input = []\n",
    "val_output = []\n",
    "\n",
    "with open(val_file, \"r\") as in_f:\n",
    "    for line in in_f:\n",
    "        tmp_dict = json.loads(line)\n",
    "        val_input.append(tmp_dict[\"input\"])\n",
    "        val_output.append(tmp_dict[\"output\"])\n",
    "        \n",
    "print(\"len(val_input): {}, len(val_output): {}\".format(len(val_input), len(val_output)))"
   ]
  },
  {
   "cell_type": "code",
   "execution_count": 9,
   "id": "d5a0bf9d",
   "metadata": {},
   "outputs": [],
   "source": [
    "train_input_encoding_list = tokenizer(train_input, truncation=True, padding=True)\n",
    "train_output_encoding_list = tokenizer(train_output, truncation=True, padding=True)\n",
    "# test_input_encoding_list = tokenizer(test_input, truncation=True, padding=True)\n",
    "# test_output_encoding_list = tokenizer(test_output, truncation=True, padding=True)\n",
    "# val_input_encoding_list = tokenizer(val_input, truncation=True, padding=True)\n",
    "# val_output_encoding_list = gpt2_tokenizer(val_output, truncation=True, padding=True)"
   ]
  },
  {
   "cell_type": "code",
   "execution_count": null,
   "id": "013a8d16",
   "metadata": {},
   "outputs": [],
   "source": []
  },
  {
   "cell_type": "code",
   "execution_count": 14,
   "id": "6b275083",
   "metadata": {},
   "outputs": [],
   "source": [
    "class ComparativeResponseDataset(torch.utils.data.Dataset):\n",
    "    \n",
    "    def __init__(self, input_encoding, output_encoding):\n",
    "        self.input_encoding = input_encoding\n",
    "        self.output_encoding = output_encoding\n",
    "        \n",
    "    def __getitem__(self, index):\n",
    "        item = {}\n",
    "        item[\"input_ids\"] = np.array(self.input_encoding.input_ids[index])\n",
    "        item[\"attention_mask\"] = np.array(self.input_encoding.attention_mask[index])\n",
    "        item[\"token_type_ids\"] = np.array(self.input_encoding.token_type_ids[index])\n",
    "        item[\"decoder_input_ids\"] = np.array(self.output_encoding.input_ids[index])\n",
    "        item[\"decoder_attention_mask\"] = np.array(self.output_encoding.attention_mask[index])\n",
    "        item[\"decoder_token_type_ids\"] = np.array(self.output_encoding.token_type_ids[index])\n",
    "        item[\"labels\"] = []\n",
    "        \n",
    "        for token in self.output_encoding.input_ids[index]:\n",
    "            if token == tokenizer.pad_token_id:\n",
    "                item[\"labels\"].append(-100)\n",
    "            else:\n",
    "                item[\"labels\"].append(token)\n",
    "                \n",
    "        item[\"labels\"] = np.array(item[\"labels\"])\n",
    "                \n",
    "        return item\n",
    "    \n",
    "    def __len__(self):\n",
    "        return len(self.input_encoding.input_ids)"
   ]
  },
  {
   "cell_type": "code",
   "execution_count": 11,
   "id": "7e4f73e0",
   "metadata": {},
   "outputs": [],
   "source": [
    "train_dataset = ComparativeResponseDataset(train_input_encoding_list, train_output_encoding_list)\n",
    "# test_dataset = ComparativeResponseDataset(test_input_encoding_list, test_output_encoding_list)\n",
    "# val_dataset = ComparativeResponseDataset(val_input_encoding_list, val_output_encoding_list)"
   ]
  },
  {
   "cell_type": "code",
   "execution_count": 12,
   "id": "bec9ae32",
   "metadata": {},
   "outputs": [
    {
     "name": "stderr",
     "output_type": "stream",
     "text": [
      "Some weights of the model checkpoint at bert-base-uncased were not used when initializing BertModel: ['cls.predictions.transform.LayerNorm.weight', 'cls.seq_relationship.weight', 'cls.predictions.transform.LayerNorm.bias', 'cls.predictions.transform.dense.weight', 'cls.predictions.transform.dense.bias', 'cls.seq_relationship.bias', 'cls.predictions.bias', 'cls.predictions.decoder.weight']\n",
      "- This IS expected if you are initializing BertModel from the checkpoint of a model trained on another task or with another architecture (e.g. initializing a BertForSequenceClassification model from a BertForPreTraining model).\n",
      "- This IS NOT expected if you are initializing BertModel from the checkpoint of a model that you expect to be exactly identical (initializing a BertForSequenceClassification model from a BertForSequenceClassification model).\n",
      "Some weights of the model checkpoint at bert-base-uncased were not used when initializing BertLMHeadModel: ['cls.seq_relationship.bias', 'cls.seq_relationship.weight']\n",
      "- This IS expected if you are initializing BertLMHeadModel from the checkpoint of a model trained on another task or with another architecture (e.g. initializing a BertForSequenceClassification model from a BertForPreTraining model).\n",
      "- This IS NOT expected if you are initializing BertLMHeadModel from the checkpoint of a model that you expect to be exactly identical (initializing a BertForSequenceClassification model from a BertForSequenceClassification model).\n",
      "Some weights of BertLMHeadModel were not initialized from the model checkpoint at bert-base-uncased and are newly initialized: ['bert.encoder.layer.11.crossattention.self.query.weight', 'bert.encoder.layer.1.crossattention.self.key.weight', 'bert.encoder.layer.4.crossattention.self.key.bias', 'bert.encoder.layer.1.crossattention.self.key.bias', 'bert.encoder.layer.9.crossattention.self.key.bias', 'bert.encoder.layer.10.crossattention.self.query.weight', 'bert.encoder.layer.8.crossattention.self.key.bias', 'bert.encoder.layer.3.crossattention.output.dense.bias', 'bert.encoder.layer.8.crossattention.output.LayerNorm.bias', 'bert.encoder.layer.5.crossattention.output.dense.bias', 'bert.encoder.layer.3.crossattention.output.LayerNorm.bias', 'bert.encoder.layer.5.crossattention.self.value.weight', 'bert.encoder.layer.11.crossattention.self.query.bias', 'bert.encoder.layer.10.crossattention.self.value.bias', 'bert.encoder.layer.0.crossattention.self.query.bias', 'bert.encoder.layer.0.crossattention.self.key.bias', 'bert.encoder.layer.6.crossattention.self.value.bias', 'bert.encoder.layer.0.crossattention.output.dense.weight', 'bert.encoder.layer.5.crossattention.self.query.bias', 'bert.encoder.layer.7.crossattention.output.LayerNorm.weight', 'bert.encoder.layer.2.crossattention.output.LayerNorm.bias', 'bert.encoder.layer.10.crossattention.output.dense.weight', 'bert.encoder.layer.10.crossattention.output.LayerNorm.weight', 'bert.encoder.layer.1.crossattention.self.query.weight', 'bert.encoder.layer.3.crossattention.self.key.bias', 'bert.encoder.layer.1.crossattention.output.dense.bias', 'bert.encoder.layer.5.crossattention.self.query.weight', 'bert.encoder.layer.8.crossattention.self.value.weight', 'bert.encoder.layer.11.crossattention.output.LayerNorm.weight', 'bert.encoder.layer.4.crossattention.output.dense.weight', 'bert.encoder.layer.6.crossattention.self.query.weight', 'bert.encoder.layer.0.crossattention.output.LayerNorm.bias', 'bert.encoder.layer.0.crossattention.output.dense.bias', 'bert.encoder.layer.9.crossattention.output.dense.weight', 'bert.encoder.layer.1.crossattention.self.query.bias', 'bert.encoder.layer.7.crossattention.self.key.bias', 'bert.encoder.layer.9.crossattention.self.key.weight', 'bert.encoder.layer.6.crossattention.output.dense.weight', 'bert.encoder.layer.6.crossattention.output.dense.bias', 'bert.encoder.layer.6.crossattention.self.value.weight', 'bert.encoder.layer.4.crossattention.self.value.bias', 'bert.encoder.layer.4.crossattention.self.query.weight', 'bert.encoder.layer.4.crossattention.output.LayerNorm.weight', 'bert.encoder.layer.11.crossattention.output.dense.bias', 'bert.encoder.layer.7.crossattention.output.dense.bias', 'bert.encoder.layer.9.crossattention.self.query.weight', 'bert.encoder.layer.7.crossattention.self.value.weight', 'bert.encoder.layer.8.crossattention.self.query.bias', 'bert.encoder.layer.11.crossattention.self.key.weight', 'bert.encoder.layer.6.crossattention.output.LayerNorm.weight', 'bert.encoder.layer.10.crossattention.self.key.bias', 'bert.encoder.layer.5.crossattention.output.LayerNorm.bias', 'bert.encoder.layer.11.crossattention.output.dense.weight', 'bert.encoder.layer.2.crossattention.self.key.bias', 'bert.encoder.layer.8.crossattention.self.key.weight', 'bert.encoder.layer.6.crossattention.self.key.bias', 'bert.encoder.layer.10.crossattention.output.dense.bias', 'bert.encoder.layer.0.crossattention.self.value.bias', 'bert.encoder.layer.3.crossattention.self.query.bias', 'bert.encoder.layer.5.crossattention.self.key.weight', 'bert.encoder.layer.2.crossattention.self.value.weight', 'bert.encoder.layer.8.crossattention.output.dense.weight', 'bert.encoder.layer.8.crossattention.output.dense.bias', 'bert.encoder.layer.4.crossattention.self.value.weight', 'bert.encoder.layer.1.crossattention.output.dense.weight', 'bert.encoder.layer.4.crossattention.output.dense.bias', 'bert.encoder.layer.9.crossattention.output.dense.bias', 'bert.encoder.layer.9.crossattention.output.LayerNorm.bias', 'bert.encoder.layer.0.crossattention.output.LayerNorm.weight', 'bert.encoder.layer.1.crossattention.self.value.weight', 'bert.encoder.layer.6.crossattention.output.LayerNorm.bias', 'bert.encoder.layer.7.crossattention.self.value.bias', 'bert.encoder.layer.3.crossattention.output.dense.weight', 'bert.encoder.layer.2.crossattention.self.key.weight', 'bert.encoder.layer.8.crossattention.self.value.bias', 'bert.encoder.layer.3.crossattention.output.LayerNorm.weight', 'bert.encoder.layer.10.crossattention.self.value.weight', 'bert.encoder.layer.2.crossattention.self.value.bias', 'bert.encoder.layer.6.crossattention.self.key.weight', 'bert.encoder.layer.9.crossattention.self.value.bias', 'bert.encoder.layer.11.crossattention.output.LayerNorm.bias', 'bert.encoder.layer.4.crossattention.self.query.bias', 'bert.encoder.layer.11.crossattention.self.key.bias', 'bert.encoder.layer.0.crossattention.self.value.weight', 'bert.encoder.layer.7.crossattention.output.dense.weight', 'bert.encoder.layer.4.crossattention.output.LayerNorm.bias', 'bert.encoder.layer.5.crossattention.self.value.bias', 'bert.encoder.layer.7.crossattention.output.LayerNorm.bias', 'bert.encoder.layer.9.crossattention.self.value.weight', 'bert.encoder.layer.3.crossattention.self.key.weight', 'bert.encoder.layer.1.crossattention.self.value.bias', 'bert.encoder.layer.11.crossattention.self.value.bias', 'bert.encoder.layer.6.crossattention.self.query.bias', 'bert.encoder.layer.11.crossattention.self.value.weight', 'bert.encoder.layer.9.crossattention.self.query.bias', 'bert.encoder.layer.2.crossattention.self.query.weight', 'bert.encoder.layer.5.crossattention.self.key.bias', 'bert.encoder.layer.7.crossattention.self.key.weight', 'bert.encoder.layer.5.crossattention.output.LayerNorm.weight', 'bert.encoder.layer.8.crossattention.self.query.weight', 'bert.encoder.layer.8.crossattention.output.LayerNorm.weight', 'bert.encoder.layer.9.crossattention.output.LayerNorm.weight', 'bert.encoder.layer.3.crossattention.self.value.weight', 'bert.encoder.layer.4.crossattention.self.key.weight', 'bert.encoder.layer.1.crossattention.output.LayerNorm.bias', 'bert.encoder.layer.2.crossattention.output.LayerNorm.weight', 'bert.encoder.layer.10.crossattention.self.query.bias', 'bert.encoder.layer.2.crossattention.output.dense.weight', 'bert.encoder.layer.2.crossattention.self.query.bias', 'bert.encoder.layer.0.crossattention.self.key.weight', 'bert.encoder.layer.10.crossattention.output.LayerNorm.bias', 'bert.encoder.layer.3.crossattention.self.query.weight', 'bert.encoder.layer.7.crossattention.self.query.weight', 'bert.encoder.layer.0.crossattention.self.query.weight', 'bert.encoder.layer.2.crossattention.output.dense.bias', 'bert.encoder.layer.3.crossattention.self.value.bias', 'bert.encoder.layer.7.crossattention.self.query.bias', 'bert.encoder.layer.10.crossattention.self.key.weight', 'bert.encoder.layer.5.crossattention.output.dense.weight', 'bert.encoder.layer.1.crossattention.output.LayerNorm.weight']\n",
      "You should probably TRAIN this model on a down-stream task to be able to use it for predictions and inference.\n"
     ]
    }
   ],
   "source": [
    "model = EncoderDecoderModel.from_encoder_decoder_pretrained(\"bert-base-uncased\", \"bert-base-uncased\")"
   ]
  },
  {
   "cell_type": "code",
   "execution_count": null,
   "id": "2becb899",
   "metadata": {},
   "outputs": [],
   "source": []
  },
  {
   "cell_type": "code",
   "execution_count": 13,
   "id": "87f28646",
   "metadata": {},
   "outputs": [
    {
     "name": "stdout",
     "output_type": "stream",
     "text": [
      "torch.cuda.device_count(): 1\n"
     ]
    }
   ],
   "source": [
    "training_args = Seq2SeqTrainingArguments(\n",
    "    output_dir = \"/home/saurabh/dir_1/shodh/Product-Comparison/models/transformer_bert_2_bert_multi_ref_870/output\",\n",
    "    do_train = True,\n",
    "    do_eval = True,\n",
    "    evaluation_strategy = \"epoch\",\n",
    "    per_device_train_batch_size = 64,\n",
    "    per_device_eval_batch_size = 64,\n",
    "    num_train_epochs = 5,\n",
    "    logging_dir = \"/home/saurabh/dir_1/shodh/Product-Comparison/models/transformer_bert_2_bert_multi_ref_870/logs\",\n",
    "    logging_strategy = \"epoch\",\n",
    "    save_strategy = \"epoch\",\n",
    "    save_total_limit = 2,\n",
    "    run_name = \"transformer_bert_2_bert_multi_ref_870\",\n",
    "    report_to=\"wandb\")\n",
    "\n",
    "\n",
    "\n",
    "\n",
    "# parallel_mode ParallelMode.NOT_DISTRIBUTED\n",
    "# train_batch_size 8\n",
    "# eval_batch_size 8"
   ]
  },
  {
   "cell_type": "code",
   "execution_count": 16,
   "id": "33ddbe86",
   "metadata": {},
   "outputs": [],
   "source": [
    "trainer = Seq2SeqTrainer(model=model, tokenizer=tokenizer, train_dataset=train_dataset, args=training_args, eval_dataset=train_dataset)"
   ]
  },
  {
   "cell_type": "code",
   "execution_count": 18,
   "id": "3048dca3",
   "metadata": {},
   "outputs": [
    {
     "name": "stderr",
     "output_type": "stream",
     "text": [
      "***** Running training *****\n",
      "  Num examples = 870\n",
      "  Num Epochs = 5\n",
      "  Instantaneous batch size per device = 64\n",
      "  Total train batch size (w. parallel, distributed & accumulation) = 64\n",
      "  Gradient Accumulation steps = 1\n",
      "  Total optimization steps = 70\n"
     ]
    },
    {
     "data": {
      "text/html": [
       "\n",
       "    <div>\n",
       "      \n",
       "      <progress value='70' max='70' style='width:300px; height:20px; vertical-align: middle;'></progress>\n",
       "      [70/70 01:33, Epoch 5/5]\n",
       "    </div>\n",
       "    <table border=\"1\" class=\"dataframe\">\n",
       "  <thead>\n",
       "    <tr style=\"text-align: left;\">\n",
       "      <th>Epoch</th>\n",
       "      <th>Training Loss</th>\n",
       "      <th>Validation Loss</th>\n",
       "    </tr>\n",
       "  </thead>\n",
       "  <tbody>\n",
       "    <tr>\n",
       "      <td>1</td>\n",
       "      <td>0.690900</td>\n",
       "      <td>0.357572</td>\n",
       "    </tr>\n",
       "    <tr>\n",
       "      <td>2</td>\n",
       "      <td>0.551700</td>\n",
       "      <td>0.307365</td>\n",
       "    </tr>\n",
       "    <tr>\n",
       "      <td>3</td>\n",
       "      <td>0.527300</td>\n",
       "      <td>0.307365</td>\n",
       "    </tr>\n",
       "    <tr>\n",
       "      <td>4</td>\n",
       "      <td>0.519400</td>\n",
       "      <td>0.307365</td>\n",
       "    </tr>\n",
       "    <tr>\n",
       "      <td>5</td>\n",
       "      <td>0.520900</td>\n",
       "      <td>0.307365</td>\n",
       "    </tr>\n",
       "  </tbody>\n",
       "</table><p>"
      ],
      "text/plain": [
       "<IPython.core.display.HTML object>"
      ]
     },
     "metadata": {},
     "output_type": "display_data"
    },
    {
     "name": "stderr",
     "output_type": "stream",
     "text": [
      "***** Running Evaluation *****\n",
      "  Num examples = 870\n",
      "  Batch size = 64\n",
      "Saving model checkpoint to /home/saurabh/dir_1/shodh/Product-Comparison/models/transformer_bert_2_bert_multi_ref_870/output/checkpoint-14\n",
      "Configuration saved in /home/saurabh/dir_1/shodh/Product-Comparison/models/transformer_bert_2_bert_multi_ref_870/output/checkpoint-14/config.json\n",
      "Model weights saved in /home/saurabh/dir_1/shodh/Product-Comparison/models/transformer_bert_2_bert_multi_ref_870/output/checkpoint-14/pytorch_model.bin\n",
      "tokenizer config file saved in /home/saurabh/dir_1/shodh/Product-Comparison/models/transformer_bert_2_bert_multi_ref_870/output/checkpoint-14/tokenizer_config.json\n",
      "Special tokens file saved in /home/saurabh/dir_1/shodh/Product-Comparison/models/transformer_bert_2_bert_multi_ref_870/output/checkpoint-14/special_tokens_map.json\n",
      "***** Running Evaluation *****\n",
      "  Num examples = 870\n",
      "  Batch size = 64\n",
      "Saving model checkpoint to /home/saurabh/dir_1/shodh/Product-Comparison/models/transformer_bert_2_bert_multi_ref_870/output/checkpoint-28\n",
      "Configuration saved in /home/saurabh/dir_1/shodh/Product-Comparison/models/transformer_bert_2_bert_multi_ref_870/output/checkpoint-28/config.json\n",
      "Model weights saved in /home/saurabh/dir_1/shodh/Product-Comparison/models/transformer_bert_2_bert_multi_ref_870/output/checkpoint-28/pytorch_model.bin\n",
      "tokenizer config file saved in /home/saurabh/dir_1/shodh/Product-Comparison/models/transformer_bert_2_bert_multi_ref_870/output/checkpoint-28/tokenizer_config.json\n",
      "Special tokens file saved in /home/saurabh/dir_1/shodh/Product-Comparison/models/transformer_bert_2_bert_multi_ref_870/output/checkpoint-28/special_tokens_map.json\n",
      "***** Running Evaluation *****\n",
      "  Num examples = 870\n",
      "  Batch size = 64\n",
      "Saving model checkpoint to /home/saurabh/dir_1/shodh/Product-Comparison/models/transformer_bert_2_bert_multi_ref_870/output/checkpoint-42\n",
      "Configuration saved in /home/saurabh/dir_1/shodh/Product-Comparison/models/transformer_bert_2_bert_multi_ref_870/output/checkpoint-42/config.json\n",
      "Model weights saved in /home/saurabh/dir_1/shodh/Product-Comparison/models/transformer_bert_2_bert_multi_ref_870/output/checkpoint-42/pytorch_model.bin\n",
      "tokenizer config file saved in /home/saurabh/dir_1/shodh/Product-Comparison/models/transformer_bert_2_bert_multi_ref_870/output/checkpoint-42/tokenizer_config.json\n",
      "Special tokens file saved in /home/saurabh/dir_1/shodh/Product-Comparison/models/transformer_bert_2_bert_multi_ref_870/output/checkpoint-42/special_tokens_map.json\n",
      "***** Running Evaluation *****\n",
      "  Num examples = 870\n",
      "  Batch size = 64\n",
      "Saving model checkpoint to /home/saurabh/dir_1/shodh/Product-Comparison/models/transformer_bert_2_bert_multi_ref_870/output/checkpoint-56\n",
      "Configuration saved in /home/saurabh/dir_1/shodh/Product-Comparison/models/transformer_bert_2_bert_multi_ref_870/output/checkpoint-56/config.json\n",
      "Model weights saved in /home/saurabh/dir_1/shodh/Product-Comparison/models/transformer_bert_2_bert_multi_ref_870/output/checkpoint-56/pytorch_model.bin\n",
      "tokenizer config file saved in /home/saurabh/dir_1/shodh/Product-Comparison/models/transformer_bert_2_bert_multi_ref_870/output/checkpoint-56/tokenizer_config.json\n",
      "Special tokens file saved in /home/saurabh/dir_1/shodh/Product-Comparison/models/transformer_bert_2_bert_multi_ref_870/output/checkpoint-56/special_tokens_map.json\n",
      "***** Running Evaluation *****\n",
      "  Num examples = 870\n",
      "  Batch size = 64\n",
      "Saving model checkpoint to /home/saurabh/dir_1/shodh/Product-Comparison/models/transformer_bert_2_bert_multi_ref_870/output/checkpoint-70\n",
      "Configuration saved in /home/saurabh/dir_1/shodh/Product-Comparison/models/transformer_bert_2_bert_multi_ref_870/output/checkpoint-70/config.json\n",
      "Model weights saved in /home/saurabh/dir_1/shodh/Product-Comparison/models/transformer_bert_2_bert_multi_ref_870/output/checkpoint-70/pytorch_model.bin\n",
      "tokenizer config file saved in /home/saurabh/dir_1/shodh/Product-Comparison/models/transformer_bert_2_bert_multi_ref_870/output/checkpoint-70/tokenizer_config.json\n",
      "Special tokens file saved in /home/saurabh/dir_1/shodh/Product-Comparison/models/transformer_bert_2_bert_multi_ref_870/output/checkpoint-70/special_tokens_map.json\n",
      "\n",
      "\n",
      "Training completed. Do not forget to share your model on huggingface.co/models =)\n",
      "\n",
      "\n"
     ]
    },
    {
     "data": {
      "text/plain": [
       "TrainOutput(global_step=70, training_loss=0.5620476382119315, metrics={'train_runtime': 94.7305, 'train_samples_per_second': 45.92, 'train_steps_per_second': 0.739, 'total_flos': 802642386546000.0, 'train_loss': 0.5620476382119315, 'epoch': 5.0})"
      ]
     },
     "execution_count": 18,
     "metadata": {},
     "output_type": "execute_result"
    }
   ],
   "source": [
    "trainer.train()"
   ]
  },
  {
   "cell_type": "code",
   "execution_count": 19,
   "id": "b6e5eb05",
   "metadata": {},
   "outputs": [
    {
     "data": {
      "text/html": [
       "<br/>Waiting for W&B process to finish, PID 40485... <strong style=\"color:green\">(success).</strong>"
      ],
      "text/plain": [
       "<IPython.core.display.HTML object>"
      ]
     },
     "metadata": {},
     "output_type": "display_data"
    },
    {
     "data": {
      "application/vnd.jupyter.widget-view+json": {
       "model_id": "",
       "version_major": 2,
       "version_minor": 0
      },
      "text/plain": [
       "VBox(children=(Label(value=' 0.50MB of 0.50MB uploaded (0.00MB deduped)\\r'), FloatProgress(value=1.0, max=1.0)…"
      ]
     },
     "metadata": {},
     "output_type": "display_data"
    },
    {
     "data": {
      "text/html": [
       "<style>\n",
       "    table.wandb td:nth-child(1) { padding: 0 10px; text-align: right }\n",
       "    .wandb-row { display: flex; flex-direction: row; flex-wrap: wrap; width: 100% }\n",
       "    .wandb-col { display: flex; flex-direction: column; flex-basis: 100%; flex: 1; padding: 10px; }\n",
       "    </style>\n",
       "<div class=\"wandb-row\"><div class=\"wandb-col\">\n",
       "<h3>Run history:</h3><br/><table class=\"wandb\"><tr><td>eval/loss</td><td>█▄▂▁▁▁▁▁</td></tr><tr><td>eval/runtime</td><td>▁▃▄▁▃▄▆█</td></tr><tr><td>eval/samples_per_second</td><td>█▆▅█▆▅▃▁</td></tr><tr><td>eval/steps_per_second</td><td>█▆▅█▆▅▃▁</td></tr><tr><td>train/epoch</td><td>▁▁▁▃▃▅▅▁▁▃▃▅▅▆▆███</td></tr><tr><td>train/global_step</td><td>▁▁▁▃▃▅▅▁▁▃▃▅▅▆▆███</td></tr><tr><td>train/learning_rate</td><td>██▆▅▃▁▁▁▁</td></tr><tr><td>train/loss</td><td>█▄▂▂▁▁▁▁▁</td></tr><tr><td>train/total_flos</td><td>▁</td></tr><tr><td>train/train_loss</td><td>▁</td></tr><tr><td>train/train_runtime</td><td>▁</td></tr><tr><td>train/train_samples_per_second</td><td>▁</td></tr><tr><td>train/train_steps_per_second</td><td>▁</td></tr></table><br/></div><div class=\"wandb-col\">\n",
       "<h3>Run summary:</h3><br/><table class=\"wandb\"><tr><td>eval/loss</td><td>0.30737</td></tr><tr><td>eval/runtime</td><td>3.2587</td></tr><tr><td>eval/samples_per_second</td><td>266.977</td></tr><tr><td>eval/steps_per_second</td><td>4.296</td></tr><tr><td>train/epoch</td><td>5.0</td></tr><tr><td>train/global_step</td><td>70</td></tr><tr><td>train/learning_rate</td><td>0.0</td></tr><tr><td>train/loss</td><td>0.5209</td></tr><tr><td>train/total_flos</td><td>802642386546000.0</td></tr><tr><td>train/train_loss</td><td>0.56205</td></tr><tr><td>train/train_runtime</td><td>94.7305</td></tr><tr><td>train/train_samples_per_second</td><td>45.92</td></tr><tr><td>train/train_steps_per_second</td><td>0.739</td></tr></table>\n",
       "</div></div>\n",
       "Synced 6 W&B file(s), 0 media file(s), 0 artifact file(s) and 1 other file(s)\n",
       "<br/>Synced <strong style=\"color:#cdcd00\">transformer_bert_2_bert_multi_ref_870</strong>: <a href=\"https://wandb.ai/saurabhhssaurabh/%22comparitive_response_generation%22/runs/12c2rjkc\" target=\"_blank\">https://wandb.ai/saurabhhssaurabh/%22comparitive_response_generation%22/runs/12c2rjkc</a><br/>\n",
       "Find logs at: <code>./wandb/run-20211026_200741-12c2rjkc/logs</code><br/>\n"
      ],
      "text/plain": [
       "<IPython.core.display.HTML object>"
      ]
     },
     "metadata": {},
     "output_type": "display_data"
    }
   ],
   "source": [
    "wandb.finish()"
   ]
  },
  {
   "cell_type": "markdown",
   "id": "d0c87050",
   "metadata": {},
   "source": [
    "# Predicting on fine-tuned model"
   ]
  },
  {
   "cell_type": "code",
   "execution_count": 29,
   "id": "1e6e340d",
   "metadata": {},
   "outputs": [],
   "source": [
    "model_dir = \"/home/saurabh/dir_1/shodh/Product-Comparison/models/transformer_bert_2_bert_multi_ref_870/output/checkpoint-70\"\n",
    "# model_dir = \"/home/saurabh/dir_1/shodh/Product-Comparison/models/transformer_encoder_decoder/transformer_encoder_decoder/output/checkpoint-3399\""
   ]
  },
  {
   "cell_type": "code",
   "execution_count": 30,
   "id": "4807f3f0",
   "metadata": {},
   "outputs": [],
   "source": [
    "# elem_list = [i for i in range(20000)]\n",
    "# random.shuffle(elem_list)\n",
    "# selected = elem_list[:200]\n",
    "\n",
    "selected_test_input = test_input #[test_input[i] for i in selected]\n",
    "selected_test_output = test_output #[test_output[i] for i in selected]"
   ]
  },
  {
   "cell_type": "code",
   "execution_count": 31,
   "id": "38a58538",
   "metadata": {},
   "outputs": [],
   "source": [
    "test_input_encoding_list = tokenizer(selected_test_input, truncation=True, padding=True)\n",
    "test_output_encoding_list = tokenizer(selected_test_output, truncation=True, padding=True)"
   ]
  },
  {
   "cell_type": "code",
   "execution_count": 34,
   "id": "14d1c784",
   "metadata": {},
   "outputs": [
    {
     "data": {
      "text/plain": [
       "219"
      ]
     },
     "execution_count": 34,
     "metadata": {},
     "output_type": "execute_result"
    }
   ],
   "source": [
    "len(test_output_encoding_list[\"input_ids\"])"
   ]
  },
  {
   "cell_type": "code",
   "execution_count": 35,
   "id": "6fc252ff",
   "metadata": {},
   "outputs": [],
   "source": [
    "test_dataset = ComparativeResponseDataset(test_input_encoding_list, test_output_encoding_list)"
   ]
  },
  {
   "cell_type": "code",
   "execution_count": 36,
   "id": "6937499b",
   "metadata": {},
   "outputs": [
    {
     "data": {
      "text/plain": [
       "219"
      ]
     },
     "execution_count": 36,
     "metadata": {},
     "output_type": "execute_result"
    }
   ],
   "source": [
    "len(test_dataset)"
   ]
  },
  {
   "cell_type": "code",
   "execution_count": 37,
   "id": "c9159774",
   "metadata": {},
   "outputs": [
    {
     "name": "stderr",
     "output_type": "stream",
     "text": [
      "loading configuration file /home/saurabh/dir_1/shodh/Product-Comparison/models/transformer_bert_2_bert_multi_ref_870/output/checkpoint-70/config.json\n",
      "Model config EncoderDecoderConfig {\n",
      "  \"architectures\": [\n",
      "    \"EncoderDecoderModel\"\n",
      "  ],\n",
      "  \"decoder\": {\n",
      "    \"_name_or_path\": \"bert-base-uncased\",\n",
      "    \"add_cross_attention\": true,\n",
      "    \"architectures\": [\n",
      "      \"BertForMaskedLM\"\n",
      "    ],\n",
      "    \"attention_probs_dropout_prob\": 0.1,\n",
      "    \"bad_words_ids\": null,\n",
      "    \"bos_token_id\": null,\n",
      "    \"chunk_size_feed_forward\": 0,\n",
      "    \"classifier_dropout\": null,\n",
      "    \"decoder_start_token_id\": null,\n",
      "    \"diversity_penalty\": 0.0,\n",
      "    \"do_sample\": false,\n",
      "    \"early_stopping\": false,\n",
      "    \"encoder_no_repeat_ngram_size\": 0,\n",
      "    \"eos_token_id\": null,\n",
      "    \"finetuning_task\": null,\n",
      "    \"forced_bos_token_id\": null,\n",
      "    \"forced_eos_token_id\": null,\n",
      "    \"gradient_checkpointing\": false,\n",
      "    \"hidden_act\": \"gelu\",\n",
      "    \"hidden_dropout_prob\": 0.1,\n",
      "    \"hidden_size\": 768,\n",
      "    \"id2label\": {\n",
      "      \"0\": \"LABEL_0\",\n",
      "      \"1\": \"LABEL_1\"\n",
      "    },\n",
      "    \"initializer_range\": 0.02,\n",
      "    \"intermediate_size\": 3072,\n",
      "    \"is_decoder\": true,\n",
      "    \"is_encoder_decoder\": false,\n",
      "    \"label2id\": {\n",
      "      \"LABEL_0\": 0,\n",
      "      \"LABEL_1\": 1\n",
      "    },\n",
      "    \"layer_norm_eps\": 1e-12,\n",
      "    \"length_penalty\": 1.0,\n",
      "    \"max_length\": 20,\n",
      "    \"max_position_embeddings\": 512,\n",
      "    \"min_length\": 0,\n",
      "    \"model_type\": \"bert\",\n",
      "    \"no_repeat_ngram_size\": 0,\n",
      "    \"num_attention_heads\": 12,\n",
      "    \"num_beam_groups\": 1,\n",
      "    \"num_beams\": 1,\n",
      "    \"num_hidden_layers\": 12,\n",
      "    \"num_return_sequences\": 1,\n",
      "    \"output_attentions\": false,\n",
      "    \"output_hidden_states\": false,\n",
      "    \"output_scores\": false,\n",
      "    \"pad_token_id\": 0,\n",
      "    \"position_embedding_type\": \"absolute\",\n",
      "    \"prefix\": null,\n",
      "    \"problem_type\": null,\n",
      "    \"pruned_heads\": {},\n",
      "    \"remove_invalid_values\": false,\n",
      "    \"repetition_penalty\": 1.0,\n",
      "    \"return_dict\": true,\n",
      "    \"return_dict_in_generate\": false,\n",
      "    \"sep_token_id\": null,\n",
      "    \"task_specific_params\": null,\n",
      "    \"temperature\": 1.0,\n",
      "    \"tie_encoder_decoder\": false,\n",
      "    \"tie_word_embeddings\": true,\n",
      "    \"tokenizer_class\": null,\n",
      "    \"top_k\": 50,\n",
      "    \"top_p\": 1.0,\n",
      "    \"torch_dtype\": null,\n",
      "    \"torchscript\": false,\n",
      "    \"transformers_version\": \"4.10.0.dev0\",\n",
      "    \"type_vocab_size\": 2,\n",
      "    \"use_bfloat16\": false,\n",
      "    \"use_cache\": true,\n",
      "    \"vocab_size\": 30522\n",
      "  },\n",
      "  \"encoder\": {\n",
      "    \"_name_or_path\": \"bert-base-uncased\",\n",
      "    \"add_cross_attention\": false,\n",
      "    \"architectures\": [\n",
      "      \"BertForMaskedLM\"\n",
      "    ],\n",
      "    \"attention_probs_dropout_prob\": 0.1,\n",
      "    \"bad_words_ids\": null,\n",
      "    \"bos_token_id\": null,\n",
      "    \"chunk_size_feed_forward\": 0,\n",
      "    \"classifier_dropout\": null,\n",
      "    \"decoder_start_token_id\": null,\n",
      "    \"diversity_penalty\": 0.0,\n",
      "    \"do_sample\": false,\n",
      "    \"early_stopping\": false,\n",
      "    \"encoder_no_repeat_ngram_size\": 0,\n",
      "    \"eos_token_id\": null,\n",
      "    \"finetuning_task\": null,\n",
      "    \"forced_bos_token_id\": null,\n",
      "    \"forced_eos_token_id\": null,\n",
      "    \"gradient_checkpointing\": false,\n",
      "    \"hidden_act\": \"gelu\",\n",
      "    \"hidden_dropout_prob\": 0.1,\n",
      "    \"hidden_size\": 768,\n",
      "    \"id2label\": {\n",
      "      \"0\": \"LABEL_0\",\n",
      "      \"1\": \"LABEL_1\"\n",
      "    },\n",
      "    \"initializer_range\": 0.02,\n",
      "    \"intermediate_size\": 3072,\n",
      "    \"is_decoder\": false,\n",
      "    \"is_encoder_decoder\": false,\n",
      "    \"label2id\": {\n",
      "      \"LABEL_0\": 0,\n",
      "      \"LABEL_1\": 1\n",
      "    },\n",
      "    \"layer_norm_eps\": 1e-12,\n",
      "    \"length_penalty\": 1.0,\n",
      "    \"max_length\": 20,\n",
      "    \"max_position_embeddings\": 512,\n",
      "    \"min_length\": 0,\n",
      "    \"model_type\": \"bert\",\n",
      "    \"no_repeat_ngram_size\": 0,\n",
      "    \"num_attention_heads\": 12,\n",
      "    \"num_beam_groups\": 1,\n",
      "    \"num_beams\": 1,\n",
      "    \"num_hidden_layers\": 12,\n",
      "    \"num_return_sequences\": 1,\n",
      "    \"output_attentions\": false,\n",
      "    \"output_hidden_states\": false,\n",
      "    \"output_scores\": false,\n",
      "    \"pad_token_id\": 0,\n",
      "    \"position_embedding_type\": \"absolute\",\n",
      "    \"prefix\": null,\n",
      "    \"problem_type\": null,\n",
      "    \"pruned_heads\": {},\n",
      "    \"remove_invalid_values\": false,\n",
      "    \"repetition_penalty\": 1.0,\n",
      "    \"return_dict\": true,\n",
      "    \"return_dict_in_generate\": false,\n",
      "    \"sep_token_id\": null,\n",
      "    \"task_specific_params\": null,\n",
      "    \"temperature\": 1.0,\n",
      "    \"tie_encoder_decoder\": false,\n",
      "    \"tie_word_embeddings\": true,\n",
      "    \"tokenizer_class\": null,\n",
      "    \"top_k\": 50,\n",
      "    \"top_p\": 1.0,\n",
      "    \"torch_dtype\": null,\n",
      "    \"torchscript\": false,\n",
      "    \"transformers_version\": \"4.10.0.dev0\",\n",
      "    \"type_vocab_size\": 2,\n",
      "    \"use_bfloat16\": false,\n",
      "    \"use_cache\": true,\n",
      "    \"vocab_size\": 30522\n",
      "  },\n",
      "  \"is_encoder_decoder\": true,\n",
      "  \"model_type\": \"encoder-decoder\",\n",
      "  \"torch_dtype\": \"float32\",\n",
      "  \"transformers_version\": null\n",
      "}\n",
      "\n",
      "loading weights file /home/saurabh/dir_1/shodh/Product-Comparison/models/transformer_bert_2_bert_multi_ref_870/output/checkpoint-70/pytorch_model.bin\n",
      "All model checkpoint weights were used when initializing EncoderDecoderModel.\n",
      "\n",
      "All the weights of EncoderDecoderModel were initialized from the model checkpoint at /home/saurabh/dir_1/shodh/Product-Comparison/models/transformer_bert_2_bert_multi_ref_870/output/checkpoint-70.\n",
      "If your task is similar to the task the model of the checkpoint was trained on, you can already use EncoderDecoderModel for predictions without further training.\n"
     ]
    }
   ],
   "source": [
    "model_for_pred = EncoderDecoderModel.from_pretrained(model_dir)"
   ]
  },
  {
   "cell_type": "code",
   "execution_count": 38,
   "id": "647bdc82",
   "metadata": {},
   "outputs": [
    {
     "name": "stderr",
     "output_type": "stream",
     "text": [
      "PyTorch: setting up devices\n"
     ]
    },
    {
     "name": "stdout",
     "output_type": "stream",
     "text": [
      "torch.cuda.device_count(): 1\n"
     ]
    }
   ],
   "source": [
    "training_args_for_pred = Seq2SeqTrainingArguments(\n",
    "    output_dir = \"/home/saurabh/dir_1/shodh/Product-Comparison/models/transformer_bert_2_bert_multi_ref_870/output\",\n",
    "    do_train = False,\n",
    "    do_eval = False,\n",
    "    do_predict = True,\n",
    "#     eval_accumulation_steps=20,\n",
    "    run_name = \"transformer_bert_2_bert_multi_ref_870\",\n",
    "    report_to=\"wandb\")"
   ]
  },
  {
   "cell_type": "code",
   "execution_count": 39,
   "id": "9a044548",
   "metadata": {},
   "outputs": [],
   "source": [
    "trainer_for_pred = Seq2SeqTrainer(model=model_for_pred, tokenizer=tokenizer, args=training_args_for_pred)"
   ]
  },
  {
   "cell_type": "code",
   "execution_count": 40,
   "id": "d440cd4a",
   "metadata": {},
   "outputs": [
    {
     "name": "stderr",
     "output_type": "stream",
     "text": [
      "***** Running description *****\n",
      "  Num examples = 219\n",
      "  Batch size = 20\n",
      "/home/saurabh/venvs/general_env/lib/python3.6/site-packages/transformers/trainer_pt_utils.py:378: FutureWarning: DistributedTensorGatherer is deprecated and will be removed in v5 of Transformers.\n",
      "  FutureWarning,\n"
     ]
    },
    {
     "data": {
      "text/html": [
       "\n",
       "    <div>\n",
       "      \n",
       "      <progress value='11' max='11' style='width:300px; height:20px; vertical-align: middle;'></progress>\n",
       "      [11/11 00:01]\n",
       "    </div>\n",
       "    "
      ],
      "text/plain": [
       "<IPython.core.display.HTML object>"
      ]
     },
     "metadata": {},
     "output_type": "display_data"
    }
   ],
   "source": [
    "test_loader = torch.utils.data.DataLoader(test_dataset, batch_size=20, shuffle=False)\n",
    "output = trainer_for_pred.prediction_loop(test_loader, description=\"description\")"
   ]
  },
  {
   "cell_type": "code",
   "execution_count": 41,
   "id": "1a90e06a",
   "metadata": {},
   "outputs": [
    {
     "data": {
      "text/plain": [
       "(219, 89)"
      ]
     },
     "execution_count": 41,
     "metadata": {},
     "output_type": "execute_result"
    }
   ],
   "source": [
    "prediction_output = output.predictions[0].argmax(axis=-1)\n",
    "prediction_output.shape"
   ]
  },
  {
   "cell_type": "code",
   "execution_count": 45,
   "id": "d70c6f31",
   "metadata": {},
   "outputs": [],
   "source": [
    "def id_to_text(input_ids, output_ids, prediction_ids, tokenizer):\n",
    "    tmp_dict = {}\n",
    "    tmp_dict[\"input\"] = tokenizer.decode(input_ids, skip_special_tokens=True)\n",
    "    index_array = np.where(input_ids == 102)[0]\n",
    "    if len(index_array) > 0:\n",
    "        input_ids = input_ids[:index_array[0]]\n",
    "\n",
    "#     tmp_dict[\"input_ids\"] = input_ids[1:].tolist()\n",
    "    \n",
    "    index_array = np.where(output_ids == -100)[0]\n",
    "    if len(index_array) > 0:\n",
    "        output_ids = output_ids[:index_array[0]]\n",
    "        \n",
    "    index_array = np.where(prediction_ids == 102)[0]\n",
    "    if len(index_array) > 0:\n",
    "        prediction_ids = prediction_ids[:index_array[0]]\n",
    "\n",
    "    tmp_dict[\"gt_output\"] = tokenizer.decode(output_ids, skip_special_tokens=True)\n",
    "#     tmp_dict[\"gt_output_ids\"] = output_ids[1:-1].tolist()\n",
    "    tmp_dict[\"prediction_output\"] = tokenizer.decode(prediction_ids, skip_special_tokens=True)\n",
    "#     tmp_dict[\"prediction_output_ids\"] = prediction_ids.tolist()\n",
    "    return tmp_dict"
   ]
  },
  {
   "cell_type": "code",
   "execution_count": 46,
   "id": "b6e43e43",
   "metadata": {},
   "outputs": [],
   "source": [
    "output_stat_file = \"/home/saurabh/dir_1/shodh/Product-Comparison/models/transformer_bert_2_bert_multi_ref_870/output/output_bert_bert_multi_870.jsonl\""
   ]
  },
  {
   "cell_type": "code",
   "execution_count": 47,
   "id": "4f736951",
   "metadata": {},
   "outputs": [],
   "source": [
    "with open(output_stat_file, \"w\") as out_f:\n",
    "    for index in range(len(prediction_output)):\n",
    "        input_ids = test_dataset[index][\"input_ids\"]\n",
    "        output_ids = test_dataset[index][\"labels\"]\n",
    "        prediction_ids = prediction_output[index]\n",
    "\n",
    "        tmp_dict = id_to_text(input_ids, output_ids, prediction_ids, tokenizer)\n",
    "        out_f.write(json.dumps(tmp_dict)+\"\\n\")"
   ]
  },
  {
   "cell_type": "code",
   "execution_count": null,
   "id": "16d51136",
   "metadata": {},
   "outputs": [],
   "source": []
  },
  {
   "cell_type": "code",
   "execution_count": null,
   "id": "dbc31205",
   "metadata": {},
   "outputs": [],
   "source": []
  },
  {
   "cell_type": "code",
   "execution_count": 232,
   "id": "4e20cb6b",
   "metadata": {},
   "outputs": [],
   "source": [
    "file_name = \"/home/saurabh/dir_1/shodh/Product-Comparison/data/v3_dataset/13_transformer_encoder_decoder/output_bert_bert_200.jsonl\""
   ]
  },
  {
   "cell_type": "code",
   "execution_count": 48,
   "id": "e941a0b8",
   "metadata": {},
   "outputs": [],
   "source": [
    "input_list = []\n",
    "pred_list = []\n",
    "ref_list = []\n",
    "\n",
    "input_id_list = []\n",
    "pred_id_list = []\n",
    "ref_id_list = []\n",
    "\n",
    "with open(output_stat_file, \"r\") as in_f:\n",
    "    for line in in_f:\n",
    "        tmp_dict = json.loads(line)\n",
    "        input_list.append(tmp_dict[\"input\"])\n",
    "#         input_id_list.append(tmp_dict[\"input_ids\"])\n",
    "        pred_list.append(tmp_dict[\"prediction_output\"])\n",
    "#         pred_id_list.append(tmp_dict[\"prediction_output_ids\"])\n",
    "        ref_list.append([tmp_dict[\"gt_output\"]])\n",
    "#         ref_id_list.append([tmp_dict[\"gt_output_ids\"]])"
   ]
  },
  {
   "cell_type": "code",
   "execution_count": 49,
   "id": "ebc57d81",
   "metadata": {},
   "outputs": [],
   "source": [
    "assert len(input_list) == len(pred_list) == len(ref_list)"
   ]
  },
  {
   "cell_type": "code",
   "execution_count": 50,
   "id": "68ebd87e",
   "metadata": {},
   "outputs": [],
   "source": [
    "import datasets"
   ]
  },
  {
   "cell_type": "code",
   "execution_count": 51,
   "id": "945dee29",
   "metadata": {},
   "outputs": [],
   "source": [
    "sari_metric = datasets.load_metric(\"sari\")"
   ]
  },
  {
   "cell_type": "code",
   "execution_count": 52,
   "id": "eaaeea6c",
   "metadata": {},
   "outputs": [],
   "source": [
    "output_score = sari_metric.compute(sources=input_list, predictions=pred_list, references=ref_list)"
   ]
  },
  {
   "cell_type": "code",
   "execution_count": 53,
   "id": "aabb7b7d",
   "metadata": {},
   "outputs": [
    {
     "data": {
      "text/plain": [
       "{'sari': 54.871759800169585}"
      ]
     },
     "execution_count": 53,
     "metadata": {},
     "output_type": "execute_result"
    }
   ],
   "source": [
    "output_score"
   ]
  },
  {
   "cell_type": "code",
   "execution_count": 241,
   "id": "07480681",
   "metadata": {},
   "outputs": [],
   "source": [
    "from evaluation.sari_hook import get_sari_score"
   ]
  },
  {
   "cell_type": "code",
   "execution_count": 245,
   "id": "c48950a7",
   "metadata": {},
   "outputs": [],
   "source": [
    "sari_list = []\n",
    "keep_list = []\n",
    "addition_list = []\n",
    "deletion_list = []"
   ]
  },
  {
   "cell_type": "code",
   "execution_count": 246,
   "id": "d5fba4a3",
   "metadata": {},
   "outputs": [],
   "source": [
    "for i in range(len(input_id_list)):\n",
    "    output = get_sari_score(source_ids=input_id_list[i], prediction_ids=pred_id_list[i], list_of_targets=ref_id_list[i])\n",
    "    sari_list.append(output[0])\n",
    "    keep_list.append(output[1])\n",
    "    addition_list.append(output[2])\n",
    "    deletion_list.append(output[3])"
   ]
  },
  {
   "cell_type": "code",
   "execution_count": 247,
   "id": "07f632f6",
   "metadata": {},
   "outputs": [
    {
     "data": {
      "text/plain": [
       "1.0"
      ]
     },
     "execution_count": 247,
     "metadata": {},
     "output_type": "execute_result"
    }
   ],
   "source": [
    "sum(sari_list)/len(sari_list)"
   ]
  },
  {
   "cell_type": "code",
   "execution_count": 248,
   "id": "253dc51d",
   "metadata": {},
   "outputs": [
    {
     "data": {
      "text/plain": [
       "1.0"
      ]
     },
     "execution_count": 248,
     "metadata": {},
     "output_type": "execute_result"
    }
   ],
   "source": [
    "np.mean(sari_list)"
   ]
  },
  {
   "cell_type": "code",
   "execution_count": null,
   "id": "293f588f",
   "metadata": {},
   "outputs": [],
   "source": []
  }
 ],
 "metadata": {
  "kernelspec": {
   "display_name": "Python 3",
   "language": "python",
   "name": "python3"
  },
  "language_info": {
   "codemirror_mode": {
    "name": "ipython",
    "version": 3
   },
   "file_extension": ".py",
   "mimetype": "text/x-python",
   "name": "python",
   "nbconvert_exporter": "python",
   "pygments_lexer": "ipython3",
   "version": "3.6.9"
  }
 },
 "nbformat": 4,
 "nbformat_minor": 5
}
